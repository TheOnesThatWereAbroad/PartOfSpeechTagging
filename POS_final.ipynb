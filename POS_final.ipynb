{
 "cells": [
  {
   "cell_type": "markdown",
   "metadata": {
    "colab_type": "text",
    "id": "view-in-github"
   },
   "source": [
    "<a href=\"https://colab.research.google.com/github/TheOnesThatWereAbroad/Assignment1/blob/main/POS_tagging.ipynb\" target=\"_parent\"><img src=\"https://colab.research.google.com/assets/colab-badge.svg\" alt=\"Open In Colab\"/></a>"
   ]
  },
  {
   "cell_type": "markdown",
   "metadata": {
    "id": "tc8x9pA00Sfd"
   },
   "source": [
    "# Assignment 1 - POS tagging"
   ]
  },
  {
   "cell_type": "code",
   "execution_count": 58,
   "metadata": {
    "id": "jHhrkDf2kqzg"
   },
   "outputs": [],
   "source": [
    "import os\n",
    "import numpy as np\n",
    "import matplotlib.pyplot as plt\n",
    "import pandas as pd\n",
    "\n",
    "import tensorflow as tf\n",
    "from tensorflow import keras\n",
    "from tensorflow.keras import layers\n",
    "import tensorflow.keras.backend as K\n",
    "import keras_tuner as kt\n",
    "from sklearn.metrics import confusion_matrix, ConfusionMatrixDisplay, f1_score\n",
    "\n",
    "from data_input import DataInput\n",
    "from text_vectorizer import TextVectorizer, TargetVectorizer"
   ]
  },
  {
   "cell_type": "markdown",
   "metadata": {
    "id": "jx2qo48Ikqzi"
   },
   "source": [
    "## 1. Build a dataset"
   ]
  },
  {
   "cell_type": "markdown",
   "metadata": {
    "id": "IN34sX55kqzi"
   },
   "source": [
    "### 1.1 Dataset preparation\n",
    "For this experiment, the [Dependency Parsed Treebank](https://www.nltk.org/nltk_data/) dataset is used.\n",
    "Notice that each document is slitted into sentences, so the dimensionality of the data is more than 199 (total number of documents in the dataset)"
   ]
  },
  {
   "cell_type": "code",
   "execution_count": 2,
   "metadata": {
    "colab": {
     "base_uri": "https://localhost:8080/"
    },
    "id": "eRQ_hwv9mHtK",
    "outputId": "0febf6c3-6ff8-43fd-d96d-79b88bee09b4"
   },
   "outputs": [
    {
     "name": "stdout",
     "output_type": "stream",
     "text": [
      "Train set size: 1957\n",
      "Dev set size: 979\n",
      "Test set size: 978\n"
     ]
    }
   ],
   "source": [
    "# download the dataset and split it into train, dev and test sets\n",
    "dataset = DataInput(\n",
    "        data_url=\"https://raw.githubusercontent.com/nltk/nltk_data/gh-pages/packages/corpora/dependency_treebank.zip\",\n",
    "        train_size=0.50,\n",
    "        dev_size=0.25,\n",
    "        dataset_folder=os.path.join(os.getcwd(), \"dataset\"),\n",
    "        split_into_sentences=True,\n",
    "        shuffle=False\n",
    "    )"
   ]
  },
  {
   "cell_type": "markdown",
   "metadata": {
    "id": "SGQatFzWkqzk"
   },
   "source": [
    "Pre-processing is always an important step with which start. There are a lot of pre-processing steps that we can consider, but for this experiment the only pre-processing operation performed is:\n",
    "- **to lower**, in part-of-speech tagging scenario casing of the input tokens is crucial to find the correspondent token in the embedding vocabulary"
   ]
  },
  {
   "cell_type": "code",
   "execution_count": 3,
   "metadata": {
    "id": "YbVR94oskqzk"
   },
   "outputs": [],
   "source": [
    "# do preprocessing for train, validation and test sets\n",
    "dataset.preprocessing(\"train\", to_lower=True)\n",
    "dataset.preprocessing(\"dev\", to_lower=True)\n",
    "dataset.preprocessing(\"test\", to_lower=True)\n",
    "\n",
    "# separate inputs and targets\n",
    "X_train, y_train = dataset.train\n",
    "X_dev, y_dev = dataset.dev\n",
    "X_test, y_test = dataset.test"
   ]
  },
  {
   "cell_type": "code",
   "execution_count": 4,
   "metadata": {
    "colab": {
     "base_uri": "https://localhost:8080/"
    },
    "id": "lxfgDx0jrnqV",
    "outputId": "21f2b3a5-7ac1-4f6d-d6d2-39a681a5d0b7"
   },
   "outputs": [
    {
     "data": {
      "text/plain": [
       "(1957,)"
      ]
     },
     "execution_count": 4,
     "metadata": {},
     "output_type": "execute_result"
    }
   ],
   "source": [
    "dataset.train[0].shape"
   ]
  },
  {
   "cell_type": "markdown",
   "metadata": {
    "id": "IPv-M1xEmHtM"
   },
   "source": [
    "### 1.2 Dataset analysis\n",
    "Let's take a look at the dataset, to inspect the distribution of the POS tags"
   ]
  },
  {
   "cell_type": "code",
   "execution_count": 4,
   "metadata": {
    "id": "Oh9Jg3ePkqzm"
   },
   "outputs": [],
   "source": [
    "def get_occurences(data, ordered=False, exclude=[]):\n",
    "    \"\"\"\n",
    "    Get the occurences of each token in the data.\n",
    "\n",
    "    Parameters\n",
    "    ----------\n",
    "    data : list of np arrays, representing the data to get the occurences from\n",
    "    ordered : bool, if True, the occurences will be returned in descending order\n",
    "    exclude : list of strings, tokens that should not be included in the occurences\n",
    "\n",
    "    Returns\n",
    "    -------\n",
    "    occurences : dict, mapping each token to the number of occurences\n",
    "    \"\"\"\n",
    "    tokens, counts = np.unique(np.concatenate(data), return_counts=True)\n",
    "    occurences = dict(zip(tokens, counts))\n",
    "\n",
    "    if len(exclude) > 0:\n",
    "        for token in exclude:\n",
    "            if token in occurences:\n",
    "                del occurences[token]\n",
    "\n",
    "    if ordered:\n",
    "        occurences = dict(sorted(occurences.items(), key=lambda x: x[1], reverse=True))\n",
    "    return occurences\n",
    "\n",
    "# get the occurences of each POS tag in the three sets \n",
    "train_tags_occ = get_occurences(y_train, ordered=True, exclude=[])\n",
    "dev_tags_occ = get_occurences(y_dev, exclude=[])\n",
    "test_tags_occ = get_occurences(y_test, exclude=[])\n",
    "\n",
    "# build a matrix of the occurences of size (n_tags, 3)\n",
    "tags_occ = np.array([[v, dev_tags_occ[k], test_tags_occ[k]] if k in dev_tags_occ and k in test_tags_occ else [v, dev_tags_occ[k], 0] if k in dev_tags_occ else [v, 0, test_tags_occ[k]] if k in test_tags_occ else [v, 0, 0] for k, v in train_tags_occ.items()])"
   ]
  },
  {
   "cell_type": "code",
   "execution_count": 5,
   "metadata": {
    "colab": {
     "base_uri": "https://localhost:8080/",
     "height": 339
    },
    "id": "aZh5QAJIkqzn",
    "outputId": "ace7cf2d-8066-446f-9bcf-e1c5e7dd5b94"
   },
   "outputs": [
    {
     "data": {
      "text/plain": [
       "[]"
      ]
     },
     "execution_count": 5,
     "metadata": {},
     "output_type": "execute_result"
    },
    {
     "data": {
      "image/png": "[encoded data removed]",
      "text/plain": [
       "<Figure size 1656x576 with 1 Axes>"
      ]
     },
     "metadata": {
      "needs_background": "light"
     },
     "output_type": "display_data"
    }
   ],
   "source": [
    "# plot bar chart of the occurences of each POS tag\n",
    "fig, ax = plt.subplots(1, 1, figsize=(23, 8))\n",
    "tags = list(train_tags_occ.keys())\n",
    "ax.bar(tags, tags_occ[:, 1], width=0.3, align='edge', label='dev')\n",
    "ax.bar(tags, tags_occ[:, 2], width=-0.6, align='edge', label='test')\n",
    "ax.bar(tags, tags_occ[:, 0], width=-0.3, align='edge', label='train')\n",
    "ax.set_xticks(tags)\n",
    "ax.set_xlabel('Tags')\n",
    "ax.set_ylabel('Occurences')\n",
    "ax.set_title(\"Occurences of POS tags\")\n",
    "ax.legend()\n",
    "plt.plot()"
   ]
  },
  {
   "cell_type": "code",
   "execution_count": 6,
   "metadata": {
    "colab": {
     "base_uri": "https://localhost:8080/"
    },
    "id": "QYCqD_Zpkqzo",
    "outputId": "96986378-9d75-4f9e-b123-4205d37f49ed"
   },
   "outputs": [
    {
     "name": "stdout",
     "output_type": "stream",
     "text": [
      "The following tags (from the train set) are not in the dev set: {'SYM'}\n",
      "The following tags (from the train set) are not in the test set: {'FW', 'SYM', 'LS', 'UH'}\n"
     ]
    }
   ],
   "source": [
    "# analyze the difference between the presence of the POS tags in the train, dev and test sets\n",
    "train_tags_not_dev = set(train_tags_occ.keys()) - set(dev_tags_occ.keys())\n",
    "train_tags_not_test = set(train_tags_occ.keys()) - set(test_tags_occ.keys())\n",
    "dev_tags_not_train = set(dev_tags_occ.keys()) - set(train_tags_occ.keys())\n",
    "test_tags_not_train = set(test_tags_occ.keys()) - set(train_tags_occ.keys())\n",
    "\n",
    "if(len(train_tags_not_dev) > 0):\n",
    "    print(\"The following tags (from the train set) are not in the dev set:\", train_tags_not_dev)\n",
    "if(len(train_tags_not_test) > 0):\n",
    "    print(\"The following tags (from the train set) are not in the test set:\", train_tags_not_test)\n",
    "if(len(dev_tags_not_train) > 0):\n",
    "    print(\"The following tags (from the dev set) are not in the train set:\", dev_tags_not_train)\n",
    "if(len(test_tags_not_train) > 0):\n",
    "    print(\"The following tags (from the test set) are not in the train set:\", test_tags_not_train)"
   ]
  },
  {
   "cell_type": "markdown",
   "metadata": {
    "id": "mkIYSNxukqzo"
   },
   "source": [
    "### 1.3 GloVe embeddings vectorization\n",
    "The next step consists in downloading a pre-trained embedding model, namely GloVe. It is a techniques that tries to encoded global semantic properties based on the co-occurrence matrix.\n",
    "Three different dimensional space versions are available: 50, 100, 200.\n",
    "\n",
    "From the choosen embedding, a starting vocabulary is built.\n",
    "Then this vocabulary is enriched with the embeddings computed for the OOV words."
   ]
  },
  {
   "cell_type": "code",
   "execution_count": 7,
   "metadata": {
    "colab": {
     "base_uri": "https://localhost:8080/"
    },
    "id": "MxU2LR1Bkqzp",
    "outputId": "bd61af6e-d75a-4ba9-8313-5f50379df756"
   },
   "outputs": [
    {
     "name": "stdout",
     "output_type": "stream",
     "text": [
      "Parsing the training set...\n",
      "Generated embeddings for 358 OOV words.\n",
      "\n",
      "Parsing the validation set...\n",
      "Generated embeddings for 131 OOV words.\n",
      "\n",
      "Parsing the test set...\n",
      "Generated embeddings for 187 OOV words.\n"
     ]
    }
   ],
   "source": [
    "# initialize the vectorizer for the input tokens to convert them to embedding vectors\n",
    "# and build the vocabulary V1 from the glove embeddings\n",
    "text_vectorizer = TextVectorizer(\n",
    "    glove_url=\"http://nlp.stanford.edu/data/glove.6B.zip\",\n",
    "    max_tokens=20000,\n",
    "    embedding_dim=50,\n",
    "    embedding_folder=os.path.join(os.getcwd(), \"glove\"),\n",
    "    max_size=dataset.max_size\n",
    ")\n",
    "\n",
    "# compute embeddings for terms (OOV1) in the training set that are out of vocabulary V1 and add them: V2=V1+OOV1\n",
    "print(\"Parsing the training set...\")\n",
    "text_vectorizer.adapt(X_train)\n",
    "# use the vocabulary V2 to convert the training set inputs into embedding vectors\n",
    "X_train = text_vectorizer.transform(X_train)\n",
    "\n",
    "# compute embeddings for terms (OOV2) in the validation set that are out of vocabulary V2 and add them: V3=V2+OOV2\n",
    "print(\"\\nParsing the validation set...\")\n",
    "text_vectorizer.adapt(X_dev)\n",
    "# use the vocabulary V3 to convert the validation set inputs into embedding vectors\n",
    "X_dev = text_vectorizer.transform(X_dev)\n",
    "\n",
    "# compute embeddings for terms (OOV3) in the test set that are out of vocabulary V3 and add them: V4=V3+OOV3\n",
    "print(\"\\nParsing the test set...\")\n",
    "text_vectorizer.adapt(X_test)\n",
    "# use the vocabulary V4 to convert the test set inputs into embedding vectors\n",
    "X_test = text_vectorizer.transform(X_test)"
   ]
  },
  {
   "cell_type": "code",
   "execution_count": 8,
   "metadata": {
    "colab": {
     "base_uri": "https://localhost:8080/"
    },
    "id": "NwDnKWdckqzp",
    "outputId": "4f51b770-b9de-4600-fde1-527aa77aea8f"
   },
   "outputs": [
    {
     "name": "stdout",
     "output_type": "stream",
     "text": [
      "Input shape: (1957, 249, 50)\n"
     ]
    }
   ],
   "source": [
    "print(f\"Input shape: {X_train.shape}\")"
   ]
  },
  {
   "cell_type": "markdown",
   "metadata": {
    "id": "tiDdPTFrkqzp"
   },
   "source": [
    "### 1.4 One-hot encoding of the targets\n",
    "Each POS tag in each set is converted using the one-hot representation"
   ]
  },
  {
   "cell_type": "code",
   "execution_count": 9,
   "metadata": {
    "id": "C37qdVk7kqzq"
   },
   "outputs": [],
   "source": [
    "# initialize the vectorizer for the target tags to convert them into one-hot representation\n",
    "target_vectorizer = TargetVectorizer(max_size=dataset.max_size)\n",
    "\n",
    "# adapt the target vectorizer with only the training set: we do not consider possible targets that are not seen in training set but they are in the dev/test set\n",
    "target_vectorizer.adapt(y_train)  \n",
    "\n",
    "# convert the targets into one-hot representation for each splitting set\n",
    "y_train = target_vectorizer.transform(y_train)\n",
    "y_dev = target_vectorizer.transform(y_dev)\n",
    "y_test = target_vectorizer.transform(y_test)\n",
    "\n",
    "n_classes = y_train[0].shape[1]"
   ]
  },
  {
   "cell_type": "code",
   "execution_count": 10,
   "metadata": {
    "colab": {
     "base_uri": "https://localhost:8080/"
    },
    "id": "qnH7e4okkqzq",
    "outputId": "1f50c335-5ef6-47d6-cbd5-de1efa446156"
   },
   "outputs": [
    {
     "name": "stdout",
     "output_type": "stream",
     "text": [
      "Target shape: (1957, 249, 45)\n",
      "Number of classes for one-hot encoded targets: 45\n"
     ]
    }
   ],
   "source": [
    "print(f\"Target shape: {y_train.shape}\")\n",
    "print(f\"Number of classes for one-hot encoded targets: {n_classes}\")"
   ]
  },
  {
   "cell_type": "markdown",
   "metadata": {
    "id": "khILeN7fkqzq"
   },
   "source": [
    "## 2. Training"
   ]
  },
  {
   "cell_type": "markdown",
   "metadata": {
    "id": "GZfQ0dECkqzr"
   },
   "source": [
    "### 2.1 Models definition\n",
    "We are now ready to define our neural network architectures! \n",
    "Four variants will be evaluated:\n",
    "- Bidirectional LSMT + Dense layer\n",
    "- Bidirectional GRU + Dense layer\n",
    "- Two Bidirectional LSMT + Dense layer\n",
    "- Bidirectional LSMT + Two Dense layer"
   ]
  },
  {
   "cell_type": "code",
   "execution_count": 11,
   "metadata": {},
   "outputs": [],
   "source": [
    "def build_bilstm_model(hp):\n",
    "    \"\"\"\n",
    "    Build th Bidirectional LSMT + Dense layer model\n",
    "    \"\"\"\n",
    "    model = keras.Sequential()\n",
    "    model.add(layers.Masking(name='padding_masking', mask_value=0., input_shape=X_train.shape[1:]))\n",
    "    model.add(layers.Bidirectional(layers.LSTM(hp.Choice('units', [64, 128, 256]), return_sequences=True, kernel_regularizer=keras.regularizers.l2(0.01)), name=\"bilstm_1\"))\n",
    "    model.add(layers.Dropout(hp.Choice('dropout', [0.0, 0.1, 0.2, 0.3, 0.4, 0.5])))\n",
    "    model.add(layers.Dense(n_classes, activation=\"softmax\", name=\"dense_1\"))\n",
    "    model.compile(loss=\"categorical_crossentropy\", \n",
    "                  optimizer=keras.optimizers.Adam(hp.Choice('learning_rate', values=[1e-2, 1e-3, 1e-4])),\n",
    "                  metrics=['accuracy'])\n",
    "    return model\n",
    "\n",
    "def build_bigru_model(hp):\n",
    "    \"\"\"\n",
    "    Build th Bidirectional GRU + Dense layer model\n",
    "    \"\"\"\n",
    "    model = keras.Sequential()\n",
    "    model.add(layers.Masking(name='padding_masking', mask_value=0., input_shape=X_train.shape[1:]))\n",
    "    model.add(layers.Bidirectional(layers.GRU(hp.Choice('units', [64, 128, 256]), return_sequences=True, kernel_regularizer=keras.regularizers.l2(0.01)), name=\"gru_1\"))\n",
    "    model.add(layers.Dropout(hp.Choice('dropout', [0.0, 0.1, 0.2, 0.3, 0.4, 0.5])))\n",
    "    model.add(layers.Dense(n_classes, activation=\"softmax\", name=\"dense_1\"))\n",
    "    model.compile(loss=\"categorical_crossentropy\", \n",
    "                  optimizer=keras.optimizers.Adam(hp.Choice('learning_rate', values=[1e-2, 1e-3, 1e-4])),\n",
    "                  metrics=['accuracy'])\n",
    "    return model\n",
    "\n",
    "def build_two_bilstm_model(hp):\n",
    "    \"\"\"\n",
    "    Build the Two Bidirectional LSTM + Dense layer model\n",
    "    \"\"\"\n",
    "    model = keras.Sequential()\n",
    "    model.add(layers.Masking(name='padding_masking', mask_value=0., input_shape=X_train.shape[1:]))\n",
    "    model.add(layers.Bidirectional(layers.LSTM(hp.Choice('units1', [64, 128, 256]), return_sequences=True, kernel_regularizer=keras.regularizers.l2(0.01)), name=\"bilstm_1\"))\n",
    "    model.add(layers.Bidirectional(layers.LSTM(hp.Choice('units2', [64, 128, 256]), return_sequences=True, kernel_regularizer=keras.regularizers.l2(0.01)), name=\"bilstm_2\"))\n",
    "    model.add(layers.Dropout(hp.Choice('dropout', [0.0, 0.1, 0.2, 0.3, 0.4, 0.5])))\n",
    "    model.add(layers.Dense(n_classes, activation=\"softmax\", name=\"dense_1\"))\n",
    "    model.compile(loss=\"categorical_crossentropy\", \n",
    "                  optimizer=keras.optimizers.Adam(hp.Choice('learning_rate', values=[1e-2, 1e-3, 1e-4])),\n",
    "                  metrics=['accuracy'])\n",
    "    return model\n",
    "\n",
    "def build_bilstm_two_dense_model(hp):\n",
    "    model = keras.Sequential()\n",
    "    model.add(layers.Masking(name='padding_masking', mask_value=0., input_shape=X_train.shape[1:]))\n",
    "    model.add(layers.Bidirectional(layers.LSTM(hp.Choice('units1', [64, 128, 256]), return_sequences=True, kernel_regularizer=keras.regularizers.l2(0.01)), name=\"bilstm_1\"))\n",
    "    model.add(layers.Dropout(hp.Choice('dropout1', [0.0, 0.1, 0.2, 0.3, 0.4, 0.5])))\n",
    "    model.add(layers.Dense(hp.Choice('units2', [64, 128, 256]), activation=\"relu\", name=\"dense_1\", kernel_regularizer=keras.regularizers.l2(0.01)))\n",
    "    model.add(layers.Dropout(hp.Choice('dropout2', [0.0, 0.1, 0.2, 0.3, 0.4, 0.5])))\n",
    "    model.add(layers.Dense(n_classes, activation=\"softmax\", name=\"dense_2\"))\n",
    "    model.compile(loss=\"categorical_crossentropy\", \n",
    "                  optimizer=keras.optimizers.Adam(hp.Choice('learning_rate', values=[1e-2, 1e-3, 1e-4])),\n",
    "                  metrics=['accuracy'])\n",
    "    return model"
   ]
  },
  {
   "cell_type": "markdown",
   "metadata": {},
   "source": [
    "### 2.2 Hyperparameter tuning\n",
    "Let's do a tuning of the hyperparameters for each variant of the architecture"
   ]
  },
  {
   "cell_type": "code",
   "execution_count": 12,
   "metadata": {},
   "outputs": [],
   "source": [
    "epochs_tuning = 50\n",
    "batch_size_tuning = 16\n",
    "callbacks_tuning = [keras.callbacks.EarlyStopping(monitor='val_accuracy', patience=5, restore_best_weights=True)]"
   ]
  },
  {
   "cell_type": "markdown",
   "metadata": {},
   "source": [
    "Model 1: Bidirectional LSMT + Dense layer variant tuning\n"
   ]
  },
  {
   "cell_type": "code",
   "execution_count": 25,
   "metadata": {},
   "outputs": [
    {
     "name": "stdout",
     "output_type": "stream",
     "text": [
      "Trial 74 Complete [00h 01m 45s]\n",
      "val_accuracy: 0.7654891610145569\n",
      "\n",
      "Best val_accuracy So Far: 0.7734192609786987\n",
      "Total elapsed time: 00h 34m 26s\n",
      "INFO:tensorflow:Oracle triggered exit\n",
      "The hyperparameter search is complete.\n",
      "The optimal number of units in the LSTM layer is 64.\n",
      "The optimal rate for Dropout layer is 0.0.\n",
      "The optimal learning rate for the optimizer is 0.01.\n"
     ]
    }
   ],
   "source": [
    "# tune the hyperparameters of the first model\n",
    "tuner_bilstm = kt.Hyperband(build_bilstm_model,\n",
    "                     objective=kt.Objective(\"val_accuracy\", direction=\"max\"),\n",
    "                     max_epochs=epochs_tuning,\n",
    "                     #overwrite=True,\n",
    "                     directory=\"tuner\",\n",
    "                     project_name=\"tuner_bilstm\")\n",
    "tuner_bilstm.search(X_train, y_train, epochs=epochs_tuning, batch_size=batch_size_tuning, validation_data=(X_dev, y_dev), callbacks=callbacks_tuning)\n",
    "best_hps_bilstm = tuner_bilstm.get_best_hyperparameters()[0]\n",
    "\n",
    "print(f\"The hyperparameter search is complete.\\n\" \n",
    "      f\"The optimal number of units in the LSTM layer is {best_hps_bilstm.get('units')}.\\n\" \n",
    "      f\"The optimal rate for Dropout layer is {best_hps_bilstm.get('dropout')}.\\n\" \n",
    "      f\"The optimal learning rate for the optimizer is {best_hps_bilstm.get('learning_rate')}.\")"
   ]
  },
  {
   "cell_type": "markdown",
   "metadata": {},
   "source": [
    "Model 2: Bidirectional GRU + Dense layer variant tuning"
   ]
  },
  {
   "cell_type": "code",
   "execution_count": 26,
   "metadata": {},
   "outputs": [
    {
     "name": "stdout",
     "output_type": "stream",
     "text": [
      "Trial 77 Complete [00h 00m 55s]\n",
      "val_accuracy: 0.5350069999694824\n",
      "\n",
      "Best val_accuracy So Far: 0.7719350457191467\n",
      "Total elapsed time: 00h 35m 28s\n",
      "INFO:tensorflow:Oracle triggered exit\n",
      "The hyperparameter search is complete.\n",
      "The optimal number of units in the GRU layer is 64.\n",
      "The optimal rate for Dropout layer is 0.3.\n",
      "The optimal learning rate for the optimizer is 0.01.\n"
     ]
    }
   ],
   "source": [
    "# tune the hyperparameters of the second model\n",
    "tuner_bigru = kt.Hyperband(build_bigru_model,\n",
    "                     objective=kt.Objective(\"val_accuracy\", direction=\"max\"),\n",
    "                     max_epochs=epochs_tuning,\n",
    "                     #overwrite=True,\n",
    "                     directory=\"tuner\",\n",
    "                     project_name=\"tuner_bigru\")\n",
    "tuner_bigru.search(X_train, y_train, epochs=epochs_tuning, batch_size=batch_size_tuning, validation_data=(X_dev, y_dev), callbacks=callbacks_tuning)\n",
    "best_hps_bigru = tuner_bigru.get_best_hyperparameters()[0]\n",
    "\n",
    "print(f\"The hyperparameter search is complete.\\n\" \n",
    "      f\"The optimal number of units in the GRU layer is {best_hps_bigru.get('units')}.\\n\" \n",
    "      f\"The optimal rate for Dropout layer is {best_hps_bigru.get('dropout')}.\\n\" \n",
    "      f\"The optimal learning rate for the optimizer is {best_hps_bigru.get('learning_rate')}.\")"
   ]
  },
  {
   "cell_type": "markdown",
   "metadata": {},
   "source": [
    "Model 3: Two Bidirectional LSMT + Dense layer variant tuning"
   ]
  },
  {
   "cell_type": "code",
   "execution_count": 28,
   "metadata": {},
   "outputs": [
    {
     "name": "stdout",
     "output_type": "stream",
     "text": [
      "Trial 90 Complete [00h 00m 55s]\n",
      "val_accuracy: 0.1872270107269287\n",
      "\n",
      "Best val_accuracy So Far: 0.7026419639587402\n",
      "Total elapsed time: 01h 44m 07s\n",
      "INFO:tensorflow:Oracle triggered exit\n",
      "The hyperparameter search is complete.\n",
      "The optimal number of units in the first LSTM layer is 128.\n",
      "The optimal number of units in the second LSTM layer is 256.\n",
      "The optimal rate for Dropout layer is 0.5.\n",
      "The optimal learning rate for the optimizer is 0.001.\n"
     ]
    }
   ],
   "source": [
    "# tune the hyperparameters of the third model\n",
    "tuner_two_bilstm = kt.Hyperband(build_two_bilstm_model,\n",
    "                     objective=kt.Objective(\"val_accuracy\", direction=\"max\"),\n",
    "                     max_epochs=epochs_tuning,\n",
    "                     #overwrite=True,\n",
    "                     directory=\"tuner\",\n",
    "                     project_name=\"tuner_two_bilstm\")\n",
    "tuner_two_bilstm.search(X_train, y_train, epochs=epochs_tuning, batch_size=batch_size_tuning, validation_data=(X_dev, y_dev), callbacks=callbacks_tuning)\n",
    "best_hps_two_bilstm = tuner_two_bilstm.get_best_hyperparameters()[0]\n",
    "\n",
    "print(f\"The hyperparameter search is complete.\\n\" \n",
    "      f\"The optimal number of units in the first LSTM layer is {best_hps_two_bilstm.get('units1')}.\\n\" \n",
    "      f\"The optimal number of units in the second LSTM layer is {best_hps_two_bilstm.get('units2')}.\\n\" \n",
    "      f\"The optimal rate for Dropout layer is {best_hps_two_bilstm.get('dropout')}.\\n\" \n",
    "      f\"The optimal learning rate for the optimizer is {best_hps_two_bilstm.get('learning_rate')}.\")"
   ]
  },
  {
   "cell_type": "markdown",
   "metadata": {},
   "source": [
    "Model 4: Bidirectional LSMT + two Dense layer variant tuning"
   ]
  },
  {
   "cell_type": "code",
   "execution_count": 17,
   "metadata": {},
   "outputs": [
    {
     "name": "stdout",
     "output_type": "stream",
     "text": [
      "Trial 90 Complete [00h 00m 37s]\n",
      "val_accuracy: 0.1820957511663437\n",
      "\n",
      "Best val_accuracy So Far: 0.6451380252838135\n",
      "Total elapsed time: 00h 10m 26s\n",
      "INFO:tensorflow:Oracle triggered exit\n",
      "The hyperparameter search is complete.\n",
      "The optimal number of units in the LSTM layer is 64.\n",
      "The optimal rate for the first Dropout layer is 0.3.\n",
      "The optimal number of units in first densely-connected layer is 256.\n",
      "The optimal rate for the second Dropout layer is 0.5.\n",
      "The optimal learning rate for the optimizer is 0.001.\n"
     ]
    }
   ],
   "source": [
    "# tune the hyperparameters of the fourth model\n",
    "tuner_bilstm_two_dense = kt.Hyperband(build_bilstm_two_dense_model,\n",
    "                     objective=kt.Objective(\"val_accuracy\", direction=\"max\"),\n",
    "                     max_epochs=epochs_tuning,\n",
    "                     #overwrite=True,\n",
    "                     directory=\"tuner\",\n",
    "                     project_name=\"tuner_bilstm_two_dense\")\n",
    "tuner_bilstm_two_dense.search(X_train, y_train, epochs=epochs_tuning, batch_size=batch_size_tuning, validation_data=(X_dev, y_dev), callbacks=callbacks_tuning)\n",
    "best_hps_bilstm_two_dense = tuner_bilstm_two_dense.get_best_hyperparameters()[0]\n",
    "\n",
    "print(f\"The hyperparameter search is complete.\\n\" \n",
    "      f\"The optimal number of units in the LSTM layer is {best_hps_bilstm_two_dense.get('units1')}.\\n\" \n",
    "      f\"The optimal rate for the first Dropout layer is {best_hps_bilstm_two_dense.get('dropout1')}.\\n\" \n",
    "      f\"The optimal number of units in first densely-connected layer is {best_hps_bilstm_two_dense.get('units2')}.\\n\" \n",
    "      f\"The optimal rate for the second Dropout layer is {best_hps_bilstm_two_dense.get('dropout2')}.\\n\"\n",
    "      f\"The optimal learning rate for the optimizer is {best_hps_bilstm_two_dense.get('learning_rate')}.\")"
   ]
  },
  {
   "cell_type": "markdown",
   "metadata": {
    "id": "kWdZM3rskqzr"
   },
   "source": [
    "### 2.3 Model training"
   ]
  },
  {
   "cell_type": "code",
   "execution_count": 42,
   "metadata": {},
   "outputs": [],
   "source": [
    "epochs_training = 100\n",
    "batch_size_training = 32\n",
    "callbacks_training = [keras.callbacks.EarlyStopping(monitor='val_accuracy', patience=10, restore_best_weights=True)]"
   ]
  },
  {
   "cell_type": "code",
   "execution_count": 43,
   "metadata": {},
   "outputs": [],
   "source": [
    "def create_model(layers_info, compile_info):\n",
    "    \"\"\"\n",
    "    Create a Keras model given a list of layer information\n",
    "\n",
    "    Parameters\n",
    "    ----------\n",
    "    layers_info : a list of dictionaries, one for each layer\n",
    "    compile_info : dictionary containing compile information\n",
    "\n",
    "    Returns\n",
    "    -------\n",
    "    model: the built keras sequential model\n",
    "    \"\"\"\n",
    "\n",
    "    model = keras.Sequential()\n",
    "    for info in layers_info:\n",
    "        layer = info['layer_name'](**{key: value for key, value in info.items() if key != 'layer_name'})\n",
    "        model.add(layer)\n",
    "\n",
    "    # Compile\n",
    "    model.compile(**compile_info)\n",
    "\n",
    "    return model"
   ]
  },
  {
   "cell_type": "markdown",
   "metadata": {},
   "source": [
    "Model 1: Bidirectional LSMT + Dense layer variant training"
   ]
  },
  {
   "cell_type": "code",
   "execution_count": 44,
   "metadata": {},
   "outputs": [
    {
     "name": "stdout",
     "output_type": "stream",
     "text": [
      "Model: \"sequential_13\"\n",
      "_________________________________________________________________\n",
      " Layer (type)                Output Shape              Param #   \n",
      "=================================================================\n",
      " padding_masking (Masking)   (None, 249, 50)           0         \n",
      "                                                                 \n",
      " bilstm_1 (Bidirectional)    (None, 249, 128)          58880     \n",
      "                                                                 \n",
      " dropout_1 (Dropout)         (None, 249, 128)          0         \n",
      "                                                                 \n",
      " dense_1 (Dense)             (None, 249, 45)           5805      \n",
      "                                                                 \n",
      "=================================================================\n",
      "Total params: 64,685\n",
      "Trainable params: 64,685\n",
      "Non-trainable params: 0\n",
      "_________________________________________________________________\n",
      "Epoch 1/100\n",
      "62/62 [==============================] - 13s 82ms/step - loss: 0.3954 - accuracy: 0.2862 - val_loss: 0.2112 - val_accuracy: 0.4614\n",
      "Epoch 2/100\n",
      "62/62 [==============================] - 2s 27ms/step - loss: 0.1777 - accuracy: 0.5559 - val_loss: 0.1635 - val_accuracy: 0.5865\n",
      "Epoch 3/100\n",
      "62/62 [==============================] - 2s 27ms/step - loss: 0.1452 - accuracy: 0.6554 - val_loss: 0.1437 - val_accuracy: 0.6602\n",
      "Epoch 4/100\n",
      "62/62 [==============================] - 2s 28ms/step - loss: 0.1299 - accuracy: 0.6958 - val_loss: 0.1319 - val_accuracy: 0.6841\n",
      "Epoch 5/100\n",
      "62/62 [==============================] - 2s 31ms/step - loss: 0.1195 - accuracy: 0.7206 - val_loss: 0.1242 - val_accuracy: 0.7024\n",
      "Epoch 6/100\n",
      "62/62 [==============================] - 2s 29ms/step - loss: 0.1136 - accuracy: 0.7333 - val_loss: 0.1198 - val_accuracy: 0.6976\n",
      "Epoch 7/100\n",
      "62/62 [==============================] - 2s 31ms/step - loss: 0.1094 - accuracy: 0.7402 - val_loss: 0.1161 - val_accuracy: 0.7073\n",
      "Epoch 8/100\n",
      "62/62 [==============================] - 2s 31ms/step - loss: 0.1058 - accuracy: 0.7498 - val_loss: 0.1164 - val_accuracy: 0.7066\n",
      "Epoch 9/100\n",
      "62/62 [==============================] - 2s 30ms/step - loss: 0.1018 - accuracy: 0.7585 - val_loss: 0.1118 - val_accuracy: 0.7196\n",
      "Epoch 10/100\n",
      "62/62 [==============================] - 2s 30ms/step - loss: 0.0993 - accuracy: 0.7637 - val_loss: 0.1125 - val_accuracy: 0.7110\n",
      "Epoch 11/100\n",
      "62/62 [==============================] - 2s 30ms/step - loss: 0.0964 - accuracy: 0.7720 - val_loss: 0.1040 - val_accuracy: 0.7390\n",
      "Epoch 12/100\n",
      "62/62 [==============================] - 2s 29ms/step - loss: 0.0940 - accuracy: 0.7743 - val_loss: 0.1030 - val_accuracy: 0.7424\n",
      "Epoch 13/100\n",
      "62/62 [==============================] - 2s 31ms/step - loss: 0.0936 - accuracy: 0.7757 - val_loss: 0.1031 - val_accuracy: 0.7354\n",
      "Epoch 14/100\n",
      "62/62 [==============================] - 2s 33ms/step - loss: 0.0917 - accuracy: 0.7789 - val_loss: 0.0985 - val_accuracy: 0.7533\n",
      "Epoch 15/100\n",
      "62/62 [==============================] - 2s 29ms/step - loss: 0.0897 - accuracy: 0.7834 - val_loss: 0.0994 - val_accuracy: 0.7490\n",
      "Epoch 16/100\n",
      "62/62 [==============================] - 2s 29ms/step - loss: 0.0892 - accuracy: 0.7852 - val_loss: 0.0980 - val_accuracy: 0.7542\n",
      "Epoch 17/100\n",
      "62/62 [==============================] - 2s 29ms/step - loss: 0.0879 - accuracy: 0.7865 - val_loss: 0.0975 - val_accuracy: 0.7546\n",
      "Epoch 18/100\n",
      "62/62 [==============================] - 2s 29ms/step - loss: 0.0867 - accuracy: 0.7884 - val_loss: 0.0969 - val_accuracy: 0.7520\n",
      "Epoch 19/100\n",
      "62/62 [==============================] - 2s 31ms/step - loss: 0.0852 - accuracy: 0.7963 - val_loss: 0.0955 - val_accuracy: 0.7579\n",
      "Epoch 20/100\n",
      "62/62 [==============================] - 2s 31ms/step - loss: 0.0832 - accuracy: 0.7993 - val_loss: 0.0956 - val_accuracy: 0.7509\n",
      "Epoch 21/100\n",
      "62/62 [==============================] - 2s 30ms/step - loss: 0.0836 - accuracy: 0.7969 - val_loss: 0.0959 - val_accuracy: 0.7564\n",
      "Epoch 22/100\n",
      "62/62 [==============================] - 2s 30ms/step - loss: 0.0828 - accuracy: 0.8001 - val_loss: 0.0937 - val_accuracy: 0.7634\n",
      "Epoch 23/100\n",
      "62/62 [==============================] - 2s 30ms/step - loss: 0.0818 - accuracy: 0.8028 - val_loss: 0.0937 - val_accuracy: 0.7601\n",
      "Epoch 24/100\n",
      "62/62 [==============================] - 2s 32ms/step - loss: 0.0808 - accuracy: 0.8047 - val_loss: 0.0954 - val_accuracy: 0.7559\n",
      "Epoch 25/100\n",
      "62/62 [==============================] - 2s 32ms/step - loss: 0.0801 - accuracy: 0.8053 - val_loss: 0.0942 - val_accuracy: 0.7602\n",
      "Epoch 26/100\n",
      "62/62 [==============================] - 2s 31ms/step - loss: 0.0807 - accuracy: 0.8043 - val_loss: 0.0958 - val_accuracy: 0.7515\n",
      "Epoch 27/100\n",
      "62/62 [==============================] - 2s 31ms/step - loss: 0.0806 - accuracy: 0.8056 - val_loss: 0.0904 - val_accuracy: 0.7747\n",
      "Epoch 28/100\n",
      "62/62 [==============================] - 2s 30ms/step - loss: 0.0778 - accuracy: 0.8114 - val_loss: 0.0897 - val_accuracy: 0.7748\n",
      "Epoch 29/100\n",
      "62/62 [==============================] - 2s 31ms/step - loss: 0.0779 - accuracy: 0.8123 - val_loss: 0.0930 - val_accuracy: 0.7594\n",
      "Epoch 30/100\n",
      "62/62 [==============================] - 2s 30ms/step - loss: 0.0774 - accuracy: 0.8122 - val_loss: 0.0909 - val_accuracy: 0.7697\n",
      "Epoch 31/100\n",
      "62/62 [==============================] - 2s 31ms/step - loss: 0.0773 - accuracy: 0.8145 - val_loss: 0.0904 - val_accuracy: 0.7691\n",
      "Epoch 32/100\n",
      "62/62 [==============================] - 2s 30ms/step - loss: 0.0750 - accuracy: 0.8197 - val_loss: 0.0901 - val_accuracy: 0.7715\n",
      "Epoch 33/100\n",
      "62/62 [==============================] - 2s 31ms/step - loss: 0.0755 - accuracy: 0.8194 - val_loss: 0.0955 - val_accuracy: 0.7529\n",
      "Epoch 34/100\n",
      "62/62 [==============================] - 2s 32ms/step - loss: 0.0753 - accuracy: 0.8203 - val_loss: 0.0920 - val_accuracy: 0.7624\n",
      "Epoch 35/100\n",
      "62/62 [==============================] - 2s 30ms/step - loss: 0.0747 - accuracy: 0.8225 - val_loss: 0.0900 - val_accuracy: 0.7707\n",
      "Epoch 36/100\n",
      "62/62 [==============================] - 2s 31ms/step - loss: 0.0732 - accuracy: 0.8246 - val_loss: 0.0931 - val_accuracy: 0.7621\n",
      "Epoch 37/100\n",
      "62/62 [==============================] - 2s 30ms/step - loss: 0.0742 - accuracy: 0.8243 - val_loss: 0.0921 - val_accuracy: 0.7644\n",
      "Epoch 38/100\n",
      "62/62 [==============================] - 2s 31ms/step - loss: 0.0728 - accuracy: 0.8286 - val_loss: 0.0959 - val_accuracy: 0.7593\n"
     ]
    }
   ],
   "source": [
    "# first model    \n",
    "layers_info_bilstm = [\n",
    "    {\n",
    "        \"layer_name\": layers.Masking,\n",
    "        \"name\": \"padding_masking\",\n",
    "        \"mask_value\": 0.,\n",
    "        \"input_shape\": X_train.shape[1:]\n",
    "    },\n",
    "    {\n",
    "        'layer_name': layers.Bidirectional,\n",
    "        \"layer\": layers.LSTM(best_hps_bilstm.get('units'), return_sequences=True, kernel_regularizer=keras.regularizers.l2(0.01)),\n",
    "        \"name\": \"bilstm_1\",\n",
    "    },\n",
    "    {\n",
    "        \"layer_name\": layers.Dropout,\n",
    "        \"rate\": best_hps_bilstm.get('dropout'),\n",
    "        \"name\": \"dropout_1\"\n",
    "    },\n",
    "    {\n",
    "        \"layer_name\": layers.Dense,\n",
    "        \"units\": n_classes,\n",
    "        \"activation\": \"softmax\",\n",
    "        \"name\": \"dense_1\"\n",
    "    }\n",
    "]\n",
    "\n",
    "compile_info_bilstm = {\n",
    "    'optimizer': keras.optimizers.Adam(learning_rate=best_hps_bilstm.get('learning_rate')),\n",
    "    'loss': 'categorical_crossentropy',\n",
    "    'metrics' : ['accuracy']\n",
    "}\n",
    "\n",
    "model_bilstm = create_model(layers_info_bilstm, compile_info_bilstm)\n",
    "model_bilstm.summary()\n",
    "\n",
    "# start training\n",
    "history_bilstm = model_bilstm.fit(X_train, y_train, epochs=epochs_training, batch_size=batch_size_training, validation_data=(X_dev, y_dev), callbacks=callbacks_training)"
   ]
  },
  {
   "cell_type": "markdown",
   "metadata": {},
   "source": [
    "Model 2: Bidirectional GRU + Dense layer variant training"
   ]
  },
  {
   "cell_type": "code",
   "execution_count": 45,
   "metadata": {},
   "outputs": [
    {
     "name": "stdout",
     "output_type": "stream",
     "text": [
      "Model: \"sequential_14\"\n",
      "_________________________________________________________________\n",
      " Layer (type)                Output Shape              Param #   \n",
      "=================================================================\n",
      " padding_masking (Masking)   (None, 249, 50)           0         \n",
      "                                                                 \n",
      " bigru_1 (Bidirectional)     (None, 249, 128)          44544     \n",
      "                                                                 \n",
      " dropout_1 (Dropout)         (None, 249, 128)          0         \n",
      "                                                                 \n",
      " dense_1 (Dense)             (None, 249, 45)           5805      \n",
      "                                                                 \n",
      "=================================================================\n",
      "Total params: 50,349\n",
      "Trainable params: 50,349\n",
      "Non-trainable params: 0\n",
      "_________________________________________________________________\n",
      "Epoch 1/100\n",
      "62/62 [==============================] - 11s 70ms/step - loss: 0.3603 - accuracy: 0.4425 - val_loss: 0.1655 - val_accuracy: 0.6148\n",
      "Epoch 2/100\n",
      "62/62 [==============================] - 2s 31ms/step - loss: 0.1496 - accuracy: 0.6529 - val_loss: 0.1376 - val_accuracy: 0.6945\n",
      "Epoch 3/100\n",
      "62/62 [==============================] - 2s 35ms/step - loss: 0.1329 - accuracy: 0.6919 - val_loss: 0.1254 - val_accuracy: 0.7063\n",
      "Epoch 4/100\n",
      "62/62 [==============================] - 2s 33ms/step - loss: 0.1245 - accuracy: 0.7075 - val_loss: 0.1225 - val_accuracy: 0.7074\n",
      "Epoch 5/100\n",
      "62/62 [==============================] - 2s 31ms/step - loss: 0.1186 - accuracy: 0.7186 - val_loss: 0.1190 - val_accuracy: 0.7065\n",
      "Epoch 6/100\n",
      "62/62 [==============================] - 2s 29ms/step - loss: 0.1139 - accuracy: 0.7311 - val_loss: 0.1127 - val_accuracy: 0.7255\n",
      "Epoch 7/100\n",
      "62/62 [==============================] - 2s 29ms/step - loss: 0.1116 - accuracy: 0.7334 - val_loss: 0.1161 - val_accuracy: 0.7032\n",
      "Epoch 8/100\n",
      "62/62 [==============================] - 2s 30ms/step - loss: 0.1088 - accuracy: 0.7398 - val_loss: 0.1074 - val_accuracy: 0.7349\n",
      "Epoch 9/100\n",
      "62/62 [==============================] - 2s 31ms/step - loss: 0.1072 - accuracy: 0.7426 - val_loss: 0.1104 - val_accuracy: 0.7151\n",
      "Epoch 10/100\n",
      "62/62 [==============================] - 2s 31ms/step - loss: 0.1045 - accuracy: 0.7445 - val_loss: 0.1035 - val_accuracy: 0.7432\n",
      "Epoch 11/100\n",
      "62/62 [==============================] - 2s 32ms/step - loss: 0.1035 - accuracy: 0.7509 - val_loss: 0.1029 - val_accuracy: 0.7425\n",
      "Epoch 12/100\n",
      "62/62 [==============================] - 2s 30ms/step - loss: 0.1016 - accuracy: 0.7540 - val_loss: 0.1005 - val_accuracy: 0.7525\n",
      "Epoch 13/100\n",
      "62/62 [==============================] - 2s 29ms/step - loss: 0.1021 - accuracy: 0.7514 - val_loss: 0.1018 - val_accuracy: 0.7530\n",
      "Epoch 14/100\n",
      "62/62 [==============================] - 2s 28ms/step - loss: 0.1006 - accuracy: 0.7565 - val_loss: 0.0990 - val_accuracy: 0.7564\n",
      "Epoch 15/100\n",
      "62/62 [==============================] - 2s 32ms/step - loss: 0.0995 - accuracy: 0.7597 - val_loss: 0.0994 - val_accuracy: 0.7517\n",
      "Epoch 16/100\n",
      "62/62 [==============================] - 2s 32ms/step - loss: 0.0977 - accuracy: 0.7610 - val_loss: 0.1007 - val_accuracy: 0.7422\n",
      "Epoch 17/100\n",
      "62/62 [==============================] - 2s 34ms/step - loss: 0.0973 - accuracy: 0.7592 - val_loss: 0.0955 - val_accuracy: 0.7584\n",
      "Epoch 18/100\n",
      "62/62 [==============================] - 2s 34ms/step - loss: 0.0957 - accuracy: 0.7672 - val_loss: 0.0976 - val_accuracy: 0.7559\n",
      "Epoch 19/100\n",
      "62/62 [==============================] - 2s 33ms/step - loss: 0.0957 - accuracy: 0.7662 - val_loss: 0.0980 - val_accuracy: 0.7515\n",
      "Epoch 20/100\n",
      "62/62 [==============================] - 2s 33ms/step - loss: 0.0957 - accuracy: 0.7656 - val_loss: 0.0964 - val_accuracy: 0.7600\n",
      "Epoch 21/100\n",
      "62/62 [==============================] - 2s 32ms/step - loss: 0.0924 - accuracy: 0.7724 - val_loss: 0.0973 - val_accuracy: 0.7580\n",
      "Epoch 22/100\n",
      "62/62 [==============================] - 2s 32ms/step - loss: 0.0943 - accuracy: 0.7695 - val_loss: 0.0962 - val_accuracy: 0.7549\n",
      "Epoch 23/100\n",
      "62/62 [==============================] - 2s 36ms/step - loss: 0.0942 - accuracy: 0.7685 - val_loss: 0.1010 - val_accuracy: 0.7400\n",
      "Epoch 24/100\n",
      "62/62 [==============================] - 2s 35ms/step - loss: 0.0944 - accuracy: 0.7707 - val_loss: 0.0933 - val_accuracy: 0.7743\n",
      "Epoch 25/100\n",
      "62/62 [==============================] - 2s 35ms/step - loss: 0.0924 - accuracy: 0.7727 - val_loss: 0.0939 - val_accuracy: 0.7679\n",
      "Epoch 26/100\n",
      "62/62 [==============================] - 2s 39ms/step - loss: 0.0918 - accuracy: 0.7751 - val_loss: 0.0956 - val_accuracy: 0.7540\n",
      "Epoch 27/100\n",
      "62/62 [==============================] - 2s 37ms/step - loss: 0.0911 - accuracy: 0.7777 - val_loss: 0.0991 - val_accuracy: 0.7571\n",
      "Epoch 28/100\n",
      "62/62 [==============================] - 2s 38ms/step - loss: 0.0916 - accuracy: 0.7751 - val_loss: 0.0927 - val_accuracy: 0.7680\n",
      "Epoch 29/100\n",
      "62/62 [==============================] - 2s 35ms/step - loss: 0.0902 - accuracy: 0.7805 - val_loss: 0.0930 - val_accuracy: 0.7621\n",
      "Epoch 30/100\n",
      "62/62 [==============================] - 2s 36ms/step - loss: 0.0890 - accuracy: 0.7819 - val_loss: 0.0911 - val_accuracy: 0.7771\n",
      "Epoch 31/100\n",
      "62/62 [==============================] - 2s 34ms/step - loss: 0.0909 - accuracy: 0.7779 - val_loss: 0.0955 - val_accuracy: 0.7621\n",
      "Epoch 32/100\n",
      "62/62 [==============================] - 2s 34ms/step - loss: 0.0896 - accuracy: 0.7808 - val_loss: 0.0933 - val_accuracy: 0.7724\n",
      "Epoch 33/100\n",
      "62/62 [==============================] - 2s 36ms/step - loss: 0.0889 - accuracy: 0.7838 - val_loss: 0.0909 - val_accuracy: 0.7719\n",
      "Epoch 34/100\n",
      "62/62 [==============================] - 2s 35ms/step - loss: 0.0894 - accuracy: 0.7819 - val_loss: 0.0939 - val_accuracy: 0.7704\n",
      "Epoch 35/100\n",
      "62/62 [==============================] - 2s 34ms/step - loss: 0.0890 - accuracy: 0.7838 - val_loss: 0.0927 - val_accuracy: 0.7695\n",
      "Epoch 36/100\n",
      "62/62 [==============================] - 2s 36ms/step - loss: 0.0877 - accuracy: 0.7859 - val_loss: 0.0955 - val_accuracy: 0.7594\n",
      "Epoch 37/100\n",
      "62/62 [==============================] - 2s 32ms/step - loss: 0.0884 - accuracy: 0.7837 - val_loss: 0.0971 - val_accuracy: 0.7571\n",
      "Epoch 38/100\n",
      "62/62 [==============================] - 2s 32ms/step - loss: 0.0897 - accuracy: 0.7813 - val_loss: 0.0968 - val_accuracy: 0.7580\n",
      "Epoch 39/100\n",
      "62/62 [==============================] - 2s 34ms/step - loss: 0.0898 - accuracy: 0.7814 - val_loss: 0.0977 - val_accuracy: 0.7548\n",
      "Epoch 40/100\n",
      "62/62 [==============================] - 2s 34ms/step - loss: 0.0887 - accuracy: 0.7859 - val_loss: 0.0917 - val_accuracy: 0.7706\n"
     ]
    }
   ],
   "source": [
    "# second model    \n",
    "layers_info_bigru = [\n",
    "    {\n",
    "        \"layer_name\": layers.Masking,\n",
    "        \"name\": \"padding_masking\",\n",
    "        \"mask_value\": 0.,\n",
    "        \"input_shape\": X_train.shape[1:]\n",
    "    },\n",
    "    {\n",
    "        'layer_name': layers.Bidirectional,\n",
    "        \"layer\": layers.GRU(best_hps_bigru.get('units'), return_sequences=True, kernel_regularizer=keras.regularizers.l2(0.01)),\n",
    "        \"name\": \"bigru_1\",\n",
    "    },\n",
    "    {\n",
    "        \"layer_name\": layers.Dropout,\n",
    "        \"rate\": best_hps_bigru.get('dropout'),\n",
    "        \"name\": \"dropout_1\"\n",
    "    },\n",
    "    {\n",
    "        \"layer_name\": layers.Dense,\n",
    "        \"units\": n_classes,\n",
    "        \"activation\": \"softmax\",\n",
    "        \"name\": \"dense_1\"\n",
    "    }\n",
    "]\n",
    "\n",
    "compile_info_bigru = {\n",
    "    'optimizer': keras.optimizers.Adam(learning_rate=best_hps_bigru.get('learning_rate')),\n",
    "    'loss': 'categorical_crossentropy',\n",
    "    'metrics' : ['accuracy']\n",
    "}\n",
    "\n",
    "model_bigru = create_model(layers_info_bigru, compile_info_bigru)\n",
    "model_bigru.summary()\n",
    "\n",
    "# start training\n",
    "history_bigru = model_bigru.fit(X_train, y_train, epochs=epochs_training, batch_size=batch_size_training, validation_data=(X_dev, y_dev),  callbacks=callbacks_training)"
   ]
  },
  {
   "cell_type": "markdown",
   "metadata": {},
   "source": [
    "Model 3: Two Bidirectional LSMT + Dense layer variant training"
   ]
  },
  {
   "cell_type": "code",
   "execution_count": 46,
   "metadata": {},
   "outputs": [
    {
     "name": "stdout",
     "output_type": "stream",
     "text": [
      "Model: \"sequential_15\"\n",
      "_________________________________________________________________\n",
      " Layer (type)                Output Shape              Param #   \n",
      "=================================================================\n",
      " padding_masking (Masking)   (None, 249, 50)           0         \n",
      "                                                                 \n",
      " bilstm_1 (Bidirectional)    (None, 249, 256)          183296    \n",
      "                                                                 \n",
      " bilstm_2 (Bidirectional)    (None, 249, 512)          1050624   \n",
      "                                                                 \n",
      " dropout_1 (Dropout)         (None, 249, 512)          0         \n",
      "                                                                 \n",
      " dense_1 (Dense)             (None, 249, 45)           23085     \n",
      "                                                                 \n",
      "=================================================================\n",
      "Total params: 1,257,005\n",
      "Trainable params: 1,257,005\n",
      "Non-trainable params: 0\n",
      "_________________________________________________________________\n",
      "Epoch 1/100\n",
      "62/62 [==============================] - 24s 142ms/step - loss: 3.6356 - accuracy: 0.1511 - val_loss: 0.6653 - val_accuracy: 0.1574\n",
      "Epoch 2/100\n",
      "62/62 [==============================] - 5s 74ms/step - loss: 0.3894 - accuracy: 0.1745 - val_loss: 0.2890 - val_accuracy: 0.1868\n",
      "Epoch 3/100\n",
      "62/62 [==============================] - 5s 80ms/step - loss: 0.2774 - accuracy: 0.1935 - val_loss: 0.2819 - val_accuracy: 0.1712\n",
      "Epoch 4/100\n",
      "62/62 [==============================] - 4s 68ms/step - loss: 0.2694 - accuracy: 0.1995 - val_loss: 0.2660 - val_accuracy: 0.2006\n",
      "Epoch 5/100\n",
      "62/62 [==============================] - 4s 61ms/step - loss: 0.2592 - accuracy: 0.2223 - val_loss: 0.2586 - val_accuracy: 0.2331\n",
      "Epoch 6/100\n",
      "62/62 [==============================] - 4s 62ms/step - loss: 0.2485 - accuracy: 0.2629 - val_loss: 0.2424 - val_accuracy: 0.2974\n",
      "Epoch 7/100\n",
      "62/62 [==============================] - 4s 63ms/step - loss: 0.2271 - accuracy: 0.3514 - val_loss: 0.2151 - val_accuracy: 0.3915\n",
      "Epoch 8/100\n",
      "62/62 [==============================] - 4s 59ms/step - loss: 0.2048 - accuracy: 0.4186 - val_loss: 0.1994 - val_accuracy: 0.4256\n",
      "Epoch 9/100\n",
      "62/62 [==============================] - 4s 57ms/step - loss: 0.1956 - accuracy: 0.4395 - val_loss: 0.1931 - val_accuracy: 0.4376\n",
      "Epoch 10/100\n",
      "62/62 [==============================] - 3s 57ms/step - loss: 0.1858 - accuracy: 0.4630 - val_loss: 0.1886 - val_accuracy: 0.4442\n",
      "Epoch 11/100\n",
      "62/62 [==============================] - 3s 56ms/step - loss: 0.1795 - accuracy: 0.4838 - val_loss: 0.1762 - val_accuracy: 0.4863\n",
      "Epoch 12/100\n",
      "62/62 [==============================] - 3s 55ms/step - loss: 0.1712 - accuracy: 0.5089 - val_loss: 0.1697 - val_accuracy: 0.5117\n",
      "Epoch 13/100\n",
      "62/62 [==============================] - 3s 55ms/step - loss: 0.1644 - accuracy: 0.5322 - val_loss: 0.1609 - val_accuracy: 0.5485\n",
      "Epoch 14/100\n",
      "62/62 [==============================] - 3s 54ms/step - loss: 0.1582 - accuracy: 0.5517 - val_loss: 0.1569 - val_accuracy: 0.5550\n",
      "Epoch 15/100\n",
      "62/62 [==============================] - 4s 59ms/step - loss: 0.1526 - accuracy: 0.5686 - val_loss: 0.1535 - val_accuracy: 0.5561\n",
      "Epoch 16/100\n",
      "62/62 [==============================] - 4s 57ms/step - loss: 0.1464 - accuracy: 0.5813 - val_loss: 0.1466 - val_accuracy: 0.5779\n",
      "Epoch 17/100\n",
      "62/62 [==============================] - 3s 55ms/step - loss: 0.1422 - accuracy: 0.5942 - val_loss: 0.1453 - val_accuracy: 0.5786\n",
      "Epoch 18/100\n",
      "62/62 [==============================] - 3s 54ms/step - loss: 0.1411 - accuracy: 0.5925 - val_loss: 0.1509 - val_accuracy: 0.5608\n",
      "Epoch 19/100\n",
      "62/62 [==============================] - 3s 55ms/step - loss: 0.1379 - accuracy: 0.6041 - val_loss: 0.1383 - val_accuracy: 0.5992\n",
      "Epoch 20/100\n",
      "62/62 [==============================] - 3s 55ms/step - loss: 0.1337 - accuracy: 0.6165 - val_loss: 0.1391 - val_accuracy: 0.5943\n",
      "Epoch 21/100\n",
      "62/62 [==============================] - 4s 61ms/step - loss: 0.1296 - accuracy: 0.6254 - val_loss: 0.1356 - val_accuracy: 0.6092\n",
      "Epoch 22/100\n",
      "62/62 [==============================] - 4s 64ms/step - loss: 0.1266 - accuracy: 0.6369 - val_loss: 0.1290 - val_accuracy: 0.6232\n",
      "Epoch 23/100\n",
      "62/62 [==============================] - 4s 62ms/step - loss: 0.1240 - accuracy: 0.6419 - val_loss: 0.1274 - val_accuracy: 0.6347\n",
      "Epoch 24/100\n",
      "62/62 [==============================] - 4s 60ms/step - loss: 0.1219 - accuracy: 0.6495 - val_loss: 0.1300 - val_accuracy: 0.6193\n",
      "Epoch 25/100\n",
      "62/62 [==============================] - 4s 66ms/step - loss: 0.1203 - accuracy: 0.6530 - val_loss: 0.1234 - val_accuracy: 0.6426\n",
      "Epoch 26/100\n",
      "62/62 [==============================] - 4s 66ms/step - loss: 0.1188 - accuracy: 0.6563 - val_loss: 0.1212 - val_accuracy: 0.6448\n",
      "Epoch 27/100\n",
      "62/62 [==============================] - 4s 58ms/step - loss: 0.1158 - accuracy: 0.6640 - val_loss: 0.1263 - val_accuracy: 0.6279\n",
      "Epoch 28/100\n",
      "62/62 [==============================] - 4s 58ms/step - loss: 0.1148 - accuracy: 0.6673 - val_loss: 0.1200 - val_accuracy: 0.6497\n",
      "Epoch 29/100\n",
      "62/62 [==============================] - 4s 59ms/step - loss: 0.1117 - accuracy: 0.6774 - val_loss: 0.1181 - val_accuracy: 0.6564\n",
      "Epoch 30/100\n",
      "62/62 [==============================] - 3s 56ms/step - loss: 0.1114 - accuracy: 0.6766 - val_loss: 0.1180 - val_accuracy: 0.6548\n",
      "Epoch 31/100\n",
      "62/62 [==============================] - 4s 58ms/step - loss: 0.1103 - accuracy: 0.6797 - val_loss: 0.1170 - val_accuracy: 0.6628\n",
      "Epoch 32/100\n",
      "62/62 [==============================] - 3s 55ms/step - loss: 0.1084 - accuracy: 0.6868 - val_loss: 0.1155 - val_accuracy: 0.6615\n",
      "Epoch 33/100\n",
      "62/62 [==============================] - 3s 55ms/step - loss: 0.1065 - accuracy: 0.6939 - val_loss: 0.1161 - val_accuracy: 0.6649\n",
      "Epoch 34/100\n",
      "62/62 [==============================] - 3s 54ms/step - loss: 0.1058 - accuracy: 0.6940 - val_loss: 0.1149 - val_accuracy: 0.6679\n",
      "Epoch 35/100\n",
      "62/62 [==============================] - 3s 55ms/step - loss: 0.1043 - accuracy: 0.6974 - val_loss: 0.1128 - val_accuracy: 0.6725\n",
      "Epoch 36/100\n",
      "62/62 [==============================] - 4s 57ms/step - loss: 0.1035 - accuracy: 0.7022 - val_loss: 0.1134 - val_accuracy: 0.6693\n",
      "Epoch 37/100\n",
      "62/62 [==============================] - 4s 57ms/step - loss: 0.1019 - accuracy: 0.7037 - val_loss: 0.1109 - val_accuracy: 0.6750\n",
      "Epoch 38/100\n",
      "62/62 [==============================] - 3s 56ms/step - loss: 0.1006 - accuracy: 0.7105 - val_loss: 0.1123 - val_accuracy: 0.6698\n",
      "Epoch 39/100\n",
      "62/62 [==============================] - 3s 54ms/step - loss: 0.1002 - accuracy: 0.7120 - val_loss: 0.1131 - val_accuracy: 0.6700\n",
      "Epoch 40/100\n",
      "62/62 [==============================] - 4s 59ms/step - loss: 0.0996 - accuracy: 0.7129 - val_loss: 0.1102 - val_accuracy: 0.6791\n",
      "Epoch 41/100\n",
      "62/62 [==============================] - 3s 56ms/step - loss: 0.0992 - accuracy: 0.7141 - val_loss: 0.1095 - val_accuracy: 0.6808\n",
      "Epoch 42/100\n",
      "62/62 [==============================] - 3s 55ms/step - loss: 0.0978 - accuracy: 0.7164 - val_loss: 0.1094 - val_accuracy: 0.6844\n",
      "Epoch 43/100\n",
      "62/62 [==============================] - 3s 54ms/step - loss: 0.0966 - accuracy: 0.7224 - val_loss: 0.1073 - val_accuracy: 0.6884\n",
      "Epoch 44/100\n",
      "62/62 [==============================] - 3s 55ms/step - loss: 0.0955 - accuracy: 0.7248 - val_loss: 0.1096 - val_accuracy: 0.6828\n",
      "Epoch 45/100\n",
      "62/62 [==============================] - 3s 54ms/step - loss: 0.0940 - accuracy: 0.7275 - val_loss: 0.1064 - val_accuracy: 0.6922\n",
      "Epoch 46/100\n",
      "62/62 [==============================] - 4s 58ms/step - loss: 0.0935 - accuracy: 0.7306 - val_loss: 0.1063 - val_accuracy: 0.6928\n",
      "Epoch 47/100\n",
      "62/62 [==============================] - 4s 61ms/step - loss: 0.0921 - accuracy: 0.7325 - val_loss: 0.1066 - val_accuracy: 0.6892\n",
      "Epoch 48/100\n",
      "62/62 [==============================] - 4s 69ms/step - loss: 0.0911 - accuracy: 0.7386 - val_loss: 0.1036 - val_accuracy: 0.6979\n",
      "Epoch 49/100\n",
      "62/62 [==============================] - 4s 70ms/step - loss: 0.0913 - accuracy: 0.7386 - val_loss: 0.1093 - val_accuracy: 0.6811\n",
      "Epoch 50/100\n",
      "62/62 [==============================] - 4s 67ms/step - loss: 0.0901 - accuracy: 0.7408 - val_loss: 0.1078 - val_accuracy: 0.6863\n",
      "Epoch 51/100\n",
      "62/62 [==============================] - 4s 67ms/step - loss: 0.0913 - accuracy: 0.7369 - val_loss: 0.1054 - val_accuracy: 0.6923\n",
      "Epoch 52/100\n",
      "62/62 [==============================] - 4s 68ms/step - loss: 0.0882 - accuracy: 0.7466 - val_loss: 0.1059 - val_accuracy: 0.6898\n",
      "Epoch 53/100\n",
      "62/62 [==============================] - 4s 71ms/step - loss: 0.0863 - accuracy: 0.7507 - val_loss: 0.1052 - val_accuracy: 0.6919\n",
      "Epoch 54/100\n",
      "62/62 [==============================] - 4s 68ms/step - loss: 0.0862 - accuracy: 0.7513 - val_loss: 0.1066 - val_accuracy: 0.6902\n",
      "Epoch 55/100\n",
      "62/62 [==============================] - 4s 69ms/step - loss: 0.0859 - accuracy: 0.7549 - val_loss: 0.1054 - val_accuracy: 0.6940\n",
      "Epoch 56/100\n",
      "62/62 [==============================] - 4s 67ms/step - loss: 0.0855 - accuracy: 0.7560 - val_loss: 0.1082 - val_accuracy: 0.6860\n",
      "Epoch 57/100\n",
      "62/62 [==============================] - 4s 58ms/step - loss: 0.0858 - accuracy: 0.7529 - val_loss: 0.1062 - val_accuracy: 0.6966\n",
      "Epoch 58/100\n",
      "62/62 [==============================] - 4s 69ms/step - loss: 0.0830 - accuracy: 0.7620 - val_loss: 0.1052 - val_accuracy: 0.6979\n"
     ]
    }
   ],
   "source": [
    "# third model    \n",
    "layers_info_two_bilstm = [\n",
    "    {\n",
    "        \"layer_name\": layers.Masking,\n",
    "        \"name\": \"padding_masking\",\n",
    "        \"mask_value\": 0.,\n",
    "        \"input_shape\": X_train.shape[1:]\n",
    "    },\n",
    "    {\n",
    "        'layer_name': layers.Bidirectional,\n",
    "        \"layer\": layers.LSTM(best_hps_two_bilstm.get('units1'), return_sequences=True, kernel_regularizer=keras.regularizers.l2(0.01)),\n",
    "        \"name\": \"bilstm_1\",\n",
    "    },\n",
    "    {\n",
    "        'layer_name': layers.Bidirectional,\n",
    "        \"layer\": layers.LSTM(best_hps_two_bilstm.get('units2'), return_sequences=True, kernel_regularizer=keras.regularizers.l2(0.01)),\n",
    "        \"name\": \"bilstm_2\",\n",
    "    },\n",
    "    {\n",
    "        \"layer_name\": layers.Dropout,\n",
    "        \"rate\": best_hps_two_bilstm.get('dropout'),\n",
    "        \"name\": \"dropout_1\"\n",
    "    },\n",
    "    {\n",
    "        \"layer_name\": layers.Dense,\n",
    "        \"units\": n_classes,\n",
    "        \"activation\": \"softmax\",\n",
    "        \"name\": \"dense_1\"\n",
    "    }\n",
    "]\n",
    "\n",
    "compile_info_two_bilstm = {\n",
    "    'optimizer': keras.optimizers.Adam(learning_rate=best_hps_two_bilstm.get('learning_rate')),\n",
    "    'loss': 'categorical_crossentropy',\n",
    "    'metrics' : ['accuracy']\n",
    "}\n",
    "\n",
    "model_two_bilstm = create_model(layers_info_two_bilstm, compile_info_two_bilstm)\n",
    "model_two_bilstm.summary()\n",
    "\n",
    "# start training\n",
    "history_two_bilstm = model_two_bilstm.fit(X_train, y_train, epochs=epochs_training, batch_size=batch_size_training, validation_data=(X_dev, y_dev), callbacks=callbacks_training)"
   ]
  },
  {
   "cell_type": "markdown",
   "metadata": {},
   "source": [
    "Model 4: Bidirectional LSMT + two Dense layer variant training"
   ]
  },
  {
   "cell_type": "code",
   "execution_count": 47,
   "metadata": {},
   "outputs": [
    {
     "name": "stdout",
     "output_type": "stream",
     "text": [
      "Model: \"sequential_16\"\n",
      "_________________________________________________________________\n",
      " Layer (type)                Output Shape              Param #   \n",
      "=================================================================\n",
      " padding_masking (Masking)   (None, 249, 50)           0         \n",
      "                                                                 \n",
      " bilstm_1 (Bidirectional)    (None, 249, 128)          58880     \n",
      "                                                                 \n",
      " dropout_1 (Dropout)         (None, 249, 128)          0         \n",
      "                                                                 \n",
      " dense_1 (Dense)             (None, 249, 256)          33024     \n",
      "                                                                 \n",
      " dropout_2 (Dropout)         (None, 249, 256)          0         \n",
      "                                                                 \n",
      " dense_2 (Dense)             (None, 249, 45)           11565     \n",
      "                                                                 \n",
      "=================================================================\n",
      "Total params: 103,469\n",
      "Trainable params: 103,469\n",
      "Non-trainable params: 0\n",
      "_________________________________________________________________\n",
      "Epoch 1/100\n",
      "62/62 [==============================] - 11s 80ms/step - loss: 1.1594 - accuracy: 0.1397 - val_loss: 0.5746 - val_accuracy: 0.2625\n",
      "Epoch 2/100\n",
      "62/62 [==============================] - 2s 31ms/step - loss: 0.3889 - accuracy: 0.3093 - val_loss: 0.2619 - val_accuracy: 0.4613\n",
      "Epoch 3/100\n",
      "62/62 [==============================] - 2s 30ms/step - loss: 0.2253 - accuracy: 0.4690 - val_loss: 0.1929 - val_accuracy: 0.5056\n",
      "Epoch 4/100\n",
      "62/62 [==============================] - 2s 35ms/step - loss: 0.1856 - accuracy: 0.5305 - val_loss: 0.1698 - val_accuracy: 0.5635\n",
      "Epoch 5/100\n",
      "62/62 [==============================] - 2s 31ms/step - loss: 0.1681 - accuracy: 0.5766 - val_loss: 0.1552 - val_accuracy: 0.6229\n",
      "Epoch 6/100\n",
      "62/62 [==============================] - 2s 30ms/step - loss: 0.1562 - accuracy: 0.6095 - val_loss: 0.1447 - val_accuracy: 0.6472\n",
      "Epoch 7/100\n",
      "62/62 [==============================] - 2s 32ms/step - loss: 0.1472 - accuracy: 0.6364 - val_loss: 0.1368 - val_accuracy: 0.6684\n",
      "Epoch 8/100\n",
      "62/62 [==============================] - 2s 30ms/step - loss: 0.1401 - accuracy: 0.6565 - val_loss: 0.1302 - val_accuracy: 0.6833\n",
      "Epoch 9/100\n",
      "62/62 [==============================] - 2s 31ms/step - loss: 0.1337 - accuracy: 0.6735 - val_loss: 0.1246 - val_accuracy: 0.6978\n",
      "Epoch 10/100\n",
      "62/62 [==============================] - 2s 33ms/step - loss: 0.1285 - accuracy: 0.6879 - val_loss: 0.1196 - val_accuracy: 0.7137\n",
      "Epoch 11/100\n",
      "62/62 [==============================] - 2s 31ms/step - loss: 0.1240 - accuracy: 0.7005 - val_loss: 0.1156 - val_accuracy: 0.7231\n",
      "Epoch 12/100\n",
      "62/62 [==============================] - 2s 32ms/step - loss: 0.1202 - accuracy: 0.7092 - val_loss: 0.1124 - val_accuracy: 0.7314\n",
      "Epoch 13/100\n",
      "62/62 [==============================] - 2s 31ms/step - loss: 0.1168 - accuracy: 0.7160 - val_loss: 0.1087 - val_accuracy: 0.7389\n",
      "Epoch 14/100\n",
      "62/62 [==============================] - 2s 30ms/step - loss: 0.1133 - accuracy: 0.7262 - val_loss: 0.1058 - val_accuracy: 0.7458\n",
      "Epoch 15/100\n",
      "62/62 [==============================] - 2s 30ms/step - loss: 0.1099 - accuracy: 0.7369 - val_loss: 0.1048 - val_accuracy: 0.7398\n",
      "Epoch 16/100\n",
      "62/62 [==============================] - 2s 29ms/step - loss: 0.1085 - accuracy: 0.7372 - val_loss: 0.1011 - val_accuracy: 0.7570\n",
      "Epoch 17/100\n",
      "62/62 [==============================] - 2s 30ms/step - loss: 0.1053 - accuracy: 0.7467 - val_loss: 0.0991 - val_accuracy: 0.7638\n",
      "Epoch 18/100\n",
      "62/62 [==============================] - 2s 29ms/step - loss: 0.1033 - accuracy: 0.7525 - val_loss: 0.0971 - val_accuracy: 0.7673\n",
      "Epoch 19/100\n",
      "62/62 [==============================] - 2s 30ms/step - loss: 0.1007 - accuracy: 0.7589 - val_loss: 0.0950 - val_accuracy: 0.7710\n",
      "Epoch 20/100\n",
      "62/62 [==============================] - 2s 31ms/step - loss: 0.0991 - accuracy: 0.7603 - val_loss: 0.0937 - val_accuracy: 0.7793\n",
      "Epoch 21/100\n",
      "62/62 [==============================] - 2s 31ms/step - loss: 0.0975 - accuracy: 0.7656 - val_loss: 0.0927 - val_accuracy: 0.7777\n",
      "Epoch 22/100\n",
      "62/62 [==============================] - 2s 32ms/step - loss: 0.0954 - accuracy: 0.7717 - val_loss: 0.0898 - val_accuracy: 0.7865\n",
      "Epoch 23/100\n",
      "62/62 [==============================] - 2s 30ms/step - loss: 0.0935 - accuracy: 0.7775 - val_loss: 0.0880 - val_accuracy: 0.7900\n",
      "Epoch 24/100\n",
      "62/62 [==============================] - 2s 31ms/step - loss: 0.0922 - accuracy: 0.7804 - val_loss: 0.0874 - val_accuracy: 0.7917\n",
      "Epoch 25/100\n",
      "62/62 [==============================] - 2s 31ms/step - loss: 0.0907 - accuracy: 0.7841 - val_loss: 0.0865 - val_accuracy: 0.7953\n",
      "Epoch 26/100\n",
      "62/62 [==============================] - 2s 29ms/step - loss: 0.0891 - accuracy: 0.7873 - val_loss: 0.0853 - val_accuracy: 0.7940\n",
      "Epoch 27/100\n",
      "62/62 [==============================] - 2s 31ms/step - loss: 0.0874 - accuracy: 0.7912 - val_loss: 0.0834 - val_accuracy: 0.8026\n",
      "Epoch 28/100\n",
      "62/62 [==============================] - 2s 32ms/step - loss: 0.0864 - accuracy: 0.7950 - val_loss: 0.0832 - val_accuracy: 0.7958\n",
      "Epoch 29/100\n",
      "62/62 [==============================] - 2s 32ms/step - loss: 0.0849 - accuracy: 0.7976 - val_loss: 0.0816 - val_accuracy: 0.8052\n",
      "Epoch 30/100\n",
      "62/62 [==============================] - 2s 31ms/step - loss: 0.0840 - accuracy: 0.8008 - val_loss: 0.0803 - val_accuracy: 0.8077\n",
      "Epoch 31/100\n",
      "62/62 [==============================] - 2s 31ms/step - loss: 0.0829 - accuracy: 0.8033 - val_loss: 0.0799 - val_accuracy: 0.8087\n",
      "Epoch 32/100\n",
      "62/62 [==============================] - 2s 33ms/step - loss: 0.0814 - accuracy: 0.8080 - val_loss: 0.0787 - val_accuracy: 0.8090\n",
      "Epoch 33/100\n",
      "62/62 [==============================] - 2s 31ms/step - loss: 0.0810 - accuracy: 0.8078 - val_loss: 0.0774 - val_accuracy: 0.8140\n",
      "Epoch 34/100\n",
      "62/62 [==============================] - 2s 29ms/step - loss: 0.0795 - accuracy: 0.8121 - val_loss: 0.0766 - val_accuracy: 0.8150\n",
      "Epoch 35/100\n",
      "62/62 [==============================] - 2s 33ms/step - loss: 0.0787 - accuracy: 0.8139 - val_loss: 0.0770 - val_accuracy: 0.8113\n",
      "Epoch 36/100\n",
      "62/62 [==============================] - 2s 31ms/step - loss: 0.0777 - accuracy: 0.8162 - val_loss: 0.0761 - val_accuracy: 0.8164\n",
      "Epoch 37/100\n",
      "62/62 [==============================] - 2s 33ms/step - loss: 0.0766 - accuracy: 0.8199 - val_loss: 0.0746 - val_accuracy: 0.8163\n",
      "Epoch 38/100\n",
      "62/62 [==============================] - 2s 31ms/step - loss: 0.0758 - accuracy: 0.8228 - val_loss: 0.0739 - val_accuracy: 0.8171\n",
      "Epoch 39/100\n",
      "62/62 [==============================] - 2s 36ms/step - loss: 0.0751 - accuracy: 0.8224 - val_loss: 0.0739 - val_accuracy: 0.8203\n",
      "Epoch 40/100\n",
      "62/62 [==============================] - 2s 31ms/step - loss: 0.0746 - accuracy: 0.8238 - val_loss: 0.0732 - val_accuracy: 0.8207\n",
      "Epoch 41/100\n",
      "62/62 [==============================] - 2s 30ms/step - loss: 0.0733 - accuracy: 0.8273 - val_loss: 0.0731 - val_accuracy: 0.8268\n",
      "Epoch 42/100\n",
      "62/62 [==============================] - 2s 36ms/step - loss: 0.0728 - accuracy: 0.8286 - val_loss: 0.0716 - val_accuracy: 0.8274\n",
      "Epoch 43/100\n",
      "62/62 [==============================] - 2s 38ms/step - loss: 0.0723 - accuracy: 0.8293 - val_loss: 0.0722 - val_accuracy: 0.8272\n",
      "Epoch 44/100\n",
      "62/62 [==============================] - 2s 31ms/step - loss: 0.0717 - accuracy: 0.8323 - val_loss: 0.0703 - val_accuracy: 0.8299\n",
      "Epoch 45/100\n",
      "62/62 [==============================] - 2s 31ms/step - loss: 0.0705 - accuracy: 0.8347 - val_loss: 0.0703 - val_accuracy: 0.8306\n",
      "Epoch 46/100\n",
      "62/62 [==============================] - 2s 30ms/step - loss: 0.0699 - accuracy: 0.8379 - val_loss: 0.0702 - val_accuracy: 0.8311\n",
      "Epoch 47/100\n",
      "62/62 [==============================] - 2s 30ms/step - loss: 0.0691 - accuracy: 0.8378 - val_loss: 0.0689 - val_accuracy: 0.8336\n",
      "Epoch 48/100\n",
      "62/62 [==============================] - 2s 30ms/step - loss: 0.0684 - accuracy: 0.8406 - val_loss: 0.0692 - val_accuracy: 0.8313\n",
      "Epoch 49/100\n",
      "62/62 [==============================] - 2s 30ms/step - loss: 0.0678 - accuracy: 0.8401 - val_loss: 0.0681 - val_accuracy: 0.8347\n",
      "Epoch 50/100\n",
      "62/62 [==============================] - 2s 30ms/step - loss: 0.0673 - accuracy: 0.8423 - val_loss: 0.0678 - val_accuracy: 0.8379\n",
      "Epoch 51/100\n",
      "62/62 [==============================] - 2s 30ms/step - loss: 0.0669 - accuracy: 0.8443 - val_loss: 0.0673 - val_accuracy: 0.8363\n",
      "Epoch 52/100\n",
      "62/62 [==============================] - 2s 30ms/step - loss: 0.0662 - accuracy: 0.8446 - val_loss: 0.0677 - val_accuracy: 0.8328\n",
      "Epoch 53/100\n",
      "62/62 [==============================] - 2s 31ms/step - loss: 0.0658 - accuracy: 0.8460 - val_loss: 0.0666 - val_accuracy: 0.8392\n",
      "Epoch 54/100\n",
      "62/62 [==============================] - 2s 30ms/step - loss: 0.0646 - accuracy: 0.8494 - val_loss: 0.0662 - val_accuracy: 0.8379\n",
      "Epoch 55/100\n",
      "62/62 [==============================] - 2s 30ms/step - loss: 0.0646 - accuracy: 0.8507 - val_loss: 0.0663 - val_accuracy: 0.8394\n",
      "Epoch 56/100\n",
      "62/62 [==============================] - 2s 31ms/step - loss: 0.0635 - accuracy: 0.8527 - val_loss: 0.0653 - val_accuracy: 0.8419\n",
      "Epoch 57/100\n",
      "62/62 [==============================] - 2s 32ms/step - loss: 0.0630 - accuracy: 0.8542 - val_loss: 0.0653 - val_accuracy: 0.8427\n",
      "Epoch 58/100\n",
      "62/62 [==============================] - 2s 32ms/step - loss: 0.0625 - accuracy: 0.8556 - val_loss: 0.0644 - val_accuracy: 0.8427\n",
      "Epoch 59/100\n",
      "62/62 [==============================] - 2s 39ms/step - loss: 0.0620 - accuracy: 0.8551 - val_loss: 0.0643 - val_accuracy: 0.8451\n",
      "Epoch 60/100\n",
      "62/62 [==============================] - 2s 33ms/step - loss: 0.0616 - accuracy: 0.8560 - val_loss: 0.0647 - val_accuracy: 0.8433\n",
      "Epoch 61/100\n",
      "62/62 [==============================] - 2s 30ms/step - loss: 0.0613 - accuracy: 0.8577 - val_loss: 0.0635 - val_accuracy: 0.8445\n",
      "Epoch 62/100\n",
      "62/62 [==============================] - 2s 29ms/step - loss: 0.0606 - accuracy: 0.8584 - val_loss: 0.0642 - val_accuracy: 0.8433\n",
      "Epoch 63/100\n",
      "62/62 [==============================] - 2s 30ms/step - loss: 0.0601 - accuracy: 0.8624 - val_loss: 0.0635 - val_accuracy: 0.8453\n",
      "Epoch 64/100\n",
      "62/62 [==============================] - 2s 30ms/step - loss: 0.0596 - accuracy: 0.8616 - val_loss: 0.0631 - val_accuracy: 0.8455\n",
      "Epoch 65/100\n",
      "62/62 [==============================] - 2s 30ms/step - loss: 0.0589 - accuracy: 0.8644 - val_loss: 0.0629 - val_accuracy: 0.8445\n",
      "Epoch 66/100\n",
      "62/62 [==============================] - 2s 30ms/step - loss: 0.0584 - accuracy: 0.8651 - val_loss: 0.0627 - val_accuracy: 0.8455\n",
      "Epoch 67/100\n",
      "62/62 [==============================] - 2s 31ms/step - loss: 0.0585 - accuracy: 0.8652 - val_loss: 0.0631 - val_accuracy: 0.8431\n",
      "Epoch 68/100\n",
      "62/62 [==============================] - 2s 29ms/step - loss: 0.0575 - accuracy: 0.8682 - val_loss: 0.0618 - val_accuracy: 0.8491\n",
      "Epoch 69/100\n",
      "62/62 [==============================] - 2s 29ms/step - loss: 0.0571 - accuracy: 0.8688 - val_loss: 0.0622 - val_accuracy: 0.8473\n",
      "Epoch 70/100\n",
      "62/62 [==============================] - 2s 29ms/step - loss: 0.0573 - accuracy: 0.8679 - val_loss: 0.0625 - val_accuracy: 0.8459\n",
      "Epoch 71/100\n",
      "62/62 [==============================] - 2s 30ms/step - loss: 0.0565 - accuracy: 0.8705 - val_loss: 0.0616 - val_accuracy: 0.8505\n",
      "Epoch 72/100\n",
      "62/62 [==============================] - 2s 30ms/step - loss: 0.0558 - accuracy: 0.8720 - val_loss: 0.0606 - val_accuracy: 0.8522\n",
      "Epoch 73/100\n",
      "62/62 [==============================] - 2s 31ms/step - loss: 0.0555 - accuracy: 0.8734 - val_loss: 0.0609 - val_accuracy: 0.8498\n",
      "Epoch 74/100\n",
      "62/62 [==============================] - 2s 31ms/step - loss: 0.0553 - accuracy: 0.8737 - val_loss: 0.0606 - val_accuracy: 0.8522\n",
      "Epoch 75/100\n",
      "62/62 [==============================] - 2s 31ms/step - loss: 0.0548 - accuracy: 0.8758 - val_loss: 0.0606 - val_accuracy: 0.8492\n",
      "Epoch 76/100\n",
      "62/62 [==============================] - 2s 33ms/step - loss: 0.0540 - accuracy: 0.8766 - val_loss: 0.0599 - val_accuracy: 0.8533\n",
      "Epoch 77/100\n",
      "62/62 [==============================] - 2s 31ms/step - loss: 0.0537 - accuracy: 0.8771 - val_loss: 0.0601 - val_accuracy: 0.8529\n",
      "Epoch 78/100\n",
      "62/62 [==============================] - 2s 30ms/step - loss: 0.0532 - accuracy: 0.8782 - val_loss: 0.0602 - val_accuracy: 0.8523\n",
      "Epoch 79/100\n",
      "62/62 [==============================] - 2s 32ms/step - loss: 0.0537 - accuracy: 0.8794 - val_loss: 0.0607 - val_accuracy: 0.8497\n",
      "Epoch 80/100\n",
      "62/62 [==============================] - 2s 34ms/step - loss: 0.0530 - accuracy: 0.8795 - val_loss: 0.0595 - val_accuracy: 0.8533\n",
      "Epoch 81/100\n",
      "62/62 [==============================] - 2s 32ms/step - loss: 0.0528 - accuracy: 0.8797 - val_loss: 0.0591 - val_accuracy: 0.8534\n",
      "Epoch 82/100\n",
      "62/62 [==============================] - 2s 31ms/step - loss: 0.0524 - accuracy: 0.8817 - val_loss: 0.0600 - val_accuracy: 0.8497\n",
      "Epoch 83/100\n",
      "62/62 [==============================] - 2s 32ms/step - loss: 0.0517 - accuracy: 0.8825 - val_loss: 0.0591 - val_accuracy: 0.8536\n",
      "Epoch 84/100\n",
      "62/62 [==============================] - 2s 38ms/step - loss: 0.0515 - accuracy: 0.8820 - val_loss: 0.0590 - val_accuracy: 0.8555\n",
      "Epoch 85/100\n",
      "62/62 [==============================] - 2s 32ms/step - loss: 0.0511 - accuracy: 0.8841 - val_loss: 0.0593 - val_accuracy: 0.8519\n",
      "Epoch 86/100\n",
      "62/62 [==============================] - 2s 31ms/step - loss: 0.0510 - accuracy: 0.8858 - val_loss: 0.0584 - val_accuracy: 0.8554\n",
      "Epoch 87/100\n",
      "62/62 [==============================] - 2s 32ms/step - loss: 0.0502 - accuracy: 0.8859 - val_loss: 0.0585 - val_accuracy: 0.8561\n",
      "Epoch 88/100\n",
      "62/62 [==============================] - 2s 32ms/step - loss: 0.0499 - accuracy: 0.8872 - val_loss: 0.0591 - val_accuracy: 0.8526\n",
      "Epoch 89/100\n",
      "62/62 [==============================] - 2s 31ms/step - loss: 0.0499 - accuracy: 0.8887 - val_loss: 0.0590 - val_accuracy: 0.8515\n",
      "Epoch 90/100\n",
      "62/62 [==============================] - 2s 32ms/step - loss: 0.0492 - accuracy: 0.8910 - val_loss: 0.0582 - val_accuracy: 0.8565\n",
      "Epoch 91/100\n",
      "62/62 [==============================] - 2s 31ms/step - loss: 0.0489 - accuracy: 0.8900 - val_loss: 0.0580 - val_accuracy: 0.8572\n",
      "Epoch 92/100\n",
      "62/62 [==============================] - 2s 30ms/step - loss: 0.0491 - accuracy: 0.8891 - val_loss: 0.0584 - val_accuracy: 0.8556\n",
      "Epoch 93/100\n",
      "62/62 [==============================] - 2s 30ms/step - loss: 0.0486 - accuracy: 0.8915 - val_loss: 0.0578 - val_accuracy: 0.8577\n",
      "Epoch 94/100\n",
      "62/62 [==============================] - 2s 30ms/step - loss: 0.0480 - accuracy: 0.8916 - val_loss: 0.0582 - val_accuracy: 0.8548\n",
      "Epoch 95/100\n",
      "62/62 [==============================] - 2s 31ms/step - loss: 0.0480 - accuracy: 0.8917 - val_loss: 0.0581 - val_accuracy: 0.8565\n",
      "Epoch 96/100\n",
      "62/62 [==============================] - 2s 31ms/step - loss: 0.0477 - accuracy: 0.8928 - val_loss: 0.0582 - val_accuracy: 0.8549\n",
      "Epoch 97/100\n",
      "62/62 [==============================] - 2s 30ms/step - loss: 0.0467 - accuracy: 0.8962 - val_loss: 0.0574 - val_accuracy: 0.8577\n",
      "Epoch 98/100\n",
      "62/62 [==============================] - 2s 31ms/step - loss: 0.0473 - accuracy: 0.8932 - val_loss: 0.0581 - val_accuracy: 0.8579\n",
      "Epoch 99/100\n",
      "62/62 [==============================] - 2s 30ms/step - loss: 0.0466 - accuracy: 0.8949 - val_loss: 0.0575 - val_accuracy: 0.8567\n",
      "Epoch 100/100\n",
      "62/62 [==============================] - 2s 29ms/step - loss: 0.0461 - accuracy: 0.8958 - val_loss: 0.0573 - val_accuracy: 0.8577\n"
     ]
    }
   ],
   "source": [
    "# fourth model    \n",
    "layers_info_bilstm_two_dense = [\n",
    "    {\n",
    "        \"layer_name\": layers.Masking,\n",
    "        \"name\": \"padding_masking\",\n",
    "        \"mask_value\": 0.,\n",
    "        \"input_shape\": X_train.shape[1:]\n",
    "    },\n",
    "    {\n",
    "        'layer_name': layers.Bidirectional,\n",
    "        \"layer\": layers.LSTM(best_hps_bilstm_two_dense.get('units1'), return_sequences=True),\n",
    "        \"name\": \"bilstm_1\",\n",
    "    },\n",
    "    {\n",
    "        \"layer_name\": layers.Dropout,\n",
    "        \"rate\": best_hps_bilstm_two_dense.get('dropout1'),\n",
    "        \"name\": \"dropout_1\"\n",
    "    },\n",
    "    {\n",
    "        \"layer_name\": layers.Dense,\n",
    "        \"units\": best_hps_bilstm_two_dense.get('units2'),\n",
    "        \"activation\": \"relu\",\n",
    "        \"kernel_regularizer\": keras.regularizers.l2(0.01),\n",
    "        \"name\": \"dense_1\"\n",
    "    },\n",
    "    {\n",
    "        \"layer_name\": layers.Dropout,\n",
    "        \"rate\": best_hps_bilstm_two_dense.get('dropout2'),\n",
    "        \"name\": \"dropout_2\"\n",
    "    },\n",
    "    {\n",
    "        \"layer_name\": layers.Dense,\n",
    "        \"units\": n_classes,\n",
    "        \"activation\": \"softmax\",\n",
    "        \"name\": \"dense_2\"\n",
    "    }\n",
    "]\n",
    "\n",
    "compile_info_bilstm_two_dense = {\n",
    "    'optimizer': keras.optimizers.Adam(learning_rate=best_hps_bilstm_two_dense.get('learning_rate')),\n",
    "    'loss': 'categorical_crossentropy',\n",
    "    'metrics' : ['accuracy']\n",
    "}\n",
    "\n",
    "model_bilstm_two_dense = create_model(layers_info_bilstm_two_dense, compile_info_bilstm_two_dense)\n",
    "model_bilstm_two_dense.summary()\n",
    "\n",
    "# start training\n",
    "history_bilstm_two_dense = model_bilstm_two_dense.fit(X_train, y_train, epochs=epochs_training, batch_size=batch_size_training, validation_data=(X_dev, y_dev), callbacks=callbacks_training)"
   ]
  },
  {
   "cell_type": "markdown",
   "metadata": {},
   "source": [
    "#### 2.3.1 Store or load all the trained models"
   ]
  },
  {
   "cell_type": "markdown",
   "metadata": {},
   "source": [
    "Store weights and history"
   ]
  },
  {
   "cell_type": "code",
   "execution_count": 57,
   "metadata": {},
   "outputs": [],
   "source": [
    "# store models weights\n",
    "path_model_weights = os.path.join(os.getcwd(), 'models', 'weights')\n",
    "model_bilstm.save_weights(os.path.join(path_model_weights, 'weights_bilstm.h5'))\n",
    "model_bigru.save_weights(os.path.join(path_model_weights, 'weights_bigru.h5'))\n",
    "model_two_bilstm.save_weights(os.path.join(path_model_weights, 'weights_two_bilstm.h5'))\n",
    "model_bilstm_two_dense.save_weights(os.path.join(path_model_weights, 'weights_bilstm_two_dense.h5'))"
   ]
  },
  {
   "cell_type": "code",
   "execution_count": 59,
   "metadata": {},
   "outputs": [],
   "source": [
    "# convert the history.history dict to a pandas DataFrame: \n",
    "path_model_weights = os.path.join(os.getcwd(), 'models', 'history')\n",
    "    \n",
    "df_history_bilstm = pd.DataFrame(history_bilstm.history) \n",
    "with open(os.path.join(path_model_weights, \"history_bilstm.csv\"), mode=\"w\") as file:\n",
    "    df_history_bilstm.to_csv(file)\n",
    "\n",
    "df_history_bigru = pd.DataFrame(history_bigru.history)\n",
    "with open(os.path.join(path_model_weights, \"history_bigru.csv\"), mode=\"w\") as file:\n",
    "    df_history_bigru.to_csv(file)\n",
    "\n",
    "df_history_two_bilstm = pd.DataFrame(history_two_bilstm.history)\n",
    "with open(os.path.join(path_model_weights, \"history_two_bilstm.csv\"), mode=\"w\") as file:\n",
    "    df_history_two_bilstm.to_csv(file)\n",
    "\n",
    "df_history_bilstm_two_dense = pd.DataFrame(history_bilstm_two_dense.history)\n",
    "with open(os.path.join(path_model_weights, \"history_bilstm_two_dense.csv\"), mode=\"w\") as file:\n",
    "    df_history_bilstm_two_dense.to_csv(file)"
   ]
  },
  {
   "cell_type": "markdown",
   "metadata": {},
   "source": [
    "Read weights"
   ]
  },
  {
   "cell_type": "code",
   "execution_count": null,
   "metadata": {},
   "outputs": [],
   "source": [
    "# Restore the weights\n",
    "path_model_weights = os.path.join(os.getcwd(), 'models', 'weights')\n",
    "model_bilstm.load_weights(os.path.join(path_model_weights, 'weights_bilstm.h5'))\n",
    "model_bigru.load_weights(os.path.join(path_model_weights, 'weights_bigru.h5'))\n",
    "model_two_bilstm.load_weights(os.path.join(path_model_weights, 'weights_two_bilstm.h5'))\n",
    "model_bilstm_two_dense.load_weights(os.path.join(path_model_weights, 'weights_bilstm_two_dense.h5'))"
   ]
  },
  {
   "cell_type": "markdown",
   "metadata": {
    "id": "ab9ETsbC2Q82"
   },
   "source": [
    "### 2.4 History of the training\n",
    "Plot metrics evolution for each epoch during the training"
   ]
  },
  {
   "cell_type": "code",
   "execution_count": 48,
   "metadata": {
    "id": "25YBLK3E2R6m"
   },
   "outputs": [],
   "source": [
    "def plot_history(models_history, keys, model_names=[], labels=(\"epochs\", \"metrics\"), figsize=(10,5), cmap='rainbow'):\n",
    "    \"\"\"\n",
    "    Plot the history of the metrics in the history dictionary for each model.\n",
    "        :param models_history: array of dictionary of the metric history for each model\n",
    "        :param keys: list of keys of the metrics to plot\n",
    "        :param model_names: list of names of the models\n",
    "        :param labels: list of labels of the axes\n",
    "        :param figsize: size of the figure\n",
    "        :param cmap: color map used for the plot\n",
    "    \"\"\"\n",
    "\n",
    "    # maps each model to a distinct RGB color\n",
    "    cmap = plt.cm.get_cmap(cmap, len(models_history))\n",
    "\n",
    "    \n",
    "    fig = plt.figure(figsize=figsize)\n",
    "\n",
    "    # for each model trained\n",
    "    for i, history in enumerate(models_history):\n",
    "        # take all pairs of training and val metrics\n",
    "        for j in range(0, len(keys), 2):\n",
    "            metric, val_metric = keys[j], keys[j+1]\n",
    "            \n",
    "            plt.plot(history[metric], label=f\"{model_names[i]} {metric}\", linestyle=\"solid\", color=cmap(i))\n",
    "            plt.plot(history[val_metric],  label=f\"{model_names[i]} {val_metric}\", linestyle=\"--\",  color=cmap(i))\n",
    "        \n",
    "    plt.xlabel(labels[0])\n",
    "    plt.ylabel(labels[1])\n",
    "\n",
    "    # Adding legend\n",
    "    plt.legend(\n",
    "          title =\"Legend\",\n",
    "          loc =\"upper left\",\n",
    "          bbox_to_anchor =(1.0, 0, 0.5, 1))\n",
    "    plt.title(\"Training history\")\n",
    "    plt.grid(linestyle='--', linewidth=1)\n",
    "    plt.show()"
   ]
  },
  {
   "cell_type": "code",
   "execution_count": 49,
   "metadata": {
    "colab": {
     "base_uri": "https://localhost:8080/",
     "height": 725
    },
    "id": "Ca9TMoj42VgT",
    "outputId": "51947068-a9de-452d-9e34-2b8217b25732"
   },
   "outputs": [
    {
     "data": {
      "image/png": "[encoded data removed]",
      "text/plain": [
       "<Figure size 1080x504 with 1 Axes>"
      ]
     },
     "metadata": {
      "needs_background": "light"
     },
     "output_type": "display_data"
    },
    {
     "data": {
      "image/png": "[encoded data removed]",
      "text/plain": [
       "<Figure size 1080x504 with 1 Axes>"
      ]
     },
     "metadata": {
      "needs_background": "light"
     },
     "output_type": "display_data"
    }
   ],
   "source": [
    "models_history = [history_bilstm.history, history_bigru.history, history_two_bilstm.history, history_bilstm_two_dense.history]\n",
    "model_names = [\"BiLSTM\", \"BiGRU\", \"2 BiLSTM\", \"BiLSTM + 2 Dense\"]\n",
    "plot_history(models_history, keys=['loss', 'val_loss'], model_names=model_names, labels=(\"epochs\", \"loss\"), figsize=(15,7),  cmap='bwr')\n",
    "plot_history(models_history, keys=['accuracy', 'val_accuracy'], model_names=model_names, labels=(\"epochs\", \"accuracy\"), figsize=(15,7),  cmap='bwr')"
   ]
  },
  {
   "cell_type": "markdown",
   "metadata": {
    "id": "ZmIWLatvkqzt"
   },
   "source": [
    "## 3. Evaluation"
   ]
  },
  {
   "cell_type": "code",
   "execution_count": 50,
   "metadata": {
    "id": "Q71LkwAPkqzt"
   },
   "outputs": [],
   "source": [
    "def evaluate_model(model, X_test, y_test, labels):\n",
    "    \"\"\"\n",
    "    given a trained model and a test set returns the f-score and the confusion matrix\n",
    "    taking into account only classes in labels\n",
    "    \"\"\"\n",
    "    raw_y_true = np.array(y_test)\n",
    "    raw_y_pred = model.predict(X_test)\n",
    "    # shape of the output is doc x len_sen x classes\n",
    "    # argmax for label predictions\n",
    "    len_sentence = raw_y_pred.shape[1]\n",
    "    num_sentences = raw_y_pred.shape[0]\n",
    "    y_pred = np.empty((num_sentences, len_sentence))\n",
    "    y_true = np.empty((num_sentences, len_sentence))\n",
    "    # assign label with the highest probability\n",
    "    for i in range(num_sentences):\n",
    "        for j in range(len_sentence):\n",
    "            y_pred[i,j] = np.argmax(raw_y_pred[i,j,:])\n",
    "            y_true[i,j] = np.argmax(raw_y_true[i,j,:])\n",
    "    # flatten the numpy array to have a 1D array\n",
    "    y_true = y_true.flatten()\n",
    "    y_pred = y_pred.flatten()\n",
    "    # show confusion matrix\n",
    "    conf_matrix = confusion_matrix(y_true, y_pred, labels=labels)\n",
    "    disp = ConfusionMatrixDisplay(conf_matrix)\n",
    "    fig, ax = plt.subplots(figsize=(10,10))\n",
    "    disp.plot(ax=ax)\n",
    "    # f1 score\n",
    "    print(\"F score:\\n-------------------------------\\n\")\n",
    "    print(f1_score(y_true, y_pred, labels=labels, average='macro'))"
   ]
  },
  {
   "cell_type": "code",
   "execution_count": 55,
   "metadata": {
    "colab": {
     "base_uri": "https://localhost:8080/",
     "height": 405
    },
    "id": "ua2c1KdCkqzt",
    "outputId": "252f5892-7065-4100-b9a1-4c278c3a2a8e"
   },
   "outputs": [
    {
     "name": "stdout",
     "output_type": "stream",
     "text": [
      "F score:\n",
      "-------------------------------\n",
      "\n",
      "0.5665673765528586\n"
     ]
    },
    {
     "name": "stderr",
     "output_type": "stream",
     "text": [
      "C:\\Users\\peppe\\anaconda3\\envs\\nlp\\lib\\site-packages\\sklearn\\metrics\\_classification.py:1580: UndefinedMetricWarning: F-score is ill-defined and being set to 0.0 in labels with no true nor predicted samples. Use `zero_division` parameter to control this behavior.\n",
      "  _warn_prf(average, \"true nor predicted\", \"F-score is\", len(true_sum))\n"
     ]
    },
    {
     "data": {
      "image/png": "[encoded data removed]",
      "text/plain": [
       "<Figure size 720x720 with 2 Axes>"
      ]
     },
     "metadata": {
      "needs_background": "light"
     },
     "output_type": "display_data"
    }
   ],
   "source": [
    "punctuation_indexes = [0, 1, 2, 3, 4, 5, 6, 16, 30, 43]\n",
    "classes = target_vectorizer.get_classes()\n",
    "valid_labels = list(set(range(len(classes))) - set(punctuation_indexes))\n",
    "evaluate_model(model_bilstm, X_test, y_test, valid_labels)"
   ]
  },
  {
   "cell_type": "code",
   "execution_count": 56,
   "metadata": {
    "colab": {
     "base_uri": "https://localhost:8080/"
    },
    "id": "sFaG0yb4kqzu",
    "outputId": "192d94c0-4d55-48a7-f61b-ff22812bd678"
   },
   "outputs": [
    {
     "name": "stdout",
     "output_type": "stream",
     "text": [
      "Original POS tagging:  ['VBG' 'IN' 'CD' ',' 'NNS' 'IN' 'JJ' 'NNS' 'VBG' 'NNP' 'CC' 'NNP' 'NNP'\n",
      " 'VBD' 'TO' 'VB' 'DT' 'NN' 'NN' 'IN' 'NNS' 'MD' 'VB' 'IN' 'DT' 'NNS' 'VBP'\n",
      " 'DT' 'NNS' 'WP' 'VBP' 'JJ' '.']\n",
      "Predicted POS tagging:  ['NNS' 'IN' 'CD' ',' 'NN' 'IN' 'DT' 'NNP' 'CD' 'NNP' 'CC' 'NNP' 'NNP'\n",
      " 'VBD' 'TO' 'VB' 'DT' 'JJ' 'NN' 'IN' 'NNS' 'MD' 'VB' 'IN' 'DT' 'NNS' 'VBP'\n",
      " 'DT' 'NNS' 'WP' 'VBP' 'VBN' '.']\n"
     ]
    }
   ],
   "source": [
    "i_test = 6  # change this to see the prediction for a different sentence\n",
    "\n",
    "print(\"Original POS tagging: \",target_vectorizer.inverse_transform([y_test[i_test]])[0])\n",
    "\n",
    "raw_y_pred = model_bilstm.predict(np.array([X_test[i_test]]))\n",
    "# shape of the output is doc x len_sen x classes\n",
    "# argmax for label predictions\n",
    "\n",
    "print(\"Predicted POS tagging: \",target_vectorizer.inverse_transform_probabilities(raw_y_pred)[0])"
   ]
  }
 ],
 "metadata": {
  "accelerator": "GPU",
  "colab": {
   "collapsed_sections": [],
   "include_colab_link": true,
   "name": "Copy of POS_tagging.ipynb",
   "provenance": []
  },
  "interpreter": {
   "hash": "63e28586807c6502c782d898cf9a0cc5787bb3d77952b17b51ec8bdcd4044a3d"
  },
  "kernelspec": {
   "display_name": "Python 3",
   "language": "python",
   "name": "python3"
  },
  "language_info": {
   "codemirror_mode": {
    "name": "ipython",
    "version": 3
   },
   "file_extension": ".py",
   "mimetype": "text/x-python",
   "name": "python",
   "nbconvert_exporter": "python",
   "pygments_lexer": "ipython3",
   "version": "3.9.7"
  }
 },
 "nbformat": 4,
 "nbformat_minor": 0
}
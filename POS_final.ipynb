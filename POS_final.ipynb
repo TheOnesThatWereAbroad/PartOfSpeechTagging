{
  "cells": [
    {
      "cell_type": "markdown",
      "metadata": {
        "colab_type": "text",
        "id": "view-in-github"
      },
      "source": [
        "<a href=\"https://colab.research.google.com/github/TheOnesThatWereAbroad/Assignment1/blob/main/POS_tagging.ipynb\" target=\"_parent\"><img src=\"https://colab.research.google.com/assets/colab-badge.svg\" alt=\"Open In Colab\"/></a>"
      ]
    },
    {
      "cell_type": "markdown",
      "metadata": {
        "id": "tc8x9pA00Sfd"
      },
      "source": [
        "# Assignment 1 - POS tagging"
      ]
    },
    {
      "cell_type": "code",
      "execution_count": 1,
      "metadata": {
        "id": "jHhrkDf2kqzg"
      },
      "outputs": [],
      "source": [
        "import os\n",
        "import numpy as np\n",
        "import matplotlib.pyplot as plt\n",
        "\n",
        "import tensorflow as tf\n",
        "from tensorflow import keras\n",
        "from tensorflow.keras import layers\n",
        "import tensorflow.keras.backend as K\n",
        "import keras_tuner as kt\n",
        "from sklearn.metrics import confusion_matrix, ConfusionMatrixDisplay, f1_score\n",
        "\n",
        "from data_input import DataInput\n",
        "from text_vectorizer import TextVectorizer, TargetVectorizer"
      ]
    },
    {
      "cell_type": "markdown",
      "metadata": {
        "id": "jx2qo48Ikqzi"
      },
      "source": [
        "## 1. Build a dataset"
      ]
    },
    {
      "cell_type": "markdown",
      "metadata": {
        "id": "IN34sX55kqzi"
      },
      "source": [
        "### 1.1 Dataset preparation\n",
        "For this experiment, the [Dependency Parsed Treebank](https://www.nltk.org/nltk_data/) dataset is used.\n",
        "Notice that each document is slitted into sentences, so the dimensionality of the data is more than 199 (total number of documents in the dataset)"
      ]
    },
    {
      "cell_type": "code",
      "execution_count": 2,
      "metadata": {
        "colab": {
          "base_uri": "https://localhost:8080/"
        },
        "id": "eRQ_hwv9mHtK",
        "outputId": "0febf6c3-6ff8-43fd-d96d-79b88bee09b4"
      },
      "outputs": [
        {
          "name": "stdout",
          "output_type": "stream",
          "text": [
            "Train set size: 1957\n",
            "Dev set size: 979\n",
            "Test set size: 978\n"
          ]
        }
      ],
      "source": [
        "# download the dataset and split it into train, dev and test sets\n",
        "dataset = DataInput(\n",
        "        data_url=\"https://raw.githubusercontent.com/nltk/nltk_data/gh-pages/packages/corpora/dependency_treebank.zip\",\n",
        "        train_size=0.50,\n",
        "        dev_size=0.25,\n",
        "        dataset_folder=os.path.join(os.getcwd(), \"dataset\"),\n",
        "        split_into_sentences=True,\n",
        "        shuffle=False\n",
        "    )"
      ]
    },
    {
      "cell_type": "markdown",
      "metadata": {
        "id": "SGQatFzWkqzk"
      },
      "source": [
        "Pre-processing is always an important step with which start. There are a lot of pre-processing steps that we can consider, but for this experiment the only pre-processing operation performed is:\n",
        "- **to lower**, in part-of-speech tagging scenario casing of the input tokens is crucial to find the correspondent token in the embedding vocabulary"
      ]
    },
    {
      "cell_type": "code",
      "execution_count": 3,
      "metadata": {
        "id": "YbVR94oskqzk"
      },
      "outputs": [],
      "source": [
        "# do preprocessing for train, validation and test sets\n",
        "dataset.preprocessing(\"train\", to_lower=True)\n",
        "dataset.preprocessing(\"dev\", to_lower=True)\n",
        "dataset.preprocessing(\"test\", to_lower=True)\n",
        "\n",
        "# separate inputs and targets\n",
        "X_train, y_train = dataset.train\n",
        "X_dev, y_dev = dataset.dev\n",
        "X_test, y_test = dataset.test"
      ]
    },
    {
      "cell_type": "code",
      "execution_count": 4,
      "metadata": {
        "colab": {
          "base_uri": "https://localhost:8080/"
        },
        "id": "lxfgDx0jrnqV",
        "outputId": "21f2b3a5-7ac1-4f6d-d6d2-39a681a5d0b7"
      },
      "outputs": [
        {
          "data": {
            "text/plain": [
              "(1957,)"
            ]
          },
          "execution_count": 4,
          "metadata": {},
          "output_type": "execute_result"
        }
      ],
      "source": [
        "dataset.train[0].shape"
      ]
    },
    {
      "cell_type": "markdown",
      "metadata": {
        "id": "IPv-M1xEmHtM"
      },
      "source": [
        "### 1.2 Dataset analysis\n",
        "Let's take a look at the dataset, to inspect the distribution of the POS tags"
      ]
    },
    {
      "cell_type": "code",
      "execution_count": 4,
      "metadata": {
        "id": "Oh9Jg3ePkqzm"
      },
      "outputs": [],
      "source": [
        "def get_occurences(data, ordered=False, exclude=[]):\n",
        "    \"\"\"\n",
        "    Get the occurences of each token in the data.\n",
        "\n",
        "    Parameters\n",
        "    ----------\n",
        "    data : list of np arrays, representing the data to get the occurences from\n",
        "    ordered : bool, if True, the occurences will be returned in descending order\n",
        "    exclude : list of strings, tokens that should not be included in the occurences\n",
        "\n",
        "    Returns\n",
        "    -------\n",
        "    occurences : dict, mapping each token to the number of occurences\n",
        "    \"\"\"\n",
        "    tokens, counts = np.unique(np.concatenate(data), return_counts=True)\n",
        "    occurences = dict(zip(tokens, counts))\n",
        "\n",
        "    if len(exclude) > 0:\n",
        "        for token in exclude:\n",
        "            if token in occurences:\n",
        "                del occurences[token]\n",
        "\n",
        "    if ordered:\n",
        "        occurences = dict(sorted(occurences.items(), key=lambda x: x[1], reverse=True))\n",
        "    return occurences\n",
        "\n",
        "# get the occurences of each POS tag in the three sets \n",
        "train_tags_occ = get_occurences(y_train, ordered=True, exclude=[])\n",
        "dev_tags_occ = get_occurences(y_dev, exclude=[])\n",
        "test_tags_occ = get_occurences(y_test, exclude=[])\n",
        "\n",
        "# build a matrix of the occurences of size (n_tags, 3)\n",
        "tags_occ = np.array([[v, dev_tags_occ[k], test_tags_occ[k]] if k in dev_tags_occ and k in test_tags_occ else [v, dev_tags_occ[k], 0] if k in dev_tags_occ else [v, 0, test_tags_occ[k]] if k in test_tags_occ else [v, 0, 0] for k, v in train_tags_occ.items()])"
      ]
    },
    {
      "cell_type": "code",
      "execution_count": 5,
      "metadata": {
        "colab": {
          "base_uri": "https://localhost:8080/",
          "height": 339
        },
        "id": "aZh5QAJIkqzn",
        "outputId": "ace7cf2d-8066-446f-9bcf-e1c5e7dd5b94"
      },
      "outputs": [
        {
          "data": {
            "text/plain": [
              "[]"
            ]
          },
          "execution_count": 5,
          "metadata": {},
          "output_type": "execute_result"
        },
        {
          "data": {
            "image/png": "[encoded data removed]",
            "text/plain": [
              "<Figure size 1656x576 with 1 Axes>"
            ]
          },
          "metadata": {
            "needs_background": "light"
          },
          "output_type": "display_data"
        }
      ],
      "source": [
        "# plot bar chart of the occurences of each POS tag\n",
        "fig, ax = plt.subplots(1, 1, figsize=(23, 8))\n",
        "tags = list(train_tags_occ.keys())\n",
        "ax.bar(tags, tags_occ[:, 1], width=0.3, align='edge', label='dev')\n",
        "ax.bar(tags, tags_occ[:, 2], width=-0.6, align='edge', label='test')\n",
        "ax.bar(tags, tags_occ[:, 0], width=-0.3, align='edge', label='train')\n",
        "ax.set_xticks(tags)\n",
        "ax.set_xlabel('Tags')\n",
        "ax.set_ylabel('Occurences')\n",
        "ax.set_title(\"Occurences of POS tags\")\n",
        "ax.legend()\n",
        "plt.plot()"
      ]
    },
    {
      "cell_type": "code",
      "execution_count": 6,
      "metadata": {
        "colab": {
          "base_uri": "https://localhost:8080/"
        },
        "id": "QYCqD_Zpkqzo",
        "outputId": "96986378-9d75-4f9e-b123-4205d37f49ed"
      },
      "outputs": [
        {
          "name": "stdout",
          "output_type": "stream",
          "text": [
            "The following tags (from the train set) are not in the dev set: {'SYM'}\n",
            "The following tags (from the train set) are not in the test set: {'FW', 'SYM', 'LS', 'UH'}\n"
          ]
        }
      ],
      "source": [
        "# analyze the difference between the presence of the POS tags in the train, dev and test sets\n",
        "train_tags_not_dev = set(train_tags_occ.keys()) - set(dev_tags_occ.keys())\n",
        "train_tags_not_test = set(train_tags_occ.keys()) - set(test_tags_occ.keys())\n",
        "dev_tags_not_train = set(dev_tags_occ.keys()) - set(train_tags_occ.keys())\n",
        "test_tags_not_train = set(test_tags_occ.keys()) - set(train_tags_occ.keys())\n",
        "\n",
        "if(len(train_tags_not_dev) > 0):\n",
        "    print(\"The following tags (from the train set) are not in the dev set:\", train_tags_not_dev)\n",
        "if(len(train_tags_not_test) > 0):\n",
        "    print(\"The following tags (from the train set) are not in the test set:\", train_tags_not_test)\n",
        "if(len(dev_tags_not_train) > 0):\n",
        "    print(\"The following tags (from the dev set) are not in the train set:\", dev_tags_not_train)\n",
        "if(len(test_tags_not_train) > 0):\n",
        "    print(\"The following tags (from the test set) are not in the train set:\", test_tags_not_train)"
      ]
    },
    {
      "cell_type": "markdown",
      "metadata": {
        "id": "mkIYSNxukqzo"
      },
      "source": [
        "### 1.3 GloVe embeddings vectorization\n",
        "The next step consists in downloading a pre-trained embedding model, namely GloVe. It is a techniques that tries to encoded global semantic properties based on the co-occurrence matrix.\n",
        "Three different dimensional space versions are available: 50, 100, 200.\n",
        "\n",
        "From the choosen embedding, a starting vocabulary is built.\n",
        "Then this vocabulary is enriched with the embeddings computed for the OOV words."
      ]
    },
    {
      "cell_type": "code",
      "execution_count": 7,
      "metadata": {
        "colab": {
          "base_uri": "https://localhost:8080/"
        },
        "id": "MxU2LR1Bkqzp",
        "outputId": "bd61af6e-d75a-4ba9-8313-5f50379df756"
      },
      "outputs": [
        {
          "name": "stdout",
          "output_type": "stream",
          "text": [
            "Parsing the training set...\n",
            "Generated embeddings for 358 OOV words.\n",
            "\n",
            "Parsing the validation set...\n",
            "Generated embeddings for 131 OOV words.\n",
            "\n",
            "Parsing the test set...\n",
            "Generated embeddings for 187 OOV words.\n"
          ]
        }
      ],
      "source": [
        "# initialize the vectorizer for the input tokens to convert them to embedding vectors\n",
        "# and build the vocabulary V1 from the glove embeddings\n",
        "text_vectorizer = TextVectorizer(\n",
        "    glove_url=\"http://nlp.stanford.edu/data/glove.6B.zip\",\n",
        "    max_tokens=20000,\n",
        "    embedding_dim=50,\n",
        "    embedding_folder=os.path.join(os.getcwd(), \"glove\"),\n",
        "    max_size=dataset.max_size\n",
        ")\n",
        "\n",
        "# compute embeddings for terms (OOV1) in the training set that are out of vocabulary V1 and add them: V2=V1+OOV1\n",
        "print(\"Parsing the training set...\")\n",
        "text_vectorizer.adapt(X_train)\n",
        "# use the vocabulary V2 to convert the training set inputs into embedding vectors\n",
        "X_train = text_vectorizer.transform(X_train)\n",
        "\n",
        "# compute embeddings for terms (OOV2) in the validation set that are out of vocabulary V2 and add them: V3=V2+OOV2\n",
        "print(\"\\nParsing the validation set...\")\n",
        "text_vectorizer.adapt(X_dev)\n",
        "# use the vocabulary V3 to convert the validation set inputs into embedding vectors\n",
        "X_dev = text_vectorizer.transform(X_dev)\n",
        "\n",
        "# compute embeddings for terms (OOV3) in the test set that are out of vocabulary V3 and add them: V4=V3+OOV3\n",
        "print(\"\\nParsing the test set...\")\n",
        "text_vectorizer.adapt(X_test)\n",
        "# use the vocabulary V4 to convert the test set inputs into embedding vectors\n",
        "X_test = text_vectorizer.transform(X_test)"
      ]
    },
    {
      "cell_type": "code",
      "execution_count": 8,
      "metadata": {
        "colab": {
          "base_uri": "https://localhost:8080/"
        },
        "id": "NwDnKWdckqzp",
        "outputId": "4f51b770-b9de-4600-fde1-527aa77aea8f"
      },
      "outputs": [
        {
          "name": "stdout",
          "output_type": "stream",
          "text": [
            "Input shape: (1957, 249, 50)\n"
          ]
        }
      ],
      "source": [
        "print(f\"Input shape: {X_train.shape}\")"
      ]
    },
    {
      "cell_type": "markdown",
      "metadata": {
        "id": "tiDdPTFrkqzp"
      },
      "source": [
        "### 1.4 One-hot encoding of the targets\n",
        "Each POS tag in each set is converted using the one-hot representation"
      ]
    },
    {
      "cell_type": "code",
      "execution_count": 9,
      "metadata": {
        "id": "C37qdVk7kqzq"
      },
      "outputs": [],
      "source": [
        "# initialize the vectorizer for the target tags to convert them into one-hot representation\n",
        "target_vectorizer = TargetVectorizer(max_size=dataset.max_size)\n",
        "\n",
        "# adapt the target vectorizer with only the training set: we do not consider possible targets that are not seen in training set but they are in the dev/test set\n",
        "target_vectorizer.adapt(y_train)  \n",
        "\n",
        "# convert the targets into one-hot representation for each splitting set\n",
        "y_train = target_vectorizer.transform(y_train)\n",
        "y_dev = target_vectorizer.transform(y_dev)\n",
        "y_test = target_vectorizer.transform(y_test)\n",
        "\n",
        "n_classes = y_train[0].shape[1]"
      ]
    },
    {
      "cell_type": "code",
      "execution_count": 10,
      "metadata": {
        "colab": {
          "base_uri": "https://localhost:8080/"
        },
        "id": "qnH7e4okkqzq",
        "outputId": "1f50c335-5ef6-47d6-cbd5-de1efa446156"
      },
      "outputs": [
        {
          "name": "stdout",
          "output_type": "stream",
          "text": [
            "Target shape: (1957, 249, 45)\n",
            "Number of classes for one-hot encoded targets: 45\n"
          ]
        }
      ],
      "source": [
        "print(f\"Target shape: {y_train.shape}\")\n",
        "print(f\"Number of classes for one-hot encoded targets: {n_classes}\")"
      ]
    },
    {
      "cell_type": "markdown",
      "metadata": {
        "id": "khILeN7fkqzq"
      },
      "source": [
        "## 2. Training"
      ]
    },
    {
      "cell_type": "markdown",
      "metadata": {
        "id": "GZfQ0dECkqzr"
      },
      "source": [
        "### 2.1 Models definition\n",
        "We are now ready to define our neural network architectures! \n",
        "Four variants will be evaluated:\n",
        "- Bidirectional LSMT + Dense layer\n",
        "- Bidirectional GRU + Dense layer\n",
        "- Two Bidirectional LSMT + Dense layer\n",
        "- Bidirectional LSMT + Two Dense layer"
      ]
    },
    {
      "cell_type": "code",
      "execution_count": 11,
      "metadata": {},
      "outputs": [],
      "source": [
        "def build_bilstm_model(hp):\n",
        "    \"\"\"\n",
        "    Build th Bidirectional LSMT + Dense layer model\n",
        "    \"\"\"\n",
        "    model = keras.Sequential()\n",
        "    model.add(layers.Masking(name='padding_masking', mask_value=0., input_shape=X_train.shape[1:]))\n",
        "    model.add(layers.Bidirectional(layers.LSTM(hp.Choice('units', [64, 128, 256]), return_sequences=True, kernel_regularizer=keras.regularizers.l2(0.01)), name=\"bilstm_1\"))\n",
        "    model.add(layers.Dropout(hp.Choice('dropout', [0.0, 0.1, 0.2, 0.3, 0.4, 0.5])))\n",
        "    model.add(layers.Dense(n_classes, activation=\"softmax\", name=\"dense_1\"))\n",
        "    model.compile(loss=\"categorical_crossentropy\", \n",
        "                  optimizer=keras.optimizers.Adam(hp.Choice('learning_rate', values=[1e-2, 1e-3, 1e-4])),\n",
        "                  metrics=['accuracy'])\n",
        "    return model\n",
        "\n",
        "def build_bigru_model(hp):\n",
        "    \"\"\"\n",
        "    Build th Bidirectional GRU + Dense layer model\n",
        "    \"\"\"\n",
        "    model = keras.Sequential()\n",
        "    model.add(layers.Masking(name='padding_masking', mask_value=0., input_shape=X_train.shape[1:]))\n",
        "    model.add(layers.Bidirectional(layers.GRU(hp.Choice('units', [64, 128, 256]), return_sequences=True, kernel_regularizer=keras.regularizers.l2(0.01)), name=\"gru_1\"))\n",
        "    model.add(layers.Dropout(hp.Choice('dropout', [0.0, 0.1, 0.2, 0.3, 0.4, 0.5])))\n",
        "    model.add(layers.Dense(n_classes, activation=\"softmax\", name=\"dense_1\"))\n",
        "    model.compile(loss=\"categorical_crossentropy\", \n",
        "                  optimizer=keras.optimizers.Adam(hp.Choice('learning_rate', values=[1e-2, 1e-3, 1e-4])),\n",
        "                  metrics=['accuracy'])\n",
        "    return model\n",
        "\n",
        "def build_two_bilstm_model(hp):\n",
        "    \"\"\"\n",
        "    Build the Two Bidirectional LSTM + Dense layer model\n",
        "    \"\"\"\n",
        "    model = keras.Sequential()\n",
        "    model.add(layers.Masking(name='padding_masking', mask_value=0., input_shape=X_train.shape[1:]))\n",
        "    model.add(layers.Bidirectional(layers.LSTM(hp.Choice('units1', [64, 128, 256]), return_sequences=True, kernel_regularizer=keras.regularizers.l2(0.01)), name=\"bilstm_1\"))\n",
        "    model.add(layers.Bidirectional(layers.LSTM(hp.Choice('units2', [64, 128, 256]), return_sequences=True, kernel_regularizer=keras.regularizers.l2(0.01)), name=\"bilstm_2\"))\n",
        "    model.add(layers.Dropout(hp.Choice('dropout', [0.0, 0.1, 0.2, 0.3, 0.4, 0.5])))\n",
        "    model.add(layers.Dense(n_classes, activation=\"softmax\", name=\"dense_1\"))\n",
        "    model.compile(loss=\"categorical_crossentropy\", \n",
        "                  optimizer=keras.optimizers.Adam(hp.Choice('learning_rate', values=[1e-2, 1e-3, 1e-4])),\n",
        "                  metrics=['accuracy'])\n",
        "    return model\n",
        "\n",
        "def build_bilstm_two_dense_model(hp):\n",
        "    model = keras.Sequential()\n",
        "    model.add(layers.Masking(name='padding_masking', mask_value=0., input_shape=X_train.shape[1:]))\n",
        "    model.add(layers.Bidirectional(layers.LSTM(hp.Choice('units1', [64, 128, 256]), return_sequences=True, kernel_regularizer=keras.regularizers.l2(0.01)), name=\"bilstm_1\"))\n",
        "    model.add(layers.Dropout(hp.Choice('dropout1', [0.0, 0.1, 0.2, 0.3, 0.4, 0.5])))\n",
        "    model.add(layers.Dense(hp.Choice('units2', [64, 128, 256]), activation=\"relu\", name=\"dense_1\", kernel_regularizer=keras.regularizers.l2(0.01)))\n",
        "    model.add(layers.Dropout(hp.Choice('dropout2', [0.0, 0.1, 0.2, 0.3, 0.4, 0.5])))\n",
        "    model.add(layers.Dense(n_classes, activation=\"softmax\", name=\"dense_2\"))\n",
        "    model.compile(loss=\"categorical_crossentropy\", \n",
        "                  optimizer=keras.optimizers.Adam(hp.Choice('learning_rate', values=[1e-2, 1e-3, 1e-4])),\n",
        "                  metrics=['accuracy'])\n",
        "    return model"
      ]
    },
    {
      "cell_type": "markdown",
      "metadata": {},
      "source": [
        "### 2.2 Hyperparameter tuning\n",
        "Let's do a tuning of the hyperparameters for each variant of the architecture"
      ]
    },
    {
      "cell_type": "code",
      "execution_count": 12,
      "metadata": {},
      "outputs": [],
      "source": [
        "epochs_tuning = 50\n",
        "batch_size_tuning = 16\n",
        "callbacks_tuning = [keras.callbacks.EarlyStopping(monitor='val_accuracy', patience=5, restore_best_weights=True)]"
      ]
    },
    {
      "cell_type": "markdown",
      "metadata": {},
      "source": [
        "Model 1: Bidirectional LSMT + Dense layer variant tuning\n"
      ]
    },
    {
      "cell_type": "code",
      "execution_count": 25,
      "metadata": {},
      "outputs": [
        {
          "name": "stdout",
          "output_type": "stream",
          "text": [
            "Trial 74 Complete [00h 01m 45s]\n",
            "val_accuracy: 0.7654891610145569\n",
            "\n",
            "Best val_accuracy So Far: 0.7734192609786987\n",
            "Total elapsed time: 00h 34m 26s\n",
            "INFO:tensorflow:Oracle triggered exit\n",
            "The hyperparameter search is complete.\n",
            "The optimal number of units in the LSTM layer is 64.\n",
            "The optimal rate for Dropout layer is 0.0.\n",
            "The optimal learning rate for the optimizer is 0.01.\n"
          ]
        }
      ],
      "source": [
        "# tune the hyperparameters of the first model\n",
        "tuner_bilstm = kt.Hyperband(build_bilstm_model,\n",
        "                     objective=kt.Objective(\"val_accuracy\", direction=\"max\"),\n",
        "                     max_epochs=epochs_tuning,\n",
        "                     #overwrite=True,\n",
        "                     directory=\"tuner\",\n",
        "                     project_name=\"tuner_bilstm\")\n",
        "tuner_bilstm.search(X_train, y_train, epochs=epochs_tuning, batch_size=batch_size_tuning, validation_data=(X_dev, y_dev), callbacks=callbacks_tuning)\n",
        "best_hps_bilstm = tuner_bilstm.get_best_hyperparameters()[0]\n",
        "\n",
        "print(f\"The hyperparameter search is complete.\\n\" \n",
        "      f\"The optimal number of units in the LSTM layer is {best_hps_bilstm.get('units')}.\\n\" \n",
        "      f\"The optimal rate for Dropout layer is {best_hps_bilstm.get('dropout')}.\\n\" \n",
        "      f\"The optimal learning rate for the optimizer is {best_hps_bilstm.get('learning_rate')}.\")"
      ]
    },
    {
      "cell_type": "markdown",
      "metadata": {},
      "source": [
        "Model 2: Bidirectional GRU + Dense layer variant tuning"
      ]
    },
    {
      "cell_type": "code",
      "execution_count": 26,
      "metadata": {},
      "outputs": [
        {
          "name": "stdout",
          "output_type": "stream",
          "text": [
            "Trial 77 Complete [00h 00m 55s]\n",
            "val_accuracy: 0.5350069999694824\n",
            "\n",
            "Best val_accuracy So Far: 0.7719350457191467\n",
            "Total elapsed time: 00h 35m 28s\n",
            "INFO:tensorflow:Oracle triggered exit\n",
            "The hyperparameter search is complete.\n",
            "The optimal number of units in the GRU layer is 64.\n",
            "The optimal rate for Dropout layer is 0.3.\n",
            "The optimal learning rate for the optimizer is 0.01.\n"
          ]
        }
      ],
      "source": [
        "# tune the hyperparameters of the second model\n",
        "tuner_bigru = kt.Hyperband(build_bigru_model,\n",
        "                     objective=kt.Objective(\"val_accuracy\", direction=\"max\"),\n",
        "                     max_epochs=epochs_tuning,\n",
        "                     #overwrite=True,\n",
        "                     directory=\"tuner\",\n",
        "                     project_name=\"tuner_bigru\")\n",
        "tuner_bigru.search(X_train, y_train, epochs=epochs_tuning, batch_size=batch_size_tuning, validation_data=(X_dev, y_dev), callbacks=callbacks_tuning)\n",
        "best_hps_bigru = tuner_bigru.get_best_hyperparameters()[0]\n",
        "\n",
        "print(f\"The hyperparameter search is complete.\\n\" \n",
        "      f\"The optimal number of units in the GRU layer is {best_hps_bigru.get('units')}.\\n\" \n",
        "      f\"The optimal rate for Dropout layer is {best_hps_bigru.get('dropout')}.\\n\" \n",
        "      f\"The optimal learning rate for the optimizer is {best_hps_bigru.get('learning_rate')}.\")"
      ]
    },
    {
      "cell_type": "markdown",
      "metadata": {},
      "source": [
        "Model 3: Two Bidirectional LSMT + Dense layer variant tuning"
      ]
    },
    {
      "cell_type": "code",
      "execution_count": 28,
      "metadata": {},
      "outputs": [
        {
          "name": "stdout",
          "output_type": "stream",
          "text": [
            "Trial 90 Complete [00h 00m 55s]\n",
            "val_accuracy: 0.1872270107269287\n",
            "\n",
            "Best val_accuracy So Far: 0.7026419639587402\n",
            "Total elapsed time: 01h 44m 07s\n",
            "INFO:tensorflow:Oracle triggered exit\n",
            "The hyperparameter search is complete.\n",
            "The optimal number of units in the first LSTM layer is 128.\n",
            "The optimal number of units in the second LSTM layer is 256.\n",
            "The optimal rate for Dropout layer is 0.5.\n",
            "The optimal learning rate for the optimizer is 0.001.\n"
          ]
        }
      ],
      "source": [
        "# tune the hyperparameters of the third model\n",
        "tuner_two_bilstm = kt.Hyperband(build_two_bilstm_model,\n",
        "                     objective=kt.Objective(\"val_accuracy\", direction=\"max\"),\n",
        "                     max_epochs=epochs_tuning,\n",
        "                     #overwrite=True,\n",
        "                     directory=\"tuner\",\n",
        "                     project_name=\"tuner_two_bilstm\")\n",
        "tuner_two_bilstm.search(X_train, y_train, epochs=epochs_tuning, batch_size=batch_size_tuning, validation_data=(X_dev, y_dev), callbacks=callbacks_tuning)\n",
        "best_hps_two_bilstm = tuner_two_bilstm.get_best_hyperparameters()[0]\n",
        "\n",
        "print(f\"The hyperparameter search is complete.\\n\" \n",
        "      f\"The optimal number of units in the first LSTM layer is {best_hps_two_bilstm.get('units1')}.\\n\" \n",
        "      f\"The optimal number of units in the second LSTM layer is {best_hps_two_bilstm.get('units2')}.\\n\" \n",
        "      f\"The optimal rate for Dropout layer is {best_hps_two_bilstm.get('dropout')}.\\n\" \n",
        "      f\"The optimal learning rate for the optimizer is {best_hps_two_bilstm.get('learning_rate')}.\")"
      ]
    },
    {
      "cell_type": "markdown",
      "metadata": {},
      "source": [
        "Model 4: Bidirectional LSMT + two Dense layer variant tuning"
      ]
    },
    {
      "cell_type": "code",
      "execution_count": 17,
      "metadata": {},
      "outputs": [
        {
          "name": "stdout",
          "output_type": "stream",
          "text": [
            "Trial 90 Complete [00h 00m 37s]\n",
            "val_accuracy: 0.1820957511663437\n",
            "\n",
            "Best val_accuracy So Far: 0.6451380252838135\n",
            "Total elapsed time: 00h 10m 26s\n",
            "INFO:tensorflow:Oracle triggered exit\n",
            "The hyperparameter search is complete.\n",
            "The optimal number of units in the LSTM layer is 64.\n",
            "The optimal rate for the first Dropout layer is 0.3.\n",
            "The optimal number of units in first densely-connected layer is 256.\n",
            "The optimal rate for the second Dropout layer is 0.5.\n",
            "The optimal learning rate for the optimizer is 0.001.\n"
          ]
        }
      ],
      "source": [
        "# tune the hyperparameters of the fourth model\n",
        "tuner_bilstm_two_dense = kt.Hyperband(build_bilstm_two_dense_model,\n",
        "                     objective=kt.Objective(\"val_accuracy\", direction=\"max\"),\n",
        "                     max_epochs=epochs_tuning,\n",
        "                     #overwrite=True,\n",
        "                     directory=\"tuner\",\n",
        "                     project_name=\"tuner_bilstm_two_dense\")\n",
        "tuner_bilstm_two_dense.search(X_train, y_train, epochs=epochs_tuning, batch_size=batch_size_tuning, validation_data=(X_dev, y_dev), callbacks=callbacks_tuning)\n",
        "best_hps_bilstm_two_dense = tuner_bilstm_two_dense.get_best_hyperparameters()[0]\n",
        "\n",
        "print(f\"The hyperparameter search is complete.\\n\" \n",
        "      f\"The optimal number of units in the LSTM layer is {best_hps_bilstm_two_dense.get('units1')}.\\n\" \n",
        "      f\"The optimal rate for the first Dropout layer is {best_hps_bilstm_two_dense.get('dropout1')}.\\n\" \n",
        "      f\"The optimal number of units in first densely-connected layer is {best_hps_bilstm_two_dense.get('units2')}.\\n\" \n",
        "      f\"The optimal rate for the second Dropout layer is {best_hps_bilstm_two_dense.get('dropout2')}.\\n\"\n",
        "      f\"The optimal learning rate for the optimizer is {best_hps_bilstm_two_dense.get('learning_rate')}.\")"
      ]
    },
    {
      "cell_type": "markdown",
      "metadata": {
        "id": "kWdZM3rskqzr"
      },
      "source": [
        "### 2.3 Model training"
      ]
    },
    {
      "cell_type": "code",
      "execution_count": 23,
      "metadata": {},
      "outputs": [],
      "source": [
        "epochs_training = 100\n",
        "batch_size_training = 16\n",
        "callbacks_training = [keras.callbacks.EarlyStopping(monitor='val_accuracy', patience=5, restore_best_weights=True)]"
      ]
    },
    {
      "cell_type": "code",
      "execution_count": 24,
      "metadata": {},
      "outputs": [],
      "source": [
        "def create_model(layers_info, compile_info):\n",
        "    \"\"\"\n",
        "    Create a Keras model given a list of layer information\n",
        "\n",
        "    Parameters\n",
        "    ----------\n",
        "    layers_info : a list of dictionaries, one for each layer\n",
        "    compile_info : dictionary containing compile information\n",
        "\n",
        "    Returns\n",
        "    -------\n",
        "    model: the built keras sequential model\n",
        "    \"\"\"\n",
        "\n",
        "    model = keras.Sequential()\n",
        "    for info in layers_info:\n",
        "        layer = info['layer_name'](**{key: value for key, value in info.items() if key != 'layer_name'})\n",
        "        model.add(layer)\n",
        "\n",
        "    # Compile\n",
        "    model.compile(**compile_info)\n",
        "\n",
        "    return model"
      ]
    },
    {
      "cell_type": "markdown",
      "metadata": {},
      "source": [
        "Model 1: Bidirectional LSMT + Dense layer variant training"
      ]
    },
    {
      "cell_type": "code",
      "execution_count": 25,
      "metadata": {},
      "outputs": [
        {
          "name": "stdout",
          "output_type": "stream",
          "text": [
            "Model: \"sequential_4\"\n",
            "_________________________________________________________________\n",
            " Layer (type)                Output Shape              Param #   \n",
            "=================================================================\n",
            " padding_masking (Masking)   (None, 249, 50)           0         \n",
            "                                                                 \n",
            " bilstm_1 (Bidirectional)    (None, 249, 128)          58880     \n",
            "                                                                 \n",
            " dropout_1 (Dropout)         (None, 249, 128)          0         \n",
            "                                                                 \n",
            " dense_1 (Dense)             (None, 249, 45)           5805      \n",
            "                                                                 \n",
            "=================================================================\n",
            "Total params: 64,685\n",
            "Trainable params: 64,685\n",
            "Non-trainable params: 0\n",
            "_________________________________________________________________\n",
            "Epoch 1/100\n",
            "123/123 [==============================] - 12s 43ms/step - loss: 0.3027 - accuracy: 0.3754 - val_loss: 0.1804 - val_accuracy: 0.5493\n",
            "Epoch 2/100\n",
            "123/123 [==============================] - 3s 25ms/step - loss: 0.1528 - accuracy: 0.6307 - val_loss: 0.1446 - val_accuracy: 0.6408\n",
            "Epoch 3/100\n",
            "123/123 [==============================] - 3s 26ms/step - loss: 0.1285 - accuracy: 0.6993 - val_loss: 0.1295 - val_accuracy: 0.6776\n",
            "Epoch 4/100\n",
            "123/123 [==============================] - 3s 28ms/step - loss: 0.1177 - accuracy: 0.7210 - val_loss: 0.1213 - val_accuracy: 0.7057\n",
            "Epoch 5/100\n",
            "123/123 [==============================] - 3s 27ms/step - loss: 0.1093 - accuracy: 0.7443 - val_loss: 0.1170 - val_accuracy: 0.7158\n",
            "Epoch 6/100\n",
            "123/123 [==============================] - 3s 27ms/step - loss: 0.1049 - accuracy: 0.7530 - val_loss: 0.1098 - val_accuracy: 0.7202\n",
            "Epoch 7/100\n",
            "123/123 [==============================] - 3s 26ms/step - loss: 0.1010 - accuracy: 0.7608 - val_loss: 0.1074 - val_accuracy: 0.7369\n",
            "Epoch 8/100\n",
            "123/123 [==============================] - 3s 27ms/step - loss: 0.0979 - accuracy: 0.7659 - val_loss: 0.1029 - val_accuracy: 0.7437\n",
            "Epoch 9/100\n",
            "123/123 [==============================] - 4s 29ms/step - loss: 0.0948 - accuracy: 0.7747 - val_loss: 0.1015 - val_accuracy: 0.7444\n",
            "Epoch 10/100\n",
            "123/123 [==============================] - 3s 28ms/step - loss: 0.0924 - accuracy: 0.7789 - val_loss: 0.1014 - val_accuracy: 0.7550\n",
            "Epoch 11/100\n",
            "123/123 [==============================] - 3s 26ms/step - loss: 0.0917 - accuracy: 0.7789 - val_loss: 0.0991 - val_accuracy: 0.7552\n",
            "Epoch 12/100\n",
            "123/123 [==============================] - 3s 26ms/step - loss: 0.0896 - accuracy: 0.7848 - val_loss: 0.0959 - val_accuracy: 0.7656\n",
            "Epoch 13/100\n",
            "123/123 [==============================] - 3s 27ms/step - loss: 0.0879 - accuracy: 0.7897 - val_loss: 0.0988 - val_accuracy: 0.7464\n",
            "Epoch 14/100\n",
            "123/123 [==============================] - 4s 30ms/step - loss: 0.0875 - accuracy: 0.7900 - val_loss: 0.0966 - val_accuracy: 0.7579\n",
            "Epoch 15/100\n",
            "123/123 [==============================] - 3s 25ms/step - loss: 0.0860 - accuracy: 0.7965 - val_loss: 0.0945 - val_accuracy: 0.7698\n",
            "Epoch 16/100\n",
            "123/123 [==============================] - 3s 25ms/step - loss: 0.0834 - accuracy: 0.8006 - val_loss: 0.0980 - val_accuracy: 0.7540\n",
            "Epoch 17/100\n",
            "123/123 [==============================] - 3s 25ms/step - loss: 0.0843 - accuracy: 0.7995 - val_loss: 0.0980 - val_accuracy: 0.7490\n",
            "Epoch 18/100\n",
            "123/123 [==============================] - 3s 24ms/step - loss: 0.0824 - accuracy: 0.8029 - val_loss: 0.0942 - val_accuracy: 0.7670\n",
            "Epoch 19/100\n",
            "123/123 [==============================] - 3s 25ms/step - loss: 0.0820 - accuracy: 0.8070 - val_loss: 0.0918 - val_accuracy: 0.7710\n",
            "Epoch 20/100\n",
            "123/123 [==============================] - 3s 25ms/step - loss: 0.0804 - accuracy: 0.8074 - val_loss: 0.0917 - val_accuracy: 0.7731\n",
            "Epoch 21/100\n",
            "123/123 [==============================] - 3s 24ms/step - loss: 0.0808 - accuracy: 0.8083 - val_loss: 0.0997 - val_accuracy: 0.7372\n",
            "Epoch 22/100\n",
            "123/123 [==============================] - 3s 26ms/step - loss: 0.0788 - accuracy: 0.8123 - val_loss: 0.0943 - val_accuracy: 0.7625\n",
            "Epoch 23/100\n",
            "123/123 [==============================] - 3s 28ms/step - loss: 0.0789 - accuracy: 0.8135 - val_loss: 0.0958 - val_accuracy: 0.7604\n",
            "Epoch 24/100\n",
            "123/123 [==============================] - 3s 27ms/step - loss: 0.0771 - accuracy: 0.8195 - val_loss: 0.0930 - val_accuracy: 0.7651\n",
            "Epoch 25/100\n",
            "123/123 [==============================] - 3s 28ms/step - loss: 0.0766 - accuracy: 0.8211 - val_loss: 0.0961 - val_accuracy: 0.7541\n"
          ]
        }
      ],
      "source": [
        "# first model    \n",
        "layers_info_bilstm = [\n",
        "    {\n",
        "        \"layer_name\": layers.Masking,\n",
        "        \"name\": \"padding_masking\",\n",
        "        \"mask_value\": 0.,\n",
        "        \"input_shape\": X_train.shape[1:]\n",
        "    },\n",
        "    {\n",
        "        'layer_name': layers.Bidirectional,\n",
        "        \"layer\": layers.LSTM(best_hps_bilstm.get('units'), return_sequences=True, kernel_regularizer=keras.regularizers.l2(0.01)),\n",
        "        \"name\": \"bilstm_1\",\n",
        "    },\n",
        "    {\n",
        "        \"layer_name\": layers.Dropout,\n",
        "        \"rate\": best_hps_bilstm.get('dropout'),\n",
        "        \"name\": \"dropout_1\"\n",
        "    },\n",
        "    {\n",
        "        \"layer_name\": layers.Dense,\n",
        "        \"units\": n_classes,\n",
        "        \"activation\": \"softmax\",\n",
        "        \"name\": \"dense_1\"\n",
        "    }\n",
        "]\n",
        "\n",
        "compile_info_bilstm = {\n",
        "    'optimizer': keras.optimizers.Adam(learning_rate=best_hps_bilstm.get('learning_rate')),\n",
        "    'loss': 'categorical_crossentropy',\n",
        "    'metrics' : ['accuracy']\n",
        "}\n",
        "\n",
        "model_bilstm = create_model(layers_info_bilstm, compile_info_bilstm)\n",
        "model_bilstm.summary()\n",
        "\n",
        "# start training\n",
        "history_bilstm = model_bilstm.fit(X_train, y_train, epochs=epochs_training, batch_size=batch_size_training, validation_data=(X_dev, y_dev), callbacks=callbacks_training)"
      ]
    },
    {
      "cell_type": "markdown",
      "metadata": {},
      "source": [
        "Model 2: Bidirectional GRU + Dense layer variant training"
      ]
    },
    {
      "cell_type": "code",
      "execution_count": 26,
      "metadata": {},
      "outputs": [
        {
          "name": "stdout",
          "output_type": "stream",
          "text": [
            "Model: \"sequential_5\"\n",
            "_________________________________________________________________\n",
            " Layer (type)                Output Shape              Param #   \n",
            "=================================================================\n",
            " padding_masking (Masking)   (None, 249, 50)           0         \n",
            "                                                                 \n",
            " bigru_1 (Bidirectional)     (None, 249, 128)          44544     \n",
            "                                                                 \n",
            " dropout_1 (Dropout)         (None, 249, 128)          0         \n",
            "                                                                 \n",
            " dense_1 (Dense)             (None, 249, 45)           5805      \n",
            "                                                                 \n",
            "=================================================================\n",
            "Total params: 50,349\n",
            "Trainable params: 50,349\n",
            "Non-trainable params: 0\n",
            "_________________________________________________________________\n",
            "Epoch 1/100\n",
            "123/123 [==============================] - 11s 47ms/step - loss: 0.2691 - accuracy: 0.5110 - val_loss: 0.1522 - val_accuracy: 0.6498\n",
            "Epoch 2/100\n",
            "123/123 [==============================] - 3s 24ms/step - loss: 0.1403 - accuracy: 0.6762 - val_loss: 0.1339 - val_accuracy: 0.6914\n",
            "Epoch 3/100\n",
            "123/123 [==============================] - 3s 24ms/step - loss: 0.1276 - accuracy: 0.7014 - val_loss: 0.1232 - val_accuracy: 0.7012\n",
            "Epoch 4/100\n",
            "123/123 [==============================] - 3s 24ms/step - loss: 0.1210 - accuracy: 0.7140 - val_loss: 0.1187 - val_accuracy: 0.7206\n",
            "Epoch 5/100\n",
            "123/123 [==============================] - 3s 24ms/step - loss: 0.1185 - accuracy: 0.7211 - val_loss: 0.1113 - val_accuracy: 0.7408\n",
            "Epoch 6/100\n",
            "123/123 [==============================] - 3s 24ms/step - loss: 0.1130 - accuracy: 0.7344 - val_loss: 0.1119 - val_accuracy: 0.7272\n",
            "Epoch 7/100\n",
            "123/123 [==============================] - 3s 24ms/step - loss: 0.1116 - accuracy: 0.7343 - val_loss: 0.1091 - val_accuracy: 0.7367\n",
            "Epoch 8/100\n",
            "123/123 [==============================] - 3s 25ms/step - loss: 0.1100 - accuracy: 0.7412 - val_loss: 0.1106 - val_accuracy: 0.7378\n",
            "Epoch 9/100\n",
            "123/123 [==============================] - 3s 25ms/step - loss: 0.1083 - accuracy: 0.7426 - val_loss: 0.1044 - val_accuracy: 0.7511\n",
            "Epoch 10/100\n",
            "123/123 [==============================] - 3s 26ms/step - loss: 0.1072 - accuracy: 0.7442 - val_loss: 0.1037 - val_accuracy: 0.7499\n",
            "Epoch 11/100\n",
            "123/123 [==============================] - 3s 24ms/step - loss: 0.1053 - accuracy: 0.7516 - val_loss: 0.1005 - val_accuracy: 0.7621\n",
            "Epoch 12/100\n",
            "123/123 [==============================] - 3s 24ms/step - loss: 0.1042 - accuracy: 0.7525 - val_loss: 0.1006 - val_accuracy: 0.7598\n",
            "Epoch 13/100\n",
            "123/123 [==============================] - 3s 28ms/step - loss: 0.1028 - accuracy: 0.7555 - val_loss: 0.1023 - val_accuracy: 0.7509\n",
            "Epoch 14/100\n",
            "123/123 [==============================] - 3s 26ms/step - loss: 0.1026 - accuracy: 0.7530 - val_loss: 0.1018 - val_accuracy: 0.7506\n",
            "Epoch 15/100\n",
            "123/123 [==============================] - 3s 28ms/step - loss: 0.1018 - accuracy: 0.7580 - val_loss: 0.0996 - val_accuracy: 0.7624\n",
            "Epoch 16/100\n",
            "123/123 [==============================] - 3s 25ms/step - loss: 0.1019 - accuracy: 0.7568 - val_loss: 0.1067 - val_accuracy: 0.7393\n",
            "Epoch 17/100\n",
            "123/123 [==============================] - 3s 26ms/step - loss: 0.1014 - accuracy: 0.7583 - val_loss: 0.1037 - val_accuracy: 0.7524\n",
            "Epoch 18/100\n",
            "123/123 [==============================] - 3s 26ms/step - loss: 0.1017 - accuracy: 0.7592 - val_loss: 0.0995 - val_accuracy: 0.7584\n",
            "Epoch 19/100\n",
            "123/123 [==============================] - 3s 27ms/step - loss: 0.1004 - accuracy: 0.7636 - val_loss: 0.1004 - val_accuracy: 0.7638\n",
            "Epoch 20/100\n",
            "123/123 [==============================] - 3s 27ms/step - loss: 0.1018 - accuracy: 0.7575 - val_loss: 0.1071 - val_accuracy: 0.7350\n",
            "Epoch 21/100\n",
            "123/123 [==============================] - 3s 27ms/step - loss: 0.1002 - accuracy: 0.7613 - val_loss: 0.0985 - val_accuracy: 0.7583\n",
            "Epoch 22/100\n",
            "123/123 [==============================] - 3s 27ms/step - loss: 0.0978 - accuracy: 0.7675 - val_loss: 0.1025 - val_accuracy: 0.7540\n",
            "Epoch 23/100\n",
            "123/123 [==============================] - 3s 28ms/step - loss: 0.0984 - accuracy: 0.7664 - val_loss: 0.0997 - val_accuracy: 0.7551\n",
            "Epoch 24/100\n",
            "123/123 [==============================] - 3s 28ms/step - loss: 0.0993 - accuracy: 0.7634 - val_loss: 0.0992 - val_accuracy: 0.7632\n"
          ]
        }
      ],
      "source": [
        "# second model    \n",
        "layers_info_bigru = [\n",
        "    {\n",
        "        \"layer_name\": layers.Masking,\n",
        "        \"name\": \"padding_masking\",\n",
        "        \"mask_value\": 0.,\n",
        "        \"input_shape\": X_train.shape[1:]\n",
        "    },\n",
        "    {\n",
        "        'layer_name': layers.Bidirectional,\n",
        "        \"layer\": layers.GRU(best_hps_bigru.get('units'), return_sequences=True, kernel_regularizer=keras.regularizers.l2(0.01)),\n",
        "        \"name\": \"bigru_1\",\n",
        "    },\n",
        "    {\n",
        "        \"layer_name\": layers.Dropout,\n",
        "        \"rate\": best_hps_bigru.get('dropout'),\n",
        "        \"name\": \"dropout_1\"\n",
        "    },\n",
        "    {\n",
        "        \"layer_name\": layers.Dense,\n",
        "        \"units\": n_classes,\n",
        "        \"activation\": \"softmax\",\n",
        "        \"name\": \"dense_1\"\n",
        "    }\n",
        "]\n",
        "\n",
        "compile_info_bigru = {\n",
        "    'optimizer': keras.optimizers.Adam(learning_rate=best_hps_bigru.get('learning_rate')),\n",
        "    'loss': 'categorical_crossentropy',\n",
        "    'metrics' : ['accuracy']\n",
        "}\n",
        "\n",
        "model_bigru = create_model(layers_info_bigru, compile_info_bigru)\n",
        "model_bigru.summary()\n",
        "\n",
        "# start training\n",
        "history_bigru = model_bigru.fit(X_train, y_train, epochs=epochs_training, batch_size=batch_size_training, validation_data=(X_dev, y_dev),  callbacks=callbacks_training)"
      ]
    },
    {
      "cell_type": "markdown",
      "metadata": {},
      "source": [
        "Model 3: Two Bidirectional LSMT + Dense layer variant training"
      ]
    },
    {
      "cell_type": "code",
      "execution_count": 27,
      "metadata": {},
      "outputs": [
        {
          "name": "stdout",
          "output_type": "stream",
          "text": [
            "Model: \"sequential_6\"\n",
            "_________________________________________________________________\n",
            " Layer (type)                Output Shape              Param #   \n",
            "=================================================================\n",
            " padding_masking (Masking)   (None, 249, 50)           0         \n",
            "                                                                 \n",
            " bilstm_1 (Bidirectional)    (None, 249, 256)          183296    \n",
            "                                                                 \n",
            " bilstm_2 (Bidirectional)    (None, 249, 512)          1050624   \n",
            "                                                                 \n",
            " dropout_1 (Dropout)         (None, 249, 512)          0         \n",
            "                                                                 \n",
            " dense_1 (Dense)             (None, 249, 45)           23085     \n",
            "                                                                 \n",
            "=================================================================\n",
            "Total params: 1,257,005\n",
            "Trainable params: 1,257,005\n",
            "Non-trainable params: 0\n",
            "_________________________________________________________________\n",
            "Epoch 1/100\n",
            "123/123 [==============================] - 21s 85ms/step - loss: 2.0175 - accuracy: 0.1578 - val_loss: 0.2953 - val_accuracy: 0.1606\n",
            "Epoch 2/100\n",
            "123/123 [==============================] - 6s 45ms/step - loss: 0.2800 - accuracy: 0.1795 - val_loss: 0.2732 - val_accuracy: 0.1856\n",
            "Epoch 3/100\n",
            "123/123 [==============================] - 6s 45ms/step - loss: 0.2677 - accuracy: 0.2017 - val_loss: 0.2642 - val_accuracy: 0.2095\n",
            "Epoch 4/100\n",
            "123/123 [==============================] - 6s 52ms/step - loss: 0.2565 - accuracy: 0.2285 - val_loss: 0.2482 - val_accuracy: 0.2581\n",
            "Epoch 5/100\n",
            "123/123 [==============================] - 6s 48ms/step - loss: 0.2321 - accuracy: 0.3286 - val_loss: 0.2132 - val_accuracy: 0.3855\n",
            "Epoch 6/100\n",
            "123/123 [==============================] - 6s 50ms/step - loss: 0.2055 - accuracy: 0.4075 - val_loss: 0.1985 - val_accuracy: 0.4314\n",
            "Epoch 7/100\n",
            "123/123 [==============================] - 6s 51ms/step - loss: 0.1919 - accuracy: 0.4428 - val_loss: 0.1913 - val_accuracy: 0.4379\n",
            "Epoch 8/100\n",
            "123/123 [==============================] - 6s 50ms/step - loss: 0.1822 - accuracy: 0.4678 - val_loss: 0.1829 - val_accuracy: 0.4685\n",
            "Epoch 9/100\n",
            "123/123 [==============================] - 6s 51ms/step - loss: 0.1734 - accuracy: 0.4906 - val_loss: 0.1688 - val_accuracy: 0.5086\n",
            "Epoch 10/100\n",
            "123/123 [==============================] - 6s 48ms/step - loss: 0.1638 - accuracy: 0.5257 - val_loss: 0.1617 - val_accuracy: 0.5345\n",
            "Epoch 11/100\n",
            "123/123 [==============================] - 6s 46ms/step - loss: 0.1561 - accuracy: 0.5454 - val_loss: 0.1543 - val_accuracy: 0.5550\n",
            "Epoch 12/100\n",
            "123/123 [==============================] - 6s 50ms/step - loss: 0.1510 - accuracy: 0.5601 - val_loss: 0.1512 - val_accuracy: 0.5611\n",
            "Epoch 13/100\n",
            "123/123 [==============================] - 6s 49ms/step - loss: 0.1470 - accuracy: 0.5705 - val_loss: 0.1473 - val_accuracy: 0.5719\n",
            "Epoch 14/100\n",
            "123/123 [==============================] - 7s 53ms/step - loss: 0.1429 - accuracy: 0.5819 - val_loss: 0.1492 - val_accuracy: 0.5644\n",
            "Epoch 15/100\n",
            "123/123 [==============================] - 6s 48ms/step - loss: 0.1392 - accuracy: 0.5940 - val_loss: 0.1433 - val_accuracy: 0.5852\n",
            "Epoch 16/100\n",
            "123/123 [==============================] - 6s 48ms/step - loss: 0.1358 - accuracy: 0.6038 - val_loss: 0.1393 - val_accuracy: 0.5896\n",
            "Epoch 17/100\n",
            "123/123 [==============================] - 6s 46ms/step - loss: 0.1337 - accuracy: 0.6098 - val_loss: 0.1387 - val_accuracy: 0.5914\n",
            "Epoch 18/100\n",
            "123/123 [==============================] - 6s 47ms/step - loss: 0.1313 - accuracy: 0.6165 - val_loss: 0.1330 - val_accuracy: 0.6121\n",
            "Epoch 19/100\n",
            "123/123 [==============================] - 6s 48ms/step - loss: 0.1272 - accuracy: 0.6302 - val_loss: 0.1321 - val_accuracy: 0.6141\n",
            "Epoch 20/100\n",
            "123/123 [==============================] - 6s 49ms/step - loss: 0.1252 - accuracy: 0.6377 - val_loss: 0.1277 - val_accuracy: 0.6247\n",
            "Epoch 21/100\n",
            "123/123 [==============================] - 6s 51ms/step - loss: 0.1219 - accuracy: 0.6469 - val_loss: 0.1274 - val_accuracy: 0.6289\n",
            "Epoch 22/100\n",
            "123/123 [==============================] - 6s 49ms/step - loss: 0.1198 - accuracy: 0.6549 - val_loss: 0.1237 - val_accuracy: 0.6381\n",
            "Epoch 23/100\n",
            "123/123 [==============================] - 6s 47ms/step - loss: 0.1168 - accuracy: 0.6636 - val_loss: 0.1220 - val_accuracy: 0.6502\n",
            "Epoch 24/100\n",
            "123/123 [==============================] - 6s 51ms/step - loss: 0.1140 - accuracy: 0.6730 - val_loss: 0.1207 - val_accuracy: 0.6474\n",
            "Epoch 25/100\n",
            "123/123 [==============================] - 6s 50ms/step - loss: 0.1110 - accuracy: 0.6831 - val_loss: 0.1153 - val_accuracy: 0.6664\n",
            "Epoch 26/100\n",
            "123/123 [==============================] - 6s 49ms/step - loss: 0.1089 - accuracy: 0.6899 - val_loss: 0.1155 - val_accuracy: 0.6663\n",
            "Epoch 27/100\n",
            "123/123 [==============================] - 6s 46ms/step - loss: 0.1069 - accuracy: 0.6950 - val_loss: 0.1123 - val_accuracy: 0.6772\n",
            "Epoch 28/100\n",
            "123/123 [==============================] - 6s 46ms/step - loss: 0.1043 - accuracy: 0.7027 - val_loss: 0.1127 - val_accuracy: 0.6738\n",
            "Epoch 29/100\n",
            "123/123 [==============================] - 6s 45ms/step - loss: 0.1030 - accuracy: 0.7066 - val_loss: 0.1062 - val_accuracy: 0.6905\n",
            "Epoch 30/100\n",
            "123/123 [==============================] - 5s 45ms/step - loss: 0.1005 - accuracy: 0.7147 - val_loss: 0.1131 - val_accuracy: 0.6741\n",
            "Epoch 31/100\n",
            "123/123 [==============================] - 6s 45ms/step - loss: 0.0992 - accuracy: 0.7177 - val_loss: 0.1110 - val_accuracy: 0.6842\n",
            "Epoch 32/100\n",
            "123/123 [==============================] - 6s 48ms/step - loss: 0.0974 - accuracy: 0.7239 - val_loss: 0.1060 - val_accuracy: 0.6949\n",
            "Epoch 33/100\n",
            "123/123 [==============================] - 6s 48ms/step - loss: 0.0950 - accuracy: 0.7310 - val_loss: 0.1044 - val_accuracy: 0.6989\n",
            "Epoch 34/100\n",
            "123/123 [==============================] - 6s 47ms/step - loss: 0.0937 - accuracy: 0.7350 - val_loss: 0.1070 - val_accuracy: 0.6921\n",
            "Epoch 35/100\n",
            "123/123 [==============================] - 6s 47ms/step - loss: 0.0930 - accuracy: 0.7364 - val_loss: 0.1031 - val_accuracy: 0.7051\n",
            "Epoch 36/100\n",
            "123/123 [==============================] - 6s 47ms/step - loss: 0.0917 - accuracy: 0.7406 - val_loss: 0.1028 - val_accuracy: 0.7093\n",
            "Epoch 37/100\n",
            "123/123 [==============================] - 6s 47ms/step - loss: 0.0901 - accuracy: 0.7453 - val_loss: 0.1016 - val_accuracy: 0.7065\n",
            "Epoch 38/100\n",
            "123/123 [==============================] - 6s 47ms/step - loss: 0.0913 - accuracy: 0.7421 - val_loss: 0.1021 - val_accuracy: 0.7088\n",
            "Epoch 39/100\n",
            "123/123 [==============================] - 6s 48ms/step - loss: 0.0881 - accuracy: 0.7531 - val_loss: 0.1044 - val_accuracy: 0.7002\n",
            "Epoch 40/100\n",
            "123/123 [==============================] - 6s 49ms/step - loss: 0.0872 - accuracy: 0.7539 - val_loss: 0.1014 - val_accuracy: 0.7102\n",
            "Epoch 41/100\n",
            "123/123 [==============================] - 6s 46ms/step - loss: 0.0872 - accuracy: 0.7554 - val_loss: 0.1019 - val_accuracy: 0.7103\n",
            "Epoch 42/100\n",
            "123/123 [==============================] - 6s 48ms/step - loss: 0.0848 - accuracy: 0.7613 - val_loss: 0.1023 - val_accuracy: 0.7111\n",
            "Epoch 43/100\n",
            "123/123 [==============================] - 6s 45ms/step - loss: 0.0834 - accuracy: 0.7658 - val_loss: 0.1008 - val_accuracy: 0.7145\n",
            "Epoch 44/100\n",
            "123/123 [==============================] - 6s 48ms/step - loss: 0.0820 - accuracy: 0.7714 - val_loss: 0.1014 - val_accuracy: 0.7134\n",
            "Epoch 45/100\n",
            "123/123 [==============================] - 6s 49ms/step - loss: 0.0810 - accuracy: 0.7729 - val_loss: 0.1007 - val_accuracy: 0.7152\n",
            "Epoch 46/100\n",
            "123/123 [==============================] - 6s 48ms/step - loss: 0.0799 - accuracy: 0.7771 - val_loss: 0.1006 - val_accuracy: 0.7170\n",
            "Epoch 47/100\n",
            "123/123 [==============================] - 6s 47ms/step - loss: 0.0798 - accuracy: 0.7792 - val_loss: 0.1006 - val_accuracy: 0.7194\n",
            "Epoch 48/100\n",
            "123/123 [==============================] - 6s 47ms/step - loss: 0.0779 - accuracy: 0.7836 - val_loss: 0.1000 - val_accuracy: 0.7199\n",
            "Epoch 49/100\n",
            "123/123 [==============================] - 6s 47ms/step - loss: 0.0765 - accuracy: 0.7871 - val_loss: 0.1022 - val_accuracy: 0.7175\n",
            "Epoch 50/100\n",
            "123/123 [==============================] - 6s 45ms/step - loss: 0.0761 - accuracy: 0.7893 - val_loss: 0.1003 - val_accuracy: 0.7235\n",
            "Epoch 51/100\n",
            "123/123 [==============================] - 6s 49ms/step - loss: 0.0758 - accuracy: 0.7924 - val_loss: 0.1045 - val_accuracy: 0.7118\n",
            "Epoch 52/100\n",
            "123/123 [==============================] - 6s 48ms/step - loss: 0.0744 - accuracy: 0.7946 - val_loss: 0.1004 - val_accuracy: 0.7231\n",
            "Epoch 53/100\n",
            "123/123 [==============================] - 6s 48ms/step - loss: 0.0742 - accuracy: 0.7959 - val_loss: 0.1027 - val_accuracy: 0.7160\n",
            "Epoch 54/100\n",
            "123/123 [==============================] - 6s 47ms/step - loss: 0.0729 - accuracy: 0.8016 - val_loss: 0.1014 - val_accuracy: 0.7196\n",
            "Epoch 55/100\n",
            "123/123 [==============================] - 6s 47ms/step - loss: 0.0721 - accuracy: 0.8020 - val_loss: 0.1018 - val_accuracy: 0.7203\n"
          ]
        }
      ],
      "source": [
        "# third model    \n",
        "layers_info_two_bilstm = [\n",
        "    {\n",
        "        \"layer_name\": layers.Masking,\n",
        "        \"name\": \"padding_masking\",\n",
        "        \"mask_value\": 0.,\n",
        "        \"input_shape\": X_train.shape[1:]\n",
        "    },\n",
        "    {\n",
        "        'layer_name': layers.Bidirectional,\n",
        "        \"layer\": layers.LSTM(best_hps_two_bilstm.get('units1'), return_sequences=True, kernel_regularizer=keras.regularizers.l2(0.01)),\n",
        "        \"name\": \"bilstm_1\",\n",
        "    },\n",
        "    {\n",
        "        'layer_name': layers.Bidirectional,\n",
        "        \"layer\": layers.LSTM(best_hps_two_bilstm.get('units2'), return_sequences=True, kernel_regularizer=keras.regularizers.l2(0.01)),\n",
        "        \"name\": \"bilstm_2\",\n",
        "    },\n",
        "    {\n",
        "        \"layer_name\": layers.Dropout,\n",
        "        \"rate\": best_hps_two_bilstm.get('dropout'),\n",
        "        \"name\": \"dropout_1\"\n",
        "    },\n",
        "    {\n",
        "        \"layer_name\": layers.Dense,\n",
        "        \"units\": n_classes,\n",
        "        \"activation\": \"softmax\",\n",
        "        \"name\": \"dense_1\"\n",
        "    }\n",
        "]\n",
        "\n",
        "compile_info_two_bilstm = {\n",
        "    'optimizer': keras.optimizers.Adam(learning_rate=best_hps_two_bilstm.get('learning_rate')),\n",
        "    'loss': 'categorical_crossentropy',\n",
        "    'metrics' : ['accuracy']\n",
        "}\n",
        "\n",
        "model_two_bilstm = create_model(layers_info_two_bilstm, compile_info_two_bilstm)\n",
        "model_two_bilstm.summary()\n",
        "\n",
        "# start training\n",
        "history_two_bilstm = model_two_bilstm.fit(X_train, y_train, epochs=epochs_training, batch_size=batch_size_training, validation_data=(X_dev, y_dev), callbacks=callbacks_training)"
      ]
    },
    {
      "cell_type": "markdown",
      "metadata": {},
      "source": [
        "Model 4: Bidirectional LSMT + two Dense layer variant training"
      ]
    },
    {
      "cell_type": "code",
      "execution_count": 29,
      "metadata": {},
      "outputs": [
        {
          "name": "stdout",
          "output_type": "stream",
          "text": [
            "Model: \"sequential_8\"\n",
            "_________________________________________________________________\n",
            " Layer (type)                Output Shape              Param #   \n",
            "=================================================================\n",
            " padding_masking (Masking)   (None, 249, 50)           0         \n",
            "                                                                 \n",
            " bilstm_1 (Bidirectional)    (None, 249, 128)          58880     \n",
            "                                                                 \n",
            " dropout_1 (Dropout)         (None, 249, 128)          0         \n",
            "                                                                 \n",
            " dense_1 (Dense)             (None, 249, 256)          33024     \n",
            "                                                                 \n",
            " dropout_2 (Dropout)         (None, 249, 256)          0         \n",
            "                                                                 \n",
            " dense_2 (Dense)             (None, 249, 45)           11565     \n",
            "                                                                 \n",
            "=================================================================\n",
            "Total params: 103,469\n",
            "Trainable params: 103,469\n",
            "Non-trainable params: 0\n",
            "_________________________________________________________________\n",
            "Epoch 1/100\n",
            "123/123 [==============================] - 12s 44ms/step - loss: 0.7853 - accuracy: 0.2118 - val_loss: 0.2823 - val_accuracy: 0.4096\n",
            "Epoch 2/100\n",
            "123/123 [==============================] - 3s 25ms/step - loss: 0.2226 - accuracy: 0.4611 - val_loss: 0.1851 - val_accuracy: 0.5168\n",
            "Epoch 3/100\n",
            "123/123 [==============================] - 3s 25ms/step - loss: 0.1770 - accuracy: 0.5461 - val_loss: 0.1607 - val_accuracy: 0.6046\n",
            "Epoch 4/100\n",
            "123/123 [==============================] - 3s 25ms/step - loss: 0.1583 - accuracy: 0.6024 - val_loss: 0.1463 - val_accuracy: 0.6483\n",
            "Epoch 5/100\n",
            "123/123 [==============================] - 3s 25ms/step - loss: 0.1462 - accuracy: 0.6391 - val_loss: 0.1351 - val_accuracy: 0.6652\n",
            "Epoch 6/100\n",
            "123/123 [==============================] - 3s 27ms/step - loss: 0.1366 - accuracy: 0.6625 - val_loss: 0.1258 - val_accuracy: 0.6934\n",
            "Epoch 7/100\n",
            "123/123 [==============================] - 3s 27ms/step - loss: 0.1288 - accuracy: 0.6877 - val_loss: 0.1194 - val_accuracy: 0.7118\n",
            "Epoch 8/100\n",
            "123/123 [==============================] - 3s 24ms/step - loss: 0.1227 - accuracy: 0.7029 - val_loss: 0.1144 - val_accuracy: 0.7244\n",
            "Epoch 9/100\n",
            "123/123 [==============================] - 3s 24ms/step - loss: 0.1177 - accuracy: 0.7162 - val_loss: 0.1100 - val_accuracy: 0.7350\n",
            "Epoch 10/100\n",
            "123/123 [==============================] - 3s 24ms/step - loss: 0.1138 - accuracy: 0.7269 - val_loss: 0.1064 - val_accuracy: 0.7434\n",
            "Epoch 11/100\n",
            "123/123 [==============================] - 3s 24ms/step - loss: 0.1094 - accuracy: 0.7387 - val_loss: 0.1032 - val_accuracy: 0.7496\n",
            "Epoch 12/100\n",
            "123/123 [==============================] - 3s 25ms/step - loss: 0.1059 - accuracy: 0.7452 - val_loss: 0.0999 - val_accuracy: 0.7570\n",
            "Epoch 13/100\n",
            "123/123 [==============================] - 3s 27ms/step - loss: 0.1029 - accuracy: 0.7542 - val_loss: 0.0967 - val_accuracy: 0.7651\n",
            "Epoch 14/100\n",
            "123/123 [==============================] - 3s 26ms/step - loss: 0.1004 - accuracy: 0.7603 - val_loss: 0.0938 - val_accuracy: 0.7727\n",
            "Epoch 15/100\n",
            "123/123 [==============================] - 3s 25ms/step - loss: 0.0968 - accuracy: 0.7694 - val_loss: 0.0918 - val_accuracy: 0.7852\n",
            "Epoch 16/100\n",
            "123/123 [==============================] - 3s 25ms/step - loss: 0.0950 - accuracy: 0.7709 - val_loss: 0.0892 - val_accuracy: 0.7832\n",
            "Epoch 17/100\n",
            "123/123 [==============================] - 3s 27ms/step - loss: 0.0920 - accuracy: 0.7813 - val_loss: 0.0875 - val_accuracy: 0.7870\n",
            "Epoch 18/100\n",
            "123/123 [==============================] - 3s 27ms/step - loss: 0.0901 - accuracy: 0.7842 - val_loss: 0.0850 - val_accuracy: 0.7953\n",
            "Epoch 19/100\n",
            "123/123 [==============================] - 3s 26ms/step - loss: 0.0878 - accuracy: 0.7926 - val_loss: 0.0832 - val_accuracy: 0.8025\n",
            "Epoch 20/100\n",
            "123/123 [==============================] - 3s 27ms/step - loss: 0.0857 - accuracy: 0.7976 - val_loss: 0.0832 - val_accuracy: 0.7998\n",
            "Epoch 21/100\n",
            "123/123 [==============================] - 3s 28ms/step - loss: 0.0844 - accuracy: 0.7998 - val_loss: 0.0811 - val_accuracy: 0.8073\n",
            "Epoch 22/100\n",
            "123/123 [==============================] - 3s 24ms/step - loss: 0.0826 - accuracy: 0.8053 - val_loss: 0.0792 - val_accuracy: 0.8107\n",
            "Epoch 23/100\n",
            "123/123 [==============================] - 4s 29ms/step - loss: 0.0811 - accuracy: 0.8076 - val_loss: 0.0772 - val_accuracy: 0.8147\n",
            "Epoch 24/100\n",
            "123/123 [==============================] - 3s 27ms/step - loss: 0.0791 - accuracy: 0.8148 - val_loss: 0.0773 - val_accuracy: 0.8146\n",
            "Epoch 25/100\n",
            "123/123 [==============================] - 3s 26ms/step - loss: 0.0779 - accuracy: 0.8174 - val_loss: 0.0756 - val_accuracy: 0.8201\n",
            "Epoch 26/100\n",
            "123/123 [==============================] - 3s 25ms/step - loss: 0.0765 - accuracy: 0.8208 - val_loss: 0.0739 - val_accuracy: 0.8230\n",
            "Epoch 27/100\n",
            "123/123 [==============================] - 3s 25ms/step - loss: 0.0752 - accuracy: 0.8234 - val_loss: 0.0739 - val_accuracy: 0.8230\n",
            "Epoch 28/100\n",
            "123/123 [==============================] - 3s 27ms/step - loss: 0.0741 - accuracy: 0.8278 - val_loss: 0.0731 - val_accuracy: 0.8213\n",
            "Epoch 29/100\n",
            "123/123 [==============================] - 3s 27ms/step - loss: 0.0729 - accuracy: 0.8309 - val_loss: 0.0719 - val_accuracy: 0.8262\n",
            "Epoch 30/100\n",
            "123/123 [==============================] - 3s 26ms/step - loss: 0.0719 - accuracy: 0.8315 - val_loss: 0.0709 - val_accuracy: 0.8277\n",
            "Epoch 31/100\n",
            "123/123 [==============================] - 3s 26ms/step - loss: 0.0705 - accuracy: 0.8361 - val_loss: 0.0702 - val_accuracy: 0.8315\n",
            "Epoch 32/100\n",
            "123/123 [==============================] - 3s 27ms/step - loss: 0.0700 - accuracy: 0.8365 - val_loss: 0.0689 - val_accuracy: 0.8350\n",
            "Epoch 33/100\n",
            "123/123 [==============================] - 3s 26ms/step - loss: 0.0688 - accuracy: 0.8403 - val_loss: 0.0688 - val_accuracy: 0.8315\n",
            "Epoch 34/100\n",
            "123/123 [==============================] - 3s 28ms/step - loss: 0.0682 - accuracy: 0.8414 - val_loss: 0.0689 - val_accuracy: 0.8324\n",
            "Epoch 35/100\n",
            "123/123 [==============================] - 3s 28ms/step - loss: 0.0671 - accuracy: 0.8458 - val_loss: 0.0675 - val_accuracy: 0.8364\n",
            "Epoch 36/100\n",
            "123/123 [==============================] - 4s 31ms/step - loss: 0.0663 - accuracy: 0.8457 - val_loss: 0.0674 - val_accuracy: 0.8393\n",
            "Epoch 37/100\n",
            "123/123 [==============================] - 4s 33ms/step - loss: 0.0655 - accuracy: 0.8471 - val_loss: 0.0667 - val_accuracy: 0.8371\n",
            "Epoch 38/100\n",
            "123/123 [==============================] - 4s 30ms/step - loss: 0.0648 - accuracy: 0.8499 - val_loss: 0.0659 - val_accuracy: 0.8390\n",
            "Epoch 39/100\n",
            "123/123 [==============================] - 3s 29ms/step - loss: 0.0637 - accuracy: 0.8530 - val_loss: 0.0657 - val_accuracy: 0.8425\n",
            "Epoch 40/100\n",
            "123/123 [==============================] - 3s 28ms/step - loss: 0.0632 - accuracy: 0.8545 - val_loss: 0.0646 - val_accuracy: 0.8468\n",
            "Epoch 41/100\n",
            "123/123 [==============================] - 4s 30ms/step - loss: 0.0621 - accuracy: 0.8561 - val_loss: 0.0640 - val_accuracy: 0.8447\n",
            "Epoch 42/100\n",
            "123/123 [==============================] - 4s 29ms/step - loss: 0.0615 - accuracy: 0.8597 - val_loss: 0.0644 - val_accuracy: 0.8447\n",
            "Epoch 43/100\n",
            "123/123 [==============================] - 3s 28ms/step - loss: 0.0607 - accuracy: 0.8614 - val_loss: 0.0637 - val_accuracy: 0.8482\n",
            "Epoch 44/100\n",
            "123/123 [==============================] - 3s 28ms/step - loss: 0.0600 - accuracy: 0.8622 - val_loss: 0.0641 - val_accuracy: 0.8464\n",
            "Epoch 45/100\n",
            "123/123 [==============================] - 3s 28ms/step - loss: 0.0600 - accuracy: 0.8623 - val_loss: 0.0628 - val_accuracy: 0.8487\n",
            "Epoch 46/100\n",
            "123/123 [==============================] - 3s 27ms/step - loss: 0.0591 - accuracy: 0.8649 - val_loss: 0.0625 - val_accuracy: 0.8482\n",
            "Epoch 47/100\n",
            "123/123 [==============================] - 3s 28ms/step - loss: 0.0581 - accuracy: 0.8675 - val_loss: 0.0618 - val_accuracy: 0.8493\n",
            "Epoch 48/100\n",
            "123/123 [==============================] - 3s 27ms/step - loss: 0.0577 - accuracy: 0.8674 - val_loss: 0.0619 - val_accuracy: 0.8507\n",
            "Epoch 49/100\n",
            "123/123 [==============================] - 3s 27ms/step - loss: 0.0571 - accuracy: 0.8694 - val_loss: 0.0615 - val_accuracy: 0.8532\n",
            "Epoch 50/100\n",
            "123/123 [==============================] - 3s 27ms/step - loss: 0.0567 - accuracy: 0.8711 - val_loss: 0.0616 - val_accuracy: 0.8512\n",
            "Epoch 51/100\n",
            "123/123 [==============================] - 3s 27ms/step - loss: 0.0559 - accuracy: 0.8732 - val_loss: 0.0619 - val_accuracy: 0.8521\n",
            "Epoch 52/100\n",
            "123/123 [==============================] - 3s 27ms/step - loss: 0.0557 - accuracy: 0.8737 - val_loss: 0.0614 - val_accuracy: 0.8524\n",
            "Epoch 53/100\n",
            "123/123 [==============================] - 3s 27ms/step - loss: 0.0550 - accuracy: 0.8755 - val_loss: 0.0614 - val_accuracy: 0.8519\n",
            "Epoch 54/100\n",
            "123/123 [==============================] - 3s 28ms/step - loss: 0.0540 - accuracy: 0.8774 - val_loss: 0.0605 - val_accuracy: 0.8536\n",
            "Epoch 55/100\n",
            "123/123 [==============================] - 3s 27ms/step - loss: 0.0539 - accuracy: 0.8791 - val_loss: 0.0597 - val_accuracy: 0.8545\n",
            "Epoch 56/100\n",
            "123/123 [==============================] - 3s 28ms/step - loss: 0.0535 - accuracy: 0.8789 - val_loss: 0.0611 - val_accuracy: 0.8535\n",
            "Epoch 57/100\n",
            "123/123 [==============================] - 3s 27ms/step - loss: 0.0531 - accuracy: 0.8802 - val_loss: 0.0599 - val_accuracy: 0.8520\n",
            "Epoch 58/100\n",
            "123/123 [==============================] - 3s 27ms/step - loss: 0.0526 - accuracy: 0.8826 - val_loss: 0.0609 - val_accuracy: 0.8541\n",
            "Epoch 59/100\n",
            "123/123 [==============================] - 3s 27ms/step - loss: 0.0522 - accuracy: 0.8824 - val_loss: 0.0601 - val_accuracy: 0.8532\n",
            "Epoch 60/100\n",
            "123/123 [==============================] - 3s 27ms/step - loss: 0.0515 - accuracy: 0.8845 - val_loss: 0.0610 - val_accuracy: 0.8515\n"
          ]
        }
      ],
      "source": [
        "# fourth model    \n",
        "layers_info_bilstm_two_dense = [\n",
        "    {\n",
        "        \"layer_name\": layers.Masking,\n",
        "        \"name\": \"padding_masking\",\n",
        "        \"mask_value\": 0.,\n",
        "        \"input_shape\": X_train.shape[1:]\n",
        "    },\n",
        "    {\n",
        "        'layer_name': layers.Bidirectional,\n",
        "        \"layer\": layers.LSTM(best_hps_bilstm_two_dense.get('units1'), return_sequences=True),\n",
        "        \"name\": \"bilstm_1\",\n",
        "    },\n",
        "    {\n",
        "        \"layer_name\": layers.Dropout,\n",
        "        \"rate\": best_hps_bilstm_two_dense.get('dropout1'),\n",
        "        \"name\": \"dropout_1\"\n",
        "    },\n",
        "    {\n",
        "        \"layer_name\": layers.Dense,\n",
        "        \"units\": best_hps_bilstm_two_dense.get('units2'),\n",
        "        \"activation\": \"relu\",\n",
        "        \"kernel_regularizer\": keras.regularizers.l2(0.01),\n",
        "        \"name\": \"dense_1\"\n",
        "    },\n",
        "    {\n",
        "        \"layer_name\": layers.Dropout,\n",
        "        \"rate\": best_hps_bilstm_two_dense.get('dropout2'),\n",
        "        \"name\": \"dropout_2\"\n",
        "    },\n",
        "    {\n",
        "        \"layer_name\": layers.Dense,\n",
        "        \"units\": n_classes,\n",
        "        \"activation\": \"softmax\",\n",
        "        \"name\": \"dense_2\"\n",
        "    }\n",
        "]\n",
        "\n",
        "compile_info_bilstm_two_dense = {\n",
        "    'optimizer': keras.optimizers.Adam(learning_rate=best_hps_bilstm_two_dense.get('learning_rate')),\n",
        "    'loss': 'categorical_crossentropy',\n",
        "    'metrics' : ['accuracy']\n",
        "}\n",
        "\n",
        "model_bilstm_two_dense = create_model(layers_info_bilstm_two_dense, compile_info_bilstm_two_dense)\n",
        "model_bilstm_two_dense.summary()\n",
        "\n",
        "# start training\n",
        "history_bilstm_two_dense = model_bilstm_two_dense.fit(X_train, y_train, epochs=epochs_training, batch_size=batch_size_training, validation_data=(X_dev, y_dev), callbacks=callbacks_training)"
      ]
    },
    {
      "cell_type": "markdown",
      "metadata": {
        "id": "ab9ETsbC2Q82"
      },
      "source": [
        "### 2.4 History of the training\n",
        "Plot metrics evolution for each epoch during the training"
      ]
    },
    {
      "cell_type": "code",
      "execution_count": 30,
      "metadata": {
        "id": "25YBLK3E2R6m"
      },
      "outputs": [],
      "source": [
        "def plot_history(models_history, keys, model_names=[], labels=(\"epochs\", \"metrics\"), figsize=(10,5), cmap='rainbow'):\n",
        "    \"\"\"\n",
        "    Plot the history of the metrics in the history dictionary for each model.\n",
        "        :param models_history: array of dictionary of the metric history for each model\n",
        "        :param keys: list of keys of the metrics to plot\n",
        "        :param model_names: list of names of the models\n",
        "        :param labels: list of labels of the axes\n",
        "        :param figsize: size of the figure\n",
        "        :param cmap: color map used for the plot\n",
        "    \"\"\"\n",
        "\n",
        "    # maps each model to a distinct RGB color\n",
        "    cmap = plt.cm.get_cmap(cmap, len(models_history))\n",
        "\n",
        "    \n",
        "    fig = plt.figure(figsize=figsize)\n",
        "\n",
        "    # for each model trained\n",
        "    for i, history in enumerate(models_history):\n",
        "        # take all pairs of training and val metrics\n",
        "        for j in range(0, len(keys), 2):\n",
        "            metric, val_metric = keys[j], keys[j+1]\n",
        "            \n",
        "            plt.plot(history[metric], label=f\"{model_names[i]} {metric}\", linestyle=\"solid\", color=cmap(i))\n",
        "            plt.plot(history[val_metric],  label=f\"{model_names[i]} {val_metric}\", linestyle=\"--\",  color=cmap(i))\n",
        "        \n",
        "    plt.xlabel(labels[0])\n",
        "    plt.ylabel(labels[1])\n",
        "\n",
        "    # Adding legend\n",
        "    plt.legend(\n",
        "          title =\"Legend\",\n",
        "          loc =\"upper left\",\n",
        "          bbox_to_anchor =(1.0, 0, 0.5, 1))\n",
        "    plt.title(\"Training history\")\n",
        "    plt.grid(linestyle='--', linewidth=1)\n",
        "    plt.show()"
      ]
    },
    {
      "cell_type": "code",
      "execution_count": 32,
      "metadata": {
        "colab": {
          "base_uri": "https://localhost:8080/",
          "height": 725
        },
        "id": "Ca9TMoj42VgT",
        "outputId": "51947068-a9de-452d-9e34-2b8217b25732"
      },
      "outputs": [
        {
          "data": {
            "image/png": "[encoded data removed]",
            "text/plain": [
              "<Figure size 1080x504 with 1 Axes>"
            ]
          },
          "metadata": {
            "needs_background": "light"
          },
          "output_type": "display_data"
        },
        {
          "data": {
            "image/png": "[encoded data removed]",
            "text/plain": [
              "<Figure size 1080x504 with 1 Axes>"
            ]
          },
          "metadata": {
            "needs_background": "light"
          },
          "output_type": "display_data"
        }
      ],
      "source": [
        "models_history = [history_bilstm.history, history_bigru.history, history_two_bilstm.history, history_bilstm_two_dense.history]\n",
        "model_names = [\"BiLSTM\", \"BiGRU\", \"2 BiLSTM\", \"BiLSTM + 2 Dense\"]\n",
        "plot_history(models_history, keys=['loss', 'val_loss'], model_names=model_names, labels=(\"epochs\", \"loss\"), figsize=(15,7),  cmap='bwr')\n",
        "plot_history(models_history, keys=['accuracy', 'val_accuracy'], model_names=model_names, labels=(\"epochs\", \"accuracy\"), figsize=(15,7),  cmap='bwr')"
      ]
    },
    {
      "cell_type": "markdown",
      "metadata": {
        "id": "ZmIWLatvkqzt"
      },
      "source": [
        "## 3. Evaluation"
      ]
    },
    {
      "cell_type": "code",
      "execution_count": 33,
      "metadata": {
        "id": "Q71LkwAPkqzt"
      },
      "outputs": [],
      "source": [
        "def evaluate_model(model, X_test, y_test, labels):\n",
        "    \"\"\"\n",
        "    given a trained model and a test set returns the f-score and the confusion matrix\n",
        "    taking into account only classes in labels\n",
        "    \"\"\"\n",
        "    raw_y_true = np.array(y_test)\n",
        "    raw_y_pred = model.predict(X_test)\n",
        "    # shape of the output is doc x len_sen x classes\n",
        "    # argmax for label predictions\n",
        "    len_sentence = raw_y_pred.shape[1]\n",
        "    num_sentences = raw_y_pred.shape[0]\n",
        "    y_pred = np.empty((num_sentences, len_sentence))\n",
        "    y_true = np.empty((num_sentences, len_sentence))\n",
        "    # assign label with the highest probability\n",
        "    for i in range(num_sentences):\n",
        "        for j in range(len_sentence):\n",
        "            y_pred[i,j] = np.argmax(raw_y_pred[i,j,:])\n",
        "            y_true[i,j] = np.argmax(raw_y_true[i,j,:])\n",
        "    # flatten the numpy array to have a 1D array\n",
        "    y_true = y_true.flatten()\n",
        "    y_pred = y_pred.flatten()\n",
        "    # show confusion matrix\n",
        "    conf_matrix = confusion_matrix(y_true, y_pred, labels=labels)\n",
        "    disp = ConfusionMatrixDisplay(conf_matrix)\n",
        "    fig, ax = plt.subplots(figsize=(10,10))\n",
        "    disp.plot(ax=ax)\n",
        "    # f1 score\n",
        "    print(\"F score:\\n-------------------------------\\n\")\n",
        "    print(f1_score(y_true, y_pred, labels=labels, average='macro'))"
      ]
    },
    {
      "cell_type": "code",
      "execution_count": 34,
      "metadata": {
        "colab": {
          "base_uri": "https://localhost:8080/",
          "height": 405
        },
        "id": "ua2c1KdCkqzt",
        "outputId": "252f5892-7065-4100-b9a1-4c278c3a2a8e"
      },
      "outputs": [
        {
          "name": "stdout",
          "output_type": "stream",
          "text": [
            "F score:\n",
            "-------------------------------\n",
            "\n",
            "0.6048033339865169\n"
          ]
        },
        {
          "name": "stderr",
          "output_type": "stream",
          "text": [
            "C:\\Users\\peppe\\anaconda3\\envs\\nlp\\lib\\site-packages\\sklearn\\metrics\\_classification.py:1580: UndefinedMetricWarning: F-score is ill-defined and being set to 0.0 in labels with no true nor predicted samples. Use `zero_division` parameter to control this behavior.\n",
            "  _warn_prf(average, \"true nor predicted\", \"F-score is\", len(true_sum))\n"
          ]
        },
        {
          "data": {
            "image/png": "[encoded data removed]",
            "text/plain": [
              "<Figure size 720x720 with 2 Axes>"
            ]
          },
          "metadata": {
            "needs_background": "light"
          },
          "output_type": "display_data"
        }
      ],
      "source": [
        "punctuation_indexes = [0, 1, 2, 3, 4, 5, 6, 16, 30, 43]\n",
        "classes = target_vectorizer.get_classes()\n",
        "valid_labels = list(set(range(len(classes))) - set(punctuation_indexes))\n",
        "evaluate_model(model_bilstm_two_dense, X_test, y_test, valid_labels)"
      ]
    },
    {
      "cell_type": "code",
      "execution_count": 35,
      "metadata": {
        "colab": {
          "base_uri": "https://localhost:8080/"
        },
        "id": "sFaG0yb4kqzu",
        "outputId": "192d94c0-4d55-48a7-f61b-ff22812bd678"
      },
      "outputs": [
        {
          "name": "stdout",
          "output_type": "stream",
          "text": [
            "Original POS tagging:  ['VBG' 'IN' 'CD' ',' 'NNS' 'IN' 'JJ' 'NNS' 'VBG' 'NNP' 'CC' 'NNP' 'NNP'\n",
            " 'VBD' 'TO' 'VB' 'DT' 'NN' 'NN' 'IN' 'NNS' 'MD' 'VB' 'IN' 'DT' 'NNS' 'VBP'\n",
            " 'DT' 'NNS' 'WP' 'VBP' 'JJ' '.']\n",
            "Predicted POS tagging:  ['NN' 'IN' 'CD' ',' 'NNS' 'IN' 'JJ' 'NNS' 'JJ' 'NNP' 'CC' 'NNP' 'NNP'\n",
            " 'VBD' 'TO' 'VB' 'DT' 'NNS' 'NN' 'IN' 'NNS' 'MD' 'VB' 'IN' 'DT' 'NNS'\n",
            " 'VBP' 'DT' 'NNS' 'WP' 'VBP' 'JJ' '.' 'NN' 'NN' 'NN' 'NN' 'NN' 'NN' 'NN'\n",
            " 'NN' 'NN' 'NN' 'NN' 'NN' 'NN' 'NN' 'NN' 'NN' 'NN' 'NN' 'NN' 'NN' 'NN'\n",
            " 'NN' 'NN' 'NN' 'NN' 'NN' 'NN' 'NN' 'NN' 'NN' 'NN' 'NN' 'NN' 'NN' 'NN'\n",
            " 'NN' 'NN' 'NN' 'NN' 'NN' 'NN' 'NN' 'NN' 'NN' 'NN' 'NN' 'NN' 'NN' 'NN'\n",
            " 'NN' 'NN' 'NN' 'NN' 'NN' 'NN' 'NN' 'NN' 'NN' 'NN' 'NN' 'NN' 'NN' 'NN'\n",
            " 'NN' 'NN' 'NN' 'NN' 'NN' 'NN' 'NN' 'NN' 'NN' 'NN' 'NN' 'NN' 'NN' 'NN'\n",
            " 'NN' 'NN' 'NN' 'NN' 'NN' 'NN' 'NN' 'NN' 'NN' 'NN' 'NN' 'NN' 'NN' 'NN'\n",
            " 'NN' 'NN' 'NN' 'NN' 'NN' 'NN' 'NN' 'NN' 'NN' 'NN' 'NN' 'NN' 'NN' 'NN'\n",
            " 'NN' 'NN' 'NN' 'NN' 'NN' 'NN' 'NN' 'NN' 'NN' 'NN' 'NN' 'NN' 'NN' 'NN'\n",
            " 'NN' 'NN' 'NN' 'NN' 'NN' 'NN' 'NN' 'NN' 'NN' 'NN' 'NN' 'NN' 'NN' 'NN'\n",
            " 'NN' 'NN' 'NN' 'NN' 'NN' 'NN' 'NN' 'NN' 'NN' 'NN' 'NN' 'NN' 'NN' 'NN'\n",
            " 'NN' 'NN' 'NN' 'NN' 'NN' 'NN' 'NN' 'NN' 'NN' 'NN' 'NN' 'NN' 'NN' 'NN'\n",
            " 'NN' 'NN' 'NN' 'NN' 'NN' 'NN' 'NN' 'NN' 'NN' 'NN' 'NN' 'NN' 'NN' 'NN'\n",
            " 'NN' 'NN' 'NN' 'NN' 'NN' 'NN' 'NN' 'NN' 'NN' 'NN' 'NN' 'NN' 'NN' 'NN'\n",
            " 'NN' 'NN' 'NN' 'NN' 'NN' 'NN' 'NN' 'NN' 'NN' 'NN' 'NN' 'NN' 'NN' 'NN'\n",
            " 'NN' 'NN' 'NN' 'NN' 'NN' 'NN' 'NN' 'NN' 'NN' 'NN' 'NN' 'NN' 'NN']\n"
          ]
        }
      ],
      "source": [
        "i_test = 6  # change this to see the prediction for a different sentence\n",
        "\n",
        "print(\"Original POS tagging: \",target_vectorizer.inverse_transform([y_test[i_test]])[0])\n",
        "\n",
        "raw_y_pred = model_bilstm_two_dense.predict(np.array([X_test[i_test]]))\n",
        "# shape of the output is doc x len_sen x classes\n",
        "# argmax for label predictions\n",
        "\n",
        "print(\"Predicted POS tagging: \",target_vectorizer.inverse_transform_probabilities(raw_y_pred)[0])"
      ]
    }
  ],
  "metadata": {
    "accelerator": "GPU",
    "colab": {
      "collapsed_sections": [],
      "include_colab_link": true,
      "name": "Copy of POS_tagging.ipynb",
      "provenance": []
    },
    "interpreter": {
      "hash": "63e28586807c6502c782d898cf9a0cc5787bb3d77952b17b51ec8bdcd4044a3d"
    },
    "kernelspec": {
      "display_name": "Python 3",
      "language": "python",
      "name": "python3"
    },
    "language_info": {
      "codemirror_mode": {
        "name": "ipython",
        "version": 3
      },
      "file_extension": ".py",
      "mimetype": "text/x-python",
      "name": "python",
      "nbconvert_exporter": "python",
      "pygments_lexer": "ipython3",
      "version": "3.9.7"
    }
  },
  "nbformat": 4,
  "nbformat_minor": 0
}

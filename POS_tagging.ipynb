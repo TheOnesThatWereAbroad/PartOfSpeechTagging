{
 "cells": [
  {
   "cell_type": "markdown",
   "metadata": {
    "colab_type": "text",
    "id": "view-in-github"
   },
   "source": [
    "<a href=\"https://colab.research.google.com/github/TheOnesThatWereAbroad/Assignment1/blob/main/POS_tagging.ipynb\" target=\"_parent\"><img src=\"https://colab.research.google.com/assets/colab-badge.svg\" alt=\"Open In Colab\"/></a>"
   ]
  },
  {
   "cell_type": "markdown",
   "metadata": {
    "id": "tc8x9pA00Sfd"
   },
   "source": [
    "# Assignment 1 - POS tagging"
   ]
  },
  {
   "cell_type": "code",
   "execution_count": null,
   "metadata": {},
   "outputs": [],
   "source": [
    "!git clone https://c9699cfe58c4d4109c1407f6ac2a52494cff8d40@github.com/TheOnesThatWereAbroad/Assignment1.git\n",
    "%cd Assignment1\n",
    "!pip install keras-tuner tensorflow-addons"
   ]
  },
  {
   "cell_type": "code",
   "execution_count": 1,
   "metadata": {
    "id": "jHhrkDf2kqzg"
   },
   "outputs": [],
   "source": [
    "import os\n",
    "import numpy as np\n",
    "import matplotlib.pyplot as plt\n",
    "import pandas as pd\n",
    "import random\n",
    "import glob\n",
    "from urllib import request\n",
    "import zipfile\n",
    "\n",
    "import tensorflow as tf\n",
    "import tensorflow_addons as tfa\n",
    "from tensorflow import keras\n",
    "from tensorflow.keras import layers\n",
    "import tensorflow.keras.backend as K\n",
    "from tensorflow.keras.models import model_from_json\n",
    "import keras_tuner as kt\n",
    "import sklearn\n",
    "from sklearn.preprocessing import LabelBinarizer\n",
    "from sklearn.metrics import confusion_matrix, ConfusionMatrixDisplay, f1_score, classification_report\n"
   ]
  },
  {
   "cell_type": "markdown",
   "metadata": {
    "id": "jx2qo48Ikqzi"
   },
   "source": [
    "## 1. Build a dataset"
   ]
  },
  {
   "cell_type": "markdown",
   "metadata": {
    "id": "IN34sX55kqzi"
   },
   "source": [
    "### 1.1 Dataset preparation\n",
    "For this experiment, the [Dependency Parsed Treebank](https://www.nltk.org/nltk_data/) dataset is used.\n",
    "Notice that each document is splitted into sentences, so the dimensionality of the data is more than 199 (total number of documents in the dataset)"
   ]
  },
  {
   "cell_type": "code",
   "execution_count": 2,
   "metadata": {},
   "outputs": [],
   "source": [
    "class DataInput:\n",
    "    \"\"\"\n",
    "    This class is used to load the data from the data_url and create the train, dev and test datasets.\n",
    "    \"\"\"\n",
    "\n",
    "    def __init__(\n",
    "        self,\n",
    "        data_url,\n",
    "        train_size,\n",
    "        dev_size,\n",
    "        dataset_folder=\"data\",\n",
    "        split_into_sentences=True,\n",
    "        shuffle=False,\n",
    "    ):\n",
    "        \"\"\"\n",
    "        Constructor for DataInput class that loads the data from the data_url and creates the train, dev and test datasets.\n",
    "        The dataset splitted is available through the instance variables self.train, self.dev, self.test\n",
    "\n",
    "        Parameters\n",
    "        ----------\n",
    "        data_url : URL of the dataset\n",
    "        train_size : percentage of the dataset that will be used for training\n",
    "        dev_size : percentage of the dataset that will be used for development\n",
    "        dataset_folder : folder where the dataset will be downloaded\n",
    "        split_into_sentences : boolean indicating if each document in the dataset should be splitted into sentences or not\n",
    "        shuffle : boolean indicating if the dataset should be shuffled or not before splitting\n",
    "        \"\"\"\n",
    "        docs = self.import_data(data_url, dataset_folder)\n",
    "        X, y = self.parse_dataset(docs, split_into_sentences)\n",
    "        self.max_size = self.get_max_size(X)\n",
    "        self.train, self.dev, self.test = self.train_dev_test_split(\n",
    "            X,\n",
    "            y,\n",
    "            train_size,\n",
    "            dev_size,\n",
    "            path_store=os.path.join(dataset_folder, \"split\"),\n",
    "            shuffle=shuffle,\n",
    "        )\n",
    "\n",
    "    def import_data(self, data_url, dataset_folder):\n",
    "        \"\"\"\n",
    "        Import dataset from URL.\n",
    "\n",
    "        Parameters\n",
    "        ----------\n",
    "        data_url : URL of the dataset\n",
    "        dataset_folder : folder where the dataset will be downloaded\n",
    "\n",
    "        Returns\n",
    "        -------\n",
    "        list of document paths\n",
    "        \"\"\"\n",
    "        # create dataset folder if it does not exist\n",
    "        if not os.path.exists(dataset_folder):\n",
    "            os.makedirs(dataset_folder)\n",
    "\n",
    "        # extract the dataset if it is not extracted\n",
    "        if not glob.glob(os.path.join(dataset_folder, \"**/*.dp\"), recursive=True):\n",
    "\n",
    "            # download the dataset if it does not exist\n",
    "            dataset_zip = os.path.join(dataset_folder, data_url.split(\"/\")[-1])\n",
    "            if not os.path.exists(dataset_zip):\n",
    "                print(\"Downloading the dataset...\")\n",
    "                request.urlretrieve(data_url, dataset_zip)\n",
    "                print(\"Successful download!\")\n",
    "\n",
    "            # extract the dataset\n",
    "            print(\"Extracting the dataset...\")\n",
    "            with zipfile.ZipFile(dataset_zip, \"r\") as zip_ref:\n",
    "                zip_ref.extractall(dataset_folder)\n",
    "                print(\"Successfully extracted the dataset!\")\n",
    "            os.remove(dataset_zip)\n",
    "\n",
    "        dataset_extracted_dir = os.path.join(\n",
    "            dataset_folder, os.listdir(dataset_folder)[0]\n",
    "        )\n",
    "        docs = [\n",
    "            os.path.join(dataset_extracted_dir, doc)\n",
    "            for doc in sorted(os.listdir(dataset_extracted_dir))\n",
    "        ]\n",
    "        return docs\n",
    "\n",
    "    def parse_dataset(self, docs, split_into_sentences):\n",
    "        \"\"\"\n",
    "        Parse the dependency treebank dataset. This takes into account if the dataset should be splitted into sentences or not (according to self.split_into_sentences).\n",
    "\n",
    "        Parameters\n",
    "        ----------\n",
    "        docs : list of document paths\n",
    "        split_into_sentences : boolean indicating if each document in the dataset should be splitted into sentences or not\n",
    "\n",
    "        Returns\n",
    "        -------\n",
    "        pair where the first element is a list of lists representing tokens in each document/sentence, the second is a list of lists representing POS tag of tokens in each document/sentence\n",
    "        \"\"\"\n",
    "        X = []\n",
    "        y = []\n",
    "        for doc in docs:\n",
    "            if split_into_sentences:\n",
    "                # if split_into_sentences is True, then we split the document into sentences considering as new sentence all the tokens after an empty line in the document\n",
    "                with open(doc, mode=\"r\", encoding=\"utf-8\") as text_file:\n",
    "                    sentence_text = []\n",
    "                    sentence_tags = []\n",
    "\n",
    "                    # read the doc and extract informations\n",
    "                    for line in text_file.readlines():\n",
    "                        if line.strip() == \"\":\n",
    "                            # if the line is empty, then we add the sentence to the list of sentences\n",
    "                            X.append(np.array(sentence_text))\n",
    "                            y.append(np.array(sentence_tags))\n",
    "                            sentence_text = []\n",
    "                            sentence_tags = []\n",
    "                        else:\n",
    "                            # if the line is not empty, then we add the token to the sentence\n",
    "                            token, tag, number = line.split(\"\\t\")\n",
    "                            sentence_text.append(token)\n",
    "                            sentence_tags.append(tag)\n",
    "                    X.append(np.array(sentence_text))\n",
    "                    y.append(np.array(sentence_tags))\n",
    "            else:\n",
    "                # otherwise we consider the whole document as a single data point\n",
    "                np_doc = np.loadtxt(doc, str, delimiter=\"\\t\", usecols=(0, 1))\n",
    "                X.append(np_doc[:, 0])\n",
    "                y.append(np_doc[:, 1])\n",
    "        return np.array(X, dtype=object), np.array(y, dtype=object)\n",
    "\n",
    "    def get_max_size(self, X):\n",
    "        \"\"\"\n",
    "        Get the maximum size of the dataset.\n",
    "\n",
    "        Parameters\n",
    "        ----------\n",
    "        X : list of lists of tokens\n",
    "\n",
    "        Returns\n",
    "        -------\n",
    "        int\n",
    "        \"\"\"\n",
    "        return max([len(x) for x in X])\n",
    "\n",
    "    def train_dev_test_split(\n",
    "        self, X, y, train_size, dev_size, path_store=None, shuffle=False\n",
    "    ):\n",
    "        \"\"\"\n",
    "        Split dataset into train, validation and test.\n",
    "\n",
    "        Parameters\n",
    "        ----------\n",
    "        X : list of lists of tokens in each document/sentence\n",
    "        y : list of lists of POS tags in each document/sentence\n",
    "        train_size : percentage of the dataset used for training\n",
    "        dev_size : percentage of the dataset used for validation (note that test size is 1-train_size-dev_size)\n",
    "        shuffle : boolean indicating if the dataset should be shuffled before splitting\n",
    "        path_store : path where the split datasets will be stored. If None, then the split datasets will not be stored.\n",
    "\n",
    "        Returns\n",
    "        -------\n",
    "        triple where the first element is the train-set, the second element is the dev-set and the third element is the test-set\n",
    "        \"\"\"\n",
    "        # shuffle the dataset\n",
    "        if shuffle:\n",
    "            dataset = list(zip(X, y))\n",
    "            random.shuffle(dataset)\n",
    "            X, y = zip(*dataset)\n",
    "            X, y = np.array(X), np.array(y)\n",
    "\n",
    "        # create folder where the split datasets will be stored if it does not exist\n",
    "        if path_store is not None and not os.path.exists(path_store):\n",
    "            os.makedirs(os.path.join(path_store, \"train\"))\n",
    "            os.makedirs(os.path.join(path_store, \"dev\"))\n",
    "            os.makedirs(os.path.join(path_store, \"test\"))\n",
    "\n",
    "        # build the train set\n",
    "        train_size = int(np.ceil(train_size * len(X)))\n",
    "        train_set = (X[:train_size], y[:train_size])\n",
    "        if path_store is not None:\n",
    "            np.savetxt(\n",
    "                os.path.join(path_store, \"train\", \"X_train.txt\"), train_set[0], fmt=\"%s\"\n",
    "            )\n",
    "            np.savetxt(\n",
    "                os.path.join(path_store, \"train\", \"y_train.txt\"), train_set[1], fmt=\"%s\"\n",
    "            )\n",
    "        print(\"Train set size:\", len(train_set[0]))\n",
    "\n",
    "        # build the dev set\n",
    "        dev_size = int(np.ceil(dev_size * len(X)))\n",
    "        dev_set = (\n",
    "            X[train_size : train_size + dev_size],\n",
    "            y[train_size : train_size + dev_size],\n",
    "        )\n",
    "        if path_store is not None:\n",
    "            np.savetxt(\n",
    "                os.path.join(path_store, \"dev\", \"X_dev.txt\"), dev_set[0], fmt=\"%s\"\n",
    "            )\n",
    "            np.savetxt(\n",
    "                os.path.join(path_store, \"dev\", \"y_dev.txt\"), dev_set[1], fmt=\"%s\"\n",
    "            )\n",
    "        print(\"Dev set size:\", len(dev_set[0]))\n",
    "\n",
    "        # build the test set\n",
    "        test_set = (X[train_size + dev_size :], y[train_size + dev_size :])\n",
    "        if path_store is not None:\n",
    "            np.savetxt(\n",
    "                os.path.join(path_store, \"test\", \"X_test.txt\"), test_set[0], fmt=\"%s\"\n",
    "            )\n",
    "            np.savetxt(\n",
    "                os.path.join(path_store, \"test\", \"y_test.txt\"), test_set[1], fmt=\"%s\"\n",
    "            )\n",
    "        print(\"Test set size:\", len(test_set[0]))\n",
    "        return train_set, dev_set, test_set\n",
    "\n",
    "    def preprocessing(self, set=\"train\", to_lower=True):\n",
    "        \"\"\"\n",
    "        Preprocess the dataset.\n",
    "\n",
    "        Parameters\n",
    "        ----------\n",
    "        set : the set to preprocess (it can be train, dev or test)\n",
    "        to_lower : boolean indicating if the dataset should be converted to lowercase\n",
    "        \"\"\"\n",
    "        # lower the tokens in a given set\n",
    "        if set == \"train\" or set == \"dev\" or set == \"test\":\n",
    "            for doc in getattr(self, set)[0]:\n",
    "                if to_lower:\n",
    "                    for i in range(len(doc)):\n",
    "                        doc[i] = doc[i].lower()\n",
    "        else:\n",
    "            raise ValueError(\"Invalid set name. It should be train, dev or test.\")\n"
   ]
  },
  {
   "cell_type": "code",
   "execution_count": 3,
   "metadata": {
    "colab": {
     "base_uri": "https://localhost:8080/"
    },
    "id": "eRQ_hwv9mHtK",
    "outputId": "a140a3ef-f843-4aba-a64e-f10e72f3c866"
   },
   "outputs": [
    {
     "name": "stdout",
     "output_type": "stream",
     "text": [
      "Train set size: 1957\n",
      "Dev set size: 979\n",
      "Test set size: 978\n"
     ]
    }
   ],
   "source": [
    "# download the dataset and split it into train, dev and test sets\n",
    "dataset = DataInput(\n",
    "        data_url=\"https://raw.githubusercontent.com/nltk/nltk_data/gh-pages/packages/corpora/dependency_treebank.zip\",\n",
    "        train_size=0.50,\n",
    "        dev_size=0.25,\n",
    "        dataset_folder=os.path.join(os.getcwd(), \"dataset\"),\n",
    "        split_into_sentences=True,\n",
    "        shuffle=False\n",
    "    )"
   ]
  },
  {
   "cell_type": "markdown",
   "metadata": {
    "id": "SGQatFzWkqzk"
   },
   "source": [
    "Pre-processing is always an important step with which start. There are a lot of pre-processing steps that we can consider, but for this experiment the only pre-processing operation performed is:\n",
    "- **to lower**, in part-of-speech tagging scenario casing of the input tokens is crucial to find the correspondent token in the embedding vocabulary"
   ]
  },
  {
   "cell_type": "code",
   "execution_count": 4,
   "metadata": {
    "id": "YbVR94oskqzk"
   },
   "outputs": [],
   "source": [
    "# do preprocessing for train, validation and test sets\n",
    "dataset.preprocessing(\"train\", to_lower=True)\n",
    "dataset.preprocessing(\"dev\", to_lower=True)\n",
    "dataset.preprocessing(\"test\", to_lower=True)\n",
    "\n",
    "# separate inputs and targets\n",
    "X_train, y_train = dataset.train\n",
    "X_dev, y_dev = dataset.dev\n",
    "X_test, y_test = dataset.test"
   ]
  },
  {
   "cell_type": "code",
   "execution_count": 5,
   "metadata": {
    "colab": {
     "base_uri": "https://localhost:8080/"
    },
    "id": "lxfgDx0jrnqV",
    "outputId": "5e7475da-c1e0-43f8-f0ec-e881d526e5f6"
   },
   "outputs": [
    {
     "name": "stdout",
     "output_type": "stream",
     "text": [
      "Example of input document:  too often now , a single court decision becomes the precedent for other , less compelling cases .\n",
      "Training set shape:  (1957,)\n"
     ]
    }
   ],
   "source": [
    "X_test_sentences = X_test\n",
    "print(\"Example of input document: \", ' '.join(X_test_sentences[1]))\n",
    "print(\"Training set shape: \", X_train.shape)"
   ]
  },
  {
   "cell_type": "markdown",
   "metadata": {
    "id": "IPv-M1xEmHtM"
   },
   "source": [
    "### 1.2 Dataset analysis\n",
    "Let's take a look at the dataset, to inspect the distribution of the POS tags"
   ]
  },
  {
   "cell_type": "code",
   "execution_count": 6,
   "metadata": {
    "id": "Oh9Jg3ePkqzm"
   },
   "outputs": [],
   "source": [
    "def get_occurences(data, ordered=False, exclude=[]):\n",
    "    \"\"\"\n",
    "    Get the occurences of each token in the data.\n",
    "\n",
    "    Parameters\n",
    "    ----------\n",
    "    data : list of np arrays, representing the data to get the occurences from\n",
    "    ordered : bool, if True, the occurences will be returned in descending order\n",
    "    exclude : list of strings, tokens that should not be included in the occurences\n",
    "\n",
    "    Returns\n",
    "    -------\n",
    "    occurences : dict, mapping each token to the number of occurences\n",
    "    \"\"\"\n",
    "    tokens, counts = np.unique(np.concatenate(data), return_counts=True)\n",
    "    occurences = dict(zip(tokens, counts))\n",
    "\n",
    "    if len(exclude) > 0:\n",
    "        for token in exclude:\n",
    "            if token in occurences:\n",
    "                del occurences[token]\n",
    "\n",
    "    if ordered:\n",
    "        occurences = dict(sorted(occurences.items(), key=lambda x: x[1], reverse=True))\n",
    "    return occurences\n",
    "\n",
    "# get the occurences of each POS tag in the three sets \n",
    "train_tags_occ = get_occurences(y_train, ordered=True, exclude=[])\n",
    "dev_tags_occ = get_occurences(y_dev, exclude=[])\n",
    "test_tags_occ = get_occurences(y_test, exclude=[])\n",
    "\n",
    "# build a matrix of the occurences of size (n_tags, 3)\n",
    "tags_occ = np.array([[v, dev_tags_occ[k], test_tags_occ[k]] if k in dev_tags_occ and k in test_tags_occ else [v, dev_tags_occ[k], 0] if k in dev_tags_occ else [v, 0, test_tags_occ[k]] if k in test_tags_occ else [v, 0, 0] for k, v in train_tags_occ.items()])"
   ]
  },
  {
   "cell_type": "code",
   "execution_count": 7,
   "metadata": {
    "colab": {
     "base_uri": "https://localhost:8080/",
     "height": 530
    },
    "id": "aZh5QAJIkqzn",
    "outputId": "556398d9-7751-49d5-845f-0644ee869d20"
   },
   "outputs": [
    {
     "data": {
      "text/plain": [
       "[]"
      ]
     },
     "execution_count": 7,
     "metadata": {},
     "output_type": "execute_result"
    },
    {
     "data": {
      "image/png": "[encoded data removed]",
      "text/plain": [
       "<Figure size 1656x576 with 1 Axes>"
      ]
     },
     "metadata": {
      "needs_background": "light"
     },
     "output_type": "display_data"
    }
   ],
   "source": [
    "# plot bar chart of the occurences of each POS tag\n",
    "fig, ax = plt.subplots(1, 1, figsize=(23, 8))\n",
    "tags = list(train_tags_occ.keys())\n",
    "ax.bar(tags, tags_occ[:, 1], width=0.3, align='edge', label='dev')\n",
    "ax.bar(tags, tags_occ[:, 2], width=-0.6, align='edge', label='test')\n",
    "ax.bar(tags, tags_occ[:, 0], width=-0.3, align='edge', label='train')\n",
    "ax.set_xticks(tags)\n",
    "ax.set_xlabel('Tags')\n",
    "ax.set_ylabel('Occurences')\n",
    "ax.set_title(\"Occurences of POS tags\")\n",
    "ax.legend()\n",
    "plt.plot()"
   ]
  },
  {
   "cell_type": "code",
   "execution_count": 8,
   "metadata": {
    "colab": {
     "base_uri": "https://localhost:8080/"
    },
    "id": "QYCqD_Zpkqzo",
    "outputId": "045b1806-bede-45c5-aee3-64968514b9a8"
   },
   "outputs": [
    {
     "name": "stdout",
     "output_type": "stream",
     "text": [
      "The following tags (from the train set) are not in the dev set: {'SYM'}\n",
      "The following tags (from the train set) are not in the test set: {'UH', 'FW', 'SYM', 'LS'}\n"
     ]
    }
   ],
   "source": [
    "# analyze the difference between the presence of the POS tags in the train, dev and test sets\n",
    "train_tags_not_dev = set(train_tags_occ.keys()) - set(dev_tags_occ.keys())\n",
    "train_tags_not_test = set(train_tags_occ.keys()) - set(test_tags_occ.keys())\n",
    "dev_tags_not_train = set(dev_tags_occ.keys()) - set(train_tags_occ.keys())\n",
    "test_tags_not_train = set(test_tags_occ.keys()) - set(train_tags_occ.keys())\n",
    "\n",
    "if(len(train_tags_not_dev) > 0):\n",
    "    print(\"The following tags (from the train set) are not in the dev set:\", train_tags_not_dev)\n",
    "if(len(train_tags_not_test) > 0):\n",
    "    print(\"The following tags (from the train set) are not in the test set:\", train_tags_not_test)\n",
    "if(len(dev_tags_not_train) > 0):\n",
    "    print(\"The following tags (from the dev set) are not in the train set:\", dev_tags_not_train)\n",
    "if(len(test_tags_not_train) > 0):\n",
    "    print(\"The following tags (from the test set) are not in the train set:\", test_tags_not_train)"
   ]
  },
  {
   "cell_type": "markdown",
   "metadata": {
    "id": "mkIYSNxukqzo"
   },
   "source": [
    "### 1.3 GloVe embeddings vectorization\n",
    "The next step consists in downloading a pre-trained embedding model, namely GloVe. It is a techniques that tries to encoded global semantic properties based on the co-occurrence matrix.\n",
    "Three different dimensional space versions are available: 50, 100, 200. In this experiment the version with vectors of length 100 is used.\n",
    "\n",
    "From the choosen embedding, a starting vocabulary is built.\n",
    "Then this vocabulary is enriched with the embeddings computed for the OOV words."
   ]
  },
  {
   "cell_type": "code",
   "execution_count": 9,
   "metadata": {},
   "outputs": [],
   "source": [
    "class NotAdaptedError(Exception):\n",
    "    pass\n",
    "\n",
    "\n",
    "class TextVectorizer:\n",
    "    def __init__(\n",
    "        self,\n",
    "        glove_url=\"http://nlp.stanford.edu/data/glove.6B.zip\",\n",
    "        embedding_dim=100,\n",
    "        embedding_folder=\"glove\",\n",
    "        max_size=300,\n",
    "    ):\n",
    "        \"\"\"\n",
    "        This class parses the GloVe embeddings, the input documents are expected\n",
    "        to be in the form of a list of lists.\n",
    "        [[\"word1\", \"word2\", ...], [\"word1\", \"word2\", ...], ...]\n",
    "\n",
    "        Parameters\n",
    "        ----------\n",
    "        glove_url : The url of the GloVe embeddings.\n",
    "        embedding_dim : The dimension of the embeddings (pick one of 50, 100, 200, 300).\n",
    "        embedding_folder : folder where the embedding will be downloaded\n",
    "        max_size : The maximum size of the documents.\n",
    "        \"\"\"\n",
    "        self.embedding_dim = embedding_dim\n",
    "        self.download_glove_if_needed(\n",
    "            glove_url=glove_url, embedding_folder=embedding_folder\n",
    "        )\n",
    "        self.max_size = max_size\n",
    "\n",
    "        # create the vocabulary\n",
    "        self.vocabulary = self.parse_glove(embedding_folder)\n",
    "\n",
    "    def download_glove_if_needed(self, glove_url, embedding_folder):\n",
    "        \"\"\"\n",
    "        Downloads the glove embeddings from the internet\n",
    "\n",
    "        Parameters\n",
    "        ----------\n",
    "        glove_url : The url of the GloVe embeddings.\n",
    "        embedding_folder: folder where the embedding will be downloaded\n",
    "        \"\"\"\n",
    "        # create embedding folder if it does not exist\n",
    "        if not os.path.exists(embedding_folder):\n",
    "            os.makedirs(embedding_folder)\n",
    "\n",
    "        # extract the embedding if it is not extracted\n",
    "        if not glob.glob(\n",
    "            os.path.join(embedding_folder, \"**/glove*.txt\"), recursive=True\n",
    "        ):\n",
    "\n",
    "            # download the embedding if it does not exist\n",
    "            embedding_zip = os.path.join(embedding_folder, glove_url.split(\"/\")[-1])\n",
    "            if not os.path.exists(embedding_zip):\n",
    "                print(\"Downloading the GloVe embeddings...\")\n",
    "                request.urlretrieve(glove_url, embedding_zip)\n",
    "                print(\"Successful download!\")\n",
    "\n",
    "            # extract the embedding\n",
    "            print(\"Extracting the embeddings...\")\n",
    "            with zipfile.ZipFile(embedding_zip, \"r\") as zip_ref:\n",
    "                zip_ref.extractall(embedding_folder)\n",
    "                print(\"Successfully extracted the embeddings!\")\n",
    "            os.remove(embedding_zip)\n",
    "\n",
    "    def parse_glove(self, embedding_folder):\n",
    "        \"\"\"\n",
    "        Parses the GloVe embeddings from their files, filling the vocabulary.\n",
    "\n",
    "        Parameters\n",
    "        ----------\n",
    "        embedding_folder : folder where the embedding files are stored\n",
    "\n",
    "        Returns\n",
    "        -------\n",
    "        dictionary representing the vocabulary from the embeddings\n",
    "        \"\"\"\n",
    "        vocabulary = {\"<pad>\": np.zeros(self.embedding_dim)}\n",
    "        embedding_file = os.path.join(\n",
    "            embedding_folder, \"glove.6B.\" + str(self.embedding_dim) + \"d.txt\"\n",
    "        )\n",
    "        with open(embedding_file, encoding=\"utf8\") as f:\n",
    "            for line in f:\n",
    "                word, coefs = line.split(maxsplit=1)\n",
    "                coefs = np.fromstring(coefs, \"f\", sep=\" \")\n",
    "                vocabulary[word] = coefs\n",
    "        return vocabulary\n",
    "\n",
    "    def adapt(self, documents):\n",
    "        \"\"\"\n",
    "        Computes the OOV words for a single data split, and adds them to the vocabulary.\n",
    "\n",
    "        Parameters\n",
    "        ----------\n",
    "        documents : The data split (might be training set, validation set, or test set).\n",
    "        \"\"\"\n",
    "        # create a set containing words from the documents in a given data split\n",
    "        words = {word for doc in documents for word in doc}\n",
    "        oov_words = words - self.vocabulary.keys()\n",
    "\n",
    "        # add the OOV words to the vocabulary giving them a random encoding\n",
    "        for word in oov_words:\n",
    "            self.vocabulary[word] = np.random.uniform(-1, 1, size=self.embedding_dim)\n",
    "        print(f\"Generated embeddings for {len(oov_words)} OOV words.\")\n",
    "\n",
    "    def transform(self, documents):\n",
    "        \"\"\"\n",
    "        Transform the data into the input structure for the training. This method should be used always after the adapt method.\n",
    "\n",
    "        Parameters\n",
    "        ----------\n",
    "        documents : The data split (might be training set, validation set, or test set).\n",
    "\n",
    "        Returns\n",
    "        -------\n",
    "        Array of shape (number of documents, number of words, embedding dimension)\n",
    "        \"\"\"\n",
    "        result = []\n",
    "        for document in documents:\n",
    "            result.append(\n",
    "                np.vstack(\n",
    "                    (\n",
    "                        self._transform_document(document),\n",
    "                        np.zeros((self.max_size - len(document), self.embedding_dim)),\n",
    "                    )\n",
    "                )\n",
    "            )\n",
    "        return np.array(result)\n",
    "\n",
    "    def _transform_document(self, document):\n",
    "        \"\"\"\n",
    "        Transforms a single document to the GloVe embedding\n",
    "\n",
    "        Parameters\n",
    "        ----------\n",
    "        document : The document to be transformed.\n",
    "\n",
    "        Returns\n",
    "        -------\n",
    "        Numpy array of shape (number of words, embedding dimension)\n",
    "        \"\"\"\n",
    "        try:\n",
    "            return np.array([self.vocabulary[word] for word in document])\n",
    "        except KeyError:\n",
    "            raise NotAdaptedError(\n",
    "                f\"The whole document is not in the vocabulary. Please adapt the vocabulary first.\"\n",
    "            )"
   ]
  },
  {
   "cell_type": "code",
   "execution_count": 10,
   "metadata": {
    "colab": {
     "base_uri": "https://localhost:8080/"
    },
    "id": "MxU2LR1Bkqzp",
    "outputId": "428fcf88-124e-4e49-a2cb-2fd6e16ac514"
   },
   "outputs": [
    {
     "name": "stdout",
     "output_type": "stream",
     "text": [
      "Parsing the training set...\n",
      "Generated embeddings for 358 OOV words.\n",
      "\n",
      "Parsing the validation set...\n",
      "Generated embeddings for 131 OOV words.\n",
      "\n",
      "Parsing the test set...\n",
      "Generated embeddings for 187 OOV words.\n"
     ]
    }
   ],
   "source": [
    "# initialize the vectorizer for the input tokens to convert them to embedding vectors\n",
    "# and build the vocabulary V1 from the glove embeddings\n",
    "text_vectorizer = TextVectorizer(\n",
    "    glove_url=\"http://nlp.stanford.edu/data/glove.6B.zip\",\n",
    "    embedding_dim=100,\n",
    "    embedding_folder=os.path.join(os.getcwd(), \"glove\"),\n",
    "    max_size=dataset.max_size\n",
    ")\n",
    "\n",
    "# compute embeddings for terms (OOV1) in the training set that are out of vocabulary V1 and add them: V2=V1+OOV1\n",
    "print(\"Parsing the training set...\")\n",
    "text_vectorizer.adapt(X_train)\n",
    "# use the vocabulary V2 to convert the training set inputs into embedding vectors\n",
    "X_train = text_vectorizer.transform(X_train)\n",
    "\n",
    "# compute embeddings for terms (OOV2) in the validation set that are out of vocabulary V2 and add them: V3=V2+OOV2\n",
    "print(\"\\nParsing the validation set...\")\n",
    "text_vectorizer.adapt(X_dev)\n",
    "# use the vocabulary V3 to convert the validation set inputs into embedding vectors\n",
    "X_dev = text_vectorizer.transform(X_dev)\n",
    "\n",
    "# compute embeddings for terms (OOV3) in the test set that are out of vocabulary V3 and add them: V4=V3+OOV3\n",
    "print(\"\\nParsing the test set...\")\n",
    "text_vectorizer.adapt(X_test)\n",
    "# use the vocabulary V4 to convert the test set inputs into embedding vectors\n",
    "X_test = text_vectorizer.transform(X_test)"
   ]
  },
  {
   "cell_type": "code",
   "execution_count": 11,
   "metadata": {
    "colab": {
     "base_uri": "https://localhost:8080/"
    },
    "id": "NwDnKWdckqzp",
    "outputId": "3bdc5ada-1348-4f96-9509-8e578aef07f4"
   },
   "outputs": [
    {
     "name": "stdout",
     "output_type": "stream",
     "text": [
      "Input shape: (1957, 249, 100)\n"
     ]
    }
   ],
   "source": [
    "print(f\"Input shape: {X_train.shape}\")"
   ]
  },
  {
   "cell_type": "markdown",
   "metadata": {
    "id": "tiDdPTFrkqzp"
   },
   "source": [
    "### 1.4 One-hot encoding of the targets\n",
    "Each POS tag in each set is converted using the one-hot representation"
   ]
  },
  {
   "cell_type": "code",
   "execution_count": 12,
   "metadata": {},
   "outputs": [],
   "source": [
    "class TargetVectorizer:\n",
    "    def __init__(self, max_size):\n",
    "        \"\"\"\n",
    "        This class one-hot encodes the target documents, containing the POS tags.\n",
    "        \"\"\"\n",
    "        self.vectorizer = LabelBinarizer()\n",
    "        self.max_size = max_size\n",
    "\n",
    "    def adapt(self, targets):\n",
    "        \"\"\"\n",
    "        Fits the vectorizer for the classes.\n",
    "\n",
    "        Parameters\n",
    "        ----------\n",
    "        targets : The target tags for the dataset split given (it is a list of lists).\n",
    "        \"\"\"\n",
    "        self.vectorizer.fit(\n",
    "            [target for doc_targets in targets for target in doc_targets]\n",
    "        )\n",
    "\n",
    "    def transform(self, targets):\n",
    "        \"\"\"\n",
    "        Performs the one-hot encoding for the dataset Ys, returning a list of encoded document tags.\n",
    "\n",
    "        Parameters\n",
    "        ----------\n",
    "        targets : The target tags for the dataset split given (it is a list of lists).\n",
    "\n",
    "        Returns\n",
    "        -------\n",
    "        List of shape (number of documents, numbero of tokens, number of classes)\n",
    "        \"\"\"\n",
    "        if self.vectorizer.classes_.shape[0] == 0:\n",
    "            raise NotAdaptedError(\n",
    "                \"The target vectorizer has not been adapted yet. Please adapt it first.\"\n",
    "            )\n",
    "\n",
    "        result = []\n",
    "        for document in targets:\n",
    "            transformed = self.vectorizer.transform(document)\n",
    "            pad_size = (self.max_size - len(document), transformed.shape[1])\n",
    "            result.append(\n",
    "                np.vstack((self.vectorizer.transform(document), np.zeros(pad_size)))\n",
    "            )\n",
    "        return np.array(result)\n",
    "\n",
    "    def inverse_transform(self, targets):\n",
    "        \"\"\"\n",
    "        Performs the inverse one-hot encoding for the dataset Ys, returning a list of decoded document tags.\n",
    "        Parameters\n",
    "        ----------\n",
    "        targets : The target tags for the dataset split given, already in one-hot encoding form.\n",
    "        Returns\n",
    "        -------\n",
    "        List of decoded document tags\n",
    "        \"\"\"\n",
    "        if self.vectorizer.classes_.shape[0] == 0:\n",
    "            raise NotAdaptedError(\n",
    "                \"The target vectorizer has not been adapted yet. Please adapt it first.\"\n",
    "            )\n",
    "        return np.array(\n",
    "            [\n",
    "                self.vectorizer.inverse_transform(document[document.any(1)])\n",
    "                for document in targets\n",
    "            ]\n",
    "            , dtype=object\n",
    "        )\n",
    "\n",
    "    def inverse_transform_probabilities(self, targets):\n",
    "        \"\"\"\n",
    "        Performs the inverse one-hot encoding for a prediction, given the matrix of probabilities.\n",
    "\n",
    "        Parameters\n",
    "        ----------\n",
    "        targets : The predicted probabilities for targets.\n",
    "\n",
    "        Returns\n",
    "        -------\n",
    "        List of decoded document tags\n",
    "        \"\"\"\n",
    "        n_classes = targets.shape[2]\n",
    "        targets = np.array(\n",
    "            [document[np.std(document, axis=1) > 0.05] for document in targets], dtype=object\n",
    "        )\n",
    "        y_pred = np.zeros((len(targets), max([len(document) for document in targets]), n_classes))\n",
    "        for i, document in enumerate(targets):\n",
    "            for j, word in enumerate(document):\n",
    "                y_pred[i, j, np.argmax(word)] = 1\n",
    "\n",
    "        return self.inverse_transform(y_pred)\n",
    "\n",
    "    def get_classes(self):\n",
    "        \"\"\"\n",
    "        Returns the classes of the target vectorizer.\n",
    "\n",
    "        Returns\n",
    "        -------\n",
    "        List of classes\n",
    "        \"\"\"\n",
    "        return self.vectorizer.classes_"
   ]
  },
  {
   "cell_type": "code",
   "execution_count": 13,
   "metadata": {
    "id": "C37qdVk7kqzq"
   },
   "outputs": [],
   "source": [
    "# initialize the vectorizer for the target tags to convert them into one-hot representation\n",
    "target_vectorizer = TargetVectorizer(max_size=dataset.max_size)\n",
    "\n",
    "# adapt the target vectorizer with only the training set: we do not consider possible targets that are not seen in training set but they are in the dev/test set\n",
    "target_vectorizer.adapt(y_train)  \n",
    "\n",
    "# convert the targets into one-hot representation for each splitting set\n",
    "y_train = target_vectorizer.transform(y_train)\n",
    "y_dev = target_vectorizer.transform(y_dev)\n",
    "y_test = target_vectorizer.transform(y_test)\n",
    "\n",
    "n_classes = y_train[0].shape[1]"
   ]
  },
  {
   "cell_type": "code",
   "execution_count": 14,
   "metadata": {
    "colab": {
     "base_uri": "https://localhost:8080/"
    },
    "id": "qnH7e4okkqzq",
    "outputId": "067add6b-be52-4989-8fc6-5489c0c6f068"
   },
   "outputs": [
    {
     "name": "stdout",
     "output_type": "stream",
     "text": [
      "Target shape: (1957, 249, 45)\n",
      "Number of classes for one-hot encoded targets: 45\n"
     ]
    }
   ],
   "source": [
    "print(f\"Target shape: {y_train.shape}\")\n",
    "print(f\"Number of classes for one-hot encoded targets: {n_classes}\")"
   ]
  },
  {
   "cell_type": "markdown",
   "metadata": {
    "id": "khILeN7fkqzq"
   },
   "source": [
    "## 2. Training"
   ]
  },
  {
   "cell_type": "markdown",
   "metadata": {
    "id": "GZfQ0dECkqzr"
   },
   "source": [
    "### 2.1 Models definition\n",
    "We are now ready to define our neural network architectures! \n",
    "Four variants will be evaluated:\n",
    "- Bidirectional LSMT + Dense layer\n",
    "- Bidirectional GRU + Dense layer\n",
    "- Two Bidirectional LSMT + Dense layer\n",
    "- Bidirectional LSMT + Two Dense layer"
   ]
  },
  {
   "cell_type": "code",
   "execution_count": 15,
   "metadata": {
    "id": "l057_W6_87Fo"
   },
   "outputs": [],
   "source": [
    "tfa_f1 = tfa.metrics.F1Score(\n",
    "    num_classes= n_classes,\n",
    "    name = 'f1_score',\n",
    "    )\n",
    "punctuation_indices = [0, 1, 2, 3, 4, 5, 6,7, 16, 30, 43]\n",
    "\n",
    "def f1_with_tfa(y_true, y_pred):\n",
    "    \"\"\"\n",
    "    Computes the F1 score using TensorFlow.\n",
    "    The punctuation is ignored.\n",
    "    \"\"\"\n",
    "    y_true = tf.reshape(y_true, (-1, n_classes))\n",
    "    punctuation = tf.gather(y_true, punctuation_indices, axis=-1)\n",
    "    y_mask = tf.cast(tf.logical_not(tf.reduce_any(tf.cast(punctuation, tf.bool), axis=-1)), tf.float32)\n",
    "    y_pred = tf.reshape(y_pred, (-1, n_classes))\n",
    "    tfa_f1.update_state(y_true, y_pred, sample_weight=y_mask)\n",
    "    result = tfa_f1.result()\n",
    "    K.batch_set_value([(v, np.zeros(v.shape.as_list())) for v in tfa_f1.variables])\n",
    "    return K.sum(result)/(n_classes-len(punctuation_indices))"
   ]
  },
  {
   "cell_type": "code",
   "execution_count": null,
   "metadata": {
    "id": "BFmjvEd_3ZUK"
   },
   "outputs": [],
   "source": [
    "def build_bilstm_model(hp):\n",
    "    \"\"\"\n",
    "    Build th Bidirectional LSMT + Dense layer model\n",
    "    \"\"\"\n",
    "    model = keras.Sequential()\n",
    "    model.add(layers.Masking(name='padding_masking', mask_value=0., input_shape=X_train.shape[1:]))\n",
    "    model.add(layers.Bidirectional(layers.LSTM(hp.Choice('units', [64, 128, 256]), return_sequences=True, kernel_regularizer=keras.regularizers.l2(0.01)), name=\"bilstm_1\"))\n",
    "    model.add(layers.Dropout(hp.Choice('dropout', [0.0, 0.1, 0.2, 0.3, 0.4, 0.5])))\n",
    "    model.add(layers.Dense(n_classes, activation=\"softmax\", name=\"dense_1\"))\n",
    "    model.compile(loss=\"categorical_crossentropy\", \n",
    "                  optimizer=keras.optimizers.Adam(hp.Choice('learning_rate', values=[1e-2, 1e-3, 1e-4])),\n",
    "                  metrics=[f1_with_tfa])\n",
    "    return model\n",
    "\n",
    "def build_bigru_model(hp):\n",
    "    \"\"\"\n",
    "    Build th Bidirectional GRU + Dense layer model\n",
    "    \"\"\"\n",
    "    model = keras.Sequential()\n",
    "    model.add(layers.Masking(name='padding_masking', mask_value=0., input_shape=X_train.shape[1:]))\n",
    "    model.add(layers.Bidirectional(layers.GRU(hp.Choice('units', [64, 128, 256]), return_sequences=True, kernel_regularizer=keras.regularizers.l2(0.01)), name=\"gru_1\"))\n",
    "    model.add(layers.Dropout(hp.Choice('dropout', [0.0, 0.1, 0.2, 0.3, 0.4, 0.5])))\n",
    "    model.add(layers.Dense(n_classes, activation=\"softmax\", name=\"dense_1\"))\n",
    "    model.compile(loss=\"categorical_crossentropy\", \n",
    "                  optimizer=keras.optimizers.Adam(hp.Choice('learning_rate', values=[1e-2, 1e-3, 1e-4])),\n",
    "                  metrics=[f1_with_tfa])\n",
    "    return model\n",
    "\n",
    "def build_two_bilstm_model(hp):\n",
    "    \"\"\"\n",
    "    Build the Two Bidirectional LSTM + Dense layer model\n",
    "    \"\"\"\n",
    "    model = keras.Sequential()\n",
    "    model.add(layers.Masking(name='padding_masking', mask_value=0., input_shape=X_train.shape[1:]))\n",
    "    model.add(layers.Bidirectional(layers.LSTM(hp.Choice('units1', [64, 128, 256]), return_sequences=True, kernel_regularizer=keras.regularizers.l2(0.01)), name=\"bilstm_1\"))\n",
    "    model.add(layers.Bidirectional(layers.LSTM(hp.Choice('units2', [64, 128, 256]), return_sequences=True, kernel_regularizer=keras.regularizers.l2(0.01)), name=\"bilstm_2\"))\n",
    "    model.add(layers.Dropout(hp.Choice('dropout', [0.0, 0.1, 0.2, 0.3, 0.4, 0.5])))\n",
    "    model.add(layers.Dense(n_classes, activation=\"softmax\", name=\"dense_1\"))\n",
    "    model.compile(loss=\"categorical_crossentropy\", \n",
    "                  optimizer=keras.optimizers.Adam(hp.Choice('learning_rate', values=[1e-2, 1e-3, 1e-4])),\n",
    "                  metrics=[f1_with_tfa])\n",
    "    return model\n",
    "\n",
    "def build_bilstm_two_dense_model(hp):\n",
    "    model = keras.Sequential()\n",
    "    model.add(layers.Masking(name='padding_masking', mask_value=0., input_shape=X_train.shape[1:]))\n",
    "    model.add(layers.Bidirectional(layers.LSTM(hp.Choice('units1', [64, 128, 256]), return_sequences=True, kernel_regularizer=keras.regularizers.l2(0.01)), name=\"bilstm_1\"))\n",
    "    model.add(layers.Dropout(hp.Choice('dropout1', [0.0, 0.1, 0.2, 0.3, 0.4, 0.5])))\n",
    "    model.add(layers.Dense(hp.Choice('units2', [64, 128, 256]), activation=\"relu\", name=\"dense_1\", kernel_regularizer=keras.regularizers.l2(0.01)))\n",
    "    model.add(layers.Dropout(hp.Choice('dropout2', [0.0, 0.1, 0.2, 0.3, 0.4, 0.5])))\n",
    "    model.add(layers.Dense(n_classes, activation=\"softmax\", name=\"dense_2\"))\n",
    "    model.compile(loss=\"categorical_crossentropy\", \n",
    "                  optimizer=keras.optimizers.Adam(hp.Choice('learning_rate', values=[1e-2, 1e-3, 1e-4])),\n",
    "                  metrics=[f1_with_tfa])\n",
    "    return model"
   ]
  },
  {
   "cell_type": "markdown",
   "metadata": {
    "id": "L0R3goy83ZUK"
   },
   "source": [
    "### 2.2 Hyperparameter tuning\n",
    "Let's do a tuning of the hyperparameters for each variant of the architecture"
   ]
  },
  {
   "cell_type": "code",
   "execution_count": 16,
   "metadata": {
    "id": "n5sOwkYf3ZUK"
   },
   "outputs": [],
   "source": [
    "epochs_tuning = 100\n",
    "batch_size_tuning = 64"
   ]
  },
  {
   "cell_type": "markdown",
   "metadata": {
    "id": "3sErnjwr3ZUL"
   },
   "source": [
    "Model 1: Bidirectional LSMT + Dense layer variant tuning\n"
   ]
  },
  {
   "cell_type": "code",
   "execution_count": null,
   "metadata": {
    "colab": {
     "base_uri": "https://localhost:8080/"
    },
    "id": "b3vU8lwL3ZUL",
    "outputId": "70b39dea-36b4-4c67-f6ed-904b887f50c4"
   },
   "outputs": [
    {
     "name": "stdout",
     "output_type": "stream",
     "text": [
      "Trial 51 Complete [00h 00m 12s]\n",
      "val_f1_with_tfa: 0.01914656162261963\n",
      "\n",
      "Best val_f1_with_tfa So Far: 0.34006720781326294\n",
      "Total elapsed time: 00h 10m 54s\n",
      "INFO:tensorflow:Oracle triggered exit\n",
      "The hyperparameter search is complete.\n",
      "The optimal number of units in the LSTM layer is 256.\n",
      "The optimal rate for Dropout layer is 0.1.\n",
      "The optimal learning rate for the optimizer is 0.01.\n"
     ]
    }
   ],
   "source": [
    "# tune the hyperparameters of the first model\n",
    "tuner_bilstm = kt.Hyperband(build_bilstm_model,\n",
    "                     objective=kt.Objective(\"val_f1_with_tfa\", direction=\"max\"),\n",
    "                     max_epochs=epochs_tuning,\n",
    "                     #overwrite=True,\n",
    "                     directory=\"tuner\",\n",
    "                     project_name=\"tuner_bilstm\")\n",
    "tuner_bilstm.search(X_train, y_train, epochs=epochs_tuning, batch_size=batch_size_tuning, validation_data=(X_dev, y_dev))\n",
    "best_hps_bilstm = tuner_bilstm.get_best_hyperparameters()[0]\n",
    "\n",
    "print(f\"The hyperparameter search is complete.\\n\" \n",
    "      f\"The optimal number of units in the LSTM layer is {best_hps_bilstm.get('units')}.\\n\" \n",
    "      f\"The optimal rate for Dropout layer is {best_hps_bilstm.get('dropout')}.\\n\" \n",
    "      f\"The optimal learning rate for the optimizer is {best_hps_bilstm.get('learning_rate')}.\")"
   ]
  },
  {
   "cell_type": "markdown",
   "metadata": {
    "id": "vPb8yMfz3ZUL"
   },
   "source": [
    "Model 2: Bidirectional GRU + Dense layer variant tuning"
   ]
  },
  {
   "cell_type": "code",
   "execution_count": null,
   "metadata": {
    "colab": {
     "base_uri": "https://localhost:8080/"
    },
    "id": "h_tLVIkM3ZUL",
    "outputId": "48f180a8-7c0f-4845-c927-8e0cd8505e95"
   },
   "outputs": [
    {
     "name": "stdout",
     "output_type": "stream",
     "text": [
      "Trial 52 Complete [00h 00m 13s]\n",
      "val_f1_with_tfa: 0.017159314826130867\n",
      "\n",
      "Best val_f1_with_tfa So Far: 0.46531569957733154\n",
      "Total elapsed time: 00h 11m 38s\n",
      "INFO:tensorflow:Oracle triggered exit\n",
      "The hyperparameter search is complete.\n",
      "The optimal number of units in the GRU layer is 256.\n",
      "The optimal rate for Dropout layer is 0.4.\n",
      "The optimal learning rate for the optimizer is 0.01.\n"
     ]
    }
   ],
   "source": [
    "# tune the hyperparameters of the second model\n",
    "tuner_bigru = kt.Hyperband(build_bigru_model,\n",
    "                     objective=kt.Objective(\"val_f1_with_tfa\", direction=\"max\"),\n",
    "                     max_epochs=epochs_tuning,\n",
    "                     #overwrite=True,\n",
    "                     directory=\"tuner\",\n",
    "                     project_name=\"tuner_bigru\")\n",
    "tuner_bigru.search(X_train, y_train, epochs=epochs_tuning, batch_size=batch_size_tuning, validation_data=(X_dev, y_dev))\n",
    "best_hps_bigru = tuner_bigru.get_best_hyperparameters()[0]\n",
    "\n",
    "print(f\"The hyperparameter search is complete.\\n\" \n",
    "      f\"The optimal number of units in the GRU layer is {best_hps_bigru.get('units')}.\\n\" \n",
    "      f\"The optimal rate for Dropout layer is {best_hps_bigru.get('dropout')}.\\n\" \n",
    "      f\"The optimal learning rate for the optimizer is {best_hps_bigru.get('learning_rate')}.\")"
   ]
  },
  {
   "cell_type": "markdown",
   "metadata": {
    "id": "lIp3D6c-3ZUM"
   },
   "source": [
    "Model 3: Two Bidirectional LSMT + Dense layer variant tuning"
   ]
  },
  {
   "cell_type": "code",
   "execution_count": null,
   "metadata": {
    "colab": {
     "base_uri": "https://localhost:8080/"
    },
    "id": "VXxWaco93ZUM",
    "outputId": "ae82257e-b209-490d-982d-4f3fb5156747"
   },
   "outputs": [
    {
     "name": "stdout",
     "output_type": "stream",
     "text": [
      "Trial 216 Complete [00h 00m 47s]\n",
      "val_f1_with_tfa: 0.01919066533446312\n",
      "\n",
      "Best val_f1_with_tfa So Far: 0.4894739091396332\n",
      "Total elapsed time: 02h 00m 23s\n",
      "INFO:tensorflow:Oracle triggered exit\n",
      "The hyperparameter search is complete.\n",
      "The optimal number of units in the first LSTM layer is 128.\n",
      "The optimal number of units in the second LSTM layer is 256.\n",
      "The optimal rate for Dropout layer is 0.5.\n",
      "The optimal learning rate for the optimizer is 0.001.\n"
     ]
    }
   ],
   "source": [
    "# tune the hyperparameters of the third model\n",
    "tuner_two_bilstm = kt.Hyperband(build_two_bilstm_model,\n",
    "                     objective=kt.Objective(\"val_f1_with_tfa\", direction=\"max\"),\n",
    "                     max_epochs=epochs_tuning,\n",
    "                     #overwrite=True,\n",
    "                     directory=\"tuner\",\n",
    "                     project_name=\"tuner_two_bilstm\")\n",
    "tuner_two_bilstm.search(X_train, y_train, epochs=epochs_tuning, batch_size=batch_size_tuning, validation_data=(X_dev, y_dev))\n",
    "best_hps_two_bilstm = tuner_two_bilstm.get_best_hyperparameters()[0]\n",
    "\n",
    "print(f\"The hyperparameter search is complete.\\n\" \n",
    "      f\"The optimal number of units in the first LSTM layer is {best_hps_two_bilstm.get('units1')}.\\n\" \n",
    "      f\"The optimal number of units in the second LSTM layer is {best_hps_two_bilstm.get('units2')}.\\n\" \n",
    "      f\"The optimal rate for Dropout layer is {best_hps_two_bilstm.get('dropout')}.\\n\" \n",
    "      f\"The optimal learning rate for the optimizer is {best_hps_two_bilstm.get('learning_rate')}.\")"
   ]
  },
  {
   "cell_type": "markdown",
   "metadata": {
    "id": "kMNWw_i33ZUM"
   },
   "source": [
    "Model 4: Bidirectional LSMT + two Dense layer variant tuning"
   ]
  },
  {
   "cell_type": "code",
   "execution_count": null,
   "metadata": {
    "id": "pHSGHizM3ZUM",
    "outputId": "d3efa4d9-56cf-47af-8b2e-4fed4214c5a7"
   },
   "outputs": [
    {
     "name": "stdout",
     "output_type": "stream",
     "text": [
      "Trial 254 Complete [00h 03m 13s]\n",
      "val_f1_with_tfa: 0.4473048448562622\n",
      "\n",
      "Best val_f1_with_tfa So Far: 0.48067712783813477\n",
      "Total elapsed time: 01h 51m 28s\n",
      "INFO:tensorflow:Oracle triggered exit\n",
      "The hyperparameter search is complete.\n",
      "The optimal number of units in the LSTM layer is 64.\n",
      "The optimal rate for the first Dropout layer is 0.1.\n",
      "The optimal number of units in first densely-connected layer is 256.\n",
      "The optimal rate for the second Dropout layer is 0.1.\n",
      "The optimal learning rate for the optimizer is 0.01.\n"
     ]
    }
   ],
   "source": [
    "# tune the hyperparameters of the fourth model\n",
    "tuner_bilstm_two_dense = kt.Hyperband(build_bilstm_two_dense_model,\n",
    "                     objective=kt.Objective(\"val_f1_with_tfa\", direction=\"max\"),\n",
    "                     max_epochs=epochs_tuning,\n",
    "                     #overwrite=True,\n",
    "                     directory=\"tuner\",\n",
    "                     project_name=\"tuner_bilstm_two_dense\")\n",
    "tuner_bilstm_two_dense.search(X_train, y_train, epochs=epochs_tuning, batch_size=batch_size_tuning, validation_data=(X_dev, y_dev))\n",
    "best_hps_bilstm_two_dense = tuner_bilstm_two_dense.get_best_hyperparameters()[0]\n",
    "\n",
    "print(f\"The hyperparameter search is complete.\\n\" \n",
    "      f\"The optimal number of units in the LSTM layer is {best_hps_bilstm_two_dense.get('units1')}.\\n\" \n",
    "      f\"The optimal rate for the first Dropout layer is {best_hps_bilstm_two_dense.get('dropout1')}.\\n\" \n",
    "      f\"The optimal number of units in first densely-connected layer is {best_hps_bilstm_two_dense.get('units2')}.\\n\" \n",
    "      f\"The optimal rate for the second Dropout layer is {best_hps_bilstm_two_dense.get('dropout2')}.\\n\"\n",
    "      f\"The optimal learning rate for the optimizer is {best_hps_bilstm_two_dense.get('learning_rate')}.\")"
   ]
  },
  {
   "cell_type": "markdown",
   "metadata": {
    "id": "kWdZM3rskqzr"
   },
   "source": [
    "### 2.3 Model training"
   ]
  },
  {
   "cell_type": "code",
   "execution_count": null,
   "metadata": {
    "id": "HGdlAMOu3ZUN"
   },
   "outputs": [],
   "source": [
    "epochs_training = 100\n",
    "batch_size_training = 64\n",
    "callbacks_training = [keras.callbacks.EarlyStopping(monitor='val_f1_with_tfa', patience=10, mode=\"max\", restore_best_weights=True)]"
   ]
  },
  {
   "cell_type": "code",
   "execution_count": null,
   "metadata": {
    "id": "1CkJaP7_3ZUN"
   },
   "outputs": [],
   "source": [
    "def create_model(layers_info, compile_info):\n",
    "    \"\"\"\n",
    "    Create a Keras model given a list of layer information\n",
    "\n",
    "    Parameters\n",
    "    ----------\n",
    "    layers_info : a list of dictionaries, one for each layer\n",
    "    compile_info : dictionary containing compile information\n",
    "\n",
    "    Returns\n",
    "    -------\n",
    "    model: the built keras sequential model\n",
    "    \"\"\"\n",
    "\n",
    "    model = keras.Sequential()\n",
    "    for info in layers_info:\n",
    "        layer = info['layer_name'](**{key: value for key, value in info.items() if key != 'layer_name'})\n",
    "        model.add(layer)\n",
    "\n",
    "    # Compile\n",
    "    model.compile(**compile_info)\n",
    "\n",
    "    return model"
   ]
  },
  {
   "cell_type": "markdown",
   "metadata": {
    "id": "XNvSu_g23ZUN"
   },
   "source": [
    "Model 1: Bidirectional LSMT + Dense layer variant training"
   ]
  },
  {
   "cell_type": "code",
   "execution_count": null,
   "metadata": {
    "colab": {
     "base_uri": "https://localhost:8080/",
     "height": 252
    },
    "id": "f57Z0qk03ZUO",
    "outputId": "e17c9bba-93fb-4308-9859-7b3965572775"
   },
   "outputs": [
    {
     "name": "stdout",
     "output_type": "stream",
     "text": [
      "Model: \"sequential_1\"\n",
      "_________________________________________________________________\n",
      " Layer (type)                Output Shape              Param #   \n",
      "=================================================================\n",
      " padding_masking (Masking)   (None, 249, 100)          0         \n",
      "                                                                 \n",
      " bilstm_1 (Bidirectional)    (None, 249, 512)          731136    \n",
      "                                                                 \n",
      " dropout_1 (Dropout)         (None, 249, 512)          0         \n",
      "                                                                 \n",
      " dense_1 (Dense)             (None, 249, 45)           23085     \n",
      "                                                                 \n",
      "=================================================================\n",
      "Total params: 754,221\n",
      "Trainable params: 754,221\n",
      "Non-trainable params: 0\n",
      "_________________________________________________________________\n",
      "Epoch 1/100\n",
      "31/31 [==============================] - 11s 122ms/step - loss: 0.7244 - categorical_accuracy: 0.2321 - f1_with_tfa: 0.0358 - val_loss: 0.2882 - val_categorical_accuracy: 0.4145 - val_f1_with_tfa: 0.0856\n",
      "Epoch 2/100\n",
      "31/31 [==============================] - 1s 43ms/step - loss: 0.1992 - categorical_accuracy: 0.5511 - f1_with_tfa: 0.2225 - val_loss: 0.1678 - val_categorical_accuracy: 0.6117 - val_f1_with_tfa: 0.2860\n",
      "Epoch 3/100\n",
      "31/31 [==============================] - 1s 44ms/step - loss: 0.1378 - categorical_accuracy: 0.7032 - f1_with_tfa: 0.3888 - val_loss: 0.1273 - val_categorical_accuracy: 0.7216 - val_f1_with_tfa: 0.4181\n",
      "Epoch 4/100\n",
      "31/31 [==============================] - 1s 43ms/step - loss: 0.1157 - categorical_accuracy: 0.7613 - f1_with_tfa: 0.4607 - val_loss: 0.1173 - val_categorical_accuracy: 0.7606 - val_f1_with_tfa: 0.4632\n",
      "Epoch 5/100\n",
      "31/31 [==============================] - 1s 46ms/step - loss: 0.1051 - categorical_accuracy: 0.7866 - f1_with_tfa: 0.4949 - val_loss: 0.1037 - val_categorical_accuracy: 0.7837 - val_f1_with_tfa: 0.4919\n",
      "Epoch 6/100\n",
      "31/31 [==============================] - 1s 47ms/step - loss: 0.0981 - categorical_accuracy: 0.8014 - f1_with_tfa: 0.5182 - val_loss: 0.1002 - val_categorical_accuracy: 0.7984 - val_f1_with_tfa: 0.5156\n",
      "Epoch 7/100\n",
      "31/31 [==============================] - 1s 43ms/step - loss: 0.0921 - categorical_accuracy: 0.8134 - f1_with_tfa: 0.5321 - val_loss: 0.1000 - val_categorical_accuracy: 0.7751 - val_f1_with_tfa: 0.5208\n",
      "Epoch 8/100\n",
      "31/31 [==============================] - 1s 43ms/step - loss: 0.0903 - categorical_accuracy: 0.8147 - f1_with_tfa: 0.5415 - val_loss: 0.0912 - val_categorical_accuracy: 0.8141 - val_f1_with_tfa: 0.5649\n",
      "Epoch 9/100\n",
      "31/31 [==============================] - 1s 48ms/step - loss: 0.0856 - categorical_accuracy: 0.8241 - f1_with_tfa: 0.5651 - val_loss: 0.0877 - val_categorical_accuracy: 0.8095 - val_f1_with_tfa: 0.5382\n",
      "Epoch 10/100\n",
      "31/31 [==============================] - 1s 46ms/step - loss: 0.0825 - categorical_accuracy: 0.8330 - f1_with_tfa: 0.5733 - val_loss: 0.0882 - val_categorical_accuracy: 0.8174 - val_f1_with_tfa: 0.5655\n",
      "Epoch 11/100\n",
      "31/31 [==============================] - 1s 43ms/step - loss: 0.0814 - categorical_accuracy: 0.8331 - f1_with_tfa: 0.5813 - val_loss: 0.0842 - val_categorical_accuracy: 0.8168 - val_f1_with_tfa: 0.5535\n",
      "Epoch 12/100\n",
      "31/31 [==============================] - 1s 44ms/step - loss: 0.0783 - categorical_accuracy: 0.8376 - f1_with_tfa: 0.5893 - val_loss: 0.0822 - val_categorical_accuracy: 0.8255 - val_f1_with_tfa: 0.5730\n",
      "Epoch 13/100\n",
      "31/31 [==============================] - 1s 45ms/step - loss: 0.0762 - categorical_accuracy: 0.8436 - f1_with_tfa: 0.5978 - val_loss: 0.0783 - val_categorical_accuracy: 0.8377 - val_f1_with_tfa: 0.5876\n",
      "Epoch 14/100\n",
      "31/31 [==============================] - 1s 44ms/step - loss: 0.0754 - categorical_accuracy: 0.8454 - f1_with_tfa: 0.6024 - val_loss: 0.0785 - val_categorical_accuracy: 0.8341 - val_f1_with_tfa: 0.5885\n",
      "Epoch 15/100\n",
      "31/31 [==============================] - 1s 48ms/step - loss: 0.0738 - categorical_accuracy: 0.8468 - f1_with_tfa: 0.6078 - val_loss: 0.0786 - val_categorical_accuracy: 0.8417 - val_f1_with_tfa: 0.5876\n",
      "Epoch 16/100\n",
      "31/31 [==============================] - 1s 46ms/step - loss: 0.0734 - categorical_accuracy: 0.8487 - f1_with_tfa: 0.6114 - val_loss: 0.0795 - val_categorical_accuracy: 0.8296 - val_f1_with_tfa: 0.5826\n",
      "Epoch 17/100\n",
      "31/31 [==============================] - 2s 50ms/step - loss: 0.0717 - categorical_accuracy: 0.8528 - f1_with_tfa: 0.6168 - val_loss: 0.0785 - val_categorical_accuracy: 0.8288 - val_f1_with_tfa: 0.5966\n",
      "Epoch 18/100\n",
      "31/31 [==============================] - 1s 48ms/step - loss: 0.0719 - categorical_accuracy: 0.8514 - f1_with_tfa: 0.6180 - val_loss: 0.0772 - val_categorical_accuracy: 0.8360 - val_f1_with_tfa: 0.5871\n",
      "Epoch 19/100\n",
      "31/31 [==============================] - 1s 48ms/step - loss: 0.0699 - categorical_accuracy: 0.8587 - f1_with_tfa: 0.6280 - val_loss: 0.0760 - val_categorical_accuracy: 0.8412 - val_f1_with_tfa: 0.6040\n",
      "Epoch 20/100\n",
      "31/31 [==============================] - 1s 49ms/step - loss: 0.0680 - categorical_accuracy: 0.8622 - f1_with_tfa: 0.6357 - val_loss: 0.0811 - val_categorical_accuracy: 0.8154 - val_f1_with_tfa: 0.5827\n",
      "Epoch 21/100\n",
      "31/31 [==============================] - 2s 49ms/step - loss: 0.0691 - categorical_accuracy: 0.8592 - f1_with_tfa: 0.6289 - val_loss: 0.0754 - val_categorical_accuracy: 0.8371 - val_f1_with_tfa: 0.6033\n",
      "Epoch 22/100\n",
      "31/31 [==============================] - 1s 47ms/step - loss: 0.0671 - categorical_accuracy: 0.8662 - f1_with_tfa: 0.6334 - val_loss: 0.0741 - val_categorical_accuracy: 0.8425 - val_f1_with_tfa: 0.6023\n",
      "Epoch 23/100\n",
      "31/31 [==============================] - 1s 48ms/step - loss: 0.0661 - categorical_accuracy: 0.8677 - f1_with_tfa: 0.6455 - val_loss: 0.0761 - val_categorical_accuracy: 0.8341 - val_f1_with_tfa: 0.6081\n",
      "Epoch 24/100\n",
      "31/31 [==============================] - 1s 49ms/step - loss: 0.0654 - categorical_accuracy: 0.8707 - f1_with_tfa: 0.6510 - val_loss: 0.0765 - val_categorical_accuracy: 0.8358 - val_f1_with_tfa: 0.6004\n",
      "Epoch 25/100\n",
      "31/31 [==============================] - 1s 45ms/step - loss: 0.0656 - categorical_accuracy: 0.8712 - f1_with_tfa: 0.6598 - val_loss: 0.0738 - val_categorical_accuracy: 0.8457 - val_f1_with_tfa: 0.6183\n",
      "Epoch 26/100\n",
      "31/31 [==============================] - 1s 46ms/step - loss: 0.0634 - categorical_accuracy: 0.8757 - f1_with_tfa: 0.6656 - val_loss: 0.0761 - val_categorical_accuracy: 0.8376 - val_f1_with_tfa: 0.6143\n",
      "Epoch 27/100\n",
      "31/31 [==============================] - 1s 47ms/step - loss: 0.0653 - categorical_accuracy: 0.8748 - f1_with_tfa: 0.6642 - val_loss: 0.0788 - val_categorical_accuracy: 0.8357 - val_f1_with_tfa: 0.6092\n",
      "Epoch 28/100\n",
      "31/31 [==============================] - 2s 61ms/step - loss: 0.0630 - categorical_accuracy: 0.8811 - f1_with_tfa: 0.6704 - val_loss: 0.0772 - val_categorical_accuracy: 0.8382 - val_f1_with_tfa: 0.5978\n",
      "Epoch 29/100\n",
      "31/31 [==============================] - 2s 59ms/step - loss: 0.0626 - categorical_accuracy: 0.8825 - f1_with_tfa: 0.6674 - val_loss: 0.0780 - val_categorical_accuracy: 0.8291 - val_f1_with_tfa: 0.6027\n",
      "Epoch 30/100\n",
      "31/31 [==============================] - 1s 48ms/step - loss: 0.0618 - categorical_accuracy: 0.8860 - f1_with_tfa: 0.6838 - val_loss: 0.0809 - val_categorical_accuracy: 0.8236 - val_f1_with_tfa: 0.6017\n",
      "Epoch 31/100\n",
      "31/31 [==============================] - 2s 49ms/step - loss: 0.0616 - categorical_accuracy: 0.8877 - f1_with_tfa: 0.6788 - val_loss: 0.0778 - val_categorical_accuracy: 0.8359 - val_f1_with_tfa: 0.6160\n",
      "Epoch 32/100\n",
      "31/31 [==============================] - 2s 55ms/step - loss: 0.0612 - categorical_accuracy: 0.8879 - f1_with_tfa: 0.6814 - val_loss: 0.0788 - val_categorical_accuracy: 0.8384 - val_f1_with_tfa: 0.6075\n",
      "Epoch 33/100\n",
      "31/31 [==============================] - 2s 52ms/step - loss: 0.0607 - categorical_accuracy: 0.8912 - f1_with_tfa: 0.6864 - val_loss: 0.0823 - val_categorical_accuracy: 0.8241 - val_f1_with_tfa: 0.5979\n",
      "Epoch 34/100\n",
      "31/31 [==============================] - 2s 52ms/step - loss: 0.0599 - categorical_accuracy: 0.8945 - f1_with_tfa: 0.6933 - val_loss: 0.0796 - val_categorical_accuracy: 0.8341 - val_f1_with_tfa: 0.6068\n",
      "Epoch 35/100\n",
      "31/31 [==============================] - 2s 59ms/step - loss: 0.0598 - categorical_accuracy: 0.8941 - f1_with_tfa: 0.6763 - val_loss: 0.0841 - val_categorical_accuracy: 0.8239 - val_f1_with_tfa: 0.5679\n"
     ]
    }
   ],
   "source": [
    "# first model    \n",
    "layers_info_bilstm = [\n",
    "    {\n",
    "        \"layer_name\": layers.Masking,\n",
    "        \"name\": \"padding_masking\",\n",
    "        \"mask_value\": 0.,\n",
    "        \"input_shape\": X_train.shape[1:]\n",
    "    },\n",
    "    {\n",
    "        'layer_name': layers.Bidirectional,\n",
    "        \"layer\": layers.LSTM(best_hps_bilstm.get('units'), return_sequences=True, kernel_regularizer=keras.regularizers.l2(0.01)), # units = 256\n",
    "        \"name\": \"bilstm_1\",\n",
    "    },\n",
    "    {\n",
    "        \"layer_name\": layers.Dropout,\n",
    "        \"rate\": best_hps_bilstm.get('dropout'), # dropout = 0.1\n",
    "        \"name\": \"dropout_1\"\n",
    "    },\n",
    "    {\n",
    "        \"layer_name\": layers.Dense,\n",
    "        \"units\": n_classes,\n",
    "        \"activation\": \"softmax\",\n",
    "        \"name\": \"dense_1\"\n",
    "    }\n",
    "]\n",
    "\n",
    "compile_info_bilstm = {\n",
    "    'optimizer': keras.optimizers.Adam(learning_rate=best_hps_bilstm.get('learning_rate')), # learning_rate = 0.01\n",
    "    'loss': 'categorical_crossentropy',\n",
    "    'metrics' : ['categorical_accuracy', f1_with_tfa]   \n",
    "}\n",
    "\n",
    "model_bilstm = create_model(layers_info_bilstm, compile_info_bilstm)\n",
    "model_bilstm.summary()\n",
    "\n",
    "# start training\n",
    "history_bilstm = model_bilstm.fit(X_train, y_train, epochs=epochs_training, batch_size=batch_size_training, validation_data=(X_dev, y_dev), callbacks=callbacks_training)"
   ]
  },
  {
   "cell_type": "markdown",
   "metadata": {
    "id": "V2QWE-m03ZUO"
   },
   "source": [
    "Model 2: Bidirectional GRU + Dense layer variant training"
   ]
  },
  {
   "cell_type": "code",
   "execution_count": null,
   "metadata": {
    "id": "nXZNNrlO3ZUO",
    "outputId": "b5530ff9-59cf-41f0-f033-db639d234482"
   },
   "outputs": [
    {
     "name": "stdout",
     "output_type": "stream",
     "text": [
      "Model: \"sequential_2\"\n",
      "_________________________________________________________________\n",
      " Layer (type)                Output Shape              Param #   \n",
      "=================================================================\n",
      " padding_masking (Masking)   (None, 249, 100)          0         \n",
      "                                                                 \n",
      " bigru_1 (Bidirectional)     (None, 249, 512)          549888    \n",
      "                                                                 \n",
      " dropout_1 (Dropout)         (None, 249, 512)          0         \n",
      "                                                                 \n",
      " dense_1 (Dense)             (None, 249, 45)           23085     \n",
      "                                                                 \n",
      "=================================================================\n",
      "Total params: 572,973\n",
      "Trainable params: 572,973\n",
      "Non-trainable params: 0\n",
      "_________________________________________________________________\n",
      "Epoch 1/100\n",
      "31/31 [==============================] - 10s 129ms/step - loss: 0.6618 - categorical_accuracy: 0.4852 - f1_with_tfa: 0.1880 - val_loss: 0.2050 - val_categorical_accuracy: 0.6642 - val_f1_with_tfa: 0.3600\n",
      "Epoch 2/100\n",
      "31/31 [==============================] - 2s 56ms/step - loss: 0.1460 - categorical_accuracy: 0.7303 - f1_with_tfa: 0.4211 - val_loss: 0.1217 - val_categorical_accuracy: 0.7566 - val_f1_with_tfa: 0.4707\n",
      "Epoch 3/100\n",
      "31/31 [==============================] - 2s 54ms/step - loss: 0.1140 - categorical_accuracy: 0.7708 - f1_with_tfa: 0.4824 - val_loss: 0.1100 - val_categorical_accuracy: 0.7682 - val_f1_with_tfa: 0.4887\n",
      "Epoch 4/100\n",
      "31/31 [==============================] - 2s 55ms/step - loss: 0.1090 - categorical_accuracy: 0.7825 - f1_with_tfa: 0.5029 - val_loss: 0.1004 - val_categorical_accuracy: 0.8048 - val_f1_with_tfa: 0.5350\n",
      "Epoch 5/100\n",
      "31/31 [==============================] - 2s 50ms/step - loss: 0.0989 - categorical_accuracy: 0.8040 - f1_with_tfa: 0.5394 - val_loss: 0.0974 - val_categorical_accuracy: 0.8012 - val_f1_with_tfa: 0.5365\n",
      "Epoch 6/100\n",
      "31/31 [==============================] - 2s 54ms/step - loss: 0.0934 - categorical_accuracy: 0.8142 - f1_with_tfa: 0.5540 - val_loss: 0.1000 - val_categorical_accuracy: 0.7904 - val_f1_with_tfa: 0.5391\n",
      "Epoch 7/100\n",
      "31/31 [==============================] - 2s 50ms/step - loss: 0.0946 - categorical_accuracy: 0.8121 - f1_with_tfa: 0.5524 - val_loss: 0.0965 - val_categorical_accuracy: 0.8029 - val_f1_with_tfa: 0.5285\n",
      "Epoch 8/100\n",
      "31/31 [==============================] - 2s 52ms/step - loss: 0.0897 - categorical_accuracy: 0.8235 - f1_with_tfa: 0.5669 - val_loss: 0.0877 - val_categorical_accuracy: 0.8268 - val_f1_with_tfa: 0.5648\n",
      "Epoch 9/100\n",
      "31/31 [==============================] - 2s 53ms/step - loss: 0.0885 - categorical_accuracy: 0.8224 - f1_with_tfa: 0.5752 - val_loss: 0.0937 - val_categorical_accuracy: 0.8071 - val_f1_with_tfa: 0.5488\n",
      "Epoch 10/100\n",
      "31/31 [==============================] - 2s 51ms/step - loss: 0.0880 - categorical_accuracy: 0.8263 - f1_with_tfa: 0.5770 - val_loss: 0.0869 - val_categorical_accuracy: 0.8233 - val_f1_with_tfa: 0.5808\n",
      "Epoch 11/100\n",
      "31/31 [==============================] - 2s 53ms/step - loss: 0.0843 - categorical_accuracy: 0.8330 - f1_with_tfa: 0.5956 - val_loss: 0.0840 - val_categorical_accuracy: 0.8355 - val_f1_with_tfa: 0.6001\n",
      "Epoch 12/100\n",
      "31/31 [==============================] - 2s 51ms/step - loss: 0.0832 - categorical_accuracy: 0.8349 - f1_with_tfa: 0.5937 - val_loss: 0.0896 - val_categorical_accuracy: 0.8183 - val_f1_with_tfa: 0.5569\n",
      "Epoch 13/100\n",
      "31/31 [==============================] - 2s 53ms/step - loss: 0.0850 - categorical_accuracy: 0.8312 - f1_with_tfa: 0.5890 - val_loss: 0.0859 - val_categorical_accuracy: 0.8325 - val_f1_with_tfa: 0.5899\n",
      "Epoch 14/100\n",
      "31/31 [==============================] - 2s 53ms/step - loss: 0.0836 - categorical_accuracy: 0.8379 - f1_with_tfa: 0.6022 - val_loss: 0.0856 - val_categorical_accuracy: 0.8283 - val_f1_with_tfa: 0.5944\n",
      "Epoch 15/100\n",
      "31/31 [==============================] - 2s 54ms/step - loss: 0.0822 - categorical_accuracy: 0.8391 - f1_with_tfa: 0.6122 - val_loss: 0.0854 - val_categorical_accuracy: 0.8279 - val_f1_with_tfa: 0.5984\n",
      "Epoch 16/100\n",
      "31/31 [==============================] - 2s 52ms/step - loss: 0.0805 - categorical_accuracy: 0.8427 - f1_with_tfa: 0.6103 - val_loss: 0.0880 - val_categorical_accuracy: 0.8209 - val_f1_with_tfa: 0.5799\n",
      "Epoch 17/100\n",
      "31/31 [==============================] - 2s 52ms/step - loss: 0.0818 - categorical_accuracy: 0.8384 - f1_with_tfa: 0.6077 - val_loss: 0.0881 - val_categorical_accuracy: 0.8312 - val_f1_with_tfa: 0.6029\n",
      "Epoch 18/100\n",
      "31/31 [==============================] - 2s 52ms/step - loss: 0.0820 - categorical_accuracy: 0.8419 - f1_with_tfa: 0.6152 - val_loss: 0.0816 - val_categorical_accuracy: 0.8362 - val_f1_with_tfa: 0.6117\n",
      "Epoch 19/100\n",
      "31/31 [==============================] - 2s 53ms/step - loss: 0.0776 - categorical_accuracy: 0.8497 - f1_with_tfa: 0.6334 - val_loss: 0.0839 - val_categorical_accuracy: 0.8338 - val_f1_with_tfa: 0.5983\n",
      "Epoch 20/100\n",
      "31/31 [==============================] - 2s 56ms/step - loss: 0.0794 - categorical_accuracy: 0.8471 - f1_with_tfa: 0.6025 - val_loss: 0.0858 - val_categorical_accuracy: 0.8392 - val_f1_with_tfa: 0.6032\n",
      "Epoch 21/100\n",
      "31/31 [==============================] - 2s 60ms/step - loss: 0.0790 - categorical_accuracy: 0.8480 - f1_with_tfa: 0.6088 - val_loss: 0.0838 - val_categorical_accuracy: 0.8338 - val_f1_with_tfa: 0.5823\n",
      "Epoch 22/100\n",
      "31/31 [==============================] - 2s 58ms/step - loss: 0.0753 - categorical_accuracy: 0.8576 - f1_with_tfa: 0.6171 - val_loss: 0.0819 - val_categorical_accuracy: 0.8374 - val_f1_with_tfa: 0.5731\n",
      "Epoch 23/100\n",
      "31/31 [==============================] - 2s 52ms/step - loss: 0.0771 - categorical_accuracy: 0.8537 - f1_with_tfa: 0.6203 - val_loss: 0.0846 - val_categorical_accuracy: 0.8367 - val_f1_with_tfa: 0.5807\n",
      "Epoch 24/100\n",
      "31/31 [==============================] - 2s 53ms/step - loss: 0.0777 - categorical_accuracy: 0.8556 - f1_with_tfa: 0.6193 - val_loss: 0.0892 - val_categorical_accuracy: 0.8269 - val_f1_with_tfa: 0.5785\n",
      "Epoch 25/100\n",
      "31/31 [==============================] - 2s 53ms/step - loss: 0.0784 - categorical_accuracy: 0.8560 - f1_with_tfa: 0.6155 - val_loss: 0.0870 - val_categorical_accuracy: 0.8274 - val_f1_with_tfa: 0.5690\n",
      "Epoch 26/100\n",
      "31/31 [==============================] - 2s 60ms/step - loss: 0.0765 - categorical_accuracy: 0.8588 - f1_with_tfa: 0.6285 - val_loss: 0.0839 - val_categorical_accuracy: 0.8412 - val_f1_with_tfa: 0.5948\n",
      "Epoch 27/100\n",
      "31/31 [==============================] - 2s 60ms/step - loss: 0.0732 - categorical_accuracy: 0.8664 - f1_with_tfa: 0.6344 - val_loss: 0.0847 - val_categorical_accuracy: 0.8367 - val_f1_with_tfa: 0.6050\n",
      "Epoch 28/100\n",
      "31/31 [==============================] - 2s 61ms/step - loss: 0.0747 - categorical_accuracy: 0.8633 - f1_with_tfa: 0.6376 - val_loss: 0.0853 - val_categorical_accuracy: 0.8416 - val_f1_with_tfa: 0.5981\n"
     ]
    }
   ],
   "source": [
    "# second model    \n",
    "layers_info_bigru = [\n",
    "    {\n",
    "        \"layer_name\": layers.Masking,\n",
    "        \"name\": \"padding_masking\",\n",
    "        \"mask_value\": 0.,\n",
    "        \"input_shape\": X_train.shape[1:]\n",
    "    },\n",
    "    {\n",
    "        'layer_name': layers.Bidirectional,\n",
    "        \"layer\": layers.GRU(best_hps_bigru.get('units'), return_sequences=True, kernel_regularizer=keras.regularizers.l2(0.01)),  # units = 256\n",
    "        \"name\": \"bigru_1\",\n",
    "    },\n",
    "    {\n",
    "        \"layer_name\": layers.Dropout,\n",
    "        \"rate\": best_hps_bigru.get('dropout'), # dropout = 0.4\n",
    "        \"name\": \"dropout_1\"\n",
    "    },\n",
    "    {\n",
    "        \"layer_name\": layers.Dense,\n",
    "        \"units\": n_classes,\n",
    "        \"activation\": \"softmax\",\n",
    "        \"name\": \"dense_1\"\n",
    "    }\n",
    "]\n",
    "\n",
    "compile_info_bigru = {\n",
    "    'optimizer': keras.optimizers.Adam(learning_rate=best_hps_bigru.get('learning_rate')), # learning_rate = 0.01\n",
    "    'loss': 'categorical_crossentropy',\n",
    "    'metrics' : ['categorical_accuracy', f1_with_tfa]\n",
    "}\n",
    "\n",
    "model_bigru = create_model(layers_info_bigru, compile_info_bigru)\n",
    "model_bigru.summary()\n",
    "\n",
    "# start training\n",
    "history_bigru = model_bigru.fit(X_train, y_train, epochs=epochs_training, batch_size=batch_size_training, validation_data=(X_dev, y_dev),  callbacks=callbacks_training)"
   ]
  },
  {
   "cell_type": "markdown",
   "metadata": {
    "id": "P52dWFq63ZUO"
   },
   "source": [
    "Model 3: Two Bidirectional LSMT + Dense layer variant training"
   ]
  },
  {
   "cell_type": "code",
   "execution_count": null,
   "metadata": {
    "id": "gzTLBLdC3ZUO",
    "outputId": "5fa4e8a9-a816-41ff-a9b5-58897d70ac02"
   },
   "outputs": [
    {
     "name": "stdout",
     "output_type": "stream",
     "text": [
      "Model: \"sequential_3\"\n",
      "_________________________________________________________________\n",
      " Layer (type)                Output Shape              Param #   \n",
      "=================================================================\n",
      " padding_masking (Masking)   (None, 249, 100)          0         \n",
      "                                                                 \n",
      " bilstm_1 (Bidirectional)    (None, 249, 256)          234496    \n",
      "                                                                 \n",
      " bilstm_2 (Bidirectional)    (None, 249, 512)          1050624   \n",
      "                                                                 \n",
      " dropout_1 (Dropout)         (None, 249, 512)          0         \n",
      "                                                                 \n",
      " dense_1 (Dense)             (None, 249, 45)           23085     \n",
      "                                                                 \n",
      "=================================================================\n",
      "Total params: 1,308,205\n",
      "Trainable params: 1,308,205\n",
      "Non-trainable params: 0\n",
      "_________________________________________________________________\n",
      "Epoch 1/100\n",
      "31/31 [==============================] - 24s 306ms/step - loss: 6.8303 - categorical_accuracy: 0.1426 - f1_with_tfa: 0.0196 - val_loss: 3.0520 - val_categorical_accuracy: 0.1673 - val_f1_with_tfa: 0.0164\n",
      "Epoch 2/100\n",
      "31/31 [==============================] - 3s 95ms/step - loss: 1.6840 - categorical_accuracy: 0.1695 - f1_with_tfa: 0.0229 - val_loss: 0.7936 - val_categorical_accuracy: 0.1833 - val_f1_with_tfa: 0.0166\n",
      "Epoch 3/100\n",
      "31/31 [==============================] - 3s 86ms/step - loss: 0.5299 - categorical_accuracy: 0.1827 - f1_with_tfa: 0.0260 - val_loss: 0.3784 - val_categorical_accuracy: 0.1534 - val_f1_with_tfa: 0.0143\n",
      "Epoch 4/100\n",
      "31/31 [==============================] - 2s 70ms/step - loss: 0.3211 - categorical_accuracy: 0.1866 - f1_with_tfa: 0.0270 - val_loss: 0.2895 - val_categorical_accuracy: 0.1809 - val_f1_with_tfa: 0.0230\n",
      "Epoch 5/100\n",
      "31/31 [==============================] - 2s 73ms/step - loss: 0.2761 - categorical_accuracy: 0.2009 - f1_with_tfa: 0.0324 - val_loss: 0.2680 - val_categorical_accuracy: 0.2053 - val_f1_with_tfa: 0.0364\n",
      "Epoch 6/100\n",
      "31/31 [==============================] - 3s 85ms/step - loss: 0.2702 - categorical_accuracy: 0.2051 - f1_with_tfa: 0.0351 - val_loss: 0.2624 - val_categorical_accuracy: 0.2175 - val_f1_with_tfa: 0.0433\n",
      "Epoch 7/100\n",
      "31/31 [==============================] - 3s 86ms/step - loss: 0.2563 - categorical_accuracy: 0.2275 - f1_with_tfa: 0.0496 - val_loss: 0.2498 - val_categorical_accuracy: 0.2487 - val_f1_with_tfa: 0.0603\n",
      "Epoch 8/100\n",
      "31/31 [==============================] - 2s 79ms/step - loss: 0.2451 - categorical_accuracy: 0.2578 - f1_with_tfa: 0.0681 - val_loss: 0.2357 - val_categorical_accuracy: 0.3048 - val_f1_with_tfa: 0.0857\n",
      "Epoch 9/100\n",
      "31/31 [==============================] - 2s 79ms/step - loss: 0.2265 - categorical_accuracy: 0.3350 - f1_with_tfa: 0.0976 - val_loss: 0.2149 - val_categorical_accuracy: 0.3812 - val_f1_with_tfa: 0.1012\n",
      "Epoch 10/100\n",
      "31/31 [==============================] - 3s 85ms/step - loss: 0.2062 - categorical_accuracy: 0.4105 - f1_with_tfa: 0.1303 - val_loss: 0.1970 - val_categorical_accuracy: 0.4407 - val_f1_with_tfa: 0.1348\n",
      "Epoch 11/100\n",
      "31/31 [==============================] - 2s 81ms/step - loss: 0.1904 - categorical_accuracy: 0.4564 - f1_with_tfa: 0.1552 - val_loss: 0.1825 - val_categorical_accuracy: 0.4745 - val_f1_with_tfa: 0.1634\n",
      "Epoch 12/100\n",
      "31/31 [==============================] - 3s 86ms/step - loss: 0.1790 - categorical_accuracy: 0.4814 - f1_with_tfa: 0.1771 - val_loss: 0.1751 - val_categorical_accuracy: 0.5059 - val_f1_with_tfa: 0.1972\n",
      "Epoch 13/100\n",
      "31/31 [==============================] - 3s 84ms/step - loss: 0.1739 - categorical_accuracy: 0.5002 - f1_with_tfa: 0.1904 - val_loss: 0.1720 - val_categorical_accuracy: 0.5099 - val_f1_with_tfa: 0.1867\n",
      "Epoch 14/100\n",
      "31/31 [==============================] - 3s 87ms/step - loss: 0.1663 - categorical_accuracy: 0.5219 - f1_with_tfa: 0.2097 - val_loss: 0.1629 - val_categorical_accuracy: 0.5313 - val_f1_with_tfa: 0.2125\n",
      "Epoch 15/100\n",
      "31/31 [==============================] - 3s 85ms/step - loss: 0.1602 - categorical_accuracy: 0.5381 - f1_with_tfa: 0.2266 - val_loss: 0.1600 - val_categorical_accuracy: 0.5439 - val_f1_with_tfa: 0.2273\n",
      "Epoch 16/100\n",
      "31/31 [==============================] - 3s 91ms/step - loss: 0.1557 - categorical_accuracy: 0.5558 - f1_with_tfa: 0.2410 - val_loss: 0.1568 - val_categorical_accuracy: 0.5443 - val_f1_with_tfa: 0.2330\n",
      "Epoch 17/100\n",
      "31/31 [==============================] - 2s 77ms/step - loss: 0.1506 - categorical_accuracy: 0.5695 - f1_with_tfa: 0.2566 - val_loss: 0.1497 - val_categorical_accuracy: 0.5766 - val_f1_with_tfa: 0.2686\n",
      "Epoch 18/100\n",
      "31/31 [==============================] - 2s 80ms/step - loss: 0.1453 - categorical_accuracy: 0.5863 - f1_with_tfa: 0.2762 - val_loss: 0.1453 - val_categorical_accuracy: 0.5828 - val_f1_with_tfa: 0.2752\n",
      "Epoch 19/100\n",
      "31/31 [==============================] - 3s 84ms/step - loss: 0.1423 - categorical_accuracy: 0.5929 - f1_with_tfa: 0.2824 - val_loss: 0.1413 - val_categorical_accuracy: 0.5998 - val_f1_with_tfa: 0.2885\n",
      "Epoch 20/100\n",
      "31/31 [==============================] - 3s 93ms/step - loss: 0.1370 - categorical_accuracy: 0.6127 - f1_with_tfa: 0.3040 - val_loss: 0.1385 - val_categorical_accuracy: 0.6049 - val_f1_with_tfa: 0.2974\n",
      "Epoch 21/100\n",
      "31/31 [==============================] - 3s 97ms/step - loss: 0.1329 - categorical_accuracy: 0.6278 - f1_with_tfa: 0.3234 - val_loss: 0.1321 - val_categorical_accuracy: 0.6250 - val_f1_with_tfa: 0.3268\n",
      "Epoch 22/100\n",
      "31/31 [==============================] - 3s 93ms/step - loss: 0.1301 - categorical_accuracy: 0.6342 - f1_with_tfa: 0.3329 - val_loss: 0.1309 - val_categorical_accuracy: 0.6301 - val_f1_with_tfa: 0.3299\n",
      "Epoch 23/100\n",
      "31/31 [==============================] - 3s 93ms/step - loss: 0.1263 - categorical_accuracy: 0.6435 - f1_with_tfa: 0.3478 - val_loss: 0.1259 - val_categorical_accuracy: 0.6488 - val_f1_with_tfa: 0.3543\n",
      "Epoch 24/100\n",
      "31/31 [==============================] - 3s 101ms/step - loss: 0.1210 - categorical_accuracy: 0.6625 - f1_with_tfa: 0.3678 - val_loss: 0.1236 - val_categorical_accuracy: 0.6521 - val_f1_with_tfa: 0.3630\n",
      "Epoch 25/100\n",
      "31/31 [==============================] - 3s 98ms/step - loss: 0.1210 - categorical_accuracy: 0.6632 - f1_with_tfa: 0.3723 - val_loss: 0.1224 - val_categorical_accuracy: 0.6575 - val_f1_with_tfa: 0.3717\n",
      "Epoch 26/100\n",
      "31/31 [==============================] - 3s 92ms/step - loss: 0.1154 - categorical_accuracy: 0.6806 - f1_with_tfa: 0.3924 - val_loss: 0.1185 - val_categorical_accuracy: 0.6668 - val_f1_with_tfa: 0.3787\n",
      "Epoch 27/100\n",
      "31/31 [==============================] - 3s 107ms/step - loss: 0.1136 - categorical_accuracy: 0.6855 - f1_with_tfa: 0.4019 - val_loss: 0.1174 - val_categorical_accuracy: 0.6706 - val_f1_with_tfa: 0.3928\n",
      "Epoch 28/100\n",
      "31/31 [==============================] - 3s 90ms/step - loss: 0.1115 - categorical_accuracy: 0.6930 - f1_with_tfa: 0.4073 - val_loss: 0.1151 - val_categorical_accuracy: 0.6766 - val_f1_with_tfa: 0.3969\n",
      "Epoch 29/100\n",
      "31/31 [==============================] - 3s 97ms/step - loss: 0.1087 - categorical_accuracy: 0.6997 - f1_with_tfa: 0.4196 - val_loss: 0.1161 - val_categorical_accuracy: 0.6754 - val_f1_with_tfa: 0.3920\n",
      "Epoch 30/100\n",
      "31/31 [==============================] - 3s 104ms/step - loss: 0.1073 - categorical_accuracy: 0.7031 - f1_with_tfa: 0.4249 - val_loss: 0.1094 - val_categorical_accuracy: 0.6937 - val_f1_with_tfa: 0.4191\n",
      "Epoch 31/100\n",
      "31/31 [==============================] - 3s 102ms/step - loss: 0.1047 - categorical_accuracy: 0.7112 - f1_with_tfa: 0.4330 - val_loss: 0.1082 - val_categorical_accuracy: 0.7008 - val_f1_with_tfa: 0.4242\n",
      "Epoch 32/100\n",
      "31/31 [==============================] - 3s 90ms/step - loss: 0.1030 - categorical_accuracy: 0.7150 - f1_with_tfa: 0.4370 - val_loss: 0.1130 - val_categorical_accuracy: 0.6840 - val_f1_with_tfa: 0.4025\n",
      "Epoch 33/100\n",
      "31/31 [==============================] - 3s 104ms/step - loss: 0.1036 - categorical_accuracy: 0.7138 - f1_with_tfa: 0.4378 - val_loss: 0.1065 - val_categorical_accuracy: 0.7042 - val_f1_with_tfa: 0.4344\n",
      "Epoch 34/100\n",
      "31/31 [==============================] - 3s 92ms/step - loss: 0.1005 - categorical_accuracy: 0.7238 - f1_with_tfa: 0.4460 - val_loss: 0.1063 - val_categorical_accuracy: 0.7070 - val_f1_with_tfa: 0.4358\n",
      "Epoch 35/100\n",
      "31/31 [==============================] - 3s 93ms/step - loss: 0.1002 - categorical_accuracy: 0.7220 - f1_with_tfa: 0.4470 - val_loss: 0.1060 - val_categorical_accuracy: 0.7002 - val_f1_with_tfa: 0.4338\n",
      "Epoch 36/100\n",
      "31/31 [==============================] - 3s 103ms/step - loss: 0.0976 - categorical_accuracy: 0.7293 - f1_with_tfa: 0.4516 - val_loss: 0.1048 - val_categorical_accuracy: 0.7090 - val_f1_with_tfa: 0.4386\n",
      "Epoch 37/100\n",
      "31/31 [==============================] - 3s 100ms/step - loss: 0.0974 - categorical_accuracy: 0.7300 - f1_with_tfa: 0.4551 - val_loss: 0.1050 - val_categorical_accuracy: 0.7009 - val_f1_with_tfa: 0.4315\n",
      "Epoch 38/100\n",
      "31/31 [==============================] - 3s 102ms/step - loss: 0.0961 - categorical_accuracy: 0.7354 - f1_with_tfa: 0.4612 - val_loss: 0.1020 - val_categorical_accuracy: 0.7130 - val_f1_with_tfa: 0.4384\n",
      "Epoch 39/100\n",
      "31/31 [==============================] - 3s 91ms/step - loss: 0.0969 - categorical_accuracy: 0.7302 - f1_with_tfa: 0.4527 - val_loss: 0.1030 - val_categorical_accuracy: 0.7109 - val_f1_with_tfa: 0.4493\n",
      "Epoch 40/100\n",
      "31/31 [==============================] - 3s 99ms/step - loss: 0.0954 - categorical_accuracy: 0.7347 - f1_with_tfa: 0.4573 - val_loss: 0.0993 - val_categorical_accuracy: 0.7205 - val_f1_with_tfa: 0.4511\n",
      "Epoch 41/100\n",
      "31/31 [==============================] - 3s 101ms/step - loss: 0.0928 - categorical_accuracy: 0.7427 - f1_with_tfa: 0.4640 - val_loss: 0.0997 - val_categorical_accuracy: 0.7214 - val_f1_with_tfa: 0.4523\n",
      "Epoch 42/100\n",
      "31/31 [==============================] - 3s 103ms/step - loss: 0.0923 - categorical_accuracy: 0.7432 - f1_with_tfa: 0.4731 - val_loss: 0.0969 - val_categorical_accuracy: 0.7271 - val_f1_with_tfa: 0.4562\n",
      "Epoch 43/100\n",
      "31/31 [==============================] - 3s 93ms/step - loss: 0.0913 - categorical_accuracy: 0.7462 - f1_with_tfa: 0.4735 - val_loss: 0.0987 - val_categorical_accuracy: 0.7213 - val_f1_with_tfa: 0.4561\n",
      "Epoch 44/100\n",
      "31/31 [==============================] - 3s 87ms/step - loss: 0.0900 - categorical_accuracy: 0.7493 - f1_with_tfa: 0.4739 - val_loss: 0.0991 - val_categorical_accuracy: 0.7160 - val_f1_with_tfa: 0.4548\n",
      "Epoch 45/100\n",
      "31/31 [==============================] - 3s 104ms/step - loss: 0.0898 - categorical_accuracy: 0.7509 - f1_with_tfa: 0.4802 - val_loss: 0.0951 - val_categorical_accuracy: 0.7319 - val_f1_with_tfa: 0.4542\n",
      "Epoch 46/100\n",
      "31/31 [==============================] - 3s 105ms/step - loss: 0.0886 - categorical_accuracy: 0.7535 - f1_with_tfa: 0.4784 - val_loss: 0.0953 - val_categorical_accuracy: 0.7325 - val_f1_with_tfa: 0.4598\n",
      "Epoch 47/100\n",
      "31/31 [==============================] - 3s 103ms/step - loss: 0.0877 - categorical_accuracy: 0.7564 - f1_with_tfa: 0.4851 - val_loss: 0.1011 - val_categorical_accuracy: 0.7112 - val_f1_with_tfa: 0.4213\n",
      "Epoch 48/100\n",
      "31/31 [==============================] - 3s 102ms/step - loss: 0.0889 - categorical_accuracy: 0.7500 - f1_with_tfa: 0.4759 - val_loss: 0.0950 - val_categorical_accuracy: 0.7314 - val_f1_with_tfa: 0.4658\n",
      "Epoch 49/100\n",
      "31/31 [==============================] - 3s 91ms/step - loss: 0.0852 - categorical_accuracy: 0.7640 - f1_with_tfa: 0.4936 - val_loss: 0.0930 - val_categorical_accuracy: 0.7384 - val_f1_with_tfa: 0.4738\n",
      "Epoch 50/100\n",
      "31/31 [==============================] - 3s 92ms/step - loss: 0.0861 - categorical_accuracy: 0.7624 - f1_with_tfa: 0.4908 - val_loss: 0.0932 - val_categorical_accuracy: 0.7394 - val_f1_with_tfa: 0.4709\n",
      "Epoch 51/100\n",
      "31/31 [==============================] - 3s 95ms/step - loss: 0.0852 - categorical_accuracy: 0.7621 - f1_with_tfa: 0.4945 - val_loss: 0.0931 - val_categorical_accuracy: 0.7390 - val_f1_with_tfa: 0.4693\n",
      "Epoch 52/100\n",
      "31/31 [==============================] - 3s 93ms/step - loss: 0.0841 - categorical_accuracy: 0.7682 - f1_with_tfa: 0.5013 - val_loss: 0.0917 - val_categorical_accuracy: 0.7425 - val_f1_with_tfa: 0.4744\n",
      "Epoch 53/100\n",
      "31/31 [==============================] - 3s 91ms/step - loss: 0.0835 - categorical_accuracy: 0.7652 - f1_with_tfa: 0.4979 - val_loss: 0.0911 - val_categorical_accuracy: 0.7450 - val_f1_with_tfa: 0.4802\n",
      "Epoch 54/100\n",
      "31/31 [==============================] - 3s 97ms/step - loss: 0.0834 - categorical_accuracy: 0.7662 - f1_with_tfa: 0.4999 - val_loss: 0.0927 - val_categorical_accuracy: 0.7384 - val_f1_with_tfa: 0.4749\n",
      "Epoch 55/100\n",
      "31/31 [==============================] - 3s 95ms/step - loss: 0.0813 - categorical_accuracy: 0.7734 - f1_with_tfa: 0.5059 - val_loss: 0.0936 - val_categorical_accuracy: 0.7347 - val_f1_with_tfa: 0.4716\n",
      "Epoch 56/100\n",
      "31/31 [==============================] - 3s 94ms/step - loss: 0.0819 - categorical_accuracy: 0.7732 - f1_with_tfa: 0.5085 - val_loss: 0.0928 - val_categorical_accuracy: 0.7403 - val_f1_with_tfa: 0.4771\n",
      "Epoch 57/100\n",
      "31/31 [==============================] - 3s 95ms/step - loss: 0.0811 - categorical_accuracy: 0.7761 - f1_with_tfa: 0.5159 - val_loss: 0.0915 - val_categorical_accuracy: 0.7403 - val_f1_with_tfa: 0.4787\n",
      "Epoch 58/100\n",
      "31/31 [==============================] - 3s 93ms/step - loss: 0.0804 - categorical_accuracy: 0.7764 - f1_with_tfa: 0.5158 - val_loss: 0.0943 - val_categorical_accuracy: 0.7312 - val_f1_with_tfa: 0.4690\n",
      "Epoch 59/100\n",
      "31/31 [==============================] - 3s 96ms/step - loss: 0.0802 - categorical_accuracy: 0.7754 - f1_with_tfa: 0.5168 - val_loss: 0.0943 - val_categorical_accuracy: 0.7345 - val_f1_with_tfa: 0.4570\n",
      "Epoch 60/100\n",
      "31/31 [==============================] - 3s 93ms/step - loss: 0.0787 - categorical_accuracy: 0.7797 - f1_with_tfa: 0.5208 - val_loss: 0.0895 - val_categorical_accuracy: 0.7480 - val_f1_with_tfa: 0.4803\n",
      "Epoch 61/100\n",
      "31/31 [==============================] - 3s 94ms/step - loss: 0.0780 - categorical_accuracy: 0.7841 - f1_with_tfa: 0.5248 - val_loss: 0.0887 - val_categorical_accuracy: 0.7511 - val_f1_with_tfa: 0.4970\n",
      "Epoch 62/100\n",
      "31/31 [==============================] - 3s 92ms/step - loss: 0.0763 - categorical_accuracy: 0.7874 - f1_with_tfa: 0.5265 - val_loss: 0.0899 - val_categorical_accuracy: 0.7478 - val_f1_with_tfa: 0.4849\n",
      "Epoch 63/100\n",
      "31/31 [==============================] - 3s 93ms/step - loss: 0.0773 - categorical_accuracy: 0.7834 - f1_with_tfa: 0.5237 - val_loss: 0.0906 - val_categorical_accuracy: 0.7428 - val_f1_with_tfa: 0.4842\n",
      "Epoch 64/100\n",
      "31/31 [==============================] - 3s 94ms/step - loss: 0.0765 - categorical_accuracy: 0.7866 - f1_with_tfa: 0.5288 - val_loss: 0.0900 - val_categorical_accuracy: 0.7456 - val_f1_with_tfa: 0.4875\n",
      "Epoch 65/100\n",
      "31/31 [==============================] - 3s 92ms/step - loss: 0.0766 - categorical_accuracy: 0.7864 - f1_with_tfa: 0.5283 - val_loss: 0.0919 - val_categorical_accuracy: 0.7425 - val_f1_with_tfa: 0.4809\n",
      "Epoch 66/100\n",
      "31/31 [==============================] - 3s 95ms/step - loss: 0.0759 - categorical_accuracy: 0.7879 - f1_with_tfa: 0.5282 - val_loss: 0.0881 - val_categorical_accuracy: 0.7556 - val_f1_with_tfa: 0.4981\n",
      "Epoch 67/100\n",
      "31/31 [==============================] - 3s 98ms/step - loss: 0.0751 - categorical_accuracy: 0.7919 - f1_with_tfa: 0.5357 - val_loss: 0.0910 - val_categorical_accuracy: 0.7412 - val_f1_with_tfa: 0.4871\n",
      "Epoch 68/100\n",
      "31/31 [==============================] - 3s 90ms/step - loss: 0.0745 - categorical_accuracy: 0.7937 - f1_with_tfa: 0.5399 - val_loss: 0.0902 - val_categorical_accuracy: 0.7464 - val_f1_with_tfa: 0.4861\n",
      "Epoch 69/100\n",
      "31/31 [==============================] - 3s 94ms/step - loss: 0.0740 - categorical_accuracy: 0.7935 - f1_with_tfa: 0.5366 - val_loss: 0.0887 - val_categorical_accuracy: 0.7524 - val_f1_with_tfa: 0.4950\n",
      "Epoch 70/100\n",
      "31/31 [==============================] - 3s 92ms/step - loss: 0.0735 - categorical_accuracy: 0.7947 - f1_with_tfa: 0.5395 - val_loss: 0.0884 - val_categorical_accuracy: 0.7495 - val_f1_with_tfa: 0.4949\n",
      "Epoch 71/100\n",
      "31/31 [==============================] - 3s 96ms/step - loss: 0.0726 - categorical_accuracy: 0.7987 - f1_with_tfa: 0.5463 - val_loss: 0.0870 - val_categorical_accuracy: 0.7537 - val_f1_with_tfa: 0.4978\n",
      "Epoch 72/100\n",
      "31/31 [==============================] - 3s 94ms/step - loss: 0.0714 - categorical_accuracy: 0.8013 - f1_with_tfa: 0.5512 - val_loss: 0.0876 - val_categorical_accuracy: 0.7532 - val_f1_with_tfa: 0.4960\n",
      "Epoch 73/100\n",
      "31/31 [==============================] - 3s 94ms/step - loss: 0.0716 - categorical_accuracy: 0.8018 - f1_with_tfa: 0.5526 - val_loss: 0.0897 - val_categorical_accuracy: 0.7484 - val_f1_with_tfa: 0.4887\n",
      "Epoch 74/100\n",
      "31/31 [==============================] - 3s 95ms/step - loss: 0.0720 - categorical_accuracy: 0.7998 - f1_with_tfa: 0.5504 - val_loss: 0.0918 - val_categorical_accuracy: 0.7364 - val_f1_with_tfa: 0.4844\n",
      "Epoch 75/100\n",
      "31/31 [==============================] - 3s 93ms/step - loss: 0.0712 - categorical_accuracy: 0.8029 - f1_with_tfa: 0.5567 - val_loss: 0.0889 - val_categorical_accuracy: 0.7507 - val_f1_with_tfa: 0.4926\n",
      "Epoch 76/100\n",
      "31/31 [==============================] - 3s 93ms/step - loss: 0.0711 - categorical_accuracy: 0.8034 - f1_with_tfa: 0.5487 - val_loss: 0.0868 - val_categorical_accuracy: 0.7552 - val_f1_with_tfa: 0.4997\n",
      "Epoch 77/100\n",
      "31/31 [==============================] - 3s 111ms/step - loss: 0.0698 - categorical_accuracy: 0.8065 - f1_with_tfa: 0.5605 - val_loss: 0.0904 - val_categorical_accuracy: 0.7463 - val_f1_with_tfa: 0.4926\n",
      "Epoch 78/100\n",
      "31/31 [==============================] - 4s 117ms/step - loss: 0.0683 - categorical_accuracy: 0.8118 - f1_with_tfa: 0.5671 - val_loss: 0.0864 - val_categorical_accuracy: 0.7543 - val_f1_with_tfa: 0.5010\n",
      "Epoch 79/100\n",
      "31/31 [==============================] - 3s 103ms/step - loss: 0.0672 - categorical_accuracy: 0.8153 - f1_with_tfa: 0.5684 - val_loss: 0.0891 - val_categorical_accuracy: 0.7499 - val_f1_with_tfa: 0.4944\n",
      "Epoch 80/100\n",
      "31/31 [==============================] - 3s 106ms/step - loss: 0.0682 - categorical_accuracy: 0.8105 - f1_with_tfa: 0.5640 - val_loss: 0.0881 - val_categorical_accuracy: 0.7522 - val_f1_with_tfa: 0.5010\n",
      "Epoch 81/100\n",
      "31/31 [==============================] - 3s 101ms/step - loss: 0.0679 - categorical_accuracy: 0.8131 - f1_with_tfa: 0.5644 - val_loss: 0.0880 - val_categorical_accuracy: 0.7540 - val_f1_with_tfa: 0.4998\n",
      "Epoch 82/100\n",
      "31/31 [==============================] - 3s 103ms/step - loss: 0.0669 - categorical_accuracy: 0.8176 - f1_with_tfa: 0.5648 - val_loss: 0.0871 - val_categorical_accuracy: 0.7552 - val_f1_with_tfa: 0.5039\n",
      "Epoch 83/100\n",
      "31/31 [==============================] - 3s 101ms/step - loss: 0.0661 - categorical_accuracy: 0.8164 - f1_with_tfa: 0.5699 - val_loss: 0.0872 - val_categorical_accuracy: 0.7580 - val_f1_with_tfa: 0.5067\n",
      "Epoch 84/100\n",
      "31/31 [==============================] - 3s 101ms/step - loss: 0.0654 - categorical_accuracy: 0.8192 - f1_with_tfa: 0.5738 - val_loss: 0.0897 - val_categorical_accuracy: 0.7488 - val_f1_with_tfa: 0.4964\n",
      "Epoch 85/100\n",
      "31/31 [==============================] - 3s 99ms/step - loss: 0.0681 - categorical_accuracy: 0.8103 - f1_with_tfa: 0.5682 - val_loss: 0.0911 - val_categorical_accuracy: 0.7474 - val_f1_with_tfa: 0.4901\n",
      "Epoch 86/100\n",
      "31/31 [==============================] - 3s 106ms/step - loss: 0.0657 - categorical_accuracy: 0.8213 - f1_with_tfa: 0.5772 - val_loss: 0.0880 - val_categorical_accuracy: 0.7550 - val_f1_with_tfa: 0.5032\n",
      "Epoch 87/100\n",
      "31/31 [==============================] - 3s 103ms/step - loss: 0.0639 - categorical_accuracy: 0.8239 - f1_with_tfa: 0.5821 - val_loss: 0.0886 - val_categorical_accuracy: 0.7515 - val_f1_with_tfa: 0.4966\n",
      "Epoch 88/100\n",
      "31/31 [==============================] - 3s 99ms/step - loss: 0.0637 - categorical_accuracy: 0.8253 - f1_with_tfa: 0.5891 - val_loss: 0.0894 - val_categorical_accuracy: 0.7521 - val_f1_with_tfa: 0.4920\n",
      "Epoch 89/100\n",
      "31/31 [==============================] - 3s 101ms/step - loss: 0.0632 - categorical_accuracy: 0.8275 - f1_with_tfa: 0.5836 - val_loss: 0.0887 - val_categorical_accuracy: 0.7571 - val_f1_with_tfa: 0.5041\n",
      "Epoch 90/100\n",
      "31/31 [==============================] - 3s 104ms/step - loss: 0.0620 - categorical_accuracy: 0.8311 - f1_with_tfa: 0.5853 - val_loss: 0.0889 - val_categorical_accuracy: 0.7564 - val_f1_with_tfa: 0.5094\n",
      "Epoch 91/100\n",
      "31/31 [==============================] - 3s 107ms/step - loss: 0.0618 - categorical_accuracy: 0.8310 - f1_with_tfa: 0.5893 - val_loss: 0.0897 - val_categorical_accuracy: 0.7516 - val_f1_with_tfa: 0.5015\n",
      "Epoch 92/100\n",
      "31/31 [==============================] - 3s 101ms/step - loss: 0.0624 - categorical_accuracy: 0.8290 - f1_with_tfa: 0.5848 - val_loss: 0.0908 - val_categorical_accuracy: 0.7488 - val_f1_with_tfa: 0.5024\n",
      "Epoch 93/100\n",
      "31/31 [==============================] - 3s 104ms/step - loss: 0.0625 - categorical_accuracy: 0.8302 - f1_with_tfa: 0.5844 - val_loss: 0.0902 - val_categorical_accuracy: 0.7495 - val_f1_with_tfa: 0.5070\n",
      "Epoch 94/100\n",
      "31/31 [==============================] - 3s 102ms/step - loss: 0.0614 - categorical_accuracy: 0.8334 - f1_with_tfa: 0.5925 - val_loss: 0.0891 - val_categorical_accuracy: 0.7555 - val_f1_with_tfa: 0.5019\n",
      "Epoch 95/100\n",
      "31/31 [==============================] - 3s 101ms/step - loss: 0.0612 - categorical_accuracy: 0.8323 - f1_with_tfa: 0.5880 - val_loss: 0.0910 - val_categorical_accuracy: 0.7488 - val_f1_with_tfa: 0.5032\n",
      "Epoch 96/100\n",
      "31/31 [==============================] - 3s 103ms/step - loss: 0.0599 - categorical_accuracy: 0.8371 - f1_with_tfa: 0.6068 - val_loss: 0.0912 - val_categorical_accuracy: 0.7503 - val_f1_with_tfa: 0.4946\n",
      "Epoch 97/100\n",
      "31/31 [==============================] - 3s 104ms/step - loss: 0.0588 - categorical_accuracy: 0.8409 - f1_with_tfa: 0.6001 - val_loss: 0.0912 - val_categorical_accuracy: 0.7494 - val_f1_with_tfa: 0.4964\n",
      "Epoch 98/100\n",
      "31/31 [==============================] - 3s 101ms/step - loss: 0.0588 - categorical_accuracy: 0.8400 - f1_with_tfa: 0.5981 - val_loss: 0.0952 - val_categorical_accuracy: 0.7439 - val_f1_with_tfa: 0.4931\n",
      "Epoch 99/100\n",
      "31/31 [==============================] - 3s 104ms/step - loss: 0.0592 - categorical_accuracy: 0.8395 - f1_with_tfa: 0.6001 - val_loss: 0.0904 - val_categorical_accuracy: 0.7561 - val_f1_with_tfa: 0.5040\n",
      "Epoch 100/100\n",
      "31/31 [==============================] - 3s 105ms/step - loss: 0.0573 - categorical_accuracy: 0.8448 - f1_with_tfa: 0.6101 - val_loss: 0.0910 - val_categorical_accuracy: 0.7511 - val_f1_with_tfa: 0.5037\n"
     ]
    }
   ],
   "source": [
    "# third model    \n",
    "layers_info_two_bilstm = [\n",
    "    {\n",
    "        \"layer_name\": layers.Masking,\n",
    "        \"name\": \"padding_masking\",\n",
    "        \"mask_value\": 0.,\n",
    "        \"input_shape\": X_train.shape[1:]\n",
    "    },\n",
    "    {\n",
    "        'layer_name': layers.Bidirectional,\n",
    "        \"layer\": layers.LSTM(best_hps_two_bilstm.get('units1'), return_sequences=True, kernel_regularizer=keras.regularizers.l2(0.01)), # units = 128\n",
    "        \"name\": \"bilstm_1\",\n",
    "    },\n",
    "    {\n",
    "        'layer_name': layers.Bidirectional,\n",
    "        \"layer\": layers.LSTM(best_hps_two_bilstm.get('units2'), return_sequences=True, kernel_regularizer=keras.regularizers.l2(0.01)), # units = 256\n",
    "        \"name\": \"bilstm_2\",\n",
    "    },\n",
    "    {\n",
    "        \"layer_name\": layers.Dropout,\n",
    "        \"rate\": best_hps_two_bilstm.get('dropout'), # dropout = 0.5\n",
    "        \"name\": \"dropout_1\"\n",
    "    },\n",
    "    {\n",
    "        \"layer_name\": layers.Dense,\n",
    "        \"units\": n_classes,\n",
    "        \"activation\": \"softmax\",\n",
    "        \"name\": \"dense_1\"\n",
    "    }\n",
    "]\n",
    "\n",
    "compile_info_two_bilstm = {\n",
    "    'optimizer': keras.optimizers.Adam(learning_rate=best_hps_two_bilstm.get('learning_rate')), # learning rate = 0.001\n",
    "    'loss': 'categorical_crossentropy',\n",
    "    'metrics' : ['categorical_accuracy', f1_with_tfa]\n",
    "}\n",
    "\n",
    "model_two_bilstm = create_model(layers_info_two_bilstm, compile_info_two_bilstm)\n",
    "model_two_bilstm.summary()\n",
    "\n",
    "# start training\n",
    "history_two_bilstm = model_two_bilstm.fit(X_train, y_train, epochs=epochs_training, batch_size=batch_size_training, validation_data=(X_dev, y_dev), callbacks=callbacks_training)"
   ]
  },
  {
   "cell_type": "markdown",
   "metadata": {
    "id": "BDri7iKq3ZUP"
   },
   "source": [
    "Model 4: Bidirectional LSMT + two Dense layer variant training"
   ]
  },
  {
   "cell_type": "code",
   "execution_count": null,
   "metadata": {
    "id": "OrxBTqOQ3ZUP",
    "outputId": "acd4cd39-4184-4cec-a568-219464177d8b"
   },
   "outputs": [
    {
     "name": "stdout",
     "output_type": "stream",
     "text": [
      "Model: \"sequential_4\"\n",
      "_________________________________________________________________\n",
      " Layer (type)                Output Shape              Param #   \n",
      "=================================================================\n",
      " padding_masking (Masking)   (None, 249, 100)          0         \n",
      "                                                                 \n",
      " bilstm_1 (Bidirectional)    (None, 249, 128)          84480     \n",
      "                                                                 \n",
      " dropout_1 (Dropout)         (None, 249, 128)          0         \n",
      "                                                                 \n",
      " dense_1 (Dense)             (None, 249, 256)          33024     \n",
      "                                                                 \n",
      " dropout_2 (Dropout)         (None, 249, 256)          0         \n",
      "                                                                 \n",
      " dense_2 (Dense)             (None, 249, 45)           11565     \n",
      "                                                                 \n",
      "=================================================================\n",
      "Total params: 129,069\n",
      "Trainable params: 129,069\n",
      "Non-trainable params: 0\n",
      "_________________________________________________________________\n",
      "Epoch 1/100\n",
      "31/31 [==============================] - 14s 210ms/step - loss: 0.9841 - categorical_accuracy: 0.1484 - f1_with_tfa: 0.0081 - val_loss: 0.3296 - val_categorical_accuracy: 0.1791 - val_f1_with_tfa: 0.0163\n",
      "Epoch 2/100\n",
      "31/31 [==============================] - 2s 57ms/step - loss: 0.2962 - categorical_accuracy: 0.1933 - f1_with_tfa: 0.0209 - val_loss: 0.2811 - val_categorical_accuracy: 0.2254 - val_f1_with_tfa: 0.0318\n",
      "Epoch 3/100\n",
      "31/31 [==============================] - 2s 60ms/step - loss: 0.2680 - categorical_accuracy: 0.2478 - f1_with_tfa: 0.0316 - val_loss: 0.2544 - val_categorical_accuracy: 0.2778 - val_f1_with_tfa: 0.0316\n",
      "Epoch 4/100\n",
      "31/31 [==============================] - 2s 58ms/step - loss: 0.2496 - categorical_accuracy: 0.2917 - f1_with_tfa: 0.0434 - val_loss: 0.2431 - val_categorical_accuracy: 0.3226 - val_f1_with_tfa: 0.0488\n",
      "Epoch 5/100\n",
      "31/31 [==============================] - 2s 63ms/step - loss: 0.2381 - categorical_accuracy: 0.3263 - f1_with_tfa: 0.0544 - val_loss: 0.2343 - val_categorical_accuracy: 0.3554 - val_f1_with_tfa: 0.0661\n",
      "Epoch 6/100\n",
      "31/31 [==============================] - 2s 62ms/step - loss: 0.2267 - categorical_accuracy: 0.3755 - f1_with_tfa: 0.0623 - val_loss: 0.2226 - val_categorical_accuracy: 0.4334 - val_f1_with_tfa: 0.0801\n",
      "Epoch 7/100\n",
      "31/31 [==============================] - 2s 62ms/step - loss: 0.2195 - categorical_accuracy: 0.4367 - f1_with_tfa: 0.0703 - val_loss: 0.2119 - val_categorical_accuracy: 0.4555 - val_f1_with_tfa: 0.0833\n",
      "Epoch 8/100\n",
      "31/31 [==============================] - 2s 57ms/step - loss: 0.2056 - categorical_accuracy: 0.4743 - f1_with_tfa: 0.0895 - val_loss: 0.2000 - val_categorical_accuracy: 0.4703 - val_f1_with_tfa: 0.0976\n",
      "Epoch 9/100\n",
      "31/31 [==============================] - 2s 60ms/step - loss: 0.1949 - categorical_accuracy: 0.5074 - f1_with_tfa: 0.1228 - val_loss: 0.1883 - val_categorical_accuracy: 0.5221 - val_f1_with_tfa: 0.1460\n",
      "Epoch 10/100\n",
      "31/31 [==============================] - 2s 58ms/step - loss: 0.1838 - categorical_accuracy: 0.5402 - f1_with_tfa: 0.1576 - val_loss: 0.1777 - val_categorical_accuracy: 0.5610 - val_f1_with_tfa: 0.1939\n",
      "Epoch 11/100\n",
      "31/31 [==============================] - 2s 63ms/step - loss: 0.1776 - categorical_accuracy: 0.5703 - f1_with_tfa: 0.2052 - val_loss: 0.1758 - val_categorical_accuracy: 0.5652 - val_f1_with_tfa: 0.2322\n",
      "Epoch 12/100\n",
      "31/31 [==============================] - 2s 58ms/step - loss: 0.1689 - categorical_accuracy: 0.6027 - f1_with_tfa: 0.2394 - val_loss: 0.1663 - val_categorical_accuracy: 0.6185 - val_f1_with_tfa: 0.2813\n",
      "Epoch 13/100\n",
      "31/31 [==============================] - 2s 59ms/step - loss: 0.1619 - categorical_accuracy: 0.6272 - f1_with_tfa: 0.2700 - val_loss: 0.1587 - val_categorical_accuracy: 0.6498 - val_f1_with_tfa: 0.3136\n",
      "Epoch 14/100\n",
      "31/31 [==============================] - 2s 63ms/step - loss: 0.1600 - categorical_accuracy: 0.6385 - f1_with_tfa: 0.2863 - val_loss: 0.1528 - val_categorical_accuracy: 0.6657 - val_f1_with_tfa: 0.3281\n",
      "Epoch 15/100\n",
      "31/31 [==============================] - 2s 59ms/step - loss: 0.1545 - categorical_accuracy: 0.6594 - f1_with_tfa: 0.3063 - val_loss: 0.1513 - val_categorical_accuracy: 0.6672 - val_f1_with_tfa: 0.3289\n",
      "Epoch 16/100\n",
      "31/31 [==============================] - 2s 61ms/step - loss: 0.1514 - categorical_accuracy: 0.6647 - f1_with_tfa: 0.3130 - val_loss: 0.1466 - val_categorical_accuracy: 0.6837 - val_f1_with_tfa: 0.3371\n",
      "Epoch 17/100\n",
      "31/31 [==============================] - 2s 58ms/step - loss: 0.1468 - categorical_accuracy: 0.6770 - f1_with_tfa: 0.3274 - val_loss: 0.1464 - val_categorical_accuracy: 0.6861 - val_f1_with_tfa: 0.3591\n",
      "Epoch 18/100\n",
      "31/31 [==============================] - 2s 60ms/step - loss: 0.1446 - categorical_accuracy: 0.6861 - f1_with_tfa: 0.3340 - val_loss: 0.1494 - val_categorical_accuracy: 0.6495 - val_f1_with_tfa: 0.3331\n",
      "Epoch 19/100\n",
      "31/31 [==============================] - 2s 58ms/step - loss: 0.1436 - categorical_accuracy: 0.6885 - f1_with_tfa: 0.3384 - val_loss: 0.1454 - val_categorical_accuracy: 0.6830 - val_f1_with_tfa: 0.3618\n",
      "Epoch 20/100\n",
      "31/31 [==============================] - 2s 62ms/step - loss: 0.1411 - categorical_accuracy: 0.6941 - f1_with_tfa: 0.3432 - val_loss: 0.1374 - val_categorical_accuracy: 0.7080 - val_f1_with_tfa: 0.3711\n",
      "Epoch 21/100\n",
      "31/31 [==============================] - 2s 58ms/step - loss: 0.1403 - categorical_accuracy: 0.6949 - f1_with_tfa: 0.3436 - val_loss: 0.1412 - val_categorical_accuracy: 0.7013 - val_f1_with_tfa: 0.3663\n",
      "Epoch 22/100\n",
      "31/31 [==============================] - 2s 64ms/step - loss: 0.1374 - categorical_accuracy: 0.7021 - f1_with_tfa: 0.3514 - val_loss: 0.1358 - val_categorical_accuracy: 0.7041 - val_f1_with_tfa: 0.3708\n",
      "Epoch 23/100\n",
      "31/31 [==============================] - 2s 60ms/step - loss: 0.1366 - categorical_accuracy: 0.7061 - f1_with_tfa: 0.3541 - val_loss: 0.1374 - val_categorical_accuracy: 0.6925 - val_f1_with_tfa: 0.3582\n",
      "Epoch 24/100\n",
      "31/31 [==============================] - 2s 61ms/step - loss: 0.1362 - categorical_accuracy: 0.7066 - f1_with_tfa: 0.3513 - val_loss: 0.1352 - val_categorical_accuracy: 0.7127 - val_f1_with_tfa: 0.3728\n",
      "Epoch 25/100\n",
      "31/31 [==============================] - 2s 58ms/step - loss: 0.1342 - categorical_accuracy: 0.7127 - f1_with_tfa: 0.3586 - val_loss: 0.1368 - val_categorical_accuracy: 0.6941 - val_f1_with_tfa: 0.3690\n",
      "Epoch 26/100\n",
      "31/31 [==============================] - 2s 57ms/step - loss: 0.1322 - categorical_accuracy: 0.7204 - f1_with_tfa: 0.3612 - val_loss: 0.1301 - val_categorical_accuracy: 0.7233 - val_f1_with_tfa: 0.3977\n",
      "Epoch 27/100\n",
      "31/31 [==============================] - 2s 63ms/step - loss: 0.1300 - categorical_accuracy: 0.7223 - f1_with_tfa: 0.3623 - val_loss: 0.1304 - val_categorical_accuracy: 0.7305 - val_f1_with_tfa: 0.3973\n",
      "Epoch 28/100\n",
      "31/31 [==============================] - 2s 66ms/step - loss: 0.1303 - categorical_accuracy: 0.7243 - f1_with_tfa: 0.3644 - val_loss: 0.1276 - val_categorical_accuracy: 0.7324 - val_f1_with_tfa: 0.3981\n",
      "Epoch 29/100\n",
      "31/31 [==============================] - 2s 60ms/step - loss: 0.1271 - categorical_accuracy: 0.7324 - f1_with_tfa: 0.3736 - val_loss: 0.1271 - val_categorical_accuracy: 0.7333 - val_f1_with_tfa: 0.4008\n",
      "Epoch 30/100\n",
      "31/31 [==============================] - 2s 58ms/step - loss: 0.1276 - categorical_accuracy: 0.7307 - f1_with_tfa: 0.3662 - val_loss: 0.1326 - val_categorical_accuracy: 0.7076 - val_f1_with_tfa: 0.3792\n",
      "Epoch 31/100\n",
      "31/31 [==============================] - 2s 61ms/step - loss: 0.1277 - categorical_accuracy: 0.7339 - f1_with_tfa: 0.3726 - val_loss: 0.1250 - val_categorical_accuracy: 0.7425 - val_f1_with_tfa: 0.4159\n",
      "Epoch 32/100\n",
      "31/31 [==============================] - 2s 57ms/step - loss: 0.1248 - categorical_accuracy: 0.7406 - f1_with_tfa: 0.3794 - val_loss: 0.1284 - val_categorical_accuracy: 0.7269 - val_f1_with_tfa: 0.3983\n",
      "Epoch 33/100\n",
      "31/31 [==============================] - 2s 62ms/step - loss: 0.1251 - categorical_accuracy: 0.7407 - f1_with_tfa: 0.3756 - val_loss: 0.1208 - val_categorical_accuracy: 0.7531 - val_f1_with_tfa: 0.4185\n",
      "Epoch 34/100\n",
      "31/31 [==============================] - 2s 61ms/step - loss: 0.1217 - categorical_accuracy: 0.7484 - f1_with_tfa: 0.3845 - val_loss: 0.1220 - val_categorical_accuracy: 0.7422 - val_f1_with_tfa: 0.4207\n",
      "Epoch 35/100\n",
      "31/31 [==============================] - 2s 62ms/step - loss: 0.1212 - categorical_accuracy: 0.7498 - f1_with_tfa: 0.3824 - val_loss: 0.1235 - val_categorical_accuracy: 0.7424 - val_f1_with_tfa: 0.4155\n",
      "Epoch 36/100\n",
      "31/31 [==============================] - 2s 58ms/step - loss: 0.1228 - categorical_accuracy: 0.7454 - f1_with_tfa: 0.3783 - val_loss: 0.1235 - val_categorical_accuracy: 0.7417 - val_f1_with_tfa: 0.4066\n",
      "Epoch 37/100\n",
      "31/31 [==============================] - 2s 60ms/step - loss: 0.1215 - categorical_accuracy: 0.7494 - f1_with_tfa: 0.3805 - val_loss: 0.1199 - val_categorical_accuracy: 0.7592 - val_f1_with_tfa: 0.4296\n",
      "Epoch 38/100\n",
      "31/31 [==============================] - 2s 57ms/step - loss: 0.1183 - categorical_accuracy: 0.7589 - f1_with_tfa: 0.3910 - val_loss: 0.1200 - val_categorical_accuracy: 0.7513 - val_f1_with_tfa: 0.4295\n",
      "Epoch 39/100\n",
      "31/31 [==============================] - 2s 60ms/step - loss: 0.1198 - categorical_accuracy: 0.7530 - f1_with_tfa: 0.3859 - val_loss: 0.1187 - val_categorical_accuracy: 0.7568 - val_f1_with_tfa: 0.4285\n",
      "Epoch 40/100\n",
      "31/31 [==============================] - 2s 60ms/step - loss: 0.1183 - categorical_accuracy: 0.7579 - f1_with_tfa: 0.3835 - val_loss: 0.1199 - val_categorical_accuracy: 0.7434 - val_f1_with_tfa: 0.4279\n",
      "Epoch 41/100\n",
      "31/31 [==============================] - 2s 60ms/step - loss: 0.1180 - categorical_accuracy: 0.7591 - f1_with_tfa: 0.3875 - val_loss: 0.1189 - val_categorical_accuracy: 0.7548 - val_f1_with_tfa: 0.4225\n",
      "Epoch 42/100\n",
      "31/31 [==============================] - 2s 58ms/step - loss: 0.1160 - categorical_accuracy: 0.7638 - f1_with_tfa: 0.3897 - val_loss: 0.1187 - val_categorical_accuracy: 0.7449 - val_f1_with_tfa: 0.4199\n",
      "Epoch 43/100\n",
      "31/31 [==============================] - 2s 59ms/step - loss: 0.1164 - categorical_accuracy: 0.7632 - f1_with_tfa: 0.3932 - val_loss: 0.1206 - val_categorical_accuracy: 0.7530 - val_f1_with_tfa: 0.4324\n",
      "Epoch 44/100\n",
      "31/31 [==============================] - 2s 63ms/step - loss: 0.1159 - categorical_accuracy: 0.7645 - f1_with_tfa: 0.3925 - val_loss: 0.1163 - val_categorical_accuracy: 0.7576 - val_f1_with_tfa: 0.4323\n",
      "Epoch 45/100\n",
      "31/31 [==============================] - 2s 56ms/step - loss: 0.1133 - categorical_accuracy: 0.7712 - f1_with_tfa: 0.3979 - val_loss: 0.1155 - val_categorical_accuracy: 0.7571 - val_f1_with_tfa: 0.4306\n",
      "Epoch 46/100\n",
      "31/31 [==============================] - 2s 63ms/step - loss: 0.1147 - categorical_accuracy: 0.7678 - f1_with_tfa: 0.3932 - val_loss: 0.1157 - val_categorical_accuracy: 0.7661 - val_f1_with_tfa: 0.4359\n",
      "Epoch 47/100\n",
      "31/31 [==============================] - 2s 57ms/step - loss: 0.1128 - categorical_accuracy: 0.7735 - f1_with_tfa: 0.3919 - val_loss: 0.1164 - val_categorical_accuracy: 0.7517 - val_f1_with_tfa: 0.4376\n",
      "Epoch 48/100\n",
      "31/31 [==============================] - 2s 59ms/step - loss: 0.1136 - categorical_accuracy: 0.7722 - f1_with_tfa: 0.3971 - val_loss: 0.1154 - val_categorical_accuracy: 0.7638 - val_f1_with_tfa: 0.4432\n",
      "Epoch 49/100\n",
      "31/31 [==============================] - 2s 58ms/step - loss: 0.1118 - categorical_accuracy: 0.7738 - f1_with_tfa: 0.4021 - val_loss: 0.1138 - val_categorical_accuracy: 0.7665 - val_f1_with_tfa: 0.4348\n",
      "Epoch 50/100\n",
      "31/31 [==============================] - 2s 60ms/step - loss: 0.1116 - categorical_accuracy: 0.7759 - f1_with_tfa: 0.3962 - val_loss: 0.1125 - val_categorical_accuracy: 0.7776 - val_f1_with_tfa: 0.4425\n",
      "Epoch 51/100\n",
      "31/31 [==============================] - 2s 63ms/step - loss: 0.1117 - categorical_accuracy: 0.7769 - f1_with_tfa: 0.4002 - val_loss: 0.1163 - val_categorical_accuracy: 0.7596 - val_f1_with_tfa: 0.4402\n",
      "Epoch 52/100\n",
      "31/31 [==============================] - 2s 59ms/step - loss: 0.1101 - categorical_accuracy: 0.7809 - f1_with_tfa: 0.4015 - val_loss: 0.1117 - val_categorical_accuracy: 0.7741 - val_f1_with_tfa: 0.4524\n",
      "Epoch 53/100\n",
      "31/31 [==============================] - 2s 50ms/step - loss: 0.1102 - categorical_accuracy: 0.7782 - f1_with_tfa: 0.4059 - val_loss: 0.1207 - val_categorical_accuracy: 0.7408 - val_f1_with_tfa: 0.4116\n",
      "Epoch 54/100\n",
      "31/31 [==============================] - 1s 49ms/step - loss: 0.1118 - categorical_accuracy: 0.7764 - f1_with_tfa: 0.4020 - val_loss: 0.1142 - val_categorical_accuracy: 0.7651 - val_f1_with_tfa: 0.4417\n",
      "Epoch 55/100\n",
      "31/31 [==============================] - 2s 50ms/step - loss: 0.1090 - categorical_accuracy: 0.7834 - f1_with_tfa: 0.4116 - val_loss: 0.1114 - val_categorical_accuracy: 0.7715 - val_f1_with_tfa: 0.4392\n",
      "Epoch 56/100\n",
      "31/31 [==============================] - 2s 52ms/step - loss: 0.1072 - categorical_accuracy: 0.7900 - f1_with_tfa: 0.4120 - val_loss: 0.1146 - val_categorical_accuracy: 0.7543 - val_f1_with_tfa: 0.4317\n",
      "Epoch 57/100\n",
      "31/31 [==============================] - 2s 51ms/step - loss: 0.1090 - categorical_accuracy: 0.7841 - f1_with_tfa: 0.4127 - val_loss: 0.1103 - val_categorical_accuracy: 0.7774 - val_f1_with_tfa: 0.4595\n",
      "Epoch 58/100\n",
      "31/31 [==============================] - 2s 55ms/step - loss: 0.1069 - categorical_accuracy: 0.7865 - f1_with_tfa: 0.4134 - val_loss: 0.1143 - val_categorical_accuracy: 0.7640 - val_f1_with_tfa: 0.4385\n",
      "Epoch 59/100\n",
      "31/31 [==============================] - 2s 53ms/step - loss: 0.1075 - categorical_accuracy: 0.7893 - f1_with_tfa: 0.4146 - val_loss: 0.1103 - val_categorical_accuracy: 0.7785 - val_f1_with_tfa: 0.4589\n",
      "Epoch 60/100\n",
      "31/31 [==============================] - 2s 52ms/step - loss: 0.1081 - categorical_accuracy: 0.7871 - f1_with_tfa: 0.4098 - val_loss: 0.1118 - val_categorical_accuracy: 0.7703 - val_f1_with_tfa: 0.4521\n",
      "Epoch 61/100\n",
      "31/31 [==============================] - 2s 53ms/step - loss: 0.1077 - categorical_accuracy: 0.7879 - f1_with_tfa: 0.4148 - val_loss: 0.1126 - val_categorical_accuracy: 0.7673 - val_f1_with_tfa: 0.4586\n",
      "Epoch 62/100\n",
      "31/31 [==============================] - 2s 53ms/step - loss: 0.1058 - categorical_accuracy: 0.7923 - f1_with_tfa: 0.4272 - val_loss: 0.1123 - val_categorical_accuracy: 0.7617 - val_f1_with_tfa: 0.4483\n",
      "Epoch 63/100\n",
      "31/31 [==============================] - 2s 49ms/step - loss: 0.1065 - categorical_accuracy: 0.7895 - f1_with_tfa: 0.4143 - val_loss: 0.1158 - val_categorical_accuracy: 0.7615 - val_f1_with_tfa: 0.4471\n",
      "Epoch 64/100\n",
      "31/31 [==============================] - 2s 53ms/step - loss: 0.1078 - categorical_accuracy: 0.7891 - f1_with_tfa: 0.4164 - val_loss: 0.1123 - val_categorical_accuracy: 0.7732 - val_f1_with_tfa: 0.4509\n",
      "Epoch 65/100\n",
      "31/31 [==============================] - 2s 52ms/step - loss: 0.1056 - categorical_accuracy: 0.7934 - f1_with_tfa: 0.4218 - val_loss: 0.1135 - val_categorical_accuracy: 0.7707 - val_f1_with_tfa: 0.4516\n",
      "Epoch 66/100\n",
      "31/31 [==============================] - 1s 46ms/step - loss: 0.1057 - categorical_accuracy: 0.7912 - f1_with_tfa: 0.4163 - val_loss: 0.1096 - val_categorical_accuracy: 0.7772 - val_f1_with_tfa: 0.4495\n",
      "Epoch 67/100\n",
      "31/31 [==============================] - 1s 48ms/step - loss: 0.1045 - categorical_accuracy: 0.7974 - f1_with_tfa: 0.4246 - val_loss: 0.1075 - val_categorical_accuracy: 0.7857 - val_f1_with_tfa: 0.4678\n",
      "Epoch 68/100\n",
      "31/31 [==============================] - 1s 48ms/step - loss: 0.1037 - categorical_accuracy: 0.7983 - f1_with_tfa: 0.4222 - val_loss: 0.1102 - val_categorical_accuracy: 0.7765 - val_f1_with_tfa: 0.4573\n",
      "Epoch 69/100\n",
      "31/31 [==============================] - 1s 48ms/step - loss: 0.1051 - categorical_accuracy: 0.7946 - f1_with_tfa: 0.4266 - val_loss: 0.1138 - val_categorical_accuracy: 0.7640 - val_f1_with_tfa: 0.4500\n",
      "Epoch 70/100\n",
      "31/31 [==============================] - 2s 49ms/step - loss: 0.1041 - categorical_accuracy: 0.7989 - f1_with_tfa: 0.4199 - val_loss: 0.1114 - val_categorical_accuracy: 0.7699 - val_f1_with_tfa: 0.4554\n",
      "Epoch 71/100\n",
      "31/31 [==============================] - 1s 48ms/step - loss: 0.1032 - categorical_accuracy: 0.7989 - f1_with_tfa: 0.4287 - val_loss: 0.1097 - val_categorical_accuracy: 0.7729 - val_f1_with_tfa: 0.4565\n",
      "Epoch 72/100\n",
      "31/31 [==============================] - 2s 50ms/step - loss: 0.1021 - categorical_accuracy: 0.8021 - f1_with_tfa: 0.4294 - val_loss: 0.1074 - val_categorical_accuracy: 0.7890 - val_f1_with_tfa: 0.4683\n",
      "Epoch 73/100\n",
      "31/31 [==============================] - 1s 47ms/step - loss: 0.1026 - categorical_accuracy: 0.8016 - f1_with_tfa: 0.4328 - val_loss: 0.1099 - val_categorical_accuracy: 0.7761 - val_f1_with_tfa: 0.4538\n",
      "Epoch 74/100\n",
      "31/31 [==============================] - 1s 47ms/step - loss: 0.1034 - categorical_accuracy: 0.7998 - f1_with_tfa: 0.4191 - val_loss: 0.1115 - val_categorical_accuracy: 0.7737 - val_f1_with_tfa: 0.4556\n",
      "Epoch 75/100\n",
      "31/31 [==============================] - 1s 47ms/step - loss: 0.1037 - categorical_accuracy: 0.7992 - f1_with_tfa: 0.4305 - val_loss: 0.1080 - val_categorical_accuracy: 0.7907 - val_f1_with_tfa: 0.4719\n",
      "Epoch 76/100\n",
      "31/31 [==============================] - 1s 46ms/step - loss: 0.1008 - categorical_accuracy: 0.8065 - f1_with_tfa: 0.4307 - val_loss: 0.1107 - val_categorical_accuracy: 0.7647 - val_f1_with_tfa: 0.4582\n",
      "Epoch 77/100\n",
      "31/31 [==============================] - 1s 47ms/step - loss: 0.1013 - categorical_accuracy: 0.8054 - f1_with_tfa: 0.4334 - val_loss: 0.1123 - val_categorical_accuracy: 0.7676 - val_f1_with_tfa: 0.4682\n",
      "Epoch 78/100\n",
      "31/31 [==============================] - 1s 46ms/step - loss: 0.1014 - categorical_accuracy: 0.8054 - f1_with_tfa: 0.4317 - val_loss: 0.1090 - val_categorical_accuracy: 0.7804 - val_f1_with_tfa: 0.4670\n",
      "Epoch 79/100\n",
      "31/31 [==============================] - 2s 50ms/step - loss: 0.1002 - categorical_accuracy: 0.8072 - f1_with_tfa: 0.4365 - val_loss: 0.1072 - val_categorical_accuracy: 0.7848 - val_f1_with_tfa: 0.4583\n",
      "Epoch 80/100\n",
      "31/31 [==============================] - 2s 50ms/step - loss: 0.1006 - categorical_accuracy: 0.8052 - f1_with_tfa: 0.4348 - val_loss: 0.1104 - val_categorical_accuracy: 0.7762 - val_f1_with_tfa: 0.4757\n",
      "Epoch 81/100\n",
      "31/31 [==============================] - 2s 49ms/step - loss: 0.1037 - categorical_accuracy: 0.8008 - f1_with_tfa: 0.4273 - val_loss: 0.1088 - val_categorical_accuracy: 0.7845 - val_f1_with_tfa: 0.4690\n",
      "Epoch 82/100\n",
      "31/31 [==============================] - 1s 49ms/step - loss: 0.1013 - categorical_accuracy: 0.8084 - f1_with_tfa: 0.4401 - val_loss: 0.1124 - val_categorical_accuracy: 0.7688 - val_f1_with_tfa: 0.4503\n",
      "Epoch 83/100\n",
      "31/31 [==============================] - 1s 47ms/step - loss: 0.1007 - categorical_accuracy: 0.8053 - f1_with_tfa: 0.4328 - val_loss: 0.1087 - val_categorical_accuracy: 0.7769 - val_f1_with_tfa: 0.4650\n",
      "Epoch 84/100\n",
      "31/31 [==============================] - 1s 47ms/step - loss: 0.1010 - categorical_accuracy: 0.8060 - f1_with_tfa: 0.4362 - val_loss: 0.1084 - val_categorical_accuracy: 0.7833 - val_f1_with_tfa: 0.4625\n",
      "Epoch 85/100\n",
      "31/31 [==============================] - 2s 49ms/step - loss: 0.0996 - categorical_accuracy: 0.8103 - f1_with_tfa: 0.4384 - val_loss: 0.1079 - val_categorical_accuracy: 0.7771 - val_f1_with_tfa: 0.4635\n",
      "Epoch 86/100\n",
      "31/31 [==============================] - 1s 45ms/step - loss: 0.0983 - categorical_accuracy: 0.8127 - f1_with_tfa: 0.4442 - val_loss: 0.1056 - val_categorical_accuracy: 0.7882 - val_f1_with_tfa: 0.4748\n",
      "Epoch 87/100\n",
      "31/31 [==============================] - 2s 50ms/step - loss: 0.0982 - categorical_accuracy: 0.8132 - f1_with_tfa: 0.4400 - val_loss: 0.1075 - val_categorical_accuracy: 0.7849 - val_f1_with_tfa: 0.4788\n",
      "Epoch 88/100\n",
      "31/31 [==============================] - 1s 49ms/step - loss: 0.1013 - categorical_accuracy: 0.8069 - f1_with_tfa: 0.4358 - val_loss: 0.1127 - val_categorical_accuracy: 0.7709 - val_f1_with_tfa: 0.4595\n",
      "Epoch 89/100\n",
      "31/31 [==============================] - 1s 48ms/step - loss: 0.0998 - categorical_accuracy: 0.8103 - f1_with_tfa: 0.4424 - val_loss: 0.1056 - val_categorical_accuracy: 0.7872 - val_f1_with_tfa: 0.4735\n",
      "Epoch 90/100\n",
      "31/31 [==============================] - 1s 46ms/step - loss: 0.0988 - categorical_accuracy: 0.8114 - f1_with_tfa: 0.4366 - val_loss: 0.1061 - val_categorical_accuracy: 0.7907 - val_f1_with_tfa: 0.4840\n",
      "Epoch 91/100\n",
      "31/31 [==============================] - 1s 47ms/step - loss: 0.0990 - categorical_accuracy: 0.8129 - f1_with_tfa: 0.4458 - val_loss: 0.1054 - val_categorical_accuracy: 0.7891 - val_f1_with_tfa: 0.4783\n",
      "Epoch 92/100\n",
      "31/31 [==============================] - 1s 48ms/step - loss: 0.0970 - categorical_accuracy: 0.8132 - f1_with_tfa: 0.4471 - val_loss: 0.1089 - val_categorical_accuracy: 0.7708 - val_f1_with_tfa: 0.4653\n",
      "Epoch 93/100\n",
      "31/31 [==============================] - 1s 48ms/step - loss: 0.1019 - categorical_accuracy: 0.8048 - f1_with_tfa: 0.4397 - val_loss: 0.1082 - val_categorical_accuracy: 0.7818 - val_f1_with_tfa: 0.4658\n",
      "Epoch 94/100\n",
      "31/31 [==============================] - 1s 48ms/step - loss: 0.0992 - categorical_accuracy: 0.8085 - f1_with_tfa: 0.4472 - val_loss: 0.1068 - val_categorical_accuracy: 0.7824 - val_f1_with_tfa: 0.4751\n",
      "Epoch 95/100\n",
      "31/31 [==============================] - 2s 60ms/step - loss: 0.0985 - categorical_accuracy: 0.8133 - f1_with_tfa: 0.4430 - val_loss: 0.1091 - val_categorical_accuracy: 0.7760 - val_f1_with_tfa: 0.4765\n",
      "Epoch 96/100\n",
      "31/31 [==============================] - 2s 55ms/step - loss: 0.0976 - categorical_accuracy: 0.8179 - f1_with_tfa: 0.4475 - val_loss: 0.1057 - val_categorical_accuracy: 0.7908 - val_f1_with_tfa: 0.4865\n",
      "Epoch 97/100\n",
      "31/31 [==============================] - 2s 56ms/step - loss: 0.0961 - categorical_accuracy: 0.8185 - f1_with_tfa: 0.4464 - val_loss: 0.1051 - val_categorical_accuracy: 0.7894 - val_f1_with_tfa: 0.4816\n",
      "Epoch 98/100\n",
      "31/31 [==============================] - 2s 55ms/step - loss: 0.0963 - categorical_accuracy: 0.8189 - f1_with_tfa: 0.4521 - val_loss: 0.1054 - val_categorical_accuracy: 0.7909 - val_f1_with_tfa: 0.4800\n",
      "Epoch 99/100\n",
      "31/31 [==============================] - 2s 51ms/step - loss: 0.0957 - categorical_accuracy: 0.8204 - f1_with_tfa: 0.4587 - val_loss: 0.1062 - val_categorical_accuracy: 0.7781 - val_f1_with_tfa: 0.4623\n",
      "Epoch 100/100\n",
      "31/31 [==============================] - 1s 48ms/step - loss: 0.0975 - categorical_accuracy: 0.8145 - f1_with_tfa: 0.4485 - val_loss: 0.1064 - val_categorical_accuracy: 0.7905 - val_f1_with_tfa: 0.4764\n"
     ]
    }
   ],
   "source": [
    "# fourth model    \n",
    "layers_info_bilstm_two_dense = [\n",
    "    {\n",
    "        \"layer_name\": layers.Masking,\n",
    "        \"name\": \"padding_masking\",\n",
    "        \"mask_value\": 0.,\n",
    "        \"input_shape\": X_train.shape[1:]\n",
    "    },\n",
    "    {\n",
    "        'layer_name': layers.Bidirectional,\n",
    "        \"layer\": layers.LSTM(64, return_sequences=True, kernel_regularizer=keras.regularizers.l2(0.01)), # units = 64\n",
    "        \"name\": \"bilstm_1\",\n",
    "    },\n",
    "    {\n",
    "        \"layer_name\": layers.Dropout,\n",
    "        \"rate\": 0.1, # dropout = 0.1\n",
    "        \"name\": \"dropout_1\"\n",
    "    },\n",
    "    {\n",
    "        \"layer_name\": layers.Dense,\n",
    "        \"units\": 256,  # units = 256\n",
    "        \"activation\": \"relu\",\n",
    "        \"kernel_regularizer\": keras.regularizers.l2(0.01),\n",
    "        \"name\": \"dense_1\"\n",
    "    },\n",
    "    {\n",
    "        \"layer_name\": layers.Dropout,\n",
    "        \"rate\": 0.1,  # dropout = 0.1\n",
    "        \"name\": \"dropout_2\"\n",
    "    },\n",
    "    {\n",
    "        \"layer_name\": layers.Dense,\n",
    "        \"units\": n_classes,\n",
    "        \"activation\": \"softmax\",\n",
    "        \"name\": \"dense_2\"\n",
    "    }\n",
    "]\n",
    "\n",
    "compile_info_bilstm_two_dense = {\n",
    "    'optimizer': keras.optimizers.Adam(learning_rate=0.01),   # learning_rate = 0.01\n",
    "    'loss': 'categorical_crossentropy',\n",
    "    'metrics' : ['categorical_accuracy', f1_with_tfa]\n",
    "}\n",
    "\n",
    "model_bilstm_two_dense = create_model(layers_info_bilstm_two_dense, compile_info_bilstm_two_dense)\n",
    "model_bilstm_two_dense.summary()\n",
    "\n",
    "# start training\n",
    "history_bilstm_two_dense = model_bilstm_two_dense.fit(X_train, y_train, epochs=epochs_training, batch_size=batch_size_training, validation_data=(X_dev, y_dev), callbacks=callbacks_training)"
   ]
  },
  {
   "cell_type": "markdown",
   "metadata": {
    "id": "2NnTW1ct3ZUP"
   },
   "source": [
    "#### 2.3.1 Store all the trained models\n",
    "Store structure, weights and history of the models"
   ]
  },
  {
   "cell_type": "code",
   "execution_count": null,
   "metadata": {
    "id": "Rp38wlcW3ZUP"
   },
   "outputs": [],
   "source": [
    "# store models weights\n",
    "path_model_weights = os.path.join(os.getcwd(), 'models', 'weights')\n",
    "model_bilstm.save_weights(os.path.join(path_model_weights, 'weights_bilstm.h5'))\n",
    "model_bigru.save_weights(os.path.join(path_model_weights, 'weights_bigru.h5'))\n",
    "model_two_bilstm.save_weights(os.path.join(path_model_weights, 'weights_two_bilstm.h5'))\n",
    "model_bilstm_two_dense.save_weights(os.path.join(path_model_weights, 'weights_bilstm_two_dense.h5'))"
   ]
  },
  {
   "cell_type": "code",
   "execution_count": null,
   "metadata": {
    "id": "OSpyVgHIVS0Q"
   },
   "outputs": [],
   "source": [
    "# convert the history.history dict to a pandas DataFrame: \n",
    "path_model_weights = os.path.join(os.getcwd(), 'models', 'history')\n",
    "    \n",
    "df_history_bilstm = pd.DataFrame(history_bilstm.history) \n",
    "with open(os.path.join(path_model_weights, \"history_bilstm.csv\"), mode=\"w\") as file:\n",
    "    df_history_bilstm.to_csv(file)\n",
    "\n",
    "df_history_bigru = pd.DataFrame(history_bigru.history)\n",
    "with open(os.path.join(path_model_weights, \"history_bigru.csv\"), mode=\"w\") as file:\n",
    "    df_history_bigru.to_csv(file)\n",
    "\n",
    "df_history_two_bilstm = pd.DataFrame(history_two_bilstm.history)\n",
    "with open(os.path.join(path_model_weights, \"history_two_bilstm.csv\"), mode=\"w\") as file:\n",
    "    df_history_two_bilstm.to_csv(file)\n",
    "\n",
    "df_history_bilstm_two_dense = pd.DataFrame(history_bilstm_two_dense.history)\n",
    "with open(os.path.join(path_model_weights, \"history_bilstm_two_dense.csv\"), mode=\"w\") as file:\n",
    "    df_history_bilstm_two_dense.to_csv(file)"
   ]
  },
  {
   "cell_type": "code",
   "execution_count": null,
   "metadata": {
    "id": "Id-_Zvn7VS0Q"
   },
   "outputs": [],
   "source": [
    "path_model_structure = os.path.join(os.getcwd(), 'models', 'structure')\n",
    "with open(os.path.join(path_model_structure, \"model_bilstm.json\"), mode=\"w\") as file:\n",
    "    file.write(model_bilstm.to_json())\n",
    "\n",
    "with open(os.path.join(path_model_structure, \"model_bigru.json\"), mode=\"w\") as file:\n",
    "    file.write(model_bigru.to_json())\n",
    "\n",
    "with open(os.path.join(path_model_structure, \"model_two_bilstm.json\"), mode=\"w\") as file:\n",
    "    file.write(model_two_bilstm.to_json())\n",
    "\n",
    "with open(os.path.join(path_model_structure, \"model_bilstm_two_dense.json\"), mode=\"w\") as file:\n",
    "    file.write(model_bilstm_two_dense.to_json())"
   ]
  },
  {
   "cell_type": "markdown",
   "metadata": {
    "id": "qQy5JgGT3ZUQ"
   },
   "source": [
    "#### 2.3.2 Load all the pre-trained models"
   ]
  },
  {
   "cell_type": "code",
   "execution_count": 17,
   "metadata": {
    "id": "B6LQewzw-Ek1"
   },
   "outputs": [],
   "source": [
    "# load models structure\n",
    "path_model_structure = os.path.join(os.getcwd(), 'models', 'structure')\n",
    "with open(os.path.join(path_model_structure, 'model_bilstm.json'), 'r') as json_file:\n",
    "    model_bilstm_json = json_file.read()    \n",
    "    model_bilstm = model_from_json(model_bilstm_json)\n",
    "\n",
    "with open(os.path.join(path_model_structure, 'model_bigru.json'), 'r') as json_file:\n",
    "    model_bigru_json = json_file.read()    \n",
    "    model_bigru = model_from_json(model_bigru_json)\n",
    "\n",
    "with open(os.path.join(path_model_structure, 'model_two_bilstm.json'), 'r') as json_file:\n",
    "    model_two_bilstm_json = json_file.read()    \n",
    "    model_two_bilstm = model_from_json(model_two_bilstm_json)\n",
    "\n",
    "with open(os.path.join(path_model_structure, 'model_bilstm_two_dense.json'), 'r') as json_file:\n",
    "    model_bilstm_two_dense_json = json_file.read()    \n",
    "    model_bilstm_two_dense = model_from_json(model_bilstm_two_dense_json)"
   ]
  },
  {
   "cell_type": "code",
   "execution_count": 18,
   "metadata": {
    "id": "_puUbUNv3ZUQ"
   },
   "outputs": [],
   "source": [
    "# load the weights\n",
    "path_model_weights = os.path.join(os.getcwd(), 'models', 'weights')\n",
    "model_bilstm.load_weights(os.path.join(path_model_weights, 'weights_bilstm.h5'))\n",
    "model_bigru.load_weights(os.path.join(path_model_weights, 'weights_bigru.h5'))\n",
    "model_two_bilstm.load_weights(os.path.join(path_model_weights, 'weights_two_bilstm.h5'))\n",
    "model_bilstm_two_dense.load_weights(os.path.join(path_model_weights, 'weights_bilstm_two_dense.h5'))"
   ]
  },
  {
   "cell_type": "code",
   "execution_count": 19,
   "metadata": {
    "id": "AVIa_P03-Ek2"
   },
   "outputs": [],
   "source": [
    "# Restore history\n",
    "cols = ['loss','categorical_accuracy','f1_with_tfa','val_loss','val_categorical_accuracy','val_f1_with_tfa']\n",
    "path_model_history = os.path.join(os.getcwd(), 'models', 'history')\n",
    "history_bilstm = pd.read_csv(os.path.join(path_model_history, \"history_bilstm.csv\"), usecols=cols)\n",
    "history_bigru = pd.read_csv(os.path.join(path_model_history, \"history_bigru.csv\"), usecols=cols)\n",
    "history_two_bilstm = pd.read_csv(os.path.join(path_model_history, \"history_two_bilstm.csv\"), usecols=cols)\n",
    "history_bilstm_two_dense = pd.read_csv(os.path.join(path_model_history, \"history_bilstm_two_dense.csv\"), usecols=cols)"
   ]
  },
  {
   "cell_type": "markdown",
   "metadata": {
    "id": "ab9ETsbC2Q82"
   },
   "source": [
    "### 2.4 History of the training\n",
    "Plot metrics evolution for each epoch during the training"
   ]
  },
  {
   "cell_type": "code",
   "execution_count": 42,
   "metadata": {
    "id": "25YBLK3E2R6m"
   },
   "outputs": [],
   "source": [
    "def plot_history(models_history, keys, model_names=[], labels=(\"epochs\", \"metrics\"), y_scale=\"linear\", figsize=(10,5), cmap='rainbow'):\n",
    "    \"\"\"\n",
    "    Plot the history of the metrics in the history dictionary for each model.\n",
    "        :param models_history: array of dictionary of the metric history for each model\n",
    "        :param keys: list of keys of the metrics to plot\n",
    "        :param model_names: list of names of the models\n",
    "        :param labels: list of labels of the axes\n",
    "        :param figsize: size of the figure\n",
    "        :param cmap: color map used for the plot\n",
    "    \"\"\"\n",
    "\n",
    "    # maps each model to a distinct RGB color\n",
    "    cmap = plt.cm.get_cmap(cmap, len(models_history))\n",
    "\n",
    "    \n",
    "    fig = plt.figure(figsize=figsize)\n",
    "\n",
    "    # for each model trained\n",
    "    for i, history in enumerate(models_history):\n",
    "        # take all pairs of training and val metrics\n",
    "        for j in range(0, len(keys), 2):\n",
    "            metric, val_metric = keys[j], keys[j+1]\n",
    "            \n",
    "            plt.plot(history[metric], label=f\"{model_names[i]} {metric}\", linestyle=\"solid\", color=cmap(i))\n",
    "            plt.plot(history[val_metric],  label=f\"{model_names[i]} {val_metric}\", linestyle=\"--\",  color=cmap(i))\n",
    "        \n",
    "    plt.xlabel(labels[0])\n",
    "    plt.ylabel(labels[1])\n",
    "    plt.yscale(y_scale)\n",
    "\n",
    "    # Adding legend\n",
    "    plt.legend(\n",
    "          title =\"Legend\",\n",
    "          loc =\"best\",\n",
    "          bbox_to_anchor=(1.0,0.6))\n",
    "    plt.title(\"Training history\")\n",
    "    plt.grid(linestyle='--', linewidth=1)\n",
    "    plt.show()"
   ]
  },
  {
   "cell_type": "code",
   "execution_count": 43,
   "metadata": {
    "colab": {
     "base_uri": "https://localhost:8080/",
     "height": 899
    },
    "id": "Ca9TMoj42VgT",
    "outputId": "d47666bc-dae8-4eb5-caf6-09d98faa1074"
   },
   "outputs": [
    {
     "data": {
      "image/png": "[encoded data removed]",
      "text/plain": [
       "<Figure size 1080x504 with 1 Axes>"
      ]
     },
     "metadata": {
      "needs_background": "light"
     },
     "output_type": "display_data"
    },
    {
     "data": {
      "image/png": "[encoded data removed]",
      "text/plain": [
       "<Figure size 1080x504 with 1 Axes>"
      ]
     },
     "metadata": {
      "needs_background": "light"
     },
     "output_type": "display_data"
    }
   ],
   "source": [
    "models_history = [history_bilstm, history_bigru, history_two_bilstm, history_bilstm_two_dense]\n",
    "model_names = [\"BiLSTM\", \"BiGRU\", \"2 BiLSTM\", \"BiLSTM + 2 Dense\"]\n",
    "plot_history(models_history, keys=['loss', 'val_loss'], model_names=model_names, labels=(\"epochs\", \"loss\"), y_scale=\"log\", figsize=(15,7),  cmap='bwr')\n",
    "plot_history(models_history, keys=['categorical_accuracy', 'val_categorical_accuracy'], model_names=model_names, labels=(\"epochs\", \"accuracy\"), figsize=(15,7),  cmap='bwr')"
   ]
  },
  {
   "cell_type": "markdown",
   "metadata": {
    "id": "ZmIWLatvkqzt"
   },
   "source": [
    "## 3. Evaluation"
   ]
  },
  {
   "cell_type": "markdown",
   "metadata": {
    "id": "WvbuyGp7AhdN"
   },
   "source": [
    "The two best models according to validation set are **BiLSTM** and **BiGRU**. Therefore the test set will be used with both of them."
   ]
  },
  {
   "cell_type": "markdown",
   "metadata": {
    "id": "Q8P40fDtB5eU"
   },
   "source": [
    "The *classification report* is a summary of the metrics (precision, recall, f1_score) computed for each class and globally (micro, macro and weighted)"
   ]
  },
  {
   "cell_type": "code",
   "execution_count": 20,
   "metadata": {
    "id": "theVB92PXka6"
   },
   "outputs": [],
   "source": [
    "def get_flattened_comparison(model, X_test, y_test):\n",
    "\n",
    "    raw_y_pred = model.predict(X_test)\n",
    "\n",
    "    # converting indexes to labels\n",
    "    y_true_label = target_vectorizer.inverse_transform(y_test)\n",
    "    y_pred_label = target_vectorizer.inverse_transform_probabilities(raw_y_pred)\n",
    "\n",
    "    y_true_flat = []\n",
    "    y_pred_flat = []\n",
    "    for document_predicted, document_true in zip(y_pred_label, y_true_label):\n",
    "        for word_predicted, word_true in zip (document_predicted, document_true):\n",
    "            y_pred_flat.append(word_predicted)\n",
    "            y_true_flat.append(word_true)\n",
    "    return y_true_flat, y_pred_flat"
   ]
  },
  {
   "cell_type": "code",
   "execution_count": 21,
   "metadata": {
    "id": "8Keo7Bin_8-6",
    "pycharm": {
     "name": "#%%\n"
    }
   },
   "outputs": [],
   "source": [
    "def show_classification_report(model, X_test, y_test, sorted_by=None, ascending=True):\n",
    "  \"\"\"\n",
    "  Show classification report using only classes in names\n",
    "  \"\"\"\n",
    "  y_true, y_pred = get_flattened_comparison(model, X_test, y_test)\n",
    "  report =  classification_report(y_true, y_pred, output_dict=True, zero_division=0)\n",
    "  \n",
    "  # global performance\n",
    "  keys = ['weighted avg', 'accuracy', 'macro avg']\n",
    "  global_dict = {key: report[key] for key in keys}\n",
    "  for key in keys:\n",
    "    del report[key]\n",
    "\n",
    "  df = pd.DataFrame.from_dict(report).transpose().round(2)\n",
    "  if sorted_by:\n",
    "    df.sort_values(by=sorted_by, ascending=ascending, inplace=True)\n",
    "  print(df)\n",
    "\n",
    "  print(\"\\n\\n\")\n",
    "\n",
    "  df_glob = pd.DataFrame.from_dict(global_dict).transpose().round(2)\n",
    "  print(df_glob)"
   ]
  },
  {
   "cell_type": "markdown",
   "metadata": {
    "id": "C6eu5_AhChls"
   },
   "source": [
    "The *confusion matrix* can be very useful to understand main errors committed by the model"
   ]
  },
  {
   "cell_type": "code",
   "execution_count": 40,
   "metadata": {
    "id": "Q71LkwAPkqzt"
   },
   "outputs": [],
   "source": [
    "def evaluate_model(model, X_test, y_test, labels):\n",
    "    \"\"\"\n",
    "    given a trained model and a test set returns the f-score and the confusion matrix\n",
    "    taking into account only classes in labels\n",
    "    \"\"\"\n",
    "    # show confusion matrix\n",
    "    y_true_flat, y_pred_flat = get_flattened_comparison(model, X_test, y_test)\n",
    "    conf_matrix = confusion_matrix(y_true_flat, y_pred_flat, labels=labels)\n",
    "    disp = ConfusionMatrixDisplay(conf_matrix, display_labels=labels)\n",
    "    fig, ax = plt.subplots(figsize=(12,14))\n",
    "    disp.plot(ax=ax)\n",
    "    # f1 score\n",
    "    print(\"F1 score:\\n-------------------------------\")\n",
    "    print(sklearn.metrics.f1_score(y_true_flat, y_pred_flat, labels=labels, average='macro', zero_division=0))"
   ]
  },
  {
   "cell_type": "markdown",
   "metadata": {
    "id": "eKkXStMxCu88"
   },
   "source": [
    "It is not interesting evaluating *punctuation classes*, therefore they are not taken into account in the final evaluation"
   ]
  },
  {
   "cell_type": "code",
   "execution_count": 37,
   "metadata": {
    "id": "ua2c1KdCkqzt"
   },
   "outputs": [],
   "source": [
    "punctuation_indexes = [0, 1, 2, 3, 4, 5, 6, 7, 17, 44]\n",
    "classes = target_vectorizer.get_classes()\n",
    "valid_labels = list(set(range(len(classes))) - set(punctuation_indexes))\n",
    "meaningful_classes = classes[valid_labels]"
   ]
  },
  {
   "cell_type": "markdown",
   "metadata": {
    "id": "rZAdUCrBsj59"
   },
   "source": [
    "BiLSTM and BiGRU model have been created using the best hyperparameter found by the tuner"
   ]
  },
  {
   "cell_type": "markdown",
   "metadata": {
    "id": "RWfh0QL8DJH4"
   },
   "source": [
    "### BiLSTM Model"
   ]
  },
  {
   "cell_type": "code",
   "execution_count": 41,
   "metadata": {
    "colab": {
     "base_uri": "https://localhost:8080/",
     "height": 756
    },
    "id": "f5t_osxmBoxc",
    "outputId": "2fcf3cf4-450c-47fe-ff84-209175eddc0b"
   },
   "outputs": [
    {
     "name": "stdout",
     "output_type": "stream",
     "text": [
      "F1 score:\n",
      "-------------------------------\n",
      "0.6245671834024557\n"
     ]
    },
    {
     "data": {
      "image/png": "[encoded data removed]",
      "text/plain": [
       "<Figure size 864x1008 with 2 Axes>"
      ]
     },
     "metadata": {
      "needs_background": "light"
     },
     "output_type": "display_data"
    }
   ],
   "source": [
    "# confusion matrix and global f1 score\n",
    "evaluate_model(model_bilstm, X_test, y_test, meaningful_classes)"
   ]
  },
  {
   "cell_type": "code",
   "execution_count": 25,
   "metadata": {
    "colab": {
     "base_uri": "https://localhost:8080/"
    },
    "id": "qiLRnJ-3_8-9",
    "outputId": "1943cb29-03f1-435b-bbca-4f5c870911d0",
    "pycharm": {
     "name": "#%%\n"
    }
   },
   "outputs": [
    {
     "name": "stdout",
     "output_type": "stream",
     "text": [
      "       precision  recall  f1-score  support\n",
      "``          0.99    0.99      0.99     98.0\n",
      ",           0.98    0.98      0.98   1171.0\n",
      "''          0.96    0.99      0.97     95.0\n",
      "PRP$        0.95    0.99      0.97    148.0\n",
      "TO          0.97    0.97      0.97    560.0\n",
      ".           0.94    0.99      0.97    907.0\n",
      "$           0.95    0.97      0.96    270.0\n",
      "POS         0.96    0.96      0.96    244.0\n",
      "DT          0.94    0.94      0.94   1988.0\n",
      "MD          0.91    0.96      0.93    245.0\n",
      ":           0.96    0.86      0.91     84.0\n",
      "CC          0.94    0.87      0.90    541.0\n",
      "IN          0.87    0.92      0.90   2460.0\n",
      "PRP         0.95    0.85      0.90    265.0\n",
      "VB          0.86    0.90      0.88    602.0\n",
      "VBD         0.83    0.88      0.86    964.0\n",
      "CD          0.86    0.85      0.86   1271.0\n",
      "WDT         0.76    0.93      0.84    124.0\n",
      "VBZ         0.75    0.89      0.81    390.0\n",
      "NNS         0.75    0.79      0.77   1452.0\n",
      "NNP         0.78    0.76      0.77   2225.0\n",
      "NN          0.74    0.79      0.77   3563.0\n",
      "WP          0.87    0.67      0.75     30.0\n",
      "VBP         0.74    0.77      0.75    196.0\n",
      "EX          0.69    0.64      0.67     14.0\n",
      "VBN         0.70    0.63      0.66    548.0\n",
      "JJ          0.68    0.59      0.63   1405.0\n",
      "RB          0.66    0.54      0.60    599.0\n",
      "RBS         0.75    0.50      0.60      6.0\n",
      "VBG         0.59    0.61      0.60    321.0\n",
      "JJR         0.59    0.51      0.55    108.0\n",
      "RP          0.44    0.51      0.48     37.0\n",
      "RBR         0.40    0.42      0.41     19.0\n",
      "JJS         0.85    0.25      0.39     44.0\n",
      "WRB         0.75    0.18      0.29     34.0\n",
      "WP$         0.00    0.00      0.00      5.0\n",
      "NNPS        0.00    0.00      0.00     83.0\n",
      "-LRB-       0.00    0.00      0.00     34.0\n",
      "-RRB-       0.00    0.00      0.00     34.0\n",
      "PDT         0.00    0.00      0.00      9.0\n",
      "#           0.00    0.00      0.00      3.0\n",
      "\n",
      "\n",
      "\n",
      "              precision  recall  f1-score   support\n",
      "weighted avg       0.82    0.83      0.82  23196.00\n",
      "accuracy           0.83    0.83      0.83      0.83\n",
      "macro avg          0.69    0.65      0.66  23196.00\n"
     ]
    }
   ],
   "source": [
    "# classification report using only meaningful classes\n",
    "show_classification_report(model_bilstm, X_test, y_test, sorted_by=['f1-score'], ascending=False)"
   ]
  },
  {
   "cell_type": "markdown",
   "metadata": {},
   "source": [
    "#### Result examples of BiLSTM model"
   ]
  },
  {
   "cell_type": "code",
   "execution_count": 32,
   "metadata": {},
   "outputs": [
    {
     "name": "stdout",
     "output_type": "stream",
     "text": [
      "Original sentence:  ['but' 'courts' 'quickly' 'tumbled' 'down' 'a' 'slippery' 'slope' '.']\n",
      "Original POS tagging:  ['CC' 'NNS' 'RB' 'VBD' 'IN' 'DT' 'JJ' 'NN' '.']\n",
      "Predicted POS tagging:  ['IN' 'NNS' 'RB' 'VBD' 'RP' 'DT' 'JJ' 'NN' '.']\n"
     ]
    }
   ],
   "source": [
    "i_test = 10  # change this to see the prediction for a different sentence\n",
    "print(\"Original sentence: \", X_test_sentences[i_test])\n",
    "print(\"Original POS tagging: \",target_vectorizer.inverse_transform([y_test[i_test]])[0])\n",
    "\n",
    "raw_y_pred = model_bilstm.predict(np.array([X_test[i_test]]))\n",
    "\n",
    "print(\"Predicted POS tagging: \",target_vectorizer.inverse_transform_probabilities(raw_y_pred)[0])"
   ]
  },
  {
   "cell_type": "markdown",
   "metadata": {
    "id": "sx-hTiJODO27"
   },
   "source": [
    "### BiGRU Model"
   ]
  },
  {
   "cell_type": "code",
   "execution_count": 27,
   "metadata": {
    "id": "akvx1C1aD2_8",
    "outputId": "dfc265ab-ce76-4476-dea0-eb7bd7d19bb7"
   },
   "outputs": [
    {
     "name": "stdout",
     "output_type": "stream",
     "text": [
      "F1 score:\n",
      "-------------------------------\n",
      "0.6062472113054655\n"
     ]
    },
    {
     "data": {
      "image/png": "[encoded data removed]",
      "text/plain": [
       "<Figure size 720x720 with 2 Axes>"
      ]
     },
     "metadata": {
      "needs_background": "light"
     },
     "output_type": "display_data"
    }
   ],
   "source": [
    "# confusion matrix and global f1 score\n",
    "evaluate_model(model_bigru, X_test, y_test, meaningful_classes)"
   ]
  },
  {
   "cell_type": "code",
   "execution_count": 28,
   "metadata": {
    "id": "0hf5iZbkD3kL",
    "outputId": "8ddf4817-0258-4273-a9a4-1f6355f0e841"
   },
   "outputs": [
    {
     "name": "stdout",
     "output_type": "stream",
     "text": [
      "       precision  recall  f1-score  support\n",
      "``          1.00    1.00      1.00     98.0\n",
      "''          1.00    0.98      0.99     95.0\n",
      "PRP$        0.98    0.98      0.98    148.0\n",
      ",           0.97    0.97      0.97   1171.0\n",
      ".           0.92    1.00      0.96    889.0\n",
      "POS         0.96    0.96      0.96    244.0\n",
      "$           0.94    0.94      0.94    270.0\n",
      "TO          0.94    0.94      0.94    560.0\n",
      "DT          0.93    0.94      0.93   1988.0\n",
      ":           0.92    0.92      0.92     84.0\n",
      "CC          0.90    0.95      0.92    541.0\n",
      "MD          0.91    0.92      0.92    245.0\n",
      "IN          0.92    0.87      0.90   2460.0\n",
      "WP          0.96    0.80      0.87     30.0\n",
      "PRP         0.81    0.92      0.86    265.0\n",
      "CD          0.90    0.80      0.85   1270.0\n",
      "VB          0.83    0.87      0.85    602.0\n",
      "WDT         0.87    0.81      0.84    124.0\n",
      "VBZ         0.83    0.85      0.84    390.0\n",
      "VBD         0.86    0.82      0.84    964.0\n",
      "NNP         0.70    0.82      0.76   2225.0\n",
      "NNS         0.67    0.82      0.74   1451.0\n",
      "NN          0.74    0.73      0.73   3562.0\n",
      "VBP         0.58    0.80      0.67    196.0\n",
      "VBN         0.65    0.68      0.66    548.0\n",
      "VBG         0.67    0.56      0.61    321.0\n",
      "JJ          0.62    0.57      0.59   1404.0\n",
      "RB          0.66    0.52      0.59    599.0\n",
      "EX          0.62    0.57      0.59     14.0\n",
      "WRB         0.78    0.41      0.54     34.0\n",
      "JJR         0.71    0.37      0.48    109.0\n",
      "RP          0.37    0.54      0.44     37.0\n",
      "RBR         0.42    0.42      0.42     19.0\n",
      "PDT         1.00    0.11      0.20      9.0\n",
      "JJS         1.00    0.05      0.09     44.0\n",
      "NNPS        0.33    0.04      0.07     83.0\n",
      "RBS         0.00    0.00      0.00      6.0\n",
      "-RRB-       0.00    0.00      0.00     34.0\n",
      "-LRB-       0.00    0.00      0.00     34.0\n",
      "WP$         0.00    0.00      0.00      5.0\n",
      "LS          0.00    0.00      0.00      0.0\n",
      "#           0.00    0.00      0.00      3.0\n",
      "\n",
      "\n",
      "\n",
      "              precision  recall  f1-score   support\n",
      "weighted avg       0.81    0.81      0.80  23175.00\n",
      "accuracy           0.81    0.81      0.81      0.81\n",
      "macro avg          0.69    0.62      0.63  23175.00\n"
     ]
    }
   ],
   "source": [
    "# classification report using only meaningful classes\n",
    "show_classification_report(model_bigru, X_test, y_test, sorted_by=['f1-score'], ascending=False)"
   ]
  },
  {
   "cell_type": "markdown",
   "metadata": {
    "id": "Tb4izTq5DVab"
   },
   "source": [
    "#### Result examples of BiGRU model"
   ]
  },
  {
   "cell_type": "code",
   "execution_count": 30,
   "metadata": {
    "id": "sFaG0yb4kqzu",
    "outputId": "157b8786-fce4-4166-9766-a4aa064595fb"
   },
   "outputs": [
    {
     "name": "stdout",
     "output_type": "stream",
     "text": [
      "Original sentence:  ['but' 'courts' 'quickly' 'tumbled' 'down' 'a' 'slippery' 'slope' '.']\n",
      "Original POS tagging:  ['CC' 'NNS' 'RB' 'VBD' 'IN' 'DT' 'JJ' 'NN' '.']\n",
      "Predicted POS tagging:  ['CC' 'NNS' 'RB' 'VBD' 'RP' 'DT' 'JJ' 'NN' '.']\n"
     ]
    }
   ],
   "source": [
    "i_test = 10  # change this to see the prediction for a different sentence\n",
    "print(\"Original sentence: \", X_test_sentences[i_test])\n",
    "print(\"Original POS tagging: \",target_vectorizer.inverse_transform([y_test[i_test]])[0])\n",
    "\n",
    "raw_y_pred = model_bigru.predict(np.array([X_test[i_test]]))\n",
    "\n",
    "print(\"Predicted POS tagging: \",target_vectorizer.inverse_transform_probabilities(raw_y_pred)[0])"
   ]
  }
 ],
 "metadata": {
  "accelerator": "GPU",
  "colab": {
   "collapsed_sections": [],
   "include_colab_link": true,
   "name": "POS_with_workingF1.ipynb",
   "provenance": [],
   "toc_visible": true
  },
  "interpreter": {
   "hash": "63e28586807c6502c782d898cf9a0cc5787bb3d77952b17b51ec8bdcd4044a3d"
  },
  "kernelspec": {
   "display_name": "Python 3",
   "language": "python",
   "name": "python3"
  },
  "language_info": {
   "codemirror_mode": {
    "name": "ipython",
    "version": 3
   },
   "file_extension": ".py",
   "mimetype": "text/x-python",
   "name": "python",
   "nbconvert_exporter": "python",
   "pygments_lexer": "ipython3",
   "version": "3.9.7"
  }
 },
 "nbformat": 4,
 "nbformat_minor": 0
}

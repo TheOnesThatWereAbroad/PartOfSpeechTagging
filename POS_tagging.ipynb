{
  "cells": [
    {
      "cell_type": "markdown",
      "metadata": {
        "colab_type": "text",
        "id": "view-in-github"
      },
      "source": [
        "<a href=\"https://colab.research.google.com/github/TheOnesThatWereAbroad/Assignment1/blob/main/POS_tagging.ipynb\" target=\"_parent\"><img src=\"https://colab.research.google.com/assets/colab-badge.svg\" alt=\"Open In Colab\"/></a>"
      ]
    },
    {
      "cell_type": "markdown",
      "metadata": {
        "id": "tc8x9pA00Sfd"
      },
      "source": [
        "# Assignment 1 - POS tagging"
      ]
    },
    {
      "cell_type": "code",
      "execution_count": 31,
      "metadata": {
        "id": "jHhrkDf2kqzg"
      },
      "outputs": [],
      "source": [
        "import os\n",
        "import numpy as np\n",
        "import matplotlib.pyplot as plt\n",
        "\n",
        "import tensorflow as tf\n",
        "from tensorflow import keras\n",
        "from tensorflow.keras import layers\n",
        "import tensorflow.keras.backend as K\n",
        "import keras_tuner as kt\n",
        "from sklearn.metrics import confusion_matrix, ConfusionMatrixDisplay, f1_score\n",
        "\n",
        "from data_input import DataInput\n",
        "from text_vectorizer import TextVectorizer, TargetVectorizer"
      ]
    },
    {
      "cell_type": "markdown",
      "metadata": {
        "id": "jx2qo48Ikqzi"
      },
      "source": [
        "## 1. Build a dataset"
      ]
    },
    {
      "cell_type": "markdown",
      "metadata": {
        "id": "IN34sX55kqzi"
      },
      "source": [
        "### 1.1 Dataset preparation\n",
        "For this experiment, the [Dependency Parsed Treebank](https://www.nltk.org/nltk_data/) dataset is used."
      ]
    },
    {
      "cell_type": "code",
      "execution_count": 2,
      "metadata": {
        "colab": {
          "base_uri": "https://localhost:8080/"
        },
        "id": "eRQ_hwv9mHtK",
        "outputId": "0febf6c3-6ff8-43fd-d96d-79b88bee09b4"
      },
      "outputs": [
        {
          "name": "stdout",
          "output_type": "stream",
          "text": [
            "Downloading the dataset...\n",
            "Successful download!\n",
            "Extracting the dataset...\n",
            "Successfully extracted the dataset!\n",
            "Train set size: 1957\n",
            "Dev set size: 979\n",
            "Test set size: 978\n"
          ]
        }
      ],
      "source": [
        "# download the dataset and split it into train, dev and test sets\n",
        "dataset = DataInput(\n",
        "        data_url=\"https://raw.githubusercontent.com/nltk/nltk_data/gh-pages/packages/corpora/dependency_treebank.zip\",\n",
        "        train_size=0.50,\n",
        "        dev_size=0.25,\n",
        "        dataset_folder=os.path.join(os.getcwd(), \"dataset\"),\n",
        "        split_into_sentences=True,\n",
        "        shuffle=False\n",
        "    )"
      ]
    },
    {
      "cell_type": "markdown",
      "metadata": {
        "id": "SGQatFzWkqzk"
      },
      "source": [
        "Pre-processing is always an important step with which start. There are a lot of pre-processing steps that we can consider, but for this experiment the only pre-processing operation performed is:\n",
        "- **to lower**, in part-of-speech tagging scenario casing of the input tokens is crucial to find the correspondent token in the embedding vocabulary"
      ]
    },
    {
      "cell_type": "code",
      "execution_count": 3,
      "metadata": {
        "id": "YbVR94oskqzk"
      },
      "outputs": [],
      "source": [
        "# do preprocessing for train, validation and test sets\n",
        "dataset.preprocessing(\"train\", to_lower=True)\n",
        "dataset.preprocessing(\"dev\", to_lower=True)\n",
        "dataset.preprocessing(\"test\", to_lower=True)\n",
        "\n",
        "# separate inputs and targets\n",
        "X_train, y_train = dataset.train\n",
        "X_dev, y_dev = dataset.dev\n",
        "X_test, y_test = dataset.test"
      ]
    },
    {
      "cell_type": "code",
      "execution_count": 4,
      "metadata": {
        "colab": {
          "base_uri": "https://localhost:8080/"
        },
        "id": "lxfgDx0jrnqV",
        "outputId": "21f2b3a5-7ac1-4f6d-d6d2-39a681a5d0b7"
      },
      "outputs": [
        {
          "data": {
            "text/plain": [
              "(1957,)"
            ]
          },
          "execution_count": 4,
          "metadata": {},
          "output_type": "execute_result"
        }
      ],
      "source": [
        "dataset.train[0].shape"
      ]
    },
    {
      "cell_type": "markdown",
      "metadata": {
        "id": "IPv-M1xEmHtM"
      },
      "source": [
        "### 1.2 Dataset analysis\n",
        "Let's take a look at the dataset, to inspect the distribution of the POS tags"
      ]
    },
    {
      "cell_type": "code",
      "execution_count": 5,
      "metadata": {
        "id": "Oh9Jg3ePkqzm"
      },
      "outputs": [],
      "source": [
        "def get_occurences(data, ordered=False, exclude=[]):\n",
        "    \"\"\"\n",
        "    Get the occurences of each token in the data.\n",
        "\n",
        "    Parameters\n",
        "    ----------\n",
        "    data : list of np arrays, representing the data to get the occurences from\n",
        "    ordered : bool, if True, the occurences will be returned in descending order\n",
        "    exclude : list of strings, tokens that should not be included in the occurences\n",
        "\n",
        "    Returns\n",
        "    -------\n",
        "    occurences : dict, mapping each token to the number of occurences\n",
        "    \"\"\"\n",
        "    tokens, counts = np.unique(np.concatenate(data), return_counts=True)\n",
        "    occurences = dict(zip(tokens, counts))\n",
        "\n",
        "    if len(exclude) > 0:\n",
        "        for token in exclude:\n",
        "            if token in occurences:\n",
        "                del occurences[token]\n",
        "\n",
        "    if ordered:\n",
        "        occurences = dict(sorted(occurences.items(), key=lambda x: x[1], reverse=True))\n",
        "    return occurences\n",
        "\n",
        "# get the occurences of each POS tag in the three sets \n",
        "train_tags_occ = get_occurences(y_train, ordered=True, exclude=[])\n",
        "dev_tags_occ = get_occurences(y_dev, exclude=[])\n",
        "test_tags_occ = get_occurences(y_test, exclude=[])\n",
        "\n",
        "# build a matrix of the occurences of size (n_tags, 3)\n",
        "tags_occ = np.array([[v, dev_tags_occ[k], test_tags_occ[k]] if k in dev_tags_occ and k in test_tags_occ else [v, dev_tags_occ[k], 0] if k in dev_tags_occ else [v, 0, test_tags_occ[k]] if k in test_tags_occ else [v, 0, 0] for k, v in train_tags_occ.items()])"
      ]
    },
    {
      "cell_type": "code",
      "execution_count": 6,
      "metadata": {
        "colab": {
          "base_uri": "https://localhost:8080/",
          "height": 339
        },
        "id": "aZh5QAJIkqzn",
        "outputId": "ace7cf2d-8066-446f-9bcf-e1c5e7dd5b94"
      },
      "outputs": [
        {
          "data": {
            "text/plain": [
              "[]"
            ]
          },
          "execution_count": 6,
          "metadata": {},
          "output_type": "execute_result"
        },
        {
          "data": {
            "image/png": "[encoded data removed]",
            "text/plain": [
              "<Figure size 1656x576 with 1 Axes>"
            ]
          },
          "metadata": {
            "needs_background": "light"
          },
          "output_type": "display_data"
        }
      ],
      "source": [
        "# plot bar chart of the occurences of each POS tag\n",
        "fig, ax = plt.subplots(1, 1, figsize=(23, 8))\n",
        "tags = list(train_tags_occ.keys())\n",
        "ax.bar(tags, tags_occ[:, 1], width=0.3, align='edge', label='dev')\n",
        "ax.bar(tags, tags_occ[:, 2], width=-0.6, align='edge', label='test')\n",
        "ax.bar(tags, tags_occ[:, 0], width=-0.3, align='edge', label='train')\n",
        "ax.set_xticks(tags)\n",
        "ax.set_xlabel('Tags')\n",
        "ax.set_ylabel('Occurences')\n",
        "ax.set_title(\"Occurences of POS tags\")\n",
        "ax.legend()\n",
        "plt.plot()"
      ]
    },
    {
      "cell_type": "code",
      "execution_count": 7,
      "metadata": {
        "colab": {
          "base_uri": "https://localhost:8080/"
        },
        "id": "QYCqD_Zpkqzo",
        "outputId": "96986378-9d75-4f9e-b123-4205d37f49ed"
      },
      "outputs": [
        {
          "name": "stdout",
          "output_type": "stream",
          "text": [
            "The following tags (from the train set) are not in the dev set: {'SYM'}\n",
            "The following tags (from the train set) are not in the test set: {'LS', 'FW', 'SYM', 'UH'}\n"
          ]
        }
      ],
      "source": [
        "# analyze the difference between the presence of the POS tags in the train, dev and test sets\n",
        "train_tags_not_dev = set(train_tags_occ.keys()) - set(dev_tags_occ.keys())\n",
        "train_tags_not_test = set(train_tags_occ.keys()) - set(test_tags_occ.keys())\n",
        "dev_tags_not_train = set(dev_tags_occ.keys()) - set(train_tags_occ.keys())\n",
        "test_tags_not_train = set(test_tags_occ.keys()) - set(train_tags_occ.keys())\n",
        "\n",
        "if(len(train_tags_not_dev) > 0):\n",
        "    print(\"The following tags (from the train set) are not in the dev set:\", train_tags_not_dev)\n",
        "if(len(train_tags_not_test) > 0):\n",
        "    print(\"The following tags (from the train set) are not in the test set:\", train_tags_not_test)\n",
        "if(len(dev_tags_not_train) > 0):\n",
        "    print(\"The following tags (from the dev set) are not in the train set:\", dev_tags_not_train)\n",
        "if(len(test_tags_not_train) > 0):\n",
        "    print(\"The following tags (from the test set) are not in the train set:\", test_tags_not_train)"
      ]
    },
    {
      "cell_type": "markdown",
      "metadata": {
        "id": "mkIYSNxukqzo"
      },
      "source": [
        "### 1.3 GloVe embeddings vectorization\n",
        "The next step consists in downloading a pre-trained embedding model, namely GloVe. It is a techniques that tries to encoded global semantic properties based on the co-occurrence matrix.\n",
        "Three different dimensional space versions are available: 50, 100, 200.\n",
        "\n",
        "From the choosen embedding, a starting vocabulary is built.\n",
        "Then this vocabulary is enriched with the embeddings computed for the OOV words."
      ]
    },
    {
      "cell_type": "code",
      "execution_count": 8,
      "metadata": {
        "colab": {
          "base_uri": "https://localhost:8080/"
        },
        "id": "MxU2LR1Bkqzp",
        "outputId": "bd61af6e-d75a-4ba9-8313-5f50379df756"
      },
      "outputs": [
        {
          "name": "stdout",
          "output_type": "stream",
          "text": [
            "Downloading the GloVe embeddings...\n",
            "Successful download!\n",
            "Extracting the embeddings...\n",
            "Successfully extracted the embeddings!\n",
            "Parsing the training set...\n",
            "Generated embeddings for 358 OOV words.\n",
            "\n",
            "Parsing the validation set...\n",
            "Generated embeddings for 131 OOV words.\n",
            "\n",
            "Parsing the test set...\n",
            "Generated embeddings for 187 OOV words.\n"
          ]
        }
      ],
      "source": [
        "# initialize the vectorizer for the input tokens to convert them to embedding vectors\n",
        "# and build the vocabulary V1 from the glove embeddings\n",
        "text_vectorizer = TextVectorizer(\n",
        "    glove_url=\"http://nlp.stanford.edu/data/glove.6B.zip\",\n",
        "    max_tokens=20000,\n",
        "    embedding_dim=50,\n",
        "    embedding_folder=os.path.join(os.getcwd(), \"glove\"),\n",
        "    max_size=dataset.max_size\n",
        ")\n",
        "\n",
        "# compute embeddings for terms (OOV1) in the training set that are out of vocabulary V1 and add them: V2=V1+OOV1\n",
        "print(\"Parsing the training set...\")\n",
        "text_vectorizer.adapt(X_train)\n",
        "# use the vocabulary V2 to convert the training set inputs into embedding vectors\n",
        "X_train = text_vectorizer.transform(X_train)\n",
        "\n",
        "# compute embeddings for terms (OOV2) in the validation set that are out of vocabulary V2 and add them: V3=V2+OOV2\n",
        "print(\"\\nParsing the validation set...\")\n",
        "text_vectorizer.adapt(X_dev)\n",
        "# use the vocabulary V3 to convert the validation set inputs into embedding vectors\n",
        "X_dev = text_vectorizer.transform(X_dev)\n",
        "\n",
        "# compute embeddings for terms (OOV3) in the test set that are out of vocabulary V3 and add them: V4=V3+OOV3\n",
        "print(\"\\nParsing the test set...\")\n",
        "text_vectorizer.adapt(X_test)\n",
        "# use the vocabulary V4 to convert the test set inputs into embedding vectors\n",
        "X_test = text_vectorizer.transform(X_test)"
      ]
    },
    {
      "cell_type": "code",
      "execution_count": 9,
      "metadata": {
        "colab": {
          "base_uri": "https://localhost:8080/"
        },
        "id": "NwDnKWdckqzp",
        "outputId": "4f51b770-b9de-4600-fde1-527aa77aea8f"
      },
      "outputs": [
        {
          "name": "stdout",
          "output_type": "stream",
          "text": [
            "Input shape: (1957, 249, 50)\n"
          ]
        }
      ],
      "source": [
        "print(f\"Input shape: {X_train.shape}\")"
      ]
    },
    {
      "cell_type": "markdown",
      "metadata": {
        "id": "tiDdPTFrkqzp"
      },
      "source": [
        "### 1.4 One-hot encoding of the targets\n",
        "Each POS tag in each set is converted using the one-hot representation"
      ]
    },
    {
      "cell_type": "code",
      "execution_count": 11,
      "metadata": {
        "id": "C37qdVk7kqzq"
      },
      "outputs": [],
      "source": [
        "# initialize the vectorizer for the target tags to convert them into one-hot representation\n",
        "target_vectorizer = TargetVectorizer(max_size=dataset.max_size)\n",
        "\n",
        "# adapt the target vectorizer with only the training set: we do not consider possible targets that are not seen in training set but they are in the dev/test set\n",
        "target_vectorizer.adapt(y_train)  \n",
        "\n",
        "# convert the targets into one-hot representation for each splitting set\n",
        "y_train = target_vectorizer.transform(y_train)\n",
        "y_dev = target_vectorizer.transform(y_dev)\n",
        "y_test = target_vectorizer.transform(y_test)\n",
        "\n",
        "n_classes = y_train[0].shape[1]"
      ]
    },
    {
      "cell_type": "code",
      "execution_count": 12,
      "metadata": {
        "colab": {
          "base_uri": "https://localhost:8080/"
        },
        "id": "qnH7e4okkqzq",
        "outputId": "1f50c335-5ef6-47d6-cbd5-de1efa446156"
      },
      "outputs": [
        {
          "name": "stdout",
          "output_type": "stream",
          "text": [
            "Target shape: (1957, 249, 45)\n",
            "Number of classes for one-hot encoded targets: 45\n"
          ]
        }
      ],
      "source": [
        "print(f\"Target shape: {y_train.shape}\")\n",
        "print(f\"Number of classes for one-hot encoded targets: {n_classes}\")"
      ]
    },
    {
      "cell_type": "markdown",
      "metadata": {
        "id": "khILeN7fkqzq"
      },
      "source": [
        "## 2. Training"
      ]
    },
    {
      "cell_type": "markdown",
      "metadata": {
        "id": "GZfQ0dECkqzr"
      },
      "source": [
        "### 2.1 Models definition\n",
        "We are now ready to define our neural network architectures! \n",
        "Four variants will be evaluated:\n",
        "- Bidirectional LSMT + Dense layer\n",
        "- Bidirectional GRU + Dense layer\n",
        "- Two Bidirectional LSMT + Dense layer\n",
        "- Bidirectional LSMT + Two Dense layer"
      ]
    },
    {
      "cell_type": "code",
      "execution_count": 73,
      "metadata": {},
      "outputs": [],
      "source": [
        "def f1_score(y_true, y_pred):\n",
        "    \"\"\"\n",
        "    Compute the F1 score\n",
        "    \"\"\"\n",
        "    true_positives = K.sum(K.round(K.clip(y_true * y_pred, 0, 1)))\n",
        "    possible_positives = K.sum(K.round(K.clip(y_true, 0, 1)))\n",
        "    predicted_positives = K.sum(K.round(K.clip(y_pred, 0, 1)))\n",
        "    precision = true_positives / (predicted_positives + K.epsilon())\n",
        "    recall = true_positives / (possible_positives + K.epsilon())\n",
        "    f1_val = 2*(precision*recall)/(precision+recall+K.epsilon())\n",
        "    return f1_val\n",
        "\n",
        "def build_bilstm_model(hp):\n",
        "    \"\"\"\n",
        "    Build th Bidirectional LSMT + Dense layer model\n",
        "    \"\"\"\n",
        "    model = keras.Sequential()\n",
        "    model.add(layers.Masking(name='padding_masking', mask_value=0., input_shape=X_train.shape[1:]))\n",
        "    model.add(layers.Bidirectional(layers.LSTM(hp.Choice('units', [64, 128, 256]), return_sequences=True), name=\"bilstm_1\"))\n",
        "    model.add(layers.Dense(n_classes, activation=\"softmax\", name=\"dense_1\"))\n",
        "    model.compile(loss=\"categorical_crossentropy\", \n",
        "                  optimizer=keras.optimizers.Adam(hp.Choice('learning_rate', values=[1e-2, 1e-3, 1e-4])),\n",
        "                  metrics=[f1_score])\n",
        "    return model\n",
        "\n",
        "def build_bigru_model(hp):\n",
        "    \"\"\"\n",
        "    Build th Bidirectional GRU + Dense layer model\n",
        "    \"\"\"\n",
        "    model = keras.Sequential()\n",
        "    model.add(layers.Masking(name='padding_masking', mask_value=0., input_shape=X_train.shape[1:]))\n",
        "    model.add(layers.Bidirectional(layers.GRU(hp.Choice('units', [64, 128, 256]), return_sequences=True), name=\"gru_1\"))\n",
        "    model.add(layers.Dense(n_classes, activation=\"softmax\", name=\"dense_1\"))\n",
        "    model.compile(loss=\"categorical_crossentropy\", \n",
        "                  optimizer=keras.optimizers.Adam(hp.Choice('learning_rate', values=[1e-2, 1e-3, 1e-4])),\n",
        "                  metrics=[f1_score])\n",
        "    return model\n",
        "\n",
        "def build_two_bilstm_model(hp):\n",
        "    \"\"\"\n",
        "    Build the Two Bidirectional LSTM + Dense layer model\n",
        "    \"\"\"\n",
        "    model = keras.Sequential()\n",
        "    model.add(layers.Masking(name='padding_masking', mask_value=0., input_shape=X_train.shape[1:]))\n",
        "    model.add(layers.Bidirectional(layers.LSTM(hp.Choice('units1', [64, 128, 256]), return_sequences=True), name=\"bilstm_1\"))\n",
        "    model.add(layers.Bidirectional(layers.LSTM(hp.Choice('units2', [64, 128, 256]), return_sequences=True), name=\"bilstm_2\"))\n",
        "    model.add(layers.Dense(n_classes, activation=\"softmax\", name=\"dense_1\"))\n",
        "    model.compile(loss=\"categorical_crossentropy\", \n",
        "                  optimizer=keras.optimizers.Adam(hp.Choice('learning_rate', values=[1e-2, 1e-3, 1e-4])),\n",
        "                  metrics=[f1_score])\n",
        "    return model\n",
        "\n",
        "def build_bilstm_two_dense_model(hp):\n",
        "    model = keras.Sequential()\n",
        "    model.add(layers.Masking(name='padding_masking', mask_value=0., input_shape=X_train.shape[1:]))\n",
        "    model.add(layers.Bidirectional(layers.LSTM(hp.Choice('units1', [64, 128, 256]), return_sequences=True), name=\"bilstm_1\"))\n",
        "    model.add(layers.Dense(hp.Choice('units2', [64, 128, 256]), activation=\"relu\", name=\"dense_1\"))\n",
        "    model.add(layers.Dense(n_classes, activation=\"softmax\", name=\"dense_2\"))\n",
        "    model.compile(loss=\"categorical_crossentropy\", \n",
        "                  optimizer=keras.optimizers.Adam(hp.Choice('learning_rate', values=[1e-2, 1e-3, 1e-4])),\n",
        "                  metrics=[f1_score])\n",
        "    return model"
      ]
    },
    {
      "cell_type": "markdown",
      "metadata": {},
      "source": [
        "### 2.2 Hyperparameter tuning\n",
        "Let's do a tuning of the hyperparameters for each variant of the architecture"
      ]
    },
    {
      "cell_type": "code",
      "execution_count": 77,
      "metadata": {},
      "outputs": [],
      "source": [
        "epochs = 30\n",
        "batch_size = 16"
      ]
    },
    {
      "cell_type": "markdown",
      "metadata": {},
      "source": [
        "Bidirectional LSMT + Dense layer variant tuning\n"
      ]
    },
    {
      "cell_type": "code",
      "execution_count": 70,
      "metadata": {},
      "outputs": [
        {
          "name": "stdout",
          "output_type": "stream",
          "text": [
            "INFO:tensorflow:Reloading Oracle from existing project tuner\\bilstm_tuner\\oracle.json\n",
            "INFO:tensorflow:Reloading Tuner from tuner\\bilstm_tuner\\tuner0.json\n",
            "INFO:tensorflow:Oracle triggered exit\n",
            "The hyperparameter search is complete. The optimal number of units in the LSTM layer is 128 and the optimal learning rate for the optimizer is 0.0001.\n"
          ]
        }
      ],
      "source": [
        "# tune the hyperparameters of the first model\n",
        "bilstm_tuner = kt.Hyperband(build_bilstm_model,\n",
        "                     objective=kt.Objective(\"val_f1_score\", direction=\"max\"),\n",
        "                     max_epochs=epochs,\n",
        "                     #overwrite=True,\n",
        "                     directory=\"tuner\",\n",
        "                     project_name=\"bilstm_tuner\")\n",
        "bilstm_tuner.search(X_train, y_train, epochs=epochs, batch_size=batch_size, validation_data=(X_dev, y_dev))\n",
        "bilstm_best_hps = bilstm_tuner.get_best_hyperparameters()[0]\n",
        "\n",
        "print(f\"The hyperparameter search is complete. \" \n",
        "      f\"The optimal number of units in the LSTM layer is {bilstm_best_hps.get('units')} \" \n",
        "      f\"and the optimal learning rate for the optimizer is {bilstm_best_hps.get('learning_rate')}.\")"
      ]
    },
    {
      "cell_type": "markdown",
      "metadata": {},
      "source": [
        "Bidirectional GRU + Dense layer variant tuning"
      ]
    },
    {
      "cell_type": "code",
      "execution_count": 71,
      "metadata": {},
      "outputs": [
        {
          "name": "stdout",
          "output_type": "stream",
          "text": [
            "Trial 1 Complete [00h 00m 15s]\n",
            "val_f1_score: 0.00999185536056757\n",
            "\n",
            "Best val_f1_score So Far: 0.00999185536056757\n",
            "Total elapsed time: 00h 00m 15s\n",
            "INFO:tensorflow:Oracle triggered exit\n",
            "The hyperparameter search is complete. The optimal number of units in the GRU layer is 256 and the optimal learning rate for the optimizer is 0.0001.\n"
          ]
        }
      ],
      "source": [
        "# tune the hyperparameters of the second model\n",
        "bigru_tuner = kt.Hyperband(build_bigru_model,\n",
        "                     objective=kt.Objective(\"val_f1_score\", direction=\"max\"),\n",
        "                     max_epochs=epochs,\n",
        "                     #overwrite=True,\n",
        "                     directory=\"tuner\",\n",
        "                     project_name=\"bigru_tuner\")\n",
        "bigru_tuner.search(X_train, y_train, epochs=epochs, batch_size=batch_size, validation_data=(X_dev, y_dev))\n",
        "bigru_best_hps = bigru_tuner.get_best_hyperparameters()[0]\n",
        "\n",
        "print(f\"The hyperparameter search is complete. \" \n",
        "      f\"The optimal number of units in the GRU layer is {bigru_best_hps.get('units')} \" \n",
        "      f\"and the optimal learning rate for the optimizer is {bigru_best_hps.get('learning_rate')}.\")"
      ]
    },
    {
      "cell_type": "markdown",
      "metadata": {},
      "source": [
        "Two Bidirectional LSMT + Dense layer variant tuning"
      ]
    },
    {
      "cell_type": "code",
      "execution_count": 75,
      "metadata": {},
      "outputs": [
        {
          "name": "stdout",
          "output_type": "stream",
          "text": [
            "Trial 1 Complete [00h 00m 29s]\n",
            "val_f1_score: 0.0005028155283071101\n",
            "\n",
            "Best val_f1_score So Far: 0.0005028155283071101\n",
            "Total elapsed time: 00h 00m 29s\n",
            "INFO:tensorflow:Oracle triggered exit\n",
            "The hyperparameter search is complete. The optimal number of units in the first LSTM layer is 256 The optimal number of units in the first LSTM layer is 64 and the optimal learning rate for the optimizer is 0.0001.\n"
          ]
        }
      ],
      "source": [
        "# tune the hyperparameters of the third model\n",
        "two_bilstm_tuner = kt.Hyperband(build_two_bilstm_model,\n",
        "                     objective=kt.Objective(\"val_f1_score\", direction=\"max\"),\n",
        "                     max_epochs=epochs,\n",
        "                     #overwrite=True,\n",
        "                     directory=\"tuner\",\n",
        "                     project_name=\"two_bilstm_tuner\")\n",
        "two_bilstm_tuner.search(X_train, y_train, epochs=epochs, batch_size=batch_size, validation_data=(X_dev, y_dev))\n",
        "two_bilstm_best_hps = two_bilstm_tuner.get_best_hyperparameters()[0]\n",
        "\n",
        "print(f\"The hyperparameter search is complete. \" \n",
        "      f\"The optimal number of units in the first LSTM layer is {two_bilstm_best_hps.get('units1')} \" \n",
        "      f\"The optimal number of units in the first LSTM layer is {two_bilstm_best_hps.get('units2')} \" \n",
        "      f\"and the optimal learning rate for the optimizer is {two_bilstm_best_hps.get('learning_rate')}.\")"
      ]
    },
    {
      "cell_type": "markdown",
      "metadata": {},
      "source": [
        "Bidirectional LSMT + two Dense layer variant tuning"
      ]
    },
    {
      "cell_type": "code",
      "execution_count": 78,
      "metadata": {},
      "outputs": [
        {
          "name": "stdout",
          "output_type": "stream",
          "text": [
            "Trial 1 Complete [00h 00m 15s]\n",
            "val_f1_score: 0.6414884924888611\n",
            "\n",
            "Best val_f1_score So Far: 0.6414884924888611\n",
            "Total elapsed time: 00h 00m 15s\n",
            "INFO:tensorflow:Oracle triggered exit\n",
            "The hyperparameter search is complete. The optimal number of units in the first LSTM layer is 256 The optimal number of units in the first densely-connected layer is 128 and the optimal learning rate for the optimizer is 0.001.\n"
          ]
        }
      ],
      "source": [
        "# tune the hyperparameters of the fourth model\n",
        "bilstm_two_dense_tuner = kt.Hyperband(build_bilstm_two_dense_model,\n",
        "                     objective=kt.Objective(\"val_f1_score\", direction=\"max\"),\n",
        "                     max_epochs=epochs,\n",
        "                     #overwrite=True,\n",
        "                     directory=\"tuner\",\n",
        "                     project_name=\"bilstm_two_dense_tuner\")\n",
        "bilstm_two_dense_tuner.search(X_train, y_train, epochs=epochs, batch_size=batch_size, validation_data=(X_dev, y_dev))\n",
        "bilstm_two_dense_best_hps = bilstm_two_dense_tuner.get_best_hyperparameters()[0]\n",
        "\n",
        "print(f\"The hyperparameter search is complete. \" \n",
        "      f\"The optimal number of units in the first LSTM layer is {bilstm_two_dense_best_hps.get('units1')} \" \n",
        "      f\"The optimal number of units in the first densely-connected layer is {bilstm_two_dense_best_hps.get('units2')} \" \n",
        "      f\"and the optimal learning rate for the optimizer is {bilstm_two_dense_best_hps.get('learning_rate')}.\")"
      ]
    },
    {
      "cell_type": "markdown",
      "metadata": {
        "id": "kWdZM3rskqzr"
      },
      "source": [
        "### 2.3 Model training"
      ]
    },
    {
      "cell_type": "code",
      "execution_count": null,
      "metadata": {},
      "outputs": [],
      "source": [
        "def create_model(layers_info, compile_info):\n",
        "    \"\"\"\n",
        "    Create a Keras model given a list of layer information\n",
        "\n",
        "    Parameters\n",
        "    ----------\n",
        "    layers_info : a list of dictionaries, one for each layer\n",
        "    compile_info : dictionary containing compile information\n",
        "\n",
        "    Returns\n",
        "    -------\n",
        "    model: the built keras sequential model\n",
        "    \"\"\"\n",
        "\n",
        "    model = keras.Sequential()\n",
        "    for info in layers_info:\n",
        "        layer = info['layer_name'](**{key: value for key, value in info.items() if key != 'layer_name'})\n",
        "        model.add(layer)\n",
        "\n",
        "    # Compile\n",
        "    model.compile(**compile_info)\n",
        "\n",
        "    return model\n",
        "    \n",
        "layers_info = [\n",
        "    {\n",
        "        \"layer_name\": layers.Masking,\n",
        "        \"name\": \"padding_masking\",\n",
        "        \"mask_value\": 0.,\n",
        "        \"input_shape\": X_train.shape[1:]\n",
        "    },\n",
        "    {\n",
        "        'layer_name': layers.Bidirectional,\n",
        "        \"layer\": layers.LSTM(64, return_sequences=True),\n",
        "        \"name\": \"bilstm_1\",\n",
        "    },\n",
        "    {\n",
        "        \"layer_name\": layers.Dense,\n",
        "        \"units\": n_classes,\n",
        "        \"activation\": \"softmax\",\n",
        "        \"name\": \"output\"\n",
        "    }\n",
        "]\n",
        "\n",
        "compile_info = {\n",
        "    'optimizer': keras.optimizers.Adam(learning_rate=1e-3),\n",
        "    'loss': 'categorical_crossentropy',\n",
        "    'metrics' : [f1_score]\n",
        "}\n",
        "\n",
        "model = create_model(layers_info, compile_info)\n",
        "model.summary()"
      ]
    },
    {
      "cell_type": "code",
      "execution_count": 21,
      "metadata": {
        "colab": {
          "base_uri": "https://localhost:8080/"
        },
        "id": "mG4rYoHDmHtO",
        "outputId": "041b5b3a-e6b1-415a-c760-086f36f390de"
      },
      "outputs": [
        {
          "name": "stdout",
          "output_type": "stream",
          "text": [
            "Epoch 1/30\n",
            "164/164 [==============================] - 20s 41ms/step - loss: 0.2229 - f1_score: 0.1418 - val_loss: 0.1491 - val_f1_score: 0.4747\n",
            "Epoch 2/30\n",
            "164/164 [==============================] - 4s 22ms/step - loss: 0.1160 - f1_score: 0.6055 - val_loss: 0.1017 - val_f1_score: 0.6697\n",
            "Epoch 3/30\n",
            "164/164 [==============================] - 4s 22ms/step - loss: 0.0866 - f1_score: 0.7270 - val_loss: 0.0840 - val_f1_score: 0.7321\n",
            "Epoch 4/30\n",
            "164/164 [==============================] - 4s 22ms/step - loss: 0.0725 - f1_score: 0.7777 - val_loss: 0.0737 - val_f1_score: 0.7652\n",
            "Epoch 5/30\n",
            "164/164 [==============================] - 4s 21ms/step - loss: 0.0639 - f1_score: 0.8055 - val_loss: 0.0677 - val_f1_score: 0.7872\n",
            "Epoch 6/30\n",
            "164/164 [==============================] - 4s 22ms/step - loss: 0.0576 - f1_score: 0.8243 - val_loss: 0.0630 - val_f1_score: 0.8030\n",
            "Epoch 7/30\n",
            "164/164 [==============================] - 4s 22ms/step - loss: 0.0524 - f1_score: 0.8409 - val_loss: 0.0590 - val_f1_score: 0.8174\n",
            "Epoch 8/30\n",
            "164/164 [==============================] - 3s 21ms/step - loss: 0.0483 - f1_score: 0.8536 - val_loss: 0.0558 - val_f1_score: 0.8276\n",
            "Epoch 9/30\n",
            "164/164 [==============================] - 3s 21ms/step - loss: 0.0446 - f1_score: 0.8652 - val_loss: 0.0528 - val_f1_score: 0.8382\n",
            "Epoch 10/30\n",
            "164/164 [==============================] - 4s 22ms/step - loss: 0.0414 - f1_score: 0.8752 - val_loss: 0.0509 - val_f1_score: 0.8450\n",
            "Epoch 11/30\n",
            "164/164 [==============================] - 4s 26ms/step - loss: 0.0388 - f1_score: 0.8828 - val_loss: 0.0489 - val_f1_score: 0.8507\n",
            "Epoch 12/30\n",
            "164/164 [==============================] - 4s 24ms/step - loss: 0.0362 - f1_score: 0.8926 - val_loss: 0.0475 - val_f1_score: 0.8551\n",
            "Epoch 13/30\n",
            "164/164 [==============================] - 4s 23ms/step - loss: 0.0341 - f1_score: 0.8981 - val_loss: 0.0461 - val_f1_score: 0.8599\n",
            "Epoch 14/30\n",
            "164/164 [==============================] - 4s 23ms/step - loss: 0.0320 - f1_score: 0.9058 - val_loss: 0.0448 - val_f1_score: 0.8635\n",
            "Epoch 15/30\n",
            "164/164 [==============================] - 4s 23ms/step - loss: 0.0302 - f1_score: 0.9108 - val_loss: 0.0438 - val_f1_score: 0.8671\n",
            "Epoch 16/30\n",
            "164/164 [==============================] - 4s 23ms/step - loss: 0.0284 - f1_score: 0.9167 - val_loss: 0.0431 - val_f1_score: 0.8696\n",
            "Epoch 17/30\n",
            "164/164 [==============================] - 4s 23ms/step - loss: 0.0269 - f1_score: 0.9214 - val_loss: 0.0427 - val_f1_score: 0.8709\n",
            "Epoch 18/30\n",
            "164/164 [==============================] - 4s 22ms/step - loss: 0.0254 - f1_score: 0.9261 - val_loss: 0.0420 - val_f1_score: 0.8739\n",
            "Epoch 19/30\n",
            "164/164 [==============================] - 4s 23ms/step - loss: 0.0240 - f1_score: 0.9309 - val_loss: 0.0414 - val_f1_score: 0.8754\n",
            "Epoch 20/30\n",
            "164/164 [==============================] - 4s 25ms/step - loss: 0.0228 - f1_score: 0.9346 - val_loss: 0.0415 - val_f1_score: 0.8735\n",
            "Epoch 21/30\n",
            "164/164 [==============================] - 4s 24ms/step - loss: 0.0215 - f1_score: 0.9388 - val_loss: 0.0407 - val_f1_score: 0.8761\n",
            "Epoch 22/30\n",
            "164/164 [==============================] - 4s 25ms/step - loss: 0.0204 - f1_score: 0.9426 - val_loss: 0.0403 - val_f1_score: 0.8783\n",
            "Epoch 23/30\n",
            "164/164 [==============================] - 4s 25ms/step - loss: 0.0192 - f1_score: 0.9469 - val_loss: 0.0408 - val_f1_score: 0.8781\n",
            "Epoch 24/30\n",
            "164/164 [==============================] - 4s 24ms/step - loss: 0.0182 - f1_score: 0.9496 - val_loss: 0.0401 - val_f1_score: 0.8795\n",
            "Epoch 25/30\n",
            "164/164 [==============================] - 4s 24ms/step - loss: 0.0173 - f1_score: 0.9528 - val_loss: 0.0404 - val_f1_score: 0.8788\n",
            "Epoch 26/30\n",
            "164/164 [==============================] - 4s 24ms/step - loss: 0.0164 - f1_score: 0.9560 - val_loss: 0.0403 - val_f1_score: 0.8789\n",
            "Epoch 27/30\n",
            "164/164 [==============================] - 4s 26ms/step - loss: 0.0154 - f1_score: 0.9586 - val_loss: 0.0407 - val_f1_score: 0.8784\n",
            "Epoch 28/30\n",
            "164/164 [==============================] - 4s 26ms/step - loss: 0.0146 - f1_score: 0.9614 - val_loss: 0.0402 - val_f1_score: 0.8805\n",
            "Epoch 29/30\n",
            "164/164 [==============================] - 4s 26ms/step - loss: 0.0138 - f1_score: 0.9643 - val_loss: 0.0407 - val_f1_score: 0.8799\n",
            "Epoch 30/30\n",
            "164/164 [==============================] - 4s 26ms/step - loss: 0.0130 - f1_score: 0.9668 - val_loss: 0.0403 - val_f1_score: 0.8809\n"
          ]
        }
      ],
      "source": [
        "history_bilstm = model.fit(X_train, y_train, epochs=30, batch_size=12, validation_data=(X_dev, y_dev))"
      ]
    },
    {
      "cell_type": "markdown",
      "metadata": {
        "id": "ab9ETsbC2Q82"
      },
      "source": [
        "### 2.4 History of the training\n",
        "Plot metrics evolution for each epoch during the training"
      ]
    },
    {
      "cell_type": "code",
      "execution_count": 22,
      "metadata": {
        "id": "25YBLK3E2R6m"
      },
      "outputs": [],
      "source": [
        "def plot_history(models_history, keys, model_names=[], labels=(\"epochs\", \"metrics\"), figsize=(10,5), cmap='rainbow'):\n",
        "    \"\"\"\n",
        "    Plot the history of the metrics in the history dictionary for each model.\n",
        "        :param models_history: array of dictionary of the metric history for each model\n",
        "        :param keys: list of keys of the metrics to plot\n",
        "        :param model_names: list of names of the models\n",
        "        :param labels: list of labels of the axes\n",
        "        :param figsize: size of the figure\n",
        "        :param cmap: color map used for the plot\n",
        "    \"\"\"\n",
        "\n",
        "    # maps each model to a distinct RGB color\n",
        "    cmap = plt.cm.get_cmap(cmap, len(models_history))\n",
        "\n",
        "    \n",
        "    fig = plt.figure(figsize=figsize)\n",
        "\n",
        "    # for each model trained\n",
        "    for i, history in enumerate(models_history):\n",
        "        # take all pairs of training and val metrics\n",
        "        for j in range(0, len(keys), 2):\n",
        "            metric, val_metric = keys[j], keys[j+1]\n",
        "            \n",
        "            plt.plot(history[metric], label=f\"{model_names[i]} {metric}\", linestyle=\"solid\", color=cmap(i))\n",
        "            plt.plot(history[val_metric],  label=f\"{model_names[i]} {val_metric}\", linestyle=\"--\",  color=cmap(i))\n",
        "        \n",
        "    plt.xlabel(labels[0])\n",
        "    plt.ylabel(labels[1])\n",
        "\n",
        "    # Adding legend\n",
        "    plt.legend(\n",
        "          title =\"Legend\",\n",
        "          loc =\"upper left\",\n",
        "          bbox_to_anchor =(1.0, 0, 0.5, 1))\n",
        "    plt.title(\"Training history\")\n",
        "    plt.grid(linestyle='--', linewidth=1)\n",
        "    plt.show()"
      ]
    },
    {
      "cell_type": "code",
      "execution_count": 23,
      "metadata": {
        "colab": {
          "base_uri": "https://localhost:8080/",
          "height": 725
        },
        "id": "Ca9TMoj42VgT",
        "outputId": "51947068-a9de-452d-9e34-2b8217b25732"
      },
      "outputs": [
        {
          "data": {
            "image/png": "[encoded data removed]",
            "text/plain": [
              "<Figure size 1080x504 with 1 Axes>"
            ]
          },
          "metadata": {
            "needs_background": "light"
          },
          "output_type": "display_data"
        },
        {
          "data": {
            "image/png": "[encoded data removed]",
            "text/plain": [
              "<Figure size 1080x504 with 1 Axes>"
            ]
          },
          "metadata": {
            "needs_background": "light"
          },
          "output_type": "display_data"
        }
      ],
      "source": [
        "models_history = [history_bilstm.history]\n",
        "model_names = [\"BiLSTM\"]\n",
        "plot_history(models_history, keys=['loss', 'val_loss'], model_names=model_names, labels=(\"epochs\", \"loss\"), figsize=(15,7))\n",
        "plot_history(models_history, keys=['f1_score', 'val_f1_score'], model_names=model_names, labels=(\"epochs\", \"accuracy\"), figsize=(15,7))"
      ]
    },
    {
      "cell_type": "markdown",
      "metadata": {
        "id": "ZmIWLatvkqzt"
      },
      "source": [
        "## 3. Evaluation"
      ]
    },
    {
      "cell_type": "code",
      "execution_count": 24,
      "metadata": {
        "id": "Q71LkwAPkqzt"
      },
      "outputs": [],
      "source": [
        "def evaluate_model(model, X_test, y_test, labels):\n",
        "    \"\"\"\n",
        "    given a trained model and a test set returns the f-score and the confusion matrix\n",
        "    taking into account only classes in labels\n",
        "    \"\"\"\n",
        "    raw_y_true = np.array(y_test)\n",
        "    raw_y_pred = model.predict(X_test)\n",
        "    # shape of the output is doc x len_sen x classes\n",
        "    # argmax for label predictions\n",
        "    len_sentence = raw_y_pred.shape[1]\n",
        "    num_sentences = raw_y_pred.shape[0]\n",
        "    y_pred = np.empty((num_sentences, len_sentence))\n",
        "    y_true = np.empty((num_sentences, len_sentence))\n",
        "    # assign label with the highest probability\n",
        "    for i in range(num_sentences):\n",
        "        for j in range(len_sentence):\n",
        "            y_pred[i,j] = np.argmax(raw_y_pred[i,j,:])\n",
        "            y_true[i,j] = np.argmax(raw_y_true[i,j,:])\n",
        "    # flatten the numpy array to have a 1D array\n",
        "    y_true = y_true.flatten()\n",
        "    y_pred = y_pred.flatten()\n",
        "    # show confusion matrix\n",
        "    conf_matrix = confusion_matrix(y_true, y_pred, labels=labels)\n",
        "    disp = ConfusionMatrixDisplay(conf_matrix)\n",
        "    disp.plot()\n",
        "    plt.show()\n",
        "    # f1 score\n",
        "    print(\"F score:\\n-------------------------------\\n\")\n",
        "    print(f1_score(y_true, y_pred, labels=labels, average='macro'))"
      ]
    },
    {
      "cell_type": "code",
      "execution_count": 25,
      "metadata": {
        "colab": {
          "base_uri": "https://localhost:8080/",
          "height": 405
        },
        "id": "ua2c1KdCkqzt",
        "outputId": "252f5892-7065-4100-b9a1-4c278c3a2a8e"
      },
      "outputs": [
        {
          "data": {
            "image/png": "[encoded data removed]",
            "text/plain": [
              "<Figure size 432x288 with 2 Axes>"
            ]
          },
          "metadata": {
            "needs_background": "light"
          },
          "output_type": "display_data"
        },
        {
          "name": "stdout",
          "output_type": "stream",
          "text": [
            "F score:\n",
            "-------------------------------\n",
            "\n"
          ]
        },
        {
          "ename": "TypeError",
          "evalue": "f1_score() got an unexpected keyword argument 'labels'",
          "output_type": "error",
          "traceback": [
            "\u001b[1;31m---------------------------------------------------------------------------\u001b[0m",
            "\u001b[1;31mTypeError\u001b[0m                                 Traceback (most recent call last)",
            "\u001b[1;32mc:\\Users\\peppe\\UNIBO\\Natural Language Processing\\lab\\Assignment1\\POS_tagging.ipynb Cell 30'\u001b[0m in \u001b[0;36m<cell line: 4>\u001b[1;34m()\u001b[0m\n\u001b[0;32m      <a href='vscode-notebook-cell:/c%3A/Users/peppe/UNIBO/Natural%20Language%20Processing/lab/Assignment1/POS_tagging.ipynb#ch0000029?line=1'>2</a>\u001b[0m classes \u001b[39m=\u001b[39m target_vectorizer\u001b[39m.\u001b[39mget_classes()\n\u001b[0;32m      <a href='vscode-notebook-cell:/c%3A/Users/peppe/UNIBO/Natural%20Language%20Processing/lab/Assignment1/POS_tagging.ipynb#ch0000029?line=2'>3</a>\u001b[0m valid_labels \u001b[39m=\u001b[39m \u001b[39mlist\u001b[39m(\u001b[39mset\u001b[39m(\u001b[39mrange\u001b[39m(\u001b[39mlen\u001b[39m(classes))) \u001b[39m-\u001b[39m \u001b[39mset\u001b[39m(punctuation_indexes))\n\u001b[1;32m----> <a href='vscode-notebook-cell:/c%3A/Users/peppe/UNIBO/Natural%20Language%20Processing/lab/Assignment1/POS_tagging.ipynb#ch0000029?line=3'>4</a>\u001b[0m evaluate_model(model, X_test, y_test, valid_labels)\n",
            "\u001b[1;32mc:\\Users\\peppe\\UNIBO\\Natural Language Processing\\lab\\Assignment1\\POS_tagging.ipynb Cell 29'\u001b[0m in \u001b[0;36mevaluate_model\u001b[1;34m(model, X_test, y_test, labels)\u001b[0m\n\u001b[0;32m     <a href='vscode-notebook-cell:/c%3A/Users/peppe/UNIBO/Natural%20Language%20Processing/lab/Assignment1/POS_tagging.ipynb#ch0000028?line=26'>27</a>\u001b[0m \u001b[39m# f1 score\u001b[39;00m\n\u001b[0;32m     <a href='vscode-notebook-cell:/c%3A/Users/peppe/UNIBO/Natural%20Language%20Processing/lab/Assignment1/POS_tagging.ipynb#ch0000028?line=27'>28</a>\u001b[0m \u001b[39mprint\u001b[39m(\u001b[39m\"\u001b[39m\u001b[39mF score:\u001b[39m\u001b[39m\\n\u001b[39;00m\u001b[39m-------------------------------\u001b[39m\u001b[39m\\n\u001b[39;00m\u001b[39m\"\u001b[39m)\n\u001b[1;32m---> <a href='vscode-notebook-cell:/c%3A/Users/peppe/UNIBO/Natural%20Language%20Processing/lab/Assignment1/POS_tagging.ipynb#ch0000028?line=28'>29</a>\u001b[0m \u001b[39mprint\u001b[39m(f1_score(y_true, y_pred, labels\u001b[39m=\u001b[39;49mlabels, average\u001b[39m=\u001b[39;49m\u001b[39m'\u001b[39;49m\u001b[39mmacro\u001b[39;49m\u001b[39m'\u001b[39;49m))\n",
            "\u001b[1;31mTypeError\u001b[0m: f1_score() got an unexpected keyword argument 'labels'"
          ]
        }
      ],
      "source": [
        "punctuation_indexes = [0, 1, 2, 3, 4, 5, 6, 16, 30, 43]\n",
        "classes = target_vectorizer.get_classes()\n",
        "valid_labels = list(set(range(len(classes))) - set(punctuation_indexes))\n",
        "evaluate_model(model, X_test, y_test, valid_labels)"
      ]
    },
    {
      "cell_type": "code",
      "execution_count": 29,
      "metadata": {},
      "outputs": [
        {
          "data": {
            "text/plain": [
              "(249, 45)"
            ]
          },
          "execution_count": 29,
          "metadata": {},
          "output_type": "execute_result"
        }
      ],
      "source": [
        "y_test[i_test].shape"
      ]
    },
    {
      "cell_type": "code",
      "execution_count": 27,
      "metadata": {
        "colab": {
          "base_uri": "https://localhost:8080/"
        },
        "id": "sFaG0yb4kqzu",
        "outputId": "192d94c0-4d55-48a7-f61b-ff22812bd678"
      },
      "outputs": [
        {
          "name": "stdout",
          "output_type": "stream",
          "text": [
            "Original POS tagging:  [[0 0 0 0 0 0 0 0 0 0 0 0 0 1 0 0 0 0 0 0 0 0 0 0 0 0 0 0 0 0 0 0 0 0 0 0\n",
            "  0 0 0 0 0 0 0 0 0]\n",
            " [0 0 0 0 0 0 0 0 0 0 1 0 0 0 0 0 0 0 0 0 0 0 0 0 0 0 0 0 0 0 0 0 0 0 0 0\n",
            "  0 0 0 0 0 0 0 0 0]\n",
            " [0 0 0 0 0 0 0 0 0 1 0 0 0 0 0 0 0 0 0 0 0 0 0 0 0 0 0 0 0 0 0 0 0 0 0 0\n",
            "  0 0 0 0 0 0 0 0 0]\n",
            " [0 0 0 1 0 0 0 0 0 0 0 0 0 0 0 0 0 0 0 0 0 0 0 0 0 0 0 0 0 0 0 0 0 0 0 0\n",
            "  0 0 0 0 0 0 0 0 0]\n",
            " [0 0 0 0 0 0 0 0 0 0 0 0 0 0 0 0 0 0 0 0 0 0 1 0 0 0 0 0 0 0 0 0 0 0 0 0\n",
            "  0 0 0 0 0 0 0 0 0]\n",
            " [0 0 0 0 0 0 0 0 0 0 0 0 0 0 0 0 0 0 0 0 0 0 0 0 0 0 0 0 0 0 0 0 0 0 0 1\n",
            "  0 0 0 0 0 0 0 0 0]\n",
            " [0 0 0 0 0 0 0 0 0 0 0 0 0 0 0 0 0 0 0 1 0 0 0 0 0 0 0 0 0 0 0 0 0 0 0 0\n",
            "  0 0 0 0 0 0 0 0 0]\n",
            " [0 0 0 0 0 0 0 0 0 0 0 0 0 0 0 0 0 0 0 0 0 0 1 0 0 0 0 0 0 0 0 0 0 0 0 0\n",
            "  0 0 0 0 0 0 0 0 0]\n",
            " [0 0 0 0 0 0 0 0 0 0 0 0 0 1 0 0 0 0 0 0 0 0 0 0 0 0 0 0 0 0 0 0 0 0 0 0\n",
            "  0 0 0 0 0 0 0 0 0]\n",
            " [0 0 0 0 0 0 0 0 0 0 1 0 0 0 0 0 0 0 0 0 0 0 0 0 0 0 0 0 0 0 0 0 0 0 0 0\n",
            "  0 0 0 0 0 0 0 0 0]\n",
            " [0 0 0 0 0 0 0 0 0 0 0 0 0 0 0 0 0 0 0 0 0 0 1 0 0 0 0 0 0 0 0 0 0 0 0 0\n",
            "  0 0 0 0 0 0 0 0 0]\n",
            " [0 0 0 0 0 0 0 0 0 0 0 0 0 1 0 0 0 0 0 0 0 0 0 0 0 0 0 0 0 0 0 0 0 0 0 0\n",
            "  0 0 0 0 0 0 0 0 0]\n",
            " [0 0 0 0 0 0 0 0 0 0 0 0 0 0 0 0 0 0 0 0 1 0 0 0 0 0 0 0 0 0 0 0 0 0 0 0\n",
            "  0 0 0 0 0 0 0 0 0]\n",
            " [0 0 0 0 0 0 0 0 0 0 0 0 0 0 0 0 0 0 0 0 0 0 1 0 0 0 0 0 0 0 0 0 0 0 0 0\n",
            "  0 0 0 0 0 0 0 0 0]\n",
            " [0 0 0 0 0 0 1 0 0 0 0 0 0 0 0 0 0 0 0 0 0 0 0 0 0 0 0 0 0 0 0 0 0 0 0 0\n",
            "  0 0 0 0 0 0 0 0 0]]\n",
            "Predicted POS tagging:  [[0 0 0 0 0 0 0 0 0 0 0 0 0 1 0 0 0 0 0 0 0 0 0 0 0 0 0 0 0 0 0 0 0 0 0 0\n",
            "  0 0 0 0 0 0 0 0 0]\n",
            " [0 0 0 0 0 0 0 0 0 0 1 0 0 0 0 0 0 0 0 0 0 0 0 0 0 0 0 0 0 0 0 0 0 0 0 0\n",
            "  0 0 0 0 0 0 0 0 0]\n",
            " [0 0 0 0 0 0 0 0 0 0 0 0 0 0 0 0 0 0 0 0 0 0 1 0 0 0 0 0 0 0 0 0 0 0 0 0\n",
            "  0 0 0 0 0 0 0 0 0]\n",
            " [0 0 0 1 0 0 0 0 0 0 0 0 0 0 0 0 0 0 0 0 0 0 0 0 0 0 0 0 0 0 0 0 0 0 0 0\n",
            "  0 0 0 0 0 0 0 0 0]\n",
            " [0 0 0 0 0 0 0 0 0 0 0 0 0 0 0 0 0 0 0 0 0 0 0 0 0 0 0 0 0 0 0 0 0 0 0 1\n",
            "  0 0 0 0 0 0 0 0 0]\n",
            " [0 0 0 0 0 0 0 0 0 0 0 0 0 0 0 0 0 0 0 0 0 0 0 0 0 0 0 0 0 0 0 0 0 0 0 1\n",
            "  0 0 0 0 0 0 0 0 0]\n",
            " [0 0 0 0 0 0 0 0 0 0 0 0 0 0 0 0 0 0 0 1 0 0 0 0 0 0 0 0 0 0 0 0 0 0 0 0\n",
            "  0 0 0 0 0 0 0 0 0]\n",
            " [0 0 0 0 0 0 0 0 0 0 0 0 0 0 0 0 0 0 0 0 0 0 1 0 0 0 0 0 0 0 0 0 0 0 0 0\n",
            "  0 0 0 0 0 0 0 0 0]\n",
            " [0 0 0 0 0 0 0 0 0 0 0 0 0 1 0 0 0 0 0 0 0 0 0 0 0 0 0 0 0 0 0 0 0 0 0 0\n",
            "  0 0 0 0 0 0 0 0 0]\n",
            " [0 0 0 0 0 0 0 0 0 0 1 0 0 0 0 0 0 0 0 0 0 0 0 0 0 0 0 0 0 0 0 0 0 0 0 0\n",
            "  0 0 0 0 0 0 0 0 0]\n",
            " [0 0 0 0 0 0 0 0 0 0 0 0 0 0 0 0 0 0 0 0 1 0 0 0 0 0 0 0 0 0 0 0 0 0 0 0\n",
            "  0 0 0 0 0 0 0 0 0]\n",
            " [0 0 0 0 0 0 0 0 0 0 0 0 0 1 0 0 0 0 0 0 0 0 0 0 0 0 0 0 0 0 0 0 0 0 0 0\n",
            "  0 0 0 0 0 0 0 0 0]\n",
            " [0 0 0 0 0 0 0 0 0 0 0 0 0 0 0 0 0 0 0 0 1 0 0 0 0 0 0 0 0 0 0 0 0 0 0 0\n",
            "  0 0 0 0 0 0 0 0 0]\n",
            " [0 0 0 0 0 0 0 0 0 0 0 0 0 0 0 0 0 0 0 0 1 0 0 0 0 0 0 0 0 0 0 0 0 0 0 0\n",
            "  0 0 0 0 0 0 0 0 0]\n",
            " [0 0 0 0 0 0 1 0 0 0 0 0 0 0 0 0 0 0 0 0 0 0 0 0 0 0 0 0 0 0 0 0 0 0 0 0\n",
            "  0 0 0 0 0 0 0 0 0]]\n"
          ]
        }
      ],
      "source": [
        "i_test = 4  # change this to see the prediction for a different sentence\n",
        "\n",
        "print(\"Original POS tagging: \",target_vectorizer.inverse_transform([y_test[i_test]])[0])\n",
        "\n",
        "raw_y_pred = model.predict(np.array([X_test[i_test]]))\n",
        "# shape of the output is doc x len_sen x classes\n",
        "# argmax for label predictions\n",
        "\n",
        "print(\"Predicted POS tagging: \",target_vectorizer.inverse_transform_probabilities(raw_y_pred)[0])"
      ]
    }
  ],
  "metadata": {
    "accelerator": "GPU",
    "colab": {
      "collapsed_sections": [],
      "include_colab_link": true,
      "name": "Copy of POS_tagging.ipynb",
      "provenance": []
    },
    "interpreter": {
      "hash": "63e28586807c6502c782d898cf9a0cc5787bb3d77952b17b51ec8bdcd4044a3d"
    },
    "kernelspec": {
      "display_name": "Python 3",
      "language": "python",
      "name": "python3"
    },
    "language_info": {
      "codemirror_mode": {
        "name": "ipython",
        "version": 3
      },
      "file_extension": ".py",
      "mimetype": "text/x-python",
      "name": "python",
      "nbconvert_exporter": "python",
      "pygments_lexer": "ipython3",
      "version": "3.9.7"
    }
  },
  "nbformat": 4,
  "nbformat_minor": 0
}

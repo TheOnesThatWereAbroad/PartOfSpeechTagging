{
  "cells": [
    {
      "cell_type": "markdown",
      "metadata": {
        "id": "view-in-github",
        "colab_type": "text"
      },
      "source": [
        "<a href=\"https://colab.research.google.com/github/TheOnesThatWereAbroad/Assignment1/blob/main/POS_tagging.ipynb\" target=\"_parent\"><img src=\"https://colab.research.google.com/assets/colab-badge.svg\" alt=\"Open In Colab\"/></a>"
      ]
    },
    {
      "cell_type": "markdown",
      "metadata": {
        "id": "tc8x9pA00Sfd"
      },
      "source": [
        "# Assignment 1 - POS tagging"
      ]
    },
    {
      "cell_type": "code",
      "source": [
        ""
      ],
      "metadata": {
        "id": "6A9uR7hGmZvC"
      },
      "execution_count": null,
      "outputs": []
    },
    {
      "cell_type": "code",
      "execution_count": 52,
      "metadata": {
        "id": "jHhrkDf2kqzg"
      },
      "outputs": [],
      "source": [
        "import os\n",
        "import numpy as np\n",
        "import matplotlib.pyplot as plt\n",
        "\n",
        "import tensorflow as tf\n",
        "from tensorflow import keras\n",
        "from tensorflow.keras import layers\n",
        "from sklearn.metrics import confusion_matrix, ConfusionMatrixDisplay, f1_score\n",
        "\n",
        "from data_input import DataInput\n",
        "from text_vectorizer import TextVectorizer, TargetVectorizer"
      ]
    },
    {
      "cell_type": "code",
      "source": [
        "%load_ext autoreload\n",
        "%autoreload 2"
      ],
      "metadata": {
        "id": "W54o7ygSsHDI"
      },
      "execution_count": 34,
      "outputs": []
    },
    {
      "cell_type": "markdown",
      "metadata": {
        "id": "jx2qo48Ikqzi"
      },
      "source": [
        "## 1. Build a dataset"
      ]
    },
    {
      "cell_type": "markdown",
      "metadata": {
        "id": "IN34sX55kqzi"
      },
      "source": [
        "### 1.1 Dataset preparation\n",
        "For this experiment, the [Dependency Parsed Treebank](https://www.nltk.org/nltk_data/) dataset is used."
      ]
    },
    {
      "cell_type": "code",
      "execution_count": 60,
      "metadata": {
        "colab": {
          "base_uri": "https://localhost:8080/"
        },
        "id": "eRQ_hwv9mHtK",
        "outputId": "425650a5-4c57-4373-adb7-cc32f5abfde9"
      },
      "outputs": [
        {
          "output_type": "stream",
          "name": "stderr",
          "text": [
            "/content/data_input.py:117: VisibleDeprecationWarning: Creating an ndarray from ragged nested sequences (which is a list-or-tuple of lists-or-tuples-or ndarrays with different lengths or shapes) is deprecated. If you meant to do this, you must specify 'dtype=object' when creating the ndarray.\n",
            "  return np.array(X), np.array(y)\n"
          ]
        },
        {
          "output_type": "stream",
          "name": "stdout",
          "text": [
            "Train set size: 1957\n",
            "Dev set size: 979\n",
            "Test set size: 978\n"
          ]
        }
      ],
      "source": [
        "# download the dataset and split it into train, dev and test sets\n",
        "dataset = DataInput(\n",
        "        data_url=\"https://raw.githubusercontent.com/nltk/nltk_data/gh-pages/packages/corpora/dependency_treebank.zip\",\n",
        "        train_size=0.50,\n",
        "        dev_size=0.25,\n",
        "        dataset_folder=os.path.join(os.getcwd(), \"dataset\"),\n",
        "        split_into_sentences=True,\n",
        "        shuffle=False\n",
        "    )"
      ]
    },
    {
      "cell_type": "markdown",
      "metadata": {
        "id": "SGQatFzWkqzk"
      },
      "source": [
        "Pre-processing is always an important step with which start. There are a lot of pre-processing steps that we can consider, but for this experiment the only pre-processing operation performed is:\n",
        "- **to lower**, in part-of-speech tagging scenario casing of the input tokens is crucial to find the correspondent token in the embedding vocabulary"
      ]
    },
    {
      "cell_type": "code",
      "execution_count": 61,
      "metadata": {
        "id": "YbVR94oskqzk"
      },
      "outputs": [],
      "source": [
        "# do preprocessing for train, validation and test sets\n",
        "dataset.preprocessing(\"train\", to_lower=True)\n",
        "dataset.preprocessing(\"dev\", to_lower=True)\n",
        "dataset.preprocessing(\"test\", to_lower=True)\n",
        "\n",
        "# separate inputs and targets\n",
        "X_train, y_train = dataset.train\n",
        "X_dev, y_dev = dataset.dev\n",
        "X_test, y_test = dataset.test"
      ]
    },
    {
      "cell_type": "code",
      "source": [
        "dataset.train[0]"
      ],
      "metadata": {
        "colab": {
          "base_uri": "https://localhost:8080/"
        },
        "id": "lxfgDx0jrnqV",
        "outputId": "75a657fb-b767-4dcd-cb04-c1ced79081da"
      },
      "execution_count": 62,
      "outputs": [
        {
          "output_type": "execute_result",
          "data": {
            "text/plain": [
              "array([array(['commonwealth', 'edison', 'co.', 'was', 'ordered', 'to', 'refund',\n",
              "              'about', '$', '250', 'million', 'to', 'its', 'current', 'and',\n",
              "              'former', 'ratepayers', 'for', 'illegal', 'rates', 'collected',\n",
              "              'for', 'cost', 'overruns', 'on', 'a', 'nuclear', 'power', 'plant',\n",
              "              '.'], dtype='<U12')                                               ,\n",
              "       array(['the', 'refund', 'was', 'about', '$', '55', 'million', 'more',\n",
              "              'than', 'previously', 'ordered', 'by', 'the', 'illinois',\n",
              "              'commerce', 'commission', 'and', 'trade', 'groups', 'said', 'it',\n",
              "              'may', 'be', 'the', 'largest', 'ever', 'required', 'of', 'a',\n",
              "              'state', 'or', 'local', 'utility', '.'], dtype='<U10')           ,\n",
              "       array(['state', 'court', 'judge', 'richard', 'curry', 'ordered', 'edison',\n",
              "              'to', 'make', 'average', 'refunds', 'of', 'about', '$', '45', 'to',\n",
              "              '$', '50', 'each', 'to', 'edison', 'customers', 'who', 'have',\n",
              "              'received', 'electric', 'service', 'since', 'april', '1986', ',',\n",
              "              'including', 'about', 'two', 'million', 'customers', 'who', 'have',\n",
              "              'moved', 'during', 'that', 'period', '.'], dtype='<U9')            ,\n",
              "       ...,\n",
              "       array(['indexing', '--', 'many', 'investors', ',', 'mainly',\n",
              "              'institutions', ',', 'follow', 'an', 'investment', 'strategy',\n",
              "              'of', 'buying', 'and', 'holding', 'a', 'mix', 'of', 'stocks', 'to',\n",
              "              'match', 'the', 'performance', 'of', 'a', 'broad', 'stock-market',\n",
              "              'barometer', 'such', 'as', 'the', 's&p', '500', '.'], dtype='<U12'),\n",
              "       array(['many', 'institutional', 'index', 'funds', 'are', 'active',\n",
              "              'program', 'traders', ',', 'swapping', 'their', 'stocks', 'for',\n",
              "              'futures', 'when', 'profitable', 'to', 'do', 'so', '.'],\n",
              "             dtype='<U13')                                                    ,\n",
              "       array(['program', 'trading', '--', 'a', 'wide', 'range', 'of',\n",
              "              'computer-assisted', 'portfolio', 'trading', 'strategies',\n",
              "              'involving', 'the', 'simultaneous', 'purchase', 'or', 'sale', 'of',\n",
              "              '15', 'or', 'more', 'stocks', '.'], dtype='<U17')                  ],\n",
              "      dtype=object)"
            ]
          },
          "metadata": {},
          "execution_count": 62
        }
      ]
    },
    {
      "cell_type": "markdown",
      "metadata": {
        "id": "IPv-M1xEmHtM"
      },
      "source": [
        "### 1.2 Dataset analysis\n",
        "Let's take a look at the dataset, to inspect the distribution of the POS tags"
      ]
    },
    {
      "cell_type": "code",
      "execution_count": 63,
      "metadata": {
        "id": "Oh9Jg3ePkqzm"
      },
      "outputs": [],
      "source": [
        "def get_occurences(data, ordered=False, exclude=[]):\n",
        "    \"\"\"\n",
        "    Get the occurences of each token in the data.\n",
        "\n",
        "    Parameters\n",
        "    ----------\n",
        "    data : list of np arrays, representing the data to get the occurences from\n",
        "    ordered : bool, if True, the occurences will be returned in descending order\n",
        "    exclude : list of strings, tokens that should not be included in the occurences\n",
        "\n",
        "    Returns\n",
        "    -------\n",
        "    occurences : dict, mapping each token to the number of occurences\n",
        "    \"\"\"\n",
        "    tokens, counts = np.unique(np.concatenate(data), return_counts=True)\n",
        "    occurences = dict(zip(tokens, counts))\n",
        "\n",
        "    if len(exclude) > 0:\n",
        "        for token in exclude:\n",
        "            if token in occurences:\n",
        "                del occurences[token]\n",
        "\n",
        "    if ordered:\n",
        "        occurences = dict(sorted(occurences.items(), key=lambda x: x[1], reverse=True))\n",
        "    return occurences\n",
        "\n",
        "# get the occurences of each POS tag in the three sets withouth the PUNCTUATION class \".\"\n",
        "train_tags_occ = get_occurences(y_train, ordered=True, exclude=[\".\"])\n",
        "dev_tags_occ = get_occurences(y_dev, exclude=[\".\"])\n",
        "test_tags_occ = get_occurences(y_test, exclude=[\".\"])\n",
        "\n",
        "# build a matrix of the occurences of size (n_tags, 3)\n",
        "tags_occ = np.array([[v, dev_tags_occ[k], test_tags_occ[k]] if k in dev_tags_occ and k in test_tags_occ else [v, dev_tags_occ[k], 0] if k in dev_tags_occ else [v, 0, test_tags_occ[k]] if k in test_tags_occ else [v, 0, 0] for k, v in train_tags_occ.items()])"
      ]
    },
    {
      "cell_type": "code",
      "source": [
        ""
      ],
      "metadata": {
        "id": "X29po_W5wdWE"
      },
      "execution_count": null,
      "outputs": []
    },
    {
      "cell_type": "code",
      "execution_count": 65,
      "metadata": {
        "colab": {
          "base_uri": "https://localhost:8080/",
          "height": 339
        },
        "id": "aZh5QAJIkqzn",
        "outputId": "b79b83a5-4150-4bcc-972a-09f392095d9d"
      },
      "outputs": [
        {
          "output_type": "execute_result",
          "data": {
            "text/plain": [
              "[]"
            ]
          },
          "metadata": {},
          "execution_count": 65
        },
        {
          "output_type": "display_data",
          "data": {
            "text/plain": [
              "<Figure size 1656x576 with 1 Axes>"
            ],
            "image/png": "[encoded data removed]"
          },
          "metadata": {
            "needs_background": "light"
          }
        }
      ],
      "source": [
        "# plot bar chart of the occurences of each POS tag\n",
        "fig, ax = plt.subplots(1, 1, figsize=(23, 8))\n",
        "tags = list(train_tags_occ.keys())\n",
        "ax.bar(tags, tags_occ[:, 1], width=0.3, align='edge', label='dev')\n",
        "ax.bar(tags, tags_occ[:, 2], width=-0.6, align='edge', label='test')\n",
        "ax.bar(tags, tags_occ[:, 0], width=-0.3, align='edge', label='train')\n",
        "ax.set_xticks(tags)\n",
        "ax.set_xlabel('Tags')\n",
        "ax.set_ylabel('Occurences')\n",
        "ax.set_title(\"Occurences of POS tags\")\n",
        "ax.legend()\n",
        "plt.plot()"
      ]
    },
    {
      "cell_type": "code",
      "execution_count": 43,
      "metadata": {
        "colab": {
          "base_uri": "https://localhost:8080/"
        },
        "id": "QYCqD_Zpkqzo",
        "outputId": "a7f90aa7-c0a8-4a1b-a84c-ebac77026ef7"
      },
      "outputs": [
        {
          "output_type": "stream",
          "name": "stdout",
          "text": [
            "The following tags (from the train set) are not in the dev set: {'#'}\n",
            "The following tags (from the train set) are not in the test set: {'FW'}\n",
            "The following tags (from the dev set) are not in the train set: {'UH', 'LS'}\n",
            "The following tags (from the test set) are not in the train set: {'LS', 'SYM'}\n"
          ]
        }
      ],
      "source": [
        "# analyze the difference between the presence of the POS tags in the train, dev and test sets\n",
        "train_tags_not_dev = set(train_tags_occ.keys()) - set(dev_tags_occ.keys())\n",
        "train_tags_not_test = set(train_tags_occ.keys()) - set(test_tags_occ.keys())\n",
        "dev_tags_not_train = set(dev_tags_occ.keys()) - set(train_tags_occ.keys())\n",
        "test_tags_not_train = set(test_tags_occ.keys()) - set(train_tags_occ.keys())\n",
        "\n",
        "if(len(train_tags_not_dev) > 0):\n",
        "    print(\"The following tags (from the train set) are not in the dev set:\", train_tags_not_dev)\n",
        "if(len(train_tags_not_test) > 0):\n",
        "    print(\"The following tags (from the train set) are not in the test set:\", train_tags_not_test)\n",
        "if(len(dev_tags_not_train) > 0):\n",
        "    print(\"The following tags (from the dev set) are not in the train set:\", dev_tags_not_train)\n",
        "if(len(test_tags_not_train) > 0):\n",
        "    print(\"The following tags (from the test set) are not in the train set:\", test_tags_not_train)"
      ]
    },
    {
      "cell_type": "markdown",
      "metadata": {
        "id": "mkIYSNxukqzo"
      },
      "source": [
        "### 1.3 GloVe embeddings vectorization\n",
        "The next step consists in downloading a pre-trained embedding model, namely GloVe. It is a techniques that tries to encoded global semantic properties based on the co-occurrence matrix.\n",
        "Three different dimensional space versions are available: 50, 100, 200.\n",
        "\n",
        "From the choosen embedding, a starting vocabulary is built.\n",
        "Then this vocabulary is enriched with the embeddings computed for the OOV words."
      ]
    },
    {
      "cell_type": "code",
      "execution_count": 67,
      "metadata": {
        "colab": {
          "base_uri": "https://localhost:8080/"
        },
        "id": "MxU2LR1Bkqzp",
        "outputId": "2e2f9d28-0e1a-4eea-8bf7-4b113d0ef20f"
      },
      "outputs": [
        {
          "output_type": "stream",
          "name": "stdout",
          "text": [
            "Parsing the training set...\n",
            "Generated embeddings for 329 OOV words.\n",
            "\n",
            "Parsing the validation set...\n",
            "Generated embeddings for 170 OOV words.\n",
            "\n",
            "Parsing the test set...\n",
            "Generated embeddings for 177 OOV words.\n"
          ]
        }
      ],
      "source": [
        "# initialize the vectorizer for the input tokens to convert them to embedding vectors\n",
        "# and build the vocabulary V1 from the glove embeddings\n",
        "text_vectorizer = TextVectorizer(\n",
        "    glove_url=\"http://nlp.stanford.edu/data/glove.6B.zip\",\n",
        "    max_tokens=20000,\n",
        "    embedding_dim=50,\n",
        "    embedding_folder=os.path.join(os.getcwd(), \"glove\")\n",
        ")\n",
        "\n",
        "# compute embeddings for terms (OOV1) in the training set that are out of vocabulary V1 and add them: V2=V1+OOV1\n",
        "print(\"Parsing the training set...\")\n",
        "text_vectorizer.adapt(X_train)\n",
        "# use the vocabulary V2 to convert the training set inputs into embedding vectors\n",
        "X_train = text_vectorizer.transform(X_train)\n",
        "\n",
        "# compute embeddings for terms (OOV2) in the validation set that are out of vocabulary V2 and add them: V3=V2+OOV2\n",
        "print(\"\\nParsing the validation set...\")\n",
        "text_vectorizer.adapt(X_dev)\n",
        "# use the vocabulary V3 to convert the validation set inputs into embedding vectors\n",
        "X_dev = text_vectorizer.transform(X_dev)\n",
        "\n",
        "# compute embeddings for terms (OOV3) in the test set that are out of vocabulary V3 and add them: V4=V3+OOV3\n",
        "print(\"\\nParsing the test set...\")\n",
        "text_vectorizer.adapt(X_test)\n",
        "# use the vocabulary V4 to convert the test set inputs into embedding vectors\n",
        "X_test = text_vectorizer.transform(X_test)"
      ]
    },
    {
      "cell_type": "code",
      "source": [
        "X_train[0]"
      ],
      "metadata": {
        "colab": {
          "base_uri": "https://localhost:8080/"
        },
        "id": "R9lB8KL8rhD9",
        "outputId": "2905b5e7-a9af-4801-981d-5af8f947684b"
      },
      "execution_count": 68,
      "outputs": [
        {
          "output_type": "execute_result",
          "data": {
            "text/plain": [
              "array([[-1.28550005,  0.48245001, -0.70515001, ..., -0.22515   ,\n",
              "        -0.14159   , -0.7669    ],\n",
              "       [ 0.25810999,  0.23231   ,  0.74949002, ..., -0.18379   ,\n",
              "         0.13196   ,  0.28165999],\n",
              "       [ 0.15121999, -0.065602  ,  0.41077   , ...,  0.17369001,\n",
              "        -0.090891  ,  0.94072998],\n",
              "       ...,\n",
              "       [ 0.        ,  0.        ,  0.        , ...,  0.        ,\n",
              "         0.        ,  0.        ],\n",
              "       [ 0.        ,  0.        ,  0.        , ...,  0.        ,\n",
              "         0.        ,  0.        ],\n",
              "       [ 0.        ,  0.        ,  0.        , ...,  0.        ,\n",
              "         0.        ,  0.        ]])"
            ]
          },
          "metadata": {},
          "execution_count": 68
        }
      ]
    },
    {
      "cell_type": "code",
      "execution_count": 69,
      "metadata": {
        "id": "NwDnKWdckqzp",
        "colab": {
          "base_uri": "https://localhost:8080/"
        },
        "outputId": "4f51b770-b9de-4600-fde1-527aa77aea8f"
      },
      "outputs": [
        {
          "output_type": "stream",
          "name": "stdout",
          "text": [
            "Input shape: (1957, 300, 50)\n"
          ]
        }
      ],
      "source": [
        "print(f\"Input shape: {X_train.shape}\")"
      ]
    },
    {
      "cell_type": "markdown",
      "metadata": {
        "id": "tiDdPTFrkqzp"
      },
      "source": [
        "### 1.4 One-hot encoding of the targets\n",
        "Each POS tag in each set is converted using the one-hot representation"
      ]
    },
    {
      "cell_type": "code",
      "execution_count": 84,
      "metadata": {
        "id": "C37qdVk7kqzq"
      },
      "outputs": [],
      "source": [
        "# initialize the vectorizer for the target tags to convert them into one-hot representation\n",
        "target_vectorizer = TargetVectorizer(300)\n",
        "\n",
        "# adapt the target vectorizer with only the training set: we do not consider possible targets that are not seen in training set but they are in the dev/test set\n",
        "target_vectorizer.adapt(y_train)  \n",
        "\n",
        "# convert the targets into one-hot representation for each splitting set\n",
        "y_train = target_vectorizer.transform(y_train)\n",
        "y_dev = target_vectorizer.transform(y_dev)\n",
        "y_test = target_vectorizer.transform(y_test)\n",
        "\n",
        "n_classes = y_train[0].shape[1]"
      ]
    },
    {
      "cell_type": "code",
      "execution_count": 85,
      "metadata": {
        "id": "qnH7e4okkqzq",
        "colab": {
          "base_uri": "https://localhost:8080/"
        },
        "outputId": "1f50c335-5ef6-47d6-cbd5-de1efa446156"
      },
      "outputs": [
        {
          "output_type": "stream",
          "name": "stdout",
          "text": [
            "Target shape: (1957, 300, 42)\n",
            "Number of classes for one-hot encoded targets: 42\n"
          ]
        }
      ],
      "source": [
        "print(f\"Target shape: {y_train.shape}\")\n",
        "print(f\"Number of classes for one-hot encoded targets: {n_classes}\")"
      ]
    },
    {
      "cell_type": "markdown",
      "metadata": {
        "id": "khILeN7fkqzq"
      },
      "source": [
        "## 2. Training"
      ]
    },
    {
      "cell_type": "markdown",
      "metadata": {
        "id": "GZfQ0dECkqzr"
      },
      "source": [
        "### 2.1 Models definition\n",
        "We are now ready to define our neural network architectures!"
      ]
    },
    {
      "cell_type": "code",
      "execution_count": 70,
      "metadata": {
        "id": "FbI93ctVkqzr",
        "colab": {
          "base_uri": "https://localhost:8080/"
        },
        "outputId": "0b70f7be-92a8-4a3d-eba4-22024f22d8d1"
      },
      "outputs": [
        {
          "output_type": "stream",
          "name": "stdout",
          "text": [
            "Model: \"sequential_3\"\n",
            "_________________________________________________________________\n",
            " Layer (type)                Output Shape              Param #   \n",
            "=================================================================\n",
            " padding_masking (Masking)   (1957, 300, 50)           0         \n",
            "                                                                 \n",
            " bilstm_1 (Bidirectional)    (1957, 300, 128)          58880     \n",
            "                                                                 \n",
            " output (Dense)              (1957, 300, 42)           5418      \n",
            "                                                                 \n",
            "=================================================================\n",
            "Total params: 64,298\n",
            "Trainable params: 64,298\n",
            "Non-trainable params: 0\n",
            "_________________________________________________________________\n"
          ]
        }
      ],
      "source": [
        "def create_model(layers_info, compile_info):\n",
        "    \"\"\"\n",
        "    Create a Keras model given a list of layer information\n",
        "\n",
        "    Parameters\n",
        "    ----------\n",
        "    layers_info : a list of dictionaries, one for each layer\n",
        "    compile_info : dictionary containing compile information\n",
        "\n",
        "    Returns\n",
        "    -------\n",
        "    model: the built keras sequential model\n",
        "    \"\"\"\n",
        "\n",
        "    model = keras.Sequential()\n",
        "    for info in layers_info:\n",
        "        layer = info['layer_name'](**{key: value for key, value in info.items() if key != 'layer_name'})\n",
        "        model.add(layer)\n",
        "\n",
        "    # Compile\n",
        "    model.compile(**compile_info)\n",
        "\n",
        "    return model\n",
        "\n",
        "layers_info = [\n",
        "    {\n",
        "        \"layer_name\": layers.Masking,\n",
        "        \"name\": \"padding_masking\",\n",
        "        \"mask_value\": 0.\n",
        "    },\n",
        "    {\n",
        "        'layer_name': layers.Bidirectional,\n",
        "        \"layer\": layers.LSTM(64, return_sequences=True),\n",
        "        \"name\": \"bilstm_1\",\n",
        "    },\n",
        "    {\n",
        "        \"layer_name\": layers.Dense,\n",
        "        \"units\": n_classes,\n",
        "        \"activation\": \"softmax\",\n",
        "        \"name\": \"output\"\n",
        "    }\n",
        "]\n",
        "\n",
        "compile_info = {\n",
        "    'optimizer': keras.optimizers.Adam(learning_rate=1e-3),\n",
        "    'loss': 'categorical_crossentropy',\n",
        "    'metrics' : [\"accuracy\"]\n",
        "}\n",
        "\n",
        "model = create_model(layers_info, compile_info)\n",
        "model.build(input_shape=X_train.shape)\n",
        "model.summary()"
      ]
    },
    {
      "cell_type": "markdown",
      "metadata": {
        "id": "kWdZM3rskqzr"
      },
      "source": [
        "### 2.2 Model training"
      ]
    },
    {
      "cell_type": "code",
      "execution_count": 86,
      "metadata": {
        "id": "mG4rYoHDmHtO",
        "colab": {
          "base_uri": "https://localhost:8080/",
          "height": 381
        },
        "outputId": "041b5b3a-e6b1-415a-c760-086f36f390de"
      },
      "outputs": [
        {
          "output_type": "stream",
          "name": "stdout",
          "text": [
            "Epoch 1/20\n",
            "127/164 [======================>.......] - ETA: 1s - loss: 0.2003 - accuracy: 0.3641"
          ]
        },
        {
          "output_type": "error",
          "ename": "KeyboardInterrupt",
          "evalue": "ignored",
          "traceback": [
            "\u001b[0;31m---------------------------------------------------------------------------\u001b[0m",
            "\u001b[0;31mKeyboardInterrupt\u001b[0m                         Traceback (most recent call last)",
            "\u001b[0;32m<ipython-input-86-272917c7c9d0>\u001b[0m in \u001b[0;36m<module>\u001b[0;34m()\u001b[0m\n\u001b[0;32m----> 1\u001b[0;31m \u001b[0mhistory_bilstm\u001b[0m \u001b[0;34m=\u001b[0m \u001b[0mmodel\u001b[0m\u001b[0;34m.\u001b[0m\u001b[0mfit\u001b[0m\u001b[0;34m(\u001b[0m\u001b[0mX_train\u001b[0m\u001b[0;34m,\u001b[0m \u001b[0my_train\u001b[0m\u001b[0;34m,\u001b[0m \u001b[0mepochs\u001b[0m\u001b[0;34m=\u001b[0m\u001b[0;36m20\u001b[0m\u001b[0;34m,\u001b[0m \u001b[0mbatch_size\u001b[0m\u001b[0;34m=\u001b[0m\u001b[0;36m12\u001b[0m\u001b[0;34m,\u001b[0m \u001b[0mvalidation_data\u001b[0m\u001b[0;34m=\u001b[0m\u001b[0;34m(\u001b[0m\u001b[0mX_dev\u001b[0m\u001b[0;34m,\u001b[0m \u001b[0my_dev\u001b[0m\u001b[0;34m)\u001b[0m\u001b[0;34m)\u001b[0m\u001b[0;34m\u001b[0m\u001b[0;34m\u001b[0m\u001b[0m\n\u001b[0m",
            "\u001b[0;32m/usr/local/lib/python3.7/dist-packages/keras/utils/traceback_utils.py\u001b[0m in \u001b[0;36merror_handler\u001b[0;34m(*args, **kwargs)\u001b[0m\n\u001b[1;32m     62\u001b[0m     \u001b[0mfiltered_tb\u001b[0m \u001b[0;34m=\u001b[0m \u001b[0;32mNone\u001b[0m\u001b[0;34m\u001b[0m\u001b[0;34m\u001b[0m\u001b[0m\n\u001b[1;32m     63\u001b[0m     \u001b[0;32mtry\u001b[0m\u001b[0;34m:\u001b[0m\u001b[0;34m\u001b[0m\u001b[0;34m\u001b[0m\u001b[0m\n\u001b[0;32m---> 64\u001b[0;31m       \u001b[0;32mreturn\u001b[0m \u001b[0mfn\u001b[0m\u001b[0;34m(\u001b[0m\u001b[0;34m*\u001b[0m\u001b[0margs\u001b[0m\u001b[0;34m,\u001b[0m \u001b[0;34m**\u001b[0m\u001b[0mkwargs\u001b[0m\u001b[0;34m)\u001b[0m\u001b[0;34m\u001b[0m\u001b[0;34m\u001b[0m\u001b[0m\n\u001b[0m\u001b[1;32m     65\u001b[0m     \u001b[0;32mexcept\u001b[0m \u001b[0mException\u001b[0m \u001b[0;32mas\u001b[0m \u001b[0me\u001b[0m\u001b[0;34m:\u001b[0m  \u001b[0;31m# pylint: disable=broad-except\u001b[0m\u001b[0;34m\u001b[0m\u001b[0;34m\u001b[0m\u001b[0m\n\u001b[1;32m     66\u001b[0m       \u001b[0mfiltered_tb\u001b[0m \u001b[0;34m=\u001b[0m \u001b[0m_process_traceback_frames\u001b[0m\u001b[0;34m(\u001b[0m\u001b[0me\u001b[0m\u001b[0;34m.\u001b[0m\u001b[0m__traceback__\u001b[0m\u001b[0;34m)\u001b[0m\u001b[0;34m\u001b[0m\u001b[0;34m\u001b[0m\u001b[0m\n",
            "\u001b[0;32m/usr/local/lib/python3.7/dist-packages/keras/engine/training.py\u001b[0m in \u001b[0;36mfit\u001b[0;34m(self, x, y, batch_size, epochs, verbose, callbacks, validation_split, validation_data, shuffle, class_weight, sample_weight, initial_epoch, steps_per_epoch, validation_steps, validation_batch_size, validation_freq, max_queue_size, workers, use_multiprocessing)\u001b[0m\n\u001b[1;32m   1382\u001b[0m                 _r=1):\n\u001b[1;32m   1383\u001b[0m               \u001b[0mcallbacks\u001b[0m\u001b[0;34m.\u001b[0m\u001b[0mon_train_batch_begin\u001b[0m\u001b[0;34m(\u001b[0m\u001b[0mstep\u001b[0m\u001b[0;34m)\u001b[0m\u001b[0;34m\u001b[0m\u001b[0;34m\u001b[0m\u001b[0m\n\u001b[0;32m-> 1384\u001b[0;31m               \u001b[0mtmp_logs\u001b[0m \u001b[0;34m=\u001b[0m \u001b[0mself\u001b[0m\u001b[0;34m.\u001b[0m\u001b[0mtrain_function\u001b[0m\u001b[0;34m(\u001b[0m\u001b[0miterator\u001b[0m\u001b[0;34m)\u001b[0m\u001b[0;34m\u001b[0m\u001b[0;34m\u001b[0m\u001b[0m\n\u001b[0m\u001b[1;32m   1385\u001b[0m               \u001b[0;32mif\u001b[0m \u001b[0mdata_handler\u001b[0m\u001b[0;34m.\u001b[0m\u001b[0mshould_sync\u001b[0m\u001b[0;34m:\u001b[0m\u001b[0;34m\u001b[0m\u001b[0;34m\u001b[0m\u001b[0m\n\u001b[1;32m   1386\u001b[0m                 \u001b[0mcontext\u001b[0m\u001b[0;34m.\u001b[0m\u001b[0masync_wait\u001b[0m\u001b[0;34m(\u001b[0m\u001b[0;34m)\u001b[0m\u001b[0;34m\u001b[0m\u001b[0;34m\u001b[0m\u001b[0m\n",
            "\u001b[0;32m/usr/local/lib/python3.7/dist-packages/tensorflow/python/util/traceback_utils.py\u001b[0m in \u001b[0;36merror_handler\u001b[0;34m(*args, **kwargs)\u001b[0m\n\u001b[1;32m    148\u001b[0m     \u001b[0mfiltered_tb\u001b[0m \u001b[0;34m=\u001b[0m \u001b[0;32mNone\u001b[0m\u001b[0;34m\u001b[0m\u001b[0;34m\u001b[0m\u001b[0m\n\u001b[1;32m    149\u001b[0m     \u001b[0;32mtry\u001b[0m\u001b[0;34m:\u001b[0m\u001b[0;34m\u001b[0m\u001b[0;34m\u001b[0m\u001b[0m\n\u001b[0;32m--> 150\u001b[0;31m       \u001b[0;32mreturn\u001b[0m \u001b[0mfn\u001b[0m\u001b[0;34m(\u001b[0m\u001b[0;34m*\u001b[0m\u001b[0margs\u001b[0m\u001b[0;34m,\u001b[0m \u001b[0;34m**\u001b[0m\u001b[0mkwargs\u001b[0m\u001b[0;34m)\u001b[0m\u001b[0;34m\u001b[0m\u001b[0;34m\u001b[0m\u001b[0m\n\u001b[0m\u001b[1;32m    151\u001b[0m     \u001b[0;32mexcept\u001b[0m \u001b[0mException\u001b[0m \u001b[0;32mas\u001b[0m \u001b[0me\u001b[0m\u001b[0;34m:\u001b[0m\u001b[0;34m\u001b[0m\u001b[0;34m\u001b[0m\u001b[0m\n\u001b[1;32m    152\u001b[0m       \u001b[0mfiltered_tb\u001b[0m \u001b[0;34m=\u001b[0m \u001b[0m_process_traceback_frames\u001b[0m\u001b[0;34m(\u001b[0m\u001b[0me\u001b[0m\u001b[0;34m.\u001b[0m\u001b[0m__traceback__\u001b[0m\u001b[0;34m)\u001b[0m\u001b[0;34m\u001b[0m\u001b[0;34m\u001b[0m\u001b[0m\n",
            "\u001b[0;32m/usr/local/lib/python3.7/dist-packages/tensorflow/python/eager/def_function.py\u001b[0m in \u001b[0;36m__call__\u001b[0;34m(self, *args, **kwds)\u001b[0m\n\u001b[1;32m    913\u001b[0m \u001b[0;34m\u001b[0m\u001b[0m\n\u001b[1;32m    914\u001b[0m       \u001b[0;32mwith\u001b[0m \u001b[0mOptionalXlaContext\u001b[0m\u001b[0;34m(\u001b[0m\u001b[0mself\u001b[0m\u001b[0;34m.\u001b[0m\u001b[0m_jit_compile\u001b[0m\u001b[0;34m)\u001b[0m\u001b[0;34m:\u001b[0m\u001b[0;34m\u001b[0m\u001b[0;34m\u001b[0m\u001b[0m\n\u001b[0;32m--> 915\u001b[0;31m         \u001b[0mresult\u001b[0m \u001b[0;34m=\u001b[0m \u001b[0mself\u001b[0m\u001b[0;34m.\u001b[0m\u001b[0m_call\u001b[0m\u001b[0;34m(\u001b[0m\u001b[0;34m*\u001b[0m\u001b[0margs\u001b[0m\u001b[0;34m,\u001b[0m \u001b[0;34m**\u001b[0m\u001b[0mkwds\u001b[0m\u001b[0;34m)\u001b[0m\u001b[0;34m\u001b[0m\u001b[0;34m\u001b[0m\u001b[0m\n\u001b[0m\u001b[1;32m    916\u001b[0m \u001b[0;34m\u001b[0m\u001b[0m\n\u001b[1;32m    917\u001b[0m       \u001b[0mnew_tracing_count\u001b[0m \u001b[0;34m=\u001b[0m \u001b[0mself\u001b[0m\u001b[0;34m.\u001b[0m\u001b[0mexperimental_get_tracing_count\u001b[0m\u001b[0;34m(\u001b[0m\u001b[0;34m)\u001b[0m\u001b[0;34m\u001b[0m\u001b[0;34m\u001b[0m\u001b[0m\n",
            "\u001b[0;32m/usr/local/lib/python3.7/dist-packages/tensorflow/python/eager/def_function.py\u001b[0m in \u001b[0;36m_call\u001b[0;34m(self, *args, **kwds)\u001b[0m\n\u001b[1;32m    945\u001b[0m       \u001b[0;31m# In this case we have created variables on the first call, so we run the\u001b[0m\u001b[0;34m\u001b[0m\u001b[0;34m\u001b[0m\u001b[0;34m\u001b[0m\u001b[0m\n\u001b[1;32m    946\u001b[0m       \u001b[0;31m# defunned version which is guaranteed to never create variables.\u001b[0m\u001b[0;34m\u001b[0m\u001b[0;34m\u001b[0m\u001b[0;34m\u001b[0m\u001b[0m\n\u001b[0;32m--> 947\u001b[0;31m       \u001b[0;32mreturn\u001b[0m \u001b[0mself\u001b[0m\u001b[0;34m.\u001b[0m\u001b[0m_stateless_fn\u001b[0m\u001b[0;34m(\u001b[0m\u001b[0;34m*\u001b[0m\u001b[0margs\u001b[0m\u001b[0;34m,\u001b[0m \u001b[0;34m**\u001b[0m\u001b[0mkwds\u001b[0m\u001b[0;34m)\u001b[0m  \u001b[0;31m# pylint: disable=not-callable\u001b[0m\u001b[0;34m\u001b[0m\u001b[0;34m\u001b[0m\u001b[0m\n\u001b[0m\u001b[1;32m    948\u001b[0m     \u001b[0;32melif\u001b[0m \u001b[0mself\u001b[0m\u001b[0;34m.\u001b[0m\u001b[0m_stateful_fn\u001b[0m \u001b[0;32mis\u001b[0m \u001b[0;32mnot\u001b[0m \u001b[0;32mNone\u001b[0m\u001b[0;34m:\u001b[0m\u001b[0;34m\u001b[0m\u001b[0;34m\u001b[0m\u001b[0m\n\u001b[1;32m    949\u001b[0m       \u001b[0;31m# Release the lock early so that multiple threads can perform the call\u001b[0m\u001b[0;34m\u001b[0m\u001b[0;34m\u001b[0m\u001b[0;34m\u001b[0m\u001b[0m\n",
            "\u001b[0;32m/usr/local/lib/python3.7/dist-packages/tensorflow/python/eager/function.py\u001b[0m in \u001b[0;36m__call__\u001b[0;34m(self, *args, **kwargs)\u001b[0m\n\u001b[1;32m   2955\u001b[0m        filtered_flat_args) = self._maybe_define_function(args, kwargs)\n\u001b[1;32m   2956\u001b[0m     return graph_function._call_flat(\n\u001b[0;32m-> 2957\u001b[0;31m         filtered_flat_args, captured_inputs=graph_function.captured_inputs)  # pylint: disable=protected-access\n\u001b[0m\u001b[1;32m   2958\u001b[0m \u001b[0;34m\u001b[0m\u001b[0m\n\u001b[1;32m   2959\u001b[0m   \u001b[0;34m@\u001b[0m\u001b[0mproperty\u001b[0m\u001b[0;34m\u001b[0m\u001b[0;34m\u001b[0m\u001b[0m\n",
            "\u001b[0;32m/usr/local/lib/python3.7/dist-packages/tensorflow/python/eager/function.py\u001b[0m in \u001b[0;36m_call_flat\u001b[0;34m(self, args, captured_inputs, cancellation_manager)\u001b[0m\n\u001b[1;32m   1852\u001b[0m       \u001b[0;31m# No tape is watching; skip to running the function.\u001b[0m\u001b[0;34m\u001b[0m\u001b[0;34m\u001b[0m\u001b[0;34m\u001b[0m\u001b[0m\n\u001b[1;32m   1853\u001b[0m       return self._build_call_outputs(self._inference_function.call(\n\u001b[0;32m-> 1854\u001b[0;31m           ctx, args, cancellation_manager=cancellation_manager))\n\u001b[0m\u001b[1;32m   1855\u001b[0m     forward_backward = self._select_forward_and_backward_functions(\n\u001b[1;32m   1856\u001b[0m         \u001b[0margs\u001b[0m\u001b[0;34m,\u001b[0m\u001b[0;34m\u001b[0m\u001b[0;34m\u001b[0m\u001b[0m\n",
            "\u001b[0;32m/usr/local/lib/python3.7/dist-packages/tensorflow/python/eager/function.py\u001b[0m in \u001b[0;36mcall\u001b[0;34m(self, ctx, args, cancellation_manager)\u001b[0m\n\u001b[1;32m    502\u001b[0m               \u001b[0minputs\u001b[0m\u001b[0;34m=\u001b[0m\u001b[0margs\u001b[0m\u001b[0;34m,\u001b[0m\u001b[0;34m\u001b[0m\u001b[0;34m\u001b[0m\u001b[0m\n\u001b[1;32m    503\u001b[0m               \u001b[0mattrs\u001b[0m\u001b[0;34m=\u001b[0m\u001b[0mattrs\u001b[0m\u001b[0;34m,\u001b[0m\u001b[0;34m\u001b[0m\u001b[0;34m\u001b[0m\u001b[0m\n\u001b[0;32m--> 504\u001b[0;31m               ctx=ctx)\n\u001b[0m\u001b[1;32m    505\u001b[0m         \u001b[0;32melse\u001b[0m\u001b[0;34m:\u001b[0m\u001b[0;34m\u001b[0m\u001b[0;34m\u001b[0m\u001b[0m\n\u001b[1;32m    506\u001b[0m           outputs = execute.execute_with_cancellation(\n",
            "\u001b[0;32m/usr/local/lib/python3.7/dist-packages/tensorflow/python/eager/execute.py\u001b[0m in \u001b[0;36mquick_execute\u001b[0;34m(op_name, num_outputs, inputs, attrs, ctx, name)\u001b[0m\n\u001b[1;32m     53\u001b[0m     \u001b[0mctx\u001b[0m\u001b[0;34m.\u001b[0m\u001b[0mensure_initialized\u001b[0m\u001b[0;34m(\u001b[0m\u001b[0;34m)\u001b[0m\u001b[0;34m\u001b[0m\u001b[0;34m\u001b[0m\u001b[0m\n\u001b[1;32m     54\u001b[0m     tensors = pywrap_tfe.TFE_Py_Execute(ctx._handle, device_name, op_name,\n\u001b[0;32m---> 55\u001b[0;31m                                         inputs, attrs, num_outputs)\n\u001b[0m\u001b[1;32m     56\u001b[0m   \u001b[0;32mexcept\u001b[0m \u001b[0mcore\u001b[0m\u001b[0;34m.\u001b[0m\u001b[0m_NotOkStatusException\u001b[0m \u001b[0;32mas\u001b[0m \u001b[0me\u001b[0m\u001b[0;34m:\u001b[0m\u001b[0;34m\u001b[0m\u001b[0;34m\u001b[0m\u001b[0m\n\u001b[1;32m     57\u001b[0m     \u001b[0;32mif\u001b[0m \u001b[0mname\u001b[0m \u001b[0;32mis\u001b[0m \u001b[0;32mnot\u001b[0m \u001b[0;32mNone\u001b[0m\u001b[0;34m:\u001b[0m\u001b[0;34m\u001b[0m\u001b[0;34m\u001b[0m\u001b[0m\n",
            "\u001b[0;31mKeyboardInterrupt\u001b[0m: "
          ]
        }
      ],
      "source": [
        "history_bilstm = model.fit(X_train, y_train, epochs=20, batch_size=12, validation_data=(X_dev, y_dev))"
      ]
    },
    {
      "cell_type": "markdown",
      "metadata": {
        "id": "ab9ETsbC2Q82"
      },
      "source": [
        "### 2.3 History of the training\n",
        "Plot metrics evolution for each epoch during the training"
      ]
    },
    {
      "cell_type": "code",
      "execution_count": null,
      "metadata": {
        "id": "25YBLK3E2R6m"
      },
      "outputs": [],
      "source": [
        "def plot_history(models_history, keys, model_names=[], labels=(\"epochs\", \"metrics\"), figsize=(10,5), cmap='rainbow'):\n",
        "    \"\"\"\n",
        "    Plot the history of the metrics in the history dictionary for each model.\n",
        "        :param models_history: array of dictionary of the metric history for each model\n",
        "        :param keys: list of keys of the metrics to plot\n",
        "        :param model_names: list of names of the models\n",
        "        :param labels: list of labels of the axes\n",
        "        :param figsize: size of the figure\n",
        "        :param cmap: color map used for the plot\n",
        "    \"\"\"\n",
        "\n",
        "    # maps each model to a distinct RGB color\n",
        "    cmap = plt.cm.get_cmap(cmap, len(models_history))\n",
        "\n",
        "    \n",
        "    fig = plt.figure(figsize=figsize)\n",
        "\n",
        "    # for each model trained\n",
        "    for i, history in enumerate(models_history):\n",
        "        # take all pairs of training and val metrics\n",
        "        for j in range(0, len(keys), 2):\n",
        "            metric, val_metric = keys[j], keys[j+1]\n",
        "            \n",
        "            plt.plot(history[metric], label=f\"{model_names[i]} {metric}\", linestyle=\"solid\", color=cmap(i))\n",
        "            plt.plot(history[val_metric],  label=f\"{model_names[i]} {val_metric}\", linestyle=\"--\",  color=cmap(i))\n",
        "        \n",
        "    plt.xlabel(labels[0])\n",
        "    plt.ylabel(labels[1])\n",
        "\n",
        "    # Adding legend\n",
        "    plt.legend(\n",
        "          title =\"Legend\",\n",
        "          loc =\"upper left\",\n",
        "          bbox_to_anchor =(1.0, 0, 0.5, 1))\n",
        "    plt.title(\"Training history\")\n",
        "    plt.grid(linestyle='--', linewidth=1)\n",
        "    plt.show()"
      ]
    },
    {
      "cell_type": "code",
      "execution_count": null,
      "metadata": {
        "id": "Ca9TMoj42VgT"
      },
      "outputs": [],
      "source": [
        "models_history = [history_bilstm.history]\n",
        "model_names = [\"BiLSTM\"]\n",
        "plot_history(models_history, keys=['loss', 'val_loss'], model_names=model_names, labels=(\"epochs\", \"loss\"), figsize=(15,7))\n",
        "plot_history(models_history, keys=['accuracy', 'val_accuracy'], model_names=model_names, labels=(\"epochs\", \"accuracy\"), figsize=(15,7))"
      ]
    },
    {
      "cell_type": "markdown",
      "metadata": {
        "id": "ZmIWLatvkqzt"
      },
      "source": [
        "## 3. Evaluation"
      ]
    },
    {
      "cell_type": "code",
      "execution_count": null,
      "metadata": {
        "id": "Q71LkwAPkqzt"
      },
      "outputs": [],
      "source": [
        "def evaluate_model(model, X_test, y_test, labels):\n",
        "    \"\"\"\n",
        "    given a trained model and a test set returns the f-score and the confusion matrix\n",
        "    taking into account only classes in labels\n",
        "    \"\"\"\n",
        "    raw_y_true = np.array(y_test)\n",
        "    raw_y_pred = model.predict(X_test)\n",
        "    # shape of the output is doc x len_sen x classes\n",
        "    # argmax for label predictions\n",
        "    len_sentence = raw_y_pred.shape[1]\n",
        "    num_sentences = raw_y_pred.shape[0]\n",
        "    y_pred = np.empty((num_sentences, len_sentence))\n",
        "    y_true = np.empty((num_sentences, len_sentence))\n",
        "    # assign label with the highest probability\n",
        "    for i in range(num_sentences):\n",
        "        for j in range(len_sentence):\n",
        "            y_pred[i,j] = np.argmax(raw_y_pred[i,j,:])\n",
        "            y_true[i,j] = np.argmax(raw_y_true[i,j,:])\n",
        "    # flatten the numpy array to have a 1D array\n",
        "    y_true = y_true.flatten()\n",
        "    y_pred = y_pred.flatten()\n",
        "    # show confusion matrix\n",
        "    conf_matrix = confusion_matrix(y_true, y_pred, labels=labels)\n",
        "    disp = ConfusionMatrixDisplay(conf_matrix)\n",
        "    disp.plot()\n",
        "    plt.show()\n",
        "    # f1 score\n",
        "    print(\"F score:\\n-------------------------------\\n\")\n",
        "    print(f1_score(y_true, y_pred, labels=labels, average='macro'))"
      ]
    },
    {
      "cell_type": "code",
      "execution_count": null,
      "metadata": {
        "id": "ua2c1KdCkqzt"
      },
      "outputs": [],
      "source": [
        "punctuation_indexes = [0, 1, 2, 3, 4, 5, 6, 16, 30, 43]\n",
        "classes = target_vectorizer.get_classes()\n",
        "valid_labels = list(set(range(len(classes))) - set(punctuation_indexes))\n",
        "evaluate_model(model, X_test, y_test, valid_labels)"
      ]
    },
    {
      "cell_type": "code",
      "execution_count": null,
      "metadata": {
        "id": "sFaG0yb4kqzu"
      },
      "outputs": [],
      "source": [
        "i_test = 0  # change this to see the prediction for a different sentence\n",
        "\n",
        "print(\"Original POS tagging: \",target_vectorizer.inverse_transform([y_test[i_test]])[0])\n",
        "\n",
        "raw_y_pred = model.predict(np.array([X_test[i_test]]))\n",
        "# shape of the output is doc x len_sen x classes\n",
        "# argmax for label predictions\n",
        "n_class =  raw_y_pred.shape[2]\n",
        "len_sentence = raw_y_pred.shape[1]\n",
        "num_sentences = raw_y_pred.shape[0]\n",
        "\n",
        "# assign label with the highest probability\n",
        "y_pred = np.array([[1 if raw_y_pred[0,i,j] == max(raw_y_pred[0,i,:]) else 0 for j in range(n_class)] for i in range(len_sentence) ])\n",
        "print(\"Predicted POS tagging: \",target_vectorizer.inverse_transform([y_pred])[0])"
      ]
    }
  ],
  "metadata": {
    "accelerator": "GPU",
    "colab": {
      "collapsed_sections": [],
      "name": "Copy of POS_tagging.ipynb",
      "provenance": [],
      "include_colab_link": true
    },
    "interpreter": {
      "hash": "63e28586807c6502c782d898cf9a0cc5787bb3d77952b17b51ec8bdcd4044a3d"
    },
    "kernelspec": {
      "display_name": "Python 3",
      "language": "python",
      "name": "python3"
    },
    "language_info": {
      "codemirror_mode": {
        "name": "ipython",
        "version": 3
      },
      "file_extension": ".py",
      "mimetype": "text/x-python",
      "name": "python",
      "nbconvert_exporter": "python",
      "pygments_lexer": "ipython3",
      "version": "3.9.7"
    }
  },
  "nbformat": 4,
  "nbformat_minor": 0
}
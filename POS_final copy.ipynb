{
  "cells": [
    {
      "cell_type": "markdown",
      "metadata": {
        "colab_type": "text",
        "id": "view-in-github"
      },
      "source": [
        "<a href=\"https://colab.research.google.com/github/TheOnesThatWereAbroad/Assignment1/blob/main/POS_tagging.ipynb\" target=\"_parent\"><img src=\"https://colab.research.google.com/assets/colab-badge.svg\" alt=\"Open In Colab\"/></a>"
      ]
    },
    {
      "cell_type": "markdown",
      "metadata": {
        "id": "tc8x9pA00Sfd"
      },
      "source": [
        "# Assignment 1 - POS tagging"
      ]
    },
    {
      "cell_type": "code",
      "execution_count": 44,
      "metadata": {
        "id": "jHhrkDf2kqzg"
      },
      "outputs": [],
      "source": [
        "import os\n",
        "import numpy as np\n",
        "import matplotlib.pyplot as plt\n",
        "import pandas as pd\n",
        "\n",
        "import tensorflow as tf\n",
        "from tensorflow import keras\n",
        "from tensorflow.keras import layers\n",
        "import tensorflow.keras.backend as K\n",
        "import keras_tuner as kt\n",
        "from sklearn.metrics import confusion_matrix, ConfusionMatrixDisplay, f1_score\n",
        "\n",
        "from data_input import DataInput\n",
        "from text_vectorizer import TextVectorizer, TargetVectorizer"
      ]
    },
    {
      "cell_type": "markdown",
      "metadata": {
        "id": "jx2qo48Ikqzi"
      },
      "source": [
        "## 1. Build a dataset"
      ]
    },
    {
      "cell_type": "markdown",
      "metadata": {
        "id": "IN34sX55kqzi"
      },
      "source": [
        "### 1.1 Dataset preparation\n",
        "For this experiment, the [Dependency Parsed Treebank](https://www.nltk.org/nltk_data/) dataset is used.\n",
        "Notice that each document is slitted into sentences, so the dimensionality of the data is more than 199 (total number of documents in the dataset)"
      ]
    },
    {
      "cell_type": "code",
      "execution_count": 2,
      "metadata": {
        "colab": {
          "base_uri": "https://localhost:8080/"
        },
        "id": "eRQ_hwv9mHtK",
        "outputId": "0febf6c3-6ff8-43fd-d96d-79b88bee09b4"
      },
      "outputs": [
        {
          "name": "stdout",
          "output_type": "stream",
          "text": [
            "Train set size: 1957\n",
            "Dev set size: 979\n",
            "Test set size: 978\n"
          ]
        }
      ],
      "source": [
        "# download the dataset and split it into train, dev and test sets\n",
        "dataset = DataInput(\n",
        "        data_url=\"https://raw.githubusercontent.com/nltk/nltk_data/gh-pages/packages/corpora/dependency_treebank.zip\",\n",
        "        train_size=0.50,\n",
        "        dev_size=0.25,\n",
        "        dataset_folder=os.path.join(os.getcwd(), \"dataset\"),\n",
        "        split_into_sentences=True,\n",
        "        shuffle=False\n",
        "    )"
      ]
    },
    {
      "cell_type": "markdown",
      "metadata": {
        "id": "SGQatFzWkqzk"
      },
      "source": [
        "Pre-processing is always an important step with which start. There are a lot of pre-processing steps that we can consider, but for this experiment the only pre-processing operation performed is:\n",
        "- **to lower**, in part-of-speech tagging scenario casing of the input tokens is crucial to find the correspondent token in the embedding vocabulary"
      ]
    },
    {
      "cell_type": "code",
      "execution_count": 12,
      "metadata": {
        "id": "YbVR94oskqzk"
      },
      "outputs": [],
      "source": [
        "# do preprocessing for train, validation and test sets\n",
        "dataset.preprocessing(\"train\", to_lower=True)\n",
        "dataset.preprocessing(\"dev\", to_lower=True)\n",
        "dataset.preprocessing(\"test\", to_lower=True)\n",
        "\n",
        "# separate inputs and targets\n",
        "X_train, y_train = dataset.train\n",
        "X_dev, y_dev = dataset.dev\n",
        "X_test, y_test = dataset.test"
      ]
    },
    {
      "cell_type": "code",
      "execution_count": 13,
      "metadata": {
        "colab": {
          "base_uri": "https://localhost:8080/"
        },
        "id": "lxfgDx0jrnqV",
        "outputId": "21f2b3a5-7ac1-4f6d-d6d2-39a681a5d0b7"
      },
      "outputs": [
        {
          "data": {
            "text/plain": [
              "(1957,)"
            ]
          },
          "execution_count": 13,
          "metadata": {},
          "output_type": "execute_result"
        }
      ],
      "source": [
        "dataset.train[0].shape"
      ]
    },
    {
      "cell_type": "markdown",
      "metadata": {
        "id": "IPv-M1xEmHtM"
      },
      "source": [
        "### 1.2 Dataset analysis\n",
        "Let's take a look at the dataset, to inspect the distribution of the POS tags"
      ]
    },
    {
      "cell_type": "code",
      "execution_count": 14,
      "metadata": {
        "id": "Oh9Jg3ePkqzm"
      },
      "outputs": [],
      "source": [
        "def get_occurences(data, ordered=False, exclude=[]):\n",
        "    \"\"\"\n",
        "    Get the occurences of each token in the data.\n",
        "\n",
        "    Parameters\n",
        "    ----------\n",
        "    data : list of np arrays, representing the data to get the occurences from\n",
        "    ordered : bool, if True, the occurences will be returned in descending order\n",
        "    exclude : list of strings, tokens that should not be included in the occurences\n",
        "\n",
        "    Returns\n",
        "    -------\n",
        "    occurences : dict, mapping each token to the number of occurences\n",
        "    \"\"\"\n",
        "    tokens, counts = np.unique(np.concatenate(data), return_counts=True)\n",
        "    occurences = dict(zip(tokens, counts))\n",
        "\n",
        "    if len(exclude) > 0:\n",
        "        for token in exclude:\n",
        "            if token in occurences:\n",
        "                del occurences[token]\n",
        "\n",
        "    if ordered:\n",
        "        occurences = dict(sorted(occurences.items(), key=lambda x: x[1], reverse=True))\n",
        "    return occurences\n",
        "\n",
        "# get the occurences of each POS tag in the three sets \n",
        "train_tags_occ = get_occurences(y_train, ordered=True, exclude=[])\n",
        "dev_tags_occ = get_occurences(y_dev, exclude=[])\n",
        "test_tags_occ = get_occurences(y_test, exclude=[])\n",
        "\n",
        "# build a matrix of the occurences of size (n_tags, 3)\n",
        "tags_occ = np.array([[v, dev_tags_occ[k], test_tags_occ[k]] if k in dev_tags_occ and k in test_tags_occ else [v, dev_tags_occ[k], 0] if k in dev_tags_occ else [v, 0, test_tags_occ[k]] if k in test_tags_occ else [v, 0, 0] for k, v in train_tags_occ.items()])"
      ]
    },
    {
      "cell_type": "code",
      "execution_count": 15,
      "metadata": {
        "colab": {
          "base_uri": "https://localhost:8080/",
          "height": 339
        },
        "id": "aZh5QAJIkqzn",
        "outputId": "ace7cf2d-8066-446f-9bcf-e1c5e7dd5b94"
      },
      "outputs": [
        {
          "data": {
            "text/plain": [
              "[]"
            ]
          },
          "execution_count": 15,
          "metadata": {},
          "output_type": "execute_result"
        },
        {
          "data": {
            "image/png": "[encoded data removed]",
            "text/plain": [
              "<Figure size 1656x576 with 1 Axes>"
            ]
          },
          "metadata": {
            "needs_background": "light"
          },
          "output_type": "display_data"
        }
      ],
      "source": [
        "# plot bar chart of the occurences of each POS tag\n",
        "fig, ax = plt.subplots(1, 1, figsize=(23, 8))\n",
        "tags = list(train_tags_occ.keys())\n",
        "ax.bar(tags, tags_occ[:, 1], width=0.3, align='edge', label='dev')\n",
        "ax.bar(tags, tags_occ[:, 2], width=-0.6, align='edge', label='test')\n",
        "ax.bar(tags, tags_occ[:, 0], width=-0.3, align='edge', label='train')\n",
        "ax.set_xticks(tags)\n",
        "ax.set_xlabel('Tags')\n",
        "ax.set_ylabel('Occurences')\n",
        "ax.set_title(\"Occurences of POS tags\")\n",
        "ax.legend()\n",
        "plt.plot()"
      ]
    },
    {
      "cell_type": "code",
      "execution_count": 16,
      "metadata": {
        "colab": {
          "base_uri": "https://localhost:8080/"
        },
        "id": "QYCqD_Zpkqzo",
        "outputId": "96986378-9d75-4f9e-b123-4205d37f49ed"
      },
      "outputs": [
        {
          "name": "stdout",
          "output_type": "stream",
          "text": [
            "The following tags (from the train set) are not in the dev set: {'SYM'}\n",
            "The following tags (from the train set) are not in the test set: {'UH', 'SYM', 'FW', 'LS'}\n"
          ]
        }
      ],
      "source": [
        "# analyze the difference between the presence of the POS tags in the train, dev and test sets\n",
        "train_tags_not_dev = set(train_tags_occ.keys()) - set(dev_tags_occ.keys())\n",
        "train_tags_not_test = set(train_tags_occ.keys()) - set(test_tags_occ.keys())\n",
        "dev_tags_not_train = set(dev_tags_occ.keys()) - set(train_tags_occ.keys())\n",
        "test_tags_not_train = set(test_tags_occ.keys()) - set(train_tags_occ.keys())\n",
        "\n",
        "if(len(train_tags_not_dev) > 0):\n",
        "    print(\"The following tags (from the train set) are not in the dev set:\", train_tags_not_dev)\n",
        "if(len(train_tags_not_test) > 0):\n",
        "    print(\"The following tags (from the train set) are not in the test set:\", train_tags_not_test)\n",
        "if(len(dev_tags_not_train) > 0):\n",
        "    print(\"The following tags (from the dev set) are not in the train set:\", dev_tags_not_train)\n",
        "if(len(test_tags_not_train) > 0):\n",
        "    print(\"The following tags (from the test set) are not in the train set:\", test_tags_not_train)"
      ]
    },
    {
      "cell_type": "markdown",
      "metadata": {
        "id": "mkIYSNxukqzo"
      },
      "source": [
        "### 1.3 GloVe embeddings vectorization\n",
        "The next step consists in downloading a pre-trained embedding model, namely GloVe. It is a techniques that tries to encoded global semantic properties based on the co-occurrence matrix.\n",
        "Three different dimensional space versions are available: 50, 100, 200.\n",
        "\n",
        "From the choosen embedding, a starting vocabulary is built.\n",
        "Then this vocabulary is enriched with the embeddings computed for the OOV words."
      ]
    },
    {
      "cell_type": "code",
      "execution_count": 17,
      "metadata": {
        "colab": {
          "base_uri": "https://localhost:8080/"
        },
        "id": "MxU2LR1Bkqzp",
        "outputId": "bd61af6e-d75a-4ba9-8313-5f50379df756"
      },
      "outputs": [
        {
          "name": "stdout",
          "output_type": "stream",
          "text": [
            "Parsing the training set...\n",
            "Generated embeddings for 358 OOV words.\n",
            "\n",
            "Parsing the validation set...\n",
            "Generated embeddings for 131 OOV words.\n",
            "\n",
            "Parsing the test set...\n",
            "Generated embeddings for 187 OOV words.\n"
          ]
        }
      ],
      "source": [
        "# initialize the vectorizer for the input tokens to convert them to embedding vectors\n",
        "# and build the vocabulary V1 from the glove embeddings\n",
        "text_vectorizer = TextVectorizer(\n",
        "    glove_url=\"http://nlp.stanford.edu/data/glove.6B.zip\",\n",
        "    max_tokens=20000,\n",
        "    embedding_dim=200,\n",
        "    embedding_folder=os.path.join(os.getcwd(), \"glove\"),\n",
        "    max_size=dataset.max_size\n",
        ")\n",
        "\n",
        "# compute embeddings for terms (OOV1) in the training set that are out of vocabulary V1 and add them: V2=V1+OOV1\n",
        "print(\"Parsing the training set...\")\n",
        "text_vectorizer.adapt(X_train)\n",
        "# use the vocabulary V2 to convert the training set inputs into embedding vectors\n",
        "X_train = text_vectorizer.transform(X_train)\n",
        "\n",
        "# compute embeddings for terms (OOV2) in the validation set that are out of vocabulary V2 and add them: V3=V2+OOV2\n",
        "print(\"\\nParsing the validation set...\")\n",
        "text_vectorizer.adapt(X_dev)\n",
        "# use the vocabulary V3 to convert the validation set inputs into embedding vectors\n",
        "X_dev = text_vectorizer.transform(X_dev)\n",
        "\n",
        "# compute embeddings for terms (OOV3) in the test set that are out of vocabulary V3 and add them: V4=V3+OOV3\n",
        "print(\"\\nParsing the test set...\")\n",
        "text_vectorizer.adapt(X_test)\n",
        "# use the vocabulary V4 to convert the test set inputs into embedding vectors\n",
        "X_test = text_vectorizer.transform(X_test)"
      ]
    },
    {
      "cell_type": "code",
      "execution_count": 18,
      "metadata": {
        "colab": {
          "base_uri": "https://localhost:8080/"
        },
        "id": "NwDnKWdckqzp",
        "outputId": "4f51b770-b9de-4600-fde1-527aa77aea8f"
      },
      "outputs": [
        {
          "name": "stdout",
          "output_type": "stream",
          "text": [
            "Input shape: (1957, 249, 200)\n"
          ]
        }
      ],
      "source": [
        "print(f\"Input shape: {X_train.shape}\")"
      ]
    },
    {
      "cell_type": "markdown",
      "metadata": {
        "id": "tiDdPTFrkqzp"
      },
      "source": [
        "### 1.4 One-hot encoding of the targets\n",
        "Each POS tag in each set is converted using the one-hot representation"
      ]
    },
    {
      "cell_type": "code",
      "execution_count": 19,
      "metadata": {
        "id": "C37qdVk7kqzq"
      },
      "outputs": [],
      "source": [
        "# initialize the vectorizer for the target tags to convert them into one-hot representation\n",
        "target_vectorizer = TargetVectorizer(max_size=dataset.max_size)\n",
        "\n",
        "# adapt the target vectorizer with only the training set: we do not consider possible targets that are not seen in training set but they are in the dev/test set\n",
        "target_vectorizer.adapt(y_train)  \n",
        "\n",
        "# convert the targets into one-hot representation for each splitting set\n",
        "y_train = target_vectorizer.transform(y_train)\n",
        "y_dev = target_vectorizer.transform(y_dev)\n",
        "y_test = target_vectorizer.transform(y_test)\n",
        "\n",
        "n_classes = y_train[0].shape[1]"
      ]
    },
    {
      "cell_type": "code",
      "execution_count": 20,
      "metadata": {
        "colab": {
          "base_uri": "https://localhost:8080/"
        },
        "id": "qnH7e4okkqzq",
        "outputId": "1f50c335-5ef6-47d6-cbd5-de1efa446156"
      },
      "outputs": [
        {
          "name": "stdout",
          "output_type": "stream",
          "text": [
            "Target shape: (1957, 249, 45)\n",
            "Number of classes for one-hot encoded targets: 45\n"
          ]
        }
      ],
      "source": [
        "print(f\"Target shape: {y_train.shape}\")\n",
        "print(f\"Number of classes for one-hot encoded targets: {n_classes}\")"
      ]
    },
    {
      "cell_type": "markdown",
      "metadata": {
        "id": "khILeN7fkqzq"
      },
      "source": [
        "## 2. Training"
      ]
    },
    {
      "cell_type": "markdown",
      "metadata": {
        "id": "GZfQ0dECkqzr"
      },
      "source": [
        "### 2.1 Models definition\n",
        "We are now ready to define our neural network architectures! \n",
        "Four variants will be evaluated:\n",
        "- Bidirectional LSMT + Dense layer\n",
        "- Bidirectional GRU + Dense layer\n",
        "- Two Bidirectional LSMT + Dense layer\n",
        "- Bidirectional LSMT + Two Dense layer"
      ]
    },
    {
      "cell_type": "code",
      "execution_count": 22,
      "metadata": {},
      "outputs": [],
      "source": [
        "def f1(y_true, y_pred):\n",
        "    \"\"\"\n",
        "    Compute the F1 score\n",
        "    \"\"\"\n",
        "    true_positives = K.sum(K.round(K.clip(y_true * y_pred, 0, 1)))\n",
        "    possible_positives = K.sum(K.round(K.clip(y_true, 0, 1)))\n",
        "    predicted_positives = K.sum(K.round(K.clip(y_pred, 0, 1)))\n",
        "    precision = true_positives / (predicted_positives + K.epsilon())\n",
        "    recall = true_positives / (possible_positives + K.epsilon())\n",
        "    f1_val = 2*(precision*recall)/(precision+recall+K.epsilon())\n",
        "    return f1_val"
      ]
    },
    {
      "cell_type": "code",
      "execution_count": 23,
      "metadata": {},
      "outputs": [],
      "source": [
        "def build_bilstm_model(hp):\n",
        "    \"\"\"\n",
        "    Build th Bidirectional LSMT + Dense layer model\n",
        "    \"\"\"\n",
        "    model = keras.Sequential()\n",
        "    model.add(layers.Masking(name='padding_masking', mask_value=0., input_shape=X_train.shape[1:]))\n",
        "    model.add(layers.Bidirectional(layers.LSTM(hp.Choice('units', [64, 128, 256]), return_sequences=True, kernel_regularizer=keras.regularizers.l2(0.01)), name=\"bilstm_1\"))\n",
        "    model.add(layers.Dropout(hp.Choice('dropout', [0.0, 0.1, 0.2, 0.3, 0.4, 0.5])))\n",
        "    model.add(layers.Dense(n_classes, activation=\"softmax\", name=\"dense_1\"))\n",
        "    model.compile(loss=\"categorical_crossentropy\", \n",
        "                  optimizer=keras.optimizers.Adam(hp.Choice('learning_rate', values=[1e-2, 1e-3, 1e-4])),\n",
        "                  metrics=[f1])\n",
        "    return model\n",
        "\n",
        "def build_bigru_model(hp):\n",
        "    \"\"\"\n",
        "    Build th Bidirectional GRU + Dense layer model\n",
        "    \"\"\"\n",
        "    model = keras.Sequential()\n",
        "    model.add(layers.Masking(name='padding_masking', mask_value=0., input_shape=X_train.shape[1:]))\n",
        "    model.add(layers.Bidirectional(layers.GRU(hp.Choice('units', [64, 128, 256]), return_sequences=True, kernel_regularizer=keras.regularizers.l2(0.01)), name=\"gru_1\"))\n",
        "    model.add(layers.Dropout(hp.Choice('dropout', [0.0, 0.1, 0.2, 0.3, 0.4, 0.5])))\n",
        "    model.add(layers.Dense(n_classes, activation=\"softmax\", name=\"dense_1\"))\n",
        "    model.compile(loss=\"categorical_crossentropy\", \n",
        "                  optimizer=keras.optimizers.Adam(hp.Choice('learning_rate', values=[1e-2, 1e-3, 1e-4])),\n",
        "                  metrics=[f1])\n",
        "    return model\n",
        "\n",
        "def build_two_bilstm_model(hp):\n",
        "    \"\"\"\n",
        "    Build the Two Bidirectional LSTM + Dense layer model\n",
        "    \"\"\"\n",
        "    model = keras.Sequential()\n",
        "    model.add(layers.Masking(name='padding_masking', mask_value=0., input_shape=X_train.shape[1:]))\n",
        "    model.add(layers.Bidirectional(layers.LSTM(hp.Choice('units1', [64, 128, 256]), return_sequences=True, kernel_regularizer=keras.regularizers.l2(0.01)), name=\"bilstm_1\"))\n",
        "    model.add(layers.Bidirectional(layers.LSTM(hp.Choice('units2', [64, 128, 256]), return_sequences=True, kernel_regularizer=keras.regularizers.l2(0.01)), name=\"bilstm_2\"))\n",
        "    model.add(layers.Dropout(hp.Choice('dropout', [0.0, 0.1, 0.2, 0.3, 0.4, 0.5])))\n",
        "    model.add(layers.Dense(n_classes, activation=\"softmax\", name=\"dense_1\"))\n",
        "    model.compile(loss=\"categorical_crossentropy\", \n",
        "                  optimizer=keras.optimizers.Adam(hp.Choice('learning_rate', values=[1e-2, 1e-3, 1e-4])),\n",
        "                  metrics=[f1])\n",
        "    return model\n",
        "\n",
        "def build_bilstm_two_dense_model(hp):\n",
        "    model = keras.Sequential()\n",
        "    model.add(layers.Masking(name='padding_masking', mask_value=0., input_shape=X_train.shape[1:]))\n",
        "    model.add(layers.Bidirectional(layers.LSTM(hp.Choice('units1', [64, 128, 256]), return_sequences=True, kernel_regularizer=keras.regularizers.l2(0.01)), name=\"bilstm_1\"))\n",
        "    model.add(layers.Dropout(hp.Choice('dropout1', [0.0, 0.1, 0.2, 0.3, 0.4, 0.5])))\n",
        "    model.add(layers.Dense(hp.Choice('units2', [64, 128, 256]), activation=\"relu\", name=\"dense_1\", kernel_regularizer=keras.regularizers.l2(0.01)))\n",
        "    model.add(layers.Dropout(hp.Choice('dropout2', [0.0, 0.1, 0.2, 0.3, 0.4, 0.5])))\n",
        "    model.add(layers.Dense(n_classes, activation=\"softmax\", name=\"dense_2\"))\n",
        "    model.compile(loss=\"categorical_crossentropy\", \n",
        "                  optimizer=keras.optimizers.Adam(hp.Choice('learning_rate', values=[1e-2, 1e-3, 1e-4])),\n",
        "                  metrics=[f1])\n",
        "    return model"
      ]
    },
    {
      "cell_type": "markdown",
      "metadata": {},
      "source": [
        "### 2.2 Hyperparameter tuning\n",
        "Let's do a tuning of the hyperparameters for each variant of the architecture"
      ]
    },
    {
      "cell_type": "code",
      "execution_count": 25,
      "metadata": {},
      "outputs": [],
      "source": [
        "epochs_tuning = 100\n",
        "batch_size_tuning = 64\n",
        "callbacks_tuning = [keras.callbacks.EarlyStopping(monitor='val_f1', patience=10, restore_best_weights=True)]"
      ]
    },
    {
      "cell_type": "markdown",
      "metadata": {},
      "source": [
        "Model 1: Bidirectional LSMT + Dense layer variant tuning\n"
      ]
    },
    {
      "cell_type": "code",
      "execution_count": 27,
      "metadata": {},
      "outputs": [
        {
          "name": "stdout",
          "output_type": "stream",
          "text": [
            "Trial 50 Complete [00h 00m 12s]\n",
            "val_f1: 0.0013541262596845627\n",
            "\n",
            "Best val_f1 So Far: 0.529210090637207\n",
            "Total elapsed time: 00h 10m 30s\n",
            "INFO:tensorflow:Oracle triggered exit\n",
            "The hyperparameter search is complete.\n",
            "The optimal number of units in the LSTM layer is 128.\n",
            "The optimal rate for Dropout layer is 0.0.\n",
            "The optimal learning rate for the optimizer is 0.01.\n"
          ]
        }
      ],
      "source": [
        "# tune the hyperparameters of the first model\n",
        "tuner_bilstm = kt.Hyperband(build_bilstm_model,\n",
        "                     objective=kt.Objective(\"val_f1\", direction=\"max\"),\n",
        "                     max_epochs=epochs_tuning,\n",
        "                     #overwrite=True,\n",
        "                     directory=\"tuner\",\n",
        "                     project_name=\"tuner_bilstm\")\n",
        "tuner_bilstm.search(X_train, y_train, epochs=epochs_tuning, batch_size=batch_size_tuning, validation_data=(X_dev, y_dev), callbacks=callbacks_tuning)\n",
        "best_hps_bilstm = tuner_bilstm.get_best_hyperparameters()[0]\n",
        "\n",
        "print(f\"The hyperparameter search is complete.\\n\" \n",
        "      f\"The optimal number of units in the LSTM layer is {best_hps_bilstm.get('units')}.\\n\" \n",
        "      f\"The optimal rate for Dropout layer is {best_hps_bilstm.get('dropout')}.\\n\" \n",
        "      f\"The optimal learning rate for the optimizer is {best_hps_bilstm.get('learning_rate')}.\")"
      ]
    },
    {
      "cell_type": "markdown",
      "metadata": {},
      "source": [
        "Model 2: Bidirectional GRU + Dense layer variant tuning"
      ]
    },
    {
      "cell_type": "code",
      "execution_count": 28,
      "metadata": {},
      "outputs": [
        {
          "name": "stdout",
          "output_type": "stream",
          "text": [
            "Trial 51 Complete [00h 00m 12s]\n",
            "val_f1: 0.27114051580429077\n",
            "\n",
            "Best val_f1 So Far: 0.703585684299469\n",
            "Total elapsed time: 00h 10m 37s\n",
            "INFO:tensorflow:Oracle triggered exit\n",
            "The hyperparameter search is complete.\n",
            "The optimal number of units in the GRU layer is 256.\n",
            "The optimal rate for Dropout layer is 0.2.\n",
            "The optimal learning rate for the optimizer is 0.01.\n"
          ]
        }
      ],
      "source": [
        "# tune the hyperparameters of the second model\n",
        "tuner_bigru = kt.Hyperband(build_bigru_model,\n",
        "                     objective=kt.Objective(\"val_f1\", direction=\"max\"),\n",
        "                     max_epochs=epochs_tuning,\n",
        "                     #overwrite=True,\n",
        "                     directory=\"tuner\",\n",
        "                     project_name=\"tuner_bigru\")\n",
        "tuner_bigru.search(X_train, y_train, epochs=epochs_tuning, batch_size=batch_size_tuning, validation_data=(X_dev, y_dev), callbacks=callbacks_tuning)\n",
        "best_hps_bigru = tuner_bigru.get_best_hyperparameters()[0]\n",
        "\n",
        "print(f\"The hyperparameter search is complete.\\n\" \n",
        "      f\"The optimal number of units in the GRU layer is {best_hps_bigru.get('units')}.\\n\" \n",
        "      f\"The optimal rate for Dropout layer is {best_hps_bigru.get('dropout')}.\\n\" \n",
        "      f\"The optimal learning rate for the optimizer is {best_hps_bigru.get('learning_rate')}.\")"
      ]
    },
    {
      "cell_type": "markdown",
      "metadata": {},
      "source": [
        "Model 3: Two Bidirectional LSMT + Dense layer variant tuning"
      ]
    },
    {
      "cell_type": "code",
      "execution_count": 29,
      "metadata": {},
      "outputs": [
        {
          "name": "stdout",
          "output_type": "stream",
          "text": [
            "Trial 220 Complete [00h 00m 43s]\n",
            "val_f1: 0.0722494125366211\n",
            "\n",
            "Best val_f1 So Far: 0.3645098805427551\n",
            "Total elapsed time: 01h 41m 31s\n",
            "INFO:tensorflow:Oracle triggered exit\n",
            "The hyperparameter search is complete.\n",
            "The optimal number of units in the first LSTM layer is 128.\n",
            "The optimal number of units in the second LSTM layer is 256.\n",
            "The optimal rate for Dropout layer is 0.1.\n",
            "The optimal learning rate for the optimizer is 0.001.\n"
          ]
        }
      ],
      "source": [
        "# tune the hyperparameters of the third model\n",
        "tuner_two_bilstm = kt.Hyperband(build_two_bilstm_model,\n",
        "                     objective=kt.Objective(\"val_f1\", direction=\"max\"),\n",
        "                     max_epochs=epochs_tuning,\n",
        "                     #overwrite=True,\n",
        "                     directory=\"tuner\",\n",
        "                     project_name=\"tuner_two_bilstm\")\n",
        "tuner_two_bilstm.search(X_train, y_train, epochs=epochs_tuning, batch_size=batch_size_tuning, validation_data=(X_dev, y_dev), callbacks=callbacks_tuning)\n",
        "best_hps_two_bilstm = tuner_two_bilstm.get_best_hyperparameters()[0]\n",
        "\n",
        "print(f\"The hyperparameter search is complete.\\n\" \n",
        "      f\"The optimal number of units in the first LSTM layer is {best_hps_two_bilstm.get('units1')}.\\n\" \n",
        "      f\"The optimal number of units in the second LSTM layer is {best_hps_two_bilstm.get('units2')}.\\n\" \n",
        "      f\"The optimal rate for Dropout layer is {best_hps_two_bilstm.get('dropout')}.\\n\" \n",
        "      f\"The optimal learning rate for the optimizer is {best_hps_two_bilstm.get('learning_rate')}.\")"
      ]
    },
    {
      "cell_type": "markdown",
      "metadata": {},
      "source": [
        "Model 4: Bidirectional LSMT + two Dense layer variant tuning"
      ]
    },
    {
      "cell_type": "code",
      "execution_count": 30,
      "metadata": {},
      "outputs": [
        {
          "name": "stdout",
          "output_type": "stream",
          "text": [
            "Trial 254 Complete [00h 00m 41s]\n",
            "val_f1: 0.07720679044723511\n",
            "\n",
            "Best val_f1 So Far: 0.5392152667045593\n",
            "Total elapsed time: 01h 10m 51s\n",
            "INFO:tensorflow:Oracle triggered exit\n",
            "The hyperparameter search is complete.\n",
            "The optimal number of units in the LSTM layer is 64.\n",
            "The optimal rate for the first Dropout layer is 0.1.\n",
            "The optimal number of units in first densely-connected layer is 256.\n",
            "The optimal rate for the second Dropout layer is 0.2.\n",
            "The optimal learning rate for the optimizer is 0.01.\n"
          ]
        }
      ],
      "source": [
        "# tune the hyperparameters of the fourth model\n",
        "tuner_bilstm_two_dense = kt.Hyperband(build_bilstm_two_dense_model,\n",
        "                     objective=kt.Objective(\"val_f1\", direction=\"max\"),\n",
        "                     max_epochs=epochs_tuning,\n",
        "                     #overwrite=True,\n",
        "                     directory=\"tuner\",\n",
        "                     project_name=\"tuner_bilstm_two_dense\")\n",
        "tuner_bilstm_two_dense.search(X_train, y_train, epochs=epochs_tuning, batch_size=batch_size_tuning, validation_data=(X_dev, y_dev), callbacks=callbacks_tuning)\n",
        "best_hps_bilstm_two_dense = tuner_bilstm_two_dense.get_best_hyperparameters()[0]\n",
        "\n",
        "print(f\"The hyperparameter search is complete.\\n\" \n",
        "      f\"The optimal number of units in the LSTM layer is {best_hps_bilstm_two_dense.get('units1')}.\\n\" \n",
        "      f\"The optimal rate for the first Dropout layer is {best_hps_bilstm_two_dense.get('dropout1')}.\\n\" \n",
        "      f\"The optimal number of units in first densely-connected layer is {best_hps_bilstm_two_dense.get('units2')}.\\n\" \n",
        "      f\"The optimal rate for the second Dropout layer is {best_hps_bilstm_two_dense.get('dropout2')}.\\n\"\n",
        "      f\"The optimal learning rate for the optimizer is {best_hps_bilstm_two_dense.get('learning_rate')}.\")"
      ]
    },
    {
      "cell_type": "markdown",
      "metadata": {
        "id": "kWdZM3rskqzr"
      },
      "source": [
        "### 2.3 Model training"
      ]
    },
    {
      "cell_type": "code",
      "execution_count": 31,
      "metadata": {},
      "outputs": [],
      "source": [
        "epochs_training = 100\n",
        "batch_size_training = 64\n",
        "callbacks_training = [keras.callbacks.EarlyStopping(monitor='val_f1', patience=10, restore_best_weights=True)]"
      ]
    },
    {
      "cell_type": "code",
      "execution_count": 32,
      "metadata": {},
      "outputs": [],
      "source": [
        "def create_model(layers_info, compile_info):\n",
        "    \"\"\"\n",
        "    Create a Keras model given a list of layer information\n",
        "\n",
        "    Parameters\n",
        "    ----------\n",
        "    layers_info : a list of dictionaries, one for each layer\n",
        "    compile_info : dictionary containing compile information\n",
        "\n",
        "    Returns\n",
        "    -------\n",
        "    model: the built keras sequential model\n",
        "    \"\"\"\n",
        "\n",
        "    model = keras.Sequential()\n",
        "    for info in layers_info:\n",
        "        layer = info['layer_name'](**{key: value for key, value in info.items() if key != 'layer_name'})\n",
        "        model.add(layer)\n",
        "\n",
        "    # Compile\n",
        "    model.compile(**compile_info)\n",
        "\n",
        "    return model"
      ]
    },
    {
      "cell_type": "markdown",
      "metadata": {},
      "source": [
        "Model 1: Bidirectional LSMT + Dense layer variant training"
      ]
    },
    {
      "cell_type": "code",
      "execution_count": 33,
      "metadata": {},
      "outputs": [
        {
          "name": "stdout",
          "output_type": "stream",
          "text": [
            "Model: \"sequential_1\"\n",
            "_________________________________________________________________\n",
            " Layer (type)                Output Shape              Param #   \n",
            "=================================================================\n",
            " padding_masking (Masking)   (None, 249, 200)          0         \n",
            "                                                                 \n",
            " bilstm_1 (Bidirectional)    (None, 249, 256)          336896    \n",
            "                                                                 \n",
            " dropout_1 (Dropout)         (None, 249, 256)          0         \n",
            "                                                                 \n",
            " dense_1 (Dense)             (None, 249, 45)           11565     \n",
            "                                                                 \n",
            "=================================================================\n",
            "Total params: 348,461\n",
            "Trainable params: 348,461\n",
            "Non-trainable params: 0\n",
            "_________________________________________________________________\n",
            "Epoch 1/100\n",
            "31/31 [==============================] - 10s 128ms/step - loss: 1.0169 - f1: 0.0347 - val_loss: 0.3036 - val_f1: 0.1199\n",
            "Epoch 2/100\n",
            "31/31 [==============================] - 1s 42ms/step - loss: 0.2122 - f1: 0.3697 - val_loss: 0.1670 - val_f1: 0.5243\n",
            "Epoch 3/100\n",
            "31/31 [==============================] - 1s 41ms/step - loss: 0.1415 - f1: 0.6183 - val_loss: 0.1315 - val_f1: 0.6655\n",
            "Epoch 4/100\n",
            "31/31 [==============================] - 1s 37ms/step - loss: 0.1239 - f1: 0.6978 - val_loss: 0.1210 - val_f1: 0.7113\n",
            "Epoch 5/100\n",
            "31/31 [==============================] - 1s 36ms/step - loss: 0.1128 - f1: 0.7335 - val_loss: 0.1140 - val_f1: 0.7139\n",
            "Epoch 6/100\n",
            "31/31 [==============================] - 1s 36ms/step - loss: 0.1070 - f1: 0.7536 - val_loss: 0.1094 - val_f1: 0.7359\n",
            "Epoch 7/100\n",
            "31/31 [==============================] - 1s 36ms/step - loss: 0.1023 - f1: 0.7668 - val_loss: 0.1042 - val_f1: 0.7415\n",
            "Epoch 8/100\n",
            "31/31 [==============================] - 1s 37ms/step - loss: 0.0968 - f1: 0.7805 - val_loss: 0.1016 - val_f1: 0.7614\n",
            "Epoch 9/100\n",
            "31/31 [==============================] - 1s 36ms/step - loss: 0.0945 - f1: 0.7884 - val_loss: 0.0995 - val_f1: 0.7741\n",
            "Epoch 10/100\n",
            "31/31 [==============================] - 1s 40ms/step - loss: 0.0915 - f1: 0.7992 - val_loss: 0.0953 - val_f1: 0.7836\n",
            "Epoch 11/100\n",
            "31/31 [==============================] - 1s 42ms/step - loss: 0.0882 - f1: 0.8061 - val_loss: 0.0943 - val_f1: 0.7766\n"
          ]
        }
      ],
      "source": [
        "# first model    \n",
        "layers_info_bilstm = [\n",
        "    {\n",
        "        \"layer_name\": layers.Masking,\n",
        "        \"name\": \"padding_masking\",\n",
        "        \"mask_value\": 0.,\n",
        "        \"input_shape\": X_train.shape[1:]\n",
        "    },\n",
        "    {\n",
        "        'layer_name': layers.Bidirectional,\n",
        "        \"layer\": layers.LSTM(best_hps_bilstm.get('units'), return_sequences=True, kernel_regularizer=keras.regularizers.l2(0.01)),\n",
        "        \"name\": \"bilstm_1\",\n",
        "    },\n",
        "    {\n",
        "        \"layer_name\": layers.Dropout,\n",
        "        \"rate\": best_hps_bilstm.get('dropout'),\n",
        "        \"name\": \"dropout_1\"\n",
        "    },\n",
        "    {\n",
        "        \"layer_name\": layers.Dense,\n",
        "        \"units\": n_classes,\n",
        "        \"activation\": \"softmax\",\n",
        "        \"name\": \"dense_1\"\n",
        "    }\n",
        "]\n",
        "\n",
        "compile_info_bilstm = {\n",
        "    'optimizer': keras.optimizers.Adam(learning_rate=best_hps_bilstm.get('learning_rate')),\n",
        "    'loss': 'categorical_crossentropy',\n",
        "    'metrics' : [f1]\n",
        "}\n",
        "\n",
        "model_bilstm = create_model(layers_info_bilstm, compile_info_bilstm)\n",
        "model_bilstm.summary()\n",
        "\n",
        "# start training\n",
        "history_bilstm = model_bilstm.fit(X_train, y_train, epochs=epochs_training, batch_size=batch_size_training, validation_data=(X_dev, y_dev), callbacks=callbacks_training)"
      ]
    },
    {
      "cell_type": "markdown",
      "metadata": {},
      "source": [
        "Model 2: Bidirectional GRU + Dense layer variant training"
      ]
    },
    {
      "cell_type": "code",
      "execution_count": 34,
      "metadata": {},
      "outputs": [
        {
          "name": "stdout",
          "output_type": "stream",
          "text": [
            "Model: \"sequential_2\"\n",
            "_________________________________________________________________\n",
            " Layer (type)                Output Shape              Param #   \n",
            "=================================================================\n",
            " padding_masking (Masking)   (None, 249, 200)          0         \n",
            "                                                                 \n",
            " bigru_1 (Bidirectional)     (None, 249, 512)          703488    \n",
            "                                                                 \n",
            " dropout_1 (Dropout)         (None, 249, 512)          0         \n",
            "                                                                 \n",
            " dense_1 (Dense)             (None, 249, 45)           23085     \n",
            "                                                                 \n",
            "=================================================================\n",
            "Total params: 726,573\n",
            "Trainable params: 726,573\n",
            "Non-trainable params: 0\n",
            "_________________________________________________________________\n",
            "Epoch 1/100\n",
            "31/31 [==============================] - 9s 114ms/step - loss: 1.0006 - f1: 0.3026 - val_loss: 0.2578 - val_f1: 0.5628\n",
            "Epoch 2/100\n",
            "31/31 [==============================] - 1s 39ms/step - loss: 0.1598 - f1: 0.6667 - val_loss: 0.1317 - val_f1: 0.6937\n",
            "Epoch 3/100\n",
            "31/31 [==============================] - 1s 41ms/step - loss: 0.1194 - f1: 0.7319 - val_loss: 0.1209 - val_f1: 0.7165\n",
            "Epoch 4/100\n",
            "31/31 [==============================] - 1s 40ms/step - loss: 0.1121 - f1: 0.7544 - val_loss: 0.1188 - val_f1: 0.7297\n",
            "Epoch 5/100\n",
            "31/31 [==============================] - 1s 43ms/step - loss: 0.1075 - f1: 0.7690 - val_loss: 0.1100 - val_f1: 0.7470\n",
            "Epoch 6/100\n",
            "31/31 [==============================] - 2s 50ms/step - loss: 0.1019 - f1: 0.7848 - val_loss: 0.1109 - val_f1: 0.7621\n",
            "Epoch 7/100\n",
            "31/31 [==============================] - 1s 41ms/step - loss: 0.1011 - f1: 0.7881 - val_loss: 0.1040 - val_f1: 0.7784\n",
            "Epoch 8/100\n",
            "31/31 [==============================] - 1s 41ms/step - loss: 0.1000 - f1: 0.7923 - val_loss: 0.1061 - val_f1: 0.7674\n",
            "Epoch 9/100\n",
            "31/31 [==============================] - 1s 42ms/step - loss: 0.1002 - f1: 0.7945 - val_loss: 0.1022 - val_f1: 0.7775\n",
            "Epoch 10/100\n",
            "31/31 [==============================] - 1s 45ms/step - loss: 0.0983 - f1: 0.7989 - val_loss: 0.1124 - val_f1: 0.7585\n",
            "Epoch 11/100\n",
            "31/31 [==============================] - 1s 43ms/step - loss: 0.0970 - f1: 0.8063 - val_loss: 0.1000 - val_f1: 0.7889\n"
          ]
        }
      ],
      "source": [
        "# second model    \n",
        "layers_info_bigru = [\n",
        "    {\n",
        "        \"layer_name\": layers.Masking,\n",
        "        \"name\": \"padding_masking\",\n",
        "        \"mask_value\": 0.,\n",
        "        \"input_shape\": X_train.shape[1:]\n",
        "    },\n",
        "    {\n",
        "        'layer_name': layers.Bidirectional,\n",
        "        \"layer\": layers.GRU(best_hps_bigru.get('units'), return_sequences=True, kernel_regularizer=keras.regularizers.l2(0.01)),\n",
        "        \"name\": \"bigru_1\",\n",
        "    },\n",
        "    {\n",
        "        \"layer_name\": layers.Dropout,\n",
        "        \"rate\": best_hps_bigru.get('dropout'),\n",
        "        \"name\": \"dropout_1\"\n",
        "    },\n",
        "    {\n",
        "        \"layer_name\": layers.Dense,\n",
        "        \"units\": n_classes,\n",
        "        \"activation\": \"softmax\",\n",
        "        \"name\": \"dense_1\"\n",
        "    }\n",
        "]\n",
        "\n",
        "compile_info_bigru = {\n",
        "    'optimizer': keras.optimizers.Adam(learning_rate=best_hps_bigru.get('learning_rate')),\n",
        "    'loss': 'categorical_crossentropy',\n",
        "    'metrics' : [f1]\n",
        "}\n",
        "\n",
        "model_bigru = create_model(layers_info_bigru, compile_info_bigru)\n",
        "model_bigru.summary()\n",
        "\n",
        "# start training\n",
        "history_bigru = model_bigru.fit(X_train, y_train, epochs=epochs_training, batch_size=batch_size_training, validation_data=(X_dev, y_dev),  callbacks=callbacks_training)"
      ]
    },
    {
      "cell_type": "markdown",
      "metadata": {},
      "source": [
        "Model 3: Two Bidirectional LSMT + Dense layer variant training"
      ]
    },
    {
      "cell_type": "code",
      "execution_count": 35,
      "metadata": {},
      "outputs": [
        {
          "name": "stdout",
          "output_type": "stream",
          "text": [
            "Model: \"sequential_3\"\n",
            "_________________________________________________________________\n",
            " Layer (type)                Output Shape              Param #   \n",
            "=================================================================\n",
            " padding_masking (Masking)   (None, 249, 200)          0         \n",
            "                                                                 \n",
            " bilstm_1 (Bidirectional)    (None, 249, 256)          336896    \n",
            "                                                                 \n",
            " bilstm_2 (Bidirectional)    (None, 249, 512)          1050624   \n",
            "                                                                 \n",
            " dropout_1 (Dropout)         (None, 249, 512)          0         \n",
            "                                                                 \n",
            " dense_1 (Dense)             (None, 249, 45)           23085     \n",
            "                                                                 \n",
            "=================================================================\n",
            "Total params: 1,410,605\n",
            "Trainable params: 1,410,605\n",
            "Non-trainable params: 0\n",
            "_________________________________________________________________\n",
            "Epoch 1/100\n",
            "31/31 [==============================] - 16s 207ms/step - loss: 8.2483 - f1: 0.0000e+00 - val_loss: 3.6982 - val_f1: 0.0000e+00\n",
            "Epoch 2/100\n",
            "31/31 [==============================] - 2s 65ms/step - loss: 2.0142 - f1: 0.0365 - val_loss: 0.9095 - val_f1: 0.0613\n",
            "Epoch 3/100\n",
            "31/31 [==============================] - 2s 66ms/step - loss: 0.5774 - f1: 0.0669 - val_loss: 0.3781 - val_f1: 0.0668\n",
            "Epoch 4/100\n",
            "31/31 [==============================] - 2s 67ms/step - loss: 0.3192 - f1: 0.0737 - val_loss: 0.2880 - val_f1: 0.0691\n",
            "Epoch 5/100\n",
            "31/31 [==============================] - 2s 65ms/step - loss: 0.2786 - f1: 0.0748 - val_loss: 0.2753 - val_f1: 0.0684\n",
            "Epoch 6/100\n",
            "31/31 [==============================] - 2s 66ms/step - loss: 0.2723 - f1: 0.0760 - val_loss: 0.2744 - val_f1: 0.0725\n",
            "Epoch 7/100\n",
            "31/31 [==============================] - 2s 66ms/step - loss: 0.2692 - f1: 0.0740 - val_loss: 0.2689 - val_f1: 0.0711\n",
            "Epoch 8/100\n",
            "31/31 [==============================] - 2s 65ms/step - loss: 0.2640 - f1: 0.0784 - val_loss: 0.2647 - val_f1: 0.0729\n",
            "Epoch 9/100\n",
            "31/31 [==============================] - 2s 64ms/step - loss: 0.2588 - f1: 0.0832 - val_loss: 0.2575 - val_f1: 0.0818\n",
            "Epoch 10/100\n",
            "31/31 [==============================] - 2s 65ms/step - loss: 0.2511 - f1: 0.0896 - val_loss: 0.2574 - val_f1: 0.1159\n",
            "Epoch 11/100\n",
            "31/31 [==============================] - 2s 65ms/step - loss: 0.2398 - f1: 0.1058 - val_loss: 0.2361 - val_f1: 0.0900\n"
          ]
        }
      ],
      "source": [
        "# third model    \n",
        "layers_info_two_bilstm = [\n",
        "    {\n",
        "        \"layer_name\": layers.Masking,\n",
        "        \"name\": \"padding_masking\",\n",
        "        \"mask_value\": 0.,\n",
        "        \"input_shape\": X_train.shape[1:]\n",
        "    },\n",
        "    {\n",
        "        'layer_name': layers.Bidirectional,\n",
        "        \"layer\": layers.LSTM(best_hps_two_bilstm.get('units1'), return_sequences=True, kernel_regularizer=keras.regularizers.l2(0.01)),\n",
        "        \"name\": \"bilstm_1\",\n",
        "    },\n",
        "    {\n",
        "        'layer_name': layers.Bidirectional,\n",
        "        \"layer\": layers.LSTM(best_hps_two_bilstm.get('units2'), return_sequences=True, kernel_regularizer=keras.regularizers.l2(0.01)),\n",
        "        \"name\": \"bilstm_2\",\n",
        "    },\n",
        "    {\n",
        "        \"layer_name\": layers.Dropout,\n",
        "        \"rate\": best_hps_two_bilstm.get('dropout'),\n",
        "        \"name\": \"dropout_1\"\n",
        "    },\n",
        "    {\n",
        "        \"layer_name\": layers.Dense,\n",
        "        \"units\": n_classes,\n",
        "        \"activation\": \"softmax\",\n",
        "        \"name\": \"dense_1\"\n",
        "    }\n",
        "]\n",
        "\n",
        "compile_info_two_bilstm = {\n",
        "    'optimizer': keras.optimizers.Adam(learning_rate=best_hps_two_bilstm.get('learning_rate')),\n",
        "    'loss': 'categorical_crossentropy',\n",
        "    'metrics' : [f1]\n",
        "}\n",
        "\n",
        "model_two_bilstm = create_model(layers_info_two_bilstm, compile_info_two_bilstm)\n",
        "model_two_bilstm.summary()\n",
        "\n",
        "# start training\n",
        "history_two_bilstm = model_two_bilstm.fit(X_train, y_train, epochs=epochs_training, batch_size=batch_size_training, validation_data=(X_dev, y_dev), callbacks=callbacks_training)"
      ]
    },
    {
      "cell_type": "markdown",
      "metadata": {},
      "source": [
        "Model 4: Bidirectional LSMT + two Dense layer variant training"
      ]
    },
    {
      "cell_type": "code",
      "execution_count": 36,
      "metadata": {},
      "outputs": [
        {
          "name": "stdout",
          "output_type": "stream",
          "text": [
            "Model: \"sequential_4\"\n",
            "_________________________________________________________________\n",
            " Layer (type)                Output Shape              Param #   \n",
            "=================================================================\n",
            " padding_masking (Masking)   (None, 249, 200)          0         \n",
            "                                                                 \n",
            " bilstm_1 (Bidirectional)    (None, 249, 128)          135680    \n",
            "                                                                 \n",
            " dropout_1 (Dropout)         (None, 249, 128)          0         \n",
            "                                                                 \n",
            " dense_1 (Dense)             (None, 249, 256)          33024     \n",
            "                                                                 \n",
            " dropout_2 (Dropout)         (None, 249, 256)          0         \n",
            "                                                                 \n",
            " dense_2 (Dense)             (None, 249, 45)           11565     \n",
            "                                                                 \n",
            "=================================================================\n",
            "Total params: 180,269\n",
            "Trainable params: 180,269\n",
            "Non-trainable params: 0\n",
            "_________________________________________________________________\n",
            "Epoch 1/100\n",
            "31/31 [==============================] - 8s 113ms/step - loss: 0.4812 - f1: 0.2467 - val_loss: 0.1688 - val_f1: 0.5709\n",
            "Epoch 2/100\n",
            "31/31 [==============================] - 1s 36ms/step - loss: 0.1309 - f1: 0.6691 - val_loss: 0.1060 - val_f1: 0.7439\n",
            "Epoch 3/100\n",
            "31/31 [==============================] - 1s 37ms/step - loss: 0.0950 - f1: 0.7763 - val_loss: 0.0874 - val_f1: 0.8004\n",
            "Epoch 4/100\n",
            "31/31 [==============================] - 1s 38ms/step - loss: 0.0812 - f1: 0.8196 - val_loss: 0.0798 - val_f1: 0.8151\n",
            "Epoch 5/100\n",
            "31/31 [==============================] - 1s 38ms/step - loss: 0.0713 - f1: 0.8469 - val_loss: 0.0713 - val_f1: 0.8438\n",
            "Epoch 6/100\n",
            "31/31 [==============================] - 1s 37ms/step - loss: 0.0636 - f1: 0.8680 - val_loss: 0.0676 - val_f1: 0.8507\n",
            "Epoch 7/100\n",
            "31/31 [==============================] - 1s 36ms/step - loss: 0.0571 - f1: 0.8855 - val_loss: 0.0614 - val_f1: 0.8712\n",
            "Epoch 8/100\n",
            "31/31 [==============================] - 1s 37ms/step - loss: 0.0524 - f1: 0.8980 - val_loss: 0.0626 - val_f1: 0.8671\n",
            "Epoch 9/100\n",
            "31/31 [==============================] - 1s 37ms/step - loss: 0.0491 - f1: 0.9066 - val_loss: 0.0564 - val_f1: 0.8821\n",
            "Epoch 10/100\n",
            "31/31 [==============================] - 1s 36ms/step - loss: 0.0449 - f1: 0.9130 - val_loss: 0.0541 - val_f1: 0.8910\n",
            "Epoch 11/100\n",
            "31/31 [==============================] - 1s 37ms/step - loss: 0.0421 - f1: 0.9173 - val_loss: 0.0511 - val_f1: 0.8964\n"
          ]
        }
      ],
      "source": [
        "# fourth model    \n",
        "layers_info_bilstm_two_dense = [\n",
        "    {\n",
        "        \"layer_name\": layers.Masking,\n",
        "        \"name\": \"padding_masking\",\n",
        "        \"mask_value\": 0.,\n",
        "        \"input_shape\": X_train.shape[1:]\n",
        "    },\n",
        "    {\n",
        "        'layer_name': layers.Bidirectional,\n",
        "        \"layer\": layers.LSTM(best_hps_bilstm_two_dense.get('units1'), return_sequences=True),\n",
        "        \"name\": \"bilstm_1\",\n",
        "    },\n",
        "    {\n",
        "        \"layer_name\": layers.Dropout,\n",
        "        \"rate\": best_hps_bilstm_two_dense.get('dropout1'),\n",
        "        \"name\": \"dropout_1\"\n",
        "    },\n",
        "    {\n",
        "        \"layer_name\": layers.Dense,\n",
        "        \"units\": best_hps_bilstm_two_dense.get('units2'),\n",
        "        \"activation\": \"relu\",\n",
        "        \"kernel_regularizer\": keras.regularizers.l2(0.01),\n",
        "        \"name\": \"dense_1\"\n",
        "    },\n",
        "    {\n",
        "        \"layer_name\": layers.Dropout,\n",
        "        \"rate\": best_hps_bilstm_two_dense.get('dropout2'),\n",
        "        \"name\": \"dropout_2\"\n",
        "    },\n",
        "    {\n",
        "        \"layer_name\": layers.Dense,\n",
        "        \"units\": n_classes,\n",
        "        \"activation\": \"softmax\",\n",
        "        \"name\": \"dense_2\"\n",
        "    }\n",
        "]\n",
        "\n",
        "compile_info_bilstm_two_dense = {\n",
        "    'optimizer': keras.optimizers.Adam(learning_rate=best_hps_bilstm_two_dense.get('learning_rate')),\n",
        "    'loss': 'categorical_crossentropy',\n",
        "    'metrics' : [f1]\n",
        "}\n",
        "\n",
        "model_bilstm_two_dense = create_model(layers_info_bilstm_two_dense, compile_info_bilstm_two_dense)\n",
        "model_bilstm_two_dense.summary()\n",
        "\n",
        "# start training\n",
        "history_bilstm_two_dense = model_bilstm_two_dense.fit(X_train, y_train, epochs=epochs_training, batch_size=batch_size_training, validation_data=(X_dev, y_dev), callbacks=callbacks_training)"
      ]
    },
    {
      "cell_type": "markdown",
      "metadata": {},
      "source": [
        "#### 2.3.1 Store or load all the trained models"
      ]
    },
    {
      "cell_type": "markdown",
      "metadata": {},
      "source": [
        "Store weights and history"
      ]
    },
    {
      "cell_type": "code",
      "execution_count": 37,
      "metadata": {},
      "outputs": [],
      "source": [
        "# store models weights\n",
        "path_model_weights = os.path.join(os.getcwd(), 'models', 'weights')\n",
        "model_bilstm.save_weights(os.path.join(path_model_weights, 'weights_bilstm.h5'))\n",
        "model_bigru.save_weights(os.path.join(path_model_weights, 'weights_bigru.h5'))\n",
        "model_two_bilstm.save_weights(os.path.join(path_model_weights, 'weights_two_bilstm.h5'))\n",
        "model_bilstm_two_dense.save_weights(os.path.join(path_model_weights, 'weights_bilstm_two_dense.h5'))"
      ]
    },
    {
      "cell_type": "code",
      "execution_count": 38,
      "metadata": {},
      "outputs": [],
      "source": [
        "# convert the history.history dict to a pandas DataFrame: \n",
        "path_model_weights = os.path.join(os.getcwd(), 'models', 'history')\n",
        "    \n",
        "df_history_bilstm = pd.DataFrame(history_bilstm.history) \n",
        "with open(os.path.join(path_model_weights, \"history_bilstm.csv\"), mode=\"w\") as file:\n",
        "    df_history_bilstm.to_csv(file)\n",
        "\n",
        "df_history_bigru = pd.DataFrame(history_bigru.history)\n",
        "with open(os.path.join(path_model_weights, \"history_bigru.csv\"), mode=\"w\") as file:\n",
        "    df_history_bigru.to_csv(file)\n",
        "\n",
        "df_history_two_bilstm = pd.DataFrame(history_two_bilstm.history)\n",
        "with open(os.path.join(path_model_weights, \"history_two_bilstm.csv\"), mode=\"w\") as file:\n",
        "    df_history_two_bilstm.to_csv(file)\n",
        "\n",
        "df_history_bilstm_two_dense = pd.DataFrame(history_bilstm_two_dense.history)\n",
        "with open(os.path.join(path_model_weights, \"history_bilstm_two_dense.csv\"), mode=\"w\") as file:\n",
        "    df_history_bilstm_two_dense.to_csv(file)"
      ]
    },
    {
      "cell_type": "markdown",
      "metadata": {},
      "source": [
        "Read weights"
      ]
    },
    {
      "cell_type": "code",
      "execution_count": null,
      "metadata": {},
      "outputs": [],
      "source": [
        "# Restore the weights\n",
        "path_model_weights = os.path.join(os.getcwd(), 'models', 'weights')\n",
        "model_bilstm.load_weights(os.path.join(path_model_weights, 'weights_bilstm.h5'))\n",
        "model_bigru.load_weights(os.path.join(path_model_weights, 'weights_bigru.h5'))\n",
        "model_two_bilstm.load_weights(os.path.join(path_model_weights, 'weights_two_bilstm.h5'))\n",
        "model_bilstm_two_dense.load_weights(os.path.join(path_model_weights, 'weights_bilstm_two_dense.h5'))"
      ]
    },
    {
      "cell_type": "markdown",
      "metadata": {
        "id": "ab9ETsbC2Q82"
      },
      "source": [
        "### 2.4 History of the training\n",
        "Plot metrics evolution for each epoch during the training"
      ]
    },
    {
      "cell_type": "code",
      "execution_count": 39,
      "metadata": {
        "id": "25YBLK3E2R6m"
      },
      "outputs": [],
      "source": [
        "def plot_history(models_history, keys, model_names=[], labels=(\"epochs\", \"metrics\"), figsize=(10,5), cmap='rainbow'):\n",
        "    \"\"\"\n",
        "    Plot the history of the metrics in the history dictionary for each model.\n",
        "        :param models_history: array of dictionary of the metric history for each model\n",
        "        :param keys: list of keys of the metrics to plot\n",
        "        :param model_names: list of names of the models\n",
        "        :param labels: list of labels of the axes\n",
        "        :param figsize: size of the figure\n",
        "        :param cmap: color map used for the plot\n",
        "    \"\"\"\n",
        "\n",
        "    # maps each model to a distinct RGB color\n",
        "    cmap = plt.cm.get_cmap(cmap, len(models_history))\n",
        "\n",
        "    \n",
        "    fig = plt.figure(figsize=figsize)\n",
        "\n",
        "    # for each model trained\n",
        "    for i, history in enumerate(models_history):\n",
        "        # take all pairs of training and val metrics\n",
        "        for j in range(0, len(keys), 2):\n",
        "            metric, val_metric = keys[j], keys[j+1]\n",
        "            \n",
        "            plt.plot(history[metric], label=f\"{model_names[i]} {metric}\", linestyle=\"solid\", color=cmap(i))\n",
        "            plt.plot(history[val_metric],  label=f\"{model_names[i]} {val_metric}\", linestyle=\"--\",  color=cmap(i))\n",
        "        \n",
        "    plt.xlabel(labels[0])\n",
        "    plt.ylabel(labels[1])\n",
        "\n",
        "    # Adding legend\n",
        "    plt.legend(\n",
        "          title =\"Legend\",\n",
        "          loc =\"upper left\",\n",
        "          bbox_to_anchor =(1.0, 0, 0.5, 1))\n",
        "    plt.title(\"Training history\")\n",
        "    plt.grid(linestyle='--', linewidth=1)\n",
        "    plt.show()"
      ]
    },
    {
      "cell_type": "code",
      "execution_count": 41,
      "metadata": {
        "colab": {
          "base_uri": "https://localhost:8080/",
          "height": 725
        },
        "id": "Ca9TMoj42VgT",
        "outputId": "51947068-a9de-452d-9e34-2b8217b25732"
      },
      "outputs": [
        {
          "data": {
            "image/png": "[encoded data removed]",
            "text/plain": [
              "<Figure size 1080x504 with 1 Axes>"
            ]
          },
          "metadata": {
            "needs_background": "light"
          },
          "output_type": "display_data"
        },
        {
          "data": {
            "image/png": "[encoded data removed]",
            "text/plain": [
              "<Figure size 1080x504 with 1 Axes>"
            ]
          },
          "metadata": {
            "needs_background": "light"
          },
          "output_type": "display_data"
        }
      ],
      "source": [
        "models_history = [history_bilstm.history, history_bigru.history, history_two_bilstm.history, history_bilstm_two_dense.history]\n",
        "model_names = [\"BiLSTM\", \"BiGRU\", \"2 BiLSTM\", \"BiLSTM + 2 Dense\"]\n",
        "plot_history(models_history, keys=['loss', 'val_loss'], model_names=model_names, labels=(\"epochs\", \"loss\"), figsize=(15,7),  cmap='bwr')\n",
        "plot_history(models_history, keys=['f1', 'val_f1'], model_names=model_names, labels=(\"epochs\", \"f1\"), figsize=(15,7),  cmap='bwr')"
      ]
    },
    {
      "cell_type": "markdown",
      "metadata": {
        "id": "ZmIWLatvkqzt"
      },
      "source": [
        "## 3. Evaluation"
      ]
    },
    {
      "cell_type": "code",
      "execution_count": 42,
      "metadata": {
        "id": "Q71LkwAPkqzt"
      },
      "outputs": [],
      "source": [
        "def evaluate_model(model, X_test, y_test, labels):\n",
        "    \"\"\"\n",
        "    given a trained model and a test set returns the f-score and the confusion matrix\n",
        "    taking into account only classes in labels\n",
        "    \"\"\"\n",
        "    raw_y_true = np.array(y_test)\n",
        "    raw_y_pred = model.predict(X_test)\n",
        "    # shape of the output is doc x len_sen x classes\n",
        "    # argmax for label predictions\n",
        "    len_sentence = raw_y_pred.shape[1]\n",
        "    num_sentences = raw_y_pred.shape[0]\n",
        "    y_pred = np.empty((num_sentences, len_sentence))\n",
        "    y_true = np.empty((num_sentences, len_sentence))\n",
        "    # assign label with the highest probability\n",
        "    for i in range(num_sentences):\n",
        "        for j in range(len_sentence):\n",
        "            y_pred[i,j] = np.argmax(raw_y_pred[i,j,:])\n",
        "            y_true[i,j] = np.argmax(raw_y_true[i,j,:])\n",
        "    # flatten the numpy array to have a 1D array\n",
        "    y_true = y_true.flatten()\n",
        "    y_pred = y_pred.flatten()\n",
        "    # show confusion matrix\n",
        "    conf_matrix = confusion_matrix(y_true, y_pred, labels=labels)\n",
        "    disp = ConfusionMatrixDisplay(conf_matrix)\n",
        "    fig, ax = plt.subplots(figsize=(10,10))\n",
        "    disp.plot(ax=ax)\n",
        "    # f1 score\n",
        "    print(\"F score:\\n-------------------------------\\n\")\n",
        "    print(f1_score(y_true, y_pred, labels=labels, average='macro'))"
      ]
    },
    {
      "cell_type": "code",
      "execution_count": 45,
      "metadata": {
        "colab": {
          "base_uri": "https://localhost:8080/",
          "height": 405
        },
        "id": "ua2c1KdCkqzt",
        "outputId": "252f5892-7065-4100-b9a1-4c278c3a2a8e"
      },
      "outputs": [
        {
          "name": "stdout",
          "output_type": "stream",
          "text": [
            "F score:\n",
            "-------------------------------\n",
            "\n",
            "0.28358322113721174\n"
          ]
        },
        {
          "name": "stderr",
          "output_type": "stream",
          "text": [
            "C:\\Users\\peppe\\anaconda3\\envs\\nlp\\lib\\site-packages\\sklearn\\metrics\\_classification.py:1580: UndefinedMetricWarning: F-score is ill-defined and being set to 0.0 in labels with no true nor predicted samples. Use `zero_division` parameter to control this behavior.\n",
            "  _warn_prf(average, \"true nor predicted\", \"F-score is\", len(true_sum))\n"
          ]
        },
        {
          "data": {
            "image/png": "[encoded data removed]",
            "text/plain": [
              "<Figure size 720x720 with 2 Axes>"
            ]
          },
          "metadata": {
            "needs_background": "light"
          },
          "output_type": "display_data"
        }
      ],
      "source": [
        "punctuation_indexes = [0, 1, 2, 3, 4, 5, 6, 16, 30, 43]\n",
        "classes = target_vectorizer.get_classes()\n",
        "valid_labels = list(set(range(len(classes))) - set(punctuation_indexes))\n",
        "evaluate_model(model_bilstm_two_dense, X_test, y_test, valid_labels)"
      ]
    },
    {
      "cell_type": "code",
      "execution_count": 47,
      "metadata": {
        "colab": {
          "base_uri": "https://localhost:8080/"
        },
        "id": "sFaG0yb4kqzu",
        "outputId": "192d94c0-4d55-48a7-f61b-ff22812bd678"
      },
      "outputs": [
        {
          "name": "stdout",
          "output_type": "stream",
          "text": [
            "Original POS tagging:  ['VBG' 'IN' 'CD' ',' 'NNS' 'IN' 'JJ' 'NNS' 'VBG' 'NNP' 'CC' 'NNP' 'NNP'\n",
            " 'VBD' 'TO' 'VB' 'DT' 'NN' 'NN' 'IN' 'NNS' 'MD' 'VB' 'IN' 'DT' 'NNS' 'VBP'\n",
            " 'DT' 'NNS' 'WP' 'VBP' 'JJ' '.']\n",
            "Predicted POS tagging:  ['IN' 'NNP' ',' 'IN' 'NNP' 'CD' 'NNP' 'CC' 'NNP' 'NNP' 'TO' 'NN' 'DT' 'NN'\n",
            " 'NN' 'DT' 'NN' 'DT' 'NN' 'DT' 'NNS' '.']\n"
          ]
        }
      ],
      "source": [
        "i_test = 6  # change this to see the prediction for a different sentence\n",
        "\n",
        "print(\"Original POS tagging: \",target_vectorizer.inverse_transform([y_test[i_test]])[0])\n",
        "\n",
        "raw_y_pred = model_bilstm_two_dense.predict(np.array([X_test[i_test]]))\n",
        "# shape of the output is doc x len_sen x classes\n",
        "# argmax for label predictions\n",
        "\n",
        "print(\"Predicted POS tagging: \",target_vectorizer.inverse_transform_probabilities(raw_y_pred)[0])"
      ]
    }
  ],
  "metadata": {
    "accelerator": "GPU",
    "colab": {
      "collapsed_sections": [],
      "include_colab_link": true,
      "name": "Copy of POS_tagging.ipynb",
      "provenance": []
    },
    "interpreter": {
      "hash": "63e28586807c6502c782d898cf9a0cc5787bb3d77952b17b51ec8bdcd4044a3d"
    },
    "kernelspec": {
      "display_name": "Python 3",
      "language": "python",
      "name": "python3"
    },
    "language_info": {
      "codemirror_mode": {
        "name": "ipython",
        "version": 3
      },
      "file_extension": ".py",
      "mimetype": "text/x-python",
      "name": "python",
      "nbconvert_exporter": "python",
      "pygments_lexer": "ipython3",
      "version": "3.9.7"
    }
  },
  "nbformat": 4,
  "nbformat_minor": 0
}

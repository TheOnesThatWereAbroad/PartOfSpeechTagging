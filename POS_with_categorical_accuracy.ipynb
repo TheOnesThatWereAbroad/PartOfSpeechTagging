{
 "cells": [
  {
   "cell_type": "markdown",
   "metadata": {
    "colab_type": "text",
    "id": "view-in-github"
   },
   "source": [
    "<a href=\"https://colab.research.google.com/github/TheOnesThatWereAbroad/Assignment1/blob/main/POS_with_workingF1.ipynb\" target=\"_parent\"><img src=\"https://colab.research.google.com/assets/colab-badge.svg\" alt=\"Open In Colab\"/></a>"
   ]
  },
  {
   "cell_type": "markdown",
   "metadata": {
    "id": "tc8x9pA00Sfd"
   },
   "source": [
    "# Assignment 1 - POS tagging"
   ]
  },
  {
   "cell_type": "code",
   "execution_count": 9,
   "metadata": {
    "id": "jHhrkDf2kqzg"
   },
   "outputs": [],
   "source": [
    "import os\n",
    "import numpy as np\n",
    "import matplotlib.pyplot as plt\n",
    "import pandas as pd\n",
    "\n",
    "import tensorflow as tf\n",
    "import tensorflow_addons as tfa\n",
    "from tensorflow import keras\n",
    "from tensorflow.keras import layers\n",
    "import tensorflow.keras.backend as K\n",
    "import keras_tuner as kt\n",
    "import sklearn\n",
    "from sklearn.metrics import confusion_matrix, ConfusionMatrixDisplay, f1_score, classification_report\n",
    "\n",
    "from data_input import DataInput\n",
    "from text_vectorizer import TextVectorizer, TargetVectorizer"
   ]
  },
  {
   "cell_type": "markdown",
   "metadata": {
    "id": "jx2qo48Ikqzi"
   },
   "source": [
    "## 1. Build a dataset"
   ]
  },
  {
   "cell_type": "markdown",
   "metadata": {
    "id": "IN34sX55kqzi"
   },
   "source": [
    "### 1.1 Dataset preparation\n",
    "For this experiment, the [Dependency Parsed Treebank](https://www.nltk.org/nltk_data/) dataset is used.\n",
    "Notice that each document is slitted into sentences, so the dimensionality of the data is more than 199 (total number of documents in the dataset)"
   ]
  },
  {
   "cell_type": "code",
   "execution_count": 10,
   "metadata": {
    "colab": {
     "base_uri": "https://localhost:8080/"
    },
    "id": "eRQ_hwv9mHtK",
    "outputId": "4f9383d0-ccf0-43e2-e206-12c0e7a79586"
   },
   "outputs": [
    {
     "name": "stdout",
     "output_type": "stream",
     "text": [
      "Train set size: 1957\n",
      "Dev set size: 979\n",
      "Test set size: 978\n"
     ]
    }
   ],
   "source": [
    "# download the dataset and split it into train, dev and test sets\n",
    "dataset = DataInput(\n",
    "        data_url=\"https://raw.githubusercontent.com/nltk/nltk_data/gh-pages/packages/corpora/dependency_treebank.zip\",\n",
    "        train_size=0.50,\n",
    "        dev_size=0.25,\n",
    "        dataset_folder=os.path.join(os.getcwd(), \"dataset\"),\n",
    "        split_into_sentences=True,\n",
    "        shuffle=False\n",
    "    )"
   ]
  },
  {
   "cell_type": "markdown",
   "metadata": {
    "id": "SGQatFzWkqzk"
   },
   "source": [
    "Pre-processing is always an important step with which start. There are a lot of pre-processing steps that we can consider, but for this experiment the only pre-processing operation performed is:\n",
    "- **to lower**, in part-of-speech tagging scenario casing of the input tokens is crucial to find the correspondent token in the embedding vocabulary"
   ]
  },
  {
   "cell_type": "code",
   "execution_count": 11,
   "metadata": {
    "id": "YbVR94oskqzk"
   },
   "outputs": [],
   "source": [
    "# do preprocessing for train, validation and test sets\n",
    "dataset.preprocessing(\"train\", to_lower=True)\n",
    "dataset.preprocessing(\"dev\", to_lower=True)\n",
    "dataset.preprocessing(\"test\", to_lower=True)\n",
    "\n",
    "# separate inputs and targets\n",
    "X_train, y_train = dataset.train\n",
    "X_dev, y_dev = dataset.dev\n",
    "X_test, y_test = dataset.test"
   ]
  },
  {
   "cell_type": "code",
   "execution_count": 12,
   "metadata": {
    "colab": {
     "base_uri": "https://localhost:8080/"
    },
    "id": "lxfgDx0jrnqV",
    "outputId": "e05c2488-baa5-405f-89df-a119da9a35be"
   },
   "outputs": [
    {
     "data": {
      "text/plain": [
       "(1957,)"
      ]
     },
     "execution_count": 12,
     "metadata": {},
     "output_type": "execute_result"
    }
   ],
   "source": [
    "dataset.train[0].shape"
   ]
  },
  {
   "cell_type": "markdown",
   "metadata": {
    "id": "IPv-M1xEmHtM"
   },
   "source": [
    "### 1.2 Dataset analysis\n",
    "Let's take a look at the dataset, to inspect the distribution of the POS tags"
   ]
  },
  {
   "cell_type": "code",
   "execution_count": 13,
   "metadata": {
    "id": "Oh9Jg3ePkqzm"
   },
   "outputs": [],
   "source": [
    "def get_occurences(data, ordered=False, exclude=[]):\n",
    "    \"\"\"\n",
    "    Get the occurences of each token in the data.\n",
    "\n",
    "    Parameters\n",
    "    ----------\n",
    "    data : list of np arrays, representing the data to get the occurences from\n",
    "    ordered : bool, if True, the occurences will be returned in descending order\n",
    "    exclude : list of strings, tokens that should not be included in the occurences\n",
    "\n",
    "    Returns\n",
    "    -------\n",
    "    occurences : dict, mapping each token to the number of occurences\n",
    "    \"\"\"\n",
    "    tokens, counts = np.unique(np.concatenate(data), return_counts=True)\n",
    "    occurences = dict(zip(tokens, counts))\n",
    "\n",
    "    if len(exclude) > 0:\n",
    "        for token in exclude:\n",
    "            if token in occurences:\n",
    "                del occurences[token]\n",
    "\n",
    "    if ordered:\n",
    "        occurences = dict(sorted(occurences.items(), key=lambda x: x[1], reverse=True))\n",
    "    return occurences\n",
    "\n",
    "# get the occurences of each POS tag in the three sets \n",
    "train_tags_occ = get_occurences(y_train, ordered=True, exclude=[])\n",
    "dev_tags_occ = get_occurences(y_dev, exclude=[])\n",
    "test_tags_occ = get_occurences(y_test, exclude=[])\n",
    "\n",
    "# build a matrix of the occurences of size (n_tags, 3)\n",
    "tags_occ = np.array([[v, dev_tags_occ[k], test_tags_occ[k]] if k in dev_tags_occ and k in test_tags_occ else [v, dev_tags_occ[k], 0] if k in dev_tags_occ else [v, 0, test_tags_occ[k]] if k in test_tags_occ else [v, 0, 0] for k, v in train_tags_occ.items()])"
   ]
  },
  {
   "cell_type": "code",
   "execution_count": 14,
   "metadata": {
    "colab": {
     "base_uri": "https://localhost:8080/",
     "height": 530
    },
    "id": "aZh5QAJIkqzn",
    "outputId": "e52bd3da-ddec-4f20-9350-18d6376fa2f9"
   },
   "outputs": [
    {
     "data": {
      "text/plain": [
       "[]"
      ]
     },
     "execution_count": 14,
     "metadata": {},
     "output_type": "execute_result"
    },
    {
     "data": {
      "image/png": "[encoded data removed]",
      "text/plain": [
       "<Figure size 1656x576 with 1 Axes>"
      ]
     },
     "metadata": {
      "needs_background": "light"
     },
     "output_type": "display_data"
    }
   ],
   "source": [
    "# plot bar chart of the occurences of each POS tag\n",
    "fig, ax = plt.subplots(1, 1, figsize=(23, 8))\n",
    "tags = list(train_tags_occ.keys())\n",
    "ax.bar(tags, tags_occ[:, 1], width=0.3, align='edge', label='dev')\n",
    "ax.bar(tags, tags_occ[:, 2], width=-0.6, align='edge', label='test')\n",
    "ax.bar(tags, tags_occ[:, 0], width=-0.3, align='edge', label='train')\n",
    "ax.set_xticks(tags)\n",
    "ax.set_xlabel('Tags')\n",
    "ax.set_ylabel('Occurences')\n",
    "ax.set_title(\"Occurences of POS tags\")\n",
    "ax.legend()\n",
    "plt.plot()"
   ]
  },
  {
   "cell_type": "code",
   "execution_count": 15,
   "metadata": {
    "colab": {
     "base_uri": "https://localhost:8080/"
    },
    "id": "QYCqD_Zpkqzo",
    "outputId": "2a55eec6-cf3b-43e5-c366-1b5aa65f9b41"
   },
   "outputs": [
    {
     "name": "stdout",
     "output_type": "stream",
     "text": [
      "The following tags (from the train set) are not in the dev set: {'SYM'}\n",
      "The following tags (from the train set) are not in the test set: {'SYM', 'UH', 'FW', 'LS'}\n"
     ]
    }
   ],
   "source": [
    "# analyze the difference between the presence of the POS tags in the train, dev and test sets\n",
    "train_tags_not_dev = set(train_tags_occ.keys()) - set(dev_tags_occ.keys())\n",
    "train_tags_not_test = set(train_tags_occ.keys()) - set(test_tags_occ.keys())\n",
    "dev_tags_not_train = set(dev_tags_occ.keys()) - set(train_tags_occ.keys())\n",
    "test_tags_not_train = set(test_tags_occ.keys()) - set(train_tags_occ.keys())\n",
    "\n",
    "if(len(train_tags_not_dev) > 0):\n",
    "    print(\"The following tags (from the train set) are not in the dev set:\", train_tags_not_dev)\n",
    "if(len(train_tags_not_test) > 0):\n",
    "    print(\"The following tags (from the train set) are not in the test set:\", train_tags_not_test)\n",
    "if(len(dev_tags_not_train) > 0):\n",
    "    print(\"The following tags (from the dev set) are not in the train set:\", dev_tags_not_train)\n",
    "if(len(test_tags_not_train) > 0):\n",
    "    print(\"The following tags (from the test set) are not in the train set:\", test_tags_not_train)"
   ]
  },
  {
   "cell_type": "markdown",
   "metadata": {
    "id": "mkIYSNxukqzo"
   },
   "source": [
    "### 1.3 GloVe embeddings vectorization\n",
    "The next step consists in downloading a pre-trained embedding model, namely GloVe. It is a techniques that tries to encoded global semantic properties based on the co-occurrence matrix.\n",
    "Three different dimensional space versions are available: 50, 100, 200.\n",
    "\n",
    "From the choosen embedding, a starting vocabulary is built.\n",
    "Then this vocabulary is enriched with the embeddings computed for the OOV words."
   ]
  },
  {
   "cell_type": "code",
   "execution_count": 16,
   "metadata": {
    "colab": {
     "base_uri": "https://localhost:8080/"
    },
    "id": "MxU2LR1Bkqzp",
    "outputId": "36824a8a-cbdd-4b55-e8d5-cbbf5d3e753c"
   },
   "outputs": [
    {
     "name": "stdout",
     "output_type": "stream",
     "text": [
      "Parsing the training set...\n",
      "Generated embeddings for 358 OOV words.\n",
      "\n",
      "Parsing the validation set...\n",
      "Generated embeddings for 131 OOV words.\n",
      "\n",
      "Parsing the test set...\n",
      "Generated embeddings for 187 OOV words.\n"
     ]
    }
   ],
   "source": [
    "# initialize the vectorizer for the input tokens to convert them to embedding vectors\n",
    "# and build the vocabulary V1 from the glove embeddings\n",
    "text_vectorizer = TextVectorizer(\n",
    "    glove_url=\"http://nlp.stanford.edu/data/glove.6B.zip\",\n",
    "    embedding_dim=100,\n",
    "    embedding_folder=os.path.join(os.getcwd(), \"glove\"),\n",
    "    max_size=dataset.max_size\n",
    ")\n",
    "\n",
    "# compute embeddings for terms (OOV1) in the training set that are out of vocabulary V1 and add them: V2=V1+OOV1\n",
    "print(\"Parsing the training set...\")\n",
    "text_vectorizer.adapt(X_train)\n",
    "# use the vocabulary V2 to convert the training set inputs into embedding vectors\n",
    "X_train = text_vectorizer.transform(X_train)\n",
    "\n",
    "# compute embeddings for terms (OOV2) in the validation set that are out of vocabulary V2 and add them: V3=V2+OOV2\n",
    "print(\"\\nParsing the validation set...\")\n",
    "text_vectorizer.adapt(X_dev)\n",
    "# use the vocabulary V3 to convert the validation set inputs into embedding vectors\n",
    "X_dev = text_vectorizer.transform(X_dev)\n",
    "\n",
    "# compute embeddings for terms (OOV3) in the test set that are out of vocabulary V3 and add them: V4=V3+OOV3\n",
    "print(\"\\nParsing the test set...\")\n",
    "text_vectorizer.adapt(X_test)\n",
    "# use the vocabulary V4 to convert the test set inputs into embedding vectors\n",
    "X_test = text_vectorizer.transform(X_test)"
   ]
  },
  {
   "cell_type": "code",
   "execution_count": 17,
   "metadata": {
    "colab": {
     "base_uri": "https://localhost:8080/"
    },
    "id": "NwDnKWdckqzp",
    "outputId": "050b5f48-b631-412e-9cde-ca22a6d787ef"
   },
   "outputs": [
    {
     "name": "stdout",
     "output_type": "stream",
     "text": [
      "Input shape: (1957, 249, 100)\n"
     ]
    }
   ],
   "source": [
    "print(f\"Input shape: {X_train.shape}\")"
   ]
  },
  {
   "cell_type": "markdown",
   "metadata": {
    "id": "tiDdPTFrkqzp"
   },
   "source": [
    "### 1.4 One-hot encoding of the targets\n",
    "Each POS tag in each set is converted using the one-hot representation"
   ]
  },
  {
   "cell_type": "code",
   "execution_count": 18,
   "metadata": {
    "id": "C37qdVk7kqzq"
   },
   "outputs": [],
   "source": [
    "# initialize the vectorizer for the target tags to convert them into one-hot representation\n",
    "target_vectorizer = TargetVectorizer(max_size=dataset.max_size)\n",
    "\n",
    "# adapt the target vectorizer with only the training set: we do not consider possible targets that are not seen in training set but they are in the dev/test set\n",
    "target_vectorizer.adapt(y_train)  \n",
    "\n",
    "# convert the targets into one-hot representation for each splitting set\n",
    "y_train = target_vectorizer.transform(y_train)\n",
    "y_dev = target_vectorizer.transform(y_dev)\n",
    "y_test = target_vectorizer.transform(y_test)\n",
    "\n",
    "n_classes = y_train[0].shape[1]"
   ]
  },
  {
   "cell_type": "code",
   "execution_count": 19,
   "metadata": {
    "colab": {
     "base_uri": "https://localhost:8080/"
    },
    "id": "qnH7e4okkqzq",
    "outputId": "c4630adf-c8bd-4021-d1dc-5798bb1fad9f"
   },
   "outputs": [
    {
     "name": "stdout",
     "output_type": "stream",
     "text": [
      "Target shape: (1957, 249, 45)\n",
      "Number of classes for one-hot encoded targets: 45\n"
     ]
    }
   ],
   "source": [
    "print(f\"Target shape: {y_train.shape}\")\n",
    "print(f\"Number of classes for one-hot encoded targets: {n_classes}\")"
   ]
  },
  {
   "cell_type": "markdown",
   "metadata": {
    "id": "khILeN7fkqzq"
   },
   "source": [
    "## 2. Training"
   ]
  },
  {
   "cell_type": "markdown",
   "metadata": {
    "id": "GZfQ0dECkqzr"
   },
   "source": [
    "### 2.1 Models definition\n",
    "We are now ready to define our neural network architectures! \n",
    "Four variants will be evaluated:\n",
    "- Bidirectional LSMT + Dense layer\n",
    "- Bidirectional GRU + Dense layer\n",
    "- Two Bidirectional LSMT + Dense layer\n",
    "- Bidirectional LSMT + Two Dense layer"
   ]
  },
  {
   "cell_type": "code",
   "execution_count": 20,
   "metadata": {
    "id": "l057_W6_87Fo"
   },
   "outputs": [],
   "source": [
    "tfa_f1 = tfa.metrics.F1Score(\n",
    "    num_classes= n_classes,\n",
    "    average= \"macro\",\n",
    "    name = 'f1_score',\n",
    "    )\n",
    "punctuation_indices = [0, 1, 2, 3, 4, 5, 6, 16, 30, 43]\n",
    "\n",
    "def f1_with_tfa(y_true, y_pred):\n",
    "    y_true = tf.reshape(y_true, (-1, n_classes))\n",
    "    punctuation = tf.gather(y_true, punctuation_indices, axis=-1)\n",
    "    y_mask = tf.cast(tf.logical_not(tf.reduce_any(tf.cast(punctuation, tf.bool), axis=-1)), tf.float32)\n",
    "    y_pred = tf.reshape(y_pred, (-1, n_classes))\n",
    "    tfa_f1.update_state(y_true, y_pred, sample_weight=y_mask)\n",
    "    result = tfa_f1.result()\n",
    "    K.batch_set_value([(v, np.zeros(v.shape.as_list())) for v in tfa_f1.variables])\n",
    "    return result"
   ]
  },
  {
   "cell_type": "code",
   "execution_count": 21,
   "metadata": {
    "id": "BFmjvEd_3ZUK"
   },
   "outputs": [],
   "source": [
    "def build_bilstm_model(hp):\n",
    "    \"\"\"\n",
    "    Build th Bidirectional LSMT + Dense layer model\n",
    "    \"\"\"\n",
    "    model = keras.Sequential()\n",
    "    model.add(layers.Masking(name='padding_masking', mask_value=0., input_shape=X_train.shape[1:]))\n",
    "    model.add(layers.Bidirectional(layers.LSTM(hp.Choice('units', [64, 128, 256]), return_sequences=True, kernel_regularizer=keras.regularizers.l2(0.01)), name=\"bilstm_1\"))\n",
    "    model.add(layers.Dense(n_classes, activation=\"softmax\", name=\"dense_1\"))\n",
    "    model.compile(loss=\"categorical_crossentropy\", \n",
    "                  optimizer=keras.optimizers.Adam(hp.Choice('learning_rate', values=[1e-2, 1e-3, 1e-4])),\n",
    "                  metrics=['categorical_accuracy'])\n",
    "    return model\n",
    "\n",
    "def build_bigru_model(hp):\n",
    "    \"\"\"\n",
    "    Build th Bidirectional GRU + Dense layer model\n",
    "    \"\"\"\n",
    "    model = keras.Sequential()\n",
    "    model.add(layers.Masking(name='padding_masking', mask_value=0., input_shape=X_train.shape[1:]))\n",
    "    model.add(layers.Bidirectional(layers.GRU(hp.Choice('units', [64, 128, 256]), return_sequences=True, kernel_regularizer=keras.regularizers.l2(0.01)), name=\"gru_1\"))\n",
    "    model.add(layers.Dense(n_classes, activation=\"softmax\", name=\"dense_1\"))\n",
    "    model.compile(loss=\"categorical_crossentropy\", \n",
    "                  optimizer=keras.optimizers.Adam(hp.Choice('learning_rate', values=[1e-2, 1e-3, 1e-4])),\n",
    "                  metrics=['categorical_accuracy'])\n",
    "    return model\n",
    "\n",
    "def build_two_bilstm_model(hp):\n",
    "    \"\"\"\n",
    "    Build the Two Bidirectional LSTM + Dense layer model\n",
    "    \"\"\"\n",
    "    model = keras.Sequential()\n",
    "    model.add(layers.Masking(name='padding_masking', mask_value=0., input_shape=X_train.shape[1:]))\n",
    "    model.add(layers.Bidirectional(layers.LSTM(hp.Choice('units1', [64, 128, 256]), return_sequences=True, kernel_regularizer=keras.regularizers.l2(0.01)), name=\"bilstm_1\"))\n",
    "    model.add(layers.Bidirectional(layers.LSTM(hp.Choice('units2', [64, 128, 256]), return_sequences=True, kernel_regularizer=keras.regularizers.l2(0.01)), name=\"bilstm_2\"))\n",
    "    model.add(layers.Dense(n_classes, activation=\"softmax\", name=\"dense_1\"))\n",
    "    model.compile(loss=\"categorical_crossentropy\", \n",
    "                  optimizer=keras.optimizers.Adam(hp.Choice('learning_rate', values=[1e-2, 1e-3, 1e-4])),\n",
    "                  metrics=['categorical_accuracy'])\n",
    "    return model\n",
    "\n",
    "def build_bilstm_two_dense_model(hp):\n",
    "    model = keras.Sequential()\n",
    "    model.add(layers.Masking(name='padding_masking', mask_value=0., input_shape=X_train.shape[1:]))\n",
    "    model.add(layers.Bidirectional(layers.LSTM(hp.Choice('units1', [64, 128, 256]), return_sequences=True, kernel_regularizer=keras.regularizers.l2(0.01)), name=\"bilstm_1\"))\n",
    "    model.add(layers.Dense(hp.Choice('units2', [64, 128, 256]), activation=\"relu\", name=\"dense_1\", kernel_regularizer=keras.regularizers.l2(0.01)))\n",
    "    model.add(layers.Dropout(hp.Choice('dropout', [0.0, 0.1, 0.2, 0.3, 0.4, 0.5])))\n",
    "    model.add(layers.Dense(n_classes, activation=\"softmax\", name=\"dense_2\"))\n",
    "    model.compile(loss=\"categorical_crossentropy\", \n",
    "                  optimizer=keras.optimizers.Adam(hp.Choice('learning_rate', values=[1e-2, 1e-3, 1e-4])),\n",
    "                  metrics=['categorical_accuracy'])\n",
    "    return model"
   ]
  },
  {
   "cell_type": "markdown",
   "metadata": {
    "id": "L0R3goy83ZUK"
   },
   "source": [
    "### 2.2 Hyperparameter tuning\n",
    "Let's do a tuning of the hyperparameters for each variant of the architecture"
   ]
  },
  {
   "cell_type": "code",
   "execution_count": 22,
   "metadata": {
    "id": "n5sOwkYf3ZUK"
   },
   "outputs": [],
   "source": [
    "epochs_tuning = 100\n",
    "batch_size_tuning = 64"
   ]
  },
  {
   "cell_type": "markdown",
   "metadata": {
    "id": "3sErnjwr3ZUL"
   },
   "source": [
    "Model 1: Bidirectional LSMT + Dense layer variant tuning\n"
   ]
  },
  {
   "cell_type": "code",
   "execution_count": 23,
   "metadata": {
    "colab": {
     "base_uri": "https://localhost:8080/"
    },
    "id": "b3vU8lwL3ZUL",
    "outputId": "70b39dea-36b4-4c67-f6ed-904b887f50c4"
   },
   "outputs": [
    {
     "name": "stdout",
     "output_type": "stream",
     "text": [
      "Trial 9 Complete [00h 00m 13s]\n",
      "val_categorical_accuracy: 0.2016877979040146\n",
      "\n",
      "Best val_categorical_accuracy So Far: 0.6750349998474121\n",
      "Total elapsed time: 00h 02m 09s\n",
      "INFO:tensorflow:Oracle triggered exit\n",
      "The hyperparameter search is complete.\n",
      "The optimal number of units in the LSTM layer is 256.\n",
      "The optimal learning rate for the optimizer is 0.01.\n"
     ]
    }
   ],
   "source": [
    "# tune the hyperparameters of the first model\n",
    "tuner_bilstm = kt.Hyperband(build_bilstm_model,\n",
    "                     objective=kt.Objective(\"val_categorical_accuracy\", direction=\"max\"),\n",
    "                     max_epochs=epochs_tuning,\n",
    "                     #overwrite=True,\n",
    "                     directory=\"tuner_ca\",\n",
    "                     project_name=\"tuner_bilstm\")\n",
    "tuner_bilstm.search(X_train, y_train, epochs=epochs_tuning, batch_size=batch_size_tuning, validation_data=(X_dev, y_dev))\n",
    "best_hps_bilstm = tuner_bilstm.get_best_hyperparameters()[0]\n",
    "\n",
    "print(f\"The hyperparameter search is complete.\\n\" \n",
    "      f\"The optimal number of units in the LSTM layer is {best_hps_bilstm.get('units')}.\\n\" \n",
    "      f\"The optimal learning rate for the optimizer is {best_hps_bilstm.get('learning_rate')}.\")"
   ]
  },
  {
   "cell_type": "markdown",
   "metadata": {
    "id": "vPb8yMfz3ZUL"
   },
   "source": [
    "Model 2: Bidirectional GRU + Dense layer variant tuning"
   ]
  },
  {
   "cell_type": "code",
   "execution_count": 24,
   "metadata": {
    "colab": {
     "base_uri": "https://localhost:8080/"
    },
    "id": "h_tLVIkM3ZUL",
    "outputId": "48f180a8-7c0f-4845-c927-8e0cd8505e95"
   },
   "outputs": [
    {
     "name": "stdout",
     "output_type": "stream",
     "text": [
      "Trial 9 Complete [00h 00m 13s]\n",
      "val_categorical_accuracy: 0.44069376587867737\n",
      "\n",
      "Best val_categorical_accuracy So Far: 0.7520461678504944\n",
      "Total elapsed time: 00h 02m 07s\n",
      "INFO:tensorflow:Oracle triggered exit\n",
      "The hyperparameter search is complete.\n",
      "The optimal number of units in the GRU layer is 128.\n",
      "The optimal learning rate for the optimizer is 0.01.\n"
     ]
    }
   ],
   "source": [
    "# tune the hyperparameters of the second model\n",
    "tuner_bigru = kt.Hyperband(build_bigru_model,\n",
    "                     objective=kt.Objective(\"val_categorical_accuracy\", direction=\"max\"),\n",
    "                     max_epochs=epochs_tuning,\n",
    "                     #overwrite=True,\n",
    "                     directory=\"tuner_ca\",\n",
    "                     project_name=\"tuner_bigru\")\n",
    "tuner_bigru.search(X_train, y_train, epochs=epochs_tuning, batch_size=batch_size_tuning, validation_data=(X_dev, y_dev))\n",
    "best_hps_bigru = tuner_bigru.get_best_hyperparameters()[0]\n",
    "\n",
    "print(f\"The hyperparameter search is complete.\\n\" \n",
    "      f\"The optimal number of units in the GRU layer is {best_hps_bigru.get('units')}.\\n\" \n",
    "      f\"The optimal learning rate for the optimizer is {best_hps_bigru.get('learning_rate')}.\")"
   ]
  },
  {
   "cell_type": "markdown",
   "metadata": {
    "id": "lIp3D6c-3ZUM"
   },
   "source": [
    "Model 3: Two Bidirectional LSMT + Dense layer variant tuning"
   ]
  },
  {
   "cell_type": "code",
   "execution_count": 25,
   "metadata": {
    "colab": {
     "base_uri": "https://localhost:8080/"
    },
    "id": "VXxWaco93ZUM",
    "outputId": "ae82257e-b209-490d-982d-4f3fb5156747"
   },
   "outputs": [
    {
     "name": "stdout",
     "output_type": "stream",
     "text": [
      "Trial 26 Complete [00h 00m 24s]\n",
      "val_categorical_accuracy: 0.14168186485767365\n",
      "\n",
      "Best val_categorical_accuracy So Far: 0.18709978461265564\n",
      "Total elapsed time: 00h 11m 02s\n",
      "INFO:tensorflow:Oracle triggered exit\n",
      "The hyperparameter search is complete.\n",
      "The optimal number of units in the first LSTM layer is 64.\n",
      "The optimal number of units in the second LSTM layer is 64.\n",
      "The optimal learning rate for the optimizer is 0.01.\n"
     ]
    }
   ],
   "source": [
    "# tune the hyperparameters of the third model\n",
    "tuner_two_bilstm = kt.Hyperband(build_two_bilstm_model,\n",
    "                     objective=kt.Objective(\"val_categorical_accuracy\", direction=\"max\"),\n",
    "                     max_epochs=epochs_tuning,\n",
    "                     #overwrite=True,\n",
    "                     directory=\"tuner_ca\",\n",
    "                     project_name=\"tuner_two_bilstm\")\n",
    "tuner_two_bilstm.search(X_train, y_train, epochs=epochs_tuning, batch_size=batch_size_tuning, validation_data=(X_dev, y_dev))\n",
    "best_hps_two_bilstm = tuner_two_bilstm.get_best_hyperparameters()[0]\n",
    "\n",
    "print(f\"The hyperparameter search is complete.\\n\" \n",
    "      f\"The optimal number of units in the first LSTM layer is {best_hps_two_bilstm.get('units1')}.\\n\" \n",
    "      f\"The optimal number of units in the second LSTM layer is {best_hps_two_bilstm.get('units2')}.\\n\" \n",
    "      f\"The optimal learning rate for the optimizer is {best_hps_two_bilstm.get('learning_rate')}.\")"
   ]
  },
  {
   "cell_type": "markdown",
   "metadata": {
    "id": "kMNWw_i33ZUM"
   },
   "source": [
    "Model 4: Bidirectional LSMT + two Dense layer variant tuning"
   ]
  },
  {
   "cell_type": "code",
   "execution_count": 26,
   "metadata": {
    "id": "pHSGHizM3ZUM"
   },
   "outputs": [
    {
     "name": "stdout",
     "output_type": "stream",
     "text": [
      "Trial 215 Complete [00h 00m 27s]\n",
      "val_categorical_accuracy: 0.4509138762950897\n",
      "\n",
      "Best val_categorical_accuracy So Far: 0.7954709529876709\n",
      "Total elapsed time: 01h 04m 10s\n",
      "INFO:tensorflow:Oracle triggered exit\n",
      "The hyperparameter search is complete.\n",
      "The optimal number of units in the LSTM layer is 64.\n",
      "The optimal number of units in first densely-connected layer is 256.\n",
      "The optimal rate for the second Dropout layer is 0.1.\n",
      "The optimal learning rate for the optimizer is 0.01.\n"
     ]
    }
   ],
   "source": [
    "# tune the hyperparameters of the fourth model\n",
    "tuner_bilstm_two_dense = kt.Hyperband(build_bilstm_two_dense_model,\n",
    "                     objective=kt.Objective(\"val_categorical_accuracy\", direction=\"max\"),\n",
    "                     max_epochs=epochs_tuning,\n",
    "                     #overwrite=True,\n",
    "                     directory=\"tuner_ca\",\n",
    "                     project_name=\"tuner_bilstm_two_dense\")\n",
    "tuner_bilstm_two_dense.search(X_train, y_train, epochs=epochs_tuning, batch_size=batch_size_tuning, validation_data=(X_dev, y_dev))\n",
    "best_hps_bilstm_two_dense = tuner_bilstm_two_dense.get_best_hyperparameters()[0]\n",
    "\n",
    "print(f\"The hyperparameter search is complete.\\n\" \n",
    "      f\"The optimal number of units in the LSTM layer is {best_hps_bilstm_two_dense.get('units1')}.\\n\" \n",
    "      f\"The optimal number of units in first densely-connected layer is {best_hps_bilstm_two_dense.get('units2')}.\\n\" \n",
    "      f\"The optimal rate for the second Dropout layer is {best_hps_bilstm_two_dense.get('dropout')}.\\n\"\n",
    "      f\"The optimal learning rate for the optimizer is {best_hps_bilstm_two_dense.get('learning_rate')}.\")"
   ]
  },
  {
   "cell_type": "markdown",
   "metadata": {
    "id": "kWdZM3rskqzr"
   },
   "source": [
    "### 2.3 Model training"
   ]
  },
  {
   "cell_type": "code",
   "execution_count": 27,
   "metadata": {
    "id": "HGdlAMOu3ZUN"
   },
   "outputs": [],
   "source": [
    "epochs_training = 100\n",
    "batch_size_training = 64\n",
    "callbacks_training = [keras.callbacks.EarlyStopping(monitor='val_categorical_accuracy', patience=10, mode=\"max\", restore_best_weights=True)]"
   ]
  },
  {
   "cell_type": "code",
   "execution_count": 28,
   "metadata": {
    "id": "1CkJaP7_3ZUN"
   },
   "outputs": [],
   "source": [
    "def create_model(layers_info, compile_info):\n",
    "    \"\"\"\n",
    "    Create a Keras model given a list of layer information\n",
    "\n",
    "    Parameters\n",
    "    ----------\n",
    "    layers_info : a list of dictionaries, one for each layer\n",
    "    compile_info : dictionary containing compile information\n",
    "\n",
    "    Returns\n",
    "    -------\n",
    "    model: the built keras sequential model\n",
    "    \"\"\"\n",
    "\n",
    "    model = keras.Sequential()\n",
    "    for info in layers_info:\n",
    "        layer = info['layer_name'](**{key: value for key, value in info.items() if key != 'layer_name'})\n",
    "        model.add(layer)\n",
    "\n",
    "    # Compile\n",
    "    model.compile(**compile_info)\n",
    "\n",
    "    return model"
   ]
  },
  {
   "cell_type": "markdown",
   "metadata": {
    "id": "XNvSu_g23ZUN"
   },
   "source": [
    "Model 1: Bidirectional LSMT + Dense layer variant training"
   ]
  },
  {
   "cell_type": "code",
   "execution_count": 29,
   "metadata": {
    "id": "f57Z0qk03ZUO"
   },
   "outputs": [
    {
     "name": "stdout",
     "output_type": "stream",
     "text": [
      "Model: \"sequential_1\"\n",
      "_________________________________________________________________\n",
      " Layer (type)                Output Shape              Param #   \n",
      "=================================================================\n",
      " padding_masking (Masking)   (None, 249, 100)          0         \n",
      "                                                                 \n",
      " bilstm_1 (Bidirectional)    (None, 249, 512)          731136    \n",
      "                                                                 \n",
      " dense_1 (Dense)             (None, 249, 45)           23085     \n",
      "                                                                 \n",
      "=================================================================\n",
      "Total params: 754,221\n",
      "Trainable params: 754,221\n",
      "Non-trainable params: 0\n",
      "_________________________________________________________________\n",
      "Epoch 1/100\n",
      "31/31 [==============================] - 10s 131ms/step - loss: 0.7293 - categorical_accuracy: 0.2074 - f1_with_tfa: 0.0228 - val_loss: 0.3022 - val_categorical_accuracy: 0.3399 - val_f1_with_tfa: 0.0500\n",
      "Epoch 2/100\n",
      "31/31 [==============================] - 1s 46ms/step - loss: 0.2127 - categorical_accuracy: 0.5146 - f1_with_tfa: 0.1413 - val_loss: 0.1655 - val_categorical_accuracy: 0.6390 - val_f1_with_tfa: 0.2405\n",
      "Epoch 3/100\n",
      "31/31 [==============================] - 1s 45ms/step - loss: 0.1399 - categorical_accuracy: 0.7019 - f1_with_tfa: 0.2929 - val_loss: 0.1297 - val_categorical_accuracy: 0.7251 - val_f1_with_tfa: 0.3308\n",
      "Epoch 4/100\n",
      "31/31 [==============================] - 1s 46ms/step - loss: 0.1193 - categorical_accuracy: 0.7515 - f1_with_tfa: 0.3499 - val_loss: 0.1172 - val_categorical_accuracy: 0.7513 - val_f1_with_tfa: 0.3626\n",
      "Epoch 5/100\n",
      "31/31 [==============================] - 1s 45ms/step - loss: 0.1054 - categorical_accuracy: 0.7842 - f1_with_tfa: 0.3874 - val_loss: 0.1066 - val_categorical_accuracy: 0.7782 - val_f1_with_tfa: 0.3957\n",
      "Epoch 6/100\n",
      "31/31 [==============================] - 1s 44ms/step - loss: 0.0971 - categorical_accuracy: 0.8032 - f1_with_tfa: 0.4120 - val_loss: 0.1005 - val_categorical_accuracy: 0.7869 - val_f1_with_tfa: 0.4070\n",
      "Epoch 7/100\n",
      "31/31 [==============================] - 1s 43ms/step - loss: 0.0950 - categorical_accuracy: 0.8037 - f1_with_tfa: 0.4205 - val_loss: 0.0996 - val_categorical_accuracy: 0.7875 - val_f1_with_tfa: 0.4001\n",
      "Epoch 8/100\n",
      "31/31 [==============================] - 1s 44ms/step - loss: 0.0896 - categorical_accuracy: 0.8197 - f1_with_tfa: 0.4341 - val_loss: 0.0915 - val_categorical_accuracy: 0.8121 - val_f1_with_tfa: 0.4275\n",
      "Epoch 9/100\n",
      "31/31 [==============================] - 1s 44ms/step - loss: 0.0853 - categorical_accuracy: 0.8271 - f1_with_tfa: 0.4433 - val_loss: 0.0903 - val_categorical_accuracy: 0.8062 - val_f1_with_tfa: 0.4301\n",
      "Epoch 10/100\n",
      "31/31 [==============================] - 1s 46ms/step - loss: 0.0815 - categorical_accuracy: 0.8355 - f1_with_tfa: 0.4593 - val_loss: 0.0892 - val_categorical_accuracy: 0.8005 - val_f1_with_tfa: 0.4209\n",
      "Epoch 11/100\n",
      "31/31 [==============================] - 2s 51ms/step - loss: 0.0808 - categorical_accuracy: 0.8353 - f1_with_tfa: 0.4585 - val_loss: 0.0841 - val_categorical_accuracy: 0.8235 - val_f1_with_tfa: 0.4452\n",
      "Epoch 12/100\n",
      "31/31 [==============================] - 2s 51ms/step - loss: 0.0786 - categorical_accuracy: 0.8399 - f1_with_tfa: 0.4602 - val_loss: 0.0864 - val_categorical_accuracy: 0.8109 - val_f1_with_tfa: 0.4349\n",
      "Epoch 13/100\n",
      "31/31 [==============================] - 2s 50ms/step - loss: 0.0761 - categorical_accuracy: 0.8461 - f1_with_tfa: 0.4752 - val_loss: 0.0792 - val_categorical_accuracy: 0.8349 - val_f1_with_tfa: 0.4596\n",
      "Epoch 14/100\n",
      "31/31 [==============================] - 2s 50ms/step - loss: 0.0738 - categorical_accuracy: 0.8499 - f1_with_tfa: 0.4806 - val_loss: 0.0814 - val_categorical_accuracy: 0.8195 - val_f1_with_tfa: 0.4412\n",
      "Epoch 15/100\n",
      "31/31 [==============================] - 2s 57ms/step - loss: 0.0731 - categorical_accuracy: 0.8519 - f1_with_tfa: 0.4814 - val_loss: 0.0810 - val_categorical_accuracy: 0.8254 - val_f1_with_tfa: 0.4618\n",
      "Epoch 16/100\n",
      "31/31 [==============================] - 2s 51ms/step - loss: 0.0725 - categorical_accuracy: 0.8517 - f1_with_tfa: 0.4828 - val_loss: 0.0827 - val_categorical_accuracy: 0.8214 - val_f1_with_tfa: 0.4602\n",
      "Epoch 17/100\n",
      "31/31 [==============================] - 2s 49ms/step - loss: 0.0708 - categorical_accuracy: 0.8548 - f1_with_tfa: 0.4906 - val_loss: 0.0795 - val_categorical_accuracy: 0.8297 - val_f1_with_tfa: 0.4683\n",
      "Epoch 18/100\n",
      "31/31 [==============================] - 2s 50ms/step - loss: 0.0702 - categorical_accuracy: 0.8564 - f1_with_tfa: 0.4884 - val_loss: 0.0766 - val_categorical_accuracy: 0.8361 - val_f1_with_tfa: 0.4724\n",
      "Epoch 19/100\n",
      "31/31 [==============================] - 2s 50ms/step - loss: 0.0697 - categorical_accuracy: 0.8600 - f1_with_tfa: 0.4915 - val_loss: 0.0768 - val_categorical_accuracy: 0.8339 - val_f1_with_tfa: 0.4790\n",
      "Epoch 20/100\n",
      "31/31 [==============================] - 2s 51ms/step - loss: 0.0669 - categorical_accuracy: 0.8642 - f1_with_tfa: 0.5023 - val_loss: 0.0819 - val_categorical_accuracy: 0.8254 - val_f1_with_tfa: 0.4594\n",
      "Epoch 21/100\n",
      "31/31 [==============================] - 2s 49ms/step - loss: 0.0678 - categorical_accuracy: 0.8646 - f1_with_tfa: 0.5018 - val_loss: 0.0767 - val_categorical_accuracy: 0.8356 - val_f1_with_tfa: 0.4800\n",
      "Epoch 22/100\n",
      "31/31 [==============================] - 2s 50ms/step - loss: 0.0653 - categorical_accuracy: 0.8697 - f1_with_tfa: 0.5109 - val_loss: 0.0765 - val_categorical_accuracy: 0.8393 - val_f1_with_tfa: 0.4758\n",
      "Epoch 23/100\n",
      "31/31 [==============================] - 2s 51ms/step - loss: 0.0654 - categorical_accuracy: 0.8692 - f1_with_tfa: 0.5090 - val_loss: 0.0774 - val_categorical_accuracy: 0.8339 - val_f1_with_tfa: 0.4676\n",
      "Epoch 24/100\n",
      "31/31 [==============================] - 2s 48ms/step - loss: 0.0640 - categorical_accuracy: 0.8751 - f1_with_tfa: 0.5189 - val_loss: 0.0751 - val_categorical_accuracy: 0.8455 - val_f1_with_tfa: 0.4768\n",
      "Epoch 25/100\n",
      "31/31 [==============================] - 2s 49ms/step - loss: 0.0630 - categorical_accuracy: 0.8774 - f1_with_tfa: 0.5188 - val_loss: 0.0784 - val_categorical_accuracy: 0.8249 - val_f1_with_tfa: 0.4608\n",
      "Epoch 26/100\n",
      "31/31 [==============================] - 2s 50ms/step - loss: 0.0613 - categorical_accuracy: 0.8807 - f1_with_tfa: 0.5253 - val_loss: 0.0789 - val_categorical_accuracy: 0.8253 - val_f1_with_tfa: 0.4634\n",
      "Epoch 27/100\n",
      "31/31 [==============================] - 2s 49ms/step - loss: 0.0621 - categorical_accuracy: 0.8802 - f1_with_tfa: 0.5296 - val_loss: 0.0786 - val_categorical_accuracy: 0.8326 - val_f1_with_tfa: 0.4630\n",
      "Epoch 28/100\n",
      "31/31 [==============================] - 2s 50ms/step - loss: 0.0608 - categorical_accuracy: 0.8866 - f1_with_tfa: 0.5371 - val_loss: 0.0775 - val_categorical_accuracy: 0.8356 - val_f1_with_tfa: 0.4851\n",
      "Epoch 29/100\n",
      "31/31 [==============================] - 2s 52ms/step - loss: 0.0609 - categorical_accuracy: 0.8876 - f1_with_tfa: 0.5338 - val_loss: 0.0810 - val_categorical_accuracy: 0.8230 - val_f1_with_tfa: 0.4733\n",
      "Epoch 30/100\n",
      "31/31 [==============================] - 2s 51ms/step - loss: 0.0594 - categorical_accuracy: 0.8901 - f1_with_tfa: 0.5441 - val_loss: 0.0809 - val_categorical_accuracy: 0.8207 - val_f1_with_tfa: 0.4613\n",
      "Epoch 31/100\n",
      "31/31 [==============================] - 2s 56ms/step - loss: 0.0581 - categorical_accuracy: 0.8958 - f1_with_tfa: 0.5455 - val_loss: 0.0844 - val_categorical_accuracy: 0.8142 - val_f1_with_tfa: 0.4496\n",
      "Epoch 32/100\n",
      "31/31 [==============================] - 2s 51ms/step - loss: 0.0581 - categorical_accuracy: 0.8947 - f1_with_tfa: 0.5427 - val_loss: 0.0810 - val_categorical_accuracy: 0.8239 - val_f1_with_tfa: 0.4726\n",
      "Epoch 33/100\n",
      "31/31 [==============================] - 2s 50ms/step - loss: 0.0576 - categorical_accuracy: 0.8975 - f1_with_tfa: 0.5498 - val_loss: 0.0814 - val_categorical_accuracy: 0.8288 - val_f1_with_tfa: 0.4683\n",
      "Epoch 34/100\n",
      "31/31 [==============================] - 2s 52ms/step - loss: 0.0569 - categorical_accuracy: 0.9019 - f1_with_tfa: 0.5494 - val_loss: 0.0821 - val_categorical_accuracy: 0.8238 - val_f1_with_tfa: 0.4636\n"
     ]
    }
   ],
   "source": [
    "# first model    \n",
    "layers_info_bilstm = [\n",
    "    {\n",
    "        \"layer_name\": layers.Masking,\n",
    "        \"name\": \"padding_masking\",\n",
    "        \"mask_value\": 0.,\n",
    "        \"input_shape\": X_train.shape[1:]\n",
    "    },\n",
    "    {\n",
    "        'layer_name': layers.Bidirectional,\n",
    "        \"layer\": layers.LSTM(best_hps_bilstm.get('units'), return_sequences=True, kernel_regularizer=keras.regularizers.l2(0.01)),\n",
    "        \"name\": \"bilstm_1\",\n",
    "    },\n",
    "    {\n",
    "        \"layer_name\": layers.Dense,\n",
    "        \"units\": n_classes,\n",
    "        \"activation\": \"softmax\",\n",
    "        \"name\": \"dense_1\"\n",
    "    }\n",
    "]\n",
    "\n",
    "compile_info_bilstm = {\n",
    "    'optimizer': keras.optimizers.Adam(learning_rate=best_hps_bilstm.get('learning_rate')),\n",
    "    'loss': 'categorical_crossentropy',\n",
    "    'metrics' : ['categorical_accuracy', f1_with_tfa]\n",
    "}\n",
    "\n",
    "model_bilstm = create_model(layers_info_bilstm, compile_info_bilstm)\n",
    "model_bilstm.summary()\n",
    "\n",
    "# start training\n",
    "history_bilstm = model_bilstm.fit(X_train, y_train, epochs=epochs_training, batch_size=batch_size_training, validation_data=(X_dev, y_dev), callbacks=callbacks_training)"
   ]
  },
  {
   "cell_type": "markdown",
   "metadata": {
    "id": "V2QWE-m03ZUO"
   },
   "source": [
    "Model 2: Bidirectional GRU + Dense layer variant training"
   ]
  },
  {
   "cell_type": "code",
   "execution_count": 30,
   "metadata": {
    "id": "nXZNNrlO3ZUO"
   },
   "outputs": [
    {
     "name": "stdout",
     "output_type": "stream",
     "text": [
      "Model: \"sequential_2\"\n",
      "_________________________________________________________________\n",
      " Layer (type)                Output Shape              Param #   \n",
      "=================================================================\n",
      " padding_masking (Masking)   (None, 249, 100)          0         \n",
      "                                                                 \n",
      " bigru_1 (Bidirectional)     (None, 249, 256)          176640    \n",
      "                                                                 \n",
      " dense_1 (Dense)             (None, 249, 45)           11565     \n",
      "                                                                 \n",
      "=================================================================\n",
      "Total params: 188,205\n",
      "Trainable params: 188,205\n",
      "Non-trainable params: 0\n",
      "_________________________________________________________________\n",
      "Epoch 1/100\n",
      "31/31 [==============================] - 10s 118ms/step - loss: 0.6656 - categorical_accuracy: 0.4860 - f1_with_tfa: 0.1329 - val_loss: 0.1811 - val_categorical_accuracy: 0.6768 - val_f1_with_tfa: 0.2735\n",
      "Epoch 2/100\n",
      "31/31 [==============================] - 1s 40ms/step - loss: 0.1421 - categorical_accuracy: 0.7412 - f1_with_tfa: 0.3248 - val_loss: 0.1227 - val_categorical_accuracy: 0.7458 - val_f1_with_tfa: 0.3431\n",
      "Epoch 3/100\n",
      "31/31 [==============================] - 1s 42ms/step - loss: 0.1121 - categorical_accuracy: 0.7773 - f1_with_tfa: 0.3754 - val_loss: 0.1053 - val_categorical_accuracy: 0.7841 - val_f1_with_tfa: 0.3900\n",
      "Epoch 4/100\n",
      "31/31 [==============================] - 1s 44ms/step - loss: 0.0973 - categorical_accuracy: 0.8066 - f1_with_tfa: 0.4106 - val_loss: 0.0993 - val_categorical_accuracy: 0.7906 - val_f1_with_tfa: 0.4237\n",
      "Epoch 5/100\n",
      "31/31 [==============================] - 1s 39ms/step - loss: 0.0906 - categorical_accuracy: 0.8191 - f1_with_tfa: 0.4291 - val_loss: 0.0982 - val_categorical_accuracy: 0.7916 - val_f1_with_tfa: 0.4198\n",
      "Epoch 6/100\n",
      "31/31 [==============================] - 1s 39ms/step - loss: 0.0884 - categorical_accuracy: 0.8202 - f1_with_tfa: 0.4416 - val_loss: 0.0902 - val_categorical_accuracy: 0.8084 - val_f1_with_tfa: 0.4322\n",
      "Epoch 7/100\n",
      "31/31 [==============================] - 1s 38ms/step - loss: 0.0833 - categorical_accuracy: 0.8327 - f1_with_tfa: 0.4548 - val_loss: 0.0885 - val_categorical_accuracy: 0.7992 - val_f1_with_tfa: 0.4222\n",
      "Epoch 8/100\n",
      "31/31 [==============================] - 1s 39ms/step - loss: 0.0783 - categorical_accuracy: 0.8434 - f1_with_tfa: 0.4710 - val_loss: 0.0815 - val_categorical_accuracy: 0.8293 - val_f1_with_tfa: 0.4565\n",
      "Epoch 9/100\n",
      "31/31 [==============================] - 1s 39ms/step - loss: 0.0770 - categorical_accuracy: 0.8432 - f1_with_tfa: 0.4693 - val_loss: 0.0815 - val_categorical_accuracy: 0.8291 - val_f1_with_tfa: 0.4647\n",
      "Epoch 10/100\n",
      "31/31 [==============================] - 1s 39ms/step - loss: 0.0769 - categorical_accuracy: 0.8418 - f1_with_tfa: 0.4728 - val_loss: 0.0795 - val_categorical_accuracy: 0.8322 - val_f1_with_tfa: 0.4609\n",
      "Epoch 11/100\n",
      "31/31 [==============================] - 1s 38ms/step - loss: 0.0741 - categorical_accuracy: 0.8469 - f1_with_tfa: 0.4786 - val_loss: 0.0855 - val_categorical_accuracy: 0.8016 - val_f1_with_tfa: 0.4437\n",
      "Epoch 12/100\n",
      "31/31 [==============================] - 1s 39ms/step - loss: 0.0743 - categorical_accuracy: 0.8465 - f1_with_tfa: 0.4786 - val_loss: 0.0814 - val_categorical_accuracy: 0.8250 - val_f1_with_tfa: 0.4633\n",
      "Epoch 13/100\n",
      "31/31 [==============================] - 1s 38ms/step - loss: 0.0705 - categorical_accuracy: 0.8568 - f1_with_tfa: 0.4948 - val_loss: 0.0755 - val_categorical_accuracy: 0.8410 - val_f1_with_tfa: 0.4774\n",
      "Epoch 14/100\n",
      "31/31 [==============================] - 1s 39ms/step - loss: 0.0681 - categorical_accuracy: 0.8607 - f1_with_tfa: 0.4946 - val_loss: 0.0737 - val_categorical_accuracy: 0.8442 - val_f1_with_tfa: 0.4792\n",
      "Epoch 15/100\n",
      "31/31 [==============================] - 1s 39ms/step - loss: 0.0682 - categorical_accuracy: 0.8602 - f1_with_tfa: 0.5000 - val_loss: 0.0756 - val_categorical_accuracy: 0.8399 - val_f1_with_tfa: 0.4813\n",
      "Epoch 16/100\n",
      "31/31 [==============================] - 1s 38ms/step - loss: 0.0663 - categorical_accuracy: 0.8658 - f1_with_tfa: 0.5048 - val_loss: 0.0767 - val_categorical_accuracy: 0.8341 - val_f1_with_tfa: 0.4769\n",
      "Epoch 17/100\n",
      "31/31 [==============================] - 1s 38ms/step - loss: 0.0663 - categorical_accuracy: 0.8662 - f1_with_tfa: 0.5083 - val_loss: 0.0730 - val_categorical_accuracy: 0.8464 - val_f1_with_tfa: 0.4832\n",
      "Epoch 18/100\n",
      "31/31 [==============================] - 1s 38ms/step - loss: 0.0656 - categorical_accuracy: 0.8669 - f1_with_tfa: 0.5073 - val_loss: 0.0744 - val_categorical_accuracy: 0.8417 - val_f1_with_tfa: 0.4853\n",
      "Epoch 19/100\n",
      "31/31 [==============================] - 1s 37ms/step - loss: 0.0634 - categorical_accuracy: 0.8725 - f1_with_tfa: 0.5202 - val_loss: 0.0751 - val_categorical_accuracy: 0.8335 - val_f1_with_tfa: 0.4684\n",
      "Epoch 20/100\n",
      "31/31 [==============================] - 1s 39ms/step - loss: 0.0633 - categorical_accuracy: 0.8725 - f1_with_tfa: 0.5209 - val_loss: 0.0756 - val_categorical_accuracy: 0.8352 - val_f1_with_tfa: 0.4722\n",
      "Epoch 21/100\n",
      "31/31 [==============================] - 1s 38ms/step - loss: 0.0620 - categorical_accuracy: 0.8758 - f1_with_tfa: 0.5190 - val_loss: 0.0790 - val_categorical_accuracy: 0.8223 - val_f1_with_tfa: 0.4686\n",
      "Epoch 22/100\n",
      "31/31 [==============================] - 1s 38ms/step - loss: 0.0611 - categorical_accuracy: 0.8800 - f1_with_tfa: 0.5249 - val_loss: 0.0756 - val_categorical_accuracy: 0.8335 - val_f1_with_tfa: 0.4739\n",
      "Epoch 23/100\n",
      "31/31 [==============================] - 1s 39ms/step - loss: 0.0607 - categorical_accuracy: 0.8811 - f1_with_tfa: 0.5321 - val_loss: 0.0748 - val_categorical_accuracy: 0.8388 - val_f1_with_tfa: 0.4701\n",
      "Epoch 24/100\n",
      "31/31 [==============================] - 1s 38ms/step - loss: 0.0602 - categorical_accuracy: 0.8835 - f1_with_tfa: 0.5355 - val_loss: 0.0779 - val_categorical_accuracy: 0.8305 - val_f1_with_tfa: 0.4843\n",
      "Epoch 25/100\n",
      "31/31 [==============================] - 1s 39ms/step - loss: 0.0612 - categorical_accuracy: 0.8800 - f1_with_tfa: 0.5333 - val_loss: 0.0820 - val_categorical_accuracy: 0.8168 - val_f1_with_tfa: 0.4568\n",
      "Epoch 26/100\n",
      "31/31 [==============================] - 1s 39ms/step - loss: 0.0597 - categorical_accuracy: 0.8852 - f1_with_tfa: 0.5340 - val_loss: 0.0766 - val_categorical_accuracy: 0.8333 - val_f1_with_tfa: 0.4773\n",
      "Epoch 27/100\n",
      "31/31 [==============================] - 1s 39ms/step - loss: 0.0564 - categorical_accuracy: 0.8944 - f1_with_tfa: 0.5432 - val_loss: 0.0767 - val_categorical_accuracy: 0.8327 - val_f1_with_tfa: 0.4792\n"
     ]
    }
   ],
   "source": [
    "# second model    \n",
    "layers_info_bigru = [\n",
    "    {\n",
    "        \"layer_name\": layers.Masking,\n",
    "        \"name\": \"padding_masking\",\n",
    "        \"mask_value\": 0.,\n",
    "        \"input_shape\": X_train.shape[1:]\n",
    "    },\n",
    "    {\n",
    "        'layer_name': layers.Bidirectional,\n",
    "        \"layer\": layers.GRU(best_hps_bigru.get('units'), return_sequences=True, kernel_regularizer=keras.regularizers.l2(0.01)),\n",
    "        \"name\": \"bigru_1\",\n",
    "    },\n",
    "    {\n",
    "        \"layer_name\": layers.Dense,\n",
    "        \"units\": n_classes,\n",
    "        \"activation\": \"softmax\",\n",
    "        \"name\": \"dense_1\"\n",
    "    }\n",
    "]\n",
    "\n",
    "compile_info_bigru = {\n",
    "    'optimizer': keras.optimizers.Adam(learning_rate=best_hps_bigru.get('learning_rate')),\n",
    "    'loss': 'categorical_crossentropy',\n",
    "    'metrics' : ['categorical_accuracy', f1_with_tfa]\n",
    "}\n",
    "\n",
    "model_bigru = create_model(layers_info_bigru, compile_info_bigru)\n",
    "model_bigru.summary()\n",
    "\n",
    "# start training\n",
    "history_bigru = model_bigru.fit(X_train, y_train, epochs=epochs_training, batch_size=batch_size_training, validation_data=(X_dev, y_dev),  callbacks=callbacks_training)"
   ]
  },
  {
   "cell_type": "markdown",
   "metadata": {
    "id": "P52dWFq63ZUO"
   },
   "source": [
    "Model 3: Two Bidirectional LSMT + Dense layer variant training"
   ]
  },
  {
   "cell_type": "code",
   "execution_count": 31,
   "metadata": {
    "id": "gzTLBLdC3ZUO"
   },
   "outputs": [
    {
     "name": "stdout",
     "output_type": "stream",
     "text": [
      "Model: \"sequential_3\"\n",
      "_________________________________________________________________\n",
      " Layer (type)                Output Shape              Param #   \n",
      "=================================================================\n",
      " padding_masking (Masking)   (None, 249, 100)          0         \n",
      "                                                                 \n",
      " bilstm_1 (Bidirectional)    (None, 249, 128)          84480     \n",
      "                                                                 \n",
      " bilstm_2 (Bidirectional)    (None, 249, 128)          98816     \n",
      "                                                                 \n",
      " dense_1 (Dense)             (None, 249, 45)           5805      \n",
      "                                                                 \n",
      "=================================================================\n",
      "Total params: 189,101\n",
      "Trainable params: 189,101\n",
      "Non-trainable params: 0\n",
      "_________________________________________________________________\n",
      "Epoch 1/100\n",
      "31/31 [==============================] - 18s 224ms/step - loss: 1.2326 - categorical_accuracy: 0.1525 - f1_with_tfa: 0.0096 - val_loss: 0.3373 - val_categorical_accuracy: 0.1781 - val_f1_with_tfa: 0.0123\n",
      "Epoch 2/100\n",
      "31/31 [==============================] - 2s 71ms/step - loss: 0.2982 - categorical_accuracy: 0.1707 - f1_with_tfa: 0.0110 - val_loss: 0.2816 - val_categorical_accuracy: 0.1871 - val_f1_with_tfa: 0.0126\n",
      "Epoch 3/100\n",
      "31/31 [==============================] - 2s 67ms/step - loss: 0.2745 - categorical_accuracy: 0.1788 - f1_with_tfa: 0.0137 - val_loss: 0.2761 - val_categorical_accuracy: 0.1812 - val_f1_with_tfa: 0.0162\n",
      "Epoch 4/100\n",
      "31/31 [==============================] - 2s 67ms/step - loss: 0.2716 - categorical_accuracy: 0.1805 - f1_with_tfa: 0.0152 - val_loss: 0.2742 - val_categorical_accuracy: 0.1767 - val_f1_with_tfa: 0.0183\n",
      "Epoch 5/100\n",
      "31/31 [==============================] - 2s 68ms/step - loss: 0.2737 - categorical_accuracy: 0.1786 - f1_with_tfa: 0.0156 - val_loss: 0.2759 - val_categorical_accuracy: 0.1768 - val_f1_with_tfa: 0.0183\n",
      "Epoch 6/100\n",
      "31/31 [==============================] - 2s 69ms/step - loss: 0.2708 - categorical_accuracy: 0.1817 - f1_with_tfa: 0.0160 - val_loss: 0.2748 - val_categorical_accuracy: 0.1609 - val_f1_with_tfa: 0.0169\n",
      "Epoch 7/100\n",
      "31/31 [==============================] - 2s 68ms/step - loss: 0.2694 - categorical_accuracy: 0.1838 - f1_with_tfa: 0.0169 - val_loss: 0.2741 - val_categorical_accuracy: 0.1730 - val_f1_with_tfa: 0.0160\n",
      "Epoch 8/100\n",
      "31/31 [==============================] - 2s 68ms/step - loss: 0.2691 - categorical_accuracy: 0.1866 - f1_with_tfa: 0.0170 - val_loss: 0.2736 - val_categorical_accuracy: 0.1735 - val_f1_with_tfa: 0.0169\n",
      "Epoch 9/100\n",
      "31/31 [==============================] - 2s 67ms/step - loss: 0.2688 - categorical_accuracy: 0.1871 - f1_with_tfa: 0.0173 - val_loss: 0.2734 - val_categorical_accuracy: 0.1865 - val_f1_with_tfa: 0.0144\n",
      "Epoch 10/100\n",
      "31/31 [==============================] - 2s 67ms/step - loss: 0.2686 - categorical_accuracy: 0.1864 - f1_with_tfa: 0.0177 - val_loss: 0.2736 - val_categorical_accuracy: 0.1802 - val_f1_with_tfa: 0.0158\n",
      "Epoch 11/100\n",
      "31/31 [==============================] - 2s 67ms/step - loss: 0.2682 - categorical_accuracy: 0.1877 - f1_with_tfa: 0.0177 - val_loss: 0.2730 - val_categorical_accuracy: 0.1860 - val_f1_with_tfa: 0.0141\n",
      "Epoch 12/100\n",
      "31/31 [==============================] - 2s 68ms/step - loss: 0.2681 - categorical_accuracy: 0.1863 - f1_with_tfa: 0.0173 - val_loss: 0.2740 - val_categorical_accuracy: 0.1691 - val_f1_with_tfa: 0.0142\n"
     ]
    }
   ],
   "source": [
    "# third model    \n",
    "layers_info_two_bilstm = [\n",
    "    {\n",
    "        \"layer_name\": layers.Masking,\n",
    "        \"name\": \"padding_masking\",\n",
    "        \"mask_value\": 0.,\n",
    "        \"input_shape\": X_train.shape[1:]\n",
    "    },\n",
    "    {\n",
    "        'layer_name': layers.Bidirectional,\n",
    "        \"layer\": layers.LSTM(best_hps_two_bilstm.get('units1'), return_sequences=True, kernel_regularizer=keras.regularizers.l2(0.01)),\n",
    "        \"name\": \"bilstm_1\",\n",
    "    },\n",
    "    {\n",
    "        'layer_name': layers.Bidirectional,\n",
    "        \"layer\": layers.LSTM(best_hps_two_bilstm.get('units2'), return_sequences=True, kernel_regularizer=keras.regularizers.l2(0.01)),\n",
    "        \"name\": \"bilstm_2\",\n",
    "    },\n",
    "    {\n",
    "        \"layer_name\": layers.Dense,\n",
    "        \"units\": n_classes,\n",
    "        \"activation\": \"softmax\",\n",
    "        \"name\": \"dense_1\"\n",
    "    }\n",
    "]\n",
    "\n",
    "compile_info_two_bilstm = {\n",
    "    'optimizer': keras.optimizers.Adam(learning_rate=best_hps_two_bilstm.get('learning_rate')),\n",
    "    'loss': 'categorical_crossentropy',\n",
    "    'metrics' : ['categorical_accuracy', f1_with_tfa]\n",
    "}\n",
    "\n",
    "model_two_bilstm = create_model(layers_info_two_bilstm, compile_info_two_bilstm)\n",
    "model_two_bilstm.summary()\n",
    "\n",
    "# start training\n",
    "history_two_bilstm = model_two_bilstm.fit(X_train, y_train, epochs=epochs_training, batch_size=batch_size_training, validation_data=(X_dev, y_dev), callbacks=callbacks_training)"
   ]
  },
  {
   "cell_type": "markdown",
   "metadata": {
    "id": "BDri7iKq3ZUP"
   },
   "source": [
    "Model 4: Bidirectional LSMT + two Dense layer variant training"
   ]
  },
  {
   "cell_type": "code",
   "execution_count": 32,
   "metadata": {
    "id": "OrxBTqOQ3ZUP"
   },
   "outputs": [
    {
     "name": "stdout",
     "output_type": "stream",
     "text": [
      "Model: \"sequential_4\"\n",
      "_________________________________________________________________\n",
      " Layer (type)                Output Shape              Param #   \n",
      "=================================================================\n",
      " padding_masking (Masking)   (None, 249, 100)          0         \n",
      "                                                                 \n",
      " bilstm_1 (Bidirectional)    (None, 249, 128)          84480     \n",
      "                                                                 \n",
      " dense_1 (Dense)             (None, 249, 256)          33024     \n",
      "                                                                 \n",
      " dropout_2 (Dropout)         (None, 249, 256)          0         \n",
      "                                                                 \n",
      " dense_2 (Dense)             (None, 249, 45)           11565     \n",
      "                                                                 \n",
      "=================================================================\n",
      "Total params: 129,069\n",
      "Trainable params: 129,069\n",
      "Non-trainable params: 0\n",
      "_________________________________________________________________\n",
      "Epoch 1/100\n",
      "31/31 [==============================] - 10s 129ms/step - loss: 0.9852 - categorical_accuracy: 0.1501 - f1_with_tfa: 0.0054 - val_loss: 0.3305 - val_categorical_accuracy: 0.1544 - val_f1_with_tfa: 0.0108\n",
      "Epoch 2/100\n",
      "31/31 [==============================] - 1s 47ms/step - loss: 0.2973 - categorical_accuracy: 0.1716 - f1_with_tfa: 0.0123 - val_loss: 0.2846 - val_categorical_accuracy: 0.1325 - val_f1_with_tfa: 0.0082\n",
      "Epoch 3/100\n",
      "31/31 [==============================] - 1s 48ms/step - loss: 0.2695 - categorical_accuracy: 0.2567 - f1_with_tfa: 0.0257 - val_loss: 0.2545 - val_categorical_accuracy: 0.3278 - val_f1_with_tfa: 0.0380\n",
      "Epoch 4/100\n",
      "31/31 [==============================] - 1s 46ms/step - loss: 0.2587 - categorical_accuracy: 0.3127 - f1_with_tfa: 0.0376 - val_loss: 0.2456 - val_categorical_accuracy: 0.3507 - val_f1_with_tfa: 0.0385\n",
      "Epoch 5/100\n",
      "31/31 [==============================] - 1s 43ms/step - loss: 0.2320 - categorical_accuracy: 0.3677 - f1_with_tfa: 0.0478 - val_loss: 0.2270 - val_categorical_accuracy: 0.4116 - val_f1_with_tfa: 0.0588\n",
      "Epoch 6/100\n",
      "31/31 [==============================] - 1s 44ms/step - loss: 0.2197 - categorical_accuracy: 0.4102 - f1_with_tfa: 0.0509 - val_loss: 0.2132 - val_categorical_accuracy: 0.4344 - val_f1_with_tfa: 0.0582\n",
      "Epoch 7/100\n",
      "31/31 [==============================] - 1s 47ms/step - loss: 0.2134 - categorical_accuracy: 0.4366 - f1_with_tfa: 0.0719 - val_loss: 0.2086 - val_categorical_accuracy: 0.4577 - val_f1_with_tfa: 0.1016\n",
      "Epoch 8/100\n",
      "31/31 [==============================] - 1s 44ms/step - loss: 0.1961 - categorical_accuracy: 0.5028 - f1_with_tfa: 0.0999 - val_loss: 0.1920 - val_categorical_accuracy: 0.5230 - val_f1_with_tfa: 0.1166\n",
      "Epoch 9/100\n",
      "31/31 [==============================] - 1s 45ms/step - loss: 0.1871 - categorical_accuracy: 0.5278 - f1_with_tfa: 0.1093 - val_loss: 0.1869 - val_categorical_accuracy: 0.5119 - val_f1_with_tfa: 0.1050\n",
      "Epoch 10/100\n",
      "31/31 [==============================] - 1s 46ms/step - loss: 0.1797 - categorical_accuracy: 0.5512 - f1_with_tfa: 0.1260 - val_loss: 0.1809 - val_categorical_accuracy: 0.5354 - val_f1_with_tfa: 0.1299\n",
      "Epoch 11/100\n",
      "31/31 [==============================] - 1s 46ms/step - loss: 0.1714 - categorical_accuracy: 0.5832 - f1_with_tfa: 0.1599 - val_loss: 0.1700 - val_categorical_accuracy: 0.6016 - val_f1_with_tfa: 0.1855\n",
      "Epoch 12/100\n",
      "31/31 [==============================] - 1s 47ms/step - loss: 0.1647 - categorical_accuracy: 0.6147 - f1_with_tfa: 0.1912 - val_loss: 0.1634 - val_categorical_accuracy: 0.6020 - val_f1_with_tfa: 0.1847\n",
      "Epoch 13/100\n",
      "31/31 [==============================] - 1s 45ms/step - loss: 0.1585 - categorical_accuracy: 0.6414 - f1_with_tfa: 0.2139 - val_loss: 0.1581 - val_categorical_accuracy: 0.6405 - val_f1_with_tfa: 0.2347\n",
      "Epoch 14/100\n",
      "31/31 [==============================] - 1s 44ms/step - loss: 0.1533 - categorical_accuracy: 0.6604 - f1_with_tfa: 0.2273 - val_loss: 0.1532 - val_categorical_accuracy: 0.6693 - val_f1_with_tfa: 0.2497\n",
      "Epoch 15/100\n",
      "31/31 [==============================] - 1s 43ms/step - loss: 0.1481 - categorical_accuracy: 0.6799 - f1_with_tfa: 0.2370 - val_loss: 0.1478 - val_categorical_accuracy: 0.6861 - val_f1_with_tfa: 0.2616\n",
      "Epoch 16/100\n",
      "31/31 [==============================] - 1s 44ms/step - loss: 0.1462 - categorical_accuracy: 0.6848 - f1_with_tfa: 0.2456 - val_loss: 0.1534 - val_categorical_accuracy: 0.6384 - val_f1_with_tfa: 0.2385\n",
      "Epoch 17/100\n",
      "31/31 [==============================] - 1s 43ms/step - loss: 0.1455 - categorical_accuracy: 0.6841 - f1_with_tfa: 0.2479 - val_loss: 0.1443 - val_categorical_accuracy: 0.6854 - val_f1_with_tfa: 0.2596\n",
      "Epoch 18/100\n",
      "31/31 [==============================] - 1s 44ms/step - loss: 0.1409 - categorical_accuracy: 0.7020 - f1_with_tfa: 0.2547 - val_loss: 0.1409 - val_categorical_accuracy: 0.7031 - val_f1_with_tfa: 0.2761\n",
      "Epoch 19/100\n",
      "31/31 [==============================] - 1s 41ms/step - loss: 0.1390 - categorical_accuracy: 0.7072 - f1_with_tfa: 0.2605 - val_loss: 0.1383 - val_categorical_accuracy: 0.7103 - val_f1_with_tfa: 0.2837\n",
      "Epoch 20/100\n",
      "31/31 [==============================] - 1s 42ms/step - loss: 0.1353 - categorical_accuracy: 0.7189 - f1_with_tfa: 0.2669 - val_loss: 0.1367 - val_categorical_accuracy: 0.7017 - val_f1_with_tfa: 0.2808\n",
      "Epoch 21/100\n",
      "31/31 [==============================] - 1s 44ms/step - loss: 0.1351 - categorical_accuracy: 0.7139 - f1_with_tfa: 0.2645 - val_loss: 0.1377 - val_categorical_accuracy: 0.7080 - val_f1_with_tfa: 0.2777\n",
      "Epoch 22/100\n",
      "31/31 [==============================] - 1s 43ms/step - loss: 0.1335 - categorical_accuracy: 0.7228 - f1_with_tfa: 0.2711 - val_loss: 0.1350 - val_categorical_accuracy: 0.7098 - val_f1_with_tfa: 0.2868\n",
      "Epoch 23/100\n",
      "31/31 [==============================] - 1s 42ms/step - loss: 0.1303 - categorical_accuracy: 0.7314 - f1_with_tfa: 0.2785 - val_loss: 0.1324 - val_categorical_accuracy: 0.7172 - val_f1_with_tfa: 0.2943\n",
      "Epoch 24/100\n",
      "31/31 [==============================] - 1s 42ms/step - loss: 0.1283 - categorical_accuracy: 0.7362 - f1_with_tfa: 0.2847 - val_loss: 0.1313 - val_categorical_accuracy: 0.7229 - val_f1_with_tfa: 0.2978\n",
      "Epoch 25/100\n",
      "31/31 [==============================] - 1s 44ms/step - loss: 0.1272 - categorical_accuracy: 0.7396 - f1_with_tfa: 0.2845 - val_loss: 0.1308 - val_categorical_accuracy: 0.7177 - val_f1_with_tfa: 0.2913\n",
      "Epoch 26/100\n",
      "31/31 [==============================] - 1s 44ms/step - loss: 0.1251 - categorical_accuracy: 0.7444 - f1_with_tfa: 0.2851 - val_loss: 0.1270 - val_categorical_accuracy: 0.7295 - val_f1_with_tfa: 0.2946\n",
      "Epoch 27/100\n",
      "31/31 [==============================] - 1s 43ms/step - loss: 0.1275 - categorical_accuracy: 0.7364 - f1_with_tfa: 0.2862 - val_loss: 0.1303 - val_categorical_accuracy: 0.7239 - val_f1_with_tfa: 0.2984\n",
      "Epoch 28/100\n",
      "31/31 [==============================] - 1s 43ms/step - loss: 0.1240 - categorical_accuracy: 0.7478 - f1_with_tfa: 0.2903 - val_loss: 0.1255 - val_categorical_accuracy: 0.7463 - val_f1_with_tfa: 0.3115\n",
      "Epoch 29/100\n",
      "31/31 [==============================] - 1s 42ms/step - loss: 0.1225 - categorical_accuracy: 0.7513 - f1_with_tfa: 0.2924 - val_loss: 0.1271 - val_categorical_accuracy: 0.7344 - val_f1_with_tfa: 0.3101\n",
      "Epoch 30/100\n",
      "31/31 [==============================] - 1s 42ms/step - loss: 0.1219 - categorical_accuracy: 0.7553 - f1_with_tfa: 0.2961 - val_loss: 0.1250 - val_categorical_accuracy: 0.7451 - val_f1_with_tfa: 0.3164\n",
      "Epoch 31/100\n",
      "31/31 [==============================] - 1s 43ms/step - loss: 0.1216 - categorical_accuracy: 0.7568 - f1_with_tfa: 0.2964 - val_loss: 0.1231 - val_categorical_accuracy: 0.7425 - val_f1_with_tfa: 0.3060\n",
      "Epoch 32/100\n",
      "31/31 [==============================] - 1s 43ms/step - loss: 0.1189 - categorical_accuracy: 0.7625 - f1_with_tfa: 0.2993 - val_loss: 0.1273 - val_categorical_accuracy: 0.7313 - val_f1_with_tfa: 0.3050\n",
      "Epoch 33/100\n",
      "31/31 [==============================] - 1s 41ms/step - loss: 0.1170 - categorical_accuracy: 0.7696 - f1_with_tfa: 0.3069 - val_loss: 0.1228 - val_categorical_accuracy: 0.7471 - val_f1_with_tfa: 0.3120\n",
      "Epoch 34/100\n",
      "31/31 [==============================] - 1s 43ms/step - loss: 0.1183 - categorical_accuracy: 0.7630 - f1_with_tfa: 0.3033 - val_loss: 0.1232 - val_categorical_accuracy: 0.7455 - val_f1_with_tfa: 0.3223\n",
      "Epoch 35/100\n",
      "31/31 [==============================] - 1s 44ms/step - loss: 0.1165 - categorical_accuracy: 0.7696 - f1_with_tfa: 0.3113 - val_loss: 0.1214 - val_categorical_accuracy: 0.7512 - val_f1_with_tfa: 0.3221\n",
      "Epoch 36/100\n",
      "31/31 [==============================] - 1s 43ms/step - loss: 0.1155 - categorical_accuracy: 0.7732 - f1_with_tfa: 0.3129 - val_loss: 0.1185 - val_categorical_accuracy: 0.7639 - val_f1_with_tfa: 0.3270\n",
      "Epoch 37/100\n",
      "31/31 [==============================] - 1s 43ms/step - loss: 0.1138 - categorical_accuracy: 0.7771 - f1_with_tfa: 0.3171 - val_loss: 0.1201 - val_categorical_accuracy: 0.7509 - val_f1_with_tfa: 0.3314\n",
      "Epoch 38/100\n",
      "31/31 [==============================] - 1s 42ms/step - loss: 0.1145 - categorical_accuracy: 0.7770 - f1_with_tfa: 0.3198 - val_loss: 0.1191 - val_categorical_accuracy: 0.7546 - val_f1_with_tfa: 0.3283\n",
      "Epoch 39/100\n",
      "31/31 [==============================] - 1s 43ms/step - loss: 0.1131 - categorical_accuracy: 0.7793 - f1_with_tfa: 0.3198 - val_loss: 0.1199 - val_categorical_accuracy: 0.7543 - val_f1_with_tfa: 0.3259\n",
      "Epoch 40/100\n",
      "31/31 [==============================] - 1s 42ms/step - loss: 0.1114 - categorical_accuracy: 0.7846 - f1_with_tfa: 0.3211 - val_loss: 0.1151 - val_categorical_accuracy: 0.7710 - val_f1_with_tfa: 0.3476\n",
      "Epoch 41/100\n",
      "31/31 [==============================] - 1s 42ms/step - loss: 0.1099 - categorical_accuracy: 0.7907 - f1_with_tfa: 0.3267 - val_loss: 0.1150 - val_categorical_accuracy: 0.7668 - val_f1_with_tfa: 0.3422\n",
      "Epoch 42/100\n",
      "31/31 [==============================] - 1s 44ms/step - loss: 0.1095 - categorical_accuracy: 0.7892 - f1_with_tfa: 0.3301 - val_loss: 0.1149 - val_categorical_accuracy: 0.7619 - val_f1_with_tfa: 0.3366\n",
      "Epoch 43/100\n",
      "31/31 [==============================] - 1s 42ms/step - loss: 0.1075 - categorical_accuracy: 0.7960 - f1_with_tfa: 0.3355 - val_loss: 0.1137 - val_categorical_accuracy: 0.7694 - val_f1_with_tfa: 0.3432\n",
      "Epoch 44/100\n",
      "31/31 [==============================] - 1s 42ms/step - loss: 0.1073 - categorical_accuracy: 0.7985 - f1_with_tfa: 0.3348 - val_loss: 0.1129 - val_categorical_accuracy: 0.7758 - val_f1_with_tfa: 0.3583\n",
      "Epoch 45/100\n",
      "31/31 [==============================] - 1s 42ms/step - loss: 0.1069 - categorical_accuracy: 0.7981 - f1_with_tfa: 0.3357 - val_loss: 0.1138 - val_categorical_accuracy: 0.7709 - val_f1_with_tfa: 0.3522\n",
      "Epoch 46/100\n",
      "31/31 [==============================] - 1s 43ms/step - loss: 0.1069 - categorical_accuracy: 0.7969 - f1_with_tfa: 0.3380 - val_loss: 0.1144 - val_categorical_accuracy: 0.7675 - val_f1_with_tfa: 0.3474\n",
      "Epoch 47/100\n",
      "31/31 [==============================] - 1s 43ms/step - loss: 0.1067 - categorical_accuracy: 0.8013 - f1_with_tfa: 0.3407 - val_loss: 0.1107 - val_categorical_accuracy: 0.7833 - val_f1_with_tfa: 0.3639\n",
      "Epoch 48/100\n",
      "31/31 [==============================] - 1s 43ms/step - loss: 0.1051 - categorical_accuracy: 0.8042 - f1_with_tfa: 0.3448 - val_loss: 0.1114 - val_categorical_accuracy: 0.7825 - val_f1_with_tfa: 0.3635\n",
      "Epoch 49/100\n",
      "31/31 [==============================] - 1s 42ms/step - loss: 0.1055 - categorical_accuracy: 0.8010 - f1_with_tfa: 0.3429 - val_loss: 0.1149 - val_categorical_accuracy: 0.7680 - val_f1_with_tfa: 0.3595\n",
      "Epoch 50/100\n",
      "31/31 [==============================] - 1s 42ms/step - loss: 0.1060 - categorical_accuracy: 0.8004 - f1_with_tfa: 0.3462 - val_loss: 0.1116 - val_categorical_accuracy: 0.7766 - val_f1_with_tfa: 0.3581\n",
      "Epoch 51/100\n",
      "31/31 [==============================] - 1s 44ms/step - loss: 0.1034 - categorical_accuracy: 0.8089 - f1_with_tfa: 0.3523 - val_loss: 0.1089 - val_categorical_accuracy: 0.7875 - val_f1_with_tfa: 0.3663\n",
      "Epoch 52/100\n",
      "31/31 [==============================] - 1s 43ms/step - loss: 0.1029 - categorical_accuracy: 0.8098 - f1_with_tfa: 0.3523 - val_loss: 0.1097 - val_categorical_accuracy: 0.7845 - val_f1_with_tfa: 0.3716\n",
      "Epoch 53/100\n",
      "31/31 [==============================] - 1s 43ms/step - loss: 0.1027 - categorical_accuracy: 0.8081 - f1_with_tfa: 0.3511 - val_loss: 0.1130 - val_categorical_accuracy: 0.7647 - val_f1_with_tfa: 0.3603\n",
      "Epoch 54/100\n",
      "31/31 [==============================] - 1s 43ms/step - loss: 0.1126 - categorical_accuracy: 0.7942 - f1_with_tfa: 0.3442 - val_loss: 0.2620 - val_categorical_accuracy: 0.5817 - val_f1_with_tfa: 0.2267\n",
      "Epoch 55/100\n",
      "31/31 [==============================] - 1s 43ms/step - loss: 0.1816 - categorical_accuracy: 0.7398 - f1_with_tfa: 0.3207 - val_loss: 0.1182 - val_categorical_accuracy: 0.7847 - val_f1_with_tfa: 0.3799\n",
      "Epoch 56/100\n",
      "31/31 [==============================] - 1s 43ms/step - loss: 0.1059 - categorical_accuracy: 0.8021 - f1_with_tfa: 0.3478 - val_loss: 0.1047 - val_categorical_accuracy: 0.7908 - val_f1_with_tfa: 0.3696\n",
      "Epoch 57/100\n",
      "31/31 [==============================] - 1s 43ms/step - loss: 0.0998 - categorical_accuracy: 0.8111 - f1_with_tfa: 0.3549 - val_loss: 0.1072 - val_categorical_accuracy: 0.7802 - val_f1_with_tfa: 0.3724\n",
      "Epoch 58/100\n",
      "31/31 [==============================] - 1s 43ms/step - loss: 0.0995 - categorical_accuracy: 0.8117 - f1_with_tfa: 0.3554 - val_loss: 0.1048 - val_categorical_accuracy: 0.7938 - val_f1_with_tfa: 0.3812\n",
      "Epoch 59/100\n",
      "31/31 [==============================] - 1s 42ms/step - loss: 0.0971 - categorical_accuracy: 0.8200 - f1_with_tfa: 0.3611 - val_loss: 0.1084 - val_categorical_accuracy: 0.7749 - val_f1_with_tfa: 0.3649\n",
      "Epoch 60/100\n",
      "31/31 [==============================] - 1s 43ms/step - loss: 0.0980 - categorical_accuracy: 0.8176 - f1_with_tfa: 0.3596 - val_loss: 0.1046 - val_categorical_accuracy: 0.7951 - val_f1_with_tfa: 0.3767\n",
      "Epoch 61/100\n",
      "31/31 [==============================] - 1s 42ms/step - loss: 0.0988 - categorical_accuracy: 0.8156 - f1_with_tfa: 0.3605 - val_loss: 0.1058 - val_categorical_accuracy: 0.7911 - val_f1_with_tfa: 0.3693\n",
      "Epoch 62/100\n",
      "31/31 [==============================] - 1s 44ms/step - loss: 0.0971 - categorical_accuracy: 0.8217 - f1_with_tfa: 0.3655 - val_loss: 0.1037 - val_categorical_accuracy: 0.7926 - val_f1_with_tfa: 0.3737\n",
      "Epoch 63/100\n",
      "31/31 [==============================] - 1s 41ms/step - loss: 0.0962 - categorical_accuracy: 0.8240 - f1_with_tfa: 0.3634 - val_loss: 0.1079 - val_categorical_accuracy: 0.7907 - val_f1_with_tfa: 0.3777\n",
      "Epoch 64/100\n",
      "31/31 [==============================] - 1s 42ms/step - loss: 0.0991 - categorical_accuracy: 0.8164 - f1_with_tfa: 0.3577 - val_loss: 0.1056 - val_categorical_accuracy: 0.7849 - val_f1_with_tfa: 0.3785\n",
      "Epoch 65/100\n",
      "31/31 [==============================] - 1s 42ms/step - loss: 0.0949 - categorical_accuracy: 0.8282 - f1_with_tfa: 0.3664 - val_loss: 0.1052 - val_categorical_accuracy: 0.7899 - val_f1_with_tfa: 0.3787\n",
      "Epoch 66/100\n",
      "31/31 [==============================] - 1s 43ms/step - loss: 0.0955 - categorical_accuracy: 0.8264 - f1_with_tfa: 0.3679 - val_loss: 0.1048 - val_categorical_accuracy: 0.7884 - val_f1_with_tfa: 0.3770\n",
      "Epoch 67/100\n",
      "31/31 [==============================] - 1s 43ms/step - loss: 0.0956 - categorical_accuracy: 0.8287 - f1_with_tfa: 0.3710 - val_loss: 0.1058 - val_categorical_accuracy: 0.7923 - val_f1_with_tfa: 0.3829\n",
      "Epoch 68/100\n",
      "31/31 [==============================] - 1s 43ms/step - loss: 0.0974 - categorical_accuracy: 0.8205 - f1_with_tfa: 0.3662 - val_loss: 0.1071 - val_categorical_accuracy: 0.7915 - val_f1_with_tfa: 0.3788\n",
      "Epoch 69/100\n",
      "31/31 [==============================] - 1s 44ms/step - loss: 0.0964 - categorical_accuracy: 0.8245 - f1_with_tfa: 0.3713 - val_loss: 0.1096 - val_categorical_accuracy: 0.7728 - val_f1_with_tfa: 0.3629\n",
      "Epoch 70/100\n",
      "31/31 [==============================] - 1s 42ms/step - loss: 0.0966 - categorical_accuracy: 0.8259 - f1_with_tfa: 0.3692 - val_loss: 0.1040 - val_categorical_accuracy: 0.7971 - val_f1_with_tfa: 0.3847\n",
      "Epoch 71/100\n",
      "31/31 [==============================] - 1s 44ms/step - loss: 0.0939 - categorical_accuracy: 0.8301 - f1_with_tfa: 0.3741 - val_loss: 0.1052 - val_categorical_accuracy: 0.7900 - val_f1_with_tfa: 0.3752\n",
      "Epoch 72/100\n",
      "31/31 [==============================] - 1s 43ms/step - loss: 0.0930 - categorical_accuracy: 0.8337 - f1_with_tfa: 0.3794 - val_loss: 0.1076 - val_categorical_accuracy: 0.7801 - val_f1_with_tfa: 0.3693\n",
      "Epoch 73/100\n",
      "31/31 [==============================] - 1s 44ms/step - loss: 0.0933 - categorical_accuracy: 0.8330 - f1_with_tfa: 0.3769 - val_loss: 0.1075 - val_categorical_accuracy: 0.7839 - val_f1_with_tfa: 0.3773\n",
      "Epoch 74/100\n",
      "31/31 [==============================] - 1s 43ms/step - loss: 0.0948 - categorical_accuracy: 0.8303 - f1_with_tfa: 0.3768 - val_loss: 0.1046 - val_categorical_accuracy: 0.7924 - val_f1_with_tfa: 0.3799\n",
      "Epoch 75/100\n",
      "31/31 [==============================] - 1s 43ms/step - loss: 0.0934 - categorical_accuracy: 0.8315 - f1_with_tfa: 0.3743 - val_loss: 0.1072 - val_categorical_accuracy: 0.7792 - val_f1_with_tfa: 0.3737\n",
      "Epoch 76/100\n",
      "31/31 [==============================] - 1s 44ms/step - loss: 0.0928 - categorical_accuracy: 0.8335 - f1_with_tfa: 0.3723 - val_loss: 0.1072 - val_categorical_accuracy: 0.7743 - val_f1_with_tfa: 0.3879\n",
      "Epoch 77/100\n",
      "31/31 [==============================] - 1s 43ms/step - loss: 0.0922 - categorical_accuracy: 0.8367 - f1_with_tfa: 0.3820 - val_loss: 0.1052 - val_categorical_accuracy: 0.7925 - val_f1_with_tfa: 0.3890\n",
      "Epoch 78/100\n",
      "31/31 [==============================] - 1s 44ms/step - loss: 0.0929 - categorical_accuracy: 0.8347 - f1_with_tfa: 0.3806 - val_loss: 0.1059 - val_categorical_accuracy: 0.7906 - val_f1_with_tfa: 0.3938\n",
      "Epoch 79/100\n",
      "31/31 [==============================] - 1s 44ms/step - loss: 0.0939 - categorical_accuracy: 0.8304 - f1_with_tfa: 0.3769 - val_loss: 0.1049 - val_categorical_accuracy: 0.7980 - val_f1_with_tfa: 0.3857\n",
      "Epoch 80/100\n",
      "31/31 [==============================] - 1s 43ms/step - loss: 0.0912 - categorical_accuracy: 0.8388 - f1_with_tfa: 0.3826 - val_loss: 0.1035 - val_categorical_accuracy: 0.7956 - val_f1_with_tfa: 0.3921\n",
      "Epoch 81/100\n",
      "31/31 [==============================] - 1s 43ms/step - loss: 0.0937 - categorical_accuracy: 0.8327 - f1_with_tfa: 0.3747 - val_loss: 0.1064 - val_categorical_accuracy: 0.7909 - val_f1_with_tfa: 0.3838\n",
      "Epoch 82/100\n",
      "31/31 [==============================] - 1s 46ms/step - loss: 0.0930 - categorical_accuracy: 0.8346 - f1_with_tfa: 0.3748 - val_loss: 0.1079 - val_categorical_accuracy: 0.7783 - val_f1_with_tfa: 0.3736\n",
      "Epoch 83/100\n",
      "31/31 [==============================] - 1s 42ms/step - loss: 0.0908 - categorical_accuracy: 0.8428 - f1_with_tfa: 0.3858 - val_loss: 0.1028 - val_categorical_accuracy: 0.8002 - val_f1_with_tfa: 0.3925\n",
      "Epoch 84/100\n",
      "31/31 [==============================] - 1s 42ms/step - loss: 0.0902 - categorical_accuracy: 0.8417 - f1_with_tfa: 0.3865 - val_loss: 0.1060 - val_categorical_accuracy: 0.7865 - val_f1_with_tfa: 0.3899\n",
      "Epoch 85/100\n",
      "31/31 [==============================] - 1s 43ms/step - loss: 0.0922 - categorical_accuracy: 0.8373 - f1_with_tfa: 0.3850 - val_loss: 0.1068 - val_categorical_accuracy: 0.7846 - val_f1_with_tfa: 0.3849\n",
      "Epoch 86/100\n",
      "31/31 [==============================] - 1s 43ms/step - loss: 0.0912 - categorical_accuracy: 0.8393 - f1_with_tfa: 0.3846 - val_loss: 0.1075 - val_categorical_accuracy: 0.7814 - val_f1_with_tfa: 0.3865\n",
      "Epoch 87/100\n",
      "31/31 [==============================] - 1s 42ms/step - loss: 0.0908 - categorical_accuracy: 0.8418 - f1_with_tfa: 0.3866 - val_loss: 0.1052 - val_categorical_accuracy: 0.7901 - val_f1_with_tfa: 0.3793\n",
      "Epoch 88/100\n",
      "31/31 [==============================] - 1s 42ms/step - loss: 0.0902 - categorical_accuracy: 0.8410 - f1_with_tfa: 0.3833 - val_loss: 0.1051 - val_categorical_accuracy: 0.7943 - val_f1_with_tfa: 0.3847\n",
      "Epoch 89/100\n",
      "31/31 [==============================] - 1s 45ms/step - loss: 0.0918 - categorical_accuracy: 0.8389 - f1_with_tfa: 0.3851 - val_loss: 0.1070 - val_categorical_accuracy: 0.7873 - val_f1_with_tfa: 0.3876\n",
      "Epoch 90/100\n",
      "31/31 [==============================] - 1s 43ms/step - loss: 0.0907 - categorical_accuracy: 0.8410 - f1_with_tfa: 0.3893 - val_loss: 0.1058 - val_categorical_accuracy: 0.7895 - val_f1_with_tfa: 0.3854\n",
      "Epoch 91/100\n",
      "31/31 [==============================] - 1s 45ms/step - loss: 0.0904 - categorical_accuracy: 0.8410 - f1_with_tfa: 0.3863 - val_loss: 0.1104 - val_categorical_accuracy: 0.7793 - val_f1_with_tfa: 0.3896\n",
      "Epoch 92/100\n",
      "31/31 [==============================] - 1s 44ms/step - loss: 0.0902 - categorical_accuracy: 0.8443 - f1_with_tfa: 0.3930 - val_loss: 0.1049 - val_categorical_accuracy: 0.7886 - val_f1_with_tfa: 0.3790\n",
      "Epoch 93/100\n",
      "31/31 [==============================] - 1s 45ms/step - loss: 0.0889 - categorical_accuracy: 0.8453 - f1_with_tfa: 0.3892 - val_loss: 0.1044 - val_categorical_accuracy: 0.7934 - val_f1_with_tfa: 0.3955\n"
     ]
    }
   ],
   "source": [
    "# fourth model    \n",
    "layers_info_bilstm_two_dense = [\n",
    "    {\n",
    "        \"layer_name\": layers.Masking,\n",
    "        \"name\": \"padding_masking\",\n",
    "        \"mask_value\": 0.,\n",
    "        \"input_shape\": X_train.shape[1:]\n",
    "    },\n",
    "    {\n",
    "        'layer_name': layers.Bidirectional,\n",
    "        \"layer\": layers.LSTM(best_hps_bilstm_two_dense.get('units1'), return_sequences=True, kernel_regularizer=keras.regularizers.l2(0.01)),\n",
    "        \"name\": \"bilstm_1\",\n",
    "    },\n",
    "    {\n",
    "        \"layer_name\": layers.Dense,\n",
    "        \"units\": best_hps_bilstm_two_dense.get('units2'),\n",
    "        \"activation\": \"relu\",\n",
    "        \"kernel_regularizer\": keras.regularizers.l2(0.01),\n",
    "        \"name\": \"dense_1\"\n",
    "    },\n",
    "    {\n",
    "        \"layer_name\": layers.Dropout,\n",
    "        \"rate\": best_hps_bilstm_two_dense.get('dropout'),\n",
    "        \"name\": \"dropout_2\"\n",
    "    },\n",
    "    {\n",
    "        \"layer_name\": layers.Dense,\n",
    "        \"units\": n_classes,\n",
    "        \"activation\": \"softmax\",\n",
    "        \"name\": \"dense_2\"\n",
    "    }\n",
    "]\n",
    "\n",
    "compile_info_bilstm_two_dense = {\n",
    "    'optimizer': keras.optimizers.Adam(learning_rate=best_hps_bilstm_two_dense.get('learning_rate')),\n",
    "    'loss': 'categorical_crossentropy',\n",
    "    'metrics' : ['categorical_accuracy', f1_with_tfa]\n",
    "}\n",
    "\n",
    "model_bilstm_two_dense = create_model(layers_info_bilstm_two_dense, compile_info_bilstm_two_dense)\n",
    "model_bilstm_two_dense.summary()\n",
    "\n",
    "# start training\n",
    "history_bilstm_two_dense = model_bilstm_two_dense.fit(X_train, y_train, epochs=epochs_training, batch_size=batch_size_training, validation_data=(X_dev, y_dev), callbacks=callbacks_training)"
   ]
  },
  {
   "cell_type": "markdown",
   "metadata": {
    "id": "2NnTW1ct3ZUP"
   },
   "source": [
    "#### 2.3.1 Store or load all the trained models"
   ]
  },
  {
   "cell_type": "markdown",
   "metadata": {
    "id": "A29NOAda3ZUP"
   },
   "source": [
    "Store weights and history"
   ]
  },
  {
   "cell_type": "code",
   "execution_count": 45,
   "metadata": {
    "id": "Rp38wlcW3ZUP"
   },
   "outputs": [],
   "source": [
    "# store models weights\n",
    "path_model_weights = os.path.join(os.getcwd(), 'models_ca', 'weights')\n",
    "model_bilstm.save_weights(os.path.join(path_model_weights, 'weights_bilstm.h5'))\n",
    "model_bigru.save_weights(os.path.join(path_model_weights, 'weights_bigru.h5'))\n",
    "model_two_bilstm.save_weights(os.path.join(path_model_weights, 'weights_two_bilstm.h5'))\n",
    "model_bilstm_two_dense.save_weights(os.path.join(path_model_weights, 'weights_bilstm_two_dense.h5'))"
   ]
  },
  {
   "cell_type": "code",
   "execution_count": 46,
   "metadata": {
    "id": "GiLuH0Px3ZUQ"
   },
   "outputs": [],
   "source": [
    "# convert the history.history dict to a pandas DataFrame: \n",
    "path_model_weights = os.path.join(os.getcwd(), 'models_ca', 'history')\n",
    "    \n",
    "df_history_bilstm = pd.DataFrame(history_bilstm.history) \n",
    "with open(os.path.join(path_model_weights, \"history_bilstm.csv\"), mode=\"w\") as file:\n",
    "    df_history_bilstm.to_csv(file)\n",
    "\n",
    "df_history_bigru = pd.DataFrame(history_bigru.history)\n",
    "with open(os.path.join(path_model_weights, \"history_bigru.csv\"), mode=\"w\") as file:\n",
    "    df_history_bigru.to_csv(file)\n",
    "\n",
    "df_history_two_bilstm = pd.DataFrame(history_two_bilstm.history)\n",
    "with open(os.path.join(path_model_weights, \"history_two_bilstm.csv\"), mode=\"w\") as file:\n",
    "    df_history_two_bilstm.to_csv(file)\n",
    "\n",
    "df_history_bilstm_two_dense = pd.DataFrame(history_bilstm_two_dense.history)\n",
    "with open(os.path.join(path_model_weights, \"history_bilstm_two_dense.csv\"), mode=\"w\") as file:\n",
    "    df_history_bilstm_two_dense.to_csv(file)"
   ]
  },
  {
   "cell_type": "markdown",
   "metadata": {
    "id": "qQy5JgGT3ZUQ"
   },
   "source": [
    "Read weights"
   ]
  },
  {
   "cell_type": "code",
   "execution_count": null,
   "metadata": {
    "id": "_puUbUNv3ZUQ"
   },
   "outputs": [],
   "source": [
    "# Restore the weights\n",
    "path_model_weights = os.path.join(os.getcwd(), 'models_ca', 'weights')\n",
    "model_bilstm.load_weights(os.path.join(path_model_weights, 'weights_bilstm.h5'))\n",
    "model_bigru.load_weights(os.path.join(path_model_weights, 'weights_bigru.h5'))\n",
    "model_two_bilstm.load_weights(os.path.join(path_model_weights, 'weights_two_bilstm.h5'))\n",
    "model_bilstm_two_dense.load_weights(os.path.join(path_model_weights, 'weights_bilstm_two_dense.h5'))"
   ]
  },
  {
   "cell_type": "markdown",
   "metadata": {
    "id": "ab9ETsbC2Q82"
   },
   "source": [
    "### 2.4 History of the training\n",
    "Plot metrics evolution for each epoch during the training"
   ]
  },
  {
   "cell_type": "code",
   "execution_count": 34,
   "metadata": {
    "id": "25YBLK3E2R6m"
   },
   "outputs": [],
   "source": [
    "def plot_history(models_history, keys, model_names=[], labels=(\"epochs\", \"metrics\"), figsize=(10,5), cmap='rainbow'):\n",
    "    \"\"\"\n",
    "    Plot the history of the metrics in the history dictionary for each model.\n",
    "        :param models_history: array of dictionary of the metric history for each model\n",
    "        :param keys: list of keys of the metrics to plot\n",
    "        :param model_names: list of names of the models\n",
    "        :param labels: list of labels of the axes\n",
    "        :param figsize: size of the figure\n",
    "        :param cmap: color map used for the plot\n",
    "    \"\"\"\n",
    "\n",
    "    # maps each model to a distinct RGB color\n",
    "    cmap = plt.cm.get_cmap(cmap, len(models_history))\n",
    "\n",
    "    \n",
    "    fig = plt.figure(figsize=figsize)\n",
    "\n",
    "    # for each model trained\n",
    "    for i, history in enumerate(models_history):\n",
    "        # take all pairs of training and val metrics\n",
    "        for j in range(0, len(keys), 2):\n",
    "            metric, val_metric = keys[j], keys[j+1]\n",
    "            \n",
    "            plt.plot(history[metric], label=f\"{model_names[i]} {metric}\", linestyle=\"solid\", color=cmap(i))\n",
    "            plt.plot(history[val_metric],  label=f\"{model_names[i]} {val_metric}\", linestyle=\"--\",  color=cmap(i))\n",
    "        \n",
    "    plt.xlabel(labels[0])\n",
    "    plt.ylabel(labels[1])\n",
    "\n",
    "    # Adding legend\n",
    "    plt.legend(\n",
    "          title =\"Legend\",\n",
    "          loc =\"upper left\",\n",
    "          bbox_to_anchor =(1.0, 0, 0.5, 1))\n",
    "    plt.title(\"Training history\")\n",
    "    plt.grid(linestyle='--', linewidth=1)\n",
    "    plt.show()"
   ]
  },
  {
   "cell_type": "code",
   "execution_count": 35,
   "metadata": {
    "id": "Ca9TMoj42VgT"
   },
   "outputs": [
    {
     "data": {
      "image/png": "[encoded data removed]",
      "text/plain": [
       "<Figure size 1080x504 with 1 Axes>"
      ]
     },
     "metadata": {
      "needs_background": "light"
     },
     "output_type": "display_data"
    },
    {
     "data": {
      "image/png": "[encoded data removed]",
      "text/plain": [
       "<Figure size 1080x504 with 1 Axes>"
      ]
     },
     "metadata": {
      "needs_background": "light"
     },
     "output_type": "display_data"
    }
   ],
   "source": [
    "models_history = [history_bilstm.history, history_bigru.history, history_two_bilstm.history, history_bilstm_two_dense.history]\n",
    "model_names = [\"BiLSTM\", \"BiGRU\", \"2 BiLSTM\", \"BiLSTM + 2 Dense\"]\n",
    "plot_history(models_history, keys=['loss', 'val_loss'], model_names=model_names, labels=(\"epochs\", \"loss\"), figsize=(15,7),  cmap='bwr')\n",
    "plot_history(models_history, keys=['categorical_accuracy', 'val_categorical_accuracy'], model_names=model_names, labels=(\"epochs\", \"accuracy\"), figsize=(15,7),  cmap='bwr')"
   ]
  },
  {
   "cell_type": "markdown",
   "metadata": {
    "id": "ZmIWLatvkqzt"
   },
   "source": [
    "## 3. Evaluation"
   ]
  },
  {
   "cell_type": "code",
   "execution_count": 36,
   "metadata": {
    "collapsed": false,
    "pycharm": {
     "name": "#%%\n"
    }
   },
   "outputs": [],
   "source": [
    "def adapt_output_for_evaluation(y_true, y_pred):\n",
    "  \"\"\"\n",
    "  given true outputs and predicted ones, this function returns\n",
    "  both of them in 1D and as classes and not probability distributions\n",
    "  \"\"\"\n",
    "  len_sentence = y_pred.shape[1]\n",
    "  num_sentences = y_pred.shape[0]\n",
    "  pred_val = np.empty((num_sentences, len_sentence))\n",
    "  true_val = np.empty((num_sentences, len_sentence))\n",
    "  # assign label with the highest probability\n",
    "  for i in range(num_sentences):\n",
    "      for j in range(len_sentence):\n",
    "          pred_val[i,j] = np.argmax(y_pred[i,j,:])\n",
    "          true_val[i,j] = np.argmax(y_true[i,j,:])\n",
    "  # flatten the numpy array to have a 1D array\n",
    "  true_val = true_val.flatten()\n",
    "  pred_val = pred_val.flatten()\n",
    "  return true_val, pred_val"
   ]
  },
  {
   "cell_type": "code",
   "execution_count": 37,
   "metadata": {
    "collapsed": false,
    "pycharm": {
     "name": "#%%\n"
    }
   },
   "outputs": [],
   "source": [
    "def show_classification_report(model, X_test, y_test, labels, names, sorted_by=None, ascending=True):\n",
    "  \"\"\"\n",
    "  Show classification report using only classes in names\n",
    "  \"\"\"\n",
    "  raw_y_true = np.array(y_test)\n",
    "  raw_y_pred = model.predict(X_test)\n",
    "  y_true, y_pred = adapt_output_for_evaluation(raw_y_true, raw_y_pred)\n",
    "  dictionary =  classification_report(y_true, y_pred, labels=labels, target_names=names, output_dict=True, zero_division=0)\n",
    "  # global performance\n",
    "  keys = ['weighted avg', 'micro avg', 'macro avg']\n",
    "  global_dict = {key: dictionary[key] for key in keys}\n",
    "  for key in keys:\n",
    "    del dictionary[key]\n",
    "\n",
    "  df = pd.DataFrame.from_dict(dictionary).transpose().round(2)\n",
    "  if sorted_by:\n",
    "    df.sort_values(by=sorted_by, ascending=ascending, inplace=True)\n",
    "  print(df)\n",
    "\n",
    "  print(\"\\n\\n\")\n",
    "\n",
    "  df_glob = pd.DataFrame.from_dict(global_dict).transpose().round(2)\n",
    "  print(df_glob)"
   ]
  },
  {
   "cell_type": "code",
   "execution_count": 38,
   "metadata": {
    "id": "Q71LkwAPkqzt"
   },
   "outputs": [],
   "source": [
    "def evaluate_model(model, X_test, y_test, labels):\n",
    "    \"\"\"\n",
    "    given a trained model and a test set returns the f-score and the confusion matrix\n",
    "    taking into account only classes in labels\n",
    "    \"\"\"\n",
    "    raw_y_true = np.array(y_test)\n",
    "    raw_y_pred = model.predict(X_test)\n",
    "    y_true, y_pred = adapt_output_for_evaluation(raw_y_true, raw_y_pred)\n",
    "    # show confusion matrix\n",
    "    conf_matrix = confusion_matrix(y_true, y_pred, labels=labels)\n",
    "    disp = ConfusionMatrixDisplay(conf_matrix)\n",
    "    fig, ax = plt.subplots(figsize=(10,10))\n",
    "    disp.plot(ax=ax)\n",
    "    # f1 score\n",
    "    print(\"F score:\\n-------------------------------\\n\")\n",
    "    print(sklearn.metrics.f1_score(y_true, y_pred, labels=labels, average='macro', zero_division=0))"
   ]
  },
  {
   "cell_type": "code",
   "execution_count": 39,
   "metadata": {
    "id": "ua2c1KdCkqzt"
   },
   "outputs": [
    {
     "name": "stdout",
     "output_type": "stream",
     "text": [
      "F score:\n",
      "-------------------------------\n",
      "\n",
      "0.6215267830727075\n"
     ]
    },
    {
     "data": {
      "image/png": "[encoded data removed]",
      "text/plain": [
       "<Figure size 720x720 with 2 Axes>"
      ]
     },
     "metadata": {
      "needs_background": "light"
     },
     "output_type": "display_data"
    }
   ],
   "source": [
    "punctuation_indexes = [0, 1, 2, 3, 4, 5, 6, 7, 16, 30, 43]\n",
    "classes = target_vectorizer.get_classes()\n",
    "valid_labels = list(set(range(len(classes))) - set(punctuation_indexes))\n",
    "\n",
    "# confusion matrix and global f1 score\n",
    "evaluate_model(model_bigru, X_test, y_test, valid_labels)"
   ]
  },
  {
   "cell_type": "code",
   "execution_count": 40,
   "metadata": {
    "collapsed": false,
    "pycharm": {
     "name": "#%%\n"
    }
   },
   "outputs": [
    {
     "name": "stdout",
     "output_type": "stream",
     "text": [
      "      precision  recall  f1-score  support\n",
      "TO         0.99    1.00      1.00    560.0\n",
      "POS        0.98    0.99      0.99    244.0\n",
      "``         0.97    1.00      0.98     98.0\n",
      "CC         0.98    0.96      0.97    541.0\n",
      "DT         0.96    0.98      0.97   1988.0\n",
      "PRP$       0.99    0.93      0.96    148.0\n",
      "MD         0.96    0.93      0.94    245.0\n",
      "WDT        0.97    0.90      0.93    124.0\n",
      "IN         0.92    0.94      0.93   2460.0\n",
      "PRP        0.96    0.91      0.93    265.0\n",
      "VBZ        0.94    0.88      0.91    390.0\n",
      "VB         0.86    0.92      0.89    602.0\n",
      "CD         0.87    0.88      0.87   1271.0\n",
      "WP         1.00    0.73      0.85     30.0\n",
      "VBD        0.85    0.82      0.83    964.0\n",
      "NN         0.77    0.81      0.79   3563.0\n",
      "NNS        0.77    0.81      0.79   1452.0\n",
      "NNP        0.72    0.85      0.78   2225.0\n",
      "EX         0.89    0.57      0.70     14.0\n",
      "VBP        0.65    0.77      0.70    196.0\n",
      "VBN        0.62    0.76      0.68    548.0\n",
      "JJ         0.69    0.59      0.64   1405.0\n",
      "VBG        0.78    0.54      0.64    321.0\n",
      "JJR        0.77    0.45      0.57    109.0\n",
      "RB         0.82    0.38      0.52    599.0\n",
      "RBR        0.43    0.32      0.36     19.0\n",
      "NNPS       0.20    0.01      0.02     83.0\n",
      "UH         0.00    0.00      0.00      0.0\n",
      "SYM        0.00    0.00      0.00      0.0\n",
      "RBS        0.00    0.00      0.00      6.0\n",
      "PDT        0.00    0.00      0.00      9.0\n",
      "LS         0.00    0.00      0.00      0.0\n",
      "WP$        0.00    0.00      0.00      5.0\n",
      "FW         0.00    0.00      0.00      0.0\n",
      "\n",
      "\n",
      "\n",
      "              precision  recall  f1-score  support\n",
      "weighted avg       0.83    0.83      0.82  20484.0\n",
      "micro avg          0.83    0.83      0.83  20484.0\n",
      "macro avg          0.66    0.61      0.62  20484.0\n"
     ]
    }
   ],
   "source": [
    "# classification report using only meaningful classes\n",
    "meaningful_classes = classes[valid_labels]\n",
    "show_classification_report(model_bigru, X_test, y_test, valid_labels, meaningful_classes, sorted_by=['f1-score'], ascending=False)"
   ]
  },
  {
   "cell_type": "code",
   "execution_count": 41,
   "metadata": {
    "id": "sFaG0yb4kqzu"
   },
   "outputs": [
    {
     "name": "stdout",
     "output_type": "stream",
     "text": [
      "Original POS tagging:  ['IN' 'DT' 'CD' 'IN' 'CD' ',' 'DT' 'CD' 'CD' 'NNS' 'VBD' 'DT' 'JJ' 'NN'\n",
      " 'NN' '-LRB-' 'NNP' '-RRB-' 'TO' 'VB' 'NNS' 'CC' 'NN' 'NN' '.']\n",
      "Predicted POS tagging:  ['IN' 'DT' 'NN' 'IN' 'CD' ',' 'DT' 'CD' 'CD' 'NNS' 'VBD' 'DT' 'JJ' 'NNP'\n",
      " '-LRB-' 'NNP' '-RRB-' 'TO' 'VB' 'CD' 'CC' 'NN' 'NN' '.']\n"
     ]
    }
   ],
   "source": [
    "i_test = 2  # change this to see the prediction for a different sentence\n",
    "\n",
    "print(\"Original POS tagging: \",target_vectorizer.inverse_transform([y_test[i_test]])[0])\n",
    "\n",
    "raw_y_pred = model_bigru.predict(np.array([X_test[i_test]]))\n",
    "# shape of the output is doc x len_sen x classes\n",
    "# argmax for label predictions\n",
    "\n",
    "print(\"Predicted POS tagging: \",target_vectorizer.inverse_transform_probabilities(raw_y_pred)[0])"
   ]
  }
 ],
 "metadata": {
  "accelerator": "GPU",
  "colab": {
   "collapsed_sections": [],
   "include_colab_link": true,
   "name": "Copy of POS_tagging.ipynb",
   "provenance": []
  },
  "interpreter": {
   "hash": "63e28586807c6502c782d898cf9a0cc5787bb3d77952b17b51ec8bdcd4044a3d"
  },
  "kernelspec": {
   "display_name": "Python 3",
   "language": "python",
   "name": "python3"
  },
  "language_info": {
   "codemirror_mode": {
    "name": "ipython",
    "version": 3
   },
   "file_extension": ".py",
   "mimetype": "text/x-python",
   "name": "python",
   "nbconvert_exporter": "python",
   "pygments_lexer": "ipython3",
   "version": "3.9.7"
  }
 },
 "nbformat": 4,
 "nbformat_minor": 0
}

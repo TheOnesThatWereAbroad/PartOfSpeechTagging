{
 "cells": [
  {
   "cell_type": "markdown",
   "metadata": {
    "id": "tc8x9pA00Sfd"
   },
   "source": [
    "# Assignment 1 - POS tagging"
   ]
  },
  {
   "cell_type": "code",
   "execution_count": 3,
   "metadata": {},
   "outputs": [
    {
     "ename": "ModuleNotFoundError",
     "evalue": "No module named 'tensorflow'",
     "output_type": "error",
     "traceback": [
      "\u001B[1;31m---------------------------------------------------------------------------\u001B[0m",
      "\u001B[1;31mModuleNotFoundError\u001B[0m                       Traceback (most recent call last)",
      "\u001B[1;32m<ipython-input-3-7a493c970cd1>\u001B[0m in \u001B[0;36m<module>\u001B[1;34m\u001B[0m\n\u001B[0;32m      3\u001B[0m \u001B[1;32mimport\u001B[0m \u001B[0mmatplotlib\u001B[0m\u001B[1;33m.\u001B[0m\u001B[0mpyplot\u001B[0m \u001B[1;32mas\u001B[0m \u001B[0mplt\u001B[0m\u001B[1;33m\u001B[0m\u001B[1;33m\u001B[0m\u001B[0m\n\u001B[0;32m      4\u001B[0m \u001B[1;33m\u001B[0m\u001B[0m\n\u001B[1;32m----> 5\u001B[1;33m \u001B[1;32mimport\u001B[0m \u001B[0mtensorflow\u001B[0m \u001B[1;32mas\u001B[0m \u001B[0mtf\u001B[0m\u001B[1;33m\u001B[0m\u001B[1;33m\u001B[0m\u001B[0m\n\u001B[0m\u001B[0;32m      6\u001B[0m \u001B[1;32mfrom\u001B[0m \u001B[0mtensorflow\u001B[0m \u001B[1;32mimport\u001B[0m \u001B[0mkeras\u001B[0m\u001B[1;33m\u001B[0m\u001B[1;33m\u001B[0m\u001B[0m\n\u001B[0;32m      7\u001B[0m \u001B[1;32mfrom\u001B[0m \u001B[0mtensorflow\u001B[0m\u001B[1;33m.\u001B[0m\u001B[0mkeras\u001B[0m \u001B[1;32mimport\u001B[0m \u001B[0mlayers\u001B[0m\u001B[1;33m\u001B[0m\u001B[1;33m\u001B[0m\u001B[0m\n",
      "\u001B[1;31mModuleNotFoundError\u001B[0m: No module named 'tensorflow'"
     ]
    }
   ],
   "source": [
    "import os\n",
    "import numpy as np\n",
    "import matplotlib.pyplot as plt\n",
    "\n",
    "import tensorflow as tf\n",
    "from tensorflow import keras\n",
    "from tensorflow.keras import layers\n",
    "from sklearn.metrics import confusion_matrix, ConfusionMatrixDisplay, f1_score\n",
    "\n",
    "from data_input import DataInput\n",
    "from text_vectorizer import TextVectorizer, TargetVectorizer"
   ]
  },
  {
   "cell_type": "markdown",
   "metadata": {},
   "source": [
    "## 1. Build a dataset"
   ]
  },
  {
   "cell_type": "markdown",
   "metadata": {},
   "source": [
    "### 1.1 Dataset preparation\n",
    "For this experiment, the [Dependency Parsed Treebank](https://www.nltk.org/nltk_data/) dataset is used."
   ]
  },
  {
   "cell_type": "code",
   "execution_count": 2,
   "metadata": {
    "colab": {
     "base_uri": "https://localhost:8080/"
    },
    "executionInfo": {
     "elapsed": 8796,
     "status": "ok",
     "timestamp": 1647519568538,
     "user": {
      "displayName": "Giuseppe Murro",
      "photoUrl": "https://lh3.googleusercontent.com/a/default-user=s64",
      "userId": "06891881942139960189"
     },
     "user_tz": -60
    },
    "id": "eRQ_hwv9mHtK",
    "outputId": "890f9167-49e6-4a81-8a4a-97bfda188e4e"
   },
   "outputs": [
    {
     "name": "stdout",
     "output_type": "stream",
     "text": [
      "Train set size: 1957\n",
      "Dev set size: 979\n",
      "Test set size: 978\n"
     ]
    }
   ],
   "source": [
    "# download the dataset and split it into train, dev and test sets\n",
    "dataset = DataInput(\n",
    "        data_url=\"https://raw.githubusercontent.com/nltk/nltk_data/gh-pages/packages/corpora/dependency_treebank.zip\",\n",
    "        train_size=0.50,\n",
    "        dev_size=0.25,\n",
    "        dataset_folder=os.path.join(os.getcwd(), \"dataset\"),\n",
    "        split_into_sentences=True,\n",
    "        shuffle=False\n",
    "    )"
   ]
  },
  {
   "cell_type": "markdown",
   "metadata": {},
   "source": [
    "Pre-processing is always an important step with which start. There are a lot of pre-processing steps that we can consider, but for this experiment the only pre-processing operation performed is:\n",
    "- **to lower**, in part-of-speech tagging scenario casing of the input tokens is crucial to find the correspondent token in the embedding vocabulary"
   ]
  },
  {
   "cell_type": "code",
   "execution_count": 4,
   "metadata": {},
   "outputs": [],
   "source": [
    "# do preprocessing for train, validation and test sets\n",
    "dataset.preprocessing(\"train\", to_lower=True)\n",
    "dataset.preprocessing(\"dev\", to_lower=True)\n",
    "dataset.preprocessing(\"test\", to_lower=True)\n",
    "\n",
    "# separate inputs and targets\n",
    "X_train, y_train = dataset.train\n",
    "X_dev, y_dev = dataset.dev\n",
    "X_test, y_test = dataset.test"
   ]
  },
  {
   "cell_type": "markdown",
   "metadata": {
    "executionInfo": {
     "elapsed": 7645,
     "status": "ok",
     "timestamp": 1647519863919,
     "user": {
      "displayName": "Giuseppe Murro",
      "photoUrl": "https://lh3.googleusercontent.com/a/default-user=s64",
      "userId": "06891881942139960189"
     },
     "user_tz": -60
    },
    "id": "IPv-M1xEmHtM"
   },
   "source": [
    "### 1.2 Dataset analysis\n",
    "Let's take a look at the dataset, to inspect the distribution of the POS tags"
   ]
  },
  {
   "cell_type": "code",
   "execution_count": 5,
   "metadata": {},
   "outputs": [],
   "source": [
    "def get_occurences(data, ordered=False, exclude=[]):\n",
    "    \"\"\"\n",
    "    Get the occurences of each token in the data.\n",
    "\n",
    "    Parameters\n",
    "    ----------\n",
    "    data : list of np arrays, representing the data to get the occurences from\n",
    "    ordered : bool, if True, the occurences will be returned in descending order\n",
    "    exclude : list of strings, tokens that should not be included in the occurences\n",
    "\n",
    "    Returns\n",
    "    -------\n",
    "    occurences : dict, mapping each token to the number of occurences\n",
    "    \"\"\"\n",
    "    tokens, counts = np.unique(np.concatenate(data), return_counts=True)\n",
    "    occurences = dict(zip(tokens, counts))\n",
    "\n",
    "    if len(exclude) > 0:\n",
    "        for token in exclude:\n",
    "            if token in occurences:\n",
    "                del occurences[token]\n",
    "\n",
    "    if ordered:\n",
    "        occurences = dict(sorted(occurences.items(), key=lambda x: x[1], reverse=True))\n",
    "    return occurences\n",
    "\n",
    "# get the occurences of each POS tag in the three sets withouth the PUNCTUATION class \".\"\n",
    "train_tags_occ = get_occurences(y_train, ordered=True, exclude=[\".\"])\n",
    "dev_tags_occ = get_occurences(y_dev, exclude=[\".\"])\n",
    "test_tags_occ = get_occurences(y_test, exclude=[\".\"])\n",
    "\n",
    "# build a matrix of the occurences of size (n_tags, 3)\n",
    "tags_occ = np.array([[v, dev_tags_occ[k], test_tags_occ[k]] if k in dev_tags_occ and k in test_tags_occ else [v, dev_tags_occ[k], 0] if k in dev_tags_occ else [v, 0, test_tags_occ[k]] if k in test_tags_occ else [v, 0, 0] for k, v in train_tags_occ.items()])"
   ]
  },
  {
   "cell_type": "code",
   "execution_count": 6,
   "metadata": {},
   "outputs": [
    {
     "data": {
      "text/plain": [
       "[]"
      ]
     },
     "execution_count": 6,
     "metadata": {},
     "output_type": "execute_result"
    },
    {
     "data": {
      "image/png": "[encoded data removed]",
      "text/plain": [
       "<Figure size 1656x576 with 1 Axes>"
      ]
     },
     "metadata": {
      "needs_background": "light"
     },
     "output_type": "display_data"
    }
   ],
   "source": [
    "# plot bar chart of the occurences of each POS tag\n",
    "fig, ax = plt.subplots(1, 1, figsize=(23, 8))\n",
    "tags = list(train_tags_occ.keys())\n",
    "ax.bar(tags, tags_occ[:, 1], width=0.3, align='edge', label='dev')\n",
    "ax.bar(tags, tags_occ[:, 2], width=-0.6, align='edge', label='test')\n",
    "ax.bar(tags, tags_occ[:, 0], width=-0.3, align='edge', label='train')\n",
    "ax.set_xticks(tags)\n",
    "ax.set_xlabel('Tags')\n",
    "ax.set_ylabel('Occurences')\n",
    "ax.set_title(\"Occurences of POS tags\")\n",
    "ax.legend()\n",
    "plt.plot()"
   ]
  },
  {
   "cell_type": "code",
   "execution_count": 7,
   "metadata": {},
   "outputs": [
    {
     "name": "stdout",
     "output_type": "stream",
     "text": [
      "The following tags (from the train set) are not in the dev set: {'SYM'}\n",
      "The following tags (from the train set) are not in the test set: {'FW', 'SYM', 'LS', 'UH'}\n"
     ]
    }
   ],
   "source": [
    "# analyze the difference between the presence of the POS tags in the train, dev and test sets\n",
    "train_tags_not_dev = set(train_tags_occ.keys()) - set(dev_tags_occ.keys())\n",
    "train_tags_not_test = set(train_tags_occ.keys()) - set(test_tags_occ.keys())\n",
    "dev_tags_not_train = set(dev_tags_occ.keys()) - set(train_tags_occ.keys())\n",
    "test_tags_not_train = set(test_tags_occ.keys()) - set(train_tags_occ.keys())\n",
    "\n",
    "if(len(train_tags_not_dev) > 0):\n",
    "    print(\"The following tags (from the train set) are not in the dev set:\", train_tags_not_dev)\n",
    "if(len(train_tags_not_test) > 0):\n",
    "    print(\"The following tags (from the train set) are not in the test set:\", train_tags_not_test)\n",
    "if(len(dev_tags_not_train) > 0):\n",
    "    print(\"The following tags (from the dev set) are not in the train set:\", dev_tags_not_train)\n",
    "if(len(test_tags_not_train) > 0):\n",
    "    print(\"The following tags (from the test set) are not in the train set:\", test_tags_not_train)"
   ]
  },
  {
   "cell_type": "markdown",
   "metadata": {},
   "source": [
    "### 1.3 GloVe embeddings vectorization\n",
    "The next step consists in downloading a pre-trained embedding model, namely GloVe. It is a techniques that tries to encoded global semantic properties based on the co-occurrence matrix.\n",
    "Three different dimensional space versions are available: 50, 100, 200.\n",
    "\n",
    "From the choosen embedding, a starting vocabulary is built.\n",
    "Then this vocabulary is enriched with the embeddings computed for the OOV words."
   ]
  },
  {
   "cell_type": "code",
   "execution_count": 8,
   "metadata": {},
   "outputs": [
    {
     "name": "stdout",
     "output_type": "stream",
     "text": [
      "Parsing the training set...\n",
      "Generated embeddings for 358 OOV words.\n",
      "\n",
      "Parsing the validation set...\n",
      "Generated embeddings for 131 OOV words.\n",
      "\n",
      "Parsing the test set...\n",
      "Generated embeddings for 187 OOV words.\n"
     ]
    }
   ],
   "source": [
    "# initialize the vectorizer for the input tokens to convert them to embedding vectors\n",
    "# and build the vocabulary V1 from the glove embeddings\n",
    "text_vectorizer = TextVectorizer(\n",
    "    glove_url=\"http://nlp.stanford.edu/data/glove.6B.zip\",\n",
    "    max_tokens=20000,\n",
    "    embedding_dim=50,\n",
    "    embedding_folder=os.path.join(os.getcwd(), \"glove\")\n",
    ")\n",
    "\n",
    "# compute embeddings for terms (OOV1) in the training set that are out of vocabulary V1 and add them: V2=V1+OOV1\n",
    "print(\"Parsing the training set...\")\n",
    "text_vectorizer.adapt(X_train)\n",
    "# use the vocabulary V2 to convert the training set inputs into embedding vectors\n",
    "X_train = text_vectorizer.transform(X_train)\n",
    "\n",
    "# compute embeddings for terms (OOV2) in the validation set that are out of vocabulary V2 and add them: V3=V2+OOV2\n",
    "print(\"\\nParsing the validation set...\")\n",
    "text_vectorizer.adapt(X_dev)\n",
    "# use the vocabulary V3 to convert the validation set inputs into embedding vectors\n",
    "X_dev = text_vectorizer.transform(X_dev)\n",
    "\n",
    "# compute embeddings for terms (OOV3) in the test set that are out of vocabulary V3 and add them: V4=V3+OOV3\n",
    "print(\"\\nParsing the test set...\")\n",
    "text_vectorizer.adapt(X_test)\n",
    "# use the vocabulary V4 to convert the test set inputs into embedding vectors\n",
    "X_test = text_vectorizer.transform(X_test)"
   ]
  },
  {
   "cell_type": "code",
   "execution_count": 9,
   "metadata": {},
   "outputs": [
    {
     "name": "stdout",
     "output_type": "stream",
     "text": [
      "Input shape: (1957, 249, 50)\n"
     ]
    }
   ],
   "source": [
    "print(f\"Input shape: {X_train.shape}\")"
   ]
  },
  {
   "cell_type": "markdown",
   "metadata": {},
   "source": [
    "### 1.4 One-hot encoding of the targets\n",
    "Each POS tag in each set is converted using the one-hot representation"
   ]
  },
  {
   "cell_type": "code",
   "execution_count": 10,
   "metadata": {},
   "outputs": [],
   "source": [
    "# initialize the vectorizer for the target tags to convert them into one-hot representation\n",
    "target_vectorizer = TargetVectorizer()\n",
    "\n",
    "# adapt the target vectorizer with only the training set: we do not consider possible targets that are not seen in training set but they are in the dev/test set\n",
    "target_vectorizer.adapt(y_train)  \n",
    "\n",
    "# convert the targets into one-hot representation for each splitting set\n",
    "y_train = target_vectorizer.transform(y_train)\n",
    "y_dev = target_vectorizer.transform(y_dev)\n",
    "y_test = target_vectorizer.transform(y_test)\n",
    "\n",
    "n_classes = y_train[0].shape[1]"
   ]
  },
  {
   "cell_type": "code",
   "execution_count": 11,
   "metadata": {},
   "outputs": [
    {
     "name": "stdout",
     "output_type": "stream",
     "text": [
      "Target shape: (1957, 249, 45)\n",
      "Number of classes for one-hot encoded targets: 45\n"
     ]
    }
   ],
   "source": [
    "print(f\"Target shape: {y_train.shape}\")\n",
    "print(f\"Number of classes for one-hot encoded targets: {n_classes}\")"
   ]
  },
  {
   "cell_type": "markdown",
   "metadata": {},
   "source": [
    "## 2. Training"
   ]
  },
  {
   "cell_type": "markdown",
   "metadata": {},
   "source": [
    "### 2.1 Models definition\n",
    "We are now ready to define our neural network architectures!"
   ]
  },
  {
   "cell_type": "code",
   "execution_count": 18,
   "metadata": {},
   "outputs": [
    {
     "name": "stdout",
     "output_type": "stream",
     "text": [
      "Model: \"sequential_4\"\n",
      "_________________________________________________________________\n",
      " Layer (type)                Output Shape              Param #   \n",
      "=================================================================\n",
      " bilstm_1 (Bidirectional)    (1957, 249, 128)          58880     \n",
      "                                                                 \n",
      " output (Dense)              (1957, 249, 45)           5805      \n",
      "                                                                 \n",
      "=================================================================\n",
      "Total params: 64,685\n",
      "Trainable params: 64,685\n",
      "Non-trainable params: 0\n",
      "_________________________________________________________________\n"
     ]
    }
   ],
   "source": [
    "def create_model(layers_info, compile_info):\n",
    "    \"\"\"\n",
    "    Create a Keras model given a list of layer information\n",
    "\n",
    "    Parameters\n",
    "    ----------\n",
    "    layers_info : a list of dictionaries, one for each layer\n",
    "    compile_info : dictionary containing compile information\n",
    "\n",
    "    Returns\n",
    "    -------\n",
    "    model: the built keras sequential model\n",
    "    \"\"\"\n",
    "\n",
    "    model = keras.Sequential()\n",
    "    for info in layers_info:\n",
    "        layer = info['layer_name'](**{key: value for key, value in info.items() if key != 'layer_name'})\n",
    "        model.add(layer)\n",
    "\n",
    "    # Compile\n",
    "    model.compile(**compile_info)\n",
    "\n",
    "    return model\n",
    "\n",
    "layers_info = [\n",
    "    {\n",
    "        'layer_name': layers.Bidirectional,\n",
    "        \"layer\": layers.LSTM(64, return_sequences=True),\n",
    "        \"name\": \"bilstm_1\"\n",
    "    },\n",
    "    {\n",
    "        \"layer_name\": layers.Dense,\n",
    "        \"units\": n_classes,\n",
    "        \"activation\": \"softmax\",\n",
    "        \"name\": \"output\"\n",
    "    }\n",
    "]\n",
    "\n",
    "compile_info = {\n",
    "    'optimizer': keras.optimizers.Adam(learning_rate=1e-3),\n",
    "    'loss': 'categorical_crossentropy',\n",
    "    'metrics' : [\"accuracy\"]\n",
    "}\n",
    "\n",
    "model = create_model(layers_info, compile_info)\n",
    "model.build(input_shape=X_train.shape)\n",
    "model.summary()"
   ]
  },
  {
   "cell_type": "markdown",
   "metadata": {},
   "source": [
    "### 2.2 Model training"
   ]
  },
  {
   "cell_type": "code",
   "execution_count": 19,
   "metadata": {
    "colab": {
     "base_uri": "https://localhost:8080/"
    },
    "executionInfo": {
     "elapsed": 146974,
     "status": "ok",
     "timestamp": 1647520030856,
     "user": {
      "displayName": "Giuseppe Murro",
      "photoUrl": "https://lh3.googleusercontent.com/a/default-user=s64",
      "userId": "06891881942139960189"
     },
     "user_tz": -60
    },
    "id": "mG4rYoHDmHtO",
    "outputId": "e932bfdc-368a-4ca1-ef97-ec414fb2f42e"
   },
   "outputs": [
    {
     "name": "stdout",
     "output_type": "stream",
     "text": [
      "Epoch 1/20\n",
      "164/164 [==============================] - 14s 69ms/step - loss: 0.5011 - accuracy: 0.8911 - val_loss: 0.2732 - val_accuracy: 0.9269\n",
      "Epoch 2/20\n",
      "164/164 [==============================] - 10s 60ms/step - loss: 0.2364 - accuracy: 0.9382 - val_loss: 0.2073 - val_accuracy: 0.9465\n",
      "Epoch 3/20\n",
      "164/164 [==============================] - 10s 63ms/step - loss: 0.1778 - accuracy: 0.9535 - val_loss: 0.1587 - val_accuracy: 0.9576\n",
      "Epoch 4/20\n",
      "164/164 [==============================] - 11s 68ms/step - loss: 0.1377 - accuracy: 0.9637 - val_loss: 0.1284 - val_accuracy: 0.9659\n",
      "Epoch 5/20\n",
      "164/164 [==============================] - 12s 72ms/step - loss: 0.1131 - accuracy: 0.9706 - val_loss: 0.1099 - val_accuracy: 0.9707\n",
      "Epoch 6/20\n",
      "164/164 [==============================] - 11s 66ms/step - loss: 0.0974 - accuracy: 0.9746 - val_loss: 0.0976 - val_accuracy: 0.9738\n",
      "Epoch 7/20\n",
      "164/164 [==============================] - 10s 63ms/step - loss: 0.0867 - accuracy: 0.9772 - val_loss: 0.0887 - val_accuracy: 0.9755\n",
      "Epoch 8/20\n",
      "164/164 [==============================] - 10s 60ms/step - loss: 0.0786 - accuracy: 0.9789 - val_loss: 0.0822 - val_accuracy: 0.9773\n",
      "Epoch 9/20\n",
      "164/164 [==============================] - 10s 64ms/step - loss: 0.0723 - accuracy: 0.9802 - val_loss: 0.0767 - val_accuracy: 0.9783\n",
      "Epoch 10/20\n",
      "164/164 [==============================] - 11s 64ms/step - loss: 0.0671 - accuracy: 0.9815 - val_loss: 0.0722 - val_accuracy: 0.9795\n",
      "Epoch 11/20\n",
      "164/164 [==============================] - 10s 62ms/step - loss: 0.0627 - accuracy: 0.9824 - val_loss: 0.0685 - val_accuracy: 0.9803\n",
      "Epoch 12/20\n",
      "164/164 [==============================] - 10s 61ms/step - loss: 0.0589 - accuracy: 0.9834 - val_loss: 0.0653 - val_accuracy: 0.9814\n",
      "Epoch 13/20\n",
      "164/164 [==============================] - 9s 56ms/step - loss: 0.0558 - accuracy: 0.9842 - val_loss: 0.0626 - val_accuracy: 0.9819\n",
      "Epoch 14/20\n",
      "164/164 [==============================] - 10s 60ms/step - loss: 0.0525 - accuracy: 0.9852 - val_loss: 0.0600 - val_accuracy: 0.9828\n",
      "Epoch 15/20\n",
      "164/164 [==============================] - 10s 59ms/step - loss: 0.0500 - accuracy: 0.9859 - val_loss: 0.0580 - val_accuracy: 0.9834\n",
      "Epoch 16/20\n",
      "164/164 [==============================] - 10s 59ms/step - loss: 0.0474 - accuracy: 0.9865 - val_loss: 0.0563 - val_accuracy: 0.9839\n",
      "Epoch 17/20\n",
      "164/164 [==============================] - 10s 60ms/step - loss: 0.0452 - accuracy: 0.9872 - val_loss: 0.0547 - val_accuracy: 0.9843\n",
      "Epoch 18/20\n",
      "164/164 [==============================] - 10s 62ms/step - loss: 0.0431 - accuracy: 0.9878 - val_loss: 0.0530 - val_accuracy: 0.9847\n",
      "Epoch 19/20\n",
      "164/164 [==============================] - 10s 61ms/step - loss: 0.0412 - accuracy: 0.9883 - val_loss: 0.0518 - val_accuracy: 0.9849\n",
      "Epoch 20/20\n",
      "164/164 [==============================] - 11s 65ms/step - loss: 0.0393 - accuracy: 0.9889 - val_loss: 0.0504 - val_accuracy: 0.9853\n"
     ]
    }
   ],
   "source": [
    "history_bilstm = model.fit(X_train, y_train, epochs=20, batch_size=12, validation_data=(X_dev, y_dev))"
   ]
  },
  {
   "cell_type": "markdown",
   "metadata": {
    "id": "ab9ETsbC2Q82"
   },
   "source": [
    "### 2.3 History of the training\n",
    "Plot metrics evolution for each epoch during the training"
   ]
  },
  {
   "cell_type": "code",
   "execution_count": 20,
   "metadata": {
    "executionInfo": {
     "elapsed": 9,
     "status": "ok",
     "timestamp": 1647520543249,
     "user": {
      "displayName": "Giuseppe Murro",
      "photoUrl": "https://lh3.googleusercontent.com/a/default-user=s64",
      "userId": "06891881942139960189"
     },
     "user_tz": -60
    },
    "id": "25YBLK3E2R6m"
   },
   "outputs": [],
   "source": [
    "def plot_history(models_history, keys, model_names=[], labels=(\"epochs\", \"metrics\"), figsize=(10,5), cmap='rainbow'):\n",
    "    \"\"\"\n",
    "    Plot the history of the metrics in the history dictionary for each model.\n",
    "        :param models_history: array of dictionary of the metric history for each model\n",
    "        :param keys: list of keys of the metrics to plot\n",
    "        :param model_names: list of names of the models\n",
    "        :param labels: list of labels of the axes\n",
    "        :param figsize: size of the figure\n",
    "        :param cmap: color map used for the plot\n",
    "    \"\"\"\n",
    "\n",
    "    # maps each model to a distinct RGB color\n",
    "    cmap = plt.cm.get_cmap(cmap, len(models_history))\n",
    "\n",
    "    \n",
    "    fig = plt.figure(figsize=figsize)\n",
    "\n",
    "    # for each model trained\n",
    "    for i, history in enumerate(models_history):\n",
    "        # take all pairs of training and val metrics\n",
    "        for j in range(0, len(keys), 2):\n",
    "            metric, val_metric = keys[j], keys[j+1]\n",
    "            \n",
    "            plt.plot(history[metric], label=f\"{model_names[i]} {metric}\", linestyle=\"solid\", color=cmap(i))\n",
    "            plt.plot(history[val_metric],  label=f\"{model_names[i]} {val_metric}\", linestyle=\"--\",  color=cmap(i))\n",
    "        \n",
    "    plt.xlabel(labels[0])\n",
    "    plt.ylabel(labels[1])\n",
    "\n",
    "    # Adding legend\n",
    "    plt.legend(\n",
    "          title =\"Legend\",\n",
    "          loc =\"upper left\",\n",
    "          bbox_to_anchor =(1.0, 0, 0.5, 1))\n",
    "    plt.title(\"Training history\")\n",
    "    plt.grid(linestyle='--', linewidth=1)\n",
    "    plt.show()"
   ]
  },
  {
   "cell_type": "code",
   "execution_count": 21,
   "metadata": {
    "colab": {
     "base_uri": "https://localhost:8080/",
     "height": 899
    },
    "executionInfo": {
     "elapsed": 1224,
     "status": "ok",
     "timestamp": 1647520544465,
     "user": {
      "displayName": "Giuseppe Murro",
      "photoUrl": "https://lh3.googleusercontent.com/a/default-user=s64",
      "userId": "06891881942139960189"
     },
     "user_tz": -60
    },
    "id": "Ca9TMoj42VgT",
    "outputId": "1c4fc89d-a393-4b07-ea16-5a109fbc8911"
   },
   "outputs": [
    {
     "data": {
      "image/png": "[encoded data removed]",
      "text/plain": [
       "<Figure size 1080x504 with 1 Axes>"
      ]
     },
     "metadata": {
      "needs_background": "light"
     },
     "output_type": "display_data"
    },
    {
     "data": {
      "image/png": "[encoded data removed]",
      "text/plain": [
       "<Figure size 1080x504 with 1 Axes>"
      ]
     },
     "metadata": {
      "needs_background": "light"
     },
     "output_type": "display_data"
    }
   ],
   "source": [
    "models_history = [history_bilstm.history]\n",
    "model_names = [\"BiLSTM\"]\n",
    "plot_history(models_history, keys=['loss', 'val_loss'], model_names=model_names, labels=(\"epochs\", \"loss\"), figsize=(15,7))\n",
    "plot_history(models_history, keys=['accuracy', 'val_accuracy'], model_names=model_names, labels=(\"epochs\", \"accuracy\"), figsize=(15,7))"
   ]
  },
  {
   "cell_type": "markdown",
   "metadata": {},
   "source": [
    "## 3. Evaluation"
   ]
  },
  {
   "cell_type": "code",
   "execution_count": 1,
   "metadata": {},
   "outputs": [],
   "source": [
    "def evaluate_model(model, X_test, y_test, labels):\n",
    "    \"\"\"\n",
    "    given a trained model and a test set returns the f-score and the confusion matrix\n",
    "    taking into account only classes in labels\n",
    "    \"\"\"\n",
    "    raw_y_true = np.array(y_test)\n",
    "    raw_y_pred = model.predict(X_test)\n",
    "    # shape of the output is doc x len_sen x classes\n",
    "    # argmax for label predictions\n",
    "    len_sentence = raw_y_pred.shape[1]\n",
    "    num_sentences = raw_y_pred.shape[0]\n",
    "    y_pred = np.empty((num_sentences, len_sentence))\n",
    "    y_true = np.empty((num_sentences, len_sentence))\n",
    "    # assign label with the highest probability\n",
    "    for i in range(num_sentences):\n",
    "        for j in range(len_sentence):\n",
    "            y_pred[i,j] = np.argmax(raw_y_pred[i,j,:])\n",
    "            y_true[i,j] = np.argmax(raw_y_true[i,j,:])\n",
    "    # flatten the numpy array to have a 1D array\n",
    "    y_true = y_true.flatten()\n",
    "    y_pred = y_pred.flatten()\n",
    "    # show confusion matrix\n",
    "    conf_matrix = confusion_matrix(y_true, y_pred, labels=labels)\n",
    "    disp = ConfusionMatrixDisplay(conf_matrix)\n",
    "    fig, ax = plt.subplots(figsize=(10,10))\n",
    "    disp.plot(ax=ax)\n",
    "    # f1 score\n",
    "    print(\"F score:\\n-------------------------------\\n\")\n",
    "    print(f1_score(y_true, y_pred, labels=labels, average='macro'))"
   ]
  },
  {
   "cell_type": "code",
   "execution_count": 2,
   "metadata": {},
   "outputs": [
    {
     "ename": "NameError",
     "evalue": "name 'target_vectorizer' is not defined",
     "output_type": "error",
     "traceback": [
      "\u001B[1;31m---------------------------------------------------------------------------\u001B[0m",
      "\u001B[1;31mNameError\u001B[0m                                 Traceback (most recent call last)",
      "\u001B[1;32m<ipython-input-2-f7e5978a00b2>\u001B[0m in \u001B[0;36m<module>\u001B[1;34m\u001B[0m\n\u001B[0;32m      1\u001B[0m \u001B[0mpunctuation_indexes\u001B[0m \u001B[1;33m=\u001B[0m \u001B[1;33m[\u001B[0m\u001B[1;36m0\u001B[0m\u001B[1;33m,\u001B[0m \u001B[1;36m1\u001B[0m\u001B[1;33m,\u001B[0m \u001B[1;36m2\u001B[0m\u001B[1;33m,\u001B[0m \u001B[1;36m3\u001B[0m\u001B[1;33m,\u001B[0m \u001B[1;36m4\u001B[0m\u001B[1;33m,\u001B[0m \u001B[1;36m5\u001B[0m\u001B[1;33m,\u001B[0m \u001B[1;36m6\u001B[0m\u001B[1;33m,\u001B[0m \u001B[1;36m16\u001B[0m\u001B[1;33m,\u001B[0m \u001B[1;36m30\u001B[0m\u001B[1;33m,\u001B[0m \u001B[1;36m43\u001B[0m\u001B[1;33m]\u001B[0m\u001B[1;33m\u001B[0m\u001B[1;33m\u001B[0m\u001B[0m\n\u001B[1;32m----> 2\u001B[1;33m \u001B[0mclasses\u001B[0m \u001B[1;33m=\u001B[0m \u001B[0mtarget_vectorizer\u001B[0m\u001B[1;33m.\u001B[0m\u001B[0mget_classes\u001B[0m\u001B[1;33m(\u001B[0m\u001B[1;33m)\u001B[0m\u001B[1;33m\u001B[0m\u001B[1;33m\u001B[0m\u001B[0m\n\u001B[0m\u001B[0;32m      3\u001B[0m \u001B[0mvalid_labels\u001B[0m \u001B[1;33m=\u001B[0m \u001B[0mlist\u001B[0m\u001B[1;33m(\u001B[0m\u001B[0mset\u001B[0m\u001B[1;33m(\u001B[0m\u001B[0mrange\u001B[0m\u001B[1;33m(\u001B[0m\u001B[0mlen\u001B[0m\u001B[1;33m(\u001B[0m\u001B[0mclasses\u001B[0m\u001B[1;33m)\u001B[0m\u001B[1;33m)\u001B[0m\u001B[1;33m)\u001B[0m \u001B[1;33m-\u001B[0m \u001B[0mset\u001B[0m\u001B[1;33m(\u001B[0m\u001B[0mpunctuation_indexes\u001B[0m\u001B[1;33m)\u001B[0m\u001B[1;33m)\u001B[0m\u001B[1;33m\u001B[0m\u001B[1;33m\u001B[0m\u001B[0m\n\u001B[0;32m      4\u001B[0m \u001B[0mevaluate_model\u001B[0m\u001B[1;33m(\u001B[0m\u001B[0mmodel\u001B[0m\u001B[1;33m,\u001B[0m \u001B[0mX_test\u001B[0m\u001B[1;33m,\u001B[0m \u001B[0my_test\u001B[0m\u001B[1;33m,\u001B[0m \u001B[0mvalid_labels\u001B[0m\u001B[1;33m)\u001B[0m\u001B[1;33m\u001B[0m\u001B[1;33m\u001B[0m\u001B[0m\n",
      "\u001B[1;31mNameError\u001B[0m: name 'target_vectorizer' is not defined"
     ]
    }
   ],
   "source": [
    "punctuation_indexes = [0, 1, 2, 3, 4, 5, 6, 16, 30, 43]\n",
    "classes = target_vectorizer.get_classes()\n",
    "valid_labels = list(set(range(len(classes))) - set(punctuation_indexes))\n",
    "evaluate_model(model, X_test, y_test, valid_labels)"
   ]
  },
  {
   "cell_type": "code",
   "execution_count": 55,
   "metadata": {},
   "outputs": [
    {
     "name": "stdout",
     "output_type": "stream",
     "text": [
      "Original POS tagging:  ['CC' 'DT' 'NN' 'VBZ' 'DT' 'JJ' 'NN' 'IN' 'WRB' 'DT' 'NNS' 'IN' 'DT' 'JJ'\n",
      " 'JJ' 'NN' 'VBP' 'VBN' 'DT' 'NNS' 'IN' 'DT' 'JJ' 'NN' 'DT' 'NN' 'VBZ' 'TO'\n",
      " 'VB' 'NN' ',' 'NN' 'CC' 'NN' '.' '.' '.' '.' '.' '.' '.' '.' '.' '.' '.'\n",
      " '.' '.' '.' '.' '.' '.' '.' '.' '.' '.' '.' '.' '.' '.' '.' '.' '.' '.'\n",
      " '.' '.' '.' '.' '.' '.' '.' '.' '.' '.' '.' '.' '.' '.' '.' '.' '.' '.'\n",
      " '.' '.' '.' '.' '.' '.' '.' '.' '.' '.' '.' '.' '.' '.' '.' '.' '.' '.'\n",
      " '.' '.' '.' '.' '.' '.' '.' '.' '.' '.' '.' '.' '.' '.' '.' '.' '.' '.'\n",
      " '.' '.' '.' '.' '.' '.' '.' '.' '.' '.' '.' '.' '.' '.' '.' '.' '.' '.'\n",
      " '.' '.' '.' '.' '.' '.' '.' '.' '.' '.' '.' '.' '.' '.' '.' '.' '.' '.'\n",
      " '.' '.' '.' '.' '.' '.' '.' '.' '.' '.' '.' '.' '.' '.' '.' '.' '.' '.'\n",
      " '.' '.' '.' '.' '.' '.' '.' '.' '.' '.' '.' '.' '.' '.' '.' '.' '.' '.'\n",
      " '.' '.' '.' '.' '.' '.' '.' '.' '.' '.' '.' '.' '.' '.' '.' '.' '.' '.'\n",
      " '.' '.' '.' '.' '.' '.' '.' '.' '.' '.' '.' '.' '.' '.' '.' '.' '.' '.'\n",
      " '.' '.' '.' '.' '.' '.' '.' '.' '.' '.' '.' '.' '.' '.' '.' '.' '.' '.'\n",
      " '.' '.' '.' '.' '.' '.']\n",
      "Predicted POS tagging:  ['CC' 'DT' 'NN' 'VBZ' 'DT' 'JJ' 'NN' 'IN' 'WP' 'DT' 'NNS' 'IN' 'DT' 'JJ'\n",
      " 'JJ' 'NN' 'VBP' 'VBN' 'DT' 'NNS' 'IN' 'DT' 'JJ' 'NNP' 'DT' 'NN' 'VBZ'\n",
      " 'TO' 'JJ' 'NN' ',' 'NN' 'CC' 'NN' '.' '.' '.' '.' '.' '.' '.' '.' '.' '.'\n",
      " '.' '.' '.' '.' '.' '.' '.' '.' '.' '.' '.' '.' '.' '.' '.' '.' '.' '.'\n",
      " '.' '.' '.' '.' '.' '.' '.' '.' '.' '.' '.' '.' '.' '.' '.' '.' '.' '.'\n",
      " '.' '.' '.' '.' '.' '.' '.' '.' '.' '.' '.' '.' '.' '.' '.' '.' '.' '.'\n",
      " '.' '.' '.' '.' '.' '.' '.' '.' '.' '.' '.' '.' '.' '.' '.' '.' '.' '.'\n",
      " '.' '.' '.' '.' '.' '.' '.' '.' '.' '.' '.' '.' '.' '.' '.' '.' '.' '.'\n",
      " '.' '.' '.' '.' '.' '.' '.' '.' '.' '.' '.' '.' '.' '.' '.' '.' '.' '.'\n",
      " '.' '.' '.' '.' '.' '.' '.' '.' '.' '.' '.' '.' '.' '.' '.' '.' '.' '.'\n",
      " '.' '.' '.' '.' '.' '.' '.' '.' '.' '.' '.' '.' '.' '.' '.' '.' '.' '.'\n",
      " '.' '.' '.' '.' '.' '.' '.' '.' '.' '.' '.' '.' '.' '.' '.' '.' '.' '.'\n",
      " '.' '.' '.' '.' '.' '.' '.' '.' '.' '.' '.' '.' '.' '.' '.' '.' '.' '.'\n",
      " '.' '.' '.' '.' '.' '.' '.' '.' '.' '.' '.' '.' '.' '.' '.' '.' '.' '.'\n",
      " '.' '.' '.' '.' '.' '.' '.']\n"
     ]
    }
   ],
   "source": [
    "i_test = 0  # change this to see the prediction for a different sentence\n",
    "\n",
    "print(\"Original POS tagging: \",target_vectorizer.inverse_transform([y_test[i_test]])[0])\n",
    "\n",
    "raw_y_pred = model.predict(np.array([X_test[i_test]]))\n",
    "# shape of the output is doc x len_sen x classes\n",
    "# argmax for label predictions\n",
    "n_class =  raw_y_pred.shape[2]\n",
    "len_sentence = raw_y_pred.shape[1]\n",
    "num_sentences = raw_y_pred.shape[0]\n",
    "\n",
    "# assign label with the highest probability\n",
    "y_pred = np.array([[1 if raw_y_pred[0,i,j] == max(raw_y_pred[0,i,:]) else 0 for j in range(n_class)] for i in range(len_sentence) ])\n",
    "print(\"Predicted POS tagging: \",target_vectorizer.inverse_transform([y_pred])[0])"
   ]
  }
 ],
 "metadata": {
  "accelerator": "GPU",
  "colab": {
   "collapsed_sections": [],
   "name": "POS_tagging.ipynb",
   "provenance": []
  },
  "interpreter": {
   "hash": "63e28586807c6502c782d898cf9a0cc5787bb3d77952b17b51ec8bdcd4044a3d"
  },
  "kernelspec": {
   "display_name": "Python 3",
   "language": "python",
   "name": "python3"
  },
  "language_info": {
   "codemirror_mode": {
    "name": "ipython",
    "version": 3
   },
   "file_extension": ".py",
   "mimetype": "text/x-python",
   "name": "python",
   "nbconvert_exporter": "python",
   "pygments_lexer": "ipython3",
   "version": "3.9.7"
  }
 },
 "nbformat": 4,
 "nbformat_minor": 0
}
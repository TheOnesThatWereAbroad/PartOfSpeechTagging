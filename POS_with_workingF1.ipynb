{
 "cells": [
  {
   "cell_type": "markdown",
   "metadata": {
    "colab_type": "text",
    "id": "view-in-github"
   },
   "source": [
    "<a href=\"https://colab.research.google.com/github/TheOnesThatWereAbroad/Assignment1/blob/main/POS_with_workingF1.ipynb\" target=\"_parent\"><img src=\"https://colab.research.google.com/assets/colab-badge.svg\" alt=\"Open In Colab\"/></a>"
   ]
  },
  {
   "cell_type": "markdown",
   "metadata": {
    "id": "tc8x9pA00Sfd"
   },
   "source": [
    "# Assignment 1 - POS tagging"
   ]
  },
  {
   "cell_type": "code",
   "execution_count": 1,
   "metadata": {
    "id": "jHhrkDf2kqzg"
   },
   "outputs": [],
   "source": [
    "import os\n",
    "import numpy as np\n",
    "import matplotlib.pyplot as plt\n",
    "import pandas as pd\n",
    "\n",
    "import tensorflow as tf\n",
    "import tensorflow_addons as tfa\n",
    "from tensorflow import keras\n",
    "from tensorflow.keras import layers\n",
    "import tensorflow.keras.backend as K\n",
    "import keras_tuner as kt\n",
    "import sklearn\n",
    "from sklearn.metrics import confusion_matrix, ConfusionMatrixDisplay, f1_score, classification_report\n",
    "\n",
    "from data_input import DataInput\n",
    "from text_vectorizer import TextVectorizer, TargetVectorizer"
   ]
  },
  {
   "cell_type": "markdown",
   "metadata": {
    "id": "jx2qo48Ikqzi"
   },
   "source": [
    "## 1. Build a dataset"
   ]
  },
  {
   "cell_type": "markdown",
   "metadata": {
    "id": "IN34sX55kqzi"
   },
   "source": [
    "### 1.1 Dataset preparation\n",
    "For this experiment, the [Dependency Parsed Treebank](https://www.nltk.org/nltk_data/) dataset is used.\n",
    "Notice that each document is slitted into sentences, so the dimensionality of the data is more than 199 (total number of documents in the dataset)"
   ]
  },
  {
   "cell_type": "code",
   "execution_count": 2,
   "metadata": {
    "colab": {
     "base_uri": "https://localhost:8080/"
    },
    "id": "eRQ_hwv9mHtK",
    "outputId": "4f9383d0-ccf0-43e2-e206-12c0e7a79586"
   },
   "outputs": [
    {
     "name": "stdout",
     "output_type": "stream",
     "text": [
      "Train set size: 1957\n",
      "Dev set size: 979\n",
      "Test set size: 978\n"
     ]
    }
   ],
   "source": [
    "# download the dataset and split it into train, dev and test sets\n",
    "dataset = DataInput(\n",
    "        data_url=\"https://raw.githubusercontent.com/nltk/nltk_data/gh-pages/packages/corpora/dependency_treebank.zip\",\n",
    "        train_size=0.50,\n",
    "        dev_size=0.25,\n",
    "        dataset_folder=os.path.join(os.getcwd(), \"dataset\"),\n",
    "        split_into_sentences=True,\n",
    "        shuffle=False\n",
    "    )"
   ]
  },
  {
   "cell_type": "markdown",
   "metadata": {
    "id": "SGQatFzWkqzk"
   },
   "source": [
    "Pre-processing is always an important step with which start. There are a lot of pre-processing steps that we can consider, but for this experiment the only pre-processing operation performed is:\n",
    "- **to lower**, in part-of-speech tagging scenario casing of the input tokens is crucial to find the correspondent token in the embedding vocabulary"
   ]
  },
  {
   "cell_type": "code",
   "execution_count": 3,
   "metadata": {
    "id": "YbVR94oskqzk"
   },
   "outputs": [],
   "source": [
    "# do preprocessing for train, validation and test sets\n",
    "dataset.preprocessing(\"train\", to_lower=True)\n",
    "dataset.preprocessing(\"dev\", to_lower=True)\n",
    "dataset.preprocessing(\"test\", to_lower=True)\n",
    "\n",
    "# separate inputs and targets\n",
    "X_train, y_train = dataset.train\n",
    "X_dev, y_dev = dataset.dev\n",
    "X_test, y_test = dataset.test"
   ]
  },
  {
   "cell_type": "code",
   "execution_count": 4,
   "metadata": {
    "colab": {
     "base_uri": "https://localhost:8080/"
    },
    "id": "lxfgDx0jrnqV",
    "outputId": "e05c2488-baa5-405f-89df-a119da9a35be"
   },
   "outputs": [
    {
     "data": {
      "text/plain": [
       "(1957,)"
      ]
     },
     "execution_count": 4,
     "metadata": {},
     "output_type": "execute_result"
    }
   ],
   "source": [
    "dataset.train[0].shape"
   ]
  },
  {
   "cell_type": "markdown",
   "metadata": {
    "id": "IPv-M1xEmHtM"
   },
   "source": [
    "### 1.2 Dataset analysis\n",
    "Let's take a look at the dataset, to inspect the distribution of the POS tags"
   ]
  },
  {
   "cell_type": "code",
   "execution_count": 5,
   "metadata": {
    "id": "Oh9Jg3ePkqzm"
   },
   "outputs": [],
   "source": [
    "def get_occurences(data, ordered=False, exclude=[]):\n",
    "    \"\"\"\n",
    "    Get the occurences of each token in the data.\n",
    "\n",
    "    Parameters\n",
    "    ----------\n",
    "    data : list of np arrays, representing the data to get the occurences from\n",
    "    ordered : bool, if True, the occurences will be returned in descending order\n",
    "    exclude : list of strings, tokens that should not be included in the occurences\n",
    "\n",
    "    Returns\n",
    "    -------\n",
    "    occurences : dict, mapping each token to the number of occurences\n",
    "    \"\"\"\n",
    "    tokens, counts = np.unique(np.concatenate(data), return_counts=True)\n",
    "    occurences = dict(zip(tokens, counts))\n",
    "\n",
    "    if len(exclude) > 0:\n",
    "        for token in exclude:\n",
    "            if token in occurences:\n",
    "                del occurences[token]\n",
    "\n",
    "    if ordered:\n",
    "        occurences = dict(sorted(occurences.items(), key=lambda x: x[1], reverse=True))\n",
    "    return occurences\n",
    "\n",
    "# get the occurences of each POS tag in the three sets \n",
    "train_tags_occ = get_occurences(y_train, ordered=True, exclude=[])\n",
    "dev_tags_occ = get_occurences(y_dev, exclude=[])\n",
    "test_tags_occ = get_occurences(y_test, exclude=[])\n",
    "\n",
    "# build a matrix of the occurences of size (n_tags, 3)\n",
    "tags_occ = np.array([[v, dev_tags_occ[k], test_tags_occ[k]] if k in dev_tags_occ and k in test_tags_occ else [v, dev_tags_occ[k], 0] if k in dev_tags_occ else [v, 0, test_tags_occ[k]] if k in test_tags_occ else [v, 0, 0] for k, v in train_tags_occ.items()])"
   ]
  },
  {
   "cell_type": "code",
   "execution_count": 6,
   "metadata": {
    "colab": {
     "base_uri": "https://localhost:8080/",
     "height": 530
    },
    "id": "aZh5QAJIkqzn",
    "outputId": "e52bd3da-ddec-4f20-9350-18d6376fa2f9"
   },
   "outputs": [
    {
     "data": {
      "text/plain": [
       "[]"
      ]
     },
     "execution_count": 6,
     "metadata": {},
     "output_type": "execute_result"
    },
    {
     "data": {
      "image/png": "[encoded data removed]",
      "text/plain": [
       "<Figure size 1656x576 with 1 Axes>"
      ]
     },
     "metadata": {
      "needs_background": "light"
     },
     "output_type": "display_data"
    }
   ],
   "source": [
    "# plot bar chart of the occurences of each POS tag\n",
    "fig, ax = plt.subplots(1, 1, figsize=(23, 8))\n",
    "tags = list(train_tags_occ.keys())\n",
    "ax.bar(tags, tags_occ[:, 1], width=0.3, align='edge', label='dev')\n",
    "ax.bar(tags, tags_occ[:, 2], width=-0.6, align='edge', label='test')\n",
    "ax.bar(tags, tags_occ[:, 0], width=-0.3, align='edge', label='train')\n",
    "ax.set_xticks(tags)\n",
    "ax.set_xlabel('Tags')\n",
    "ax.set_ylabel('Occurences')\n",
    "ax.set_title(\"Occurences of POS tags\")\n",
    "ax.legend()\n",
    "plt.plot()"
   ]
  },
  {
   "cell_type": "code",
   "execution_count": 7,
   "metadata": {
    "colab": {
     "base_uri": "https://localhost:8080/"
    },
    "id": "QYCqD_Zpkqzo",
    "outputId": "2a55eec6-cf3b-43e5-c366-1b5aa65f9b41"
   },
   "outputs": [
    {
     "name": "stdout",
     "output_type": "stream",
     "text": [
      "The following tags (from the train set) are not in the dev set: {'SYM'}\n",
      "The following tags (from the train set) are not in the test set: {'LS', 'UH', 'FW', 'SYM'}\n"
     ]
    }
   ],
   "source": [
    "# analyze the difference between the presence of the POS tags in the train, dev and test sets\n",
    "train_tags_not_dev = set(train_tags_occ.keys()) - set(dev_tags_occ.keys())\n",
    "train_tags_not_test = set(train_tags_occ.keys()) - set(test_tags_occ.keys())\n",
    "dev_tags_not_train = set(dev_tags_occ.keys()) - set(train_tags_occ.keys())\n",
    "test_tags_not_train = set(test_tags_occ.keys()) - set(train_tags_occ.keys())\n",
    "\n",
    "if(len(train_tags_not_dev) > 0):\n",
    "    print(\"The following tags (from the train set) are not in the dev set:\", train_tags_not_dev)\n",
    "if(len(train_tags_not_test) > 0):\n",
    "    print(\"The following tags (from the train set) are not in the test set:\", train_tags_not_test)\n",
    "if(len(dev_tags_not_train) > 0):\n",
    "    print(\"The following tags (from the dev set) are not in the train set:\", dev_tags_not_train)\n",
    "if(len(test_tags_not_train) > 0):\n",
    "    print(\"The following tags (from the test set) are not in the train set:\", test_tags_not_train)"
   ]
  },
  {
   "cell_type": "markdown",
   "metadata": {
    "id": "mkIYSNxukqzo"
   },
   "source": [
    "### 1.3 GloVe embeddings vectorization\n",
    "The next step consists in downloading a pre-trained embedding model, namely GloVe. It is a techniques that tries to encoded global semantic properties based on the co-occurrence matrix.\n",
    "Three different dimensional space versions are available: 50, 100, 200.\n",
    "\n",
    "From the choosen embedding, a starting vocabulary is built.\n",
    "Then this vocabulary is enriched with the embeddings computed for the OOV words."
   ]
  },
  {
   "cell_type": "code",
   "execution_count": 8,
   "metadata": {
    "colab": {
     "base_uri": "https://localhost:8080/"
    },
    "id": "MxU2LR1Bkqzp",
    "outputId": "36824a8a-cbdd-4b55-e8d5-cbbf5d3e753c"
   },
   "outputs": [
    {
     "name": "stdout",
     "output_type": "stream",
     "text": [
      "Parsing the training set...\n",
      "Generated embeddings for 358 OOV words.\n",
      "\n",
      "Parsing the validation set...\n",
      "Generated embeddings for 131 OOV words.\n",
      "\n",
      "Parsing the test set...\n",
      "Generated embeddings for 187 OOV words.\n"
     ]
    }
   ],
   "source": [
    "# initialize the vectorizer for the input tokens to convert them to embedding vectors\n",
    "# and build the vocabulary V1 from the glove embeddings\n",
    "text_vectorizer = TextVectorizer(\n",
    "    glove_url=\"http://nlp.stanford.edu/data/glove.6B.zip\",\n",
    "    embedding_dim=100,\n",
    "    embedding_folder=os.path.join(os.getcwd(), \"glove\"),\n",
    "    max_size=dataset.max_size\n",
    ")\n",
    "\n",
    "# compute embeddings for terms (OOV1) in the training set that are out of vocabulary V1 and add them: V2=V1+OOV1\n",
    "print(\"Parsing the training set...\")\n",
    "text_vectorizer.adapt(X_train)\n",
    "# use the vocabulary V2 to convert the training set inputs into embedding vectors\n",
    "X_train = text_vectorizer.transform(X_train)\n",
    "\n",
    "# compute embeddings for terms (OOV2) in the validation set that are out of vocabulary V2 and add them: V3=V2+OOV2\n",
    "print(\"\\nParsing the validation set...\")\n",
    "text_vectorizer.adapt(X_dev)\n",
    "# use the vocabulary V3 to convert the validation set inputs into embedding vectors\n",
    "X_dev = text_vectorizer.transform(X_dev)\n",
    "\n",
    "# compute embeddings for terms (OOV3) in the test set that are out of vocabulary V3 and add them: V4=V3+OOV3\n",
    "print(\"\\nParsing the test set...\")\n",
    "text_vectorizer.adapt(X_test)\n",
    "# use the vocabulary V4 to convert the test set inputs into embedding vectors\n",
    "X_test = text_vectorizer.transform(X_test)"
   ]
  },
  {
   "cell_type": "code",
   "execution_count": 9,
   "metadata": {
    "colab": {
     "base_uri": "https://localhost:8080/"
    },
    "id": "NwDnKWdckqzp",
    "outputId": "050b5f48-b631-412e-9cde-ca22a6d787ef"
   },
   "outputs": [
    {
     "name": "stdout",
     "output_type": "stream",
     "text": [
      "Input shape: (1957, 249, 100)\n"
     ]
    }
   ],
   "source": [
    "print(f\"Input shape: {X_train.shape}\")"
   ]
  },
  {
   "cell_type": "markdown",
   "metadata": {
    "id": "tiDdPTFrkqzp"
   },
   "source": [
    "### 1.4 One-hot encoding of the targets\n",
    "Each POS tag in each set is converted using the one-hot representation"
   ]
  },
  {
   "cell_type": "code",
   "execution_count": 10,
   "metadata": {
    "id": "C37qdVk7kqzq"
   },
   "outputs": [],
   "source": [
    "# initialize the vectorizer for the target tags to convert them into one-hot representation\n",
    "target_vectorizer = TargetVectorizer(max_size=dataset.max_size)\n",
    "\n",
    "# adapt the target vectorizer with only the training set: we do not consider possible targets that are not seen in training set but they are in the dev/test set\n",
    "target_vectorizer.adapt(y_train)  \n",
    "\n",
    "# convert the targets into one-hot representation for each splitting set\n",
    "y_train = target_vectorizer.transform(y_train)\n",
    "y_dev = target_vectorizer.transform(y_dev)\n",
    "y_test = target_vectorizer.transform(y_test)\n",
    "\n",
    "n_classes = y_train[0].shape[1]"
   ]
  },
  {
   "cell_type": "code",
   "execution_count": 11,
   "metadata": {
    "colab": {
     "base_uri": "https://localhost:8080/"
    },
    "id": "qnH7e4okkqzq",
    "outputId": "c4630adf-c8bd-4021-d1dc-5798bb1fad9f"
   },
   "outputs": [
    {
     "name": "stdout",
     "output_type": "stream",
     "text": [
      "Target shape: (1957, 249, 45)\n",
      "Number of classes for one-hot encoded targets: 45\n"
     ]
    }
   ],
   "source": [
    "print(f\"Target shape: {y_train.shape}\")\n",
    "print(f\"Number of classes for one-hot encoded targets: {n_classes}\")"
   ]
  },
  {
   "cell_type": "markdown",
   "metadata": {
    "id": "khILeN7fkqzq"
   },
   "source": [
    "## 2. Training"
   ]
  },
  {
   "cell_type": "markdown",
   "metadata": {
    "id": "GZfQ0dECkqzr"
   },
   "source": [
    "### 2.1 Models definition\n",
    "We are now ready to define our neural network architectures! \n",
    "Four variants will be evaluated:\n",
    "- Bidirectional LSMT + Dense layer\n",
    "- Bidirectional GRU + Dense layer\n",
    "- Two Bidirectional LSMT + Dense layer\n",
    "- Bidirectional LSMT + Two Dense layer"
   ]
  },
  {
   "cell_type": "code",
   "execution_count": 12,
   "metadata": {
    "id": "l057_W6_87Fo"
   },
   "outputs": [],
   "source": [
    "tfa_f1 = tfa.metrics.F1Score(\n",
    "    num_classes= n_classes,\n",
    "    name = 'f1_score',\n",
    "    )\n",
    "punctuation_indices = [0, 1, 2, 3, 4, 5, 6,7, 16, 30, 43]\n",
    "\n",
    "def f1_with_tfa(y_true, y_pred):\n",
    "    y_true = tf.reshape(y_true, (-1, n_classes))\n",
    "    punctuation = tf.gather(y_true, punctuation_indices, axis=-1)\n",
    "    y_mask = tf.cast(tf.logical_not(tf.reduce_any(tf.cast(punctuation, tf.bool), axis=-1)), tf.float32)\n",
    "    y_pred = tf.reshape(y_pred, (-1, n_classes))\n",
    "    tfa_f1.update_state(y_true, y_pred, sample_weight=y_mask)\n",
    "    result = tfa_f1.result()\n",
    "    K.batch_set_value([(v, np.zeros(v.shape.as_list())) for v in tfa_f1.variables])\n",
    "    return np.sum(result)/(n_classes-len(punctuation_indices))"
   ]
  },
  {
   "cell_type": "code",
   "execution_count": 13,
   "metadata": {
    "id": "BFmjvEd_3ZUK"
   },
   "outputs": [],
   "source": [
    "def build_bilstm_model(hp):\n",
    "    \"\"\"\n",
    "    Build th Bidirectional LSMT + Dense layer model\n",
    "    \"\"\"\n",
    "    model = keras.Sequential()\n",
    "    model.add(layers.Masking(name='padding_masking', mask_value=0., input_shape=X_train.shape[1:]))\n",
    "    model.add(layers.Bidirectional(layers.LSTM(hp.Choice('units', [64, 128, 256]), return_sequences=True, kernel_regularizer=keras.regularizers.l2(0.01)), name=\"bilstm_1\"))\n",
    "    model.add(layers.Dropout(hp.Choice('dropout', [0.0, 0.1, 0.2, 0.3, 0.4, 0.5])))\n",
    "    model.add(layers.Dense(n_classes, activation=\"softmax\", name=\"dense_1\"))\n",
    "    model.compile(loss=\"categorical_crossentropy\", \n",
    "                  optimizer=keras.optimizers.Adam(hp.Choice('learning_rate', values=[1e-2, 1e-3, 1e-4])),\n",
    "                  metrics=[f1_with_tfa])\n",
    "    return model\n",
    "\n",
    "def build_bigru_model(hp):\n",
    "    \"\"\"\n",
    "    Build th Bidirectional GRU + Dense layer model\n",
    "    \"\"\"\n",
    "    model = keras.Sequential()\n",
    "    model.add(layers.Masking(name='padding_masking', mask_value=0., input_shape=X_train.shape[1:]))\n",
    "    model.add(layers.Bidirectional(layers.GRU(hp.Choice('units', [64, 128, 256]), return_sequences=True, kernel_regularizer=keras.regularizers.l2(0.01)), name=\"gru_1\"))\n",
    "    model.add(layers.Dropout(hp.Choice('dropout', [0.0, 0.1, 0.2, 0.3, 0.4, 0.5])))\n",
    "    model.add(layers.Dense(n_classes, activation=\"softmax\", name=\"dense_1\"))\n",
    "    model.compile(loss=\"categorical_crossentropy\", \n",
    "                  optimizer=keras.optimizers.Adam(hp.Choice('learning_rate', values=[1e-2, 1e-3, 1e-4])),\n",
    "                  metrics=[f1_with_tfa])\n",
    "    return model\n",
    "\n",
    "def build_two_bilstm_model(hp):\n",
    "    \"\"\"\n",
    "    Build the Two Bidirectional LSTM + Dense layer model\n",
    "    \"\"\"\n",
    "    model = keras.Sequential()\n",
    "    model.add(layers.Masking(name='padding_masking', mask_value=0., input_shape=X_train.shape[1:]))\n",
    "    model.add(layers.Bidirectional(layers.LSTM(hp.Choice('units1', [64, 128, 256]), return_sequences=True, kernel_regularizer=keras.regularizers.l2(0.01)), name=\"bilstm_1\"))\n",
    "    model.add(layers.Bidirectional(layers.LSTM(hp.Choice('units2', [64, 128, 256]), return_sequences=True, kernel_regularizer=keras.regularizers.l2(0.01)), name=\"bilstm_2\"))\n",
    "    model.add(layers.Dropout(hp.Choice('dropout', [0.0, 0.1, 0.2, 0.3, 0.4, 0.5])))\n",
    "    model.add(layers.Dense(n_classes, activation=\"softmax\", name=\"dense_1\"))\n",
    "    model.compile(loss=\"categorical_crossentropy\", \n",
    "                  optimizer=keras.optimizers.Adam(hp.Choice('learning_rate', values=[1e-2, 1e-3, 1e-4])),\n",
    "                  metrics=[f1_with_tfa])\n",
    "    return model\n",
    "\n",
    "def build_bilstm_two_dense_model(hp):\n",
    "    model = keras.Sequential()\n",
    "    model.add(layers.Masking(name='padding_masking', mask_value=0., input_shape=X_train.shape[1:]))\n",
    "    model.add(layers.Bidirectional(layers.LSTM(hp.Choice('units1', [64, 128, 256]), return_sequences=True, kernel_regularizer=keras.regularizers.l2(0.01)), name=\"bilstm_1\"))\n",
    "    model.add(layers.Dropout(hp.Choice('dropout1', [0.0, 0.1, 0.2, 0.3, 0.4, 0.5])))\n",
    "    model.add(layers.Dense(hp.Choice('units2', [64, 128, 256]), activation=\"relu\", name=\"dense_1\", kernel_regularizer=keras.regularizers.l2(0.01)))\n",
    "    model.add(layers.Dropout(hp.Choice('dropout2', [0.0, 0.1, 0.2, 0.3, 0.4, 0.5])))\n",
    "    model.add(layers.Dense(n_classes, activation=\"softmax\", name=\"dense_2\"))\n",
    "    model.compile(loss=\"categorical_crossentropy\", \n",
    "                  optimizer=keras.optimizers.Adam(hp.Choice('learning_rate', values=[1e-2, 1e-3, 1e-4])),\n",
    "                  metrics=[f1_with_tfa])\n",
    "    return model"
   ]
  },
  {
   "cell_type": "markdown",
   "metadata": {
    "id": "L0R3goy83ZUK"
   },
   "source": [
    "### 2.2 Hyperparameter tuning\n",
    "Let's do a tuning of the hyperparameters for each variant of the architecture"
   ]
  },
  {
   "cell_type": "code",
   "execution_count": 14,
   "metadata": {
    "id": "n5sOwkYf3ZUK"
   },
   "outputs": [],
   "source": [
    "epochs_tuning = 100\n",
    "batch_size_tuning = 64"
   ]
  },
  {
   "cell_type": "markdown",
   "metadata": {
    "id": "3sErnjwr3ZUL"
   },
   "source": [
    "Model 1: Bidirectional LSMT + Dense layer variant tuning\n"
   ]
  },
  {
   "cell_type": "code",
   "execution_count": 15,
   "metadata": {
    "colab": {
     "base_uri": "https://localhost:8080/"
    },
    "id": "b3vU8lwL3ZUL",
    "outputId": "70b39dea-36b4-4c67-f6ed-904b887f50c4"
   },
   "outputs": [
    {
     "name": "stdout",
     "output_type": "stream",
     "text": [
      "Trial 50 Complete [00h 00m 12s]\n",
      "val_f1_with_tfa: 0.03174193203449249\n",
      "\n",
      "Best val_f1_with_tfa So Far: 0.26566001772880554\n",
      "Total elapsed time: 00h 11m 20s\n",
      "INFO:tensorflow:Oracle triggered exit\n",
      "The hyperparameter search is complete.\n",
      "The optimal number of units in the LSTM layer is 256.\n",
      "The optimal rate for Dropout layer is 0.2.\n",
      "The optimal learning rate for the optimizer is 0.01.\n"
     ]
    }
   ],
   "source": [
    "# tune the hyperparameters of the first model\n",
    "tuner_bilstm = kt.Hyperband(build_bilstm_model,\n",
    "                     objective=kt.Objective(\"val_f1_with_tfa\", direction=\"max\"),\n",
    "                     max_epochs=epochs_tuning,\n",
    "                     #overwrite=True,\n",
    "                     directory=\"tuner\",\n",
    "                     project_name=\"tuner_bilstm\")\n",
    "tuner_bilstm.search(X_train, y_train, epochs=epochs_tuning, batch_size=batch_size_tuning, validation_data=(X_dev, y_dev))\n",
    "best_hps_bilstm = tuner_bilstm.get_best_hyperparameters()[0]\n",
    "\n",
    "print(f\"The hyperparameter search is complete.\\n\" \n",
    "      f\"The optimal number of units in the LSTM layer is {best_hps_bilstm.get('units')}.\\n\" \n",
    "      f\"The optimal rate for Dropout layer is {best_hps_bilstm.get('dropout')}.\\n\" \n",
    "      f\"The optimal learning rate for the optimizer is {best_hps_bilstm.get('learning_rate')}.\")"
   ]
  },
  {
   "cell_type": "markdown",
   "metadata": {
    "id": "vPb8yMfz3ZUL"
   },
   "source": [
    "Model 2: Bidirectional GRU + Dense layer variant tuning"
   ]
  },
  {
   "cell_type": "code",
   "execution_count": 17,
   "metadata": {
    "colab": {
     "base_uri": "https://localhost:8080/"
    },
    "id": "h_tLVIkM3ZUL",
    "outputId": "48f180a8-7c0f-4845-c927-8e0cd8505e95"
   },
   "outputs": [
    {
     "name": "stdout",
     "output_type": "stream",
     "text": [
      "Trial 52 Complete [00h 00m 12s]\n",
      "val_f1_with_tfa: 0.01760566048324108\n",
      "\n",
      "Best val_f1_with_tfa So Far: 0.3773505985736847\n",
      "Total elapsed time: 00h 11m 39s\n",
      "INFO:tensorflow:Oracle triggered exit\n",
      "The hyperparameter search is complete.\n",
      "The optimal number of units in the GRU layer is 256.\n",
      "The optimal rate for Dropout layer is 0.2.\n",
      "The optimal learning rate for the optimizer is 0.01.\n"
     ]
    }
   ],
   "source": [
    "# tune the hyperparameters of the second model\n",
    "tuner_bigru = kt.Hyperband(build_bigru_model,\n",
    "                     objective=kt.Objective(\"val_f1_with_tfa\", direction=\"max\"),\n",
    "                     max_epochs=epochs_tuning,\n",
    "                     #overwrite=True,\n",
    "                     directory=\"tuner\",\n",
    "                     project_name=\"tuner_bigru\")\n",
    "tuner_bigru.search(X_train, y_train, epochs=epochs_tuning, batch_size=batch_size_tuning, validation_data=(X_dev, y_dev))\n",
    "best_hps_bigru = tuner_bigru.get_best_hyperparameters()[0]\n",
    "\n",
    "print(f\"The hyperparameter search is complete.\\n\" \n",
    "      f\"The optimal number of units in the GRU layer is {best_hps_bigru.get('units')}.\\n\" \n",
    "      f\"The optimal rate for Dropout layer is {best_hps_bigru.get('dropout')}.\\n\" \n",
    "      f\"The optimal learning rate for the optimizer is {best_hps_bigru.get('learning_rate')}.\")"
   ]
  },
  {
   "cell_type": "markdown",
   "metadata": {
    "id": "lIp3D6c-3ZUM"
   },
   "source": [
    "Model 3: Two Bidirectional LSMT + Dense layer variant tuning"
   ]
  },
  {
   "cell_type": "code",
   "execution_count": 16,
   "metadata": {
    "colab": {
     "base_uri": "https://localhost:8080/"
    },
    "id": "VXxWaco93ZUM",
    "outputId": "ae82257e-b209-490d-982d-4f3fb5156747"
   },
   "outputs": [
    {
     "name": "stdout",
     "output_type": "stream",
     "text": [
      "Trial 167 Complete [00h 00m 27s]\n",
      "val_f1_with_tfa: 0.016389256343245506\n",
      "\n",
      "Best val_f1_with_tfa So Far: 0.372877836227417\n",
      "Total elapsed time: 01h 19m 34s\n",
      "INFO:tensorflow:Oracle triggered exit\n",
      "The hyperparameter search is complete.\n",
      "The optimal number of units in the first LSTM layer is 128.\n",
      "The optimal number of units in the second LSTM layer is 128.\n",
      "The optimal rate for Dropout layer is 0.3.\n",
      "The optimal learning rate for the optimizer is 0.001.\n"
     ]
    }
   ],
   "source": [
    "# tune the hyperparameters of the third model\n",
    "tuner_two_bilstm = kt.Hyperband(build_two_bilstm_model,\n",
    "                     objective=kt.Objective(\"val_f1_with_tfa\", direction=\"max\"),\n",
    "                     max_epochs=epochs_tuning,\n",
    "                     #overwrite=True,\n",
    "                     directory=\"tuner\",\n",
    "                     project_name=\"tuner_two_bilstm\")\n",
    "tuner_two_bilstm.search(X_train, y_train, epochs=epochs_tuning, batch_size=batch_size_tuning, validation_data=(X_dev, y_dev))\n",
    "best_hps_two_bilstm = tuner_two_bilstm.get_best_hyperparameters()[0]\n",
    "\n",
    "print(f\"The hyperparameter search is complete.\\n\" \n",
    "      f\"The optimal number of units in the first LSTM layer is {best_hps_two_bilstm.get('units1')}.\\n\" \n",
    "      f\"The optimal number of units in the second LSTM layer is {best_hps_two_bilstm.get('units2')}.\\n\" \n",
    "      f\"The optimal rate for Dropout layer is {best_hps_two_bilstm.get('dropout')}.\\n\" \n",
    "      f\"The optimal learning rate for the optimizer is {best_hps_two_bilstm.get('learning_rate')}.\")"
   ]
  },
  {
   "cell_type": "markdown",
   "metadata": {
    "id": "kMNWw_i33ZUM"
   },
   "source": [
    "Model 4: Bidirectional LSMT + two Dense layer variant tuning"
   ]
  },
  {
   "cell_type": "code",
   "execution_count": 18,
   "metadata": {
    "id": "pHSGHizM3ZUM"
   },
   "outputs": [
    {
     "name": "stdout",
     "output_type": "stream",
     "text": [
      "Trial 229 Complete [00h 00m 55s]\n",
      "val_f1_with_tfa: 0.1229201927781105\n",
      "\n",
      "Best val_f1_with_tfa So Far: 0.3796153664588928\n",
      "Total elapsed time: 01h 14m 53s\n",
      "\n",
      "Search: Running Trial #230\n",
      "\n",
      "Value             |Best Value So Far |Hyperparameter\n",
      "64                |64                |units1\n",
      "0.4               |0                 |dropout1\n",
      "256               |256               |units2\n",
      "0.2               |0.5               |dropout2\n",
      "0.001             |0.01              |learning_rate\n",
      "34                |100               |tuner/epochs\n",
      "12                |34                |tuner/initial_epoch\n",
      "2                 |3                 |tuner/bracket\n",
      "1                 |3                 |tuner/round\n",
      "0215              |0203              |tuner/trial_id\n",
      "\n",
      "Epoch 13/34\n",
      "31/31 [==============================] - 11s 127ms/step - loss: 3.6083 - f1_with_tfa: 0.0073 - val_loss: 2.3895 - val_f1_with_tfa: 0.0063\n",
      "Epoch 14/34\n",
      "31/31 [==============================] - 1s 49ms/step - loss: 1.7131 - f1_with_tfa: 0.0087 - val_loss: 1.1458 - val_f1_with_tfa: 0.0057\n",
      "Epoch 15/34\n",
      "31/31 [==============================] - 1s 46ms/step - loss: 0.8487 - f1_with_tfa: 0.0071 - val_loss: 0.6076 - val_f1_with_tfa: 0.0058\n",
      "Epoch 16/34\n",
      "31/31 [==============================] - 1s 48ms/step - loss: 0.4874 - f1_with_tfa: 0.0063 - val_loss: 0.3940 - val_f1_with_tfa: 0.0076\n",
      "Epoch 17/34\n",
      "31/31 [==============================] - 2s 50ms/step - loss: 0.3480 - f1_with_tfa: 0.0070 - val_loss: 0.3150 - val_f1_with_tfa: 0.0165\n",
      "Epoch 18/34\n",
      "31/31 [==============================] - 1s 48ms/step - loss: 0.2975 - f1_with_tfa: 0.0088 - val_loss: 0.2858 - val_f1_with_tfa: 0.0179\n",
      "Epoch 19/34\n",
      "31/31 [==============================] - 1s 47ms/step - loss: 0.2770 - f1_with_tfa: 0.0118 - val_loss: 0.2718 - val_f1_with_tfa: 0.0213\n",
      "Epoch 20/34\n",
      "31/31 [==============================] - 2s 52ms/step - loss: 0.2648 - f1_with_tfa: 0.0164 - val_loss: 0.2593 - val_f1_with_tfa: 0.0276\n",
      "Epoch 21/34\n",
      "15/31 [=============>................] - ETA: 0s - loss: 0.2563 - f1_with_tfa: 0.0189"
     ]
    },
    {
     "ename": "KeyboardInterrupt",
     "evalue": "",
     "output_type": "error",
     "traceback": [
      "\u001b[1;31m---------------------------------------------------------------------------\u001b[0m",
      "\u001b[1;31mKeyboardInterrupt\u001b[0m                         Traceback (most recent call last)",
      "\u001b[1;32mc:\\Users\\peppe\\UNIBO\\Natural Language Processing\\lab\\Assignment1\\POS_with_workingF1.ipynb Cell 33'\u001b[0m in \u001b[0;36m<cell line: 8>\u001b[1;34m()\u001b[0m\n\u001b[0;32m      <a href='vscode-notebook-cell:/c%3A/Users/peppe/UNIBO/Natural%20Language%20Processing/lab/Assignment1/POS_with_workingF1.ipynb#ch0000033?line=0'>1</a>\u001b[0m \u001b[39m# tune the hyperparameters of the fourth model\u001b[39;00m\n\u001b[0;32m      <a href='vscode-notebook-cell:/c%3A/Users/peppe/UNIBO/Natural%20Language%20Processing/lab/Assignment1/POS_with_workingF1.ipynb#ch0000033?line=1'>2</a>\u001b[0m tuner_bilstm_two_dense \u001b[39m=\u001b[39m kt\u001b[39m.\u001b[39mHyperband(build_bilstm_two_dense_model,\n\u001b[0;32m      <a href='vscode-notebook-cell:/c%3A/Users/peppe/UNIBO/Natural%20Language%20Processing/lab/Assignment1/POS_with_workingF1.ipynb#ch0000033?line=2'>3</a>\u001b[0m                      objective\u001b[39m=\u001b[39mkt\u001b[39m.\u001b[39mObjective(\u001b[39m\"\u001b[39m\u001b[39mval_f1_with_tfa\u001b[39m\u001b[39m\"\u001b[39m, direction\u001b[39m=\u001b[39m\u001b[39m\"\u001b[39m\u001b[39mmax\u001b[39m\u001b[39m\"\u001b[39m),\n\u001b[0;32m      <a href='vscode-notebook-cell:/c%3A/Users/peppe/UNIBO/Natural%20Language%20Processing/lab/Assignment1/POS_with_workingF1.ipynb#ch0000033?line=3'>4</a>\u001b[0m                      max_epochs\u001b[39m=\u001b[39mepochs_tuning,\n\u001b[0;32m      <a href='vscode-notebook-cell:/c%3A/Users/peppe/UNIBO/Natural%20Language%20Processing/lab/Assignment1/POS_with_workingF1.ipynb#ch0000033?line=4'>5</a>\u001b[0m                      \u001b[39m#overwrite=True,\u001b[39;00m\n\u001b[0;32m      <a href='vscode-notebook-cell:/c%3A/Users/peppe/UNIBO/Natural%20Language%20Processing/lab/Assignment1/POS_with_workingF1.ipynb#ch0000033?line=5'>6</a>\u001b[0m                      directory\u001b[39m=\u001b[39m\u001b[39m\"\u001b[39m\u001b[39mtuner\u001b[39m\u001b[39m\"\u001b[39m,\n\u001b[0;32m      <a href='vscode-notebook-cell:/c%3A/Users/peppe/UNIBO/Natural%20Language%20Processing/lab/Assignment1/POS_with_workingF1.ipynb#ch0000033?line=6'>7</a>\u001b[0m                      project_name\u001b[39m=\u001b[39m\u001b[39m\"\u001b[39m\u001b[39mtuner_bilstm_two_dense\u001b[39m\u001b[39m\"\u001b[39m)\n\u001b[1;32m----> <a href='vscode-notebook-cell:/c%3A/Users/peppe/UNIBO/Natural%20Language%20Processing/lab/Assignment1/POS_with_workingF1.ipynb#ch0000033?line=7'>8</a>\u001b[0m tuner_bilstm_two_dense\u001b[39m.\u001b[39;49msearch(X_train, y_train, epochs\u001b[39m=\u001b[39;49mepochs_tuning, batch_size\u001b[39m=\u001b[39;49mbatch_size_tuning, validation_data\u001b[39m=\u001b[39;49m(X_dev, y_dev))\n\u001b[0;32m      <a href='vscode-notebook-cell:/c%3A/Users/peppe/UNIBO/Natural%20Language%20Processing/lab/Assignment1/POS_with_workingF1.ipynb#ch0000033?line=8'>9</a>\u001b[0m best_hps_bilstm_two_dense \u001b[39m=\u001b[39m tuner_bilstm_two_dense\u001b[39m.\u001b[39mget_best_hyperparameters()[\u001b[39m0\u001b[39m]\n\u001b[0;32m     <a href='vscode-notebook-cell:/c%3A/Users/peppe/UNIBO/Natural%20Language%20Processing/lab/Assignment1/POS_with_workingF1.ipynb#ch0000033?line=10'>11</a>\u001b[0m \u001b[39mprint\u001b[39m(\u001b[39mf\u001b[39m\u001b[39m\"\u001b[39m\u001b[39mThe hyperparameter search is complete.\u001b[39m\u001b[39m\\n\u001b[39;00m\u001b[39m\"\u001b[39m \n\u001b[0;32m     <a href='vscode-notebook-cell:/c%3A/Users/peppe/UNIBO/Natural%20Language%20Processing/lab/Assignment1/POS_with_workingF1.ipynb#ch0000033?line=11'>12</a>\u001b[0m       \u001b[39mf\u001b[39m\u001b[39m\"\u001b[39m\u001b[39mThe optimal number of units in the LSTM layer is \u001b[39m\u001b[39m{\u001b[39;00mbest_hps_bilstm_two_dense\u001b[39m.\u001b[39mget(\u001b[39m'\u001b[39m\u001b[39munits1\u001b[39m\u001b[39m'\u001b[39m)\u001b[39m}\u001b[39;00m\u001b[39m.\u001b[39m\u001b[39m\\n\u001b[39;00m\u001b[39m\"\u001b[39m \n\u001b[0;32m     <a href='vscode-notebook-cell:/c%3A/Users/peppe/UNIBO/Natural%20Language%20Processing/lab/Assignment1/POS_with_workingF1.ipynb#ch0000033?line=12'>13</a>\u001b[0m       \u001b[39mf\u001b[39m\u001b[39m\"\u001b[39m\u001b[39mThe optimal rate for the first Dropout layer is \u001b[39m\u001b[39m{\u001b[39;00mbest_hps_bilstm_two_dense\u001b[39m.\u001b[39mget(\u001b[39m'\u001b[39m\u001b[39mdropout1\u001b[39m\u001b[39m'\u001b[39m)\u001b[39m}\u001b[39;00m\u001b[39m.\u001b[39m\u001b[39m\\n\u001b[39;00m\u001b[39m\"\u001b[39m \n\u001b[0;32m     <a href='vscode-notebook-cell:/c%3A/Users/peppe/UNIBO/Natural%20Language%20Processing/lab/Assignment1/POS_with_workingF1.ipynb#ch0000033?line=13'>14</a>\u001b[0m       \u001b[39mf\u001b[39m\u001b[39m\"\u001b[39m\u001b[39mThe optimal number of units in first densely-connected layer is \u001b[39m\u001b[39m{\u001b[39;00mbest_hps_bilstm_two_dense\u001b[39m.\u001b[39mget(\u001b[39m'\u001b[39m\u001b[39munits2\u001b[39m\u001b[39m'\u001b[39m)\u001b[39m}\u001b[39;00m\u001b[39m.\u001b[39m\u001b[39m\\n\u001b[39;00m\u001b[39m\"\u001b[39m \n\u001b[0;32m     <a href='vscode-notebook-cell:/c%3A/Users/peppe/UNIBO/Natural%20Language%20Processing/lab/Assignment1/POS_with_workingF1.ipynb#ch0000033?line=14'>15</a>\u001b[0m       \u001b[39mf\u001b[39m\u001b[39m\"\u001b[39m\u001b[39mThe optimal rate for the second Dropout layer is \u001b[39m\u001b[39m{\u001b[39;00mbest_hps_bilstm_two_dense\u001b[39m.\u001b[39mget(\u001b[39m'\u001b[39m\u001b[39mdropout2\u001b[39m\u001b[39m'\u001b[39m)\u001b[39m}\u001b[39;00m\u001b[39m.\u001b[39m\u001b[39m\\n\u001b[39;00m\u001b[39m\"\u001b[39m\n\u001b[0;32m     <a href='vscode-notebook-cell:/c%3A/Users/peppe/UNIBO/Natural%20Language%20Processing/lab/Assignment1/POS_with_workingF1.ipynb#ch0000033?line=15'>16</a>\u001b[0m       \u001b[39mf\u001b[39m\u001b[39m\"\u001b[39m\u001b[39mThe optimal learning rate for the optimizer is \u001b[39m\u001b[39m{\u001b[39;00mbest_hps_bilstm_two_dense\u001b[39m.\u001b[39mget(\u001b[39m'\u001b[39m\u001b[39mlearning_rate\u001b[39m\u001b[39m'\u001b[39m)\u001b[39m}\u001b[39;00m\u001b[39m.\u001b[39m\u001b[39m\"\u001b[39m)\n",
      "File \u001b[1;32m~\\anaconda3\\envs\\nlp\\lib\\site-packages\\keras_tuner\\engine\\base_tuner.py:179\u001b[0m, in \u001b[0;36mBaseTuner.search\u001b[1;34m(self, *fit_args, **fit_kwargs)\u001b[0m\n\u001b[0;32m    <a href='file:///c%3A/Users/peppe/anaconda3/envs/nlp/lib/site-packages/keras_tuner/engine/base_tuner.py?line=175'>176</a>\u001b[0m     \u001b[39mcontinue\u001b[39;00m\n\u001b[0;32m    <a href='file:///c%3A/Users/peppe/anaconda3/envs/nlp/lib/site-packages/keras_tuner/engine/base_tuner.py?line=177'>178</a>\u001b[0m \u001b[39mself\u001b[39m\u001b[39m.\u001b[39mon_trial_begin(trial)\n\u001b[1;32m--> <a href='file:///c%3A/Users/peppe/anaconda3/envs/nlp/lib/site-packages/keras_tuner/engine/base_tuner.py?line=178'>179</a>\u001b[0m results \u001b[39m=\u001b[39m \u001b[39mself\u001b[39m\u001b[39m.\u001b[39mrun_trial(trial, \u001b[39m*\u001b[39mfit_args, \u001b[39m*\u001b[39m\u001b[39m*\u001b[39mfit_kwargs)\n\u001b[0;32m    <a href='file:///c%3A/Users/peppe/anaconda3/envs/nlp/lib/site-packages/keras_tuner/engine/base_tuner.py?line=179'>180</a>\u001b[0m \u001b[39m# `results` is None indicates user updated oracle in `run_trial()`.\u001b[39;00m\n\u001b[0;32m    <a href='file:///c%3A/Users/peppe/anaconda3/envs/nlp/lib/site-packages/keras_tuner/engine/base_tuner.py?line=180'>181</a>\u001b[0m \u001b[39mif\u001b[39;00m results \u001b[39mis\u001b[39;00m \u001b[39mNone\u001b[39;00m:\n",
      "File \u001b[1;32m~\\anaconda3\\envs\\nlp\\lib\\site-packages\\keras_tuner\\tuners\\hyperband.py:384\u001b[0m, in \u001b[0;36mHyperband.run_trial\u001b[1;34m(self, trial, *fit_args, **fit_kwargs)\u001b[0m\n\u001b[0;32m    <a href='file:///c%3A/Users/peppe/anaconda3/envs/nlp/lib/site-packages/keras_tuner/tuners/hyperband.py?line=381'>382</a>\u001b[0m     fit_kwargs[\u001b[39m\"\u001b[39m\u001b[39mepochs\u001b[39m\u001b[39m\"\u001b[39m] \u001b[39m=\u001b[39m hp\u001b[39m.\u001b[39mvalues[\u001b[39m\"\u001b[39m\u001b[39mtuner/epochs\u001b[39m\u001b[39m\"\u001b[39m]\n\u001b[0;32m    <a href='file:///c%3A/Users/peppe/anaconda3/envs/nlp/lib/site-packages/keras_tuner/tuners/hyperband.py?line=382'>383</a>\u001b[0m     fit_kwargs[\u001b[39m\"\u001b[39m\u001b[39minitial_epoch\u001b[39m\u001b[39m\"\u001b[39m] \u001b[39m=\u001b[39m hp\u001b[39m.\u001b[39mvalues[\u001b[39m\"\u001b[39m\u001b[39mtuner/initial_epoch\u001b[39m\u001b[39m\"\u001b[39m]\n\u001b[1;32m--> <a href='file:///c%3A/Users/peppe/anaconda3/envs/nlp/lib/site-packages/keras_tuner/tuners/hyperband.py?line=383'>384</a>\u001b[0m \u001b[39mreturn\u001b[39;00m \u001b[39msuper\u001b[39m(Hyperband, \u001b[39mself\u001b[39m)\u001b[39m.\u001b[39mrun_trial(trial, \u001b[39m*\u001b[39mfit_args, \u001b[39m*\u001b[39m\u001b[39m*\u001b[39mfit_kwargs)\n",
      "File \u001b[1;32m~\\anaconda3\\envs\\nlp\\lib\\site-packages\\keras_tuner\\engine\\tuner.py:294\u001b[0m, in \u001b[0;36mTuner.run_trial\u001b[1;34m(self, trial, *args, **kwargs)\u001b[0m\n\u001b[0;32m    <a href='file:///c%3A/Users/peppe/anaconda3/envs/nlp/lib/site-packages/keras_tuner/engine/tuner.py?line=291'>292</a>\u001b[0m     callbacks\u001b[39m.\u001b[39mappend(model_checkpoint)\n\u001b[0;32m    <a href='file:///c%3A/Users/peppe/anaconda3/envs/nlp/lib/site-packages/keras_tuner/engine/tuner.py?line=292'>293</a>\u001b[0m     copied_kwargs[\u001b[39m\"\u001b[39m\u001b[39mcallbacks\u001b[39m\u001b[39m\"\u001b[39m] \u001b[39m=\u001b[39m callbacks\n\u001b[1;32m--> <a href='file:///c%3A/Users/peppe/anaconda3/envs/nlp/lib/site-packages/keras_tuner/engine/tuner.py?line=293'>294</a>\u001b[0m     obj_value \u001b[39m=\u001b[39m \u001b[39mself\u001b[39m\u001b[39m.\u001b[39m_build_and_fit_model(trial, \u001b[39m*\u001b[39margs, \u001b[39m*\u001b[39m\u001b[39m*\u001b[39mcopied_kwargs)\n\u001b[0;32m    <a href='file:///c%3A/Users/peppe/anaconda3/envs/nlp/lib/site-packages/keras_tuner/engine/tuner.py?line=295'>296</a>\u001b[0m     histories\u001b[39m.\u001b[39mappend(obj_value)\n\u001b[0;32m    <a href='file:///c%3A/Users/peppe/anaconda3/envs/nlp/lib/site-packages/keras_tuner/engine/tuner.py?line=296'>297</a>\u001b[0m \u001b[39mreturn\u001b[39;00m histories\n",
      "File \u001b[1;32m~\\anaconda3\\envs\\nlp\\lib\\site-packages\\keras_tuner\\engine\\tuner.py:222\u001b[0m, in \u001b[0;36mTuner._build_and_fit_model\u001b[1;34m(self, trial, *args, **kwargs)\u001b[0m\n\u001b[0;32m    <a href='file:///c%3A/Users/peppe/anaconda3/envs/nlp/lib/site-packages/keras_tuner/engine/tuner.py?line=219'>220</a>\u001b[0m hp \u001b[39m=\u001b[39m trial\u001b[39m.\u001b[39mhyperparameters\n\u001b[0;32m    <a href='file:///c%3A/Users/peppe/anaconda3/envs/nlp/lib/site-packages/keras_tuner/engine/tuner.py?line=220'>221</a>\u001b[0m model \u001b[39m=\u001b[39m \u001b[39mself\u001b[39m\u001b[39m.\u001b[39m_try_build(hp)\n\u001b[1;32m--> <a href='file:///c%3A/Users/peppe/anaconda3/envs/nlp/lib/site-packages/keras_tuner/engine/tuner.py?line=221'>222</a>\u001b[0m results \u001b[39m=\u001b[39m \u001b[39mself\u001b[39m\u001b[39m.\u001b[39mhypermodel\u001b[39m.\u001b[39mfit(hp, model, \u001b[39m*\u001b[39margs, \u001b[39m*\u001b[39m\u001b[39m*\u001b[39mkwargs)\n\u001b[0;32m    <a href='file:///c%3A/Users/peppe/anaconda3/envs/nlp/lib/site-packages/keras_tuner/engine/tuner.py?line=222'>223</a>\u001b[0m \u001b[39mreturn\u001b[39;00m tuner_utils\u001b[39m.\u001b[39mconvert_to_metrics_dict(\n\u001b[0;32m    <a href='file:///c%3A/Users/peppe/anaconda3/envs/nlp/lib/site-packages/keras_tuner/engine/tuner.py?line=223'>224</a>\u001b[0m     results, \u001b[39mself\u001b[39m\u001b[39m.\u001b[39moracle\u001b[39m.\u001b[39mobjective, \u001b[39m\"\u001b[39m\u001b[39mHyperModel.fit()\u001b[39m\u001b[39m\"\u001b[39m\n\u001b[0;32m    <a href='file:///c%3A/Users/peppe/anaconda3/envs/nlp/lib/site-packages/keras_tuner/engine/tuner.py?line=224'>225</a>\u001b[0m )\n",
      "File \u001b[1;32m~\\anaconda3\\envs\\nlp\\lib\\site-packages\\keras_tuner\\engine\\hypermodel.py:137\u001b[0m, in \u001b[0;36mHyperModel.fit\u001b[1;34m(self, hp, model, *args, **kwargs)\u001b[0m\n\u001b[0;32m    <a href='file:///c%3A/Users/peppe/anaconda3/envs/nlp/lib/site-packages/keras_tuner/engine/hypermodel.py?line=112'>113</a>\u001b[0m \u001b[39mdef\u001b[39;00m \u001b[39mfit\u001b[39m(\u001b[39mself\u001b[39m, hp, model, \u001b[39m*\u001b[39margs, \u001b[39m*\u001b[39m\u001b[39m*\u001b[39mkwargs):\n\u001b[0;32m    <a href='file:///c%3A/Users/peppe/anaconda3/envs/nlp/lib/site-packages/keras_tuner/engine/hypermodel.py?line=113'>114</a>\u001b[0m     \u001b[39m\"\"\"Train the model.\u001b[39;00m\n\u001b[0;32m    <a href='file:///c%3A/Users/peppe/anaconda3/envs/nlp/lib/site-packages/keras_tuner/engine/hypermodel.py?line=114'>115</a>\u001b[0m \n\u001b[0;32m    <a href='file:///c%3A/Users/peppe/anaconda3/envs/nlp/lib/site-packages/keras_tuner/engine/hypermodel.py?line=115'>116</a>\u001b[0m \u001b[39m    Args:\u001b[39;00m\n\u001b[1;32m   (...)\u001b[0m\n\u001b[0;32m    <a href='file:///c%3A/Users/peppe/anaconda3/envs/nlp/lib/site-packages/keras_tuner/engine/hypermodel.py?line=134'>135</a>\u001b[0m \u001b[39m        If return a float, it should be the `objective` value.\u001b[39;00m\n\u001b[0;32m    <a href='file:///c%3A/Users/peppe/anaconda3/envs/nlp/lib/site-packages/keras_tuner/engine/hypermodel.py?line=135'>136</a>\u001b[0m \u001b[39m    \"\"\"\u001b[39;00m\n\u001b[1;32m--> <a href='file:///c%3A/Users/peppe/anaconda3/envs/nlp/lib/site-packages/keras_tuner/engine/hypermodel.py?line=136'>137</a>\u001b[0m     \u001b[39mreturn\u001b[39;00m model\u001b[39m.\u001b[39mfit(\u001b[39m*\u001b[39margs, \u001b[39m*\u001b[39m\u001b[39m*\u001b[39mkwargs)\n",
      "File \u001b[1;32m~\\anaconda3\\envs\\nlp\\lib\\site-packages\\keras\\utils\\traceback_utils.py:64\u001b[0m, in \u001b[0;36mfilter_traceback.<locals>.error_handler\u001b[1;34m(*args, **kwargs)\u001b[0m\n\u001b[0;32m     <a href='file:///c%3A/Users/peppe/anaconda3/envs/nlp/lib/site-packages/keras/utils/traceback_utils.py?line=61'>62</a>\u001b[0m filtered_tb \u001b[39m=\u001b[39m \u001b[39mNone\u001b[39;00m\n\u001b[0;32m     <a href='file:///c%3A/Users/peppe/anaconda3/envs/nlp/lib/site-packages/keras/utils/traceback_utils.py?line=62'>63</a>\u001b[0m \u001b[39mtry\u001b[39;00m:\n\u001b[1;32m---> <a href='file:///c%3A/Users/peppe/anaconda3/envs/nlp/lib/site-packages/keras/utils/traceback_utils.py?line=63'>64</a>\u001b[0m   \u001b[39mreturn\u001b[39;00m fn(\u001b[39m*\u001b[39margs, \u001b[39m*\u001b[39m\u001b[39m*\u001b[39mkwargs)\n\u001b[0;32m     <a href='file:///c%3A/Users/peppe/anaconda3/envs/nlp/lib/site-packages/keras/utils/traceback_utils.py?line=64'>65</a>\u001b[0m \u001b[39mexcept\u001b[39;00m \u001b[39mException\u001b[39;00m \u001b[39mas\u001b[39;00m e:  \u001b[39m# pylint: disable=broad-except\u001b[39;00m\n\u001b[0;32m     <a href='file:///c%3A/Users/peppe/anaconda3/envs/nlp/lib/site-packages/keras/utils/traceback_utils.py?line=65'>66</a>\u001b[0m   filtered_tb \u001b[39m=\u001b[39m _process_traceback_frames(e\u001b[39m.\u001b[39m__traceback__)\n",
      "File \u001b[1;32m~\\anaconda3\\envs\\nlp\\lib\\site-packages\\keras\\engine\\training.py:1384\u001b[0m, in \u001b[0;36mModel.fit\u001b[1;34m(self, x, y, batch_size, epochs, verbose, callbacks, validation_split, validation_data, shuffle, class_weight, sample_weight, initial_epoch, steps_per_epoch, validation_steps, validation_batch_size, validation_freq, max_queue_size, workers, use_multiprocessing)\u001b[0m\n\u001b[0;32m   <a href='file:///c%3A/Users/peppe/anaconda3/envs/nlp/lib/site-packages/keras/engine/training.py?line=1376'>1377</a>\u001b[0m \u001b[39mwith\u001b[39;00m tf\u001b[39m.\u001b[39mprofiler\u001b[39m.\u001b[39mexperimental\u001b[39m.\u001b[39mTrace(\n\u001b[0;32m   <a href='file:///c%3A/Users/peppe/anaconda3/envs/nlp/lib/site-packages/keras/engine/training.py?line=1377'>1378</a>\u001b[0m     \u001b[39m'\u001b[39m\u001b[39mtrain\u001b[39m\u001b[39m'\u001b[39m,\n\u001b[0;32m   <a href='file:///c%3A/Users/peppe/anaconda3/envs/nlp/lib/site-packages/keras/engine/training.py?line=1378'>1379</a>\u001b[0m     epoch_num\u001b[39m=\u001b[39mepoch,\n\u001b[0;32m   <a href='file:///c%3A/Users/peppe/anaconda3/envs/nlp/lib/site-packages/keras/engine/training.py?line=1379'>1380</a>\u001b[0m     step_num\u001b[39m=\u001b[39mstep,\n\u001b[0;32m   <a href='file:///c%3A/Users/peppe/anaconda3/envs/nlp/lib/site-packages/keras/engine/training.py?line=1380'>1381</a>\u001b[0m     batch_size\u001b[39m=\u001b[39mbatch_size,\n\u001b[0;32m   <a href='file:///c%3A/Users/peppe/anaconda3/envs/nlp/lib/site-packages/keras/engine/training.py?line=1381'>1382</a>\u001b[0m     _r\u001b[39m=\u001b[39m\u001b[39m1\u001b[39m):\n\u001b[0;32m   <a href='file:///c%3A/Users/peppe/anaconda3/envs/nlp/lib/site-packages/keras/engine/training.py?line=1382'>1383</a>\u001b[0m   callbacks\u001b[39m.\u001b[39mon_train_batch_begin(step)\n\u001b[1;32m-> <a href='file:///c%3A/Users/peppe/anaconda3/envs/nlp/lib/site-packages/keras/engine/training.py?line=1383'>1384</a>\u001b[0m   tmp_logs \u001b[39m=\u001b[39m \u001b[39mself\u001b[39;49m\u001b[39m.\u001b[39;49mtrain_function(iterator)\n\u001b[0;32m   <a href='file:///c%3A/Users/peppe/anaconda3/envs/nlp/lib/site-packages/keras/engine/training.py?line=1384'>1385</a>\u001b[0m   \u001b[39mif\u001b[39;00m data_handler\u001b[39m.\u001b[39mshould_sync:\n\u001b[0;32m   <a href='file:///c%3A/Users/peppe/anaconda3/envs/nlp/lib/site-packages/keras/engine/training.py?line=1385'>1386</a>\u001b[0m     context\u001b[39m.\u001b[39masync_wait()\n",
      "File \u001b[1;32m~\\anaconda3\\envs\\nlp\\lib\\site-packages\\tensorflow\\python\\util\\traceback_utils.py:150\u001b[0m, in \u001b[0;36mfilter_traceback.<locals>.error_handler\u001b[1;34m(*args, **kwargs)\u001b[0m\n\u001b[0;32m    <a href='file:///c%3A/Users/peppe/anaconda3/envs/nlp/lib/site-packages/tensorflow/python/util/traceback_utils.py?line=147'>148</a>\u001b[0m filtered_tb \u001b[39m=\u001b[39m \u001b[39mNone\u001b[39;00m\n\u001b[0;32m    <a href='file:///c%3A/Users/peppe/anaconda3/envs/nlp/lib/site-packages/tensorflow/python/util/traceback_utils.py?line=148'>149</a>\u001b[0m \u001b[39mtry\u001b[39;00m:\n\u001b[1;32m--> <a href='file:///c%3A/Users/peppe/anaconda3/envs/nlp/lib/site-packages/tensorflow/python/util/traceback_utils.py?line=149'>150</a>\u001b[0m   \u001b[39mreturn\u001b[39;00m fn(\u001b[39m*\u001b[39margs, \u001b[39m*\u001b[39m\u001b[39m*\u001b[39mkwargs)\n\u001b[0;32m    <a href='file:///c%3A/Users/peppe/anaconda3/envs/nlp/lib/site-packages/tensorflow/python/util/traceback_utils.py?line=150'>151</a>\u001b[0m \u001b[39mexcept\u001b[39;00m \u001b[39mException\u001b[39;00m \u001b[39mas\u001b[39;00m e:\n\u001b[0;32m    <a href='file:///c%3A/Users/peppe/anaconda3/envs/nlp/lib/site-packages/tensorflow/python/util/traceback_utils.py?line=151'>152</a>\u001b[0m   filtered_tb \u001b[39m=\u001b[39m _process_traceback_frames(e\u001b[39m.\u001b[39m__traceback__)\n",
      "File \u001b[1;32m~\\anaconda3\\envs\\nlp\\lib\\site-packages\\tensorflow\\python\\eager\\def_function.py:915\u001b[0m, in \u001b[0;36mFunction.__call__\u001b[1;34m(self, *args, **kwds)\u001b[0m\n\u001b[0;32m    <a href='file:///c%3A/Users/peppe/anaconda3/envs/nlp/lib/site-packages/tensorflow/python/eager/def_function.py?line=911'>912</a>\u001b[0m compiler \u001b[39m=\u001b[39m \u001b[39m\"\u001b[39m\u001b[39mxla\u001b[39m\u001b[39m\"\u001b[39m \u001b[39mif\u001b[39;00m \u001b[39mself\u001b[39m\u001b[39m.\u001b[39m_jit_compile \u001b[39melse\u001b[39;00m \u001b[39m\"\u001b[39m\u001b[39mnonXla\u001b[39m\u001b[39m\"\u001b[39m\n\u001b[0;32m    <a href='file:///c%3A/Users/peppe/anaconda3/envs/nlp/lib/site-packages/tensorflow/python/eager/def_function.py?line=913'>914</a>\u001b[0m \u001b[39mwith\u001b[39;00m OptionalXlaContext(\u001b[39mself\u001b[39m\u001b[39m.\u001b[39m_jit_compile):\n\u001b[1;32m--> <a href='file:///c%3A/Users/peppe/anaconda3/envs/nlp/lib/site-packages/tensorflow/python/eager/def_function.py?line=914'>915</a>\u001b[0m   result \u001b[39m=\u001b[39m \u001b[39mself\u001b[39m\u001b[39m.\u001b[39m_call(\u001b[39m*\u001b[39margs, \u001b[39m*\u001b[39m\u001b[39m*\u001b[39mkwds)\n\u001b[0;32m    <a href='file:///c%3A/Users/peppe/anaconda3/envs/nlp/lib/site-packages/tensorflow/python/eager/def_function.py?line=916'>917</a>\u001b[0m new_tracing_count \u001b[39m=\u001b[39m \u001b[39mself\u001b[39m\u001b[39m.\u001b[39mexperimental_get_tracing_count()\n\u001b[0;32m    <a href='file:///c%3A/Users/peppe/anaconda3/envs/nlp/lib/site-packages/tensorflow/python/eager/def_function.py?line=917'>918</a>\u001b[0m without_tracing \u001b[39m=\u001b[39m (tracing_count \u001b[39m==\u001b[39m new_tracing_count)\n",
      "File \u001b[1;32m~\\anaconda3\\envs\\nlp\\lib\\site-packages\\tensorflow\\python\\eager\\def_function.py:947\u001b[0m, in \u001b[0;36mFunction._call\u001b[1;34m(self, *args, **kwds)\u001b[0m\n\u001b[0;32m    <a href='file:///c%3A/Users/peppe/anaconda3/envs/nlp/lib/site-packages/tensorflow/python/eager/def_function.py?line=943'>944</a>\u001b[0m   \u001b[39mself\u001b[39m\u001b[39m.\u001b[39m_lock\u001b[39m.\u001b[39mrelease()\n\u001b[0;32m    <a href='file:///c%3A/Users/peppe/anaconda3/envs/nlp/lib/site-packages/tensorflow/python/eager/def_function.py?line=944'>945</a>\u001b[0m   \u001b[39m# In this case we have created variables on the first call, so we run the\u001b[39;00m\n\u001b[0;32m    <a href='file:///c%3A/Users/peppe/anaconda3/envs/nlp/lib/site-packages/tensorflow/python/eager/def_function.py?line=945'>946</a>\u001b[0m   \u001b[39m# defunned version which is guaranteed to never create variables.\u001b[39;00m\n\u001b[1;32m--> <a href='file:///c%3A/Users/peppe/anaconda3/envs/nlp/lib/site-packages/tensorflow/python/eager/def_function.py?line=946'>947</a>\u001b[0m   \u001b[39mreturn\u001b[39;00m \u001b[39mself\u001b[39m\u001b[39m.\u001b[39m_stateless_fn(\u001b[39m*\u001b[39margs, \u001b[39m*\u001b[39m\u001b[39m*\u001b[39mkwds)  \u001b[39m# pylint: disable=not-callable\u001b[39;00m\n\u001b[0;32m    <a href='file:///c%3A/Users/peppe/anaconda3/envs/nlp/lib/site-packages/tensorflow/python/eager/def_function.py?line=947'>948</a>\u001b[0m \u001b[39melif\u001b[39;00m \u001b[39mself\u001b[39m\u001b[39m.\u001b[39m_stateful_fn \u001b[39mis\u001b[39;00m \u001b[39mnot\u001b[39;00m \u001b[39mNone\u001b[39;00m:\n\u001b[0;32m    <a href='file:///c%3A/Users/peppe/anaconda3/envs/nlp/lib/site-packages/tensorflow/python/eager/def_function.py?line=948'>949</a>\u001b[0m   \u001b[39m# Release the lock early so that multiple threads can perform the call\u001b[39;00m\n\u001b[0;32m    <a href='file:///c%3A/Users/peppe/anaconda3/envs/nlp/lib/site-packages/tensorflow/python/eager/def_function.py?line=949'>950</a>\u001b[0m   \u001b[39m# in parallel.\u001b[39;00m\n\u001b[0;32m    <a href='file:///c%3A/Users/peppe/anaconda3/envs/nlp/lib/site-packages/tensorflow/python/eager/def_function.py?line=950'>951</a>\u001b[0m   \u001b[39mself\u001b[39m\u001b[39m.\u001b[39m_lock\u001b[39m.\u001b[39mrelease()\n",
      "File \u001b[1;32m~\\anaconda3\\envs\\nlp\\lib\\site-packages\\tensorflow\\python\\eager\\function.py:2956\u001b[0m, in \u001b[0;36mFunction.__call__\u001b[1;34m(self, *args, **kwargs)\u001b[0m\n\u001b[0;32m   <a href='file:///c%3A/Users/peppe/anaconda3/envs/nlp/lib/site-packages/tensorflow/python/eager/function.py?line=2952'>2953</a>\u001b[0m \u001b[39mwith\u001b[39;00m \u001b[39mself\u001b[39m\u001b[39m.\u001b[39m_lock:\n\u001b[0;32m   <a href='file:///c%3A/Users/peppe/anaconda3/envs/nlp/lib/site-packages/tensorflow/python/eager/function.py?line=2953'>2954</a>\u001b[0m   (graph_function,\n\u001b[0;32m   <a href='file:///c%3A/Users/peppe/anaconda3/envs/nlp/lib/site-packages/tensorflow/python/eager/function.py?line=2954'>2955</a>\u001b[0m    filtered_flat_args) \u001b[39m=\u001b[39m \u001b[39mself\u001b[39m\u001b[39m.\u001b[39m_maybe_define_function(args, kwargs)\n\u001b[1;32m-> <a href='file:///c%3A/Users/peppe/anaconda3/envs/nlp/lib/site-packages/tensorflow/python/eager/function.py?line=2955'>2956</a>\u001b[0m \u001b[39mreturn\u001b[39;00m graph_function\u001b[39m.\u001b[39;49m_call_flat(\n\u001b[0;32m   <a href='file:///c%3A/Users/peppe/anaconda3/envs/nlp/lib/site-packages/tensorflow/python/eager/function.py?line=2956'>2957</a>\u001b[0m     filtered_flat_args, captured_inputs\u001b[39m=\u001b[39;49mgraph_function\u001b[39m.\u001b[39;49mcaptured_inputs)\n",
      "File \u001b[1;32m~\\anaconda3\\envs\\nlp\\lib\\site-packages\\tensorflow\\python\\eager\\function.py:1853\u001b[0m, in \u001b[0;36mConcreteFunction._call_flat\u001b[1;34m(self, args, captured_inputs, cancellation_manager)\u001b[0m\n\u001b[0;32m   <a href='file:///c%3A/Users/peppe/anaconda3/envs/nlp/lib/site-packages/tensorflow/python/eager/function.py?line=1848'>1849</a>\u001b[0m possible_gradient_type \u001b[39m=\u001b[39m gradients_util\u001b[39m.\u001b[39mPossibleTapeGradientTypes(args)\n\u001b[0;32m   <a href='file:///c%3A/Users/peppe/anaconda3/envs/nlp/lib/site-packages/tensorflow/python/eager/function.py?line=1849'>1850</a>\u001b[0m \u001b[39mif\u001b[39;00m (possible_gradient_type \u001b[39m==\u001b[39m gradients_util\u001b[39m.\u001b[39mPOSSIBLE_GRADIENT_TYPES_NONE\n\u001b[0;32m   <a href='file:///c%3A/Users/peppe/anaconda3/envs/nlp/lib/site-packages/tensorflow/python/eager/function.py?line=1850'>1851</a>\u001b[0m     \u001b[39mand\u001b[39;00m executing_eagerly):\n\u001b[0;32m   <a href='file:///c%3A/Users/peppe/anaconda3/envs/nlp/lib/site-packages/tensorflow/python/eager/function.py?line=1851'>1852</a>\u001b[0m   \u001b[39m# No tape is watching; skip to running the function.\u001b[39;00m\n\u001b[1;32m-> <a href='file:///c%3A/Users/peppe/anaconda3/envs/nlp/lib/site-packages/tensorflow/python/eager/function.py?line=1852'>1853</a>\u001b[0m   \u001b[39mreturn\u001b[39;00m \u001b[39mself\u001b[39m\u001b[39m.\u001b[39m_build_call_outputs(\u001b[39mself\u001b[39;49m\u001b[39m.\u001b[39;49m_inference_function\u001b[39m.\u001b[39;49mcall(\n\u001b[0;32m   <a href='file:///c%3A/Users/peppe/anaconda3/envs/nlp/lib/site-packages/tensorflow/python/eager/function.py?line=1853'>1854</a>\u001b[0m       ctx, args, cancellation_manager\u001b[39m=\u001b[39;49mcancellation_manager))\n\u001b[0;32m   <a href='file:///c%3A/Users/peppe/anaconda3/envs/nlp/lib/site-packages/tensorflow/python/eager/function.py?line=1854'>1855</a>\u001b[0m forward_backward \u001b[39m=\u001b[39m \u001b[39mself\u001b[39m\u001b[39m.\u001b[39m_select_forward_and_backward_functions(\n\u001b[0;32m   <a href='file:///c%3A/Users/peppe/anaconda3/envs/nlp/lib/site-packages/tensorflow/python/eager/function.py?line=1855'>1856</a>\u001b[0m     args,\n\u001b[0;32m   <a href='file:///c%3A/Users/peppe/anaconda3/envs/nlp/lib/site-packages/tensorflow/python/eager/function.py?line=1856'>1857</a>\u001b[0m     possible_gradient_type,\n\u001b[0;32m   <a href='file:///c%3A/Users/peppe/anaconda3/envs/nlp/lib/site-packages/tensorflow/python/eager/function.py?line=1857'>1858</a>\u001b[0m     executing_eagerly)\n\u001b[0;32m   <a href='file:///c%3A/Users/peppe/anaconda3/envs/nlp/lib/site-packages/tensorflow/python/eager/function.py?line=1858'>1859</a>\u001b[0m forward_function, args_with_tangents \u001b[39m=\u001b[39m forward_backward\u001b[39m.\u001b[39mforward()\n",
      "File \u001b[1;32m~\\anaconda3\\envs\\nlp\\lib\\site-packages\\tensorflow\\python\\eager\\function.py:499\u001b[0m, in \u001b[0;36m_EagerDefinedFunction.call\u001b[1;34m(self, ctx, args, cancellation_manager)\u001b[0m\n\u001b[0;32m    <a href='file:///c%3A/Users/peppe/anaconda3/envs/nlp/lib/site-packages/tensorflow/python/eager/function.py?line=496'>497</a>\u001b[0m \u001b[39mwith\u001b[39;00m _InterpolateFunctionError(\u001b[39mself\u001b[39m):\n\u001b[0;32m    <a href='file:///c%3A/Users/peppe/anaconda3/envs/nlp/lib/site-packages/tensorflow/python/eager/function.py?line=497'>498</a>\u001b[0m   \u001b[39mif\u001b[39;00m cancellation_manager \u001b[39mis\u001b[39;00m \u001b[39mNone\u001b[39;00m:\n\u001b[1;32m--> <a href='file:///c%3A/Users/peppe/anaconda3/envs/nlp/lib/site-packages/tensorflow/python/eager/function.py?line=498'>499</a>\u001b[0m     outputs \u001b[39m=\u001b[39m execute\u001b[39m.\u001b[39;49mexecute(\n\u001b[0;32m    <a href='file:///c%3A/Users/peppe/anaconda3/envs/nlp/lib/site-packages/tensorflow/python/eager/function.py?line=499'>500</a>\u001b[0m         \u001b[39mstr\u001b[39;49m(\u001b[39mself\u001b[39;49m\u001b[39m.\u001b[39;49msignature\u001b[39m.\u001b[39;49mname),\n\u001b[0;32m    <a href='file:///c%3A/Users/peppe/anaconda3/envs/nlp/lib/site-packages/tensorflow/python/eager/function.py?line=500'>501</a>\u001b[0m         num_outputs\u001b[39m=\u001b[39;49m\u001b[39mself\u001b[39;49m\u001b[39m.\u001b[39;49m_num_outputs,\n\u001b[0;32m    <a href='file:///c%3A/Users/peppe/anaconda3/envs/nlp/lib/site-packages/tensorflow/python/eager/function.py?line=501'>502</a>\u001b[0m         inputs\u001b[39m=\u001b[39;49margs,\n\u001b[0;32m    <a href='file:///c%3A/Users/peppe/anaconda3/envs/nlp/lib/site-packages/tensorflow/python/eager/function.py?line=502'>503</a>\u001b[0m         attrs\u001b[39m=\u001b[39;49mattrs,\n\u001b[0;32m    <a href='file:///c%3A/Users/peppe/anaconda3/envs/nlp/lib/site-packages/tensorflow/python/eager/function.py?line=503'>504</a>\u001b[0m         ctx\u001b[39m=\u001b[39;49mctx)\n\u001b[0;32m    <a href='file:///c%3A/Users/peppe/anaconda3/envs/nlp/lib/site-packages/tensorflow/python/eager/function.py?line=504'>505</a>\u001b[0m   \u001b[39melse\u001b[39;00m:\n\u001b[0;32m    <a href='file:///c%3A/Users/peppe/anaconda3/envs/nlp/lib/site-packages/tensorflow/python/eager/function.py?line=505'>506</a>\u001b[0m     outputs \u001b[39m=\u001b[39m execute\u001b[39m.\u001b[39mexecute_with_cancellation(\n\u001b[0;32m    <a href='file:///c%3A/Users/peppe/anaconda3/envs/nlp/lib/site-packages/tensorflow/python/eager/function.py?line=506'>507</a>\u001b[0m         \u001b[39mstr\u001b[39m(\u001b[39mself\u001b[39m\u001b[39m.\u001b[39msignature\u001b[39m.\u001b[39mname),\n\u001b[0;32m    <a href='file:///c%3A/Users/peppe/anaconda3/envs/nlp/lib/site-packages/tensorflow/python/eager/function.py?line=507'>508</a>\u001b[0m         num_outputs\u001b[39m=\u001b[39m\u001b[39mself\u001b[39m\u001b[39m.\u001b[39m_num_outputs,\n\u001b[1;32m   (...)\u001b[0m\n\u001b[0;32m    <a href='file:///c%3A/Users/peppe/anaconda3/envs/nlp/lib/site-packages/tensorflow/python/eager/function.py?line=510'>511</a>\u001b[0m         ctx\u001b[39m=\u001b[39mctx,\n\u001b[0;32m    <a href='file:///c%3A/Users/peppe/anaconda3/envs/nlp/lib/site-packages/tensorflow/python/eager/function.py?line=511'>512</a>\u001b[0m         cancellation_manager\u001b[39m=\u001b[39mcancellation_manager)\n",
      "File \u001b[1;32m~\\anaconda3\\envs\\nlp\\lib\\site-packages\\tensorflow\\python\\eager\\execute.py:54\u001b[0m, in \u001b[0;36mquick_execute\u001b[1;34m(op_name, num_outputs, inputs, attrs, ctx, name)\u001b[0m\n\u001b[0;32m     <a href='file:///c%3A/Users/peppe/anaconda3/envs/nlp/lib/site-packages/tensorflow/python/eager/execute.py?line=51'>52</a>\u001b[0m \u001b[39mtry\u001b[39;00m:\n\u001b[0;32m     <a href='file:///c%3A/Users/peppe/anaconda3/envs/nlp/lib/site-packages/tensorflow/python/eager/execute.py?line=52'>53</a>\u001b[0m   ctx\u001b[39m.\u001b[39mensure_initialized()\n\u001b[1;32m---> <a href='file:///c%3A/Users/peppe/anaconda3/envs/nlp/lib/site-packages/tensorflow/python/eager/execute.py?line=53'>54</a>\u001b[0m   tensors \u001b[39m=\u001b[39m pywrap_tfe\u001b[39m.\u001b[39;49mTFE_Py_Execute(ctx\u001b[39m.\u001b[39;49m_handle, device_name, op_name,\n\u001b[0;32m     <a href='file:///c%3A/Users/peppe/anaconda3/envs/nlp/lib/site-packages/tensorflow/python/eager/execute.py?line=54'>55</a>\u001b[0m                                       inputs, attrs, num_outputs)\n\u001b[0;32m     <a href='file:///c%3A/Users/peppe/anaconda3/envs/nlp/lib/site-packages/tensorflow/python/eager/execute.py?line=55'>56</a>\u001b[0m \u001b[39mexcept\u001b[39;00m core\u001b[39m.\u001b[39m_NotOkStatusException \u001b[39mas\u001b[39;00m e:\n\u001b[0;32m     <a href='file:///c%3A/Users/peppe/anaconda3/envs/nlp/lib/site-packages/tensorflow/python/eager/execute.py?line=56'>57</a>\u001b[0m   \u001b[39mif\u001b[39;00m name \u001b[39mis\u001b[39;00m \u001b[39mnot\u001b[39;00m \u001b[39mNone\u001b[39;00m:\n",
      "\u001b[1;31mKeyboardInterrupt\u001b[0m: "
     ]
    }
   ],
   "source": [
    "# tune the hyperparameters of the fourth model\n",
    "tuner_bilstm_two_dense = kt.Hyperband(build_bilstm_two_dense_model,\n",
    "                     objective=kt.Objective(\"val_f1_with_tfa\", direction=\"max\"),\n",
    "                     max_epochs=epochs_tuning,\n",
    "                     #overwrite=True,\n",
    "                     directory=\"tuner\",\n",
    "                     project_name=\"tuner_bilstm_two_dense\")\n",
    "tuner_bilstm_two_dense.search(X_train, y_train, epochs=epochs_tuning, batch_size=batch_size_tuning, validation_data=(X_dev, y_dev))\n",
    "best_hps_bilstm_two_dense = tuner_bilstm_two_dense.get_best_hyperparameters()[0]\n",
    "\n",
    "print(f\"The hyperparameter search is complete.\\n\" \n",
    "      f\"The optimal number of units in the LSTM layer is {best_hps_bilstm_two_dense.get('units1')}.\\n\" \n",
    "      f\"The optimal rate for the first Dropout layer is {best_hps_bilstm_two_dense.get('dropout1')}.\\n\" \n",
    "      f\"The optimal number of units in first densely-connected layer is {best_hps_bilstm_two_dense.get('units2')}.\\n\" \n",
    "      f\"The optimal rate for the second Dropout layer is {best_hps_bilstm_two_dense.get('dropout2')}.\\n\"\n",
    "      f\"The optimal learning rate for the optimizer is {best_hps_bilstm_two_dense.get('learning_rate')}.\")"
   ]
  },
  {
   "cell_type": "markdown",
   "metadata": {
    "id": "kWdZM3rskqzr"
   },
   "source": [
    "### 2.3 Model training"
   ]
  },
  {
   "cell_type": "code",
   "execution_count": null,
   "metadata": {
    "id": "HGdlAMOu3ZUN"
   },
   "outputs": [],
   "source": [
    "epochs_training = 100\n",
    "batch_size_training = 64\n",
    "callbacks_training = [keras.callbacks.EarlyStopping(monitor='val_f1_with_tfa', patience=10, mode=\"max\", restore_best_weights=True)]"
   ]
  },
  {
   "cell_type": "code",
   "execution_count": null,
   "metadata": {
    "id": "1CkJaP7_3ZUN"
   },
   "outputs": [],
   "source": [
    "def create_model(layers_info, compile_info):\n",
    "    \"\"\"\n",
    "    Create a Keras model given a list of layer information\n",
    "\n",
    "    Parameters\n",
    "    ----------\n",
    "    layers_info : a list of dictionaries, one for each layer\n",
    "    compile_info : dictionary containing compile information\n",
    "\n",
    "    Returns\n",
    "    -------\n",
    "    model: the built keras sequential model\n",
    "    \"\"\"\n",
    "\n",
    "    model = keras.Sequential()\n",
    "    for info in layers_info:\n",
    "        layer = info['layer_name'](**{key: value for key, value in info.items() if key != 'layer_name'})\n",
    "        model.add(layer)\n",
    "\n",
    "    # Compile\n",
    "    model.compile(**compile_info)\n",
    "\n",
    "    return model"
   ]
  },
  {
   "cell_type": "markdown",
   "metadata": {
    "id": "XNvSu_g23ZUN"
   },
   "source": [
    "Model 1: Bidirectional LSMT + Dense layer variant training"
   ]
  },
  {
   "cell_type": "code",
   "execution_count": null,
   "metadata": {
    "id": "f57Z0qk03ZUO"
   },
   "outputs": [
    {
     "name": "stdout",
     "output_type": "stream",
     "text": [
      "Model: \"sequential_3\"\n",
      "_________________________________________________________________\n",
      " Layer (type)                Output Shape              Param #   \n",
      "=================================================================\n",
      " padding_masking (Masking)   (None, 249, 100)          0         \n",
      "                                                                 \n",
      " bilstm_1 (Bidirectional)    (None, 249, 512)          731136    \n",
      "                                                                 \n",
      " dropout_1 (Dropout)         (None, 249, 512)          0         \n",
      "                                                                 \n",
      " dense_1 (Dense)             (None, 249, 45)           23085     \n",
      "                                                                 \n",
      "=================================================================\n",
      "Total params: 754,221\n",
      "Trainable params: 754,221\n",
      "Non-trainable params: 0\n",
      "_________________________________________________________________\n",
      "Epoch 1/100\n",
      "31/31 [==============================] - 10s 123ms/step - loss: 0.7365 - categorical_accuracy: 0.2227 - f1_with_tfa: 0.0238 - val_loss: 0.2968 - val_categorical_accuracy: 0.4109 - val_f1_with_tfa: 0.0599\n",
      "Epoch 2/100\n",
      "31/31 [==============================] - 1s 42ms/step - loss: 0.2109 - categorical_accuracy: 0.5099 - f1_with_tfa: 0.1330 - val_loss: 0.1673 - val_categorical_accuracy: 0.5996 - val_f1_with_tfa: 0.2066\n",
      "Epoch 3/100\n",
      "31/31 [==============================] - 1s 44ms/step - loss: 0.1485 - categorical_accuracy: 0.6682 - f1_with_tfa: 0.2634 - val_loss: 0.1326 - val_categorical_accuracy: 0.7210 - val_f1_with_tfa: 0.3140\n",
      "Epoch 4/100\n",
      "31/31 [==============================] - 1s 45ms/step - loss: 0.1254 - categorical_accuracy: 0.7338 - f1_with_tfa: 0.3319 - val_loss: 0.1179 - val_categorical_accuracy: 0.7479 - val_f1_with_tfa: 0.3515\n",
      "Epoch 5/100\n",
      "31/31 [==============================] - 1s 42ms/step - loss: 0.1135 - categorical_accuracy: 0.7644 - f1_with_tfa: 0.3661 - val_loss: 0.1098 - val_categorical_accuracy: 0.7722 - val_f1_with_tfa: 0.3747\n",
      "Epoch 6/100\n",
      "31/31 [==============================] - 1s 43ms/step - loss: 0.1073 - categorical_accuracy: 0.7745 - f1_with_tfa: 0.3823 - val_loss: 0.1008 - val_categorical_accuracy: 0.7940 - val_f1_with_tfa: 0.4038\n",
      "Epoch 7/100\n",
      "31/31 [==============================] - 1s 43ms/step - loss: 0.1036 - categorical_accuracy: 0.7809 - f1_with_tfa: 0.3951 - val_loss: 0.1003 - val_categorical_accuracy: 0.7995 - val_f1_with_tfa: 0.4106\n",
      "Epoch 8/100\n",
      "31/31 [==============================] - 1s 42ms/step - loss: 0.0984 - categorical_accuracy: 0.7945 - f1_with_tfa: 0.4066 - val_loss: 0.0969 - val_categorical_accuracy: 0.7939 - val_f1_with_tfa: 0.4109\n",
      "Epoch 9/100\n",
      "31/31 [==============================] - 1s 44ms/step - loss: 0.0957 - categorical_accuracy: 0.7993 - f1_with_tfa: 0.4174 - val_loss: 0.0900 - val_categorical_accuracy: 0.8168 - val_f1_with_tfa: 0.4333\n",
      "Epoch 10/100\n",
      "31/31 [==============================] - 1s 43ms/step - loss: 0.0920 - categorical_accuracy: 0.8088 - f1_with_tfa: 0.4270 - val_loss: 0.0880 - val_categorical_accuracy: 0.8143 - val_f1_with_tfa: 0.4335\n",
      "Epoch 11/100\n",
      "31/31 [==============================] - 1s 42ms/step - loss: 0.0919 - categorical_accuracy: 0.8045 - f1_with_tfa: 0.4290 - val_loss: 0.0896 - val_categorical_accuracy: 0.8075 - val_f1_with_tfa: 0.4464\n",
      "Epoch 12/100\n",
      "31/31 [==============================] - 1s 42ms/step - loss: 0.0895 - categorical_accuracy: 0.8114 - f1_with_tfa: 0.4371 - val_loss: 0.0876 - val_categorical_accuracy: 0.8140 - val_f1_with_tfa: 0.4538\n",
      "Epoch 13/100\n",
      "31/31 [==============================] - 1s 43ms/step - loss: 0.0878 - categorical_accuracy: 0.8134 - f1_with_tfa: 0.4428 - val_loss: 0.0872 - val_categorical_accuracy: 0.8108 - val_f1_with_tfa: 0.4531\n",
      "Epoch 14/100\n",
      "31/31 [==============================] - 1s 44ms/step - loss: 0.0848 - categorical_accuracy: 0.8212 - f1_with_tfa: 0.4498 - val_loss: 0.0841 - val_categorical_accuracy: 0.8217 - val_f1_with_tfa: 0.4337\n",
      "Epoch 15/100\n",
      "31/31 [==============================] - 1s 46ms/step - loss: 0.0825 - categorical_accuracy: 0.8266 - f1_with_tfa: 0.4564 - val_loss: 0.0812 - val_categorical_accuracy: 0.8290 - val_f1_with_tfa: 0.4549\n",
      "Epoch 16/100\n",
      "31/31 [==============================] - 1s 43ms/step - loss: 0.0835 - categorical_accuracy: 0.8255 - f1_with_tfa: 0.4601 - val_loss: 0.0796 - val_categorical_accuracy: 0.8386 - val_f1_with_tfa: 0.4637\n",
      "Epoch 17/100\n",
      "31/31 [==============================] - 1s 43ms/step - loss: 0.0809 - categorical_accuracy: 0.8294 - f1_with_tfa: 0.4573 - val_loss: 0.0797 - val_categorical_accuracy: 0.8325 - val_f1_with_tfa: 0.4729\n",
      "Epoch 18/100\n",
      "31/31 [==============================] - 1s 42ms/step - loss: 0.0814 - categorical_accuracy: 0.8289 - f1_with_tfa: 0.4589 - val_loss: 0.0803 - val_categorical_accuracy: 0.8317 - val_f1_with_tfa: 0.4729\n",
      "Epoch 19/100\n",
      "31/31 [==============================] - 1s 43ms/step - loss: 0.0796 - categorical_accuracy: 0.8327 - f1_with_tfa: 0.4670 - val_loss: 0.0798 - val_categorical_accuracy: 0.8300 - val_f1_with_tfa: 0.4597\n",
      "Epoch 20/100\n",
      "31/31 [==============================] - 1s 46ms/step - loss: 0.0790 - categorical_accuracy: 0.8344 - f1_with_tfa: 0.4675 - val_loss: 0.0787 - val_categorical_accuracy: 0.8317 - val_f1_with_tfa: 0.4661\n",
      "Epoch 21/100\n",
      "31/31 [==============================] - 1s 47ms/step - loss: 0.0792 - categorical_accuracy: 0.8346 - f1_with_tfa: 0.4720 - val_loss: 0.0789 - val_categorical_accuracy: 0.8294 - val_f1_with_tfa: 0.4662\n",
      "Epoch 22/100\n",
      "31/31 [==============================] - 1s 43ms/step - loss: 0.0783 - categorical_accuracy: 0.8355 - f1_with_tfa: 0.4714 - val_loss: 0.0798 - val_categorical_accuracy: 0.8288 - val_f1_with_tfa: 0.4649\n",
      "Epoch 23/100\n",
      "31/31 [==============================] - 1s 45ms/step - loss: 0.0777 - categorical_accuracy: 0.8382 - f1_with_tfa: 0.4719 - val_loss: 0.0753 - val_categorical_accuracy: 0.8451 - val_f1_with_tfa: 0.4682\n",
      "Epoch 24/100\n",
      "31/31 [==============================] - 1s 46ms/step - loss: 0.0777 - categorical_accuracy: 0.8386 - f1_with_tfa: 0.4787 - val_loss: 0.0760 - val_categorical_accuracy: 0.8441 - val_f1_with_tfa: 0.4823\n",
      "Epoch 25/100\n",
      "31/31 [==============================] - 1s 43ms/step - loss: 0.0779 - categorical_accuracy: 0.8359 - f1_with_tfa: 0.4773 - val_loss: 0.0777 - val_categorical_accuracy: 0.8346 - val_f1_with_tfa: 0.4734\n",
      "Epoch 26/100\n",
      "31/31 [==============================] - 1s 49ms/step - loss: 0.0742 - categorical_accuracy: 0.8471 - f1_with_tfa: 0.4852 - val_loss: 0.0765 - val_categorical_accuracy: 0.8416 - val_f1_with_tfa: 0.4842\n",
      "Epoch 27/100\n",
      "31/31 [==============================] - 2s 50ms/step - loss: 0.0755 - categorical_accuracy: 0.8440 - f1_with_tfa: 0.4870 - val_loss: 0.0760 - val_categorical_accuracy: 0.8430 - val_f1_with_tfa: 0.4807\n",
      "Epoch 28/100\n",
      "31/31 [==============================] - 2s 49ms/step - loss: 0.0743 - categorical_accuracy: 0.8474 - f1_with_tfa: 0.4892 - val_loss: 0.0772 - val_categorical_accuracy: 0.8369 - val_f1_with_tfa: 0.4734\n",
      "Epoch 29/100\n",
      "31/31 [==============================] - 2s 49ms/step - loss: 0.0741 - categorical_accuracy: 0.8481 - f1_with_tfa: 0.4918 - val_loss: 0.0740 - val_categorical_accuracy: 0.8510 - val_f1_with_tfa: 0.4928\n",
      "Epoch 30/100\n",
      "31/31 [==============================] - 2s 49ms/step - loss: 0.0722 - categorical_accuracy: 0.8519 - f1_with_tfa: 0.4954 - val_loss: 0.0746 - val_categorical_accuracy: 0.8405 - val_f1_with_tfa: 0.4751\n",
      "Epoch 31/100\n",
      "31/31 [==============================] - 2s 50ms/step - loss: 0.0738 - categorical_accuracy: 0.8506 - f1_with_tfa: 0.4748 - val_loss: 0.0782 - val_categorical_accuracy: 0.8382 - val_f1_with_tfa: 0.4738\n",
      "Epoch 32/100\n",
      "31/31 [==============================] - 2s 49ms/step - loss: 0.0726 - categorical_accuracy: 0.8537 - f1_with_tfa: 0.4835 - val_loss: 0.0756 - val_categorical_accuracy: 0.8439 - val_f1_with_tfa: 0.4624\n",
      "Epoch 33/100\n",
      "31/31 [==============================] - 2s 51ms/step - loss: 0.0725 - categorical_accuracy: 0.8526 - f1_with_tfa: 0.4870 - val_loss: 0.0771 - val_categorical_accuracy: 0.8383 - val_f1_with_tfa: 0.4554\n",
      "Epoch 34/100\n",
      "31/31 [==============================] - 2s 49ms/step - loss: 0.0727 - categorical_accuracy: 0.8536 - f1_with_tfa: 0.4879 - val_loss: 0.0812 - val_categorical_accuracy: 0.8312 - val_f1_with_tfa: 0.4555\n",
      "Epoch 35/100\n",
      "31/31 [==============================] - 1s 49ms/step - loss: 0.0713 - categorical_accuracy: 0.8595 - f1_with_tfa: 0.4865 - val_loss: 0.0768 - val_categorical_accuracy: 0.8405 - val_f1_with_tfa: 0.4703\n",
      "Epoch 36/100\n",
      "31/31 [==============================] - 1s 49ms/step - loss: 0.0713 - categorical_accuracy: 0.8589 - f1_with_tfa: 0.4905 - val_loss: 0.0784 - val_categorical_accuracy: 0.8375 - val_f1_with_tfa: 0.4773\n",
      "Epoch 37/100\n",
      "31/31 [==============================] - 1s 48ms/step - loss: 0.0711 - categorical_accuracy: 0.8618 - f1_with_tfa: 0.4934 - val_loss: 0.0793 - val_categorical_accuracy: 0.8431 - val_f1_with_tfa: 0.4712\n",
      "Epoch 38/100\n",
      "31/31 [==============================] - 2s 50ms/step - loss: 0.0716 - categorical_accuracy: 0.8593 - f1_with_tfa: 0.4934 - val_loss: 0.0820 - val_categorical_accuracy: 0.8311 - val_f1_with_tfa: 0.4555\n",
      "Epoch 39/100\n",
      "31/31 [==============================] - 2s 49ms/step - loss: 0.0706 - categorical_accuracy: 0.8630 - f1_with_tfa: 0.4942 - val_loss: 0.0807 - val_categorical_accuracy: 0.8302 - val_f1_with_tfa: 0.4591\n"
     ]
    }
   ],
   "source": [
    "# first model    \n",
    "layers_info_bilstm = [\n",
    "    {\n",
    "        \"layer_name\": layers.Masking,\n",
    "        \"name\": \"padding_masking\",\n",
    "        \"mask_value\": 0.,\n",
    "        \"input_shape\": X_train.shape[1:]\n",
    "    },\n",
    "    {\n",
    "        'layer_name': layers.Bidirectional,\n",
    "        \"layer\": layers.LSTM(best_hps_bilstm.get('units'), return_sequences=True, kernel_regularizer=keras.regularizers.l2(0.01)),\n",
    "        \"name\": \"bilstm_1\",\n",
    "    },\n",
    "    {\n",
    "        \"layer_name\": layers.Dropout,\n",
    "        \"rate\": best_hps_bilstm.get('dropout'),\n",
    "        \"name\": \"dropout_1\"\n",
    "    },\n",
    "    {\n",
    "        \"layer_name\": layers.Dense,\n",
    "        \"units\": n_classes,\n",
    "        \"activation\": \"softmax\",\n",
    "        \"name\": \"dense_1\"\n",
    "    }\n",
    "]\n",
    "\n",
    "compile_info_bilstm = {\n",
    "    'optimizer': keras.optimizers.Adam(learning_rate=best_hps_bilstm.get('learning_rate')),\n",
    "    'loss': 'categorical_crossentropy',\n",
    "    'metrics' : ['categorical_accuracy', f1_with_tfa]\n",
    "}\n",
    "\n",
    "model_bilstm = create_model(layers_info_bilstm, compile_info_bilstm)\n",
    "model_bilstm.summary()\n",
    "\n",
    "# start training\n",
    "history_bilstm = model_bilstm.fit(X_train, y_train, epochs=epochs_training, batch_size=batch_size_training, validation_data=(X_dev, y_dev), callbacks=callbacks_training)"
   ]
  },
  {
   "cell_type": "markdown",
   "metadata": {
    "id": "V2QWE-m03ZUO"
   },
   "source": [
    "Model 2: Bidirectional GRU + Dense layer variant training"
   ]
  },
  {
   "cell_type": "code",
   "execution_count": null,
   "metadata": {
    "id": "nXZNNrlO3ZUO"
   },
   "outputs": [
    {
     "name": "stdout",
     "output_type": "stream",
     "text": [
      "Model: \"sequential_4\"\n",
      "_________________________________________________________________\n",
      " Layer (type)                Output Shape              Param #   \n",
      "=================================================================\n",
      " padding_masking (Masking)   (None, 249, 100)          0         \n",
      "                                                                 \n",
      " bigru_1 (Bidirectional)     (None, 249, 512)          549888    \n",
      "                                                                 \n",
      " dropout_1 (Dropout)         (None, 249, 512)          0         \n",
      "                                                                 \n",
      " dense_1 (Dense)             (None, 249, 45)           23085     \n",
      "                                                                 \n",
      "=================================================================\n",
      "Total params: 572,973\n",
      "Trainable params: 572,973\n",
      "Non-trainable params: 0\n",
      "_________________________________________________________________\n",
      "Epoch 1/100\n",
      "31/31 [==============================] - 10s 138ms/step - loss: 0.6758 - categorical_accuracy: 0.4651 - f1_with_tfa: 0.1317 - val_loss: 0.2105 - val_categorical_accuracy: 0.6570 - val_f1_with_tfa: 0.2541\n",
      "Epoch 2/100\n",
      "31/31 [==============================] - 2s 50ms/step - loss: 0.1463 - categorical_accuracy: 0.7344 - f1_with_tfa: 0.3310 - val_loss: 0.1222 - val_categorical_accuracy: 0.7575 - val_f1_with_tfa: 0.3544\n",
      "Epoch 3/100\n",
      "31/31 [==============================] - 2s 50ms/step - loss: 0.1101 - categorical_accuracy: 0.7794 - f1_with_tfa: 0.3815 - val_loss: 0.1079 - val_categorical_accuracy: 0.7677 - val_f1_with_tfa: 0.3788\n",
      "Epoch 4/100\n",
      "31/31 [==============================] - 2s 51ms/step - loss: 0.1007 - categorical_accuracy: 0.7972 - f1_with_tfa: 0.4074 - val_loss: 0.0998 - val_categorical_accuracy: 0.7981 - val_f1_with_tfa: 0.4213\n",
      "Epoch 5/100\n",
      "31/31 [==============================] - 1s 46ms/step - loss: 0.0941 - categorical_accuracy: 0.8094 - f1_with_tfa: 0.4276 - val_loss: 0.0966 - val_categorical_accuracy: 0.8004 - val_f1_with_tfa: 0.4474\n",
      "Epoch 6/100\n",
      "31/31 [==============================] - 1s 48ms/step - loss: 0.0898 - categorical_accuracy: 0.8187 - f1_with_tfa: 0.4464 - val_loss: 0.0942 - val_categorical_accuracy: 0.7942 - val_f1_with_tfa: 0.4109\n",
      "Epoch 7/100\n",
      "31/31 [==============================] - 2s 52ms/step - loss: 0.0856 - categorical_accuracy: 0.8258 - f1_with_tfa: 0.4533 - val_loss: 0.0857 - val_categorical_accuracy: 0.8227 - val_f1_with_tfa: 0.4514\n",
      "Epoch 8/100\n",
      "31/31 [==============================] - 1s 47ms/step - loss: 0.0819 - categorical_accuracy: 0.8320 - f1_with_tfa: 0.4610 - val_loss: 0.0925 - val_categorical_accuracy: 0.7973 - val_f1_with_tfa: 0.4198\n",
      "Epoch 9/100\n",
      "31/31 [==============================] - 2s 49ms/step - loss: 0.0822 - categorical_accuracy: 0.8335 - f1_with_tfa: 0.4628 - val_loss: 0.0835 - val_categorical_accuracy: 0.8252 - val_f1_with_tfa: 0.4639\n",
      "Epoch 10/100\n",
      "31/31 [==============================] - 1s 48ms/step - loss: 0.0761 - categorical_accuracy: 0.8454 - f1_with_tfa: 0.4810 - val_loss: 0.0785 - val_categorical_accuracy: 0.8291 - val_f1_with_tfa: 0.4762\n",
      "Epoch 11/100\n",
      "31/31 [==============================] - 1s 45ms/step - loss: 0.0751 - categorical_accuracy: 0.8464 - f1_with_tfa: 0.4821 - val_loss: 0.0845 - val_categorical_accuracy: 0.8202 - val_f1_with_tfa: 0.4540\n",
      "Epoch 12/100\n",
      "31/31 [==============================] - 1s 47ms/step - loss: 0.0756 - categorical_accuracy: 0.8479 - f1_with_tfa: 0.4882 - val_loss: 0.0843 - val_categorical_accuracy: 0.8104 - val_f1_with_tfa: 0.4378\n",
      "Epoch 13/100\n",
      "31/31 [==============================] - 1s 48ms/step - loss: 0.0733 - categorical_accuracy: 0.8515 - f1_with_tfa: 0.4905 - val_loss: 0.0804 - val_categorical_accuracy: 0.8351 - val_f1_with_tfa: 0.4804\n",
      "Epoch 14/100\n",
      "31/31 [==============================] - 2s 49ms/step - loss: 0.0724 - categorical_accuracy: 0.8566 - f1_with_tfa: 0.5041 - val_loss: 0.0787 - val_categorical_accuracy: 0.8358 - val_f1_with_tfa: 0.4780\n",
      "Epoch 15/100\n",
      "31/31 [==============================] - 2s 49ms/step - loss: 0.0691 - categorical_accuracy: 0.8633 - f1_with_tfa: 0.5102 - val_loss: 0.0780 - val_categorical_accuracy: 0.8384 - val_f1_with_tfa: 0.4767\n",
      "Epoch 16/100\n",
      "31/31 [==============================] - 1s 46ms/step - loss: 0.0687 - categorical_accuracy: 0.8654 - f1_with_tfa: 0.5106 - val_loss: 0.0815 - val_categorical_accuracy: 0.8305 - val_f1_with_tfa: 0.4687\n",
      "Epoch 17/100\n",
      "31/31 [==============================] - 1s 48ms/step - loss: 0.0688 - categorical_accuracy: 0.8659 - f1_with_tfa: 0.5158 - val_loss: 0.0814 - val_categorical_accuracy: 0.8275 - val_f1_with_tfa: 0.4646\n",
      "Epoch 18/100\n",
      "31/31 [==============================] - 1s 48ms/step - loss: 0.0646 - categorical_accuracy: 0.8754 - f1_with_tfa: 0.5250 - val_loss: 0.0823 - val_categorical_accuracy: 0.8166 - val_f1_with_tfa: 0.4666\n",
      "Epoch 19/100\n",
      "31/31 [==============================] - 1s 46ms/step - loss: 0.0655 - categorical_accuracy: 0.8753 - f1_with_tfa: 0.5259 - val_loss: 0.0834 - val_categorical_accuracy: 0.8196 - val_f1_with_tfa: 0.4639\n",
      "Epoch 20/100\n",
      "31/31 [==============================] - 2s 50ms/step - loss: 0.0644 - categorical_accuracy: 0.8791 - f1_with_tfa: 0.5304 - val_loss: 0.0804 - val_categorical_accuracy: 0.8286 - val_f1_with_tfa: 0.4726\n",
      "Epoch 21/100\n",
      "31/31 [==============================] - 1s 48ms/step - loss: 0.0601 - categorical_accuracy: 0.8908 - f1_with_tfa: 0.5443 - val_loss: 0.0823 - val_categorical_accuracy: 0.8221 - val_f1_with_tfa: 0.4615\n",
      "Epoch 22/100\n",
      "31/31 [==============================] - 1s 46ms/step - loss: 0.0600 - categorical_accuracy: 0.8921 - f1_with_tfa: 0.5436 - val_loss: 0.0804 - val_categorical_accuracy: 0.8334 - val_f1_with_tfa: 0.4796\n",
      "Epoch 23/100\n",
      "31/31 [==============================] - 2s 52ms/step - loss: 0.0598 - categorical_accuracy: 0.8969 - f1_with_tfa: 0.5519 - val_loss: 0.0816 - val_categorical_accuracy: 0.8327 - val_f1_with_tfa: 0.4722\n",
      "Epoch 24/100\n",
      "31/31 [==============================] - 1s 45ms/step - loss: 0.0610 - categorical_accuracy: 0.8944 - f1_with_tfa: 0.5537 - val_loss: 0.0878 - val_categorical_accuracy: 0.8195 - val_f1_with_tfa: 0.4585\n",
      "Epoch 25/100\n",
      "31/31 [==============================] - 1s 47ms/step - loss: 0.0604 - categorical_accuracy: 0.9006 - f1_with_tfa: 0.5544 - val_loss: 0.0852 - val_categorical_accuracy: 0.8224 - val_f1_with_tfa: 0.4619\n"
     ]
    }
   ],
   "source": [
    "# second model    \n",
    "layers_info_bigru = [\n",
    "    {\n",
    "        \"layer_name\": layers.Masking,\n",
    "        \"name\": \"padding_masking\",\n",
    "        \"mask_value\": 0.,\n",
    "        \"input_shape\": X_train.shape[1:]\n",
    "    },\n",
    "    {\n",
    "        'layer_name': layers.Bidirectional,\n",
    "        \"layer\": layers.GRU(best_hps_bigru.get('units'), return_sequences=True, kernel_regularizer=keras.regularizers.l2(0.01)),\n",
    "        \"name\": \"bigru_1\",\n",
    "    },\n",
    "    {\n",
    "        \"layer_name\": layers.Dropout,\n",
    "        \"rate\": best_hps_bigru.get('dropout'),\n",
    "        \"name\": \"dropout_1\"\n",
    "    },\n",
    "    {\n",
    "        \"layer_name\": layers.Dense,\n",
    "        \"units\": n_classes,\n",
    "        \"activation\": \"softmax\",\n",
    "        \"name\": \"dense_1\"\n",
    "    }\n",
    "]\n",
    "\n",
    "compile_info_bigru = {\n",
    "    'optimizer': keras.optimizers.Adam(learning_rate=best_hps_bigru.get('learning_rate')),\n",
    "    'loss': 'categorical_crossentropy',\n",
    "    'metrics' : ['categorical_accuracy', f1_with_tfa]\n",
    "}\n",
    "\n",
    "model_bigru = create_model(layers_info_bigru, compile_info_bigru)\n",
    "model_bigru.summary()\n",
    "\n",
    "# start training\n",
    "history_bigru = model_bigru.fit(X_train, y_train, epochs=epochs_training, batch_size=batch_size_training, validation_data=(X_dev, y_dev),  callbacks=callbacks_training)"
   ]
  },
  {
   "cell_type": "markdown",
   "metadata": {
    "id": "P52dWFq63ZUO"
   },
   "source": [
    "Model 3: Two Bidirectional LSMT + Dense layer variant training"
   ]
  },
  {
   "cell_type": "code",
   "execution_count": null,
   "metadata": {
    "id": "gzTLBLdC3ZUO"
   },
   "outputs": [],
   "source": [
    "# third model    \n",
    "layers_info_two_bilstm = [\n",
    "    {\n",
    "        \"layer_name\": layers.Masking,\n",
    "        \"name\": \"padding_masking\",\n",
    "        \"mask_value\": 0.,\n",
    "        \"input_shape\": X_train.shape[1:]\n",
    "    },\n",
    "    {\n",
    "        'layer_name': layers.Bidirectional,\n",
    "        \"layer\": layers.LSTM(best_hps_two_bilstm.get('units1'), return_sequences=True, kernel_regularizer=keras.regularizers.l2(0.01)),\n",
    "        \"name\": \"bilstm_1\",\n",
    "    },\n",
    "    {\n",
    "        'layer_name': layers.Bidirectional,\n",
    "        \"layer\": layers.LSTM(best_hps_two_bilstm.get('units2'), return_sequences=True, kernel_regularizer=keras.regularizers.l2(0.01)),\n",
    "        \"name\": \"bilstm_2\",\n",
    "    },\n",
    "    {\n",
    "        \"layer_name\": layers.Dropout,\n",
    "        \"rate\": best_hps_two_bilstm.get('dropout'),\n",
    "        \"name\": \"dropout_1\"\n",
    "    },\n",
    "    {\n",
    "        \"layer_name\": layers.Dense,\n",
    "        \"units\": n_classes,\n",
    "        \"activation\": \"softmax\",\n",
    "        \"name\": \"dense_1\"\n",
    "    }\n",
    "]\n",
    "\n",
    "compile_info_two_bilstm = {\n",
    "    'optimizer': keras.optimizers.Adam(learning_rate=best_hps_two_bilstm.get('learning_rate')),\n",
    "    'loss': 'categorical_crossentropy',\n",
    "    'metrics' : ['categorical_accuracy', f1_with_tfa]\n",
    "}\n",
    "\n",
    "model_two_bilstm = create_model(layers_info_two_bilstm, compile_info_two_bilstm)\n",
    "model_two_bilstm.summary()\n",
    "\n",
    "# start training\n",
    "history_two_bilstm = model_two_bilstm.fit(X_train, y_train, epochs=epochs_training, batch_size=batch_size_training, validation_data=(X_dev, y_dev), callbacks=callbacks_training)"
   ]
  },
  {
   "cell_type": "markdown",
   "metadata": {
    "id": "BDri7iKq3ZUP"
   },
   "source": [
    "Model 4: Bidirectional LSMT + two Dense layer variant training"
   ]
  },
  {
   "cell_type": "code",
   "execution_count": null,
   "metadata": {
    "id": "OrxBTqOQ3ZUP"
   },
   "outputs": [],
   "source": [
    "# fourth model    \n",
    "layers_info_bilstm_two_dense = [\n",
    "    {\n",
    "        \"layer_name\": layers.Masking,\n",
    "        \"name\": \"padding_masking\",\n",
    "        \"mask_value\": 0.,\n",
    "        \"input_shape\": X_train.shape[1:]\n",
    "    },\n",
    "    {\n",
    "        'layer_name': layers.Bidirectional,\n",
    "        \"layer\": layers.LSTM(best_hps_bilstm_two_dense.get('units1'), return_sequences=True, kernel_regularizer=keras.regularizers.l2(0.01)),\n",
    "        \"name\": \"bilstm_1\",\n",
    "    },\n",
    "    {\n",
    "        \"layer_name\": layers.Dropout,\n",
    "        \"rate\": best_hps_bilstm_two_dense.get('dropout1'),\n",
    "        \"name\": \"dropout_1\"\n",
    "    },\n",
    "    {\n",
    "        \"layer_name\": layers.Dense,\n",
    "        \"units\": best_hps_bilstm_two_dense.get('units2'),\n",
    "        \"activation\": \"relu\",\n",
    "        \"kernel_regularizer\": keras.regularizers.l2(0.01),\n",
    "        \"name\": \"dense_1\"\n",
    "    },\n",
    "    {\n",
    "        \"layer_name\": layers.Dropout,\n",
    "        \"rate\": best_hps_bilstm_two_dense.get('dropout2'),\n",
    "        \"name\": \"dropout_2\"\n",
    "    },\n",
    "    {\n",
    "        \"layer_name\": layers.Dense,\n",
    "        \"units\": n_classes,\n",
    "        \"activation\": \"softmax\",\n",
    "        \"name\": \"dense_2\"\n",
    "    }\n",
    "]\n",
    "\n",
    "compile_info_bilstm_two_dense = {\n",
    "    'optimizer': keras.optimizers.Adam(learning_rate=best_hps_bilstm_two_dense.get('learning_rate')),\n",
    "    'loss': 'categorical_crossentropy',\n",
    "    'metrics' : ['categorical_accuracy', f1_with_tfa]\n",
    "}\n",
    "\n",
    "model_bilstm_two_dense = create_model(layers_info_bilstm_two_dense, compile_info_bilstm_two_dense)\n",
    "model_bilstm_two_dense.summary()\n",
    "\n",
    "# start training\n",
    "history_bilstm_two_dense = model_bilstm_two_dense.fit(X_train, y_train, epochs=epochs_training, batch_size=batch_size_training, validation_data=(X_dev, y_dev), callbacks=callbacks_training)"
   ]
  },
  {
   "cell_type": "markdown",
   "metadata": {
    "id": "2NnTW1ct3ZUP"
   },
   "source": [
    "#### 2.3.1 Store or load all the trained models"
   ]
  },
  {
   "cell_type": "markdown",
   "metadata": {
    "id": "A29NOAda3ZUP"
   },
   "source": [
    "Store weights and history"
   ]
  },
  {
   "cell_type": "code",
   "execution_count": null,
   "metadata": {
    "id": "Rp38wlcW3ZUP"
   },
   "outputs": [],
   "source": [
    "# store models weights\n",
    "path_model_weights = os.path.join(os.getcwd(), 'models_f1', 'weights')\n",
    "model_bilstm.save_weights(os.path.join(path_model_weights, 'weights_bilstm.h5'))\n",
    "model_bigru.save_weights(os.path.join(path_model_weights, 'weights_bigru.h5'))\n",
    "model_two_bilstm.save_weights(os.path.join(path_model_weights, 'weights_two_bilstm.h5'))\n",
    "model_bilstm_two_dense.save_weights(os.path.join(path_model_weights, 'weights_bilstm_two_dense.h5'))"
   ]
  },
  {
   "cell_type": "code",
   "execution_count": null,
   "metadata": {
    "id": "GiLuH0Px3ZUQ"
   },
   "outputs": [
    {
     "ename": "FileNotFoundError",
     "evalue": "[Errno 2] No such file or directory: 'c:\\\\Users\\\\peppe\\\\UNIBO\\\\Natural Language Processing\\\\lab\\\\Assignment1\\\\models\\\\history\\\\history_bilstm.csv'",
     "output_type": "error",
     "traceback": [
      "\u001b[1;31m---------------------------------------------------------------------------\u001b[0m",
      "\u001b[1;31mFileNotFoundError\u001b[0m                         Traceback (most recent call last)",
      "\u001b[1;32mc:\\Users\\peppe\\UNIBO\\Natural Language Processing\\lab\\Assignment1\\POS_with_workingF1.ipynb Cell 48'\u001b[0m in \u001b[0;36m<cell line: 5>\u001b[1;34m()\u001b[0m\n\u001b[0;32m      <a href='vscode-notebook-cell:/c%3A/Users/peppe/UNIBO/Natural%20Language%20Processing/lab/Assignment1/POS_with_workingF1.ipynb#ch0000048?line=1'>2</a>\u001b[0m path_model_weights \u001b[39m=\u001b[39m os\u001b[39m.\u001b[39mpath\u001b[39m.\u001b[39mjoin(os\u001b[39m.\u001b[39mgetcwd(), \u001b[39m'\u001b[39m\u001b[39mmodels\u001b[39m\u001b[39m'\u001b[39m, \u001b[39m'\u001b[39m\u001b[39mhistory\u001b[39m\u001b[39m'\u001b[39m)\n\u001b[0;32m      <a href='vscode-notebook-cell:/c%3A/Users/peppe/UNIBO/Natural%20Language%20Processing/lab/Assignment1/POS_with_workingF1.ipynb#ch0000048?line=3'>4</a>\u001b[0m df_history_bilstm \u001b[39m=\u001b[39m pd\u001b[39m.\u001b[39mDataFrame(history_bilstm\u001b[39m.\u001b[39mhistory) \n\u001b[1;32m----> <a href='vscode-notebook-cell:/c%3A/Users/peppe/UNIBO/Natural%20Language%20Processing/lab/Assignment1/POS_with_workingF1.ipynb#ch0000048?line=4'>5</a>\u001b[0m \u001b[39mwith\u001b[39;00m \u001b[39mopen\u001b[39;49m(os\u001b[39m.\u001b[39;49mpath\u001b[39m.\u001b[39;49mjoin(path_model_weights, \u001b[39m\"\u001b[39;49m\u001b[39mhistory_bilstm.csv\u001b[39;49m\u001b[39m\"\u001b[39;49m), mode\u001b[39m=\u001b[39;49m\u001b[39m\"\u001b[39;49m\u001b[39mw\u001b[39;49m\u001b[39m\"\u001b[39;49m) \u001b[39mas\u001b[39;00m file:\n\u001b[0;32m      <a href='vscode-notebook-cell:/c%3A/Users/peppe/UNIBO/Natural%20Language%20Processing/lab/Assignment1/POS_with_workingF1.ipynb#ch0000048?line=5'>6</a>\u001b[0m     df_history_bilstm\u001b[39m.\u001b[39mto_csv(file)\n\u001b[0;32m      <a href='vscode-notebook-cell:/c%3A/Users/peppe/UNIBO/Natural%20Language%20Processing/lab/Assignment1/POS_with_workingF1.ipynb#ch0000048?line=7'>8</a>\u001b[0m df_history_bigru \u001b[39m=\u001b[39m pd\u001b[39m.\u001b[39mDataFrame(history_bigru\u001b[39m.\u001b[39mhistory)\n",
      "\u001b[1;31mFileNotFoundError\u001b[0m: [Errno 2] No such file or directory: 'c:\\\\Users\\\\peppe\\\\UNIBO\\\\Natural Language Processing\\\\lab\\\\Assignment1\\\\models\\\\history\\\\history_bilstm.csv'"
     ]
    }
   ],
   "source": [
    "# convert the history.history dict to a pandas DataFrame: \n",
    "path_model_weights = os.path.join(os.getcwd(), 'models_f1', 'history')\n",
    "    \n",
    "df_history_bilstm = pd.DataFrame(history_bilstm.history) \n",
    "with open(os.path.join(path_model_weights, \"history_bilstm.csv\"), mode=\"w\") as file:\n",
    "    df_history_bilstm.to_csv(file)\n",
    "\n",
    "df_history_bigru = pd.DataFrame(history_bigru.history)\n",
    "with open(os.path.join(path_model_weights, \"history_bigru.csv\"), mode=\"w\") as file:\n",
    "    df_history_bigru.to_csv(file)\n",
    "\n",
    "df_history_two_bilstm = pd.DataFrame(history_two_bilstm.history)\n",
    "with open(os.path.join(path_model_weights, \"history_two_bilstm.csv\"), mode=\"w\") as file:\n",
    "    df_history_two_bilstm.to_csv(file)\n",
    "\n",
    "df_history_bilstm_two_dense = pd.DataFrame(history_bilstm_two_dense.history)\n",
    "with open(os.path.join(path_model_weights, \"history_bilstm_two_dense.csv\"), mode=\"w\") as file:\n",
    "    df_history_bilstm_two_dense.to_csv(file)"
   ]
  },
  {
   "cell_type": "markdown",
   "metadata": {
    "id": "qQy5JgGT3ZUQ"
   },
   "source": [
    "Read weights"
   ]
  },
  {
   "cell_type": "code",
   "execution_count": null,
   "metadata": {
    "id": "_puUbUNv3ZUQ"
   },
   "outputs": [],
   "source": [
    "# Restore the weights\n",
    "path_model_weights = os.path.join(os.getcwd(), 'models_f1', 'weights')\n",
    "model_bilstm.load_weights(os.path.join(path_model_weights, 'weights_bilstm.h5'))\n",
    "model_bigru.load_weights(os.path.join(path_model_weights, 'weights_bigru.h5'))\n",
    "model_two_bilstm.load_weights(os.path.join(path_model_weights, 'weights_two_bilstm.h5'))\n",
    "model_bilstm_two_dense.load_weights(os.path.join(path_model_weights, 'weights_bilstm_two_dense.h5'))"
   ]
  },
  {
   "cell_type": "markdown",
   "metadata": {
    "id": "ab9ETsbC2Q82"
   },
   "source": [
    "### 2.4 History of the training\n",
    "Plot metrics evolution for each epoch during the training"
   ]
  },
  {
   "cell_type": "code",
   "execution_count": 36,
   "metadata": {
    "id": "25YBLK3E2R6m"
   },
   "outputs": [],
   "source": [
    "def plot_history(models_history, keys, model_names=[], labels=(\"epochs\", \"metrics\"), figsize=(10,5), cmap='rainbow'):\n",
    "    \"\"\"\n",
    "    Plot the history of the metrics in the history dictionary for each model.\n",
    "        :param models_history: array of dictionary of the metric history for each model\n",
    "        :param keys: list of keys of the metrics to plot\n",
    "        :param model_names: list of names of the models\n",
    "        :param labels: list of labels of the axes\n",
    "        :param figsize: size of the figure\n",
    "        :param cmap: color map used for the plot\n",
    "    \"\"\"\n",
    "\n",
    "    # maps each model to a distinct RGB color\n",
    "    cmap = plt.cm.get_cmap(cmap, len(models_history))\n",
    "\n",
    "    \n",
    "    fig = plt.figure(figsize=figsize)\n",
    "\n",
    "    # for each model trained\n",
    "    for i, history in enumerate(models_history):\n",
    "        # take all pairs of training and val metrics\n",
    "        for j in range(0, len(keys), 2):\n",
    "            metric, val_metric = keys[j], keys[j+1]\n",
    "            \n",
    "            plt.plot(history[metric], label=f\"{model_names[i]} {metric}\", linestyle=\"solid\", color=cmap(i))\n",
    "            plt.plot(history[val_metric],  label=f\"{model_names[i]} {val_metric}\", linestyle=\"--\",  color=cmap(i))\n",
    "        \n",
    "    plt.xlabel(labels[0])\n",
    "    plt.ylabel(labels[1])\n",
    "\n",
    "    # Adding legend\n",
    "    plt.legend(\n",
    "          title =\"Legend\",\n",
    "          loc =\"upper left\",\n",
    "          bbox_to_anchor =(1.0, 0, 0.5, 1))\n",
    "    plt.title(\"Training history\")\n",
    "    plt.grid(linestyle='--', linewidth=1)\n",
    "    plt.show()"
   ]
  },
  {
   "cell_type": "code",
   "execution_count": 37,
   "metadata": {
    "id": "Ca9TMoj42VgT"
   },
   "outputs": [
    {
     "data": {
      "image/png": "[encoded data removed]",
      "text/plain": [
       "<Figure size 1080x504 with 1 Axes>"
      ]
     },
     "metadata": {
      "needs_background": "light"
     },
     "output_type": "display_data"
    },
    {
     "data": {
      "image/png": "[encoded data removed]",
      "text/plain": [
       "<Figure size 1080x504 with 1 Axes>"
      ]
     },
     "metadata": {
      "needs_background": "light"
     },
     "output_type": "display_data"
    }
   ],
   "source": [
    "models_history = [history_bilstm.history, history_bigru.history, history_two_bilstm.history, history_bilstm_two_dense.history]\n",
    "model_names = [\"BiLSTM\", \"BiGRU\", \"2 BiLSTM\", \"BiLSTM + 2 Dense\"]\n",
    "plot_history(models_history, keys=['loss', 'val_loss'], model_names=model_names, labels=(\"epochs\", \"loss\"), figsize=(15,7),  cmap='bwr')\n",
    "plot_history(models_history, keys=['f1_with_tfa', 'val_f1_with_tfa'], model_names=model_names, labels=(\"epochs\", \"f1 score\"), figsize=(15,7),  cmap='bwr')"
   ]
  },
  {
   "cell_type": "markdown",
   "metadata": {
    "id": "ZmIWLatvkqzt"
   },
   "source": [
    "## 3. Evaluation"
   ]
  },
  {
   "cell_type": "code",
   "execution_count": 26,
   "metadata": {
    "collapsed": false,
    "pycharm": {
     "name": "#%%\n"
    }
   },
   "outputs": [],
   "source": [
    "def adapt_output_for_evaluation(y_true, y_pred):\n",
    "  \"\"\"\n",
    "  given true outputs and predicted ones, this function returns\n",
    "  both of them in 1D and as classes and not probability distributions\n",
    "  \"\"\"\n",
    "  len_sentence = y_pred.shape[1]\n",
    "  num_sentences = y_pred.shape[0]\n",
    "  pred_val = np.empty((num_sentences, len_sentence))\n",
    "  true_val = np.empty((num_sentences, len_sentence))\n",
    "  # assign label with the highest probability\n",
    "  for i in range(num_sentences):\n",
    "      for j in range(len_sentence):\n",
    "          pred_val[i,j] = np.argmax(y_pred[i,j,:])\n",
    "          true_val[i,j] = np.argmax(y_true[i,j,:])\n",
    "  # flatten the numpy array to have a 1D array\n",
    "  true_val = true_val.flatten()\n",
    "  pred_val = pred_val.flatten()\n",
    "  return true_val, pred_val"
   ]
  },
  {
   "cell_type": "code",
   "execution_count": 27,
   "metadata": {
    "collapsed": false,
    "pycharm": {
     "name": "#%%\n"
    }
   },
   "outputs": [],
   "source": [
    "def show_classification_report(model, X_test, y_test, labels, names, sorted_by=None, ascending=True):\n",
    "  \"\"\"\n",
    "  Show classification report using only classes in names\n",
    "  \"\"\"\n",
    "  raw_y_true = np.array(y_test)\n",
    "  raw_y_pred = model.predict(X_test)\n",
    "  y_true, y_pred = adapt_output_for_evaluation(raw_y_true, raw_y_pred)\n",
    "  dictionary =  classification_report(y_true, y_pred, labels=labels, target_names=names, output_dict=True, zero_division=0)\n",
    "  # global performance\n",
    "  keys = ['weighted avg', 'micro avg', 'macro avg']\n",
    "  global_dict = {key: dictionary[key] for key in keys}\n",
    "  for key in keys:\n",
    "    del dictionary[key]\n",
    "\n",
    "  df = pd.DataFrame.from_dict(dictionary).transpose().round(2)\n",
    "  if sorted_by:\n",
    "    df.sort_values(by=sorted_by, ascending=ascending, inplace=True)\n",
    "  print(df)\n",
    "\n",
    "  print(\"\\n\\n\")\n",
    "\n",
    "  df_glob = pd.DataFrame.from_dict(global_dict).transpose().round(2)\n",
    "  print(df_glob)"
   ]
  },
  {
   "cell_type": "code",
   "execution_count": 28,
   "metadata": {
    "id": "Q71LkwAPkqzt"
   },
   "outputs": [],
   "source": [
    "def evaluate_model(model, X_test, y_test, labels):\n",
    "    \"\"\"\n",
    "    given a trained model and a test set returns the f-score and the confusion matrix\n",
    "    taking into account only classes in labels\n",
    "    \"\"\"\n",
    "    raw_y_true = np.array(y_test)\n",
    "    raw_y_pred = model.predict(X_test)\n",
    "    y_true, y_pred = adapt_output_for_evaluation(raw_y_true, raw_y_pred)\n",
    "    # show confusion matrix\n",
    "    conf_matrix = confusion_matrix(y_true, y_pred, labels=labels)\n",
    "    disp = ConfusionMatrixDisplay(conf_matrix)\n",
    "    fig, ax = plt.subplots(figsize=(10,10))\n",
    "    disp.plot(ax=ax)\n",
    "    # f1 score\n",
    "    print(\"F score:\\n-------------------------------\\n\")\n",
    "    print(sklearn.metrics.f1_score(y_true, y_pred, labels=labels, average='macro', zero_division=0))"
   ]
  },
  {
   "cell_type": "code",
   "execution_count": 29,
   "metadata": {
    "id": "ua2c1KdCkqzt"
   },
   "outputs": [
    {
     "name": "stdout",
     "output_type": "stream",
     "text": [
      "F score:\n",
      "-------------------------------\n",
      "\n",
      "0.6132909012850066\n"
     ]
    },
    {
     "data": {
      "image/png": "[encoded data removed]",
      "text/plain": [
       "<Figure size 720x720 with 2 Axes>"
      ]
     },
     "metadata": {
      "needs_background": "light"
     },
     "output_type": "display_data"
    }
   ],
   "source": [
    "punctuation_indexes = [0, 1, 2, 3, 4, 5, 6, 7, 16, 30, 43]\n",
    "classes = target_vectorizer.get_classes()\n",
    "valid_labels = list(set(range(len(classes))) - set(punctuation_indexes))\n",
    "\n",
    "# confusion matrix and global f1 score\n",
    "evaluate_model(model_bigru, X_test, y_test, valid_labels)"
   ]
  },
  {
   "cell_type": "code",
   "execution_count": 30,
   "metadata": {
    "collapsed": false,
    "pycharm": {
     "name": "#%%\n"
    }
   },
   "outputs": [
    {
     "name": "stdout",
     "output_type": "stream",
     "text": [
      "      precision  recall  f1-score  support\n",
      "``         1.00    0.98      0.99     98.0\n",
      "POS        0.98    1.00      0.99    244.0\n",
      "TO         0.99    0.99      0.99    560.0\n",
      "PRP$       0.95    0.99      0.97    148.0\n",
      "DT         0.95    0.97      0.96   1988.0\n",
      "CC         1.00    0.91      0.95    541.0\n",
      "MD         0.89    0.98      0.94    245.0\n",
      "IN         0.94    0.92      0.93   2460.0\n",
      "PRP        0.88    0.95      0.91    265.0\n",
      "VBZ        0.89    0.89      0.89    390.0\n",
      "WDT        0.82    0.96      0.88    124.0\n",
      "CD         0.91    0.86      0.88   1271.0\n",
      "VB         0.84    0.94      0.88    602.0\n",
      "WP         1.00    0.77      0.87     30.0\n",
      "VBD        0.90    0.81      0.85    964.0\n",
      "NN         0.76    0.82      0.79   3563.0\n",
      "NNS        0.80    0.77      0.78   1452.0\n",
      "NNP        0.80    0.75      0.77   2225.0\n",
      "VBP        0.72    0.76      0.74    196.0\n",
      "VBN        0.73    0.61      0.67    548.0\n",
      "JJ         0.60    0.72      0.65   1405.0\n",
      "EX         0.67    0.57      0.62     14.0\n",
      "RB         0.58    0.66      0.62    599.0\n",
      "VBG        0.72    0.48      0.58    321.0\n",
      "JJR        0.65    0.46      0.54    109.0\n",
      "RBR        0.23    0.16      0.19     19.0\n",
      "NNPS       0.50    0.01      0.02     83.0\n",
      "UH         0.00    0.00      0.00      0.0\n",
      "SYM        0.00    0.00      0.00      0.0\n",
      "RBS        0.00    0.00      0.00      6.0\n",
      "PDT        0.00    0.00      0.00      9.0\n",
      "LS         0.00    0.00      0.00      0.0\n",
      "WP$        0.00    0.00      0.00      5.0\n",
      "FW         0.00    0.00      0.00      0.0\n",
      "\n",
      "\n",
      "\n",
      "              precision  recall  f1-score  support\n",
      "weighted avg       0.83    0.83      0.83  20484.0\n",
      "micro avg          0.83    0.83      0.83  20484.0\n",
      "macro avg          0.64    0.61      0.61  20484.0\n"
     ]
    }
   ],
   "source": [
    "# classification report using only meaningful classes\n",
    "meaningful_classes = classes[valid_labels]\n",
    "show_classification_report(model_bigru, X_test, y_test, valid_labels, meaningful_classes, sorted_by=['f1-score'], ascending=False)"
   ]
  },
  {
   "cell_type": "code",
   "execution_count": 31,
   "metadata": {
    "id": "sFaG0yb4kqzu"
   },
   "outputs": [
    {
     "name": "stdout",
     "output_type": "stream",
     "text": [
      "Original POS tagging:  ['IN' 'DT' 'CD' 'IN' 'CD' ',' 'DT' 'CD' 'CD' 'NNS' 'VBD' 'DT' 'JJ' 'NN'\n",
      " 'NN' '-LRB-' 'NNP' '-RRB-' 'TO' 'VB' 'NNS' 'CC' 'NN' 'NN' '.']\n",
      "Predicted POS tagging:  ['IN' 'DT' 'NN' 'IN' 'CD' ',' 'RB' 'CD' 'CD' 'NNS' 'VBD' 'DT' 'JJ' 'NN'\n",
      " '-LRB-' '-LRB-' 'NNP' '-RRB-' 'TO' 'VB' 'NNS' 'CC' 'JJ' 'NN' '.']\n"
     ]
    }
   ],
   "source": [
    "i_test = 2  # change this to see the prediction for a different sentence\n",
    "\n",
    "print(\"Original POS tagging: \",target_vectorizer.inverse_transform([y_test[i_test]])[0])\n",
    "\n",
    "raw_y_pred = model_bigru.predict(np.array([X_test[i_test]]))\n",
    "# shape of the output is doc x len_sen x classes\n",
    "# argmax for label predictions\n",
    "\n",
    "print(\"Predicted POS tagging: \",target_vectorizer.inverse_transform_probabilities(raw_y_pred)[0])"
   ]
  }
 ],
 "metadata": {
  "accelerator": "GPU",
  "colab": {
   "collapsed_sections": [],
   "include_colab_link": true,
   "name": "Copy of POS_tagging.ipynb",
   "provenance": []
  },
  "interpreter": {
   "hash": "63e28586807c6502c782d898cf9a0cc5787bb3d77952b17b51ec8bdcd4044a3d"
  },
  "kernelspec": {
   "display_name": "Python 3",
   "language": "python",
   "name": "python3"
  },
  "language_info": {
   "codemirror_mode": {
    "name": "ipython",
    "version": 3
   },
   "file_extension": ".py",
   "mimetype": "text/x-python",
   "name": "python",
   "nbconvert_exporter": "python",
   "pygments_lexer": "ipython3",
   "version": "3.9.7"
  }
 },
 "nbformat": 4,
 "nbformat_minor": 0
}

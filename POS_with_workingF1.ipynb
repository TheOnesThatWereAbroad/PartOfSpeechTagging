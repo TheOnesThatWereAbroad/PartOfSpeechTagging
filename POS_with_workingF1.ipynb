{
 "cells": [
  {
   "cell_type": "markdown",
   "metadata": {
    "colab_type": "text",
    "id": "view-in-github"
   },
   "source": [
    "<a href=\"https://colab.research.google.com/github/TheOnesThatWereAbroad/Assignment1/blob/main/POS_with_workingF1.ipynb\" target=\"_parent\"><img src=\"https://colab.research.google.com/assets/colab-badge.svg\" alt=\"Open In Colab\"/></a>"
   ]
  },
  {
   "cell_type": "markdown",
   "metadata": {
    "id": "tc8x9pA00Sfd"
   },
   "source": [
    "# Assignment 1 - POS tagging"
   ]
  },
  {
   "cell_type": "code",
   "execution_count": 1,
   "metadata": {
    "id": "jHhrkDf2kqzg"
   },
   "outputs": [],
   "source": [
    "import os\n",
    "import numpy as np\n",
    "import matplotlib.pyplot as plt\n",
    "import pandas as pd\n",
    "\n",
    "import tensorflow as tf\n",
    "import tensorflow_addons as tfa\n",
    "from tensorflow import keras\n",
    "from tensorflow.keras import layers\n",
    "import tensorflow.keras.backend as K\n",
    "import keras_tuner as kt\n",
    "import sklearn\n",
    "from sklearn.metrics import confusion_matrix, ConfusionMatrixDisplay, f1_score, classification_report\n",
    "\n",
    "from data_input import DataInput\n",
    "from text_vectorizer import TextVectorizer, TargetVectorizer"
   ]
  },
  {
   "cell_type": "markdown",
   "metadata": {
    "id": "jx2qo48Ikqzi"
   },
   "source": [
    "## 1. Build a dataset"
   ]
  },
  {
   "cell_type": "markdown",
   "metadata": {
    "id": "IN34sX55kqzi"
   },
   "source": [
    "### 1.1 Dataset preparation\n",
    "For this experiment, the [Dependency Parsed Treebank](https://www.nltk.org/nltk_data/) dataset is used.\n",
    "Notice that each document is slitted into sentences, so the dimensionality of the data is more than 199 (total number of documents in the dataset)"
   ]
  },
  {
   "cell_type": "code",
   "execution_count": 2,
   "metadata": {
    "colab": {
     "base_uri": "https://localhost:8080/"
    },
    "id": "eRQ_hwv9mHtK",
    "outputId": "4f9383d0-ccf0-43e2-e206-12c0e7a79586"
   },
   "outputs": [
    {
     "name": "stdout",
     "output_type": "stream",
     "text": [
      "Train set size: 1957\n",
      "Dev set size: 979\n",
      "Test set size: 978\n"
     ]
    }
   ],
   "source": [
    "# download the dataset and split it into train, dev and test sets\n",
    "dataset = DataInput(\n",
    "        data_url=\"https://raw.githubusercontent.com/nltk/nltk_data/gh-pages/packages/corpora/dependency_treebank.zip\",\n",
    "        train_size=0.50,\n",
    "        dev_size=0.25,\n",
    "        dataset_folder=os.path.join(os.getcwd(), \"dataset\"),\n",
    "        split_into_sentences=True,\n",
    "        shuffle=False\n",
    "    )"
   ]
  },
  {
   "cell_type": "markdown",
   "metadata": {
    "id": "SGQatFzWkqzk"
   },
   "source": [
    "Pre-processing is always an important step with which start. There are a lot of pre-processing steps that we can consider, but for this experiment the only pre-processing operation performed is:\n",
    "- **to lower**, in part-of-speech tagging scenario casing of the input tokens is crucial to find the correspondent token in the embedding vocabulary"
   ]
  },
  {
   "cell_type": "code",
   "execution_count": 3,
   "metadata": {
    "id": "YbVR94oskqzk"
   },
   "outputs": [],
   "source": [
    "# do preprocessing for train, validation and test sets\n",
    "dataset.preprocessing(\"train\", to_lower=True)\n",
    "dataset.preprocessing(\"dev\", to_lower=True)\n",
    "dataset.preprocessing(\"test\", to_lower=True)\n",
    "\n",
    "# separate inputs and targets\n",
    "X_train, y_train = dataset.train\n",
    "X_dev, y_dev = dataset.dev\n",
    "X_test, y_test = dataset.test"
   ]
  },
  {
   "cell_type": "code",
   "execution_count": 4,
   "metadata": {
    "colab": {
     "base_uri": "https://localhost:8080/"
    },
    "id": "lxfgDx0jrnqV",
    "outputId": "e05c2488-baa5-405f-89df-a119da9a35be"
   },
   "outputs": [
    {
     "data": {
      "text/plain": [
       "(1957,)"
      ]
     },
     "execution_count": 4,
     "metadata": {},
     "output_type": "execute_result"
    }
   ],
   "source": [
    "dataset.train[0].shape"
   ]
  },
  {
   "cell_type": "markdown",
   "metadata": {
    "id": "IPv-M1xEmHtM"
   },
   "source": [
    "### 1.2 Dataset analysis\n",
    "Let's take a look at the dataset, to inspect the distribution of the POS tags"
   ]
  },
  {
   "cell_type": "code",
   "execution_count": 5,
   "metadata": {
    "id": "Oh9Jg3ePkqzm"
   },
   "outputs": [],
   "source": [
    "def get_occurences(data, ordered=False, exclude=[]):\n",
    "    \"\"\"\n",
    "    Get the occurences of each token in the data.\n",
    "\n",
    "    Parameters\n",
    "    ----------\n",
    "    data : list of np arrays, representing the data to get the occurences from\n",
    "    ordered : bool, if True, the occurences will be returned in descending order\n",
    "    exclude : list of strings, tokens that should not be included in the occurences\n",
    "\n",
    "    Returns\n",
    "    -------\n",
    "    occurences : dict, mapping each token to the number of occurences\n",
    "    \"\"\"\n",
    "    tokens, counts = np.unique(np.concatenate(data), return_counts=True)\n",
    "    occurences = dict(zip(tokens, counts))\n",
    "\n",
    "    if len(exclude) > 0:\n",
    "        for token in exclude:\n",
    "            if token in occurences:\n",
    "                del occurences[token]\n",
    "\n",
    "    if ordered:\n",
    "        occurences = dict(sorted(occurences.items(), key=lambda x: x[1], reverse=True))\n",
    "    return occurences\n",
    "\n",
    "# get the occurences of each POS tag in the three sets \n",
    "train_tags_occ = get_occurences(y_train, ordered=True, exclude=[])\n",
    "dev_tags_occ = get_occurences(y_dev, exclude=[])\n",
    "test_tags_occ = get_occurences(y_test, exclude=[])\n",
    "\n",
    "# build a matrix of the occurences of size (n_tags, 3)\n",
    "tags_occ = np.array([[v, dev_tags_occ[k], test_tags_occ[k]] if k in dev_tags_occ and k in test_tags_occ else [v, dev_tags_occ[k], 0] if k in dev_tags_occ else [v, 0, test_tags_occ[k]] if k in test_tags_occ else [v, 0, 0] for k, v in train_tags_occ.items()])"
   ]
  },
  {
   "cell_type": "code",
   "execution_count": 6,
   "metadata": {
    "colab": {
     "base_uri": "https://localhost:8080/",
     "height": 530
    },
    "id": "aZh5QAJIkqzn",
    "outputId": "e52bd3da-ddec-4f20-9350-18d6376fa2f9"
   },
   "outputs": [
    {
     "data": {
      "text/plain": [
       "[]"
      ]
     },
     "execution_count": 6,
     "metadata": {},
     "output_type": "execute_result"
    },
    {
     "data": {
      "image/png": "[encoded data removed]",
      "text/plain": [
       "<Figure size 1656x576 with 1 Axes>"
      ]
     },
     "metadata": {
      "needs_background": "light"
     },
     "output_type": "display_data"
    }
   ],
   "source": [
    "# plot bar chart of the occurences of each POS tag\n",
    "fig, ax = plt.subplots(1, 1, figsize=(23, 8))\n",
    "tags = list(train_tags_occ.keys())\n",
    "ax.bar(tags, tags_occ[:, 1], width=0.3, align='edge', label='dev')\n",
    "ax.bar(tags, tags_occ[:, 2], width=-0.6, align='edge', label='test')\n",
    "ax.bar(tags, tags_occ[:, 0], width=-0.3, align='edge', label='train')\n",
    "ax.set_xticks(tags)\n",
    "ax.set_xlabel('Tags')\n",
    "ax.set_ylabel('Occurences')\n",
    "ax.set_title(\"Occurences of POS tags\")\n",
    "ax.legend()\n",
    "plt.plot()"
   ]
  },
  {
   "cell_type": "code",
   "execution_count": 7,
   "metadata": {
    "colab": {
     "base_uri": "https://localhost:8080/"
    },
    "id": "QYCqD_Zpkqzo",
    "outputId": "2a55eec6-cf3b-43e5-c366-1b5aa65f9b41"
   },
   "outputs": [
    {
     "name": "stdout",
     "output_type": "stream",
     "text": [
      "The following tags (from the train set) are not in the dev set: {'SYM'}\n",
      "The following tags (from the train set) are not in the test set: {'LS', 'SYM', 'FW', 'UH'}\n"
     ]
    }
   ],
   "source": [
    "# analyze the difference between the presence of the POS tags in the train, dev and test sets\n",
    "train_tags_not_dev = set(train_tags_occ.keys()) - set(dev_tags_occ.keys())\n",
    "train_tags_not_test = set(train_tags_occ.keys()) - set(test_tags_occ.keys())\n",
    "dev_tags_not_train = set(dev_tags_occ.keys()) - set(train_tags_occ.keys())\n",
    "test_tags_not_train = set(test_tags_occ.keys()) - set(train_tags_occ.keys())\n",
    "\n",
    "if(len(train_tags_not_dev) > 0):\n",
    "    print(\"The following tags (from the train set) are not in the dev set:\", train_tags_not_dev)\n",
    "if(len(train_tags_not_test) > 0):\n",
    "    print(\"The following tags (from the train set) are not in the test set:\", train_tags_not_test)\n",
    "if(len(dev_tags_not_train) > 0):\n",
    "    print(\"The following tags (from the dev set) are not in the train set:\", dev_tags_not_train)\n",
    "if(len(test_tags_not_train) > 0):\n",
    "    print(\"The following tags (from the test set) are not in the train set:\", test_tags_not_train)"
   ]
  },
  {
   "cell_type": "markdown",
   "metadata": {
    "id": "mkIYSNxukqzo"
   },
   "source": [
    "### 1.3 GloVe embeddings vectorization\n",
    "The next step consists in downloading a pre-trained embedding model, namely GloVe. It is a techniques that tries to encoded global semantic properties based on the co-occurrence matrix.\n",
    "Three different dimensional space versions are available: 50, 100, 200.\n",
    "\n",
    "From the choosen embedding, a starting vocabulary is built.\n",
    "Then this vocabulary is enriched with the embeddings computed for the OOV words."
   ]
  },
  {
   "cell_type": "code",
   "execution_count": 8,
   "metadata": {
    "colab": {
     "base_uri": "https://localhost:8080/"
    },
    "id": "MxU2LR1Bkqzp",
    "outputId": "36824a8a-cbdd-4b55-e8d5-cbbf5d3e753c"
   },
   "outputs": [
    {
     "name": "stdout",
     "output_type": "stream",
     "text": [
      "Parsing the training set...\n",
      "Generated embeddings for 358 OOV words.\n",
      "\n",
      "Parsing the validation set...\n",
      "Generated embeddings for 131 OOV words.\n",
      "\n",
      "Parsing the test set...\n",
      "Generated embeddings for 187 OOV words.\n"
     ]
    }
   ],
   "source": [
    "# initialize the vectorizer for the input tokens to convert them to embedding vectors\n",
    "# and build the vocabulary V1 from the glove embeddings\n",
    "text_vectorizer = TextVectorizer(\n",
    "    glove_url=\"http://nlp.stanford.edu/data/glove.6B.zip\",\n",
    "    embedding_dim=100,\n",
    "    embedding_folder=os.path.join(os.getcwd(), \"glove\"),\n",
    "    max_size=dataset.max_size\n",
    ")\n",
    "\n",
    "# compute embeddings for terms (OOV1) in the training set that are out of vocabulary V1 and add them: V2=V1+OOV1\n",
    "print(\"Parsing the training set...\")\n",
    "text_vectorizer.adapt(X_train)\n",
    "# use the vocabulary V2 to convert the training set inputs into embedding vectors\n",
    "X_train = text_vectorizer.transform(X_train)\n",
    "\n",
    "# compute embeddings for terms (OOV2) in the validation set that are out of vocabulary V2 and add them: V3=V2+OOV2\n",
    "print(\"\\nParsing the validation set...\")\n",
    "text_vectorizer.adapt(X_dev)\n",
    "# use the vocabulary V3 to convert the validation set inputs into embedding vectors\n",
    "X_dev = text_vectorizer.transform(X_dev)\n",
    "\n",
    "# compute embeddings for terms (OOV3) in the test set that are out of vocabulary V3 and add them: V4=V3+OOV3\n",
    "print(\"\\nParsing the test set...\")\n",
    "text_vectorizer.adapt(X_test)\n",
    "# use the vocabulary V4 to convert the test set inputs into embedding vectors\n",
    "X_test = text_vectorizer.transform(X_test)"
   ]
  },
  {
   "cell_type": "code",
   "execution_count": 9,
   "metadata": {
    "colab": {
     "base_uri": "https://localhost:8080/"
    },
    "id": "NwDnKWdckqzp",
    "outputId": "050b5f48-b631-412e-9cde-ca22a6d787ef"
   },
   "outputs": [
    {
     "name": "stdout",
     "output_type": "stream",
     "text": [
      "Input shape: (1957, 249, 100)\n"
     ]
    }
   ],
   "source": [
    "print(f\"Input shape: {X_train.shape}\")"
   ]
  },
  {
   "cell_type": "markdown",
   "metadata": {
    "id": "tiDdPTFrkqzp"
   },
   "source": [
    "### 1.4 One-hot encoding of the targets\n",
    "Each POS tag in each set is converted using the one-hot representation"
   ]
  },
  {
   "cell_type": "code",
   "execution_count": 10,
   "metadata": {
    "id": "C37qdVk7kqzq"
   },
   "outputs": [],
   "source": [
    "# initialize the vectorizer for the target tags to convert them into one-hot representation\n",
    "target_vectorizer = TargetVectorizer(max_size=dataset.max_size)\n",
    "\n",
    "# adapt the target vectorizer with only the training set: we do not consider possible targets that are not seen in training set but they are in the dev/test set\n",
    "target_vectorizer.adapt(y_train)  \n",
    "\n",
    "# convert the targets into one-hot representation for each splitting set\n",
    "y_train = target_vectorizer.transform(y_train)\n",
    "y_dev = target_vectorizer.transform(y_dev)\n",
    "y_test = target_vectorizer.transform(y_test)\n",
    "\n",
    "n_classes = y_train[0].shape[1]"
   ]
  },
  {
   "cell_type": "code",
   "execution_count": 11,
   "metadata": {
    "colab": {
     "base_uri": "https://localhost:8080/"
    },
    "id": "qnH7e4okkqzq",
    "outputId": "c4630adf-c8bd-4021-d1dc-5798bb1fad9f"
   },
   "outputs": [
    {
     "name": "stdout",
     "output_type": "stream",
     "text": [
      "Target shape: (1957, 249, 45)\n",
      "Number of classes for one-hot encoded targets: 45\n"
     ]
    }
   ],
   "source": [
    "print(f\"Target shape: {y_train.shape}\")\n",
    "print(f\"Number of classes for one-hot encoded targets: {n_classes}\")"
   ]
  },
  {
   "cell_type": "markdown",
   "metadata": {
    "id": "khILeN7fkqzq"
   },
   "source": [
    "## 2. Training"
   ]
  },
  {
   "cell_type": "markdown",
   "metadata": {
    "id": "GZfQ0dECkqzr"
   },
   "source": [
    "### 2.1 Models definition\n",
    "We are now ready to define our neural network architectures! \n",
    "Four variants will be evaluated:\n",
    "- Bidirectional LSMT + Dense layer\n",
    "- Bidirectional GRU + Dense layer\n",
    "- Two Bidirectional LSMT + Dense layer\n",
    "- Bidirectional LSMT + Two Dense layer"
   ]
  },
  {
   "cell_type": "code",
   "execution_count": 12,
   "metadata": {
    "id": "l057_W6_87Fo"
   },
   "outputs": [],
   "source": [
    "tfa_f1 = tfa.metrics.F1Score(\n",
    "    num_classes= n_classes,\n",
    "    name = 'f1_score',\n",
    "    )\n",
    "punctuation_indices = [0, 1, 2, 3, 4, 5, 6,7, 16, 30, 43]\n",
    "\n",
    "def f1_with_tfa(y_true, y_pred):\n",
    "    y_true = tf.reshape(y_true, (-1, n_classes))\n",
    "    punctuation = tf.gather(y_true, punctuation_indices, axis=-1)\n",
    "    y_mask = tf.cast(tf.logical_not(tf.reduce_any(tf.cast(punctuation, tf.bool), axis=-1)), tf.float32)\n",
    "    y_pred = tf.reshape(y_pred, (-1, n_classes))\n",
    "    tfa_f1.update_state(y_true, y_pred, sample_weight=y_mask)\n",
    "    result = tfa_f1.result()\n",
    "    K.batch_set_value([(v, np.zeros(v.shape.as_list())) for v in tfa_f1.variables])\n",
    "    return K.sum(result)/(n_classes-len(punctuation_indices))"
   ]
  },
  {
   "cell_type": "code",
   "execution_count": 13,
   "metadata": {
    "id": "BFmjvEd_3ZUK"
   },
   "outputs": [],
   "source": [
    "def build_bilstm_model(hp):\n",
    "    \"\"\"\n",
    "    Build th Bidirectional LSMT + Dense layer model\n",
    "    \"\"\"\n",
    "    model = keras.Sequential()\n",
    "    model.add(layers.Masking(name='padding_masking', mask_value=0., input_shape=X_train.shape[1:]))\n",
    "    model.add(layers.Bidirectional(layers.LSTM(hp.Choice('units', [64, 128, 256]), return_sequences=True, kernel_regularizer=keras.regularizers.l2(0.01)), name=\"bilstm_1\"))\n",
    "    model.add(layers.Dropout(hp.Choice('dropout', [0.0, 0.1, 0.2, 0.3, 0.4, 0.5])))\n",
    "    model.add(layers.Dense(n_classes, activation=\"softmax\", name=\"dense_1\"))\n",
    "    model.compile(loss=\"categorical_crossentropy\", \n",
    "                  optimizer=keras.optimizers.Adam(hp.Choice('learning_rate', values=[1e-2, 1e-3, 1e-4])),\n",
    "                  metrics=[f1_with_tfa])\n",
    "    return model\n",
    "\n",
    "def build_bigru_model(hp):\n",
    "    \"\"\"\n",
    "    Build th Bidirectional GRU + Dense layer model\n",
    "    \"\"\"\n",
    "    model = keras.Sequential()\n",
    "    model.add(layers.Masking(name='padding_masking', mask_value=0., input_shape=X_train.shape[1:]))\n",
    "    model.add(layers.Bidirectional(layers.GRU(hp.Choice('units', [64, 128, 256]), return_sequences=True, kernel_regularizer=keras.regularizers.l2(0.01)), name=\"gru_1\"))\n",
    "    model.add(layers.Dropout(hp.Choice('dropout', [0.0, 0.1, 0.2, 0.3, 0.4, 0.5])))\n",
    "    model.add(layers.Dense(n_classes, activation=\"softmax\", name=\"dense_1\"))\n",
    "    model.compile(loss=\"categorical_crossentropy\", \n",
    "                  optimizer=keras.optimizers.Adam(hp.Choice('learning_rate', values=[1e-2, 1e-3, 1e-4])),\n",
    "                  metrics=[f1_with_tfa])\n",
    "    return model\n",
    "\n",
    "def build_two_bilstm_model(hp):\n",
    "    \"\"\"\n",
    "    Build the Two Bidirectional LSTM + Dense layer model\n",
    "    \"\"\"\n",
    "    model = keras.Sequential()\n",
    "    model.add(layers.Masking(name='padding_masking', mask_value=0., input_shape=X_train.shape[1:]))\n",
    "    model.add(layers.Bidirectional(layers.LSTM(hp.Choice('units1', [64, 128, 256]), return_sequences=True, kernel_regularizer=keras.regularizers.l2(0.01)), name=\"bilstm_1\"))\n",
    "    model.add(layers.Bidirectional(layers.LSTM(hp.Choice('units2', [64, 128, 256]), return_sequences=True, kernel_regularizer=keras.regularizers.l2(0.01)), name=\"bilstm_2\"))\n",
    "    model.add(layers.Dropout(hp.Choice('dropout', [0.0, 0.1, 0.2, 0.3, 0.4, 0.5])))\n",
    "    model.add(layers.Dense(n_classes, activation=\"softmax\", name=\"dense_1\"))\n",
    "    model.compile(loss=\"categorical_crossentropy\", \n",
    "                  optimizer=keras.optimizers.Adam(hp.Choice('learning_rate', values=[1e-2, 1e-3, 1e-4])),\n",
    "                  metrics=[f1_with_tfa])\n",
    "    return model\n",
    "\n",
    "def build_bilstm_two_dense_model(hp):\n",
    "    model = keras.Sequential()\n",
    "    model.add(layers.Masking(name='padding_masking', mask_value=0., input_shape=X_train.shape[1:]))\n",
    "    model.add(layers.Bidirectional(layers.LSTM(hp.Choice('units1', [64, 128, 256]), return_sequences=True, kernel_regularizer=keras.regularizers.l2(0.01)), name=\"bilstm_1\"))\n",
    "    model.add(layers.Dropout(hp.Choice('dropout1', [0.0, 0.1, 0.2, 0.3, 0.4, 0.5])))\n",
    "    model.add(layers.Dense(hp.Choice('units2', [64, 128, 256]), activation=\"relu\", name=\"dense_1\", kernel_regularizer=keras.regularizers.l2(0.01)))\n",
    "    model.add(layers.Dropout(hp.Choice('dropout2', [0.0, 0.1, 0.2, 0.3, 0.4, 0.5])))\n",
    "    model.add(layers.Dense(n_classes, activation=\"softmax\", name=\"dense_2\"))\n",
    "    model.compile(loss=\"categorical_crossentropy\", \n",
    "                  optimizer=keras.optimizers.Adam(hp.Choice('learning_rate', values=[1e-2, 1e-3, 1e-4])),\n",
    "                  metrics=[f1_with_tfa])\n",
    "    return model"
   ]
  },
  {
   "cell_type": "markdown",
   "metadata": {
    "id": "L0R3goy83ZUK"
   },
   "source": [
    "### 2.2 Hyperparameter tuning\n",
    "Let's do a tuning of the hyperparameters for each variant of the architecture"
   ]
  },
  {
   "cell_type": "code",
   "execution_count": 14,
   "metadata": {
    "id": "n5sOwkYf3ZUK"
   },
   "outputs": [],
   "source": [
    "epochs_tuning = 100\n",
    "batch_size_tuning = 64"
   ]
  },
  {
   "cell_type": "markdown",
   "metadata": {
    "id": "3sErnjwr3ZUL"
   },
   "source": [
    "Model 1: Bidirectional LSMT + Dense layer variant tuning\n"
   ]
  },
  {
   "cell_type": "code",
   "execution_count": 15,
   "metadata": {
    "colab": {
     "base_uri": "https://localhost:8080/"
    },
    "id": "b3vU8lwL3ZUL",
    "outputId": "70b39dea-36b4-4c67-f6ed-904b887f50c4"
   },
   "outputs": [
    {
     "name": "stdout",
     "output_type": "stream",
     "text": [
      "Trial 51 Complete [00h 00m 13s]\n",
      "val_f1_with_tfa: 0.016184546053409576\n",
      "\n",
      "Best val_f1_with_tfa So Far: 0.3293497860431671\n",
      "Total elapsed time: 00h 11m 43s\n",
      "INFO:tensorflow:Oracle triggered exit\n",
      "The hyperparameter search is complete.\n",
      "The optimal number of units in the LSTM layer is 256.\n",
      "The optimal rate for Dropout layer is 0.0.\n",
      "The optimal learning rate for the optimizer is 0.01.\n"
     ]
    }
   ],
   "source": [
    "# tune the hyperparameters of the first model\n",
    "tuner_bilstm = kt.Hyperband(build_bilstm_model,\n",
    "                     objective=kt.Objective(\"val_f1_with_tfa\", direction=\"max\"),\n",
    "                     max_epochs=epochs_tuning,\n",
    "                     #overwrite=True,\n",
    "                     directory=\"tuner\",\n",
    "                     project_name=\"tuner_bilstm\")\n",
    "tuner_bilstm.search(X_train, y_train, epochs=epochs_tuning, batch_size=batch_size_tuning, validation_data=(X_dev, y_dev))\n",
    "best_hps_bilstm = tuner_bilstm.get_best_hyperparameters()[0]\n",
    "\n",
    "print(f\"The hyperparameter search is complete.\\n\" \n",
    "      f\"The optimal number of units in the LSTM layer is {best_hps_bilstm.get('units')}.\\n\" \n",
    "      f\"The optimal rate for Dropout layer is {best_hps_bilstm.get('dropout')}.\\n\" \n",
    "      f\"The optimal learning rate for the optimizer is {best_hps_bilstm.get('learning_rate')}.\")"
   ]
  },
  {
   "cell_type": "markdown",
   "metadata": {
    "id": "vPb8yMfz3ZUL"
   },
   "source": [
    "Model 2: Bidirectional GRU + Dense layer variant tuning"
   ]
  },
  {
   "cell_type": "code",
   "execution_count": 16,
   "metadata": {
    "colab": {
     "base_uri": "https://localhost:8080/"
    },
    "id": "h_tLVIkM3ZUL",
    "outputId": "48f180a8-7c0f-4845-c927-8e0cd8505e95"
   },
   "outputs": [
    {
     "name": "stdout",
     "output_type": "stream",
     "text": [
      "Trial 47 Complete [00h 00m 14s]\n",
      "val_f1_with_tfa: 0.4459829032421112\n",
      "\n",
      "Best val_f1_with_tfa So Far: 0.4689154028892517\n",
      "Total elapsed time: 00h 10m 11s\n",
      "INFO:tensorflow:Oracle triggered exit\n",
      "The hyperparameter search is complete.\n",
      "The optimal number of units in the GRU layer is 256.\n",
      "The optimal rate for Dropout layer is 0.1.\n",
      "The optimal learning rate for the optimizer is 0.01.\n"
     ]
    }
   ],
   "source": [
    "# tune the hyperparameters of the second model\n",
    "tuner_bigru = kt.Hyperband(build_bigru_model,\n",
    "                     objective=kt.Objective(\"val_f1_with_tfa\", direction=\"max\"),\n",
    "                     max_epochs=epochs_tuning,\n",
    "                     #overwrite=True,\n",
    "                     directory=\"tuner\",\n",
    "                     project_name=\"tuner_bigru\")\n",
    "tuner_bigru.search(X_train, y_train, epochs=epochs_tuning, batch_size=batch_size_tuning, validation_data=(X_dev, y_dev))\n",
    "best_hps_bigru = tuner_bigru.get_best_hyperparameters()[0]\n",
    "\n",
    "print(f\"The hyperparameter search is complete.\\n\" \n",
    "      f\"The optimal number of units in the GRU layer is {best_hps_bigru.get('units')}.\\n\" \n",
    "      f\"The optimal rate for Dropout layer is {best_hps_bigru.get('dropout')}.\\n\" \n",
    "      f\"The optimal learning rate for the optimizer is {best_hps_bigru.get('learning_rate')}.\")"
   ]
  },
  {
   "cell_type": "markdown",
   "metadata": {
    "id": "lIp3D6c-3ZUM"
   },
   "source": [
    "Model 3: Two Bidirectional LSMT + Dense layer variant tuning"
   ]
  },
  {
   "cell_type": "code",
   "execution_count": 17,
   "metadata": {
    "colab": {
     "base_uri": "https://localhost:8080/"
    },
    "id": "VXxWaco93ZUM",
    "outputId": "ae82257e-b209-490d-982d-4f3fb5156747"
   },
   "outputs": [
    {
     "name": "stdout",
     "output_type": "stream",
     "text": [
      "Trial 161 Complete [00h 00m 29s]\n",
      "val_f1_with_tfa: 0.024244248867034912\n",
      "\n",
      "Best val_f1_with_tfa So Far: 0.49006524682044983\n",
      "Total elapsed time: 01h 22m 18s\n",
      "INFO:tensorflow:Oracle triggered exit\n",
      "The hyperparameter search is complete.\n",
      "The optimal number of units in the first LSTM layer is 128.\n",
      "The optimal number of units in the second LSTM layer is 256.\n",
      "The optimal rate for Dropout layer is 0.4.\n",
      "The optimal learning rate for the optimizer is 0.001.\n"
     ]
    }
   ],
   "source": [
    "# tune the hyperparameters of the third model\n",
    "tuner_two_bilstm = kt.Hyperband(build_two_bilstm_model,\n",
    "                     objective=kt.Objective(\"val_f1_with_tfa\", direction=\"max\"),\n",
    "                     max_epochs=epochs_tuning,\n",
    "                     #overwrite=True,\n",
    "                     directory=\"tuner\",\n",
    "                     project_name=\"tuner_two_bilstm\")\n",
    "tuner_two_bilstm.search(X_train, y_train, epochs=epochs_tuning, batch_size=batch_size_tuning, validation_data=(X_dev, y_dev))\n",
    "best_hps_two_bilstm = tuner_two_bilstm.get_best_hyperparameters()[0]\n",
    "\n",
    "print(f\"The hyperparameter search is complete.\\n\" \n",
    "      f\"The optimal number of units in the first LSTM layer is {best_hps_two_bilstm.get('units1')}.\\n\" \n",
    "      f\"The optimal number of units in the second LSTM layer is {best_hps_two_bilstm.get('units2')}.\\n\" \n",
    "      f\"The optimal rate for Dropout layer is {best_hps_two_bilstm.get('dropout')}.\\n\" \n",
    "      f\"The optimal learning rate for the optimizer is {best_hps_two_bilstm.get('learning_rate')}.\")"
   ]
  },
  {
   "cell_type": "markdown",
   "metadata": {
    "id": "kMNWw_i33ZUM"
   },
   "source": [
    "Model 4: Bidirectional LSMT + two Dense layer variant tuning"
   ]
  },
  {
   "cell_type": "code",
   "execution_count": 18,
   "metadata": {
    "id": "pHSGHizM3ZUM"
   },
   "outputs": [
    {
     "name": "stdout",
     "output_type": "stream",
     "text": [
      "Trial 254 Complete [00h 02m 56s]\n",
      "val_f1_with_tfa: 0.1206110268831253\n",
      "\n",
      "Best val_f1_with_tfa So Far: 0.4763255715370178\n",
      "Total elapsed time: 01h 52m 40s\n",
      "INFO:tensorflow:Oracle triggered exit\n",
      "The hyperparameter search is complete.\n",
      "The optimal number of units in the LSTM layer is 64.\n",
      "The optimal rate for the first Dropout layer is 0.0.\n",
      "The optimal number of units in first densely-connected layer is 256.\n",
      "The optimal rate for the second Dropout layer is 0.2.\n",
      "The optimal learning rate for the optimizer is 0.01.\n"
     ]
    }
   ],
   "source": [
    "# tune the hyperparameters of the fourth model\n",
    "tuner_bilstm_two_dense = kt.Hyperband(build_bilstm_two_dense_model,\n",
    "                     objective=kt.Objective(\"val_f1_with_tfa\", direction=\"max\"),\n",
    "                     max_epochs=epochs_tuning,\n",
    "                     #overwrite=True,\n",
    "                     directory=\"tuner\",\n",
    "                     project_name=\"tuner_bilstm_two_dense\")\n",
    "tuner_bilstm_two_dense.search(X_train, y_train, epochs=epochs_tuning, batch_size=batch_size_tuning, validation_data=(X_dev, y_dev))\n",
    "best_hps_bilstm_two_dense = tuner_bilstm_two_dense.get_best_hyperparameters()[0]\n",
    "\n",
    "print(f\"The hyperparameter search is complete.\\n\" \n",
    "      f\"The optimal number of units in the LSTM layer is {best_hps_bilstm_two_dense.get('units1')}.\\n\" \n",
    "      f\"The optimal rate for the first Dropout layer is {best_hps_bilstm_two_dense.get('dropout1')}.\\n\" \n",
    "      f\"The optimal number of units in first densely-connected layer is {best_hps_bilstm_two_dense.get('units2')}.\\n\" \n",
    "      f\"The optimal rate for the second Dropout layer is {best_hps_bilstm_two_dense.get('dropout2')}.\\n\"\n",
    "      f\"The optimal learning rate for the optimizer is {best_hps_bilstm_two_dense.get('learning_rate')}.\")"
   ]
  },
  {
   "cell_type": "markdown",
   "metadata": {
    "id": "kWdZM3rskqzr"
   },
   "source": [
    "### 2.3 Model training"
   ]
  },
  {
   "cell_type": "code",
   "execution_count": 36,
   "metadata": {
    "id": "HGdlAMOu3ZUN"
   },
   "outputs": [],
   "source": [
    "epochs_training = 100\n",
    "batch_size_training = 64\n",
    "callbacks_training = [keras.callbacks.EarlyStopping(monitor='val_f1_with_tfa', patience=10, mode=\"max\", restore_best_weights=True)]"
   ]
  },
  {
   "cell_type": "code",
   "execution_count": 20,
   "metadata": {
    "id": "1CkJaP7_3ZUN"
   },
   "outputs": [],
   "source": [
    "def create_model(layers_info, compile_info):\n",
    "    \"\"\"\n",
    "    Create a Keras model given a list of layer information\n",
    "\n",
    "    Parameters\n",
    "    ----------\n",
    "    layers_info : a list of dictionaries, one for each layer\n",
    "    compile_info : dictionary containing compile information\n",
    "\n",
    "    Returns\n",
    "    -------\n",
    "    model: the built keras sequential model\n",
    "    \"\"\"\n",
    "\n",
    "    model = keras.Sequential()\n",
    "    for info in layers_info:\n",
    "        layer = info['layer_name'](**{key: value for key, value in info.items() if key != 'layer_name'})\n",
    "        model.add(layer)\n",
    "\n",
    "    # Compile\n",
    "    model.compile(**compile_info)\n",
    "\n",
    "    return model"
   ]
  },
  {
   "cell_type": "markdown",
   "metadata": {
    "id": "XNvSu_g23ZUN"
   },
   "source": [
    "Model 1: Bidirectional LSMT + Dense layer variant training"
   ]
  },
  {
   "cell_type": "code",
   "execution_count": 21,
   "metadata": {
    "id": "f57Z0qk03ZUO"
   },
   "outputs": [
    {
     "name": "stdout",
     "output_type": "stream",
     "text": [
      "Model: \"sequential_1\"\n",
      "_________________________________________________________________\n",
      " Layer (type)                Output Shape              Param #   \n",
      "=================================================================\n",
      " padding_masking (Masking)   (None, 249, 100)          0         \n",
      "                                                                 \n",
      " bilstm_1 (Bidirectional)    (None, 249, 512)          731136    \n",
      "                                                                 \n",
      " dropout_1 (Dropout)         (None, 249, 512)          0         \n",
      "                                                                 \n",
      " dense_1 (Dense)             (None, 249, 45)           23085     \n",
      "                                                                 \n",
      "=================================================================\n",
      "Total params: 754,221\n",
      "Trainable params: 754,221\n",
      "Non-trainable params: 0\n",
      "_________________________________________________________________\n",
      "Epoch 1/100\n",
      "31/31 [==============================] - 10s 125ms/step - loss: 0.7151 - categorical_accuracy: 0.2557 - f1_with_tfa: 0.0411 - val_loss: 0.2770 - val_categorical_accuracy: 0.4303 - val_f1_with_tfa: 0.1167\n",
      "Epoch 2/100\n",
      "31/31 [==============================] - 2s 57ms/step - loss: 0.1940 - categorical_accuracy: 0.5672 - f1_with_tfa: 0.2270 - val_loss: 0.1570 - val_categorical_accuracy: 0.6308 - val_f1_with_tfa: 0.3314\n",
      "Epoch 3/100\n",
      "31/31 [==============================] - 2s 51ms/step - loss: 0.1335 - categorical_accuracy: 0.7174 - f1_with_tfa: 0.4078 - val_loss: 0.1245 - val_categorical_accuracy: 0.7487 - val_f1_with_tfa: 0.4501\n",
      "Epoch 4/100\n",
      "31/31 [==============================] - 2s 51ms/step - loss: 0.1113 - categorical_accuracy: 0.7738 - f1_with_tfa: 0.4737 - val_loss: 0.1146 - val_categorical_accuracy: 0.7459 - val_f1_with_tfa: 0.4535\n",
      "Epoch 5/100\n",
      "31/31 [==============================] - 2s 50ms/step - loss: 0.1028 - categorical_accuracy: 0.7886 - f1_with_tfa: 0.4962 - val_loss: 0.1058 - val_categorical_accuracy: 0.7855 - val_f1_with_tfa: 0.4953\n",
      "Epoch 6/100\n",
      "31/31 [==============================] - 2s 52ms/step - loss: 0.0970 - categorical_accuracy: 0.8057 - f1_with_tfa: 0.5201 - val_loss: 0.0968 - val_categorical_accuracy: 0.7998 - val_f1_with_tfa: 0.5281\n",
      "Epoch 7/100\n",
      "31/31 [==============================] - 2s 50ms/step - loss: 0.0899 - categorical_accuracy: 0.8191 - f1_with_tfa: 0.5478 - val_loss: 0.0908 - val_categorical_accuracy: 0.8108 - val_f1_with_tfa: 0.5403\n",
      "Epoch 8/100\n",
      "31/31 [==============================] - 2s 51ms/step - loss: 0.0855 - categorical_accuracy: 0.8268 - f1_with_tfa: 0.5655 - val_loss: 0.0896 - val_categorical_accuracy: 0.8164 - val_f1_with_tfa: 0.5646\n",
      "Epoch 9/100\n",
      "31/31 [==============================] - 2s 50ms/step - loss: 0.0817 - categorical_accuracy: 0.8376 - f1_with_tfa: 0.5772 - val_loss: 0.0885 - val_categorical_accuracy: 0.8067 - val_f1_with_tfa: 0.5540\n",
      "Epoch 10/100\n",
      "31/31 [==============================] - 2s 50ms/step - loss: 0.0802 - categorical_accuracy: 0.8374 - f1_with_tfa: 0.5833 - val_loss: 0.0853 - val_categorical_accuracy: 0.8101 - val_f1_with_tfa: 0.5510\n",
      "Epoch 11/100\n",
      "31/31 [==============================] - 2s 50ms/step - loss: 0.0761 - categorical_accuracy: 0.8448 - f1_with_tfa: 0.5974 - val_loss: 0.0819 - val_categorical_accuracy: 0.8270 - val_f1_with_tfa: 0.5681\n",
      "Epoch 12/100\n",
      "31/31 [==============================] - 2s 51ms/step - loss: 0.0745 - categorical_accuracy: 0.8495 - f1_with_tfa: 0.6073 - val_loss: 0.0815 - val_categorical_accuracy: 0.8243 - val_f1_with_tfa: 0.5682\n",
      "Epoch 13/100\n",
      "31/31 [==============================] - 2s 50ms/step - loss: 0.0756 - categorical_accuracy: 0.8456 - f1_with_tfa: 0.6054 - val_loss: 0.0838 - val_categorical_accuracy: 0.8180 - val_f1_with_tfa: 0.5646\n",
      "Epoch 14/100\n",
      "31/31 [==============================] - 2s 51ms/step - loss: 0.0732 - categorical_accuracy: 0.8504 - f1_with_tfa: 0.6123 - val_loss: 0.0801 - val_categorical_accuracy: 0.8292 - val_f1_with_tfa: 0.5934\n",
      "Epoch 15/100\n",
      "31/31 [==============================] - 2s 50ms/step - loss: 0.0721 - categorical_accuracy: 0.8547 - f1_with_tfa: 0.6150 - val_loss: 0.0796 - val_categorical_accuracy: 0.8271 - val_f1_with_tfa: 0.5767\n",
      "Epoch 16/100\n",
      "31/31 [==============================] - 2s 49ms/step - loss: 0.0698 - categorical_accuracy: 0.8577 - f1_with_tfa: 0.6278 - val_loss: 0.0830 - val_categorical_accuracy: 0.8207 - val_f1_with_tfa: 0.5894\n",
      "Epoch 17/100\n",
      "31/31 [==============================] - 2s 50ms/step - loss: 0.0707 - categorical_accuracy: 0.8574 - f1_with_tfa: 0.6326 - val_loss: 0.0789 - val_categorical_accuracy: 0.8267 - val_f1_with_tfa: 0.5914\n",
      "Epoch 18/100\n",
      "31/31 [==============================] - 2s 50ms/step - loss: 0.0676 - categorical_accuracy: 0.8634 - f1_with_tfa: 0.6331 - val_loss: 0.0762 - val_categorical_accuracy: 0.8347 - val_f1_with_tfa: 0.6080\n",
      "Epoch 19/100\n",
      "31/31 [==============================] - 2s 51ms/step - loss: 0.0658 - categorical_accuracy: 0.8691 - f1_with_tfa: 0.6471 - val_loss: 0.0759 - val_categorical_accuracy: 0.8384 - val_f1_with_tfa: 0.6148\n",
      "Epoch 20/100\n",
      "31/31 [==============================] - 2s 51ms/step - loss: 0.0656 - categorical_accuracy: 0.8688 - f1_with_tfa: 0.6509 - val_loss: 0.0760 - val_categorical_accuracy: 0.8396 - val_f1_with_tfa: 0.6131\n",
      "Epoch 21/100\n",
      "31/31 [==============================] - 2s 53ms/step - loss: 0.0640 - categorical_accuracy: 0.8745 - f1_with_tfa: 0.6586 - val_loss: 0.0798 - val_categorical_accuracy: 0.8206 - val_f1_with_tfa: 0.5838\n",
      "Epoch 22/100\n",
      "31/31 [==============================] - 2s 52ms/step - loss: 0.0633 - categorical_accuracy: 0.8763 - f1_with_tfa: 0.6648 - val_loss: 0.0795 - val_categorical_accuracy: 0.8273 - val_f1_with_tfa: 0.5871\n",
      "Epoch 23/100\n",
      "31/31 [==============================] - 2s 58ms/step - loss: 0.0633 - categorical_accuracy: 0.8784 - f1_with_tfa: 0.6693 - val_loss: 0.0791 - val_categorical_accuracy: 0.8283 - val_f1_with_tfa: 0.6035\n",
      "Epoch 24/100\n",
      "31/31 [==============================] - 2s 50ms/step - loss: 0.0615 - categorical_accuracy: 0.8841 - f1_with_tfa: 0.6745 - val_loss: 0.0804 - val_categorical_accuracy: 0.8211 - val_f1_with_tfa: 0.5803\n",
      "Epoch 25/100\n",
      "31/31 [==============================] - 2s 50ms/step - loss: 0.0617 - categorical_accuracy: 0.8834 - f1_with_tfa: 0.6737 - val_loss: 0.0773 - val_categorical_accuracy: 0.8344 - val_f1_with_tfa: 0.5956\n",
      "Epoch 26/100\n",
      "31/31 [==============================] - 2s 50ms/step - loss: 0.0603 - categorical_accuracy: 0.8903 - f1_with_tfa: 0.6856 - val_loss: 0.0801 - val_categorical_accuracy: 0.8222 - val_f1_with_tfa: 0.5777\n",
      "Epoch 27/100\n",
      "31/31 [==============================] - 2s 50ms/step - loss: 0.0591 - categorical_accuracy: 0.8936 - f1_with_tfa: 0.6907 - val_loss: 0.0784 - val_categorical_accuracy: 0.8316 - val_f1_with_tfa: 0.5949\n",
      "Epoch 28/100\n",
      "31/31 [==============================] - 2s 52ms/step - loss: 0.0601 - categorical_accuracy: 0.8918 - f1_with_tfa: 0.6862 - val_loss: 0.0823 - val_categorical_accuracy: 0.8228 - val_f1_with_tfa: 0.5879\n",
      "Epoch 29/100\n",
      "31/31 [==============================] - 2s 50ms/step - loss: 0.0582 - categorical_accuracy: 0.8968 - f1_with_tfa: 0.6901 - val_loss: 0.0811 - val_categorical_accuracy: 0.8230 - val_f1_with_tfa: 0.5950\n"
     ]
    }
   ],
   "source": [
    "# first model    \n",
    "layers_info_bilstm = [\n",
    "    {\n",
    "        \"layer_name\": layers.Masking,\n",
    "        \"name\": \"padding_masking\",\n",
    "        \"mask_value\": 0.,\n",
    "        \"input_shape\": X_train.shape[1:]\n",
    "    },\n",
    "    {\n",
    "        'layer_name': layers.Bidirectional,\n",
    "        \"layer\": layers.LSTM(best_hps_bilstm.get('units'), return_sequences=True, kernel_regularizer=keras.regularizers.l2(0.01)),\n",
    "        \"name\": \"bilstm_1\",\n",
    "    },\n",
    "    {\n",
    "        \"layer_name\": layers.Dropout,\n",
    "        \"rate\": best_hps_bilstm.get('dropout'),\n",
    "        \"name\": \"dropout_1\"\n",
    "    },\n",
    "    {\n",
    "        \"layer_name\": layers.Dense,\n",
    "        \"units\": n_classes,\n",
    "        \"activation\": \"softmax\",\n",
    "        \"name\": \"dense_1\"\n",
    "    }\n",
    "]\n",
    "\n",
    "compile_info_bilstm = {\n",
    "    'optimizer': keras.optimizers.Adam(learning_rate=best_hps_bilstm.get('learning_rate')),\n",
    "    'loss': 'categorical_crossentropy',\n",
    "    'metrics' : ['categorical_accuracy', f1_with_tfa]\n",
    "}\n",
    "\n",
    "model_bilstm = create_model(layers_info_bilstm, compile_info_bilstm)\n",
    "model_bilstm.summary()\n",
    "\n",
    "# start training\n",
    "history_bilstm = model_bilstm.fit(X_train, y_train, epochs=epochs_training, batch_size=batch_size_training, validation_data=(X_dev, y_dev), callbacks=callbacks_training)"
   ]
  },
  {
   "cell_type": "markdown",
   "metadata": {
    "id": "V2QWE-m03ZUO"
   },
   "source": [
    "Model 2: Bidirectional GRU + Dense layer variant training"
   ]
  },
  {
   "cell_type": "code",
   "execution_count": 22,
   "metadata": {
    "id": "nXZNNrlO3ZUO"
   },
   "outputs": [
    {
     "name": "stdout",
     "output_type": "stream",
     "text": [
      "Model: \"sequential_2\"\n",
      "_________________________________________________________________\n",
      " Layer (type)                Output Shape              Param #   \n",
      "=================================================================\n",
      " padding_masking (Masking)   (None, 249, 100)          0         \n",
      "                                                                 \n",
      " bigru_1 (Bidirectional)     (None, 249, 512)          549888    \n",
      "                                                                 \n",
      " dropout_1 (Dropout)         (None, 249, 512)          0         \n",
      "                                                                 \n",
      " dense_1 (Dense)             (None, 249, 45)           23085     \n",
      "                                                                 \n",
      "=================================================================\n",
      "Total params: 572,973\n",
      "Trainable params: 572,973\n",
      "Non-trainable params: 0\n",
      "_________________________________________________________________\n",
      "Epoch 1/100\n",
      "31/31 [==============================] - 10s 138ms/step - loss: 0.6718 - categorical_accuracy: 0.4791 - f1_with_tfa: 0.1918 - val_loss: 0.2034 - val_categorical_accuracy: 0.6894 - val_f1_with_tfa: 0.3959\n",
      "Epoch 2/100\n",
      "31/31 [==============================] - 1s 47ms/step - loss: 0.1467 - categorical_accuracy: 0.7284 - f1_with_tfa: 0.4201 - val_loss: 0.1209 - val_categorical_accuracy: 0.7551 - val_f1_with_tfa: 0.4462\n",
      "Epoch 3/100\n",
      "31/31 [==============================] - 2s 52ms/step - loss: 0.1094 - categorical_accuracy: 0.7807 - f1_with_tfa: 0.4869 - val_loss: 0.1076 - val_categorical_accuracy: 0.7855 - val_f1_with_tfa: 0.5156\n",
      "Epoch 4/100\n",
      "31/31 [==============================] - 2s 50ms/step - loss: 0.1039 - categorical_accuracy: 0.7888 - f1_with_tfa: 0.5082 - val_loss: 0.1038 - val_categorical_accuracy: 0.7813 - val_f1_with_tfa: 0.5077\n",
      "Epoch 5/100\n",
      "31/31 [==============================] - 2s 51ms/step - loss: 0.0936 - categorical_accuracy: 0.8129 - f1_with_tfa: 0.5417 - val_loss: 0.0966 - val_categorical_accuracy: 0.7952 - val_f1_with_tfa: 0.5385\n",
      "Epoch 6/100\n",
      "31/31 [==============================] - 1s 48ms/step - loss: 0.0892 - categorical_accuracy: 0.8177 - f1_with_tfa: 0.5586 - val_loss: 0.1003 - val_categorical_accuracy: 0.7868 - val_f1_with_tfa: 0.5554\n",
      "Epoch 7/100\n",
      "31/31 [==============================] - 2s 50ms/step - loss: 0.0889 - categorical_accuracy: 0.8212 - f1_with_tfa: 0.5719 - val_loss: 0.0941 - val_categorical_accuracy: 0.8040 - val_f1_with_tfa: 0.5694\n",
      "Epoch 8/100\n",
      "31/31 [==============================] - 2s 50ms/step - loss: 0.0849 - categorical_accuracy: 0.8292 - f1_with_tfa: 0.5829 - val_loss: 0.0886 - val_categorical_accuracy: 0.8072 - val_f1_with_tfa: 0.5454\n",
      "Epoch 9/100\n",
      "31/31 [==============================] - 1s 49ms/step - loss: 0.0806 - categorical_accuracy: 0.8358 - f1_with_tfa: 0.5919 - val_loss: 0.0879 - val_categorical_accuracy: 0.8107 - val_f1_with_tfa: 0.5794\n",
      "Epoch 10/100\n",
      "31/31 [==============================] - 1s 48ms/step - loss: 0.0781 - categorical_accuracy: 0.8437 - f1_with_tfa: 0.6029 - val_loss: 0.0852 - val_categorical_accuracy: 0.8182 - val_f1_with_tfa: 0.5762\n",
      "Epoch 11/100\n",
      "31/31 [==============================] - 2s 55ms/step - loss: 0.0773 - categorical_accuracy: 0.8453 - f1_with_tfa: 0.6056 - val_loss: 0.0852 - val_categorical_accuracy: 0.8206 - val_f1_with_tfa: 0.5833\n",
      "Epoch 12/100\n",
      "31/31 [==============================] - 2s 50ms/step - loss: 0.0751 - categorical_accuracy: 0.8483 - f1_with_tfa: 0.6142 - val_loss: 0.0804 - val_categorical_accuracy: 0.8371 - val_f1_with_tfa: 0.6044\n",
      "Epoch 13/100\n",
      "31/31 [==============================] - 2s 51ms/step - loss: 0.0776 - categorical_accuracy: 0.8446 - f1_with_tfa: 0.6152 - val_loss: 0.0825 - val_categorical_accuracy: 0.8288 - val_f1_with_tfa: 0.5759\n",
      "Epoch 14/100\n",
      "31/31 [==============================] - 1s 49ms/step - loss: 0.0735 - categorical_accuracy: 0.8521 - f1_with_tfa: 0.6200 - val_loss: 0.0820 - val_categorical_accuracy: 0.8270 - val_f1_with_tfa: 0.5937\n",
      "Epoch 15/100\n",
      "31/31 [==============================] - 2s 50ms/step - loss: 0.0716 - categorical_accuracy: 0.8582 - f1_with_tfa: 0.6384 - val_loss: 0.0876 - val_categorical_accuracy: 0.8073 - val_f1_with_tfa: 0.5695\n",
      "Epoch 16/100\n",
      "31/31 [==============================] - 2s 51ms/step - loss: 0.0725 - categorical_accuracy: 0.8572 - f1_with_tfa: 0.6373 - val_loss: 0.0840 - val_categorical_accuracy: 0.8237 - val_f1_with_tfa: 0.5867\n",
      "Epoch 17/100\n",
      "31/31 [==============================] - 2s 50ms/step - loss: 0.0716 - categorical_accuracy: 0.8615 - f1_with_tfa: 0.6394 - val_loss: 0.0831 - val_categorical_accuracy: 0.8190 - val_f1_with_tfa: 0.5876\n",
      "Epoch 18/100\n",
      "31/31 [==============================] - 2s 50ms/step - loss: 0.0729 - categorical_accuracy: 0.8576 - f1_with_tfa: 0.6399 - val_loss: 0.0871 - val_categorical_accuracy: 0.8173 - val_f1_with_tfa: 0.6006\n",
      "Epoch 19/100\n",
      "31/31 [==============================] - 2s 49ms/step - loss: 0.0684 - categorical_accuracy: 0.8694 - f1_with_tfa: 0.6607 - val_loss: 0.0800 - val_categorical_accuracy: 0.8304 - val_f1_with_tfa: 0.6008\n",
      "Epoch 20/100\n",
      "31/31 [==============================] - 2s 48ms/step - loss: 0.0668 - categorical_accuracy: 0.8724 - f1_with_tfa: 0.6687 - val_loss: 0.0820 - val_categorical_accuracy: 0.8294 - val_f1_with_tfa: 0.5865\n",
      "Epoch 21/100\n",
      "31/31 [==============================] - 2s 49ms/step - loss: 0.0674 - categorical_accuracy: 0.8725 - f1_with_tfa: 0.6644 - val_loss: 0.0811 - val_categorical_accuracy: 0.8281 - val_f1_with_tfa: 0.6006\n",
      "Epoch 22/100\n",
      "31/31 [==============================] - 1s 49ms/step - loss: 0.0646 - categorical_accuracy: 0.8798 - f1_with_tfa: 0.6902 - val_loss: 0.0850 - val_categorical_accuracy: 0.8177 - val_f1_with_tfa: 0.5804\n"
     ]
    }
   ],
   "source": [
    "# second model    \n",
    "layers_info_bigru = [\n",
    "    {\n",
    "        \"layer_name\": layers.Masking,\n",
    "        \"name\": \"padding_masking\",\n",
    "        \"mask_value\": 0.,\n",
    "        \"input_shape\": X_train.shape[1:]\n",
    "    },\n",
    "    {\n",
    "        'layer_name': layers.Bidirectional,\n",
    "        \"layer\": layers.GRU(best_hps_bigru.get('units'), return_sequences=True, kernel_regularizer=keras.regularizers.l2(0.01)),\n",
    "        \"name\": \"bigru_1\",\n",
    "    },\n",
    "    {\n",
    "        \"layer_name\": layers.Dropout,\n",
    "        \"rate\": best_hps_bigru.get('dropout'),\n",
    "        \"name\": \"dropout_1\"\n",
    "    },\n",
    "    {\n",
    "        \"layer_name\": layers.Dense,\n",
    "        \"units\": n_classes,\n",
    "        \"activation\": \"softmax\",\n",
    "        \"name\": \"dense_1\"\n",
    "    }\n",
    "]\n",
    "\n",
    "compile_info_bigru = {\n",
    "    'optimizer': keras.optimizers.Adam(learning_rate=best_hps_bigru.get('learning_rate')),\n",
    "    'loss': 'categorical_crossentropy',\n",
    "    'metrics' : ['categorical_accuracy', f1_with_tfa]\n",
    "}\n",
    "\n",
    "model_bigru = create_model(layers_info_bigru, compile_info_bigru)\n",
    "model_bigru.summary()\n",
    "\n",
    "# start training\n",
    "history_bigru = model_bigru.fit(X_train, y_train, epochs=epochs_training, batch_size=batch_size_training, validation_data=(X_dev, y_dev),  callbacks=callbacks_training)"
   ]
  },
  {
   "cell_type": "markdown",
   "metadata": {
    "id": "P52dWFq63ZUO"
   },
   "source": [
    "Model 3: Two Bidirectional LSMT + Dense layer variant training"
   ]
  },
  {
   "cell_type": "code",
   "execution_count": 23,
   "metadata": {
    "id": "gzTLBLdC3ZUO"
   },
   "outputs": [
    {
     "name": "stdout",
     "output_type": "stream",
     "text": [
      "Model: \"sequential_3\"\n",
      "_________________________________________________________________\n",
      " Layer (type)                Output Shape              Param #   \n",
      "=================================================================\n",
      " padding_masking (Masking)   (None, 249, 100)          0         \n",
      "                                                                 \n",
      " bilstm_1 (Bidirectional)    (None, 249, 256)          234496    \n",
      "                                                                 \n",
      " bilstm_2 (Bidirectional)    (None, 249, 512)          1050624   \n",
      "                                                                 \n",
      " dropout_1 (Dropout)         (None, 249, 512)          0         \n",
      "                                                                 \n",
      " dense_1 (Dense)             (None, 249, 45)           23085     \n",
      "                                                                 \n",
      "=================================================================\n",
      "Total params: 1,308,205\n",
      "Trainable params: 1,308,205\n",
      "Non-trainable params: 0\n",
      "_________________________________________________________________\n",
      "Epoch 1/100\n",
      "31/31 [==============================] - 19s 237ms/step - loss: 6.7951 - categorical_accuracy: 0.1458 - f1_with_tfa: 0.0197 - val_loss: 3.0307 - val_categorical_accuracy: 0.1632 - val_f1_with_tfa: 0.0148\n",
      "Epoch 2/100\n",
      "31/31 [==============================] - 2s 80ms/step - loss: 1.6734 - categorical_accuracy: 0.1684 - f1_with_tfa: 0.0212 - val_loss: 0.7891 - val_categorical_accuracy: 0.1787 - val_f1_with_tfa: 0.0152\n",
      "Epoch 3/100\n",
      "31/31 [==============================] - 3s 90ms/step - loss: 0.5269 - categorical_accuracy: 0.1860 - f1_with_tfa: 0.0248 - val_loss: 0.3702 - val_categorical_accuracy: 0.1709 - val_f1_with_tfa: 0.0228\n",
      "Epoch 4/100\n",
      "31/31 [==============================] - 3s 94ms/step - loss: 0.3183 - categorical_accuracy: 0.1906 - f1_with_tfa: 0.0268 - val_loss: 0.2879 - val_categorical_accuracy: 0.1967 - val_f1_with_tfa: 0.0247\n",
      "Epoch 5/100\n",
      "31/31 [==============================] - 3s 88ms/step - loss: 0.2766 - categorical_accuracy: 0.2007 - f1_with_tfa: 0.0309 - val_loss: 0.2727 - val_categorical_accuracy: 0.2058 - val_f1_with_tfa: 0.0295\n",
      "Epoch 6/100\n",
      "31/31 [==============================] - 3s 91ms/step - loss: 0.2629 - categorical_accuracy: 0.2181 - f1_with_tfa: 0.0393 - val_loss: 0.2593 - val_categorical_accuracy: 0.2281 - val_f1_with_tfa: 0.0428\n",
      "Epoch 7/100\n",
      "31/31 [==============================] - 3s 88ms/step - loss: 0.2554 - categorical_accuracy: 0.2311 - f1_with_tfa: 0.0517 - val_loss: 0.2515 - val_categorical_accuracy: 0.2535 - val_f1_with_tfa: 0.0624\n",
      "Epoch 8/100\n",
      "31/31 [==============================] - 3s 91ms/step - loss: 0.2443 - categorical_accuracy: 0.2651 - f1_with_tfa: 0.0691 - val_loss: 0.2394 - val_categorical_accuracy: 0.2932 - val_f1_with_tfa: 0.0845\n",
      "Epoch 9/100\n",
      "31/31 [==============================] - 3s 90ms/step - loss: 0.2268 - categorical_accuracy: 0.3353 - f1_with_tfa: 0.1027 - val_loss: 0.2140 - val_categorical_accuracy: 0.3901 - val_f1_with_tfa: 0.1190\n",
      "Epoch 10/100\n",
      "31/31 [==============================] - 3s 89ms/step - loss: 0.2035 - categorical_accuracy: 0.4191 - f1_with_tfa: 0.1406 - val_loss: 0.1926 - val_categorical_accuracy: 0.4581 - val_f1_with_tfa: 0.1609\n",
      "Epoch 11/100\n",
      "31/31 [==============================] - 3s 92ms/step - loss: 0.1881 - categorical_accuracy: 0.4633 - f1_with_tfa: 0.1700 - val_loss: 0.1825 - val_categorical_accuracy: 0.4707 - val_f1_with_tfa: 0.1687\n",
      "Epoch 12/100\n",
      "31/31 [==============================] - 3s 90ms/step - loss: 0.1791 - categorical_accuracy: 0.4832 - f1_with_tfa: 0.1838 - val_loss: 0.1777 - val_categorical_accuracy: 0.4843 - val_f1_with_tfa: 0.1990\n",
      "Epoch 13/100\n",
      "31/31 [==============================] - 3s 89ms/step - loss: 0.1712 - categorical_accuracy: 0.5058 - f1_with_tfa: 0.2058 - val_loss: 0.1718 - val_categorical_accuracy: 0.4954 - val_f1_with_tfa: 0.1922\n",
      "Epoch 14/100\n",
      "31/31 [==============================] - 3s 91ms/step - loss: 0.1649 - categorical_accuracy: 0.5228 - f1_with_tfa: 0.2182 - val_loss: 0.1681 - val_categorical_accuracy: 0.5150 - val_f1_with_tfa: 0.2101\n",
      "Epoch 15/100\n",
      "31/31 [==============================] - 3s 90ms/step - loss: 0.1604 - categorical_accuracy: 0.5342 - f1_with_tfa: 0.2322 - val_loss: 0.1610 - val_categorical_accuracy: 0.5315 - val_f1_with_tfa: 0.2361\n",
      "Epoch 16/100\n",
      "31/31 [==============================] - 3s 87ms/step - loss: 0.1571 - categorical_accuracy: 0.5445 - f1_with_tfa: 0.2407 - val_loss: 0.1615 - val_categorical_accuracy: 0.5320 - val_f1_with_tfa: 0.2333\n",
      "Epoch 17/100\n",
      "31/31 [==============================] - 3s 91ms/step - loss: 0.1537 - categorical_accuracy: 0.5562 - f1_with_tfa: 0.2516 - val_loss: 0.1530 - val_categorical_accuracy: 0.5610 - val_f1_with_tfa: 0.2536\n",
      "Epoch 18/100\n",
      "31/31 [==============================] - 3s 96ms/step - loss: 0.1482 - categorical_accuracy: 0.5713 - f1_with_tfa: 0.2663 - val_loss: 0.1500 - val_categorical_accuracy: 0.5694 - val_f1_with_tfa: 0.2614\n",
      "Epoch 19/100\n",
      "31/31 [==============================] - 3s 93ms/step - loss: 0.1456 - categorical_accuracy: 0.5788 - f1_with_tfa: 0.2714 - val_loss: 0.1483 - val_categorical_accuracy: 0.5709 - val_f1_with_tfa: 0.2760\n",
      "Epoch 20/100\n",
      "31/31 [==============================] - 3s 91ms/step - loss: 0.1426 - categorical_accuracy: 0.5894 - f1_with_tfa: 0.2812 - val_loss: 0.1507 - val_categorical_accuracy: 0.5706 - val_f1_with_tfa: 0.2879\n",
      "Epoch 21/100\n",
      "31/31 [==============================] - 3s 88ms/step - loss: 0.1393 - categorical_accuracy: 0.5995 - f1_with_tfa: 0.2986 - val_loss: 0.1399 - val_categorical_accuracy: 0.5954 - val_f1_with_tfa: 0.2980\n",
      "Epoch 22/100\n",
      "31/31 [==============================] - 3s 89ms/step - loss: 0.1339 - categorical_accuracy: 0.6189 - f1_with_tfa: 0.3177 - val_loss: 0.1365 - val_categorical_accuracy: 0.6088 - val_f1_with_tfa: 0.3123\n",
      "Epoch 23/100\n",
      "31/31 [==============================] - 3s 91ms/step - loss: 0.1303 - categorical_accuracy: 0.6270 - f1_with_tfa: 0.3260 - val_loss: 0.1337 - val_categorical_accuracy: 0.6164 - val_f1_with_tfa: 0.3172\n",
      "Epoch 24/100\n",
      "31/31 [==============================] - 3s 89ms/step - loss: 0.1264 - categorical_accuracy: 0.6413 - f1_with_tfa: 0.3404 - val_loss: 0.1291 - val_categorical_accuracy: 0.6362 - val_f1_with_tfa: 0.3485\n",
      "Epoch 25/100\n",
      "31/31 [==============================] - 3s 91ms/step - loss: 0.1236 - categorical_accuracy: 0.6485 - f1_with_tfa: 0.3504 - val_loss: 0.1276 - val_categorical_accuracy: 0.6337 - val_f1_with_tfa: 0.3365\n",
      "Epoch 26/100\n",
      "31/31 [==============================] - 3s 93ms/step - loss: 0.1196 - categorical_accuracy: 0.6593 - f1_with_tfa: 0.3611 - val_loss: 0.1226 - val_categorical_accuracy: 0.6519 - val_f1_with_tfa: 0.3636\n",
      "Epoch 27/100\n",
      "31/31 [==============================] - 3s 90ms/step - loss: 0.1164 - categorical_accuracy: 0.6728 - f1_with_tfa: 0.3751 - val_loss: 0.1207 - val_categorical_accuracy: 0.6555 - val_f1_with_tfa: 0.3627\n",
      "Epoch 28/100\n",
      "31/31 [==============================] - 3s 92ms/step - loss: 0.1147 - categorical_accuracy: 0.6747 - f1_with_tfa: 0.3842 - val_loss: 0.1178 - val_categorical_accuracy: 0.6647 - val_f1_with_tfa: 0.3727\n",
      "Epoch 29/100\n",
      "31/31 [==============================] - 3s 91ms/step - loss: 0.1122 - categorical_accuracy: 0.6833 - f1_with_tfa: 0.3904 - val_loss: 0.1179 - val_categorical_accuracy: 0.6667 - val_f1_with_tfa: 0.3828\n",
      "Epoch 30/100\n",
      "31/31 [==============================] - 3s 89ms/step - loss: 0.1096 - categorical_accuracy: 0.6916 - f1_with_tfa: 0.4030 - val_loss: 0.1143 - val_categorical_accuracy: 0.6736 - val_f1_with_tfa: 0.3892\n",
      "Epoch 31/100\n",
      "31/31 [==============================] - 3s 91ms/step - loss: 0.1084 - categorical_accuracy: 0.6941 - f1_with_tfa: 0.4106 - val_loss: 0.1130 - val_categorical_accuracy: 0.6847 - val_f1_with_tfa: 0.3974\n",
      "Epoch 32/100\n",
      "31/31 [==============================] - 3s 95ms/step - loss: 0.1057 - categorical_accuracy: 0.7047 - f1_with_tfa: 0.4193 - val_loss: 0.1115 - val_categorical_accuracy: 0.6844 - val_f1_with_tfa: 0.4048\n",
      "Epoch 33/100\n",
      "31/31 [==============================] - 3s 90ms/step - loss: 0.1054 - categorical_accuracy: 0.7021 - f1_with_tfa: 0.4176 - val_loss: 0.1104 - val_categorical_accuracy: 0.6888 - val_f1_with_tfa: 0.4172\n",
      "Epoch 34/100\n",
      "31/31 [==============================] - 3s 88ms/step - loss: 0.1027 - categorical_accuracy: 0.7121 - f1_with_tfa: 0.4252 - val_loss: 0.1064 - val_categorical_accuracy: 0.6979 - val_f1_with_tfa: 0.4150\n",
      "Epoch 35/100\n",
      "31/31 [==============================] - 3s 92ms/step - loss: 0.1013 - categorical_accuracy: 0.7172 - f1_with_tfa: 0.4385 - val_loss: 0.1127 - val_categorical_accuracy: 0.6731 - val_f1_with_tfa: 0.4055\n",
      "Epoch 36/100\n",
      "31/31 [==============================] - 3s 95ms/step - loss: 0.0998 - categorical_accuracy: 0.7234 - f1_with_tfa: 0.4447 - val_loss: 0.1055 - val_categorical_accuracy: 0.7046 - val_f1_with_tfa: 0.4266\n",
      "Epoch 37/100\n",
      "31/31 [==============================] - 3s 87ms/step - loss: 0.0972 - categorical_accuracy: 0.7281 - f1_with_tfa: 0.4467 - val_loss: 0.1059 - val_categorical_accuracy: 0.6974 - val_f1_with_tfa: 0.4172\n",
      "Epoch 38/100\n",
      "31/31 [==============================] - 3s 91ms/step - loss: 0.0970 - categorical_accuracy: 0.7273 - f1_with_tfa: 0.4494 - val_loss: 0.1028 - val_categorical_accuracy: 0.7075 - val_f1_with_tfa: 0.4285\n",
      "Epoch 39/100\n",
      "31/31 [==============================] - 3s 90ms/step - loss: 0.0945 - categorical_accuracy: 0.7362 - f1_with_tfa: 0.4600 - val_loss: 0.1021 - val_categorical_accuracy: 0.7091 - val_f1_with_tfa: 0.4317\n",
      "Epoch 40/100\n",
      "31/31 [==============================] - 3s 89ms/step - loss: 0.0932 - categorical_accuracy: 0.7393 - f1_with_tfa: 0.4615 - val_loss: 0.1012 - val_categorical_accuracy: 0.7104 - val_f1_with_tfa: 0.4287\n",
      "Epoch 41/100\n",
      "31/31 [==============================] - 3s 90ms/step - loss: 0.0926 - categorical_accuracy: 0.7416 - f1_with_tfa: 0.4689 - val_loss: 0.0985 - val_categorical_accuracy: 0.7216 - val_f1_with_tfa: 0.4421\n",
      "Epoch 42/100\n",
      "31/31 [==============================] - 3s 90ms/step - loss: 0.0910 - categorical_accuracy: 0.7454 - f1_with_tfa: 0.4677 - val_loss: 0.0990 - val_categorical_accuracy: 0.7169 - val_f1_with_tfa: 0.4459\n",
      "Epoch 43/100\n",
      "31/31 [==============================] - 3s 89ms/step - loss: 0.0891 - categorical_accuracy: 0.7512 - f1_with_tfa: 0.4755 - val_loss: 0.0984 - val_categorical_accuracy: 0.7152 - val_f1_with_tfa: 0.4415\n",
      "Epoch 44/100\n",
      "31/31 [==============================] - 3s 94ms/step - loss: 0.0893 - categorical_accuracy: 0.7511 - f1_with_tfa: 0.4793 - val_loss: 0.1000 - val_categorical_accuracy: 0.7127 - val_f1_with_tfa: 0.4440\n",
      "Epoch 45/100\n",
      "31/31 [==============================] - 3s 90ms/step - loss: 0.0884 - categorical_accuracy: 0.7543 - f1_with_tfa: 0.4830 - val_loss: 0.0956 - val_categorical_accuracy: 0.7282 - val_f1_with_tfa: 0.4601\n",
      "Epoch 46/100\n",
      "31/31 [==============================] - 3s 89ms/step - loss: 0.0871 - categorical_accuracy: 0.7547 - f1_with_tfa: 0.4849 - val_loss: 0.0999 - val_categorical_accuracy: 0.7142 - val_f1_with_tfa: 0.4384\n",
      "Epoch 47/100\n",
      "31/31 [==============================] - 3s 91ms/step - loss: 0.0860 - categorical_accuracy: 0.7603 - f1_with_tfa: 0.4979 - val_loss: 0.0949 - val_categorical_accuracy: 0.7321 - val_f1_with_tfa: 0.4633\n",
      "Epoch 48/100\n",
      "31/31 [==============================] - 3s 92ms/step - loss: 0.0846 - categorical_accuracy: 0.7640 - f1_with_tfa: 0.4963 - val_loss: 0.0953 - val_categorical_accuracy: 0.7247 - val_f1_with_tfa: 0.4562\n",
      "Epoch 49/100\n",
      "31/31 [==============================] - 3s 91ms/step - loss: 0.0844 - categorical_accuracy: 0.7649 - f1_with_tfa: 0.4971 - val_loss: 0.0941 - val_categorical_accuracy: 0.7327 - val_f1_with_tfa: 0.4560\n",
      "Epoch 50/100\n",
      "31/31 [==============================] - 3s 91ms/step - loss: 0.0841 - categorical_accuracy: 0.7673 - f1_with_tfa: 0.5025 - val_loss: 0.0946 - val_categorical_accuracy: 0.7318 - val_f1_with_tfa: 0.4598\n",
      "Epoch 51/100\n",
      "31/31 [==============================] - 3s 90ms/step - loss: 0.0822 - categorical_accuracy: 0.7711 - f1_with_tfa: 0.5019 - val_loss: 0.0946 - val_categorical_accuracy: 0.7300 - val_f1_with_tfa: 0.4662\n",
      "Epoch 52/100\n",
      "31/31 [==============================] - 3s 90ms/step - loss: 0.0834 - categorical_accuracy: 0.7673 - f1_with_tfa: 0.5013 - val_loss: 0.0919 - val_categorical_accuracy: 0.7438 - val_f1_with_tfa: 0.4805\n",
      "Epoch 53/100\n",
      "31/31 [==============================] - 3s 89ms/step - loss: 0.0815 - categorical_accuracy: 0.7736 - f1_with_tfa: 0.5099 - val_loss: 0.0917 - val_categorical_accuracy: 0.7416 - val_f1_with_tfa: 0.4756\n",
      "Epoch 54/100\n",
      "31/31 [==============================] - 3s 90ms/step - loss: 0.0804 - categorical_accuracy: 0.7766 - f1_with_tfa: 0.5107 - val_loss: 0.0926 - val_categorical_accuracy: 0.7348 - val_f1_with_tfa: 0.4742\n",
      "Epoch 55/100\n",
      "31/31 [==============================] - 3s 92ms/step - loss: 0.0813 - categorical_accuracy: 0.7707 - f1_with_tfa: 0.5028 - val_loss: 0.0927 - val_categorical_accuracy: 0.7368 - val_f1_with_tfa: 0.4782\n",
      "Epoch 56/100\n",
      "31/31 [==============================] - 3s 91ms/step - loss: 0.0798 - categorical_accuracy: 0.7779 - f1_with_tfa: 0.5147 - val_loss: 0.0921 - val_categorical_accuracy: 0.7388 - val_f1_with_tfa: 0.4744\n",
      "Epoch 57/100\n",
      "31/31 [==============================] - 3s 98ms/step - loss: 0.0786 - categorical_accuracy: 0.7826 - f1_with_tfa: 0.5206 - val_loss: 0.0928 - val_categorical_accuracy: 0.7354 - val_f1_with_tfa: 0.4646\n",
      "Epoch 58/100\n",
      "31/31 [==============================] - 3s 89ms/step - loss: 0.0769 - categorical_accuracy: 0.7870 - f1_with_tfa: 0.5284 - val_loss: 0.0899 - val_categorical_accuracy: 0.7464 - val_f1_with_tfa: 0.4805\n",
      "Epoch 59/100\n",
      "31/31 [==============================] - 3s 90ms/step - loss: 0.0782 - categorical_accuracy: 0.7821 - f1_with_tfa: 0.5159 - val_loss: 0.0905 - val_categorical_accuracy: 0.7465 - val_f1_with_tfa: 0.4771\n",
      "Epoch 60/100\n",
      "31/31 [==============================] - 3s 90ms/step - loss: 0.0761 - categorical_accuracy: 0.7887 - f1_with_tfa: 0.5260 - val_loss: 0.0896 - val_categorical_accuracy: 0.7494 - val_f1_with_tfa: 0.4831\n",
      "Epoch 61/100\n",
      "31/31 [==============================] - 3s 90ms/step - loss: 0.0755 - categorical_accuracy: 0.7910 - f1_with_tfa: 0.5288 - val_loss: 0.0911 - val_categorical_accuracy: 0.7430 - val_f1_with_tfa: 0.4774\n",
      "Epoch 62/100\n",
      "31/31 [==============================] - 3s 89ms/step - loss: 0.0762 - categorical_accuracy: 0.7891 - f1_with_tfa: 0.5260 - val_loss: 0.0922 - val_categorical_accuracy: 0.7378 - val_f1_with_tfa: 0.4744\n",
      "Epoch 63/100\n",
      "31/31 [==============================] - 3s 92ms/step - loss: 0.0751 - categorical_accuracy: 0.7921 - f1_with_tfa: 0.5331 - val_loss: 0.0924 - val_categorical_accuracy: 0.7393 - val_f1_with_tfa: 0.4816\n",
      "Epoch 64/100\n",
      "31/31 [==============================] - 3s 90ms/step - loss: 0.0731 - categorical_accuracy: 0.7960 - f1_with_tfa: 0.5430 - val_loss: 0.0892 - val_categorical_accuracy: 0.7477 - val_f1_with_tfa: 0.4874\n",
      "Epoch 65/100\n",
      "31/31 [==============================] - 3s 90ms/step - loss: 0.0714 - categorical_accuracy: 0.8023 - f1_with_tfa: 0.5492 - val_loss: 0.0885 - val_categorical_accuracy: 0.7486 - val_f1_with_tfa: 0.4876\n",
      "Epoch 66/100\n",
      "31/31 [==============================] - 3s 89ms/step - loss: 0.0718 - categorical_accuracy: 0.8006 - f1_with_tfa: 0.5439 - val_loss: 0.0937 - val_categorical_accuracy: 0.7361 - val_f1_with_tfa: 0.4710\n",
      "Epoch 67/100\n",
      "31/31 [==============================] - 3s 91ms/step - loss: 0.0712 - categorical_accuracy: 0.8019 - f1_with_tfa: 0.5470 - val_loss: 0.0888 - val_categorical_accuracy: 0.7534 - val_f1_with_tfa: 0.4955\n",
      "Epoch 68/100\n",
      "31/31 [==============================] - 3s 87ms/step - loss: 0.0711 - categorical_accuracy: 0.8027 - f1_with_tfa: 0.5489 - val_loss: 0.0874 - val_categorical_accuracy: 0.7552 - val_f1_with_tfa: 0.4941\n",
      "Epoch 69/100\n",
      "31/31 [==============================] - 3s 90ms/step - loss: 0.0710 - categorical_accuracy: 0.8018 - f1_with_tfa: 0.5488 - val_loss: 0.0886 - val_categorical_accuracy: 0.7513 - val_f1_with_tfa: 0.4928\n",
      "Epoch 70/100\n",
      "31/31 [==============================] - 3s 92ms/step - loss: 0.0710 - categorical_accuracy: 0.8029 - f1_with_tfa: 0.5547 - val_loss: 0.0912 - val_categorical_accuracy: 0.7414 - val_f1_with_tfa: 0.4847\n",
      "Epoch 71/100\n",
      "31/31 [==============================] - 3s 94ms/step - loss: 0.0699 - categorical_accuracy: 0.8089 - f1_with_tfa: 0.5619 - val_loss: 0.0876 - val_categorical_accuracy: 0.7550 - val_f1_with_tfa: 0.5000\n",
      "Epoch 72/100\n",
      "31/31 [==============================] - 3s 90ms/step - loss: 0.0680 - categorical_accuracy: 0.8129 - f1_with_tfa: 0.5646 - val_loss: 0.0900 - val_categorical_accuracy: 0.7453 - val_f1_with_tfa: 0.4822\n",
      "Epoch 73/100\n",
      "31/31 [==============================] - 3s 90ms/step - loss: 0.0685 - categorical_accuracy: 0.8128 - f1_with_tfa: 0.5663 - val_loss: 0.0909 - val_categorical_accuracy: 0.7440 - val_f1_with_tfa: 0.4849\n",
      "Epoch 74/100\n",
      "31/31 [==============================] - 3s 94ms/step - loss: 0.0668 - categorical_accuracy: 0.8167 - f1_with_tfa: 0.5663 - val_loss: 0.0904 - val_categorical_accuracy: 0.7448 - val_f1_with_tfa: 0.4843\n",
      "Epoch 75/100\n",
      "31/31 [==============================] - 3s 90ms/step - loss: 0.0671 - categorical_accuracy: 0.8155 - f1_with_tfa: 0.5700 - val_loss: 0.0905 - val_categorical_accuracy: 0.7445 - val_f1_with_tfa: 0.4890\n",
      "Epoch 76/100\n",
      "31/31 [==============================] - 3s 89ms/step - loss: 0.0665 - categorical_accuracy: 0.8176 - f1_with_tfa: 0.5687 - val_loss: 0.0907 - val_categorical_accuracy: 0.7460 - val_f1_with_tfa: 0.4912\n",
      "Epoch 77/100\n",
      "31/31 [==============================] - 3s 88ms/step - loss: 0.0657 - categorical_accuracy: 0.8197 - f1_with_tfa: 0.5753 - val_loss: 0.0889 - val_categorical_accuracy: 0.7558 - val_f1_with_tfa: 0.4973\n",
      "Epoch 78/100\n",
      "31/31 [==============================] - 3s 89ms/step - loss: 0.0654 - categorical_accuracy: 0.8203 - f1_with_tfa: 0.5681 - val_loss: 0.0913 - val_categorical_accuracy: 0.7495 - val_f1_with_tfa: 0.4907\n",
      "Epoch 79/100\n",
      "31/31 [==============================] - 3s 86ms/step - loss: 0.0649 - categorical_accuracy: 0.8218 - f1_with_tfa: 0.5705 - val_loss: 0.0904 - val_categorical_accuracy: 0.7481 - val_f1_with_tfa: 0.4976\n",
      "Epoch 80/100\n",
      "31/31 [==============================] - 3s 88ms/step - loss: 0.0639 - categorical_accuracy: 0.8258 - f1_with_tfa: 0.5852 - val_loss: 0.0910 - val_categorical_accuracy: 0.7458 - val_f1_with_tfa: 0.4888\n",
      "Epoch 81/100\n",
      "31/31 [==============================] - 3s 90ms/step - loss: 0.0637 - categorical_accuracy: 0.8270 - f1_with_tfa: 0.5828 - val_loss: 0.0894 - val_categorical_accuracy: 0.7522 - val_f1_with_tfa: 0.4964\n"
     ]
    }
   ],
   "source": [
    "# third model    \n",
    "layers_info_two_bilstm = [\n",
    "    {\n",
    "        \"layer_name\": layers.Masking,\n",
    "        \"name\": \"padding_masking\",\n",
    "        \"mask_value\": 0.,\n",
    "        \"input_shape\": X_train.shape[1:]\n",
    "    },\n",
    "    {\n",
    "        'layer_name': layers.Bidirectional,\n",
    "        \"layer\": layers.LSTM(best_hps_two_bilstm.get('units1'), return_sequences=True, kernel_regularizer=keras.regularizers.l2(0.01)),\n",
    "        \"name\": \"bilstm_1\",\n",
    "    },\n",
    "    {\n",
    "        'layer_name': layers.Bidirectional,\n",
    "        \"layer\": layers.LSTM(best_hps_two_bilstm.get('units2'), return_sequences=True, kernel_regularizer=keras.regularizers.l2(0.01)),\n",
    "        \"name\": \"bilstm_2\",\n",
    "    },\n",
    "    {\n",
    "        \"layer_name\": layers.Dropout,\n",
    "        \"rate\": best_hps_two_bilstm.get('dropout'),\n",
    "        \"name\": \"dropout_1\"\n",
    "    },\n",
    "    {\n",
    "        \"layer_name\": layers.Dense,\n",
    "        \"units\": n_classes,\n",
    "        \"activation\": \"softmax\",\n",
    "        \"name\": \"dense_1\"\n",
    "    }\n",
    "]\n",
    "\n",
    "compile_info_two_bilstm = {\n",
    "    'optimizer': keras.optimizers.Adam(learning_rate=best_hps_two_bilstm.get('learning_rate')),\n",
    "    'loss': 'categorical_crossentropy',\n",
    "    'metrics' : ['categorical_accuracy', f1_with_tfa]\n",
    "}\n",
    "\n",
    "model_two_bilstm = create_model(layers_info_two_bilstm, compile_info_two_bilstm)\n",
    "model_two_bilstm.summary()\n",
    "\n",
    "# start training\n",
    "history_two_bilstm = model_two_bilstm.fit(X_train, y_train, epochs=epochs_training, batch_size=batch_size_training, validation_data=(X_dev, y_dev), callbacks=callbacks_training)"
   ]
  },
  {
   "cell_type": "markdown",
   "metadata": {
    "id": "BDri7iKq3ZUP"
   },
   "source": [
    "Model 4: Bidirectional LSMT + two Dense layer variant training"
   ]
  },
  {
   "cell_type": "code",
   "execution_count": 24,
   "metadata": {
    "id": "OrxBTqOQ3ZUP"
   },
   "outputs": [
    {
     "name": "stdout",
     "output_type": "stream",
     "text": [
      "Model: \"sequential_4\"\n",
      "_________________________________________________________________\n",
      " Layer (type)                Output Shape              Param #   \n",
      "=================================================================\n",
      " padding_masking (Masking)   (None, 249, 100)          0         \n",
      "                                                                 \n",
      " bilstm_1 (Bidirectional)    (None, 249, 128)          84480     \n",
      "                                                                 \n",
      " dropout_1 (Dropout)         (None, 249, 128)          0         \n",
      "                                                                 \n",
      " dense_1 (Dense)             (None, 249, 256)          33024     \n",
      "                                                                 \n",
      " dropout_2 (Dropout)         (None, 249, 256)          0         \n",
      "                                                                 \n",
      " dense_2 (Dense)             (None, 249, 45)           11565     \n",
      "                                                                 \n",
      "=================================================================\n",
      "Total params: 129,069\n",
      "Trainable params: 129,069\n",
      "Non-trainable params: 0\n",
      "_________________________________________________________________\n",
      "Epoch 1/100\n",
      "31/31 [==============================] - 11s 134ms/step - loss: 0.9857 - categorical_accuracy: 0.1479 - f1_with_tfa: 0.0076 - val_loss: 0.3278 - val_categorical_accuracy: 0.1709 - val_f1_with_tfa: 0.0130\n",
      "Epoch 2/100\n",
      "31/31 [==============================] - 2s 56ms/step - loss: 0.2977 - categorical_accuracy: 0.1751 - f1_with_tfa: 0.0186 - val_loss: 0.2842 - val_categorical_accuracy: 0.1934 - val_f1_with_tfa: 0.0202\n",
      "Epoch 3/100\n",
      "31/31 [==============================] - 2s 50ms/step - loss: 0.2638 - categorical_accuracy: 0.2714 - f1_with_tfa: 0.0388 - val_loss: 0.2572 - val_categorical_accuracy: 0.3078 - val_f1_with_tfa: 0.0463\n",
      "Epoch 4/100\n",
      "31/31 [==============================] - 1s 48ms/step - loss: 0.2610 - categorical_accuracy: 0.3010 - f1_with_tfa: 0.0485 - val_loss: 0.2446 - val_categorical_accuracy: 0.3237 - val_f1_with_tfa: 0.0568\n",
      "Epoch 5/100\n",
      "31/31 [==============================] - 2s 50ms/step - loss: 0.2351 - categorical_accuracy: 0.3450 - f1_with_tfa: 0.0618 - val_loss: 0.2396 - val_categorical_accuracy: 0.3700 - val_f1_with_tfa: 0.0637\n",
      "Epoch 6/100\n",
      "31/31 [==============================] - 1s 48ms/step - loss: 0.2246 - categorical_accuracy: 0.3981 - f1_with_tfa: 0.0712 - val_loss: 0.2191 - val_categorical_accuracy: 0.4086 - val_f1_with_tfa: 0.0754\n",
      "Epoch 7/100\n",
      "31/31 [==============================] - 2s 50ms/step - loss: 0.2139 - categorical_accuracy: 0.4290 - f1_with_tfa: 0.0838 - val_loss: 0.2105 - val_categorical_accuracy: 0.4304 - val_f1_with_tfa: 0.0834\n",
      "Epoch 8/100\n",
      "31/31 [==============================] - 2s 49ms/step - loss: 0.2052 - categorical_accuracy: 0.4553 - f1_with_tfa: 0.0945 - val_loss: 0.2041 - val_categorical_accuracy: 0.4664 - val_f1_with_tfa: 0.1033\n",
      "Epoch 9/100\n",
      "31/31 [==============================] - 2s 49ms/step - loss: 0.2020 - categorical_accuracy: 0.4721 - f1_with_tfa: 0.1147 - val_loss: 0.1965 - val_categorical_accuracy: 0.4966 - val_f1_with_tfa: 0.1396\n",
      "Epoch 10/100\n",
      "31/31 [==============================] - 2s 51ms/step - loss: 0.1915 - categorical_accuracy: 0.5180 - f1_with_tfa: 0.1490 - val_loss: 0.1909 - val_categorical_accuracy: 0.5119 - val_f1_with_tfa: 0.1518\n",
      "Epoch 11/100\n",
      "31/31 [==============================] - 1s 48ms/step - loss: 0.1822 - categorical_accuracy: 0.5562 - f1_with_tfa: 0.1728 - val_loss: 0.1820 - val_categorical_accuracy: 0.5456 - val_f1_with_tfa: 0.1910\n",
      "Epoch 12/100\n",
      "31/31 [==============================] - 2s 50ms/step - loss: 0.1751 - categorical_accuracy: 0.5757 - f1_with_tfa: 0.1924 - val_loss: 0.1713 - val_categorical_accuracy: 0.5812 - val_f1_with_tfa: 0.2216\n",
      "Epoch 13/100\n",
      "31/31 [==============================] - 2s 50ms/step - loss: 0.1657 - categorical_accuracy: 0.6074 - f1_with_tfa: 0.2339 - val_loss: 0.1634 - val_categorical_accuracy: 0.5996 - val_f1_with_tfa: 0.2580\n",
      "Epoch 14/100\n",
      "31/31 [==============================] - 2s 49ms/step - loss: 0.1635 - categorical_accuracy: 0.6204 - f1_with_tfa: 0.2596 - val_loss: 0.1579 - val_categorical_accuracy: 0.6190 - val_f1_with_tfa: 0.2600\n",
      "Epoch 15/100\n",
      "31/31 [==============================] - 1s 48ms/step - loss: 0.1537 - categorical_accuracy: 0.6554 - f1_with_tfa: 0.3000 - val_loss: 0.1505 - val_categorical_accuracy: 0.6549 - val_f1_with_tfa: 0.3273\n",
      "Epoch 16/100\n",
      "31/31 [==============================] - 1s 49ms/step - loss: 0.1517 - categorical_accuracy: 0.6616 - f1_with_tfa: 0.3181 - val_loss: 0.1492 - val_categorical_accuracy: 0.6731 - val_f1_with_tfa: 0.3461\n",
      "Epoch 17/100\n",
      "31/31 [==============================] - 2s 49ms/step - loss: 0.1477 - categorical_accuracy: 0.6734 - f1_with_tfa: 0.3306 - val_loss: 0.1486 - val_categorical_accuracy: 0.6654 - val_f1_with_tfa: 0.3313\n",
      "Epoch 18/100\n",
      "31/31 [==============================] - 2s 50ms/step - loss: 0.1443 - categorical_accuracy: 0.6852 - f1_with_tfa: 0.3413 - val_loss: 0.1427 - val_categorical_accuracy: 0.6876 - val_f1_with_tfa: 0.3561\n",
      "Epoch 19/100\n",
      "31/31 [==============================] - 2s 49ms/step - loss: 0.1424 - categorical_accuracy: 0.6894 - f1_with_tfa: 0.3460 - val_loss: 0.1414 - val_categorical_accuracy: 0.7010 - val_f1_with_tfa: 0.3750\n",
      "Epoch 20/100\n",
      "31/31 [==============================] - 2s 49ms/step - loss: 0.1378 - categorical_accuracy: 0.7052 - f1_with_tfa: 0.3616 - val_loss: 0.1387 - val_categorical_accuracy: 0.6912 - val_f1_with_tfa: 0.3603\n",
      "Epoch 21/100\n",
      "31/31 [==============================] - 2s 50ms/step - loss: 0.1387 - categorical_accuracy: 0.6990 - f1_with_tfa: 0.3512 - val_loss: 0.1379 - val_categorical_accuracy: 0.6879 - val_f1_with_tfa: 0.3684\n",
      "Epoch 22/100\n",
      "31/31 [==============================] - 2s 50ms/step - loss: 0.1352 - categorical_accuracy: 0.7111 - f1_with_tfa: 0.3621 - val_loss: 0.1386 - val_categorical_accuracy: 0.6942 - val_f1_with_tfa: 0.3430\n",
      "Epoch 23/100\n",
      "31/31 [==============================] - 2s 52ms/step - loss: 0.1333 - categorical_accuracy: 0.7162 - f1_with_tfa: 0.3632 - val_loss: 0.1337 - val_categorical_accuracy: 0.7148 - val_f1_with_tfa: 0.3791\n",
      "Epoch 24/100\n",
      "31/31 [==============================] - 2s 54ms/step - loss: 0.1321 - categorical_accuracy: 0.7217 - f1_with_tfa: 0.3659 - val_loss: 0.1308 - val_categorical_accuracy: 0.7214 - val_f1_with_tfa: 0.3795\n",
      "Epoch 25/100\n",
      "31/31 [==============================] - 2s 52ms/step - loss: 0.1316 - categorical_accuracy: 0.7198 - f1_with_tfa: 0.3602 - val_loss: 0.1328 - val_categorical_accuracy: 0.7166 - val_f1_with_tfa: 0.3820\n",
      "Epoch 26/100\n",
      "31/31 [==============================] - 2s 55ms/step - loss: 0.1307 - categorical_accuracy: 0.7232 - f1_with_tfa: 0.3631 - val_loss: 0.1353 - val_categorical_accuracy: 0.6939 - val_f1_with_tfa: 0.3630\n",
      "Epoch 27/100\n",
      "31/31 [==============================] - 2s 51ms/step - loss: 0.1282 - categorical_accuracy: 0.7312 - f1_with_tfa: 0.3604 - val_loss: 0.1284 - val_categorical_accuracy: 0.7369 - val_f1_with_tfa: 0.3897\n",
      "Epoch 28/100\n",
      "31/31 [==============================] - 1s 48ms/step - loss: 0.1268 - categorical_accuracy: 0.7371 - f1_with_tfa: 0.3642 - val_loss: 0.1295 - val_categorical_accuracy: 0.7159 - val_f1_with_tfa: 0.3868\n",
      "Epoch 29/100\n",
      "31/31 [==============================] - 2s 49ms/step - loss: 0.1259 - categorical_accuracy: 0.7364 - f1_with_tfa: 0.3591 - val_loss: 0.1253 - val_categorical_accuracy: 0.7384 - val_f1_with_tfa: 0.4005\n",
      "Epoch 30/100\n",
      "31/31 [==============================] - 2s 50ms/step - loss: 0.1239 - categorical_accuracy: 0.7443 - f1_with_tfa: 0.3647 - val_loss: 0.1286 - val_categorical_accuracy: 0.7203 - val_f1_with_tfa: 0.3942\n",
      "Epoch 31/100\n",
      "31/31 [==============================] - 2s 49ms/step - loss: 0.1235 - categorical_accuracy: 0.7434 - f1_with_tfa: 0.3639 - val_loss: 0.1312 - val_categorical_accuracy: 0.7031 - val_f1_with_tfa: 0.3702\n",
      "Epoch 32/100\n",
      "31/31 [==============================] - 2s 49ms/step - loss: 0.1228 - categorical_accuracy: 0.7465 - f1_with_tfa: 0.3676 - val_loss: 0.1240 - val_categorical_accuracy: 0.7372 - val_f1_with_tfa: 0.4031\n",
      "Epoch 33/100\n",
      "31/31 [==============================] - 2s 50ms/step - loss: 0.1205 - categorical_accuracy: 0.7568 - f1_with_tfa: 0.3714 - val_loss: 0.1221 - val_categorical_accuracy: 0.7474 - val_f1_with_tfa: 0.4152\n",
      "Epoch 34/100\n",
      "31/31 [==============================] - 2s 49ms/step - loss: 0.1199 - categorical_accuracy: 0.7550 - f1_with_tfa: 0.3750 - val_loss: 0.1199 - val_categorical_accuracy: 0.7573 - val_f1_with_tfa: 0.4091\n",
      "Epoch 35/100\n",
      "31/31 [==============================] - 1s 49ms/step - loss: 0.1183 - categorical_accuracy: 0.7591 - f1_with_tfa: 0.3790 - val_loss: 0.1224 - val_categorical_accuracy: 0.7453 - val_f1_with_tfa: 0.4034\n",
      "Epoch 36/100\n",
      "31/31 [==============================] - 1s 49ms/step - loss: 0.1199 - categorical_accuracy: 0.7540 - f1_with_tfa: 0.3756 - val_loss: 0.1232 - val_categorical_accuracy: 0.7430 - val_f1_with_tfa: 0.4143\n",
      "Epoch 37/100\n",
      "31/31 [==============================] - 1s 47ms/step - loss: 0.1183 - categorical_accuracy: 0.7604 - f1_with_tfa: 0.3818 - val_loss: 0.1193 - val_categorical_accuracy: 0.7602 - val_f1_with_tfa: 0.4221\n",
      "Epoch 38/100\n",
      "31/31 [==============================] - 1s 47ms/step - loss: 0.1169 - categorical_accuracy: 0.7651 - f1_with_tfa: 0.3860 - val_loss: 0.1181 - val_categorical_accuracy: 0.7559 - val_f1_with_tfa: 0.4196\n",
      "Epoch 39/100\n",
      "31/31 [==============================] - 2s 49ms/step - loss: 0.1141 - categorical_accuracy: 0.7718 - f1_with_tfa: 0.3877 - val_loss: 0.1171 - val_categorical_accuracy: 0.7615 - val_f1_with_tfa: 0.4189\n",
      "Epoch 40/100\n",
      "31/31 [==============================] - 1s 47ms/step - loss: 0.1133 - categorical_accuracy: 0.7731 - f1_with_tfa: 0.3921 - val_loss: 0.1179 - val_categorical_accuracy: 0.7480 - val_f1_with_tfa: 0.4190\n",
      "Epoch 41/100\n",
      "31/31 [==============================] - 1s 44ms/step - loss: 0.1144 - categorical_accuracy: 0.7722 - f1_with_tfa: 0.3951 - val_loss: 0.1179 - val_categorical_accuracy: 0.7553 - val_f1_with_tfa: 0.4292\n",
      "Epoch 42/100\n",
      "31/31 [==============================] - 1s 44ms/step - loss: 0.1131 - categorical_accuracy: 0.7766 - f1_with_tfa: 0.3963 - val_loss: 0.1158 - val_categorical_accuracy: 0.7627 - val_f1_with_tfa: 0.4301\n",
      "Epoch 43/100\n",
      "31/31 [==============================] - 1s 43ms/step - loss: 0.1115 - categorical_accuracy: 0.7801 - f1_with_tfa: 0.4020 - val_loss: 0.1153 - val_categorical_accuracy: 0.7627 - val_f1_with_tfa: 0.4237\n",
      "Epoch 44/100\n",
      "31/31 [==============================] - 1s 44ms/step - loss: 0.1122 - categorical_accuracy: 0.7776 - f1_with_tfa: 0.3962 - val_loss: 0.1139 - val_categorical_accuracy: 0.7727 - val_f1_with_tfa: 0.4468\n",
      "Epoch 45/100\n",
      "31/31 [==============================] - 1s 44ms/step - loss: 0.1117 - categorical_accuracy: 0.7827 - f1_with_tfa: 0.4077 - val_loss: 0.1116 - val_categorical_accuracy: 0.7736 - val_f1_with_tfa: 0.4485\n",
      "Epoch 46/100\n",
      "31/31 [==============================] - 1s 45ms/step - loss: 0.1090 - categorical_accuracy: 0.7891 - f1_with_tfa: 0.4089 - val_loss: 0.1117 - val_categorical_accuracy: 0.7806 - val_f1_with_tfa: 0.4513\n",
      "Epoch 47/100\n",
      "31/31 [==============================] - 2s 49ms/step - loss: 0.1090 - categorical_accuracy: 0.7875 - f1_with_tfa: 0.4080 - val_loss: 0.1167 - val_categorical_accuracy: 0.7635 - val_f1_with_tfa: 0.4367\n",
      "Epoch 48/100\n",
      "31/31 [==============================] - 2s 52ms/step - loss: 0.1095 - categorical_accuracy: 0.7884 - f1_with_tfa: 0.4102 - val_loss: 0.1137 - val_categorical_accuracy: 0.7713 - val_f1_with_tfa: 0.4485\n",
      "Epoch 49/100\n",
      "31/31 [==============================] - 2s 53ms/step - loss: 0.1085 - categorical_accuracy: 0.7925 - f1_with_tfa: 0.4134 - val_loss: 0.1096 - val_categorical_accuracy: 0.7799 - val_f1_with_tfa: 0.4522\n",
      "Epoch 50/100\n",
      "31/31 [==============================] - 2s 50ms/step - loss: 0.1070 - categorical_accuracy: 0.7924 - f1_with_tfa: 0.4153 - val_loss: 0.1137 - val_categorical_accuracy: 0.7703 - val_f1_with_tfa: 0.4469\n",
      "Epoch 51/100\n",
      "31/31 [==============================] - 1s 48ms/step - loss: 0.1075 - categorical_accuracy: 0.7923 - f1_with_tfa: 0.4149 - val_loss: 0.1124 - val_categorical_accuracy: 0.7761 - val_f1_with_tfa: 0.4533\n",
      "Epoch 52/100\n",
      "31/31 [==============================] - 2s 50ms/step - loss: 0.1061 - categorical_accuracy: 0.7967 - f1_with_tfa: 0.4255 - val_loss: 0.1088 - val_categorical_accuracy: 0.7891 - val_f1_with_tfa: 0.4683\n",
      "Epoch 53/100\n",
      "31/31 [==============================] - 2s 49ms/step - loss: 0.1062 - categorical_accuracy: 0.7962 - f1_with_tfa: 0.4193 - val_loss: 0.1121 - val_categorical_accuracy: 0.7747 - val_f1_with_tfa: 0.4578\n",
      "Epoch 54/100\n",
      "31/31 [==============================] - 1s 48ms/step - loss: 0.1045 - categorical_accuracy: 0.8010 - f1_with_tfa: 0.4265 - val_loss: 0.1086 - val_categorical_accuracy: 0.7778 - val_f1_with_tfa: 0.4508\n",
      "Epoch 55/100\n",
      "31/31 [==============================] - 1s 47ms/step - loss: 0.1044 - categorical_accuracy: 0.8009 - f1_with_tfa: 0.4253 - val_loss: 0.1100 - val_categorical_accuracy: 0.7782 - val_f1_with_tfa: 0.4572\n",
      "Epoch 56/100\n",
      "31/31 [==============================] - 1s 42ms/step - loss: 0.1044 - categorical_accuracy: 0.8027 - f1_with_tfa: 0.4250 - val_loss: 0.1100 - val_categorical_accuracy: 0.7769 - val_f1_with_tfa: 0.4668\n",
      "Epoch 57/100\n",
      "31/31 [==============================] - 1s 42ms/step - loss: 0.1051 - categorical_accuracy: 0.7982 - f1_with_tfa: 0.4262 - val_loss: 0.1131 - val_categorical_accuracy: 0.7699 - val_f1_with_tfa: 0.4644\n",
      "Epoch 58/100\n",
      "31/31 [==============================] - 1s 45ms/step - loss: 0.1046 - categorical_accuracy: 0.8019 - f1_with_tfa: 0.4352 - val_loss: 0.1104 - val_categorical_accuracy: 0.7811 - val_f1_with_tfa: 0.4648\n",
      "Epoch 59/100\n",
      "31/31 [==============================] - 1s 44ms/step - loss: 0.1040 - categorical_accuracy: 0.8042 - f1_with_tfa: 0.4302 - val_loss: 0.1099 - val_categorical_accuracy: 0.7804 - val_f1_with_tfa: 0.4641\n",
      "Epoch 60/100\n",
      "31/31 [==============================] - 2s 49ms/step - loss: 0.1025 - categorical_accuracy: 0.8062 - f1_with_tfa: 0.4382 - val_loss: 0.1089 - val_categorical_accuracy: 0.7820 - val_f1_with_tfa: 0.4642\n",
      "Epoch 61/100\n",
      "31/31 [==============================] - 1s 49ms/step - loss: 0.1012 - categorical_accuracy: 0.8100 - f1_with_tfa: 0.4352 - val_loss: 0.1101 - val_categorical_accuracy: 0.7734 - val_f1_with_tfa: 0.4604\n",
      "Epoch 62/100\n",
      "31/31 [==============================] - 2s 49ms/step - loss: 0.1006 - categorical_accuracy: 0.8120 - f1_with_tfa: 0.4373 - val_loss: 0.1080 - val_categorical_accuracy: 0.7830 - val_f1_with_tfa: 0.4754\n",
      "Epoch 63/100\n",
      "31/31 [==============================] - 1s 49ms/step - loss: 0.1001 - categorical_accuracy: 0.8121 - f1_with_tfa: 0.4396 - val_loss: 0.1100 - val_categorical_accuracy: 0.7755 - val_f1_with_tfa: 0.4648\n",
      "Epoch 64/100\n",
      "31/31 [==============================] - 1s 48ms/step - loss: 0.1005 - categorical_accuracy: 0.8139 - f1_with_tfa: 0.4372 - val_loss: 0.1076 - val_categorical_accuracy: 0.7843 - val_f1_with_tfa: 0.4697\n",
      "Epoch 65/100\n",
      "31/31 [==============================] - 1s 48ms/step - loss: 0.1008 - categorical_accuracy: 0.8144 - f1_with_tfa: 0.4441 - val_loss: 0.1111 - val_categorical_accuracy: 0.7751 - val_f1_with_tfa: 0.4647\n",
      "Epoch 66/100\n",
      "31/31 [==============================] - 1s 48ms/step - loss: 0.0998 - categorical_accuracy: 0.8168 - f1_with_tfa: 0.4406 - val_loss: 0.1081 - val_categorical_accuracy: 0.7869 - val_f1_with_tfa: 0.4703\n",
      "Epoch 67/100\n",
      "31/31 [==============================] - 2s 54ms/step - loss: 0.1000 - categorical_accuracy: 0.8156 - f1_with_tfa: 0.4458 - val_loss: 0.1060 - val_categorical_accuracy: 0.7890 - val_f1_with_tfa: 0.4793\n",
      "Epoch 68/100\n",
      "31/31 [==============================] - 2s 51ms/step - loss: 0.0976 - categorical_accuracy: 0.8228 - f1_with_tfa: 0.4491 - val_loss: 0.1091 - val_categorical_accuracy: 0.7807 - val_f1_with_tfa: 0.4775\n",
      "Epoch 69/100\n",
      "31/31 [==============================] - 1s 45ms/step - loss: 0.1000 - categorical_accuracy: 0.8154 - f1_with_tfa: 0.4439 - val_loss: 0.1101 - val_categorical_accuracy: 0.7813 - val_f1_with_tfa: 0.4852\n",
      "Epoch 70/100\n",
      "31/31 [==============================] - 1s 44ms/step - loss: 0.0997 - categorical_accuracy: 0.8201 - f1_with_tfa: 0.4484 - val_loss: 0.1111 - val_categorical_accuracy: 0.7723 - val_f1_with_tfa: 0.4749\n",
      "Epoch 71/100\n",
      "31/31 [==============================] - 1s 43ms/step - loss: 0.0996 - categorical_accuracy: 0.8202 - f1_with_tfa: 0.4495 - val_loss: 0.1085 - val_categorical_accuracy: 0.7820 - val_f1_with_tfa: 0.4682\n",
      "Epoch 72/100\n",
      "31/31 [==============================] - 1s 42ms/step - loss: 0.0991 - categorical_accuracy: 0.8193 - f1_with_tfa: 0.4438 - val_loss: 0.1092 - val_categorical_accuracy: 0.7861 - val_f1_with_tfa: 0.4727\n",
      "Epoch 73/100\n",
      "31/31 [==============================] - 1s 42ms/step - loss: 0.0992 - categorical_accuracy: 0.8186 - f1_with_tfa: 0.4455 - val_loss: 0.1093 - val_categorical_accuracy: 0.7836 - val_f1_with_tfa: 0.4782\n",
      "Epoch 74/100\n",
      "31/31 [==============================] - 1s 48ms/step - loss: 0.0975 - categorical_accuracy: 0.8233 - f1_with_tfa: 0.4482 - val_loss: 0.1074 - val_categorical_accuracy: 0.7848 - val_f1_with_tfa: 0.4690\n",
      "Epoch 75/100\n",
      "31/31 [==============================] - 2s 49ms/step - loss: 0.0961 - categorical_accuracy: 0.8276 - f1_with_tfa: 0.4493 - val_loss: 0.1068 - val_categorical_accuracy: 0.7884 - val_f1_with_tfa: 0.4967\n",
      "Epoch 76/100\n",
      "31/31 [==============================] - 2s 51ms/step - loss: 0.0958 - categorical_accuracy: 0.8249 - f1_with_tfa: 0.4547 - val_loss: 0.1086 - val_categorical_accuracy: 0.7905 - val_f1_with_tfa: 0.4805\n",
      "Epoch 77/100\n",
      "31/31 [==============================] - 1s 48ms/step - loss: 0.0985 - categorical_accuracy: 0.8224 - f1_with_tfa: 0.4515 - val_loss: 0.1100 - val_categorical_accuracy: 0.7789 - val_f1_with_tfa: 0.4686\n",
      "Epoch 78/100\n",
      "31/31 [==============================] - 2s 49ms/step - loss: 0.0990 - categorical_accuracy: 0.8227 - f1_with_tfa: 0.4479 - val_loss: 0.1091 - val_categorical_accuracy: 0.7850 - val_f1_with_tfa: 0.4753\n",
      "Epoch 79/100\n",
      "31/31 [==============================] - 1s 48ms/step - loss: 0.0981 - categorical_accuracy: 0.8231 - f1_with_tfa: 0.4517 - val_loss: 0.1099 - val_categorical_accuracy: 0.7813 - val_f1_with_tfa: 0.4800\n",
      "Epoch 80/100\n",
      "31/31 [==============================] - 2s 50ms/step - loss: 0.0967 - categorical_accuracy: 0.8273 - f1_with_tfa: 0.4553 - val_loss: 0.1124 - val_categorical_accuracy: 0.7759 - val_f1_with_tfa: 0.4766\n",
      "Epoch 81/100\n",
      "31/31 [==============================] - 1s 45ms/step - loss: 0.0970 - categorical_accuracy: 0.8290 - f1_with_tfa: 0.4606 - val_loss: 0.1091 - val_categorical_accuracy: 0.7755 - val_f1_with_tfa: 0.4662\n",
      "Epoch 82/100\n",
      "31/31 [==============================] - 1s 44ms/step - loss: 0.0962 - categorical_accuracy: 0.8295 - f1_with_tfa: 0.4578 - val_loss: 0.1100 - val_categorical_accuracy: 0.7868 - val_f1_with_tfa: 0.4892\n",
      "Epoch 83/100\n",
      "31/31 [==============================] - 1s 43ms/step - loss: 0.0943 - categorical_accuracy: 0.8330 - f1_with_tfa: 0.4667 - val_loss: 0.1077 - val_categorical_accuracy: 0.7819 - val_f1_with_tfa: 0.4814\n",
      "Epoch 84/100\n",
      "31/31 [==============================] - 1s 43ms/step - loss: 0.0953 - categorical_accuracy: 0.8301 - f1_with_tfa: 0.4591 - val_loss: 0.1121 - val_categorical_accuracy: 0.7787 - val_f1_with_tfa: 0.4676\n",
      "Epoch 85/100\n",
      "31/31 [==============================] - 2s 49ms/step - loss: 0.0959 - categorical_accuracy: 0.8313 - f1_with_tfa: 0.4592 - val_loss: 0.1080 - val_categorical_accuracy: 0.7853 - val_f1_with_tfa: 0.4879\n"
     ]
    }
   ],
   "source": [
    "# fourth model    \n",
    "layers_info_bilstm_two_dense = [\n",
    "    {\n",
    "        \"layer_name\": layers.Masking,\n",
    "        \"name\": \"padding_masking\",\n",
    "        \"mask_value\": 0.,\n",
    "        \"input_shape\": X_train.shape[1:]\n",
    "    },\n",
    "    {\n",
    "        'layer_name': layers.Bidirectional,\n",
    "        \"layer\": layers.LSTM(best_hps_bilstm_two_dense.get('units1'), return_sequences=True, kernel_regularizer=keras.regularizers.l2(0.01)),\n",
    "        \"name\": \"bilstm_1\",\n",
    "    },\n",
    "    {\n",
    "        \"layer_name\": layers.Dropout,\n",
    "        \"rate\": best_hps_bilstm_two_dense.get('dropout1'),\n",
    "        \"name\": \"dropout_1\"\n",
    "    },\n",
    "    {\n",
    "        \"layer_name\": layers.Dense,\n",
    "        \"units\": best_hps_bilstm_two_dense.get('units2'),\n",
    "        \"activation\": \"relu\",\n",
    "        \"kernel_regularizer\": keras.regularizers.l2(0.01),\n",
    "        \"name\": \"dense_1\"\n",
    "    },\n",
    "    {\n",
    "        \"layer_name\": layers.Dropout,\n",
    "        \"rate\": best_hps_bilstm_two_dense.get('dropout2'),\n",
    "        \"name\": \"dropout_2\"\n",
    "    },\n",
    "    {\n",
    "        \"layer_name\": layers.Dense,\n",
    "        \"units\": n_classes,\n",
    "        \"activation\": \"softmax\",\n",
    "        \"name\": \"dense_2\"\n",
    "    }\n",
    "]\n",
    "\n",
    "compile_info_bilstm_two_dense = {\n",
    "    'optimizer': keras.optimizers.Adam(learning_rate=best_hps_bilstm_two_dense.get('learning_rate')),\n",
    "    'loss': 'categorical_crossentropy',\n",
    "    'metrics' : ['categorical_accuracy', f1_with_tfa]\n",
    "}\n",
    "\n",
    "model_bilstm_two_dense = create_model(layers_info_bilstm_two_dense, compile_info_bilstm_two_dense)\n",
    "model_bilstm_two_dense.summary()\n",
    "\n",
    "# start training\n",
    "history_bilstm_two_dense = model_bilstm_two_dense.fit(X_train, y_train, epochs=epochs_training, batch_size=batch_size_training, validation_data=(X_dev, y_dev), callbacks=callbacks_training)"
   ]
  },
  {
   "cell_type": "markdown",
   "metadata": {
    "id": "2NnTW1ct3ZUP"
   },
   "source": [
    "#### 2.3.1 Store or load all the trained models"
   ]
  },
  {
   "cell_type": "markdown",
   "metadata": {
    "id": "A29NOAda3ZUP"
   },
   "source": [
    "Store weights and history"
   ]
  },
  {
   "cell_type": "code",
   "execution_count": 25,
   "metadata": {
    "id": "Rp38wlcW3ZUP"
   },
   "outputs": [],
   "source": [
    "# store models weights\n",
    "path_model_weights = os.path.join(os.getcwd(), 'models_f1', 'weights')\n",
    "model_bilstm.save_weights(os.path.join(path_model_weights, 'weights_bilstm.h5'))\n",
    "model_bigru.save_weights(os.path.join(path_model_weights, 'weights_bigru.h5'))\n",
    "model_two_bilstm.save_weights(os.path.join(path_model_weights, 'weights_two_bilstm.h5'))\n",
    "model_bilstm_two_dense.save_weights(os.path.join(path_model_weights, 'weights_bilstm_two_dense.h5'))"
   ]
  },
  {
   "cell_type": "code",
   "execution_count": 26,
   "metadata": {
    "id": "GiLuH0Px3ZUQ"
   },
   "outputs": [],
   "source": [
    "# convert the history.history dict to a pandas DataFrame: \n",
    "path_model_weights = os.path.join(os.getcwd(), 'models_f1', 'history')\n",
    "    \n",
    "df_history_bilstm = pd.DataFrame(history_bilstm.history) \n",
    "with open(os.path.join(path_model_weights, \"history_bilstm.csv\"), mode=\"w\") as file:\n",
    "    df_history_bilstm.to_csv(file)\n",
    "\n",
    "df_history_bigru = pd.DataFrame(history_bigru.history)\n",
    "with open(os.path.join(path_model_weights, \"history_bigru.csv\"), mode=\"w\") as file:\n",
    "    df_history_bigru.to_csv(file)\n",
    "\n",
    "df_history_two_bilstm = pd.DataFrame(history_two_bilstm.history)\n",
    "with open(os.path.join(path_model_weights, \"history_two_bilstm.csv\"), mode=\"w\") as file:\n",
    "    df_history_two_bilstm.to_csv(file)\n",
    "\n",
    "df_history_bilstm_two_dense = pd.DataFrame(history_bilstm_two_dense.history)\n",
    "with open(os.path.join(path_model_weights, \"history_bilstm_two_dense.csv\"), mode=\"w\") as file:\n",
    "    df_history_bilstm_two_dense.to_csv(file)"
   ]
  },
  {
   "cell_type": "markdown",
   "metadata": {
    "id": "qQy5JgGT3ZUQ"
   },
   "source": [
    "Read weights"
   ]
  },
  {
   "cell_type": "code",
   "execution_count": 27,
   "metadata": {
    "id": "_puUbUNv3ZUQ"
   },
   "outputs": [],
   "source": [
    "# Restore the weights\n",
    "path_model_weights = os.path.join(os.getcwd(), 'models_f1', 'weights')\n",
    "model_bilstm.load_weights(os.path.join(path_model_weights, 'weights_bilstm.h5'))\n",
    "model_bigru.load_weights(os.path.join(path_model_weights, 'weights_bigru.h5'))\n",
    "model_two_bilstm.load_weights(os.path.join(path_model_weights, 'weights_two_bilstm.h5'))\n",
    "model_bilstm_two_dense.load_weights(os.path.join(path_model_weights, 'weights_bilstm_two_dense.h5'))"
   ]
  },
  {
   "cell_type": "markdown",
   "metadata": {
    "id": "ab9ETsbC2Q82"
   },
   "source": [
    "### 2.4 History of the training\n",
    "Plot metrics evolution for each epoch during the training"
   ]
  },
  {
   "cell_type": "code",
   "execution_count": 28,
   "metadata": {
    "id": "25YBLK3E2R6m"
   },
   "outputs": [],
   "source": [
    "def plot_history(models_history, keys, model_names=[], labels=(\"epochs\", \"metrics\"), figsize=(10,5), cmap='rainbow'):\n",
    "    \"\"\"\n",
    "    Plot the history of the metrics in the history dictionary for each model.\n",
    "        :param models_history: array of dictionary of the metric history for each model\n",
    "        :param keys: list of keys of the metrics to plot\n",
    "        :param model_names: list of names of the models\n",
    "        :param labels: list of labels of the axes\n",
    "        :param figsize: size of the figure\n",
    "        :param cmap: color map used for the plot\n",
    "    \"\"\"\n",
    "\n",
    "    # maps each model to a distinct RGB color\n",
    "    cmap = plt.cm.get_cmap(cmap, len(models_history))\n",
    "\n",
    "    \n",
    "    fig = plt.figure(figsize=figsize)\n",
    "\n",
    "    # for each model trained\n",
    "    for i, history in enumerate(models_history):\n",
    "        # take all pairs of training and val metrics\n",
    "        for j in range(0, len(keys), 2):\n",
    "            metric, val_metric = keys[j], keys[j+1]\n",
    "            \n",
    "            plt.plot(history[metric], label=f\"{model_names[i]} {metric}\", linestyle=\"solid\", color=cmap(i))\n",
    "            plt.plot(history[val_metric],  label=f\"{model_names[i]} {val_metric}\", linestyle=\"--\",  color=cmap(i))\n",
    "        \n",
    "    plt.xlabel(labels[0])\n",
    "    plt.ylabel(labels[1])\n",
    "\n",
    "    # Adding legend\n",
    "    plt.legend(\n",
    "          title =\"Legend\",\n",
    "          loc =\"upper left\",\n",
    "          bbox_to_anchor =(1.0, 0, 0.5, 1))\n",
    "    plt.title(\"Training history\")\n",
    "    plt.grid(linestyle='--', linewidth=1)\n",
    "    plt.show()"
   ]
  },
  {
   "cell_type": "code",
   "execution_count": 29,
   "metadata": {
    "id": "Ca9TMoj42VgT"
   },
   "outputs": [
    {
     "data": {
      "image/png": "[encoded data removed]",
      "text/plain": [
       "<Figure size 1080x504 with 1 Axes>"
      ]
     },
     "metadata": {
      "needs_background": "light"
     },
     "output_type": "display_data"
    },
    {
     "data": {
      "image/png": "[encoded data removed]",
      "text/plain": [
       "<Figure size 1080x504 with 1 Axes>"
      ]
     },
     "metadata": {
      "needs_background": "light"
     },
     "output_type": "display_data"
    }
   ],
   "source": [
    "models_history = [history_bilstm.history, history_bigru.history, history_two_bilstm.history, history_bilstm_two_dense.history]\n",
    "model_names = [\"BiLSTM\", \"BiGRU\", \"2 BiLSTM\", \"BiLSTM + 2 Dense\"]\n",
    "plot_history(models_history, keys=['loss', 'val_loss'], model_names=model_names, labels=(\"epochs\", \"loss\"), figsize=(15,7),  cmap='bwr')\n",
    "plot_history(models_history, keys=['f1_with_tfa', 'val_f1_with_tfa'], model_names=model_names, labels=(\"epochs\", \"f1 score\"), figsize=(15,7),  cmap='bwr')"
   ]
  },
  {
   "cell_type": "markdown",
   "metadata": {
    "id": "ZmIWLatvkqzt"
   },
   "source": [
    "## 3. Evaluation"
   ]
  },
  {
   "cell_type": "code",
   "execution_count": 30,
   "metadata": {
    "collapsed": false,
    "pycharm": {
     "name": "#%%\n"
    }
   },
   "outputs": [],
   "source": [
    "def adapt_output_for_evaluation(y_true, y_pred):\n",
    "  \"\"\"\n",
    "  given true outputs and predicted ones, this function returns\n",
    "  both of them in 1D and as classes and not probability distributions\n",
    "  \"\"\"\n",
    "  len_sentence = y_pred.shape[1]\n",
    "  num_sentences = y_pred.shape[0]\n",
    "  pred_val = np.empty((num_sentences, len_sentence))\n",
    "  true_val = np.empty((num_sentences, len_sentence))\n",
    "  # assign label with the highest probability\n",
    "  for i in range(num_sentences):\n",
    "      for j in range(len_sentence):\n",
    "          pred_val[i,j] = np.argmax(y_pred[i,j,:])\n",
    "          true_val[i,j] = np.argmax(y_true[i,j,:])\n",
    "  # flatten the numpy array to have a 1D array\n",
    "  true_val = true_val.flatten()\n",
    "  pred_val = pred_val.flatten()\n",
    "  return true_val, pred_val"
   ]
  },
  {
   "cell_type": "code",
   "execution_count": 31,
   "metadata": {
    "collapsed": false,
    "pycharm": {
     "name": "#%%\n"
    }
   },
   "outputs": [],
   "source": [
    "def show_classification_report(model, X_test, y_test, labels, names, sorted_by=None, ascending=True):\n",
    "  \"\"\"\n",
    "  Show classification report using only classes in names\n",
    "  \"\"\"\n",
    "  raw_y_true = np.array(y_test)\n",
    "  raw_y_pred = model.predict(X_test)\n",
    "  y_true, y_pred = adapt_output_for_evaluation(raw_y_true, raw_y_pred)\n",
    "  dictionary =  classification_report(y_true, y_pred, labels=labels, target_names=names, output_dict=True, zero_division=0)\n",
    "  # global performance\n",
    "  keys = ['weighted avg', 'micro avg', 'macro avg']\n",
    "  global_dict = {key: dictionary[key] for key in keys}\n",
    "  for key in keys:\n",
    "    del dictionary[key]\n",
    "\n",
    "  df = pd.DataFrame.from_dict(dictionary).transpose().round(2)\n",
    "  if sorted_by:\n",
    "    df.sort_values(by=sorted_by, ascending=ascending, inplace=True)\n",
    "  print(df)\n",
    "\n",
    "  print(\"\\n\\n\")\n",
    "\n",
    "  df_glob = pd.DataFrame.from_dict(global_dict).transpose().round(2)\n",
    "  print(df_glob)"
   ]
  },
  {
   "cell_type": "code",
   "execution_count": 32,
   "metadata": {
    "id": "Q71LkwAPkqzt"
   },
   "outputs": [],
   "source": [
    "def evaluate_model(model, X_test, y_test, labels):\n",
    "    \"\"\"\n",
    "    given a trained model and a test set returns the f-score and the confusion matrix\n",
    "    taking into account only classes in labels\n",
    "    \"\"\"\n",
    "    raw_y_true = np.array(y_test)\n",
    "    raw_y_pred = model.predict(X_test)\n",
    "    y_true, y_pred = adapt_output_for_evaluation(raw_y_true, raw_y_pred)\n",
    "    # show confusion matrix\n",
    "    conf_matrix = confusion_matrix(y_true, y_pred, labels=labels)\n",
    "    disp = ConfusionMatrixDisplay(conf_matrix)\n",
    "    fig, ax = plt.subplots(figsize=(10,10))\n",
    "    disp.plot(ax=ax)\n",
    "    # f1 score\n",
    "    print(\"F score:\\n-------------------------------\\n\")\n",
    "    print(sklearn.metrics.f1_score(y_true, y_pred, labels=labels, average='macro', zero_division=0))"
   ]
  },
  {
   "cell_type": "code",
   "execution_count": 37,
   "metadata": {
    "id": "ua2c1KdCkqzt"
   },
   "outputs": [
    {
     "name": "stdout",
     "output_type": "stream",
     "text": [
      "F score:\n",
      "-------------------------------\n",
      "\n",
      "0.6351419244404872\n"
     ]
    },
    {
     "data": {
      "image/png": "[encoded data removed]",
      "text/plain": [
       "<Figure size 720x720 with 2 Axes>"
      ]
     },
     "metadata": {
      "needs_background": "light"
     },
     "output_type": "display_data"
    }
   ],
   "source": [
    "punctuation_indexes = [0, 1, 2, 3, 4, 5, 6, 7, 16, 30, 43]\n",
    "classes = target_vectorizer.get_classes()\n",
    "valid_labels = list(set(range(len(classes))) - set(punctuation_indexes))\n",
    "\n",
    "# confusion matrix and global f1 score\n",
    "evaluate_model(model_bilstm, X_test, y_test, valid_labels)"
   ]
  },
  {
   "cell_type": "code",
   "execution_count": 38,
   "metadata": {
    "collapsed": false,
    "pycharm": {
     "name": "#%%\n"
    }
   },
   "outputs": [
    {
     "name": "stdout",
     "output_type": "stream",
     "text": [
      "      precision  recall  f1-score  support\n",
      "TO         1.00    1.00      1.00    560.0\n",
      "POS        0.98    1.00      0.99    244.0\n",
      "PRP$       0.99    0.98      0.98    148.0\n",
      "``         0.97    1.00      0.98     98.0\n",
      "DT         0.98    0.96      0.97   1988.0\n",
      "MD         0.98    0.91      0.95    245.0\n",
      "CC         0.94    0.94      0.94    541.0\n",
      "IN         0.95    0.93      0.94   2460.0\n",
      "WDT        0.96    0.90      0.93    124.0\n",
      "PRP        0.94    0.91      0.92    265.0\n",
      "VB         0.89    0.92      0.91    602.0\n",
      "VBZ        0.96    0.85      0.90    390.0\n",
      "CD         0.93    0.84      0.88   1271.0\n",
      "WP         0.96    0.80      0.87     30.0\n",
      "VBD        0.88    0.82      0.85    964.0\n",
      "NNS        0.74    0.84      0.78   1452.0\n",
      "NN         0.84    0.72      0.77   3563.0\n",
      "NNP        0.68    0.88      0.76   2225.0\n",
      "EX         0.90    0.64      0.75     14.0\n",
      "VBP        0.65    0.80      0.72    196.0\n",
      "VBN        0.76    0.60      0.67    548.0\n",
      "JJ         0.60    0.74      0.66   1405.0\n",
      "RB         0.64    0.63      0.63    599.0\n",
      "VBG        0.62    0.55      0.58    321.0\n",
      "JJR        0.59    0.51      0.55    109.0\n",
      "RBR        0.36    0.42      0.39     19.0\n",
      "RBS        1.00    0.17      0.29      6.0\n",
      "NNPS       0.17    0.01      0.02     83.0\n",
      "UH         0.00    0.00      0.00      0.0\n",
      "SYM        0.00    0.00      0.00      0.0\n",
      "PDT        0.00    0.00      0.00      9.0\n",
      "LS         0.00    0.00      0.00      0.0\n",
      "WP$        0.00    0.00      0.00      5.0\n",
      "FW         0.00    0.00      0.00      0.0\n",
      "\n",
      "\n",
      "\n",
      "              precision  recall  f1-score  support\n",
      "weighted avg       0.83    0.83      0.83  20484.0\n",
      "micro avg          0.82    0.83      0.83  20484.0\n",
      "macro avg          0.67    0.63      0.64  20484.0\n"
     ]
    }
   ],
   "source": [
    "# classification report using only meaningful classes\n",
    "meaningful_classes = classes[valid_labels]\n",
    "show_classification_report(model_bilstm, X_test, y_test, valid_labels, meaningful_classes, sorted_by=['f1-score'], ascending=False)"
   ]
  },
  {
   "cell_type": "code",
   "execution_count": 39,
   "metadata": {
    "id": "sFaG0yb4kqzu"
   },
   "outputs": [
    {
     "name": "stdout",
     "output_type": "stream",
     "text": [
      "Original POS tagging:  ['IN' 'DT' 'CD' 'IN' 'CD' ',' 'DT' 'CD' 'CD' 'NNS' 'VBD' 'DT' 'JJ' 'NN'\n",
      " 'NN' '-LRB-' 'NNP' '-RRB-' 'TO' 'VB' 'NNS' 'CC' 'NN' 'NN' '.']\n",
      "Predicted POS tagging:  ['IN' 'DT' 'NNP' 'NNP' 'NNP' ',' 'RB' 'CD' 'NNS' 'NNS' 'VBD' 'DT' 'JJ'\n",
      " 'VBG' 'NNP' '-LRB-' 'NNP' '-RRB-' 'TO' 'VB' 'NNS' 'CC' 'NNP' 'NN' '.']\n"
     ]
    }
   ],
   "source": [
    "i_test = 2  # change this to see the prediction for a different sentence\n",
    "\n",
    "print(\"Original POS tagging: \",target_vectorizer.inverse_transform([y_test[i_test]])[0])\n",
    "\n",
    "raw_y_pred = model_bilstm.predict(np.array([X_test[i_test]]))\n",
    "# shape of the output is doc x len_sen x classes\n",
    "# argmax for label predictions\n",
    "\n",
    "print(\"Predicted POS tagging: \",target_vectorizer.inverse_transform_probabilities(raw_y_pred)[0])"
   ]
  }
 ],
 "metadata": {
  "accelerator": "GPU",
  "colab": {
   "collapsed_sections": [],
   "include_colab_link": true,
   "name": "Copy of POS_tagging.ipynb",
   "provenance": []
  },
  "interpreter": {
   "hash": "63e28586807c6502c782d898cf9a0cc5787bb3d77952b17b51ec8bdcd4044a3d"
  },
  "kernelspec": {
   "display_name": "Python 3",
   "language": "python",
   "name": "python3"
  },
  "language_info": {
   "codemirror_mode": {
    "name": "ipython",
    "version": 3
   },
   "file_extension": ".py",
   "mimetype": "text/x-python",
   "name": "python",
   "nbconvert_exporter": "python",
   "pygments_lexer": "ipython3",
   "version": "3.9.7"
  }
 },
 "nbformat": 4,
 "nbformat_minor": 0
}

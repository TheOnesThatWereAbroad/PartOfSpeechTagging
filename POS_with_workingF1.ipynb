{
 "cells": [
  {
   "cell_type": "markdown",
   "metadata": {
    "colab_type": "text",
    "id": "view-in-github"
   },
   "source": [
    "<a href=\"https://colab.research.google.com/github/TheOnesThatWereAbroad/Assignment1/blob/main/POS_with_workingF1.ipynb\" target=\"_parent\"><img src=\"https://colab.research.google.com/assets/colab-badge.svg\" alt=\"Open In Colab\"/></a>"
   ]
  },
  {
   "cell_type": "markdown",
   "metadata": {
    "id": "tc8x9pA00Sfd"
   },
   "source": [
    "# Assignment 1 - POS tagging"
   ]
  },
  {
   "cell_type": "code",
   "execution_count": 1,
   "metadata": {
    "id": "jHhrkDf2kqzg"
   },
   "outputs": [],
   "source": [
    "import os\n",
    "import numpy as np\n",
    "import matplotlib.pyplot as plt\n",
    "import pandas as pd\n",
    "\n",
    "import tensorflow as tf\n",
    "import tensorflow_addons as tfa\n",
    "from tensorflow import keras\n",
    "from tensorflow.keras import layers\n",
    "import tensorflow.keras.backend as K\n",
    "import keras_tuner as kt\n",
    "import sklearn\n",
    "from sklearn.metrics import confusion_matrix, ConfusionMatrixDisplay, f1_score, classification_report\n",
    "\n",
    "from data_input import DataInput\n",
    "from text_vectorizer import TextVectorizer, TargetVectorizer"
   ]
  },
  {
   "cell_type": "markdown",
   "metadata": {
    "id": "jx2qo48Ikqzi"
   },
   "source": [
    "## 1. Build a dataset"
   ]
  },
  {
   "cell_type": "markdown",
   "metadata": {
    "id": "IN34sX55kqzi"
   },
   "source": [
    "### 1.1 Dataset preparation\n",
    "For this experiment, the [Dependency Parsed Treebank](https://www.nltk.org/nltk_data/) dataset is used.\n",
    "Notice that each document is slitted into sentences, so the dimensionality of the data is more than 199 (total number of documents in the dataset)"
   ]
  },
  {
   "cell_type": "code",
   "execution_count": 2,
   "metadata": {
    "colab": {
     "base_uri": "https://localhost:8080/"
    },
    "id": "eRQ_hwv9mHtK",
    "outputId": "4f9383d0-ccf0-43e2-e206-12c0e7a79586"
   },
   "outputs": [
    {
     "name": "stdout",
     "output_type": "stream",
     "text": [
      "Train set size: 1957\n",
      "Dev set size: 979\n",
      "Test set size: 978\n"
     ]
    }
   ],
   "source": [
    "# download the dataset and split it into train, dev and test sets\n",
    "dataset = DataInput(\n",
    "        data_url=\"https://raw.githubusercontent.com/nltk/nltk_data/gh-pages/packages/corpora/dependency_treebank.zip\",\n",
    "        train_size=0.50,\n",
    "        dev_size=0.25,\n",
    "        dataset_folder=os.path.join(os.getcwd(), \"dataset\"),\n",
    "        split_into_sentences=True,\n",
    "        shuffle=False\n",
    "    )"
   ]
  },
  {
   "cell_type": "markdown",
   "metadata": {
    "id": "SGQatFzWkqzk"
   },
   "source": [
    "Pre-processing is always an important step with which start. There are a lot of pre-processing steps that we can consider, but for this experiment the only pre-processing operation performed is:\n",
    "- **to lower**, in part-of-speech tagging scenario casing of the input tokens is crucial to find the correspondent token in the embedding vocabulary"
   ]
  },
  {
   "cell_type": "code",
   "execution_count": 3,
   "metadata": {
    "id": "YbVR94oskqzk"
   },
   "outputs": [],
   "source": [
    "# do preprocessing for train, validation and test sets\n",
    "dataset.preprocessing(\"train\", to_lower=True)\n",
    "dataset.preprocessing(\"dev\", to_lower=True)\n",
    "dataset.preprocessing(\"test\", to_lower=True)\n",
    "\n",
    "# separate inputs and targets\n",
    "X_train, y_train = dataset.train\n",
    "X_dev, y_dev = dataset.dev\n",
    "X_test, y_test = dataset.test"
   ]
  },
  {
   "cell_type": "code",
   "execution_count": 4,
   "metadata": {
    "colab": {
     "base_uri": "https://localhost:8080/"
    },
    "id": "lxfgDx0jrnqV",
    "outputId": "e05c2488-baa5-405f-89df-a119da9a35be"
   },
   "outputs": [
    {
     "data": {
      "text/plain": [
       "(1957,)"
      ]
     },
     "execution_count": 4,
     "metadata": {},
     "output_type": "execute_result"
    }
   ],
   "source": [
    "dataset.train[0].shape"
   ]
  },
  {
   "cell_type": "markdown",
   "metadata": {
    "id": "IPv-M1xEmHtM"
   },
   "source": [
    "### 1.2 Dataset analysis\n",
    "Let's take a look at the dataset, to inspect the distribution of the POS tags"
   ]
  },
  {
   "cell_type": "code",
   "execution_count": 5,
   "metadata": {
    "id": "Oh9Jg3ePkqzm"
   },
   "outputs": [],
   "source": [
    "def get_occurences(data, ordered=False, exclude=[]):\n",
    "    \"\"\"\n",
    "    Get the occurences of each token in the data.\n",
    "\n",
    "    Parameters\n",
    "    ----------\n",
    "    data : list of np arrays, representing the data to get the occurences from\n",
    "    ordered : bool, if True, the occurences will be returned in descending order\n",
    "    exclude : list of strings, tokens that should not be included in the occurences\n",
    "\n",
    "    Returns\n",
    "    -------\n",
    "    occurences : dict, mapping each token to the number of occurences\n",
    "    \"\"\"\n",
    "    tokens, counts = np.unique(np.concatenate(data), return_counts=True)\n",
    "    occurences = dict(zip(tokens, counts))\n",
    "\n",
    "    if len(exclude) > 0:\n",
    "        for token in exclude:\n",
    "            if token in occurences:\n",
    "                del occurences[token]\n",
    "\n",
    "    if ordered:\n",
    "        occurences = dict(sorted(occurences.items(), key=lambda x: x[1], reverse=True))\n",
    "    return occurences\n",
    "\n",
    "# get the occurences of each POS tag in the three sets \n",
    "train_tags_occ = get_occurences(y_train, ordered=True, exclude=[])\n",
    "dev_tags_occ = get_occurences(y_dev, exclude=[])\n",
    "test_tags_occ = get_occurences(y_test, exclude=[])\n",
    "\n",
    "# build a matrix of the occurences of size (n_tags, 3)\n",
    "tags_occ = np.array([[v, dev_tags_occ[k], test_tags_occ[k]] if k in dev_tags_occ and k in test_tags_occ else [v, dev_tags_occ[k], 0] if k in dev_tags_occ else [v, 0, test_tags_occ[k]] if k in test_tags_occ else [v, 0, 0] for k, v in train_tags_occ.items()])"
   ]
  },
  {
   "cell_type": "code",
   "execution_count": 6,
   "metadata": {
    "colab": {
     "base_uri": "https://localhost:8080/",
     "height": 530
    },
    "id": "aZh5QAJIkqzn",
    "outputId": "e52bd3da-ddec-4f20-9350-18d6376fa2f9"
   },
   "outputs": [
    {
     "data": {
      "text/plain": [
       "[]"
      ]
     },
     "execution_count": 6,
     "metadata": {},
     "output_type": "execute_result"
    },
    {
     "data": {
      "image/png": "[encoded data removed]",
      "text/plain": [
       "<Figure size 1656x576 with 1 Axes>"
      ]
     },
     "metadata": {
      "needs_background": "light"
     },
     "output_type": "display_data"
    }
   ],
   "source": [
    "# plot bar chart of the occurences of each POS tag\n",
    "fig, ax = plt.subplots(1, 1, figsize=(23, 8))\n",
    "tags = list(train_tags_occ.keys())\n",
    "ax.bar(tags, tags_occ[:, 1], width=0.3, align='edge', label='dev')\n",
    "ax.bar(tags, tags_occ[:, 2], width=-0.6, align='edge', label='test')\n",
    "ax.bar(tags, tags_occ[:, 0], width=-0.3, align='edge', label='train')\n",
    "ax.set_xticks(tags)\n",
    "ax.set_xlabel('Tags')\n",
    "ax.set_ylabel('Occurences')\n",
    "ax.set_title(\"Occurences of POS tags\")\n",
    "ax.legend()\n",
    "plt.plot()"
   ]
  },
  {
   "cell_type": "code",
   "execution_count": 7,
   "metadata": {
    "colab": {
     "base_uri": "https://localhost:8080/"
    },
    "id": "QYCqD_Zpkqzo",
    "outputId": "2a55eec6-cf3b-43e5-c366-1b5aa65f9b41"
   },
   "outputs": [
    {
     "name": "stdout",
     "output_type": "stream",
     "text": [
      "The following tags (from the train set) are not in the dev set: {'SYM'}\n",
      "The following tags (from the train set) are not in the test set: {'FW', 'SYM', 'UH', 'LS'}\n"
     ]
    }
   ],
   "source": [
    "# analyze the difference between the presence of the POS tags in the train, dev and test sets\n",
    "train_tags_not_dev = set(train_tags_occ.keys()) - set(dev_tags_occ.keys())\n",
    "train_tags_not_test = set(train_tags_occ.keys()) - set(test_tags_occ.keys())\n",
    "dev_tags_not_train = set(dev_tags_occ.keys()) - set(train_tags_occ.keys())\n",
    "test_tags_not_train = set(test_tags_occ.keys()) - set(train_tags_occ.keys())\n",
    "\n",
    "if(len(train_tags_not_dev) > 0):\n",
    "    print(\"The following tags (from the train set) are not in the dev set:\", train_tags_not_dev)\n",
    "if(len(train_tags_not_test) > 0):\n",
    "    print(\"The following tags (from the train set) are not in the test set:\", train_tags_not_test)\n",
    "if(len(dev_tags_not_train) > 0):\n",
    "    print(\"The following tags (from the dev set) are not in the train set:\", dev_tags_not_train)\n",
    "if(len(test_tags_not_train) > 0):\n",
    "    print(\"The following tags (from the test set) are not in the train set:\", test_tags_not_train)"
   ]
  },
  {
   "cell_type": "markdown",
   "metadata": {
    "id": "mkIYSNxukqzo"
   },
   "source": [
    "### 1.3 GloVe embeddings vectorization\n",
    "The next step consists in downloading a pre-trained embedding model, namely GloVe. It is a techniques that tries to encoded global semantic properties based on the co-occurrence matrix.\n",
    "Three different dimensional space versions are available: 50, 100, 200.\n",
    "\n",
    "From the choosen embedding, a starting vocabulary is built.\n",
    "Then this vocabulary is enriched with the embeddings computed for the OOV words."
   ]
  },
  {
   "cell_type": "code",
   "execution_count": 8,
   "metadata": {
    "colab": {
     "base_uri": "https://localhost:8080/"
    },
    "id": "MxU2LR1Bkqzp",
    "outputId": "36824a8a-cbdd-4b55-e8d5-cbbf5d3e753c"
   },
   "outputs": [
    {
     "name": "stdout",
     "output_type": "stream",
     "text": [
      "Parsing the training set...\n",
      "Generated embeddings for 358 OOV words.\n",
      "\n",
      "Parsing the validation set...\n",
      "Generated embeddings for 131 OOV words.\n",
      "\n",
      "Parsing the test set...\n",
      "Generated embeddings for 187 OOV words.\n"
     ]
    }
   ],
   "source": [
    "# initialize the vectorizer for the input tokens to convert them to embedding vectors\n",
    "# and build the vocabulary V1 from the glove embeddings\n",
    "text_vectorizer = TextVectorizer(\n",
    "    glove_url=\"http://nlp.stanford.edu/data/glove.6B.zip\",\n",
    "    embedding_dim=100,\n",
    "    embedding_folder=os.path.join(os.getcwd(), \"glove\"),\n",
    "    max_size=dataset.max_size\n",
    ")\n",
    "\n",
    "# compute embeddings for terms (OOV1) in the training set that are out of vocabulary V1 and add them: V2=V1+OOV1\n",
    "print(\"Parsing the training set...\")\n",
    "text_vectorizer.adapt(X_train)\n",
    "# use the vocabulary V2 to convert the training set inputs into embedding vectors\n",
    "X_train = text_vectorizer.transform(X_train)\n",
    "\n",
    "# compute embeddings for terms (OOV2) in the validation set that are out of vocabulary V2 and add them: V3=V2+OOV2\n",
    "print(\"\\nParsing the validation set...\")\n",
    "text_vectorizer.adapt(X_dev)\n",
    "# use the vocabulary V3 to convert the validation set inputs into embedding vectors\n",
    "X_dev = text_vectorizer.transform(X_dev)\n",
    "\n",
    "# compute embeddings for terms (OOV3) in the test set that are out of vocabulary V3 and add them: V4=V3+OOV3\n",
    "print(\"\\nParsing the test set...\")\n",
    "text_vectorizer.adapt(X_test)\n",
    "# use the vocabulary V4 to convert the test set inputs into embedding vectors\n",
    "X_test = text_vectorizer.transform(X_test)"
   ]
  },
  {
   "cell_type": "code",
   "execution_count": 9,
   "metadata": {
    "colab": {
     "base_uri": "https://localhost:8080/"
    },
    "id": "NwDnKWdckqzp",
    "outputId": "050b5f48-b631-412e-9cde-ca22a6d787ef"
   },
   "outputs": [
    {
     "name": "stdout",
     "output_type": "stream",
     "text": [
      "Input shape: (1957, 249, 100)\n"
     ]
    }
   ],
   "source": [
    "print(f\"Input shape: {X_train.shape}\")"
   ]
  },
  {
   "cell_type": "markdown",
   "metadata": {
    "id": "tiDdPTFrkqzp"
   },
   "source": [
    "### 1.4 One-hot encoding of the targets\n",
    "Each POS tag in each set is converted using the one-hot representation"
   ]
  },
  {
   "cell_type": "code",
   "execution_count": 10,
   "metadata": {
    "id": "C37qdVk7kqzq"
   },
   "outputs": [],
   "source": [
    "# initialize the vectorizer for the target tags to convert them into one-hot representation\n",
    "target_vectorizer = TargetVectorizer(max_size=dataset.max_size)\n",
    "\n",
    "# adapt the target vectorizer with only the training set: we do not consider possible targets that are not seen in training set but they are in the dev/test set\n",
    "target_vectorizer.adapt(y_train)  \n",
    "\n",
    "# convert the targets into one-hot representation for each splitting set\n",
    "y_train = target_vectorizer.transform(y_train)\n",
    "y_dev = target_vectorizer.transform(y_dev)\n",
    "y_test = target_vectorizer.transform(y_test)\n",
    "\n",
    "n_classes = y_train[0].shape[1]"
   ]
  },
  {
   "cell_type": "code",
   "execution_count": 11,
   "metadata": {
    "colab": {
     "base_uri": "https://localhost:8080/"
    },
    "id": "qnH7e4okkqzq",
    "outputId": "c4630adf-c8bd-4021-d1dc-5798bb1fad9f"
   },
   "outputs": [
    {
     "name": "stdout",
     "output_type": "stream",
     "text": [
      "Target shape: (1957, 249, 45)\n",
      "Number of classes for one-hot encoded targets: 45\n"
     ]
    }
   ],
   "source": [
    "print(f\"Target shape: {y_train.shape}\")\n",
    "print(f\"Number of classes for one-hot encoded targets: {n_classes}\")"
   ]
  },
  {
   "cell_type": "markdown",
   "metadata": {
    "id": "khILeN7fkqzq"
   },
   "source": [
    "## 2. Training"
   ]
  },
  {
   "cell_type": "markdown",
   "metadata": {
    "id": "GZfQ0dECkqzr"
   },
   "source": [
    "### 2.1 Models definition\n",
    "We are now ready to define our neural network architectures! \n",
    "Four variants will be evaluated:\n",
    "- Bidirectional LSMT + Dense layer\n",
    "- Bidirectional GRU + Dense layer\n",
    "- Two Bidirectional LSMT + Dense layer\n",
    "- Bidirectional LSMT + Two Dense layer"
   ]
  },
  {
   "cell_type": "code",
   "execution_count": 12,
   "metadata": {
    "id": "l057_W6_87Fo"
   },
   "outputs": [],
   "source": [
    "tfa_f1 = tfa.metrics.F1Score(\n",
    "    num_classes= n_classes,\n",
    "    name = 'f1_score',\n",
    "    )\n",
    "punctuation_indices = [0, 1, 2, 3, 4, 5, 6,7, 16, 30, 43]\n",
    "\n",
    "def f1_with_tfa(y_true, y_pred):\n",
    "    y_true = tf.reshape(y_true, (-1, n_classes))\n",
    "    punctuation = tf.gather(y_true, punctuation_indices, axis=-1)\n",
    "    y_mask = tf.cast(tf.logical_not(tf.reduce_any(tf.cast(punctuation, tf.bool), axis=-1)), tf.float32)\n",
    "    y_pred = tf.reshape(y_pred, (-1, n_classes))\n",
    "    tfa_f1.update_state(y_true, y_pred, sample_weight=y_mask)\n",
    "    result = tfa_f1.result()\n",
    "    K.batch_set_value([(v, np.zeros(v.shape.as_list())) for v in tfa_f1.variables])\n",
    "    return K.sum(result)/(n_classes-len(punctuation_indices))"
   ]
  },
  {
   "cell_type": "code",
   "execution_count": 13,
   "metadata": {
    "id": "BFmjvEd_3ZUK"
   },
   "outputs": [],
   "source": [
    "def build_bilstm_model(hp):\n",
    "    \"\"\"\n",
    "    Build th Bidirectional LSMT + Dense layer model\n",
    "    \"\"\"\n",
    "    model = keras.Sequential()\n",
    "    model.add(layers.Masking(name='padding_masking', mask_value=0., input_shape=X_train.shape[1:]))\n",
    "    model.add(layers.Bidirectional(layers.LSTM(hp.Choice('units', [64, 128, 256]), return_sequences=True, kernel_regularizer=keras.regularizers.l2(0.01)), name=\"bilstm_1\"))\n",
    "    model.add(layers.Dropout(hp.Choice('dropout', [0.0, 0.1, 0.2, 0.3, 0.4, 0.5])))\n",
    "    model.add(layers.Dense(n_classes, activation=\"softmax\", name=\"dense_1\"))\n",
    "    model.compile(loss=\"categorical_crossentropy\", \n",
    "                  optimizer=keras.optimizers.Adam(hp.Choice('learning_rate', values=[1e-2, 1e-3, 1e-4])),\n",
    "                  metrics=[f1_with_tfa])\n",
    "    return model\n",
    "\n",
    "def build_bigru_model(hp):\n",
    "    \"\"\"\n",
    "    Build th Bidirectional GRU + Dense layer model\n",
    "    \"\"\"\n",
    "    model = keras.Sequential()\n",
    "    model.add(layers.Masking(name='padding_masking', mask_value=0., input_shape=X_train.shape[1:]))\n",
    "    model.add(layers.Bidirectional(layers.GRU(hp.Choice('units', [64, 128, 256]), return_sequences=True, kernel_regularizer=keras.regularizers.l2(0.01)), name=\"gru_1\"))\n",
    "    model.add(layers.Dropout(hp.Choice('dropout', [0.0, 0.1, 0.2, 0.3, 0.4, 0.5])))\n",
    "    model.add(layers.Dense(n_classes, activation=\"softmax\", name=\"dense_1\"))\n",
    "    model.compile(loss=\"categorical_crossentropy\", \n",
    "                  optimizer=keras.optimizers.Adam(hp.Choice('learning_rate', values=[1e-2, 1e-3, 1e-4])),\n",
    "                  metrics=[f1_with_tfa])\n",
    "    return model\n",
    "\n",
    "def build_two_bilstm_model(hp):\n",
    "    \"\"\"\n",
    "    Build the Two Bidirectional LSTM + Dense layer model\n",
    "    \"\"\"\n",
    "    model = keras.Sequential()\n",
    "    model.add(layers.Masking(name='padding_masking', mask_value=0., input_shape=X_train.shape[1:]))\n",
    "    model.add(layers.Bidirectional(layers.LSTM(hp.Choice('units1', [64, 128, 256]), return_sequences=True, kernel_regularizer=keras.regularizers.l2(0.01)), name=\"bilstm_1\"))\n",
    "    model.add(layers.Bidirectional(layers.LSTM(hp.Choice('units2', [64, 128, 256]), return_sequences=True, kernel_regularizer=keras.regularizers.l2(0.01)), name=\"bilstm_2\"))\n",
    "    model.add(layers.Dropout(hp.Choice('dropout', [0.0, 0.1, 0.2, 0.3, 0.4, 0.5])))\n",
    "    model.add(layers.Dense(n_classes, activation=\"softmax\", name=\"dense_1\"))\n",
    "    model.compile(loss=\"categorical_crossentropy\", \n",
    "                  optimizer=keras.optimizers.Adam(hp.Choice('learning_rate', values=[1e-2, 1e-3, 1e-4])),\n",
    "                  metrics=[f1_with_tfa])\n",
    "    return model\n",
    "\n",
    "def build_bilstm_two_dense_model(hp):\n",
    "    model = keras.Sequential()\n",
    "    model.add(layers.Masking(name='padding_masking', mask_value=0., input_shape=X_train.shape[1:]))\n",
    "    model.add(layers.Bidirectional(layers.LSTM(hp.Choice('units1', [64, 128, 256]), return_sequences=True, kernel_regularizer=keras.regularizers.l2(0.01)), name=\"bilstm_1\"))\n",
    "    model.add(layers.Dropout(hp.Choice('dropout1', [0.0, 0.1, 0.2, 0.3, 0.4, 0.5])))\n",
    "    model.add(layers.Dense(hp.Choice('units2', [64, 128, 256]), activation=\"relu\", name=\"dense_1\", kernel_regularizer=keras.regularizers.l2(0.01)))\n",
    "    model.add(layers.Dropout(hp.Choice('dropout2', [0.0, 0.1, 0.2, 0.3, 0.4, 0.5])))\n",
    "    model.add(layers.Dense(n_classes, activation=\"softmax\", name=\"dense_2\"))\n",
    "    model.compile(loss=\"categorical_crossentropy\", \n",
    "                  optimizer=keras.optimizers.Adam(hp.Choice('learning_rate', values=[1e-2, 1e-3, 1e-4])),\n",
    "                  metrics=[f1_with_tfa])\n",
    "    return model"
   ]
  },
  {
   "cell_type": "markdown",
   "metadata": {
    "id": "L0R3goy83ZUK"
   },
   "source": [
    "### 2.2 Hyperparameter tuning\n",
    "Let's do a tuning of the hyperparameters for each variant of the architecture"
   ]
  },
  {
   "cell_type": "code",
   "execution_count": 14,
   "metadata": {
    "id": "n5sOwkYf3ZUK"
   },
   "outputs": [],
   "source": [
    "epochs_tuning = 100\n",
    "batch_size_tuning = 64"
   ]
  },
  {
   "cell_type": "markdown",
   "metadata": {
    "id": "3sErnjwr3ZUL"
   },
   "source": [
    "Model 1: Bidirectional LSMT + Dense layer variant tuning\n"
   ]
  },
  {
   "cell_type": "code",
   "execution_count": 15,
   "metadata": {
    "colab": {
     "base_uri": "https://localhost:8080/"
    },
    "id": "b3vU8lwL3ZUL",
    "outputId": "70b39dea-36b4-4c67-f6ed-904b887f50c4"
   },
   "outputs": [
    {
     "name": "stdout",
     "output_type": "stream",
     "text": [
      "INFO:tensorflow:Reloading Oracle from existing project tuner\\tuner_bilstm\\oracle.json\n",
      "INFO:tensorflow:Reloading Tuner from tuner\\tuner_bilstm\\tuner0.json\n",
      "INFO:tensorflow:Oracle triggered exit\n",
      "The hyperparameter search is complete.\n",
      "The optimal number of units in the LSTM layer is 256.\n",
      "The optimal rate for Dropout layer is 0.0.\n",
      "The optimal learning rate for the optimizer is 0.01.\n"
     ]
    }
   ],
   "source": [
    "# tune the hyperparameters of the first model\n",
    "tuner_bilstm = kt.Hyperband(build_bilstm_model,\n",
    "                     objective=kt.Objective(\"val_f1_with_tfa\", direction=\"max\"),\n",
    "                     max_epochs=epochs_tuning,\n",
    "                     #overwrite=True,\n",
    "                     directory=\"tuner\",\n",
    "                     project_name=\"tuner_bilstm\")\n",
    "tuner_bilstm.search(X_train, y_train, epochs=epochs_tuning, batch_size=batch_size_tuning, validation_data=(X_dev, y_dev))\n",
    "best_hps_bilstm = tuner_bilstm.get_best_hyperparameters()[0]\n",
    "\n",
    "print(f\"The hyperparameter search is complete.\\n\" \n",
    "      f\"The optimal number of units in the LSTM layer is {best_hps_bilstm.get('units')}.\\n\" \n",
    "      f\"The optimal rate for Dropout layer is {best_hps_bilstm.get('dropout')}.\\n\" \n",
    "      f\"The optimal learning rate for the optimizer is {best_hps_bilstm.get('learning_rate')}.\")"
   ]
  },
  {
   "cell_type": "markdown",
   "metadata": {
    "id": "vPb8yMfz3ZUL"
   },
   "source": [
    "Model 2: Bidirectional GRU + Dense layer variant tuning"
   ]
  },
  {
   "cell_type": "code",
   "execution_count": 16,
   "metadata": {
    "colab": {
     "base_uri": "https://localhost:8080/"
    },
    "id": "h_tLVIkM3ZUL",
    "outputId": "48f180a8-7c0f-4845-c927-8e0cd8505e95"
   },
   "outputs": [
    {
     "name": "stdout",
     "output_type": "stream",
     "text": [
      "INFO:tensorflow:Reloading Oracle from existing project tuner\\tuner_bigru\\oracle.json\n",
      "INFO:tensorflow:Reloading Tuner from tuner\\tuner_bigru\\tuner0.json\n",
      "INFO:tensorflow:Oracle triggered exit\n",
      "The hyperparameter search is complete.\n",
      "The optimal number of units in the GRU layer is 256.\n",
      "The optimal rate for Dropout layer is 0.1.\n",
      "The optimal learning rate for the optimizer is 0.01.\n"
     ]
    }
   ],
   "source": [
    "# tune the hyperparameters of the second model\n",
    "tuner_bigru = kt.Hyperband(build_bigru_model,\n",
    "                     objective=kt.Objective(\"val_f1_with_tfa\", direction=\"max\"),\n",
    "                     max_epochs=epochs_tuning,\n",
    "                     #overwrite=True,\n",
    "                     directory=\"tuner\",\n",
    "                     project_name=\"tuner_bigru\")\n",
    "tuner_bigru.search(X_train, y_train, epochs=epochs_tuning, batch_size=batch_size_tuning, validation_data=(X_dev, y_dev))\n",
    "best_hps_bigru = tuner_bigru.get_best_hyperparameters()[0]\n",
    "\n",
    "print(f\"The hyperparameter search is complete.\\n\" \n",
    "      f\"The optimal number of units in the GRU layer is {best_hps_bigru.get('units')}.\\n\" \n",
    "      f\"The optimal rate for Dropout layer is {best_hps_bigru.get('dropout')}.\\n\" \n",
    "      f\"The optimal learning rate for the optimizer is {best_hps_bigru.get('learning_rate')}.\")"
   ]
  },
  {
   "cell_type": "markdown",
   "metadata": {
    "id": "lIp3D6c-3ZUM"
   },
   "source": [
    "Model 3: Two Bidirectional LSMT + Dense layer variant tuning"
   ]
  },
  {
   "cell_type": "code",
   "execution_count": 17,
   "metadata": {
    "colab": {
     "base_uri": "https://localhost:8080/"
    },
    "id": "VXxWaco93ZUM",
    "outputId": "ae82257e-b209-490d-982d-4f3fb5156747"
   },
   "outputs": [
    {
     "name": "stdout",
     "output_type": "stream",
     "text": [
      "INFO:tensorflow:Reloading Oracle from existing project tuner\\tuner_two_bilstm\\oracle.json\n",
      "INFO:tensorflow:Reloading Tuner from tuner\\tuner_two_bilstm\\tuner0.json\n",
      "INFO:tensorflow:Oracle triggered exit\n",
      "The hyperparameter search is complete.\n",
      "The optimal number of units in the first LSTM layer is 128.\n",
      "The optimal number of units in the second LSTM layer is 256.\n",
      "The optimal rate for Dropout layer is 0.4.\n",
      "The optimal learning rate for the optimizer is 0.001.\n"
     ]
    }
   ],
   "source": [
    "# tune the hyperparameters of the third model\n",
    "tuner_two_bilstm = kt.Hyperband(build_two_bilstm_model,\n",
    "                     objective=kt.Objective(\"val_f1_with_tfa\", direction=\"max\"),\n",
    "                     max_epochs=epochs_tuning,\n",
    "                     #overwrite=True,\n",
    "                     directory=\"tuner\",\n",
    "                     project_name=\"tuner_two_bilstm\")\n",
    "tuner_two_bilstm.search(X_train, y_train, epochs=epochs_tuning, batch_size=batch_size_tuning, validation_data=(X_dev, y_dev))\n",
    "best_hps_two_bilstm = tuner_two_bilstm.get_best_hyperparameters()[0]\n",
    "\n",
    "print(f\"The hyperparameter search is complete.\\n\" \n",
    "      f\"The optimal number of units in the first LSTM layer is {best_hps_two_bilstm.get('units1')}.\\n\" \n",
    "      f\"The optimal number of units in the second LSTM layer is {best_hps_two_bilstm.get('units2')}.\\n\" \n",
    "      f\"The optimal rate for Dropout layer is {best_hps_two_bilstm.get('dropout')}.\\n\" \n",
    "      f\"The optimal learning rate for the optimizer is {best_hps_two_bilstm.get('learning_rate')}.\")"
   ]
  },
  {
   "cell_type": "markdown",
   "metadata": {
    "id": "kMNWw_i33ZUM"
   },
   "source": [
    "Model 4: Bidirectional LSMT + two Dense layer variant tuning"
   ]
  },
  {
   "cell_type": "code",
   "execution_count": 18,
   "metadata": {
    "id": "pHSGHizM3ZUM"
   },
   "outputs": [
    {
     "name": "stdout",
     "output_type": "stream",
     "text": [
      "INFO:tensorflow:Reloading Oracle from existing project tuner\\tuner_bilstm_two_dense\\oracle.json\n",
      "INFO:tensorflow:Reloading Tuner from tuner\\tuner_bilstm_two_dense\\tuner0.json\n",
      "INFO:tensorflow:Oracle triggered exit\n",
      "The hyperparameter search is complete.\n",
      "The optimal number of units in the LSTM layer is 64.\n",
      "The optimal rate for the first Dropout layer is 0.0.\n",
      "The optimal number of units in first densely-connected layer is 256.\n",
      "The optimal rate for the second Dropout layer is 0.2.\n",
      "The optimal learning rate for the optimizer is 0.01.\n"
     ]
    }
   ],
   "source": [
    "# tune the hyperparameters of the fourth model\n",
    "tuner_bilstm_two_dense = kt.Hyperband(build_bilstm_two_dense_model,\n",
    "                     objective=kt.Objective(\"val_f1_with_tfa\", direction=\"max\"),\n",
    "                     max_epochs=epochs_tuning,\n",
    "                     #overwrite=True,\n",
    "                     directory=\"tuner\",\n",
    "                     project_name=\"tuner_bilstm_two_dense\")\n",
    "tuner_bilstm_two_dense.search(X_train, y_train, epochs=epochs_tuning, batch_size=batch_size_tuning, validation_data=(X_dev, y_dev))\n",
    "best_hps_bilstm_two_dense = tuner_bilstm_two_dense.get_best_hyperparameters()[0]\n",
    "\n",
    "print(f\"The hyperparameter search is complete.\\n\" \n",
    "      f\"The optimal number of units in the LSTM layer is {best_hps_bilstm_two_dense.get('units1')}.\\n\" \n",
    "      f\"The optimal rate for the first Dropout layer is {best_hps_bilstm_two_dense.get('dropout1')}.\\n\" \n",
    "      f\"The optimal number of units in first densely-connected layer is {best_hps_bilstm_two_dense.get('units2')}.\\n\" \n",
    "      f\"The optimal rate for the second Dropout layer is {best_hps_bilstm_two_dense.get('dropout2')}.\\n\"\n",
    "      f\"The optimal learning rate for the optimizer is {best_hps_bilstm_two_dense.get('learning_rate')}.\")"
   ]
  },
  {
   "cell_type": "markdown",
   "metadata": {
    "id": "kWdZM3rskqzr"
   },
   "source": [
    "### 2.3 Model training"
   ]
  },
  {
   "cell_type": "code",
   "execution_count": 19,
   "metadata": {
    "id": "HGdlAMOu3ZUN"
   },
   "outputs": [],
   "source": [
    "epochs_training = 100\n",
    "batch_size_training = 64\n",
    "callbacks_training = [keras.callbacks.EarlyStopping(monitor='val_f1_with_tfa', patience=10, mode=\"max\", restore_best_weights=True)]"
   ]
  },
  {
   "cell_type": "code",
   "execution_count": 20,
   "metadata": {
    "id": "1CkJaP7_3ZUN"
   },
   "outputs": [],
   "source": [
    "def create_model(layers_info, compile_info):\n",
    "    \"\"\"\n",
    "    Create a Keras model given a list of layer information\n",
    "\n",
    "    Parameters\n",
    "    ----------\n",
    "    layers_info : a list of dictionaries, one for each layer\n",
    "    compile_info : dictionary containing compile information\n",
    "\n",
    "    Returns\n",
    "    -------\n",
    "    model: the built keras sequential model\n",
    "    \"\"\"\n",
    "\n",
    "    model = keras.Sequential()\n",
    "    for info in layers_info:\n",
    "        layer = info['layer_name'](**{key: value for key, value in info.items() if key != 'layer_name'})\n",
    "        model.add(layer)\n",
    "\n",
    "    # Compile\n",
    "    model.compile(**compile_info)\n",
    "\n",
    "    return model"
   ]
  },
  {
   "cell_type": "markdown",
   "metadata": {
    "id": "XNvSu_g23ZUN"
   },
   "source": [
    "Model 1: Bidirectional LSMT + Dense layer variant training"
   ]
  },
  {
   "cell_type": "code",
   "execution_count": 21,
   "metadata": {
    "id": "f57Z0qk03ZUO"
   },
   "outputs": [
    {
     "name": "stdout",
     "output_type": "stream",
     "text": [
      "Model: \"sequential_4\"\n",
      "_________________________________________________________________\n",
      " Layer (type)                Output Shape              Param #   \n",
      "=================================================================\n",
      " padding_masking (Masking)   (None, 249, 100)          0         \n",
      "                                                                 \n",
      " bilstm_1 (Bidirectional)    (None, 249, 512)          731136    \n",
      "                                                                 \n",
      " dropout_1 (Dropout)         (None, 249, 512)          0         \n",
      "                                                                 \n",
      " dense_1 (Dense)             (None, 249, 45)           23085     \n",
      "                                                                 \n",
      "=================================================================\n",
      "Total params: 754,221\n",
      "Trainable params: 754,221\n",
      "Non-trainable params: 0\n",
      "_________________________________________________________________\n",
      "Epoch 1/100\n",
      "31/31 [==============================] - 25s 204ms/step - loss: 0.7305 - categorical_accuracy: 0.2057 - f1_with_tfa: 0.0275 - val_loss: 0.3065 - val_categorical_accuracy: 0.3233 - val_f1_with_tfa: 0.0511\n",
      "Epoch 2/100\n",
      "31/31 [==============================] - 3s 87ms/step - loss: 0.2148 - categorical_accuracy: 0.5112 - f1_with_tfa: 0.1767 - val_loss: 0.1695 - val_categorical_accuracy: 0.5959 - val_f1_with_tfa: 0.2597\n",
      "Epoch 3/100\n",
      "31/31 [==============================] - 3s 86ms/step - loss: 0.1431 - categorical_accuracy: 0.6860 - f1_with_tfa: 0.3583 - val_loss: 0.1348 - val_categorical_accuracy: 0.7161 - val_f1_with_tfa: 0.3984\n",
      "Epoch 4/100\n",
      "31/31 [==============================] - 3s 84ms/step - loss: 0.1191 - categorical_accuracy: 0.7535 - f1_with_tfa: 0.4418 - val_loss: 0.1191 - val_categorical_accuracy: 0.7424 - val_f1_with_tfa: 0.4470\n",
      "Epoch 5/100\n",
      "31/31 [==============================] - 3s 86ms/step - loss: 0.1059 - categorical_accuracy: 0.7827 - f1_with_tfa: 0.4847 - val_loss: 0.1067 - val_categorical_accuracy: 0.7702 - val_f1_with_tfa: 0.4817\n",
      "Epoch 6/100\n",
      "31/31 [==============================] - 3s 86ms/step - loss: 0.0987 - categorical_accuracy: 0.7981 - f1_with_tfa: 0.5117 - val_loss: 0.0996 - val_categorical_accuracy: 0.7926 - val_f1_with_tfa: 0.5115\n",
      "Epoch 7/100\n",
      "31/31 [==============================] - 3s 87ms/step - loss: 0.0932 - categorical_accuracy: 0.8112 - f1_with_tfa: 0.5322 - val_loss: 0.0971 - val_categorical_accuracy: 0.7905 - val_f1_with_tfa: 0.5108\n",
      "Epoch 8/100\n",
      "31/31 [==============================] - 3s 87ms/step - loss: 0.0893 - categorical_accuracy: 0.8197 - f1_with_tfa: 0.5471 - val_loss: 0.0915 - val_categorical_accuracy: 0.8071 - val_f1_with_tfa: 0.5404\n",
      "Epoch 9/100\n",
      "31/31 [==============================] - 3s 85ms/step - loss: 0.0854 - categorical_accuracy: 0.8266 - f1_with_tfa: 0.5613 - val_loss: 0.0920 - val_categorical_accuracy: 0.7965 - val_f1_with_tfa: 0.5271\n",
      "Epoch 10/100\n",
      "31/31 [==============================] - 3s 87ms/step - loss: 0.0824 - categorical_accuracy: 0.8326 - f1_with_tfa: 0.5726 - val_loss: 0.0869 - val_categorical_accuracy: 0.8255 - val_f1_with_tfa: 0.5646\n",
      "Epoch 11/100\n",
      "31/31 [==============================] - 3s 84ms/step - loss: 0.0789 - categorical_accuracy: 0.8425 - f1_with_tfa: 0.5915 - val_loss: 0.0836 - val_categorical_accuracy: 0.8276 - val_f1_with_tfa: 0.5661\n",
      "Epoch 12/100\n",
      "31/31 [==============================] - 3s 83ms/step - loss: 0.0776 - categorical_accuracy: 0.8440 - f1_with_tfa: 0.5875 - val_loss: 0.0847 - val_categorical_accuracy: 0.8135 - val_f1_with_tfa: 0.5545\n",
      "Epoch 13/100\n",
      "31/31 [==============================] - 3s 82ms/step - loss: 0.0759 - categorical_accuracy: 0.8462 - f1_with_tfa: 0.5954 - val_loss: 0.0821 - val_categorical_accuracy: 0.8190 - val_f1_with_tfa: 0.5587\n",
      "Epoch 14/100\n",
      "31/31 [==============================] - 3s 85ms/step - loss: 0.0750 - categorical_accuracy: 0.8465 - f1_with_tfa: 0.6025 - val_loss: 0.0814 - val_categorical_accuracy: 0.8282 - val_f1_with_tfa: 0.5971\n",
      "Epoch 15/100\n",
      "31/31 [==============================] - 3s 84ms/step - loss: 0.0729 - categorical_accuracy: 0.8517 - f1_with_tfa: 0.6092 - val_loss: 0.0807 - val_categorical_accuracy: 0.8294 - val_f1_with_tfa: 0.5818\n",
      "Epoch 16/100\n",
      "31/31 [==============================] - 3s 86ms/step - loss: 0.0703 - categorical_accuracy: 0.8579 - f1_with_tfa: 0.6161 - val_loss: 0.0763 - val_categorical_accuracy: 0.8342 - val_f1_with_tfa: 0.5893\n",
      "Epoch 17/100\n",
      "31/31 [==============================] - 3s 86ms/step - loss: 0.0685 - categorical_accuracy: 0.8619 - f1_with_tfa: 0.6251 - val_loss: 0.0782 - val_categorical_accuracy: 0.8253 - val_f1_with_tfa: 0.5901\n",
      "Epoch 18/100\n",
      "31/31 [==============================] - 3s 85ms/step - loss: 0.0691 - categorical_accuracy: 0.8600 - f1_with_tfa: 0.6245 - val_loss: 0.0791 - val_categorical_accuracy: 0.8263 - val_f1_with_tfa: 0.5740\n",
      "Epoch 19/100\n",
      "31/31 [==============================] - 3s 85ms/step - loss: 0.0694 - categorical_accuracy: 0.8598 - f1_with_tfa: 0.6214 - val_loss: 0.0807 - val_categorical_accuracy: 0.8274 - val_f1_with_tfa: 0.5825\n",
      "Epoch 20/100\n",
      "31/31 [==============================] - 3s 85ms/step - loss: 0.0677 - categorical_accuracy: 0.8639 - f1_with_tfa: 0.6330 - val_loss: 0.0758 - val_categorical_accuracy: 0.8344 - val_f1_with_tfa: 0.6021\n",
      "Epoch 21/100\n",
      "31/31 [==============================] - 3s 84ms/step - loss: 0.0652 - categorical_accuracy: 0.8703 - f1_with_tfa: 0.6432 - val_loss: 0.0778 - val_categorical_accuracy: 0.8285 - val_f1_with_tfa: 0.5780\n",
      "Epoch 22/100\n",
      "31/31 [==============================] - 3s 84ms/step - loss: 0.0656 - categorical_accuracy: 0.8701 - f1_with_tfa: 0.6483 - val_loss: 0.0757 - val_categorical_accuracy: 0.8391 - val_f1_with_tfa: 0.5877\n",
      "Epoch 23/100\n",
      "31/31 [==============================] - 3s 86ms/step - loss: 0.0637 - categorical_accuracy: 0.8749 - f1_with_tfa: 0.6522 - val_loss: 0.0762 - val_categorical_accuracy: 0.8283 - val_f1_with_tfa: 0.5942\n",
      "Epoch 24/100\n",
      "31/31 [==============================] - 3s 84ms/step - loss: 0.0619 - categorical_accuracy: 0.8784 - f1_with_tfa: 0.6556 - val_loss: 0.0763 - val_categorical_accuracy: 0.8283 - val_f1_with_tfa: 0.5896\n",
      "Epoch 25/100\n",
      "31/31 [==============================] - 3s 83ms/step - loss: 0.0612 - categorical_accuracy: 0.8824 - f1_with_tfa: 0.6613 - val_loss: 0.0767 - val_categorical_accuracy: 0.8355 - val_f1_with_tfa: 0.6046\n",
      "Epoch 26/100\n",
      "31/31 [==============================] - 3s 84ms/step - loss: 0.0600 - categorical_accuracy: 0.8858 - f1_with_tfa: 0.6684 - val_loss: 0.0788 - val_categorical_accuracy: 0.8223 - val_f1_with_tfa: 0.5914\n",
      "Epoch 27/100\n",
      "31/31 [==============================] - 3s 83ms/step - loss: 0.0613 - categorical_accuracy: 0.8843 - f1_with_tfa: 0.6706 - val_loss: 0.0779 - val_categorical_accuracy: 0.8313 - val_f1_with_tfa: 0.6010\n",
      "Epoch 28/100\n",
      "31/31 [==============================] - 3s 84ms/step - loss: 0.0603 - categorical_accuracy: 0.8874 - f1_with_tfa: 0.6701 - val_loss: 0.0803 - val_categorical_accuracy: 0.8191 - val_f1_with_tfa: 0.5754\n",
      "Epoch 29/100\n",
      "31/31 [==============================] - 3s 85ms/step - loss: 0.0590 - categorical_accuracy: 0.8905 - f1_with_tfa: 0.6813 - val_loss: 0.0786 - val_categorical_accuracy: 0.8285 - val_f1_with_tfa: 0.5919\n",
      "Epoch 30/100\n",
      "31/31 [==============================] - 3s 85ms/step - loss: 0.0573 - categorical_accuracy: 0.8969 - f1_with_tfa: 0.6921 - val_loss: 0.0795 - val_categorical_accuracy: 0.8277 - val_f1_with_tfa: 0.5978\n",
      "Epoch 31/100\n",
      "31/31 [==============================] - 3s 85ms/step - loss: 0.0579 - categorical_accuracy: 0.8976 - f1_with_tfa: 0.6909 - val_loss: 0.0820 - val_categorical_accuracy: 0.8176 - val_f1_with_tfa: 0.5788\n",
      "Epoch 32/100\n",
      "31/31 [==============================] - 3s 84ms/step - loss: 0.0550 - categorical_accuracy: 0.9043 - f1_with_tfa: 0.7004 - val_loss: 0.0782 - val_categorical_accuracy: 0.8340 - val_f1_with_tfa: 0.5980\n",
      "Epoch 33/100\n",
      "31/31 [==============================] - 3s 86ms/step - loss: 0.0555 - categorical_accuracy: 0.9059 - f1_with_tfa: 0.7086 - val_loss: 0.0818 - val_categorical_accuracy: 0.8238 - val_f1_with_tfa: 0.5970\n",
      "Epoch 34/100\n",
      "31/31 [==============================] - 3s 84ms/step - loss: 0.0540 - categorical_accuracy: 0.9109 - f1_with_tfa: 0.7094 - val_loss: 0.0811 - val_categorical_accuracy: 0.8255 - val_f1_with_tfa: 0.6015\n",
      "Epoch 35/100\n",
      "31/31 [==============================] - 3s 83ms/step - loss: 0.0554 - categorical_accuracy: 0.9073 - f1_with_tfa: 0.7091 - val_loss: 0.0822 - val_categorical_accuracy: 0.8255 - val_f1_with_tfa: 0.5909\n"
     ]
    }
   ],
   "source": [
    "# first model    \n",
    "layers_info_bilstm = [\n",
    "    {\n",
    "        \"layer_name\": layers.Masking,\n",
    "        \"name\": \"padding_masking\",\n",
    "        \"mask_value\": 0.,\n",
    "        \"input_shape\": X_train.shape[1:]\n",
    "    },\n",
    "    {\n",
    "        'layer_name': layers.Bidirectional,\n",
    "        \"layer\": layers.LSTM(best_hps_bilstm.get('units'), return_sequences=True, kernel_regularizer=keras.regularizers.l2(0.01)),\n",
    "        \"name\": \"bilstm_1\",\n",
    "    },\n",
    "    {\n",
    "        \"layer_name\": layers.Dropout,\n",
    "        \"rate\": best_hps_bilstm.get('dropout'),\n",
    "        \"name\": \"dropout_1\"\n",
    "    },\n",
    "    {\n",
    "        \"layer_name\": layers.Dense,\n",
    "        \"units\": n_classes,\n",
    "        \"activation\": \"softmax\",\n",
    "        \"name\": \"dense_1\"\n",
    "    }\n",
    "]\n",
    "\n",
    "compile_info_bilstm = {\n",
    "    'optimizer': keras.optimizers.Adam(learning_rate=best_hps_bilstm.get('learning_rate')),\n",
    "    'loss': 'categorical_crossentropy',\n",
    "    'metrics' : ['categorical_accuracy', f1_with_tfa]\n",
    "}\n",
    "\n",
    "model_bilstm = create_model(layers_info_bilstm, compile_info_bilstm)\n",
    "model_bilstm.summary()\n",
    "\n",
    "# start training\n",
    "history_bilstm = model_bilstm.fit(X_train, y_train, epochs=epochs_training, batch_size=batch_size_training, validation_data=(X_dev, y_dev), callbacks=callbacks_training)"
   ]
  },
  {
   "cell_type": "markdown",
   "metadata": {
    "id": "V2QWE-m03ZUO"
   },
   "source": [
    "Model 2: Bidirectional GRU + Dense layer variant training"
   ]
  },
  {
   "cell_type": "code",
   "execution_count": 22,
   "metadata": {
    "id": "nXZNNrlO3ZUO"
   },
   "outputs": [
    {
     "name": "stdout",
     "output_type": "stream",
     "text": [
      "Model: \"sequential_5\"\n",
      "_________________________________________________________________\n",
      " Layer (type)                Output Shape              Param #   \n",
      "=================================================================\n",
      " padding_masking (Masking)   (None, 249, 100)          0         \n",
      "                                                                 \n",
      " bigru_1 (Bidirectional)     (None, 249, 512)          549888    \n",
      "                                                                 \n",
      " dropout_1 (Dropout)         (None, 249, 512)          0         \n",
      "                                                                 \n",
      " dense_1 (Dense)             (None, 249, 45)           23085     \n",
      "                                                                 \n",
      "=================================================================\n",
      "Total params: 572,973\n",
      "Trainable params: 572,973\n",
      "Non-trainable params: 0\n",
      "_________________________________________________________________\n",
      "Epoch 1/100\n",
      "31/31 [==============================] - 15s 210ms/step - loss: 0.6600 - categorical_accuracy: 0.4927 - f1_with_tfa: 0.1910 - val_loss: 0.1994 - val_categorical_accuracy: 0.6868 - val_f1_with_tfa: 0.3619\n",
      "Epoch 2/100\n",
      "31/31 [==============================] - 3s 98ms/step - loss: 0.1439 - categorical_accuracy: 0.7359 - f1_with_tfa: 0.4268 - val_loss: 0.1224 - val_categorical_accuracy: 0.7481 - val_f1_with_tfa: 0.4520\n",
      "Epoch 3/100\n",
      "31/31 [==============================] - 3s 97ms/step - loss: 0.1094 - categorical_accuracy: 0.7835 - f1_with_tfa: 0.4940 - val_loss: 0.1040 - val_categorical_accuracy: 0.7921 - val_f1_with_tfa: 0.5025\n",
      "Epoch 4/100\n",
      "31/31 [==============================] - 3s 98ms/step - loss: 0.0969 - categorical_accuracy: 0.8069 - f1_with_tfa: 0.5305 - val_loss: 0.0981 - val_categorical_accuracy: 0.8024 - val_f1_with_tfa: 0.5226\n",
      "Epoch 5/100\n",
      "31/31 [==============================] - 3s 97ms/step - loss: 0.0951 - categorical_accuracy: 0.8082 - f1_with_tfa: 0.5439 - val_loss: 0.0959 - val_categorical_accuracy: 0.7942 - val_f1_with_tfa: 0.5339\n",
      "Epoch 6/100\n",
      "31/31 [==============================] - 3s 97ms/step - loss: 0.0894 - categorical_accuracy: 0.8187 - f1_with_tfa: 0.5597 - val_loss: 0.0930 - val_categorical_accuracy: 0.8038 - val_f1_with_tfa: 0.5350\n",
      "Epoch 7/100\n",
      "31/31 [==============================] - 3s 96ms/step - loss: 0.0851 - categorical_accuracy: 0.8274 - f1_with_tfa: 0.5727 - val_loss: 0.0902 - val_categorical_accuracy: 0.8105 - val_f1_with_tfa: 0.5554\n",
      "Epoch 8/100\n",
      "31/31 [==============================] - 3s 97ms/step - loss: 0.0847 - categorical_accuracy: 0.8287 - f1_with_tfa: 0.5813 - val_loss: 0.0840 - val_categorical_accuracy: 0.8265 - val_f1_with_tfa: 0.5837\n",
      "Epoch 9/100\n",
      "31/31 [==============================] - 3s 96ms/step - loss: 0.0817 - categorical_accuracy: 0.8334 - f1_with_tfa: 0.5911 - val_loss: 0.0883 - val_categorical_accuracy: 0.8171 - val_f1_with_tfa: 0.5756\n",
      "Epoch 10/100\n",
      "31/31 [==============================] - 3s 96ms/step - loss: 0.0789 - categorical_accuracy: 0.8400 - f1_with_tfa: 0.6002 - val_loss: 0.0813 - val_categorical_accuracy: 0.8359 - val_f1_with_tfa: 0.6033\n",
      "Epoch 11/100\n",
      "31/31 [==============================] - 3s 97ms/step - loss: 0.0765 - categorical_accuracy: 0.8460 - f1_with_tfa: 0.6072 - val_loss: 0.0827 - val_categorical_accuracy: 0.8207 - val_f1_with_tfa: 0.5937\n",
      "Epoch 12/100\n",
      "31/31 [==============================] - 3s 96ms/step - loss: 0.0754 - categorical_accuracy: 0.8491 - f1_with_tfa: 0.6104 - val_loss: 0.0818 - val_categorical_accuracy: 0.8217 - val_f1_with_tfa: 0.5777\n",
      "Epoch 13/100\n",
      "31/31 [==============================] - 3s 97ms/step - loss: 0.0733 - categorical_accuracy: 0.8530 - f1_with_tfa: 0.6212 - val_loss: 0.0833 - val_categorical_accuracy: 0.8227 - val_f1_with_tfa: 0.5907\n",
      "Epoch 14/100\n",
      "31/31 [==============================] - 3s 96ms/step - loss: 0.0769 - categorical_accuracy: 0.8469 - f1_with_tfa: 0.6217 - val_loss: 0.0842 - val_categorical_accuracy: 0.8210 - val_f1_with_tfa: 0.5993\n",
      "Epoch 15/100\n",
      "31/31 [==============================] - 3s 97ms/step - loss: 0.0724 - categorical_accuracy: 0.8581 - f1_with_tfa: 0.6247 - val_loss: 0.0775 - val_categorical_accuracy: 0.8357 - val_f1_with_tfa: 0.5987\n",
      "Epoch 16/100\n",
      "31/31 [==============================] - 3s 100ms/step - loss: 0.0708 - categorical_accuracy: 0.8582 - f1_with_tfa: 0.6437 - val_loss: 0.0808 - val_categorical_accuracy: 0.8338 - val_f1_with_tfa: 0.6175\n",
      "Epoch 17/100\n",
      "31/31 [==============================] - 3s 97ms/step - loss: 0.0674 - categorical_accuracy: 0.8693 - f1_with_tfa: 0.6558 - val_loss: 0.0783 - val_categorical_accuracy: 0.8352 - val_f1_with_tfa: 0.6077\n",
      "Epoch 18/100\n",
      "31/31 [==============================] - 3s 96ms/step - loss: 0.0700 - categorical_accuracy: 0.8623 - f1_with_tfa: 0.6597 - val_loss: 0.0803 - val_categorical_accuracy: 0.8267 - val_f1_with_tfa: 0.5878\n",
      "Epoch 19/100\n",
      "31/31 [==============================] - 3s 97ms/step - loss: 0.0695 - categorical_accuracy: 0.8654 - f1_with_tfa: 0.6564 - val_loss: 0.0872 - val_categorical_accuracy: 0.8119 - val_f1_with_tfa: 0.5764\n",
      "Epoch 20/100\n",
      "31/31 [==============================] - 3s 96ms/step - loss: 0.0678 - categorical_accuracy: 0.8727 - f1_with_tfa: 0.6649 - val_loss: 0.0793 - val_categorical_accuracy: 0.8367 - val_f1_with_tfa: 0.6011\n",
      "Epoch 21/100\n",
      "31/31 [==============================] - 3s 96ms/step - loss: 0.0632 - categorical_accuracy: 0.8833 - f1_with_tfa: 0.6808 - val_loss: 0.0801 - val_categorical_accuracy: 0.8355 - val_f1_with_tfa: 0.6027\n",
      "Epoch 22/100\n",
      "31/31 [==============================] - 3s 97ms/step - loss: 0.0633 - categorical_accuracy: 0.8825 - f1_with_tfa: 0.6770 - val_loss: 0.0814 - val_categorical_accuracy: 0.8330 - val_f1_with_tfa: 0.6039\n",
      "Epoch 23/100\n",
      "31/31 [==============================] - 3s 97ms/step - loss: 0.0633 - categorical_accuracy: 0.8858 - f1_with_tfa: 0.6940 - val_loss: 0.0853 - val_categorical_accuracy: 0.8281 - val_f1_with_tfa: 0.5866\n",
      "Epoch 24/100\n",
      "31/31 [==============================] - 3s 98ms/step - loss: 0.0666 - categorical_accuracy: 0.8837 - f1_with_tfa: 0.6966 - val_loss: 0.0835 - val_categorical_accuracy: 0.8265 - val_f1_with_tfa: 0.5766\n",
      "Epoch 25/100\n",
      "31/31 [==============================] - 3s 96ms/step - loss: 0.0616 - categorical_accuracy: 0.8936 - f1_with_tfa: 0.7021 - val_loss: 0.0854 - val_categorical_accuracy: 0.8201 - val_f1_with_tfa: 0.5748\n",
      "Epoch 26/100\n",
      "31/31 [==============================] - 3s 99ms/step - loss: 0.0619 - categorical_accuracy: 0.8911 - f1_with_tfa: 0.6932 - val_loss: 0.0865 - val_categorical_accuracy: 0.8274 - val_f1_with_tfa: 0.5931\n"
     ]
    }
   ],
   "source": [
    "# second model    \n",
    "layers_info_bigru = [\n",
    "    {\n",
    "        \"layer_name\": layers.Masking,\n",
    "        \"name\": \"padding_masking\",\n",
    "        \"mask_value\": 0.,\n",
    "        \"input_shape\": X_train.shape[1:]\n",
    "    },\n",
    "    {\n",
    "        'layer_name': layers.Bidirectional,\n",
    "        \"layer\": layers.GRU(best_hps_bigru.get('units'), return_sequences=True, kernel_regularizer=keras.regularizers.l2(0.01)),\n",
    "        \"name\": \"bigru_1\",\n",
    "    },\n",
    "    {\n",
    "        \"layer_name\": layers.Dropout,\n",
    "        \"rate\": best_hps_bigru.get('dropout'),\n",
    "        \"name\": \"dropout_1\"\n",
    "    },\n",
    "    {\n",
    "        \"layer_name\": layers.Dense,\n",
    "        \"units\": n_classes,\n",
    "        \"activation\": \"softmax\",\n",
    "        \"name\": \"dense_1\"\n",
    "    }\n",
    "]\n",
    "\n",
    "compile_info_bigru = {\n",
    "    'optimizer': keras.optimizers.Adam(learning_rate=best_hps_bigru.get('learning_rate')),\n",
    "    'loss': 'categorical_crossentropy',\n",
    "    'metrics' : ['categorical_accuracy', f1_with_tfa]\n",
    "}\n",
    "\n",
    "model_bigru = create_model(layers_info_bigru, compile_info_bigru)\n",
    "model_bigru.summary()\n",
    "\n",
    "# start training\n",
    "history_bigru = model_bigru.fit(X_train, y_train, epochs=epochs_training, batch_size=batch_size_training, validation_data=(X_dev, y_dev),  callbacks=callbacks_training)"
   ]
  },
  {
   "cell_type": "markdown",
   "metadata": {
    "id": "P52dWFq63ZUO"
   },
   "source": [
    "Model 3: Two Bidirectional LSMT + Dense layer variant training"
   ]
  },
  {
   "cell_type": "code",
   "execution_count": 23,
   "metadata": {
    "id": "gzTLBLdC3ZUO"
   },
   "outputs": [
    {
     "name": "stdout",
     "output_type": "stream",
     "text": [
      "Model: \"sequential_6\"\n",
      "_________________________________________________________________\n",
      " Layer (type)                Output Shape              Param #   \n",
      "=================================================================\n",
      " padding_masking (Masking)   (None, 249, 100)          0         \n",
      "                                                                 \n",
      " bilstm_1 (Bidirectional)    (None, 249, 256)          234496    \n",
      "                                                                 \n",
      " bilstm_2 (Bidirectional)    (None, 249, 512)          1050624   \n",
      "                                                                 \n",
      " dropout_1 (Dropout)         (None, 249, 512)          0         \n",
      "                                                                 \n",
      " dense_1 (Dense)             (None, 249, 45)           23085     \n",
      "                                                                 \n",
      "=================================================================\n",
      "Total params: 1,308,205\n",
      "Trainable params: 1,308,205\n",
      "Non-trainable params: 0\n",
      "_________________________________________________________________\n",
      "Epoch 1/100\n",
      "31/31 [==============================] - 27s 359ms/step - loss: 6.8331 - categorical_accuracy: 0.1435 - f1_with_tfa: 0.0191 - val_loss: 3.0519 - val_categorical_accuracy: 0.1732 - val_f1_with_tfa: 0.0178\n",
      "Epoch 2/100\n",
      "31/31 [==============================] - 5s 158ms/step - loss: 1.6838 - categorical_accuracy: 0.1749 - f1_with_tfa: 0.0245 - val_loss: 0.7942 - val_categorical_accuracy: 0.1686 - val_f1_with_tfa: 0.0148\n",
      "Epoch 3/100\n",
      "31/31 [==============================] - 5s 158ms/step - loss: 0.5284 - categorical_accuracy: 0.1890 - f1_with_tfa: 0.0285 - val_loss: 0.3644 - val_categorical_accuracy: 0.1973 - val_f1_with_tfa: 0.0309\n",
      "Epoch 4/100\n",
      "31/31 [==============================] - 5s 159ms/step - loss: 0.3152 - categorical_accuracy: 0.2001 - f1_with_tfa: 0.0343 - val_loss: 0.2860 - val_categorical_accuracy: 0.1930 - val_f1_with_tfa: 0.0284\n",
      "Epoch 5/100\n",
      "31/31 [==============================] - 5s 163ms/step - loss: 0.2708 - categorical_accuracy: 0.2139 - f1_with_tfa: 0.0414 - val_loss: 0.2612 - val_categorical_accuracy: 0.2190 - val_f1_with_tfa: 0.0470\n",
      "Epoch 6/100\n",
      "31/31 [==============================] - 5s 177ms/step - loss: 0.2532 - categorical_accuracy: 0.2365 - f1_with_tfa: 0.0613 - val_loss: 0.2533 - val_categorical_accuracy: 0.2380 - val_f1_with_tfa: 0.0593\n",
      "Epoch 7/100\n",
      "31/31 [==============================] - 5s 170ms/step - loss: 0.2425 - categorical_accuracy: 0.2644 - f1_with_tfa: 0.0811 - val_loss: 0.2340 - val_categorical_accuracy: 0.3056 - val_f1_with_tfa: 0.0963\n",
      "Epoch 8/100\n",
      "31/31 [==============================] - 5s 168ms/step - loss: 0.2263 - categorical_accuracy: 0.3322 - f1_with_tfa: 0.1089 - val_loss: 0.2180 - val_categorical_accuracy: 0.3854 - val_f1_with_tfa: 0.1162\n",
      "Epoch 9/100\n",
      "31/31 [==============================] - 5s 164ms/step - loss: 0.2037 - categorical_accuracy: 0.4190 - f1_with_tfa: 0.1466 - val_loss: 0.2115 - val_categorical_accuracy: 0.3890 - val_f1_with_tfa: 0.1246\n",
      "Epoch 10/100\n",
      "31/31 [==============================] - 5s 163ms/step - loss: 0.1943 - categorical_accuracy: 0.4496 - f1_with_tfa: 0.1629 - val_loss: 0.1812 - val_categorical_accuracy: 0.4946 - val_f1_with_tfa: 0.1864\n",
      "Epoch 11/100\n",
      "31/31 [==============================] - 5s 169ms/step - loss: 0.1743 - categorical_accuracy: 0.5082 - f1_with_tfa: 0.2042 - val_loss: 0.1729 - val_categorical_accuracy: 0.5213 - val_f1_with_tfa: 0.2060\n",
      "Epoch 12/100\n",
      "31/31 [==============================] - 5s 161ms/step - loss: 0.1651 - categorical_accuracy: 0.5326 - f1_with_tfa: 0.2251 - val_loss: 0.1633 - val_categorical_accuracy: 0.5421 - val_f1_with_tfa: 0.2286\n",
      "Epoch 13/100\n",
      "31/31 [==============================] - 5s 167ms/step - loss: 0.1575 - categorical_accuracy: 0.5544 - f1_with_tfa: 0.2436 - val_loss: 0.1573 - val_categorical_accuracy: 0.5637 - val_f1_with_tfa: 0.2593\n",
      "Epoch 14/100\n",
      "31/31 [==============================] - 6s 200ms/step - loss: 0.1549 - categorical_accuracy: 0.5632 - f1_with_tfa: 0.2548 - val_loss: 0.1540 - val_categorical_accuracy: 0.5649 - val_f1_with_tfa: 0.2661\n",
      "Epoch 15/100\n",
      "31/31 [==============================] - 5s 159ms/step - loss: 0.1452 - categorical_accuracy: 0.5928 - f1_with_tfa: 0.2835 - val_loss: 0.1472 - val_categorical_accuracy: 0.5899 - val_f1_with_tfa: 0.2938\n",
      "Epoch 16/100\n",
      "31/31 [==============================] - 5s 169ms/step - loss: 0.1406 - categorical_accuracy: 0.6034 - f1_with_tfa: 0.2954 - val_loss: 0.1492 - val_categorical_accuracy: 0.5766 - val_f1_with_tfa: 0.2928\n",
      "Epoch 17/100\n",
      "31/31 [==============================] - 5s 172ms/step - loss: 0.1368 - categorical_accuracy: 0.6187 - f1_with_tfa: 0.3156 - val_loss: 0.1363 - val_categorical_accuracy: 0.6243 - val_f1_with_tfa: 0.3304\n",
      "Epoch 18/100\n",
      "31/31 [==============================] - 5s 160ms/step - loss: 0.1325 - categorical_accuracy: 0.6311 - f1_with_tfa: 0.3325 - val_loss: 0.1316 - val_categorical_accuracy: 0.6334 - val_f1_with_tfa: 0.3324\n",
      "Epoch 19/100\n",
      "31/31 [==============================] - 5s 163ms/step - loss: 0.1274 - categorical_accuracy: 0.6485 - f1_with_tfa: 0.3471 - val_loss: 0.1301 - val_categorical_accuracy: 0.6450 - val_f1_with_tfa: 0.3538\n",
      "Epoch 20/100\n",
      "31/31 [==============================] - 5s 161ms/step - loss: 0.1225 - categorical_accuracy: 0.6625 - f1_with_tfa: 0.3633 - val_loss: 0.1228 - val_categorical_accuracy: 0.6611 - val_f1_with_tfa: 0.3653\n",
      "Epoch 21/100\n",
      "31/31 [==============================] - 5s 159ms/step - loss: 0.1193 - categorical_accuracy: 0.6711 - f1_with_tfa: 0.3751 - val_loss: 0.1200 - val_categorical_accuracy: 0.6658 - val_f1_with_tfa: 0.3714\n",
      "Epoch 22/100\n",
      "31/31 [==============================] - 5s 158ms/step - loss: 0.1168 - categorical_accuracy: 0.6796 - f1_with_tfa: 0.3812 - val_loss: 0.1183 - val_categorical_accuracy: 0.6733 - val_f1_with_tfa: 0.3838\n",
      "Epoch 23/100\n",
      "31/31 [==============================] - 5s 155ms/step - loss: 0.1145 - categorical_accuracy: 0.6853 - f1_with_tfa: 0.3914 - val_loss: 0.1185 - val_categorical_accuracy: 0.6671 - val_f1_with_tfa: 0.3771\n",
      "Epoch 24/100\n",
      "31/31 [==============================] - 5s 154ms/step - loss: 0.1116 - categorical_accuracy: 0.6900 - f1_with_tfa: 0.3967 - val_loss: 0.1181 - val_categorical_accuracy: 0.6688 - val_f1_with_tfa: 0.3733\n",
      "Epoch 25/100\n",
      "31/31 [==============================] - 5s 157ms/step - loss: 0.1116 - categorical_accuracy: 0.6889 - f1_with_tfa: 0.3957 - val_loss: 0.1199 - val_categorical_accuracy: 0.6677 - val_f1_with_tfa: 0.3784\n",
      "Epoch 26/100\n",
      "31/31 [==============================] - 5s 161ms/step - loss: 0.1088 - categorical_accuracy: 0.6977 - f1_with_tfa: 0.4011 - val_loss: 0.1121 - val_categorical_accuracy: 0.6826 - val_f1_with_tfa: 0.3941\n",
      "Epoch 27/100\n",
      "31/31 [==============================] - 5s 160ms/step - loss: 0.1064 - categorical_accuracy: 0.7046 - f1_with_tfa: 0.4145 - val_loss: 0.1102 - val_categorical_accuracy: 0.6917 - val_f1_with_tfa: 0.4019\n",
      "Epoch 28/100\n",
      "31/31 [==============================] - 5s 157ms/step - loss: 0.1050 - categorical_accuracy: 0.7080 - f1_with_tfa: 0.4172 - val_loss: 0.1104 - val_categorical_accuracy: 0.6884 - val_f1_with_tfa: 0.4054\n",
      "Epoch 29/100\n",
      "31/31 [==============================] - 5s 157ms/step - loss: 0.1050 - categorical_accuracy: 0.7073 - f1_with_tfa: 0.4157 - val_loss: 0.1103 - val_categorical_accuracy: 0.6920 - val_f1_with_tfa: 0.4122\n",
      "Epoch 30/100\n",
      "31/31 [==============================] - 5s 160ms/step - loss: 0.1023 - categorical_accuracy: 0.7137 - f1_with_tfa: 0.4227 - val_loss: 0.1094 - val_categorical_accuracy: 0.6916 - val_f1_with_tfa: 0.4039\n",
      "Epoch 31/100\n",
      "31/31 [==============================] - 5s 171ms/step - loss: 0.1024 - categorical_accuracy: 0.7126 - f1_with_tfa: 0.4235 - val_loss: 0.1086 - val_categorical_accuracy: 0.6970 - val_f1_with_tfa: 0.4135\n",
      "Epoch 32/100\n",
      "31/31 [==============================] - 5s 158ms/step - loss: 0.1023 - categorical_accuracy: 0.7158 - f1_with_tfa: 0.4306 - val_loss: 0.1104 - val_categorical_accuracy: 0.6911 - val_f1_with_tfa: 0.4116\n",
      "Epoch 33/100\n",
      "31/31 [==============================] - 5s 158ms/step - loss: 0.0990 - categorical_accuracy: 0.7254 - f1_with_tfa: 0.4397 - val_loss: 0.1061 - val_categorical_accuracy: 0.7012 - val_f1_with_tfa: 0.4194\n",
      "Epoch 34/100\n",
      "31/31 [==============================] - 5s 162ms/step - loss: 0.0980 - categorical_accuracy: 0.7271 - f1_with_tfa: 0.4412 - val_loss: 0.1025 - val_categorical_accuracy: 0.7107 - val_f1_with_tfa: 0.4334\n",
      "Epoch 35/100\n",
      "31/31 [==============================] - 5s 166ms/step - loss: 0.0977 - categorical_accuracy: 0.7264 - f1_with_tfa: 0.4435 - val_loss: 0.1049 - val_categorical_accuracy: 0.7014 - val_f1_with_tfa: 0.4211\n",
      "Epoch 36/100\n",
      "31/31 [==============================] - 5s 158ms/step - loss: 0.0961 - categorical_accuracy: 0.7302 - f1_with_tfa: 0.4490 - val_loss: 0.1018 - val_categorical_accuracy: 0.7143 - val_f1_with_tfa: 0.4411\n",
      "Epoch 37/100\n",
      "31/31 [==============================] - 5s 157ms/step - loss: 0.0938 - categorical_accuracy: 0.7392 - f1_with_tfa: 0.4528 - val_loss: 0.1006 - val_categorical_accuracy: 0.7176 - val_f1_with_tfa: 0.4425\n",
      "Epoch 38/100\n",
      "31/31 [==============================] - 5s 157ms/step - loss: 0.0930 - categorical_accuracy: 0.7417 - f1_with_tfa: 0.4572 - val_loss: 0.1030 - val_categorical_accuracy: 0.7110 - val_f1_with_tfa: 0.4350\n",
      "Epoch 39/100\n",
      "31/31 [==============================] - 5s 159ms/step - loss: 0.0925 - categorical_accuracy: 0.7410 - f1_with_tfa: 0.4649 - val_loss: 0.1015 - val_categorical_accuracy: 0.7130 - val_f1_with_tfa: 0.4349\n",
      "Epoch 40/100\n",
      "31/31 [==============================] - 5s 166ms/step - loss: 0.0923 - categorical_accuracy: 0.7408 - f1_with_tfa: 0.4643 - val_loss: 0.1003 - val_categorical_accuracy: 0.7178 - val_f1_with_tfa: 0.4365\n",
      "Epoch 41/100\n",
      "31/31 [==============================] - 5s 166ms/step - loss: 0.0904 - categorical_accuracy: 0.7481 - f1_with_tfa: 0.4654 - val_loss: 0.0987 - val_categorical_accuracy: 0.7205 - val_f1_with_tfa: 0.4430\n",
      "Epoch 42/100\n",
      "31/31 [==============================] - 5s 159ms/step - loss: 0.0900 - categorical_accuracy: 0.7471 - f1_with_tfa: 0.4730 - val_loss: 0.0969 - val_categorical_accuracy: 0.7282 - val_f1_with_tfa: 0.4482\n",
      "Epoch 43/100\n",
      "31/31 [==============================] - 5s 170ms/step - loss: 0.0891 - categorical_accuracy: 0.7507 - f1_with_tfa: 0.4758 - val_loss: 0.0973 - val_categorical_accuracy: 0.7272 - val_f1_with_tfa: 0.4522\n",
      "Epoch 44/100\n",
      "31/31 [==============================] - 5s 159ms/step - loss: 0.0888 - categorical_accuracy: 0.7521 - f1_with_tfa: 0.4766 - val_loss: 0.0994 - val_categorical_accuracy: 0.7180 - val_f1_with_tfa: 0.4468\n",
      "Epoch 45/100\n",
      "31/31 [==============================] - 5s 154ms/step - loss: 0.0885 - categorical_accuracy: 0.7540 - f1_with_tfa: 0.4735 - val_loss: 0.0979 - val_categorical_accuracy: 0.7256 - val_f1_with_tfa: 0.4552\n",
      "Epoch 46/100\n",
      "31/31 [==============================] - 5s 157ms/step - loss: 0.0872 - categorical_accuracy: 0.7580 - f1_with_tfa: 0.4884 - val_loss: 0.0977 - val_categorical_accuracy: 0.7237 - val_f1_with_tfa: 0.4510\n",
      "Epoch 47/100\n",
      "31/31 [==============================] - 5s 155ms/step - loss: 0.0866 - categorical_accuracy: 0.7593 - f1_with_tfa: 0.4816 - val_loss: 0.0955 - val_categorical_accuracy: 0.7347 - val_f1_with_tfa: 0.4631\n",
      "Epoch 48/100\n",
      "31/31 [==============================] - 5s 157ms/step - loss: 0.0871 - categorical_accuracy: 0.7558 - f1_with_tfa: 0.4874 - val_loss: 0.0980 - val_categorical_accuracy: 0.7245 - val_f1_with_tfa: 0.4534\n",
      "Epoch 49/100\n",
      "31/31 [==============================] - 5s 156ms/step - loss: 0.0859 - categorical_accuracy: 0.7635 - f1_with_tfa: 0.4893 - val_loss: 0.0952 - val_categorical_accuracy: 0.7341 - val_f1_with_tfa: 0.4602\n",
      "Epoch 50/100\n",
      "31/31 [==============================] - 5s 155ms/step - loss: 0.0845 - categorical_accuracy: 0.7684 - f1_with_tfa: 0.4971 - val_loss: 0.0961 - val_categorical_accuracy: 0.7294 - val_f1_with_tfa: 0.4605\n",
      "Epoch 51/100\n",
      "31/31 [==============================] - 5s 156ms/step - loss: 0.0848 - categorical_accuracy: 0.7656 - f1_with_tfa: 0.4985 - val_loss: 0.0952 - val_categorical_accuracy: 0.7358 - val_f1_with_tfa: 0.4668\n",
      "Epoch 52/100\n",
      "31/31 [==============================] - 5s 155ms/step - loss: 0.0832 - categorical_accuracy: 0.7693 - f1_with_tfa: 0.4999 - val_loss: 0.0991 - val_categorical_accuracy: 0.7235 - val_f1_with_tfa: 0.4540\n",
      "Epoch 53/100\n",
      "31/31 [==============================] - 5s 156ms/step - loss: 0.0825 - categorical_accuracy: 0.7717 - f1_with_tfa: 0.5045 - val_loss: 0.0928 - val_categorical_accuracy: 0.7401 - val_f1_with_tfa: 0.4711\n",
      "Epoch 54/100\n",
      "31/31 [==============================] - 5s 154ms/step - loss: 0.0814 - categorical_accuracy: 0.7750 - f1_with_tfa: 0.5044 - val_loss: 0.0932 - val_categorical_accuracy: 0.7390 - val_f1_with_tfa: 0.4688\n",
      "Epoch 55/100\n",
      "31/31 [==============================] - 5s 163ms/step - loss: 0.0815 - categorical_accuracy: 0.7751 - f1_with_tfa: 0.5082 - val_loss: 0.0941 - val_categorical_accuracy: 0.7372 - val_f1_with_tfa: 0.4711\n",
      "Epoch 56/100\n",
      "31/31 [==============================] - 5s 162ms/step - loss: 0.0796 - categorical_accuracy: 0.7810 - f1_with_tfa: 0.5179 - val_loss: 0.0909 - val_categorical_accuracy: 0.7454 - val_f1_with_tfa: 0.4790\n",
      "Epoch 57/100\n",
      "31/31 [==============================] - 5s 165ms/step - loss: 0.0810 - categorical_accuracy: 0.7767 - f1_with_tfa: 0.5097 - val_loss: 0.0979 - val_categorical_accuracy: 0.7274 - val_f1_with_tfa: 0.4573\n",
      "Epoch 58/100\n",
      "31/31 [==============================] - 5s 164ms/step - loss: 0.0796 - categorical_accuracy: 0.7799 - f1_with_tfa: 0.5179 - val_loss: 0.0916 - val_categorical_accuracy: 0.7426 - val_f1_with_tfa: 0.4815\n",
      "Epoch 59/100\n",
      "31/31 [==============================] - 5s 170ms/step - loss: 0.0786 - categorical_accuracy: 0.7826 - f1_with_tfa: 0.5195 - val_loss: 0.0926 - val_categorical_accuracy: 0.7417 - val_f1_with_tfa: 0.4823\n",
      "Epoch 60/100\n",
      "31/31 [==============================] - 5s 158ms/step - loss: 0.0777 - categorical_accuracy: 0.7865 - f1_with_tfa: 0.5236 - val_loss: 0.0927 - val_categorical_accuracy: 0.7427 - val_f1_with_tfa: 0.4797\n",
      "Epoch 61/100\n",
      "31/31 [==============================] - 5s 159ms/step - loss: 0.0756 - categorical_accuracy: 0.7926 - f1_with_tfa: 0.5353 - val_loss: 0.0923 - val_categorical_accuracy: 0.7395 - val_f1_with_tfa: 0.4756\n",
      "Epoch 62/100\n",
      "31/31 [==============================] - 5s 158ms/step - loss: 0.0757 - categorical_accuracy: 0.7914 - f1_with_tfa: 0.5352 - val_loss: 0.0912 - val_categorical_accuracy: 0.7461 - val_f1_with_tfa: 0.4823\n",
      "Epoch 63/100\n",
      "31/31 [==============================] - 5s 157ms/step - loss: 0.0759 - categorical_accuracy: 0.7930 - f1_with_tfa: 0.5294 - val_loss: 0.0921 - val_categorical_accuracy: 0.7409 - val_f1_with_tfa: 0.4777\n",
      "Epoch 64/100\n",
      "31/31 [==============================] - 5s 160ms/step - loss: 0.0742 - categorical_accuracy: 0.7959 - f1_with_tfa: 0.5417 - val_loss: 0.0916 - val_categorical_accuracy: 0.7422 - val_f1_with_tfa: 0.4796\n",
      "Epoch 65/100\n",
      "31/31 [==============================] - 5s 156ms/step - loss: 0.0751 - categorical_accuracy: 0.7906 - f1_with_tfa: 0.5342 - val_loss: 0.0920 - val_categorical_accuracy: 0.7430 - val_f1_with_tfa: 0.4809\n",
      "Epoch 66/100\n",
      "31/31 [==============================] - 5s 160ms/step - loss: 0.0757 - categorical_accuracy: 0.7909 - f1_with_tfa: 0.5353 - val_loss: 0.0939 - val_categorical_accuracy: 0.7380 - val_f1_with_tfa: 0.4749\n",
      "Epoch 67/100\n",
      "31/31 [==============================] - 5s 158ms/step - loss: 0.0734 - categorical_accuracy: 0.7987 - f1_with_tfa: 0.5412 - val_loss: 0.0893 - val_categorical_accuracy: 0.7509 - val_f1_with_tfa: 0.4898\n",
      "Epoch 68/100\n",
      "31/31 [==============================] - 5s 158ms/step - loss: 0.0729 - categorical_accuracy: 0.7983 - f1_with_tfa: 0.5434 - val_loss: 0.0897 - val_categorical_accuracy: 0.7520 - val_f1_with_tfa: 0.4809\n",
      "Epoch 69/100\n",
      "31/31 [==============================] - 5s 156ms/step - loss: 0.0712 - categorical_accuracy: 0.8051 - f1_with_tfa: 0.5495 - val_loss: 0.0906 - val_categorical_accuracy: 0.7446 - val_f1_with_tfa: 0.4800\n",
      "Epoch 70/100\n",
      "31/31 [==============================] - 5s 158ms/step - loss: 0.0712 - categorical_accuracy: 0.8046 - f1_with_tfa: 0.5475 - val_loss: 0.0916 - val_categorical_accuracy: 0.7442 - val_f1_with_tfa: 0.4750\n",
      "Epoch 71/100\n",
      "31/31 [==============================] - 5s 159ms/step - loss: 0.0708 - categorical_accuracy: 0.8043 - f1_with_tfa: 0.5504 - val_loss: 0.0899 - val_categorical_accuracy: 0.7482 - val_f1_with_tfa: 0.4856\n",
      "Epoch 72/100\n",
      "31/31 [==============================] - 5s 159ms/step - loss: 0.0703 - categorical_accuracy: 0.8071 - f1_with_tfa: 0.5558 - val_loss: 0.0902 - val_categorical_accuracy: 0.7495 - val_f1_with_tfa: 0.4878\n",
      "Epoch 73/100\n",
      "31/31 [==============================] - 5s 161ms/step - loss: 0.0694 - categorical_accuracy: 0.8114 - f1_with_tfa: 0.5650 - val_loss: 0.0904 - val_categorical_accuracy: 0.7496 - val_f1_with_tfa: 0.4892\n",
      "Epoch 74/100\n",
      "31/31 [==============================] - 5s 159ms/step - loss: 0.0684 - categorical_accuracy: 0.8140 - f1_with_tfa: 0.5656 - val_loss: 0.0915 - val_categorical_accuracy: 0.7486 - val_f1_with_tfa: 0.4993\n",
      "Epoch 75/100\n",
      "31/31 [==============================] - 5s 159ms/step - loss: 0.0688 - categorical_accuracy: 0.8119 - f1_with_tfa: 0.5610 - val_loss: 0.0906 - val_categorical_accuracy: 0.7475 - val_f1_with_tfa: 0.4875\n",
      "Epoch 76/100\n",
      "31/31 [==============================] - 5s 159ms/step - loss: 0.0676 - categorical_accuracy: 0.8160 - f1_with_tfa: 0.5678 - val_loss: 0.0904 - val_categorical_accuracy: 0.7489 - val_f1_with_tfa: 0.4920\n",
      "Epoch 77/100\n",
      "31/31 [==============================] - 5s 159ms/step - loss: 0.0664 - categorical_accuracy: 0.8174 - f1_with_tfa: 0.5677 - val_loss: 0.0894 - val_categorical_accuracy: 0.7528 - val_f1_with_tfa: 0.4930\n",
      "Epoch 78/100\n",
      "31/31 [==============================] - 5s 158ms/step - loss: 0.0656 - categorical_accuracy: 0.8226 - f1_with_tfa: 0.5726 - val_loss: 0.0906 - val_categorical_accuracy: 0.7492 - val_f1_with_tfa: 0.4909\n",
      "Epoch 79/100\n",
      "31/31 [==============================] - 5s 158ms/step - loss: 0.0667 - categorical_accuracy: 0.8176 - f1_with_tfa: 0.5759 - val_loss: 0.0912 - val_categorical_accuracy: 0.7534 - val_f1_with_tfa: 0.4964\n",
      "Epoch 80/100\n",
      "31/31 [==============================] - 5s 159ms/step - loss: 0.0656 - categorical_accuracy: 0.8207 - f1_with_tfa: 0.5776 - val_loss: 0.0893 - val_categorical_accuracy: 0.7529 - val_f1_with_tfa: 0.4916\n",
      "Epoch 81/100\n",
      "31/31 [==============================] - 5s 160ms/step - loss: 0.0642 - categorical_accuracy: 0.8265 - f1_with_tfa: 0.5901 - val_loss: 0.0914 - val_categorical_accuracy: 0.7475 - val_f1_with_tfa: 0.4905\n",
      "Epoch 82/100\n",
      "31/31 [==============================] - 5s 158ms/step - loss: 0.0642 - categorical_accuracy: 0.8249 - f1_with_tfa: 0.5812 - val_loss: 0.0893 - val_categorical_accuracy: 0.7528 - val_f1_with_tfa: 0.4947\n",
      "Epoch 83/100\n",
      "31/31 [==============================] - 5s 161ms/step - loss: 0.0623 - categorical_accuracy: 0.8314 - f1_with_tfa: 0.5874 - val_loss: 0.0909 - val_categorical_accuracy: 0.7525 - val_f1_with_tfa: 0.4922\n",
      "Epoch 84/100\n",
      "31/31 [==============================] - 5s 160ms/step - loss: 0.0627 - categorical_accuracy: 0.8300 - f1_with_tfa: 0.5881 - val_loss: 0.0916 - val_categorical_accuracy: 0.7476 - val_f1_with_tfa: 0.4909\n"
     ]
    }
   ],
   "source": [
    "# third model    \n",
    "layers_info_two_bilstm = [\n",
    "    {\n",
    "        \"layer_name\": layers.Masking,\n",
    "        \"name\": \"padding_masking\",\n",
    "        \"mask_value\": 0.,\n",
    "        \"input_shape\": X_train.shape[1:]\n",
    "    },\n",
    "    {\n",
    "        'layer_name': layers.Bidirectional,\n",
    "        \"layer\": layers.LSTM(best_hps_two_bilstm.get('units1'), return_sequences=True, kernel_regularizer=keras.regularizers.l2(0.01)),\n",
    "        \"name\": \"bilstm_1\",\n",
    "    },\n",
    "    {\n",
    "        'layer_name': layers.Bidirectional,\n",
    "        \"layer\": layers.LSTM(best_hps_two_bilstm.get('units2'), return_sequences=True, kernel_regularizer=keras.regularizers.l2(0.01)),\n",
    "        \"name\": \"bilstm_2\",\n",
    "    },\n",
    "    {\n",
    "        \"layer_name\": layers.Dropout,\n",
    "        \"rate\": best_hps_two_bilstm.get('dropout'),\n",
    "        \"name\": \"dropout_1\"\n",
    "    },\n",
    "    {\n",
    "        \"layer_name\": layers.Dense,\n",
    "        \"units\": n_classes,\n",
    "        \"activation\": \"softmax\",\n",
    "        \"name\": \"dense_1\"\n",
    "    }\n",
    "]\n",
    "\n",
    "compile_info_two_bilstm = {\n",
    "    'optimizer': keras.optimizers.Adam(learning_rate=best_hps_two_bilstm.get('learning_rate')),\n",
    "    'loss': 'categorical_crossentropy',\n",
    "    'metrics' : ['categorical_accuracy', f1_with_tfa]\n",
    "}\n",
    "\n",
    "model_two_bilstm = create_model(layers_info_two_bilstm, compile_info_two_bilstm)\n",
    "model_two_bilstm.summary()\n",
    "\n",
    "# start training\n",
    "history_two_bilstm = model_two_bilstm.fit(X_train, y_train, epochs=epochs_training, batch_size=batch_size_training, validation_data=(X_dev, y_dev), callbacks=callbacks_training)"
   ]
  },
  {
   "cell_type": "markdown",
   "metadata": {
    "id": "BDri7iKq3ZUP"
   },
   "source": [
    "Model 4: Bidirectional LSMT + two Dense layer variant training"
   ]
  },
  {
   "cell_type": "code",
   "execution_count": 24,
   "metadata": {
    "id": "OrxBTqOQ3ZUP"
   },
   "outputs": [
    {
     "name": "stdout",
     "output_type": "stream",
     "text": [
      "Model: \"sequential_7\"\n",
      "_________________________________________________________________\n",
      " Layer (type)                Output Shape              Param #   \n",
      "=================================================================\n",
      " padding_masking (Masking)   (None, 249, 100)          0         \n",
      "                                                                 \n",
      " bilstm_1 (Bidirectional)    (None, 249, 128)          84480     \n",
      "                                                                 \n",
      " dropout_1 (Dropout)         (None, 249, 128)          0         \n",
      "                                                                 \n",
      " dense_1 (Dense)             (None, 249, 256)          33024     \n",
      "                                                                 \n",
      " dropout_2 (Dropout)         (None, 249, 256)          0         \n",
      "                                                                 \n",
      " dense_2 (Dense)             (None, 249, 45)           11565     \n",
      "                                                                 \n",
      "=================================================================\n",
      "Total params: 129,069\n",
      "Trainable params: 129,069\n",
      "Non-trainable params: 0\n",
      "_________________________________________________________________\n",
      "Epoch 1/100\n",
      "31/31 [==============================] - 15s 194ms/step - loss: 0.9860 - categorical_accuracy: 0.1471 - f1_with_tfa: 0.0080 - val_loss: 0.3265 - val_categorical_accuracy: 0.1779 - val_f1_with_tfa: 0.0182\n",
      "Epoch 2/100\n",
      "31/31 [==============================] - 3s 84ms/step - loss: 0.2942 - categorical_accuracy: 0.2072 - f1_with_tfa: 0.0245 - val_loss: 0.2777 - val_categorical_accuracy: 0.2078 - val_f1_with_tfa: 0.0234\n",
      "Epoch 3/100\n",
      "31/31 [==============================] - 3s 83ms/step - loss: 0.2575 - categorical_accuracy: 0.2761 - f1_with_tfa: 0.0385 - val_loss: 0.2555 - val_categorical_accuracy: 0.2980 - val_f1_with_tfa: 0.0410\n",
      "Epoch 4/100\n",
      "31/31 [==============================] - 2s 81ms/step - loss: 0.2380 - categorical_accuracy: 0.3345 - f1_with_tfa: 0.0535 - val_loss: 0.2292 - val_categorical_accuracy: 0.3492 - val_f1_with_tfa: 0.0563\n",
      "Epoch 5/100\n",
      "31/31 [==============================] - 3s 84ms/step - loss: 0.2185 - categorical_accuracy: 0.4228 - f1_with_tfa: 0.0912 - val_loss: 0.2105 - val_categorical_accuracy: 0.4830 - val_f1_with_tfa: 0.1498\n",
      "Epoch 6/100\n",
      "31/31 [==============================] - 2s 81ms/step - loss: 0.1992 - categorical_accuracy: 0.5110 - f1_with_tfa: 0.1388 - val_loss: 0.1960 - val_categorical_accuracy: 0.5102 - val_f1_with_tfa: 0.1385\n",
      "Epoch 7/100\n",
      "31/31 [==============================] - 3s 83ms/step - loss: 0.1868 - categorical_accuracy: 0.5441 - f1_with_tfa: 0.1552 - val_loss: 0.1835 - val_categorical_accuracy: 0.5583 - val_f1_with_tfa: 0.1776\n",
      "Epoch 8/100\n",
      "31/31 [==============================] - 3s 84ms/step - loss: 0.1777 - categorical_accuracy: 0.5703 - f1_with_tfa: 0.1715 - val_loss: 0.1805 - val_categorical_accuracy: 0.5503 - val_f1_with_tfa: 0.2097\n",
      "Epoch 9/100\n",
      "31/31 [==============================] - 3s 83ms/step - loss: 0.1738 - categorical_accuracy: 0.5899 - f1_with_tfa: 0.2085 - val_loss: 0.1710 - val_categorical_accuracy: 0.6104 - val_f1_with_tfa: 0.2518\n",
      "Epoch 10/100\n",
      "31/31 [==============================] - 3s 84ms/step - loss: 0.1636 - categorical_accuracy: 0.6295 - f1_with_tfa: 0.2530 - val_loss: 0.1614 - val_categorical_accuracy: 0.6509 - val_f1_with_tfa: 0.3069\n",
      "Epoch 11/100\n",
      "31/31 [==============================] - 3s 83ms/step - loss: 0.1587 - categorical_accuracy: 0.6498 - f1_with_tfa: 0.2849 - val_loss: 0.1597 - val_categorical_accuracy: 0.6367 - val_f1_with_tfa: 0.2988\n",
      "Epoch 12/100\n",
      "31/31 [==============================] - 3s 84ms/step - loss: 0.1558 - categorical_accuracy: 0.6569 - f1_with_tfa: 0.2946 - val_loss: 0.1512 - val_categorical_accuracy: 0.6794 - val_f1_with_tfa: 0.3362\n",
      "Epoch 13/100\n",
      "31/31 [==============================] - 3s 81ms/step - loss: 0.1493 - categorical_accuracy: 0.6771 - f1_with_tfa: 0.3192 - val_loss: 0.1489 - val_categorical_accuracy: 0.6791 - val_f1_with_tfa: 0.3422\n",
      "Epoch 14/100\n",
      "31/31 [==============================] - 3s 84ms/step - loss: 0.1465 - categorical_accuracy: 0.6841 - f1_with_tfa: 0.3243 - val_loss: 0.1484 - val_categorical_accuracy: 0.6769 - val_f1_with_tfa: 0.3441\n",
      "Epoch 15/100\n",
      "31/31 [==============================] - 3s 86ms/step - loss: 0.1447 - categorical_accuracy: 0.6897 - f1_with_tfa: 0.3305 - val_loss: 0.1483 - val_categorical_accuracy: 0.6928 - val_f1_with_tfa: 0.3661\n",
      "Epoch 16/100\n",
      "31/31 [==============================] - 3s 83ms/step - loss: 0.1417 - categorical_accuracy: 0.7001 - f1_with_tfa: 0.3380 - val_loss: 0.1428 - val_categorical_accuracy: 0.6967 - val_f1_with_tfa: 0.3679\n",
      "Epoch 17/100\n",
      "31/31 [==============================] - 3s 84ms/step - loss: 0.1386 - categorical_accuracy: 0.7051 - f1_with_tfa: 0.3448 - val_loss: 0.1364 - val_categorical_accuracy: 0.7088 - val_f1_with_tfa: 0.3773\n",
      "Epoch 18/100\n",
      "31/31 [==============================] - 3s 82ms/step - loss: 0.1348 - categorical_accuracy: 0.7185 - f1_with_tfa: 0.3543 - val_loss: 0.1376 - val_categorical_accuracy: 0.7128 - val_f1_with_tfa: 0.3713\n",
      "Epoch 19/100\n",
      "31/31 [==============================] - 3s 83ms/step - loss: 0.1347 - categorical_accuracy: 0.7197 - f1_with_tfa: 0.3552 - val_loss: 0.1381 - val_categorical_accuracy: 0.7036 - val_f1_with_tfa: 0.3769\n",
      "Epoch 20/100\n",
      "31/31 [==============================] - 3s 86ms/step - loss: 0.1333 - categorical_accuracy: 0.7230 - f1_with_tfa: 0.3537 - val_loss: 0.1316 - val_categorical_accuracy: 0.7273 - val_f1_with_tfa: 0.3930\n",
      "Epoch 21/100\n",
      "31/31 [==============================] - 3s 83ms/step - loss: 0.1334 - categorical_accuracy: 0.7209 - f1_with_tfa: 0.3587 - val_loss: 0.1333 - val_categorical_accuracy: 0.7294 - val_f1_with_tfa: 0.4024\n",
      "Epoch 22/100\n",
      "31/31 [==============================] - 3s 84ms/step - loss: 0.1290 - categorical_accuracy: 0.7347 - f1_with_tfa: 0.3650 - val_loss: 0.1303 - val_categorical_accuracy: 0.7358 - val_f1_with_tfa: 0.3974\n",
      "Epoch 23/100\n",
      "31/31 [==============================] - 3s 83ms/step - loss: 0.1281 - categorical_accuracy: 0.7376 - f1_with_tfa: 0.3668 - val_loss: 0.1302 - val_categorical_accuracy: 0.7281 - val_f1_with_tfa: 0.3888\n",
      "Epoch 24/100\n",
      "31/31 [==============================] - 3s 83ms/step - loss: 0.1286 - categorical_accuracy: 0.7369 - f1_with_tfa: 0.3666 - val_loss: 0.1280 - val_categorical_accuracy: 0.7430 - val_f1_with_tfa: 0.4069\n",
      "Epoch 25/100\n",
      "31/31 [==============================] - 3s 83ms/step - loss: 0.1254 - categorical_accuracy: 0.7489 - f1_with_tfa: 0.3738 - val_loss: 0.1245 - val_categorical_accuracy: 0.7472 - val_f1_with_tfa: 0.4103\n",
      "Epoch 26/100\n",
      "31/31 [==============================] - 3s 83ms/step - loss: 0.1225 - categorical_accuracy: 0.7530 - f1_with_tfa: 0.3766 - val_loss: 0.1237 - val_categorical_accuracy: 0.7426 - val_f1_with_tfa: 0.4075\n",
      "Epoch 27/100\n",
      "31/31 [==============================] - 3s 85ms/step - loss: 0.1233 - categorical_accuracy: 0.7496 - f1_with_tfa: 0.3738 - val_loss: 0.1229 - val_categorical_accuracy: 0.7541 - val_f1_with_tfa: 0.4167\n",
      "Epoch 28/100\n",
      "31/31 [==============================] - 3s 83ms/step - loss: 0.1198 - categorical_accuracy: 0.7631 - f1_with_tfa: 0.3814 - val_loss: 0.1224 - val_categorical_accuracy: 0.7496 - val_f1_with_tfa: 0.4093\n",
      "Epoch 29/100\n",
      "31/31 [==============================] - 3s 84ms/step - loss: 0.1196 - categorical_accuracy: 0.7617 - f1_with_tfa: 0.3764 - val_loss: 0.1235 - val_categorical_accuracy: 0.7391 - val_f1_with_tfa: 0.4154\n",
      "Epoch 30/100\n",
      "31/31 [==============================] - 3s 85ms/step - loss: 0.1204 - categorical_accuracy: 0.7604 - f1_with_tfa: 0.3786 - val_loss: 0.1231 - val_categorical_accuracy: 0.7497 - val_f1_with_tfa: 0.4259\n",
      "Epoch 31/100\n",
      "31/31 [==============================] - 3s 83ms/step - loss: 0.1177 - categorical_accuracy: 0.7678 - f1_with_tfa: 0.3843 - val_loss: 0.1220 - val_categorical_accuracy: 0.7458 - val_f1_with_tfa: 0.4214\n",
      "Epoch 32/100\n",
      "31/31 [==============================] - 3s 83ms/step - loss: 0.1176 - categorical_accuracy: 0.7665 - f1_with_tfa: 0.3859 - val_loss: 0.1204 - val_categorical_accuracy: 0.7562 - val_f1_with_tfa: 0.4201\n",
      "Epoch 33/100\n",
      "31/31 [==============================] - 3s 83ms/step - loss: 0.1163 - categorical_accuracy: 0.7724 - f1_with_tfa: 0.3885 - val_loss: 0.1168 - val_categorical_accuracy: 0.7678 - val_f1_with_tfa: 0.4390\n",
      "Epoch 34/100\n",
      "31/31 [==============================] - 3s 84ms/step - loss: 0.1157 - categorical_accuracy: 0.7705 - f1_with_tfa: 0.3898 - val_loss: 0.1182 - val_categorical_accuracy: 0.7621 - val_f1_with_tfa: 0.4481\n",
      "Epoch 35/100\n",
      "31/31 [==============================] - 3s 83ms/step - loss: 0.1138 - categorical_accuracy: 0.7772 - f1_with_tfa: 0.3915 - val_loss: 0.1167 - val_categorical_accuracy: 0.7648 - val_f1_with_tfa: 0.4235\n",
      "Epoch 36/100\n",
      "31/31 [==============================] - 3s 84ms/step - loss: 0.1126 - categorical_accuracy: 0.7806 - f1_with_tfa: 0.3961 - val_loss: 0.1140 - val_categorical_accuracy: 0.7693 - val_f1_with_tfa: 0.4323\n",
      "Epoch 37/100\n",
      "31/31 [==============================] - 3s 84ms/step - loss: 0.1123 - categorical_accuracy: 0.7792 - f1_with_tfa: 0.3949 - val_loss: 0.1163 - val_categorical_accuracy: 0.7674 - val_f1_with_tfa: 0.4335\n",
      "Epoch 38/100\n",
      "31/31 [==============================] - 3s 84ms/step - loss: 0.1117 - categorical_accuracy: 0.7838 - f1_with_tfa: 0.4005 - val_loss: 0.1174 - val_categorical_accuracy: 0.7646 - val_f1_with_tfa: 0.4323\n",
      "Epoch 39/100\n",
      "31/31 [==============================] - 3s 82ms/step - loss: 0.1106 - categorical_accuracy: 0.7883 - f1_with_tfa: 0.4047 - val_loss: 0.1187 - val_categorical_accuracy: 0.7442 - val_f1_with_tfa: 0.4353\n",
      "Epoch 40/100\n",
      "31/31 [==============================] - 3s 84ms/step - loss: 0.1107 - categorical_accuracy: 0.7834 - f1_with_tfa: 0.4009 - val_loss: 0.1147 - val_categorical_accuracy: 0.7632 - val_f1_with_tfa: 0.4419\n",
      "Epoch 41/100\n",
      "31/31 [==============================] - 3s 86ms/step - loss: 0.1091 - categorical_accuracy: 0.7906 - f1_with_tfa: 0.4111 - val_loss: 0.1141 - val_categorical_accuracy: 0.7687 - val_f1_with_tfa: 0.4555\n",
      "Epoch 42/100\n",
      "31/31 [==============================] - 3s 83ms/step - loss: 0.1081 - categorical_accuracy: 0.7922 - f1_with_tfa: 0.4086 - val_loss: 0.1116 - val_categorical_accuracy: 0.7770 - val_f1_with_tfa: 0.4583\n",
      "Epoch 43/100\n",
      "31/31 [==============================] - 3s 84ms/step - loss: 0.1084 - categorical_accuracy: 0.7911 - f1_with_tfa: 0.4090 - val_loss: 0.1138 - val_categorical_accuracy: 0.7654 - val_f1_with_tfa: 0.4440\n",
      "Epoch 44/100\n",
      "31/31 [==============================] - 3s 83ms/step - loss: 0.1057 - categorical_accuracy: 0.7981 - f1_with_tfa: 0.4133 - val_loss: 0.1111 - val_categorical_accuracy: 0.7774 - val_f1_with_tfa: 0.4646\n",
      "Epoch 45/100\n",
      "31/31 [==============================] - 3s 85ms/step - loss: 0.1065 - categorical_accuracy: 0.7969 - f1_with_tfa: 0.4192 - val_loss: 0.1116 - val_categorical_accuracy: 0.7826 - val_f1_with_tfa: 0.4618\n",
      "Epoch 46/100\n",
      "31/31 [==============================] - 3s 84ms/step - loss: 0.1051 - categorical_accuracy: 0.8012 - f1_with_tfa: 0.4196 - val_loss: 0.1133 - val_categorical_accuracy: 0.7618 - val_f1_with_tfa: 0.4425\n",
      "Epoch 47/100\n",
      "31/31 [==============================] - 3s 84ms/step - loss: 0.1070 - categorical_accuracy: 0.7972 - f1_with_tfa: 0.4223 - val_loss: 0.1105 - val_categorical_accuracy: 0.7818 - val_f1_with_tfa: 0.4720\n",
      "Epoch 48/100\n",
      "31/31 [==============================] - 3s 84ms/step - loss: 0.1038 - categorical_accuracy: 0.8054 - f1_with_tfa: 0.4299 - val_loss: 0.1085 - val_categorical_accuracy: 0.7857 - val_f1_with_tfa: 0.4571\n",
      "Epoch 49/100\n",
      "31/31 [==============================] - 3s 85ms/step - loss: 0.1033 - categorical_accuracy: 0.8060 - f1_with_tfa: 0.4277 - val_loss: 0.1076 - val_categorical_accuracy: 0.7910 - val_f1_with_tfa: 0.4733\n",
      "Epoch 50/100\n",
      "31/31 [==============================] - 3s 84ms/step - loss: 0.1038 - categorical_accuracy: 0.8040 - f1_with_tfa: 0.4289 - val_loss: 0.1132 - val_categorical_accuracy: 0.7742 - val_f1_with_tfa: 0.4694\n",
      "Epoch 51/100\n",
      "31/31 [==============================] - 3s 83ms/step - loss: 0.1031 - categorical_accuracy: 0.8083 - f1_with_tfa: 0.4360 - val_loss: 0.1122 - val_categorical_accuracy: 0.7716 - val_f1_with_tfa: 0.4570\n",
      "Epoch 52/100\n",
      "31/31 [==============================] - 3s 84ms/step - loss: 0.1025 - categorical_accuracy: 0.8083 - f1_with_tfa: 0.4332 - val_loss: 0.1091 - val_categorical_accuracy: 0.7860 - val_f1_with_tfa: 0.4602\n",
      "Epoch 53/100\n",
      "31/31 [==============================] - 3s 83ms/step - loss: 0.1016 - categorical_accuracy: 0.8133 - f1_with_tfa: 0.4363 - val_loss: 0.1093 - val_categorical_accuracy: 0.7869 - val_f1_with_tfa: 0.4676\n",
      "Epoch 54/100\n",
      "31/31 [==============================] - 3s 83ms/step - loss: 0.1018 - categorical_accuracy: 0.8099 - f1_with_tfa: 0.4420 - val_loss: 0.1073 - val_categorical_accuracy: 0.7892 - val_f1_with_tfa: 0.4713\n",
      "Epoch 55/100\n",
      "31/31 [==============================] - 3s 82ms/step - loss: 0.1007 - categorical_accuracy: 0.8136 - f1_with_tfa: 0.4403 - val_loss: 0.1098 - val_categorical_accuracy: 0.7825 - val_f1_with_tfa: 0.4703\n",
      "Epoch 56/100\n",
      "31/31 [==============================] - 3s 83ms/step - loss: 0.1008 - categorical_accuracy: 0.8140 - f1_with_tfa: 0.4375 - val_loss: 0.1116 - val_categorical_accuracy: 0.7781 - val_f1_with_tfa: 0.4731\n",
      "Epoch 57/100\n",
      "31/31 [==============================] - 3s 83ms/step - loss: 0.1023 - categorical_accuracy: 0.8112 - f1_with_tfa: 0.4409 - val_loss: 0.1118 - val_categorical_accuracy: 0.7740 - val_f1_with_tfa: 0.4620\n",
      "Epoch 58/100\n",
      "31/31 [==============================] - 3s 85ms/step - loss: 0.1006 - categorical_accuracy: 0.8154 - f1_with_tfa: 0.4458 - val_loss: 0.1081 - val_categorical_accuracy: 0.7906 - val_f1_with_tfa: 0.4763\n",
      "Epoch 59/100\n",
      "31/31 [==============================] - 3s 85ms/step - loss: 0.1008 - categorical_accuracy: 0.8165 - f1_with_tfa: 0.4500 - val_loss: 0.1067 - val_categorical_accuracy: 0.7894 - val_f1_with_tfa: 0.4712\n",
      "Epoch 60/100\n",
      "31/31 [==============================] - 3s 84ms/step - loss: 0.0992 - categorical_accuracy: 0.8176 - f1_with_tfa: 0.4507 - val_loss: 0.1070 - val_categorical_accuracy: 0.7950 - val_f1_with_tfa: 0.4831\n",
      "Epoch 61/100\n",
      "31/31 [==============================] - 3s 84ms/step - loss: 0.0989 - categorical_accuracy: 0.8188 - f1_with_tfa: 0.4485 - val_loss: 0.1064 - val_categorical_accuracy: 0.7939 - val_f1_with_tfa: 0.4926\n",
      "Epoch 62/100\n",
      "31/31 [==============================] - 3s 84ms/step - loss: 0.0989 - categorical_accuracy: 0.8184 - f1_with_tfa: 0.4524 - val_loss: 0.1082 - val_categorical_accuracy: 0.7908 - val_f1_with_tfa: 0.4820\n",
      "Epoch 63/100\n",
      "31/31 [==============================] - 3s 86ms/step - loss: 0.0988 - categorical_accuracy: 0.8228 - f1_with_tfa: 0.4601 - val_loss: 0.1095 - val_categorical_accuracy: 0.7786 - val_f1_with_tfa: 0.4624\n",
      "Epoch 64/100\n",
      "31/31 [==============================] - 3s 85ms/step - loss: 0.0974 - categorical_accuracy: 0.8225 - f1_with_tfa: 0.4599 - val_loss: 0.1066 - val_categorical_accuracy: 0.7989 - val_f1_with_tfa: 0.4829\n",
      "Epoch 65/100\n",
      "31/31 [==============================] - 3s 84ms/step - loss: 0.0981 - categorical_accuracy: 0.8225 - f1_with_tfa: 0.4606 - val_loss: 0.1067 - val_categorical_accuracy: 0.7877 - val_f1_with_tfa: 0.4862\n",
      "Epoch 66/100\n",
      "31/31 [==============================] - 3s 85ms/step - loss: 0.0970 - categorical_accuracy: 0.8250 - f1_with_tfa: 0.4634 - val_loss: 0.1117 - val_categorical_accuracy: 0.7758 - val_f1_with_tfa: 0.4744\n",
      "Epoch 67/100\n",
      "31/31 [==============================] - 3s 84ms/step - loss: 0.0977 - categorical_accuracy: 0.8249 - f1_with_tfa: 0.4633 - val_loss: 0.1069 - val_categorical_accuracy: 0.7903 - val_f1_with_tfa: 0.4884\n",
      "Epoch 68/100\n",
      "31/31 [==============================] - 3s 84ms/step - loss: 0.0951 - categorical_accuracy: 0.8320 - f1_with_tfa: 0.4671 - val_loss: 0.1058 - val_categorical_accuracy: 0.7975 - val_f1_with_tfa: 0.4850\n",
      "Epoch 69/100\n",
      "31/31 [==============================] - 3s 85ms/step - loss: 0.0956 - categorical_accuracy: 0.8308 - f1_with_tfa: 0.4644 - val_loss: 0.1073 - val_categorical_accuracy: 0.7898 - val_f1_with_tfa: 0.4818\n",
      "Epoch 70/100\n",
      "31/31 [==============================] - 3s 85ms/step - loss: 0.0965 - categorical_accuracy: 0.8277 - f1_with_tfa: 0.4636 - val_loss: 0.1061 - val_categorical_accuracy: 0.7920 - val_f1_with_tfa: 0.4883\n",
      "Epoch 71/100\n",
      "31/31 [==============================] - 3s 85ms/step - loss: 0.0956 - categorical_accuracy: 0.8294 - f1_with_tfa: 0.4666 - val_loss: 0.1086 - val_categorical_accuracy: 0.7841 - val_f1_with_tfa: 0.4808\n"
     ]
    }
   ],
   "source": [
    "# fourth model    \n",
    "layers_info_bilstm_two_dense = [\n",
    "    {\n",
    "        \"layer_name\": layers.Masking,\n",
    "        \"name\": \"padding_masking\",\n",
    "        \"mask_value\": 0.,\n",
    "        \"input_shape\": X_train.shape[1:]\n",
    "    },\n",
    "    {\n",
    "        'layer_name': layers.Bidirectional,\n",
    "        \"layer\": layers.LSTM(best_hps_bilstm_two_dense.get('units1'), return_sequences=True, kernel_regularizer=keras.regularizers.l2(0.01)),\n",
    "        \"name\": \"bilstm_1\",\n",
    "    },\n",
    "    {\n",
    "        \"layer_name\": layers.Dropout,\n",
    "        \"rate\": best_hps_bilstm_two_dense.get('dropout1'),\n",
    "        \"name\": \"dropout_1\"\n",
    "    },\n",
    "    {\n",
    "        \"layer_name\": layers.Dense,\n",
    "        \"units\": best_hps_bilstm_two_dense.get('units2'),\n",
    "        \"activation\": \"relu\",\n",
    "        \"kernel_regularizer\": keras.regularizers.l2(0.01),\n",
    "        \"name\": \"dense_1\"\n",
    "    },\n",
    "    {\n",
    "        \"layer_name\": layers.Dropout,\n",
    "        \"rate\": best_hps_bilstm_two_dense.get('dropout2'),\n",
    "        \"name\": \"dropout_2\"\n",
    "    },\n",
    "    {\n",
    "        \"layer_name\": layers.Dense,\n",
    "        \"units\": n_classes,\n",
    "        \"activation\": \"softmax\",\n",
    "        \"name\": \"dense_2\"\n",
    "    }\n",
    "]\n",
    "\n",
    "compile_info_bilstm_two_dense = {\n",
    "    'optimizer': keras.optimizers.Adam(learning_rate=best_hps_bilstm_two_dense.get('learning_rate')),\n",
    "    'loss': 'categorical_crossentropy',\n",
    "    'metrics' : ['categorical_accuracy', f1_with_tfa]\n",
    "}\n",
    "\n",
    "model_bilstm_two_dense = create_model(layers_info_bilstm_two_dense, compile_info_bilstm_two_dense)\n",
    "model_bilstm_two_dense.summary()\n",
    "\n",
    "# start training\n",
    "history_bilstm_two_dense = model_bilstm_two_dense.fit(X_train, y_train, epochs=epochs_training, batch_size=batch_size_training, validation_data=(X_dev, y_dev), callbacks=callbacks_training)"
   ]
  },
  {
   "cell_type": "markdown",
   "metadata": {
    "id": "2NnTW1ct3ZUP"
   },
   "source": [
    "#### 2.3.1 Store or load all the trained models"
   ]
  },
  {
   "cell_type": "markdown",
   "metadata": {
    "id": "A29NOAda3ZUP"
   },
   "source": [
    "Store weights and history"
   ]
  },
  {
   "cell_type": "code",
   "execution_count": 25,
   "metadata": {
    "id": "Rp38wlcW3ZUP"
   },
   "outputs": [],
   "source": [
    "# store models weights\n",
    "path_model_weights = os.path.join(os.getcwd(), 'models_f1', 'weights')\n",
    "model_bilstm.save_weights(os.path.join(path_model_weights, 'weights_bilstm.h5'))\n",
    "model_bigru.save_weights(os.path.join(path_model_weights, 'weights_bigru.h5'))\n",
    "model_two_bilstm.save_weights(os.path.join(path_model_weights, 'weights_two_bilstm.h5'))\n",
    "model_bilstm_two_dense.save_weights(os.path.join(path_model_weights, 'weights_bilstm_two_dense.h5'))"
   ]
  },
  {
   "cell_type": "code",
   "execution_count": 26,
   "metadata": {
    "id": "GiLuH0Px3ZUQ"
   },
   "outputs": [],
   "source": [
    "# convert the history.history dict to a pandas DataFrame: \n",
    "path_model_weights = os.path.join(os.getcwd(), 'models_f1', 'history')\n",
    "    \n",
    "df_history_bilstm = pd.DataFrame(history_bilstm.history) \n",
    "with open(os.path.join(path_model_weights, \"history_bilstm.csv\"), mode=\"w\") as file:\n",
    "    df_history_bilstm.to_csv(file)\n",
    "\n",
    "df_history_bigru = pd.DataFrame(history_bigru.history)\n",
    "with open(os.path.join(path_model_weights, \"history_bigru.csv\"), mode=\"w\") as file:\n",
    "    df_history_bigru.to_csv(file)\n",
    "\n",
    "df_history_two_bilstm = pd.DataFrame(history_two_bilstm.history)\n",
    "with open(os.path.join(path_model_weights, \"history_two_bilstm.csv\"), mode=\"w\") as file:\n",
    "    df_history_two_bilstm.to_csv(file)\n",
    "\n",
    "df_history_bilstm_two_dense = pd.DataFrame(history_bilstm_two_dense.history)\n",
    "with open(os.path.join(path_model_weights, \"history_bilstm_two_dense.csv\"), mode=\"w\") as file:\n",
    "    df_history_bilstm_two_dense.to_csv(file)"
   ]
  },
  {
   "cell_type": "code",
   "execution_count": 36,
   "metadata": {},
   "outputs": [],
   "source": [
    "# serialize models to JSON\n",
    "path_model_structure = os.path.join(os.getcwd(), 'models_f1', 'structure')\n",
    "\n",
    "model_bilstm_json = model_bilstm.to_json()\n",
    "with open(os.path.join(path_model_structure, \"model_bilstm.json\"), \"w\") as json_file:\n",
    "    json_file.write(model_bilstm_json)\n",
    "\n",
    "model_bigru_json = model_bigru.to_json()\n",
    "with open(os.path.join(path_model_structure, \"model_bigru.json\"), \"w\") as json_file:\n",
    "    json_file.write(model_bigru_json)\n",
    "\n",
    "model_two_bilstm_json = model_two_bilstm.to_json()\n",
    "with open(os.path.join(path_model_structure, \"model_two_bilstm.json\"), \"w\") as json_file:\n",
    "    json_file.write(model_two_bilstm_json)\n",
    "\n",
    "model_bilstm_two_dense = model_bilstm_two_dense.to_json()\n",
    "with open(os.path.join(path_model_structure, \"model_bilstm_two_dense.json\"), \"w\") as json_file:\n",
    "    json_file.write(model_bilstm_two_dense)"
   ]
  },
  {
   "cell_type": "markdown",
   "metadata": {
    "id": "qQy5JgGT3ZUQ"
   },
   "source": [
    "Read structure and weights"
   ]
  },
  {
   "cell_type": "code",
   "execution_count": 38,
   "metadata": {},
   "outputs": [],
   "source": [
    "from tensorflow.keras.models import model_from_json\n",
    "\n",
    "# serialize models to JSON\n",
    "path_model_structure = os.path.join(os.getcwd(), 'models_f1', 'structure')\n",
    "\n",
    "with open(os.path.join(path_model_structure, \"model_bilstm.json\"), \"r\") as json_file:\n",
    "    model_bilstm_json = json_file.read()\n",
    "    model_bilstm = model_from_json(model_bilstm_json)\n",
    "\n",
    "with open(os.path.join(path_model_structure, \"model_bigru.json\"), \"r\") as json_file:\n",
    "    model_bigru_json = json_file.read()\n",
    "    model_bigru = model_from_json(model_bigru_json)\n",
    "\n",
    "with open(os.path.join(path_model_structure, \"model_two_bilstm.json\"), \"r\") as json_file:\n",
    "    model_two_bilstm_json = json_file.read()\n",
    "    model_two_bilstm = model_from_json(model_two_bilstm_json)\n",
    "\n",
    "with open(os.path.join(path_model_structure, \"model_bilstm_two_dense.json\"), \"r\") as json_file:\n",
    "    model_bilstm_two_dense_json = json_file.read()\n",
    "    model_bilstm_two_dense = model_from_json(model_bilstm_two_dense_json)"
   ]
  },
  {
   "cell_type": "code",
   "execution_count": 39,
   "metadata": {
    "id": "_puUbUNv3ZUQ"
   },
   "outputs": [],
   "source": [
    "# Restore the weights\n",
    "path_model_weights = os.path.join(os.getcwd(), 'models_f1', 'weights')\n",
    "model_bilstm.load_weights(os.path.join(path_model_weights, 'weights_bilstm.h5'))\n",
    "model_bigru.load_weights(os.path.join(path_model_weights, 'weights_bigru.h5'))\n",
    "model_two_bilstm.load_weights(os.path.join(path_model_weights, 'weights_two_bilstm.h5'))\n",
    "model_bilstm_two_dense.load_weights(os.path.join(path_model_weights, 'weights_bilstm_two_dense.h5'))"
   ]
  },
  {
   "cell_type": "markdown",
   "metadata": {
    "id": "ab9ETsbC2Q82"
   },
   "source": [
    "### 2.4 History of the training\n",
    "Plot metrics evolution for each epoch during the training"
   ]
  },
  {
   "cell_type": "code",
   "execution_count": 40,
   "metadata": {
    "id": "25YBLK3E2R6m"
   },
   "outputs": [],
   "source": [
    "def plot_history(models_history, keys, model_names=[], labels=(\"epochs\", \"metrics\"), figsize=(10,5), cmap='rainbow'):\n",
    "    \"\"\"\n",
    "    Plot the history of the metrics in the history dictionary for each model.\n",
    "        :param models_history: array of dictionary of the metric history for each model\n",
    "        :param keys: list of keys of the metrics to plot\n",
    "        :param model_names: list of names of the models\n",
    "        :param labels: list of labels of the axes\n",
    "        :param figsize: size of the figure\n",
    "        :param cmap: color map used for the plot\n",
    "    \"\"\"\n",
    "\n",
    "    # maps each model to a distinct RGB color\n",
    "    cmap = plt.cm.get_cmap(cmap, len(models_history))\n",
    "\n",
    "    \n",
    "    fig = plt.figure(figsize=figsize)\n",
    "\n",
    "    # for each model trained\n",
    "    for i, history in enumerate(models_history):\n",
    "        # take all pairs of training and val metrics\n",
    "        for j in range(0, len(keys), 2):\n",
    "            metric, val_metric = keys[j], keys[j+1]\n",
    "            \n",
    "            plt.plot(history[metric], label=f\"{model_names[i]} {metric}\", linestyle=\"solid\", color=cmap(i))\n",
    "            plt.plot(history[val_metric],  label=f\"{model_names[i]} {val_metric}\", linestyle=\"--\",  color=cmap(i))\n",
    "        \n",
    "    plt.xlabel(labels[0])\n",
    "    plt.ylabel(labels[1])\n",
    "\n",
    "    # Adding legend\n",
    "    plt.legend(\n",
    "          title =\"Legend\",\n",
    "          loc =\"upper left\",\n",
    "          bbox_to_anchor =(1.0, 0, 0.5, 1))\n",
    "    plt.title(\"Training history\")\n",
    "    plt.grid(linestyle='--', linewidth=1)\n",
    "    plt.show()"
   ]
  },
  {
   "cell_type": "code",
   "execution_count": 41,
   "metadata": {
    "id": "Ca9TMoj42VgT"
   },
   "outputs": [
    {
     "data": {
      "image/png": "[encoded data removed]",
      "text/plain": [
       "<Figure size 1080x504 with 1 Axes>"
      ]
     },
     "metadata": {
      "needs_background": "light"
     },
     "output_type": "display_data"
    },
    {
     "data": {
      "image/png": "[encoded data removed]",
      "text/plain": [
       "<Figure size 1080x504 with 1 Axes>"
      ]
     },
     "metadata": {
      "needs_background": "light"
     },
     "output_type": "display_data"
    }
   ],
   "source": [
    "models_history = [history_bilstm.history, history_bigru.history, history_two_bilstm.history, history_bilstm_two_dense.history]\n",
    "model_names = [\"BiLSTM\", \"BiGRU\", \"2 BiLSTM\", \"BiLSTM + 2 Dense\"]\n",
    "plot_history(models_history, keys=['loss', 'val_loss'], model_names=model_names, labels=(\"epochs\", \"loss\"), figsize=(15,7),  cmap='bwr')\n",
    "plot_history(models_history, keys=['f1_with_tfa', 'val_f1_with_tfa'], model_names=model_names, labels=(\"epochs\", \"f1 score\"), figsize=(15,7),  cmap='bwr')"
   ]
  },
  {
   "cell_type": "markdown",
   "metadata": {
    "id": "ZmIWLatvkqzt"
   },
   "source": [
    "## 3. Evaluation"
   ]
  },
  {
   "cell_type": "code",
   "execution_count": 42,
   "metadata": {
    "collapsed": false,
    "pycharm": {
     "name": "#%%\n"
    }
   },
   "outputs": [],
   "source": [
    "def adapt_output_for_evaluation(y_true, y_pred):\n",
    "  \"\"\"\n",
    "  given true outputs and predicted ones, this function returns\n",
    "  both of them in 1D and as classes and not probability distributions\n",
    "  \"\"\"\n",
    "  len_sentence = y_pred.shape[1]\n",
    "  num_sentences = y_pred.shape[0]\n",
    "  pred_val = np.empty((num_sentences, len_sentence))\n",
    "  true_val = np.empty((num_sentences, len_sentence))\n",
    "  # assign label with the highest probability\n",
    "  for i in range(num_sentences):\n",
    "      for j in range(len_sentence):\n",
    "          pred_val[i,j] = np.argmax(y_pred[i,j,:])\n",
    "          true_val[i,j] = np.argmax(y_true[i,j,:])\n",
    "  # flatten the numpy array to have a 1D array\n",
    "  true_val = true_val.flatten()\n",
    "  pred_val = pred_val.flatten()\n",
    "  return true_val, pred_val"
   ]
  },
  {
   "cell_type": "code",
   "execution_count": 43,
   "metadata": {
    "collapsed": false,
    "pycharm": {
     "name": "#%%\n"
    }
   },
   "outputs": [],
   "source": [
    "def show_classification_report(model, X_test, y_test, labels, names, sorted_by=None, ascending=True):\n",
    "  \"\"\"\n",
    "  Show classification report using only classes in names\n",
    "  \"\"\"\n",
    "  raw_y_true = np.array(y_test)\n",
    "  raw_y_pred = model.predict(X_test)\n",
    "  y_true, y_pred = adapt_output_for_evaluation(raw_y_true, raw_y_pred)\n",
    "  dictionary =  classification_report(y_true, y_pred, labels=labels, target_names=names, output_dict=True, zero_division=0)\n",
    "  # global performance\n",
    "  keys = ['weighted avg', 'micro avg', 'macro avg']\n",
    "  global_dict = {key: dictionary[key] for key in keys}\n",
    "  for key in keys:\n",
    "    del dictionary[key]\n",
    "\n",
    "  df = pd.DataFrame.from_dict(dictionary).transpose().round(2)\n",
    "  if sorted_by:\n",
    "    df.sort_values(by=sorted_by, ascending=ascending, inplace=True)\n",
    "  print(df)\n",
    "\n",
    "  print(\"\\n\\n\")\n",
    "\n",
    "  df_glob = pd.DataFrame.from_dict(global_dict).transpose().round(2)\n",
    "  print(df_glob)"
   ]
  },
  {
   "cell_type": "code",
   "execution_count": 44,
   "metadata": {
    "id": "Q71LkwAPkqzt"
   },
   "outputs": [],
   "source": [
    "def evaluate_model(model, X_test, y_test, labels):\n",
    "    \"\"\"\n",
    "    given a trained model and a test set returns the f-score and the confusion matrix\n",
    "    taking into account only classes in labels\n",
    "    \"\"\"\n",
    "    raw_y_true = np.array(y_test)\n",
    "    raw_y_pred = model.predict(X_test)\n",
    "    y_true, y_pred = adapt_output_for_evaluation(raw_y_true, raw_y_pred)\n",
    "    # show confusion matrix\n",
    "    conf_matrix = confusion_matrix(y_true, y_pred, labels=labels)\n",
    "    disp = ConfusionMatrixDisplay(conf_matrix)\n",
    "    fig, ax = plt.subplots(figsize=(10,10))\n",
    "    disp.plot(ax=ax)\n",
    "    # f1 score\n",
    "    print(\"F score:\\n-------------------------------\\n\")\n",
    "    print(sklearn.metrics.f1_score(y_true, y_pred, labels=labels, average='macro', zero_division=0))"
   ]
  },
  {
   "cell_type": "code",
   "execution_count": 45,
   "metadata": {
    "id": "ua2c1KdCkqzt"
   },
   "outputs": [
    {
     "name": "stdout",
     "output_type": "stream",
     "text": [
      "F score:\n",
      "-------------------------------\n",
      "\n",
      "0.6153355420244185\n"
     ]
    },
    {
     "data": {
      "image/png": "[encoded data removed]",
      "text/plain": [
       "<Figure size 720x720 with 2 Axes>"
      ]
     },
     "metadata": {
      "needs_background": "light"
     },
     "output_type": "display_data"
    }
   ],
   "source": [
    "punctuation_indexes = [0, 1, 2, 3, 4, 5, 6, 7, 16, 30, 43]\n",
    "classes = target_vectorizer.get_classes()\n",
    "valid_labels = list(set(range(len(classes))) - set(punctuation_indexes))\n",
    "\n",
    "# confusion matrix and global f1 score\n",
    "evaluate_model(model_bilstm, X_test, y_test, valid_labels)"
   ]
  },
  {
   "cell_type": "code",
   "execution_count": 34,
   "metadata": {
    "collapsed": false,
    "pycharm": {
     "name": "#%%\n"
    }
   },
   "outputs": [
    {
     "name": "stdout",
     "output_type": "stream",
     "text": [
      "      precision  recall  f1-score  support\n",
      "TO         1.00    1.00      1.00    560.0\n",
      "``         1.00    0.98      0.99     98.0\n",
      "PRP$       0.99    0.98      0.98    148.0\n",
      "CC         0.97    0.96      0.97    541.0\n",
      "POS        1.00    0.94      0.97    244.0\n",
      "MD         0.98    0.95      0.96    245.0\n",
      "DT         0.94    0.97      0.96   1988.0\n",
      "IN         0.95    0.93      0.94   2460.0\n",
      "VB         0.88    0.92      0.90    602.0\n",
      "CD         0.93    0.86      0.89   1271.0\n",
      "PRP        0.95    0.84      0.89    265.0\n",
      "VBZ        0.88    0.89      0.88    390.0\n",
      "WDT        0.80    0.93      0.86    124.0\n",
      "VBD        0.83    0.88      0.86    964.0\n",
      "EX         0.79    0.79      0.79     14.0\n",
      "NNP        0.72    0.85      0.78   2225.0\n",
      "VBP        0.82    0.74      0.78    196.0\n",
      "NNS        0.73    0.83      0.78   1452.0\n",
      "NN         0.81    0.74      0.77   3563.0\n",
      "JJ         0.64    0.68      0.66   1405.0\n",
      "VBN        0.76    0.59      0.66    548.0\n",
      "RB         0.53    0.67      0.59    599.0\n",
      "VBG        0.80    0.39      0.53    321.0\n",
      "JJR        0.56    0.50      0.53    109.0\n",
      "WP         0.79    0.37      0.50     30.0\n",
      "RBS        1.00    0.17      0.29      6.0\n",
      "RBR        0.18    0.21      0.20     19.0\n",
      "NNPS       0.20    0.01      0.02     83.0\n",
      "SYM        0.00    0.00      0.00      0.0\n",
      "UH         0.00    0.00      0.00      0.0\n",
      "LS         0.00    0.00      0.00      0.0\n",
      "FW         0.00    0.00      0.00      0.0\n",
      "WP$        0.00    0.00      0.00      5.0\n",
      "PDT        0.00    0.00      0.00      9.0\n",
      "\n",
      "\n",
      "\n",
      "              precision  recall  f1-score  support\n",
      "weighted avg       0.83    0.83      0.82  20484.0\n",
      "micro avg          0.82    0.83      0.83  20484.0\n",
      "macro avg          0.66    0.60      0.62  20484.0\n"
     ]
    }
   ],
   "source": [
    "# classification report using only meaningful classes\n",
    "meaningful_classes = classes[valid_labels]\n",
    "show_classification_report(model_bilstm, X_test, y_test, valid_labels, meaningful_classes, sorted_by=['f1-score'], ascending=False)"
   ]
  },
  {
   "cell_type": "code",
   "execution_count": 35,
   "metadata": {
    "id": "sFaG0yb4kqzu"
   },
   "outputs": [
    {
     "name": "stdout",
     "output_type": "stream",
     "text": [
      "Original POS tagging:  ['IN' 'DT' 'CD' 'IN' 'CD' ',' 'DT' 'CD' 'CD' 'NNS' 'VBD' 'DT' 'JJ' 'NN'\n",
      " 'NN' '-LRB-' 'NNP' '-RRB-' 'TO' 'VB' 'NNS' 'CC' 'NN' 'NN' '.']\n",
      "Predicted POS tagging:  ['IN' 'DT' 'VBN' 'IN' 'NNP' ',' 'DT' 'CD' 'NNS' 'NNS' 'VBD' 'DT' 'JJ' 'NN'\n",
      " 'NNP' '-LRB-' 'NNP' '-RRB-' 'TO' 'VB' 'CD' 'CC' 'JJ' 'NN' '.']\n"
     ]
    }
   ],
   "source": [
    "i_test = 2  # change this to see the prediction for a different sentence\n",
    "\n",
    "print(\"Original POS tagging: \",target_vectorizer.inverse_transform([y_test[i_test]])[0])\n",
    "\n",
    "raw_y_pred = model_bilstm.predict(np.array([X_test[i_test]]))\n",
    "# shape of the output is doc x len_sen x classes\n",
    "# argmax for label predictions\n",
    "\n",
    "print(\"Predicted POS tagging: \",target_vectorizer.inverse_transform_probabilities(raw_y_pred)[0])"
   ]
  }
 ],
 "metadata": {
  "accelerator": "GPU",
  "colab": {
   "collapsed_sections": [],
   "include_colab_link": true,
   "name": "Copy of POS_tagging.ipynb",
   "provenance": []
  },
  "interpreter": {
   "hash": "63e28586807c6502c782d898cf9a0cc5787bb3d77952b17b51ec8bdcd4044a3d"
  },
  "kernelspec": {
   "display_name": "Python 3",
   "language": "python",
   "name": "python3"
  },
  "language_info": {
   "codemirror_mode": {
    "name": "ipython",
    "version": 3
   },
   "file_extension": ".py",
   "mimetype": "text/x-python",
   "name": "python",
   "nbconvert_exporter": "python",
   "pygments_lexer": "ipython3",
   "version": "3.9.7"
  }
 },
 "nbformat": 4,
 "nbformat_minor": 0
}
